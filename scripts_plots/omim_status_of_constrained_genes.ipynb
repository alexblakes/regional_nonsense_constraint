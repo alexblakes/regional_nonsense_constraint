{
 "cells": [
  {
   "cell_type": "code",
   "execution_count": 1,
   "id": "6f1a09c8-7763-4625-805c-550b2e80e8fe",
   "metadata": {
    "tags": []
   },
   "outputs": [],
   "source": [
    "import numpy as np\n",
    "import pandas as pd\n",
    "import matplotlib.pyplot as plt\n",
    "import seaborn as sns"
   ]
  },
  {
   "cell_type": "code",
   "execution_count": 2,
   "id": "9128cc19-efbb-4b2a-952b-51897928ea42",
   "metadata": {
    "tags": []
   },
   "outputs": [],
   "source": [
    "sns.set_context(\"talk\")"
   ]
  },
  {
   "cell_type": "markdown",
   "id": "61cb6e8c-875b-487c-9695-527ddae3441f",
   "metadata": {},
   "source": [
    "## Summary statistics"
   ]
  },
  {
   "cell_type": "code",
   "execution_count": 6,
   "id": "435cff44-3f60-438d-bfd3-38e1ef534d67",
   "metadata": {
    "tags": []
   },
   "outputs": [],
   "source": [
    "# Read data\n",
    "df = pd.read_csv(\"../outputs/omim_phenotypes_in_constrained_regions.tsv\", sep=\"\\t\")\n",
    "\n",
    "# Convert phenotypes to bool\n",
    "df[\"phenotype\"] = df[\"phenotype\"].fillna(False)\n",
    "df.loc[df[\"phenotype\"] != False, \"phenotype\"] = True"
   ]
  },
  {
   "cell_type": "markdown",
   "id": "9b74eaf1-2207-4ff3-a927-a426332842ef",
   "metadata": {},
   "source": [
    "## Fraction of genes which are OMIM morbid"
   ]
  },
  {
   "cell_type": "code",
   "execution_count": 23,
   "id": "a65c8ae9-eae2-4664-aba9-6036a43e7aba",
   "metadata": {
    "tags": []
   },
   "outputs": [],
   "source": [
    "_a = df.groupby(\"constraint\")[\"phenotype\"].value_counts(normalize=True)\n",
    "_b = df.groupby([\"constraint\", \"phenotype\"])[\"inheritance\"].value_counts(normalize=True)\n",
    "\n",
    "df1 = (_a * _b).dropna().rename(\"abs_proportion\").reset_index(drop=False)"
   ]
  },
  {
   "cell_type": "code",
   "execution_count": null,
   "id": "6f754e8e-e725-436c-b55e-8a5cb1e977db",
   "metadata": {},
   "outputs": [],
   "source": []
  }
 ],
 "metadata": {
  "kernelspec": {
   "display_name": "Python [conda env:ukb]",
   "language": "python",
   "name": "conda-env-ukb-py"
  },
  "language_info": {
   "codemirror_mode": {
    "name": "ipython",
    "version": 3
   },
   "file_extension": ".py",
   "mimetype": "text/x-python",
   "name": "python",
   "nbconvert_exporter": "python",
   "pygments_lexer": "ipython3",
   "version": "3.8.16"
  }
 },
 "nbformat": 4,
 "nbformat_minor": 5
}
