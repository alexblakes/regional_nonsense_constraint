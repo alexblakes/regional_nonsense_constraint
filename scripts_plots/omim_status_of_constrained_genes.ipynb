{
 "cells": [
  {
   "cell_type": "markdown",
   "id": "3b6abaa0-5849-420e-9f09-b866faf81026",
   "metadata": {},
   "source": [
    "# OMIM phenotypes and inheritance modes of constrained genes\n",
    "Plot the proportion of genes which are associated with an OMIM morbid phenotype. The plot is stratified by region, constraint, and inheritance pattern. \n",
    "\n",
    "Note:\n",
    "- Where a gene is associated with a phenotype or phenotypes with more than one mode of inheritance, it is double-counted. I.e. it is counted separately in each inheritance group."
   ]
  },
  {
   "cell_type": "markdown",
   "id": "13dde43e-340f-4dc4-958f-02a867a819df",
   "metadata": {},
   "source": [
    "## Imports"
   ]
  },
  {
   "cell_type": "code",
   "execution_count": 1,
   "id": "6f1a09c8-7763-4625-805c-550b2e80e8fe",
   "metadata": {
    "tags": []
   },
   "outputs": [],
   "source": [
    "import numpy as np\n",
    "import pandas as pd\n",
    "import matplotlib.pyplot as plt\n",
    "import seaborn as sns"
   ]
  },
  {
   "cell_type": "markdown",
   "id": "96a349df-8a6e-40d0-b281-ea8b130b0c6b",
   "metadata": {},
   "source": [
    "## Plot colours and themes"
   ]
  },
  {
   "cell_type": "code",
   "execution_count": 2,
   "id": "9128cc19-efbb-4b2a-952b-51897928ea42",
   "metadata": {
    "tags": []
   },
   "outputs": [],
   "source": [
    "sns.set_context(\"talk\")"
   ]
  },
  {
   "cell_type": "code",
   "execution_count": 3,
   "id": "c13d87ba-d0eb-4fb8-97ac-ed56b580e29d",
   "metadata": {
    "tags": []
   },
   "outputs": [
    {
     "data": {
      "text/html": [
       "<svg  width=\"550\" height=\"55\"><rect x=\"0\" y=\"0\" width=\"55\" height=\"55\" style=\"fill:#0173b2;stroke-width:2;stroke:rgb(255,255,255)\"/><rect x=\"55\" y=\"0\" width=\"55\" height=\"55\" style=\"fill:#de8f05;stroke-width:2;stroke:rgb(255,255,255)\"/><rect x=\"110\" y=\"0\" width=\"55\" height=\"55\" style=\"fill:#029e73;stroke-width:2;stroke:rgb(255,255,255)\"/><rect x=\"165\" y=\"0\" width=\"55\" height=\"55\" style=\"fill:#d55e00;stroke-width:2;stroke:rgb(255,255,255)\"/><rect x=\"220\" y=\"0\" width=\"55\" height=\"55\" style=\"fill:#cc78bc;stroke-width:2;stroke:rgb(255,255,255)\"/><rect x=\"275\" y=\"0\" width=\"55\" height=\"55\" style=\"fill:#ca9161;stroke-width:2;stroke:rgb(255,255,255)\"/><rect x=\"330\" y=\"0\" width=\"55\" height=\"55\" style=\"fill:#fbafe4;stroke-width:2;stroke:rgb(255,255,255)\"/><rect x=\"385\" y=\"0\" width=\"55\" height=\"55\" style=\"fill:#949494;stroke-width:2;stroke:rgb(255,255,255)\"/><rect x=\"440\" y=\"0\" width=\"55\" height=\"55\" style=\"fill:#ece133;stroke-width:2;stroke:rgb(255,255,255)\"/><rect x=\"495\" y=\"0\" width=\"55\" height=\"55\" style=\"fill:#56b4e9;stroke-width:2;stroke:rgb(255,255,255)\"/></svg>"
      ],
      "text/plain": [
       "[(0.00392156862745098, 0.45098039215686275, 0.6980392156862745),\n",
       " (0.8705882352941177, 0.5607843137254902, 0.0196078431372549),\n",
       " (0.00784313725490196, 0.6196078431372549, 0.45098039215686275),\n",
       " (0.8352941176470589, 0.3686274509803922, 0.0),\n",
       " (0.8, 0.47058823529411764, 0.7372549019607844),\n",
       " (0.792156862745098, 0.5686274509803921, 0.3803921568627451),\n",
       " (0.984313725490196, 0.6862745098039216, 0.8941176470588236),\n",
       " (0.5803921568627451, 0.5803921568627451, 0.5803921568627451),\n",
       " (0.9254901960784314, 0.8823529411764706, 0.2),\n",
       " (0.33725490196078434, 0.7058823529411765, 0.9137254901960784)]"
      ]
     },
     "execution_count": 3,
     "metadata": {},
     "output_type": "execute_result"
    }
   ],
   "source": [
    "# Choose the colorblind palette\n",
    "sns.color_palette(\"colorblind\")"
   ]
  },
  {
   "cell_type": "code",
   "execution_count": 4,
   "id": "15d6ba7a-4781-4203-9f20-c5847a8d5446",
   "metadata": {
    "tags": []
   },
   "outputs": [],
   "source": [
    "col = sns.color_palette(\"colorblind\").as_hex()"
   ]
  },
  {
   "cell_type": "markdown",
   "id": "61cb6e8c-875b-487c-9695-527ddae3441f",
   "metadata": {},
   "source": [
    "## Data formatting\n",
    "Reformat the OMIM / constraint annotations so that they are more suitable for plotting"
   ]
  },
  {
   "cell_type": "code",
   "execution_count": 5,
   "id": "435cff44-3f60-438d-bfd3-38e1ef534d67",
   "metadata": {
    "tags": []
   },
   "outputs": [
    {
     "name": "stdout",
     "output_type": "stream",
     "text": [
      "Region value counts:\n",
      "transcript    12673\n",
      "distal_nmd    12070\n",
      "nmd_target     9912\n",
      "long_exon      1962\n",
      "Name: region, dtype: int64\n"
     ]
    }
   ],
   "source": [
    "# Read data\n",
    "df = pd.read_csv(\"../outputs/omim_phenotypes_in_constrained_regions.tsv\", sep=\"\\t\")\n",
    "\n",
    "# Individual phenotypes are converted to True (present) or False (absent)\n",
    "df[\"phenotype\"] = df[\"phenotype\"].fillna(False)\n",
    "df.loc[df[\"phenotype\"] != False, \"phenotype\"] = True\n",
    "\n",
    "# Limit to relevant columns\n",
    "df = df[[\"ensg\", \"region\", \"constraint\", \"phenotype\", \"inheritance\"]]\n",
    "\n",
    "# Drop duplicates\n",
    "df = df.drop_duplicates()\n",
    "\n",
    "# Exclude start-proximal regions, which are uninformative\n",
    "df = df[df[\"region\"] != \"start_proximal\"]\n",
    "\n",
    "print(\"Region value counts:\")\n",
    "print(df.region.value_counts())"
   ]
  },
  {
   "cell_type": "markdown",
   "id": "9b74eaf1-2207-4ff3-a927-a426332842ef",
   "metadata": {},
   "source": [
    "## Summary statistics\n",
    "Calculate the summary statistics necessary for the plot.\n",
    "- The absolute proportion of genes in each constraint category which are in OMIM, with a given inheritance mode.\n",
    "- The number of genes in each constraint category"
   ]
  },
  {
   "cell_type": "markdown",
   "id": "c41b4a6e-3849-4872-8541-8f1f0e658173",
   "metadata": {},
   "source": [
    "### Format data"
   ]
  },
  {
   "cell_type": "code",
   "execution_count": 6,
   "id": "a65c8ae9-eae2-4664-aba9-6036a43e7aba",
   "metadata": {
    "tags": []
   },
   "outputs": [
    {
     "name": "stdout",
     "output_type": "stream",
     "text": [
      "Show a sample of the data:\n"
     ]
    },
    {
     "data": {
      "text/html": [
       "<div>\n",
       "<style scoped>\n",
       "    .dataframe tbody tr th:only-of-type {\n",
       "        vertical-align: middle;\n",
       "    }\n",
       "\n",
       "    .dataframe tbody tr th {\n",
       "        vertical-align: top;\n",
       "    }\n",
       "\n",
       "    .dataframe thead th {\n",
       "        text-align: right;\n",
       "    }\n",
       "</style>\n",
       "<table border=\"1\" class=\"dataframe\">\n",
       "  <thead>\n",
       "    <tr style=\"text-align: right;\">\n",
       "      <th></th>\n",
       "      <th>constraint</th>\n",
       "      <th>region</th>\n",
       "      <th>phenotype</th>\n",
       "      <th>inheritance</th>\n",
       "      <th>abs_proportion</th>\n",
       "      <th>n</th>\n",
       "    </tr>\n",
       "  </thead>\n",
       "  <tbody>\n",
       "    <tr>\n",
       "      <th>19</th>\n",
       "      <td>Unconstrained</td>\n",
       "      <td>Distal</td>\n",
       "      <td>True</td>\n",
       "      <td>Other</td>\n",
       "      <td>0.002347</td>\n",
       "      <td>11233</td>\n",
       "    </tr>\n",
       "    <tr>\n",
       "      <th>1</th>\n",
       "      <td>Constrained</td>\n",
       "      <td>Distal</td>\n",
       "      <td>True</td>\n",
       "      <td>Autosomal recessive</td>\n",
       "      <td>0.072310</td>\n",
       "      <td>548</td>\n",
       "    </tr>\n",
       "    <tr>\n",
       "      <th>14</th>\n",
       "      <td>Constrained</td>\n",
       "      <td>Transcript</td>\n",
       "      <td>True</td>\n",
       "      <td>Other</td>\n",
       "      <td>0.004103</td>\n",
       "      <td>3538</td>\n",
       "    </tr>\n",
       "  </tbody>\n",
       "</table>\n",
       "</div>"
      ],
      "text/plain": [
       "       constraint      region  phenotype          inheritance  abs_proportion  \\\n",
       "19  Unconstrained      Distal       True                Other        0.002347   \n",
       "1     Constrained      Distal       True  Autosomal recessive        0.072310   \n",
       "14    Constrained  Transcript       True                Other        0.004103   \n",
       "\n",
       "        n  \n",
       "19  11233  \n",
       "1     548  \n",
       "14   3538  "
      ]
     },
     "execution_count": 6,
     "metadata": {},
     "output_type": "execute_result"
    }
   ],
   "source": [
    "# Proportion of constrained genes with a phenotype\n",
    "_a = df.groupby([\"constraint\", \"region\"])[\"phenotype\"].value_counts(normalize=True)\n",
    "\n",
    "# Inheritance mode for genes with a phenotype\n",
    "_b = df.groupby([\"constraint\", \"region\", \"phenotype\"])[\"inheritance\"].value_counts(\n",
    "    normalize=True\n",
    ")\n",
    "\n",
    "# Get the absolute proportion for each inheritance mode\n",
    "df1 = (_a * _b).dropna().rename(\"abs_proportion\")\n",
    "\n",
    "# Number of unique genes in each region / constraint category\n",
    "_c = df.groupby([\"region\", \"constraint\"])[\"ensg\"].nunique().rename(\"n\")\n",
    "\n",
    "# Combine absolute proportions and gene counts\n",
    "df1 = df1.to_frame()  # Allows merging\n",
    "df1 = df1.merge(_c, left_index=True, right_index=True)  # Add gene counts\n",
    "df1 = df1.reset_index(drop=False)\n",
    "\n",
    "# Clean label text\n",
    "df1 = df1.replace(\n",
    "    {\n",
    "        \"constrained\": \"Constrained\",\n",
    "        \"unconstrained\": \"Unconstrained\",\n",
    "        \"distal_nmd\": \"Distal\",\n",
    "        \"long_exon\": \"Long exon\",\n",
    "        \"nmd_target\": \"NMD target\",\n",
    "        \"transcript\": \"Transcript\",\n",
    "    }\n",
    ")\n",
    "\n",
    "# Show a sample of the data:\n",
    "print(\"Show a sample of the data:\")\n",
    "df1.sample(3)"
   ]
  },
  {
   "cell_type": "markdown",
   "id": "0de716c9-9622-4162-96e8-16af538861f9",
   "metadata": {},
   "source": [
    "Genes associated with >1 mode of inheritance are double-counted."
   ]
  },
  {
   "cell_type": "markdown",
   "id": "7a4994b6-da14-4765-9e99-a4d1eb1e1d61",
   "metadata": {},
   "source": [
    "### Plot"
   ]
  },
  {
   "cell_type": "code",
   "execution_count": 24,
   "id": "27f44604-4dab-4f6b-9ed6-1a2ed4b139cb",
   "metadata": {
    "tags": []
   },
   "outputs": [
    {
     "data": {
      "image/png": "[encoded data removed]",
      "text/plain": [
       "<Figure size 800x400 with 4 Axes>"
      ]
     },
     "metadata": {},
     "output_type": "display_data"
    }
   ],
   "source": [
    "# Specify figure properties\n",
    "fig, axs = plt.subplots(1, 4, sharey=True, layout=\"constrained\", figsize=(8, 4))\n",
    "\n",
    "# Define common variables\n",
    "regions = [\"Transcript\", \"NMD target\", \"Long exon\", \"Distal\"]\n",
    "inheritance = df1.inheritance.unique()\n",
    "colours = [col[0], col[-1], col[1], col[-3]]\n",
    "ticks = np.arange(df1[\"constraint\"].nunique())  # Two x categories per Axes\n",
    "\n",
    "# Create the figure by iterating through each Axes\n",
    "# Each Axes contains a plot for one region.\n",
    "for ax, r in zip(axs, regions):\n",
    "\n",
    "    # Subset the data to one region\n",
    "    d = df1[df1[\"region\"] == r]\n",
    "\n",
    "    # A stacked bar chart - define the y-axis coordinate of the bottom of the bar\n",
    "    bottom = np.zeros(len(ticks))\n",
    "\n",
    "    # For each inheritance mode, add a separate bar to the Axes\n",
    "    for i, c in zip(inheritance, colours):\n",
    "\n",
    "        # Subset to one inheritance mode\n",
    "        _d = d[d[\"inheritance\"] == i]\n",
    "\n",
    "        # Add the bar(s)\n",
    "        b = ax.bar(\n",
    "            x=ticks,\n",
    "            height=_d[\"abs_proportion\"],\n",
    "            label=_d[\"inheritance\"],\n",
    "            color=c,\n",
    "            bottom=bottom,  # The y-position of the bottom of the bar\n",
    "        )\n",
    "\n",
    "        # Stack the bars\n",
    "        bottom += list(_d[\"abs_proportion\"])\n",
    "\n",
    "    # Set the properties for all Axes\n",
    "    ax.set_xticks(\n",
    "        ticks=ticks,\n",
    "        labels=_d[\"constraint\"],\n",
    "        rotation=90,\n",
    "    )\n",
    "    ax.tick_params(axis=\"x\", length=0)  # Hide x ticks\n",
    "    ax.set_yticks(ticks=[0, 0.1, 0.2, 0.3])\n",
    "    ax.set_title(r, size=\"small\", loc=\"center\", pad=15)\n",
    "    ax.spines[[\"top\", \"right\"]].set_visible(False)\n",
    "    ax.spines[\"left\"].set_position((\"outward\", 5))\n",
    "\n",
    "    # Add bar labels\n",
    "    for i, n in enumerate(_d[\"n\"]):\n",
    "        y_offset = 0.01\n",
    "        ax.text(\n",
    "            x=ticks[i],\n",
    "            y=bottom[i] + y_offset,\n",
    "            s=n,\n",
    "            fontsize=\"x-small\",\n",
    "            ha=\"center\",\n",
    "        )\n",
    "\n",
    "# Set the y label for the left-most Axes only\n",
    "axs[0].set_ylabel(\"Proportion\\nOMIM morbid\")\n",
    "\n",
    "# Add width whitespace to the figure\n",
    "fig.get_layout_engine().set(wspace=0.2)\n",
    "\n",
    "# Figure legend\n",
    "fig.legend(\n",
    "    handles=[axs[0].get_children()[x] for x in [0, 2, 4, 6,]][\n",
    "        ::-1\n",
    "    ],  # Reverse the order of the handles\n",
    "    labels=[\n",
    "        \"Other\",\n",
    "        \"XL\",\n",
    "        \"AR\",\n",
    "        \"AD\",\n",
    "    ],  # Custom labels\n",
    "    fontsize=\"small\",\n",
    "    frameon=False,\n",
    "    labelcolor=\"linecolor\",\n",
    "    loc=\"lower left\",\n",
    "    bbox_to_anchor=(1.02, 0.42),\n",
    "    handlelength=1,\n",
    "    handletextpad=0.2,\n",
    "    borderaxespad=0,\n",
    ")\n",
    "\n",
    "# Save the figure\n",
    "plt.savefig(\n",
    "    \"../plots/omim_morbid_constrained_regions.svg\", format=\"svg\", bbox_inches=\"tight\"\n",
    ")"
   ]
  }
 ],
 "metadata": {
  "kernelspec": {
   "display_name": "Python [conda env:ukb]",
   "language": "python",
   "name": "conda-env-ukb-py"
  },
  "language_info": {
   "codemirror_mode": {
    "name": "ipython",
    "version": 3
   },
   "file_extension": ".py",
   "mimetype": "text/x-python",
   "name": "python",
   "nbconvert_exporter": "python",
   "pygments_lexer": "ipython3",
   "version": "3.8.16"
  }
 },
 "nbformat": 4,
 "nbformat_minor": 5
}
