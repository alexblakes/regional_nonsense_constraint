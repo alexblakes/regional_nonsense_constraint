{
 "cells": [
  {
   "cell_type": "markdown",
   "id": "aa5e37c7-1c9b-4b9d-bc4a-49ef625cbbb1",
   "metadata": {},
   "source": [
    "# Figure 1"
   ]
  },
  {
   "cell_type": "markdown",
   "id": "af5f5dae-64e2-4417-85b7-3f5481251c49",
   "metadata": {},
   "source": [
    "## Imports and colour scheme"
   ]
  },
  {
   "cell_type": "code",
   "execution_count": null,
   "id": "6dd3b126-c580-4814-acb8-8606e0e0d2d7",
   "metadata": {},
   "outputs": [],
   "source": [
    "import numpy as np\n",
    "import pandas as pd\n",
    "import matplotlib.pyplot as plt\n",
    "import seaborn as sns\n",
    "import statsmodels.formula.api as smf"
   ]
  },
  {
   "cell_type": "code",
   "execution_count": 2,
   "id": "6d2f9b56-cb6a-4a84-8031-72cd459a8d7a",
   "metadata": {},
   "outputs": [
    {
     "data": {
      "text/html": [
       "<svg  width=\"440\" height=\"55\"><rect x=\"0\" y=\"0\" width=\"55\" height=\"55\" style=\"fill:#0077bb;stroke-width:2;stroke:rgb(255,255,255)\"/><rect x=\"55\" y=\"0\" width=\"55\" height=\"55\" style=\"fill:#009988;stroke-width:2;stroke:rgb(255,255,255)\"/><rect x=\"110\" y=\"0\" width=\"55\" height=\"55\" style=\"fill:#ee7733;stroke-width:2;stroke:rgb(255,255,255)\"/><rect x=\"165\" y=\"0\" width=\"55\" height=\"55\" style=\"fill:#cc3311;stroke-width:2;stroke:rgb(255,255,255)\"/><rect x=\"220\" y=\"0\" width=\"55\" height=\"55\" style=\"fill:#33bbee;stroke-width:2;stroke:rgb(255,255,255)\"/><rect x=\"275\" y=\"0\" width=\"55\" height=\"55\" style=\"fill:#ee3377;stroke-width:2;stroke:rgb(255,255,255)\"/><rect x=\"330\" y=\"0\" width=\"55\" height=\"55\" style=\"fill:#bbbbbb;stroke-width:2;stroke:rgb(255,255,255)\"/><rect x=\"385\" y=\"0\" width=\"55\" height=\"55\" style=\"fill:#000000;stroke-width:2;stroke:rgb(255,255,255)\"/></svg>"
      ],
      "text/plain": [
       "[(0.0, 0.4666666666666667, 0.7333333333333333),\n",
       " (0.0, 0.6, 0.5333333333333333),\n",
       " (0.9333333333333333, 0.4666666666666667, 0.2),\n",
       " (0.8, 0.2, 0.06666666666666667),\n",
       " (0.2, 0.7333333333333333, 0.9333333333333333),\n",
       " (0.9333333333333333, 0.2, 0.4666666666666667),\n",
       " (0.7333333333333333, 0.7333333333333333, 0.7333333333333333),\n",
       " (0.0, 0.0, 0.0)]"
      ]
     },
     "execution_count": 2,
     "metadata": {},
     "output_type": "execute_result"
    }
   ],
   "source": [
    "# Choose style sheet(s)\n",
    "plt.style.use(\"plot_styles/default.mplstyle\")\n",
    "\n",
    "# Import functions from the _color_tools notebook\n",
    "%run _color_tools.ipynb\n",
    "\n",
    "# Assign the color palette to a variable.\n",
    "# Individual colors can be selected by index (e.g. C[0])\n",
    "C = sns.color_palette().as_hex()\n",
    "sns.color_palette()"
   ]
  },
  {
   "cell_type": "markdown",
   "id": "4b582a62-1e68-496b-ac54-562f1dcb8c6a",
   "metadata": {},
   "source": [
    "## Panel A (MAPS)"
   ]
  },
  {
   "cell_type": "code",
   "execution_count": null,
   "id": "88fb48f3-1be1-4763-8ec6-c0033c02312a",
   "metadata": {},
   "outputs": [],
   "source": []
  }
 ],
 "metadata": {
  "kernelspec": {
   "display_name": "Python [conda env:ukb]",
   "language": "python",
   "name": "conda-env-ukb-py"
  },
  "language_info": {
   "codemirror_mode": {
    "name": "ipython",
    "version": 3
   },
   "file_extension": ".py",
   "mimetype": "text/x-python",
   "name": "python",
   "nbconvert_exporter": "python",
   "pygments_lexer": "ipython3",
   "version": "3.8.17"
  }
 },
 "nbformat": 4,
 "nbformat_minor": 5
}
