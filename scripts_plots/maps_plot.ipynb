{
 "cells": [
  {
   "cell_type": "code",
   "execution_count": 9,
   "id": "05e2bb83-2b04-4ce0-a44d-b1ab840c4a6c",
   "metadata": {
    "tags": []
   },
   "outputs": [],
   "source": [
    "import numpy as np\n",
    "import pandas as pd\n",
    "import matplotlib.pyplot as plt"
   ]
  },
  {
   "cell_type": "code",
   "execution_count": 10,
   "id": "f61e0259-2de5-429d-a675-ddb2a0ad864a",
   "metadata": {},
   "outputs": [
    {
     "data": {
      "text/html": [
       "<svg  width=\"440\" height=\"55\"><rect x=\"0\" y=\"0\" width=\"55\" height=\"55\" style=\"fill:#0077bb;stroke-width:2;stroke:rgb(255,255,255)\"/><rect x=\"55\" y=\"0\" width=\"55\" height=\"55\" style=\"fill:#009988;stroke-width:2;stroke:rgb(255,255,255)\"/><rect x=\"110\" y=\"0\" width=\"55\" height=\"55\" style=\"fill:#ee7733;stroke-width:2;stroke:rgb(255,255,255)\"/><rect x=\"165\" y=\"0\" width=\"55\" height=\"55\" style=\"fill:#cc3311;stroke-width:2;stroke:rgb(255,255,255)\"/><rect x=\"220\" y=\"0\" width=\"55\" height=\"55\" style=\"fill:#33bbee;stroke-width:2;stroke:rgb(255,255,255)\"/><rect x=\"275\" y=\"0\" width=\"55\" height=\"55\" style=\"fill:#ee3377;stroke-width:2;stroke:rgb(255,255,255)\"/><rect x=\"330\" y=\"0\" width=\"55\" height=\"55\" style=\"fill:#bbbbbb;stroke-width:2;stroke:rgb(255,255,255)\"/><rect x=\"385\" y=\"0\" width=\"55\" height=\"55\" style=\"fill:#000000;stroke-width:2;stroke:rgb(255,255,255)\"/></svg>"
      ],
      "text/plain": [
       "[(0.0, 0.4666666666666667, 0.7333333333333333),\n",
       " (0.0, 0.6, 0.5333333333333333),\n",
       " (0.9333333333333333, 0.4666666666666667, 0.2),\n",
       " (0.8, 0.2, 0.06666666666666667),\n",
       " (0.2, 0.7333333333333333, 0.9333333333333333),\n",
       " (0.9333333333333333, 0.2, 0.4666666666666667),\n",
       " (0.7333333333333333, 0.7333333333333333, 0.7333333333333333),\n",
       " (0.0, 0.0, 0.0)]"
      ]
     },
     "execution_count": 10,
     "metadata": {},
     "output_type": "execute_result"
    }
   ],
   "source": [
    "# Choose style sheet(s)\n",
    "plt.style.use(\"plot_styles/default.mplstyle\")\n",
    "\n",
    "# Import functions from the _color_tools notebook\n",
    "%run _color_tools.ipynb\n",
    "\n",
    "# Assign the color palette to a variable.\n",
    "# Individual colors can be selected by index (e.g. C[0])\n",
    "C = sns.color_palette().as_hex()\n",
    "sns.color_palette()"
   ]
  },
  {
   "cell_type": "code",
   "execution_count": 1,
   "id": "8cfd03e3-aaaf-4726-8a23-ec51cad97ce9",
   "metadata": {
    "tags": []
   },
   "outputs": [
    {
     "data": {
      "text/plain": [
       "'/home/alex/ukb_constraint/scripts_plots'"
      ]
     },
     "execution_count": 1,
     "metadata": {},
     "output_type": "execute_result"
    }
   ],
   "source": [
    "pwd"
   ]
  },
  {
   "cell_type": "code",
   "execution_count": null,
   "id": "a05fb7b0-577e-40db-8885-4acac946ff39",
   "metadata": {},
   "outputs": [],
   "source": [
    "maps = pd.read_csv(\"../outputs/\")"
   ]
  },
  {
   "cell_type": "code",
   "execution_count": 1,
   "id": "5af18f16-58f2-4343-a13a-d75b0ce0b0b4",
   "metadata": {
    "tags": []
   },
   "outputs": [
    {
     "ename": "NameError",
     "evalue": "name 'plt' is not defined",
     "output_type": "error",
     "traceback": [
      "\u001b[0;31m---------------------------------------------------------------------------\u001b[0m",
      "\u001b[0;31mNameError\u001b[0m                                 Traceback (most recent call last)",
      "Cell \u001b[0;32mIn[1], line 1\u001b[0m\n\u001b[0;32m----> 1\u001b[0m fig, ax \u001b[38;5;241m=\u001b[39m \u001b[43mplt\u001b[49m\u001b[38;5;241m.\u001b[39msubplots(figsize\u001b[38;5;241m=\u001b[39m(\u001b[38;5;241m4\u001b[39m,\u001b[38;5;241m4.5\u001b[39m), layout\u001b[38;5;241m=\u001b[39m\u001b[38;5;124m\"\u001b[39m\u001b[38;5;124mconstrained\u001b[39m\u001b[38;5;124m\"\u001b[39m)\n\u001b[1;32m      3\u001b[0m ax\u001b[38;5;241m.\u001b[39merrorbar(x\u001b[38;5;241m=\u001b[39mdf[\u001b[38;5;124m\"\u001b[39m\u001b[38;5;124mcsq\u001b[39m\u001b[38;5;124m\"\u001b[39m], y\u001b[38;5;241m=\u001b[39mdf[\u001b[38;5;124m\"\u001b[39m\u001b[38;5;124mmaps\u001b[39m\u001b[38;5;124m\"\u001b[39m], yerr\u001b[38;5;241m=\u001b[39mdf[\u001b[38;5;124m\"\u001b[39m\u001b[38;5;124mci95\u001b[39m\u001b[38;5;124m\"\u001b[39m], linestyle\u001b[38;5;241m=\u001b[39m\u001b[38;5;124m\"\u001b[39m\u001b[38;5;124mNone\u001b[39m\u001b[38;5;124m\"\u001b[39m)\n\u001b[1;32m      4\u001b[0m ax\u001b[38;5;241m.\u001b[39mscatter(x\u001b[38;5;241m=\u001b[39mdf[\u001b[38;5;124m\"\u001b[39m\u001b[38;5;124mcsq\u001b[39m\u001b[38;5;124m\"\u001b[39m], y\u001b[38;5;241m=\u001b[39mdf[\u001b[38;5;124m\"\u001b[39m\u001b[38;5;124mmaps\u001b[39m\u001b[38;5;124m\"\u001b[39m])\n",
      "\u001b[0;31mNameError\u001b[0m: name 'plt' is not defined"
     ]
    }
   ],
   "source": [
    "fig, ax = plt.subplots(figsize=(4,4.5), layout=\"constrained\")\n",
    "\n",
    "ax.errorbar(x=df[\"csq\"], y=df[\"maps\"], yerr=df[\"ci95\"], linestyle=\"None\")\n",
    "ax.scatter(x=df[\"csq\"], y=df[\"maps\"])\n",
    "ax.set_ylabel(\"MAPS\")\n",
    "ax.set_ylim(-0.01,0.15)\n",
    "ax.set_xticks(\n",
    "    ticks=[\n",
    "        \"synonymous\",\n",
    "        \"missense\",\n",
    "        \"nonsense\",\n",
    "        \"nmd_target\",\n",
    "        \"long_exon\",\n",
    "        \"distal_nmd\",\n",
    "        \"start_proximal\",\n",
    "    ],\n",
    "    labels=[\n",
    "        \"Synonymous\",\n",
    "        \"Missense\",\n",
    "        \"Nonsense\",\n",
    "        \"NMD target\",\n",
    "        \"Long exon\",\n",
    "        \"Distal\",\n",
    "        \"Start-proximal\",\n",
    "    ],\n",
    "    rotation=90,\n",
    "    #ha=\"right\",\n",
    "    #rotation_mode=\"anchor\"\n",
    ");\n",
    "ax.spines[[\"top\", \"right\"]].set_color(\"None\")\n",
    "\n",
    "plt.savefig(\"../plots/maps.svg\", format=\"svg\")"
   ]
  }
 ],
 "metadata": {
  "kernelspec": {
   "display_name": "Python [conda env:ukb]",
   "language": "python",
   "name": "conda-env-ukb-py"
  },
  "language_info": {
   "codemirror_mode": {
    "name": "ipython",
    "version": 3
   },
   "file_extension": ".py",
   "mimetype": "text/x-python",
   "name": "python",
   "nbconvert_exporter": "python",
   "pygments_lexer": "ipython3",
   "version": "3.8.17"
  }
 },
 "nbformat": 4,
 "nbformat_minor": 5
}
