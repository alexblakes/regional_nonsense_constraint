{
 "cells": [
  {
   "cell_type": "code",
   "execution_count": 1,
   "id": "05e2bb83-2b04-4ce0-a44d-b1ab840c4a6c",
   "metadata": {
    "tags": []
   },
   "outputs": [
    {
     "name": "stdout",
     "output_type": "stream",
     "text": [
      "The color palette is saved in the global variable, C\n",
      "C = color_palette(blue='#0077bb', green='#009988', orange='#ee7733', red='#cc3311', light_blue='#33bbee', pink='#ee3377', grey='#bbbbbb', black='#000000')\n"
     ]
    }
   ],
   "source": [
    "import matplotlib.pyplot as plt\n",
    "import numpy as np\n",
    "import pandas as pd\n",
    "from matplotlib import patches\n",
    "\n",
    "%run _color_tools.ipynb"
   ]
  },
  {
   "cell_type": "code",
   "execution_count": 2,
   "id": "a05fb7b0-577e-40db-8885-4acac946ff39",
   "metadata": {},
   "outputs": [],
   "source": [
    "maps = pd.read_csv(\n",
    "    \"../outputs/stats_maps_non_cpg.tsv\", sep=\"\\t\", usecols=[\"csq\", \"maps\", \"ci95\"]\n",
    ")"
   ]
  },
  {
   "cell_type": "code",
   "execution_count": 3,
   "id": "c9aedcfd-65c4-4e3b-a42b-1a6fd85862e9",
   "metadata": {
    "tags": []
   },
   "outputs": [],
   "source": [
    "maps[\"csq\"] = pd.Categorical(\n",
    "    maps[\"csq\"],\n",
    "    categories=[\n",
    "        \"synonymous\",\n",
    "        \"missense\",\n",
    "        \"nonsense\",\n",
    "        \"nmd_target\",\n",
    "        \"long_exon\",\n",
    "        \"distal_nmd\",\n",
    "        \"start_proximal\",\n",
    "    ][::-1],\n",
    ")\n",
    "maps = maps.sort_values(\"csq\", ascending=True)"
   ]
  },
  {
   "cell_type": "code",
   "execution_count": 7,
   "id": "5af18f16-58f2-4343-a13a-d75b0ce0b0b4",
   "metadata": {
    "tags": []
   },
   "outputs": [
    {
     "data": {
      "image/png": "[encoded data removed]",
      "text/plain": [
       "<Figure size 250x350 with 1 Axes>"
      ]
     },
     "metadata": {},
     "output_type": "display_data"
    }
   ],
   "source": [
    "def plot_maps(df, ax):\n",
    "    ax.errorbar(y=df[\"csq\"], x=df[\"maps\"], xerr=df[\"ci95\"], linestyle=\"None\")\n",
    "    ax.scatter(y=df[\"csq\"], x=df[\"maps\"])\n",
    "    ax.set_xlabel(\"MAPS\")\n",
    "    ax.set_xlim(-0.01, 0.15)\n",
    "    ax.set_xticks([0, 0.05, 0.1, 0.15])\n",
    "    ax.set_yticks(\n",
    "        ticks=[\n",
    "            \"synonymous\",\n",
    "            \"missense\",\n",
    "            \"nonsense\",\n",
    "            \"nmd_target\",\n",
    "            \"long_exon\",\n",
    "            \"distal_nmd\",\n",
    "            \"start_proximal\",\n",
    "        ],\n",
    "        labels=[\n",
    "            \"Synonymous\",\n",
    "            \"Missense\",\n",
    "            \"Nonsense (All)\",\n",
    "            \"NMD target\",\n",
    "            \"Long exon\",\n",
    "            \"Distal\",\n",
    "            \"Start-proximal\",\n",
    "        ],\n",
    "        # rotation=90,\n",
    "        ha=\"right\",\n",
    "        # rotation_mode=\"anchor\"\n",
    "    )\n",
    "\n",
    "    # A custom textbox labelling nonsense variants\n",
    "    axw = ax.bbox.width\n",
    "    axh = ax.bbox.height\n",
    "    rectangle = patches.Rectangle((-0.01,-0.5), 0.03, 5, fc=adjust_lightness(C.grey, 1.2),)\n",
    "    rx, ry = rectangle.get_xy()\n",
    "    cx = rx + rectangle.get_width() / 2\n",
    "    cy = ry + rectangle.get_height() / 2\n",
    "    ax.add_patch(rectangle)\n",
    "    ax.annotate(\"Nonsense\", xy=(cx, cy), ha=\"center\", va=\"center\", rotation=90)\n",
    "\n",
    "    # ax.text(\n",
    "    #     x=0,\n",
    "    #     y=0,\n",
    "    #     s=\"\\n\".join(list(\"Nonsense\")),\n",
    "    #     transform=ax.transAxes,\n",
    "    #     va=\"bottom\",\n",
    "    #     ha=\"left\",\n",
    "    #     bbox=dict(boxstyle=\"square\", lw=0, pad=0.22),\n",
    "    # )\n",
    "\n",
    "\n",
    "fig, ax = plt.subplots(figsize=(2.5, 3.5), layout=\"constrained\")\n",
    "plot_maps(maps, ax)"
   ]
  },
  {
   "cell_type": "code",
   "execution_count": null,
   "id": "1929857e-4b1c-44be-b523-03f55665f657",
   "metadata": {},
   "outputs": [],
   "source": []
  }
 ],
 "metadata": {
  "kernelspec": {
   "display_name": "Python [conda env:ukb]",
   "language": "python",
   "name": "conda-env-ukb-py"
  },
  "language_info": {
   "codemirror_mode": {
    "name": "ipython",
    "version": 3
   },
   "file_extension": ".py",
   "mimetype": "text/x-python",
   "name": "python",
   "nbconvert_exporter": "python",
   "pygments_lexer": "ipython3",
   "version": "3.8.17"
  }
 },
 "nbformat": 4,
 "nbformat_minor": 5
}
