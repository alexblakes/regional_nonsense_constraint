{
 "cells": [
  {
   "cell_type": "markdown",
   "id": "8d1dc93c-52d9-4b5d-808c-1189ea9a84c4",
   "metadata": {},
   "source": [
    "# OE plot"
   ]
  },
  {
   "cell_type": "markdown",
   "id": "cca35c07-1db9-4569-80d6-c1f1e1cadd85",
   "metadata": {},
   "source": [
    "## Preliminaries"
   ]
  },
  {
   "cell_type": "code",
   "execution_count": 1,
   "id": "841f7942-73c3-40b7-b0e8-edb86667eec1",
   "metadata": {
    "tags": []
   },
   "outputs": [
    {
     "name": "stdout",
     "output_type": "stream",
     "text": [
      "The color palette is saved in the global variable, C\n",
      "C = color_palette(blue='#0077bb', green='#009988', orange='#ee7733', red='#cc3311', light_blue='#33bbee', pink='#ee3377', grey='#bbbbbb', black='#000000')\n"
     ]
    }
   ],
   "source": [
    "import numpy as np\n",
    "import pandas as pd\n",
    "import matplotlib.pyplot as plt\n",
    "from matplotlib.lines import Line2D\n",
    "import seaborn as sns\n",
    "from scipy.stats import norm\n",
    "\n",
    "%run _color_tools.ipynb"
   ]
  },
  {
   "cell_type": "markdown",
   "id": "16c9b176-5a0a-47a3-a0e1-35c19c82fb37",
   "metadata": {
    "tags": []
   },
   "source": [
    "## Load data"
   ]
  },
  {
   "cell_type": "code",
   "execution_count": 2,
   "id": "b516a0f0-29b8-4d2f-bdfe-f3ad254f6a41",
   "metadata": {
    "tags": []
   },
   "outputs": [],
   "source": [
    "oe = pd.read_csv(\"../outputs/expected_variants_all_regions_stats.tsv\", sep=\"\\t\")"
   ]
  },
  {
   "cell_type": "markdown",
   "id": "82b52485-7f39-48f8-a9e9-a2d8a46f3f7d",
   "metadata": {},
   "source": [
    "## Expected variants per transcript"
   ]
  },
  {
   "cell_type": "code",
   "execution_count": 3,
   "id": "7c9a8c25-e3ab-4bbc-bb88-23480fbbf349",
   "metadata": {
    "tags": []
   },
   "outputs": [],
   "source": [
    "def plot_oe(df, ax, csq=\"synonymous\", ylabel=None):\n",
    "    sns.regplot(\n",
    "        ax=ax,\n",
    "        data=df[\n",
    "            (df[\"region\"] == \"transcript\")\n",
    "            & (df.enst != \"ENST00000589042\")  # Exclude TTN\n",
    "            & (df[\"csq\"] == csq)\n",
    "        ],\n",
    "        x=\"n_exp\",\n",
    "        y=\"n_obs\",\n",
    "        ci=None,\n",
    "        scatter_kws=dict(alpha=0.2),\n",
    "    )\n",
    "\n",
    "    ax.axline((0, 0), (1, 1), color=\"grey\", linestyle=\"--\")\n",
    "    ax.set_title(csq.capitalize())\n",
    "    ax.set_xlabel(\"Expected\")\n",
    "    ax.set_ylabel(ylabel)\n",
    "    ax.set_xlim(ax.get_ylim())"
   ]
  },
  {
   "cell_type": "code",
   "execution_count": 4,
   "id": "4de8d54d-7438-43dc-a72b-2d37e4e04361",
   "metadata": {},
   "outputs": [
    {
     "data": {
      "image/png": "[encoded data removed]",
      "text/plain": [
       "<Figure size 300x300 with 1 Axes>"
      ]
     },
     "metadata": {},
     "output_type": "display_data"
    }
   ],
   "source": [
    "fig, ax = plt.subplots(1, 1, figsize=(3,3))\n",
    "plot_oe(oe, ax, csq=\"synonymous\")"
   ]
  },
  {
   "cell_type": "code",
   "execution_count": null,
   "id": "ece4993e-e56f-403c-91f3-1d8c9a23f6ea",
   "metadata": {},
   "outputs": [],
   "source": []
  }
 ],
 "metadata": {
  "kernelspec": {
   "display_name": "Python [conda env:ukb]",
   "language": "python",
   "name": "conda-env-ukb-py"
  },
  "language_info": {
   "codemirror_mode": {
    "name": "ipython",
    "version": 3
   },
   "file_extension": ".py",
   "mimetype": "text/x-python",
   "name": "python",
   "nbconvert_exporter": "python",
   "pygments_lexer": "ipython3",
   "version": "3.8.17"
  }
 },
 "nbformat": 4,
 "nbformat_minor": 5
}
