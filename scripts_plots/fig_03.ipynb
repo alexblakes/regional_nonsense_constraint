{
 "cells": [
  {
   "cell_type": "markdown",
   "id": "112d6514-8c9d-4f92-acfc-fe1cdc81eef4",
   "metadata": {},
   "source": [
    "# Conservation plots"
   ]
  },
  {
   "cell_type": "markdown",
   "id": "1f42586c-4926-4031-bc6e-ba2232975946",
   "metadata": {
    "tags": []
   },
   "source": [
    "## Preliminaries"
   ]
  },
  {
   "cell_type": "markdown",
   "id": "8773c480-5e13-4a2d-b79f-288989901a85",
   "metadata": {},
   "source": [
    "### Import modules"
   ]
  },
  {
   "cell_type": "code",
   "execution_count": 1,
   "id": "362f0d79-fb51-43f1-a210-b38d8d07f35b",
   "metadata": {
    "tags": []
   },
   "outputs": [
    {
     "name": "stdout",
     "output_type": "stream",
     "text": [
      "The color palette is saved in the global variable, C\n",
      "C = color_palette(blue='#0077bb', green='#009988', orange='#ee7733', red='#cc3311', light_blue='#33bbee', pink='#ee3377', grey='#bbbbbb', black='#000000')\n"
     ]
    }
   ],
   "source": [
    "import matplotlib.pyplot as plt\n",
    "import numpy as np\n",
    "import pandas as pd\n",
    "import seaborn as sns\n",
    "\n",
    "%run _color_tools.ipynb"
   ]
  },
  {
   "cell_type": "markdown",
   "id": "6c9289f0-1ea6-4be3-aa2c-c82fc9fa9815",
   "metadata": {},
   "source": [
    "## Load and clean data"
   ]
  },
  {
   "cell_type": "code",
   "execution_count": 2,
   "id": "5d9cebc2-162b-4987-83e0-f16f00969084",
   "metadata": {
    "tags": []
   },
   "outputs": [],
   "source": [
    "%%bash\n",
    "\n",
    "# Download datasets from UKB RAP\n",
    "dx download outputs/stats_hmc.tsv -f -o ../outputs/stats_hmc.tsv\n",
    "dx download outputs/stats_phylop.tsv -f -o ../outputs/stats_phylop.tsv\n",
    "dx download outputs/stats_pext.tsv -f -o ../outputs/stats_pext.tsv"
   ]
  },
  {
   "cell_type": "code",
   "execution_count": 3,
   "id": "ff6f6574-cc2b-45c5-a219-db46e4dd9a12",
   "metadata": {
    "tags": []
   },
   "outputs": [],
   "source": [
    "# Order and name the region and constraint variables\n",
    "region_order = [\"transcript\", \"nmd_target\", \"long_exon\", \"distal_nmd\"]\n",
    "region_labels = [\"Whole transcript\", \"NMD target\", \"Long exon\", \"Distal\"]\n",
    "constraint_order = [\"all\", \"constrained\", \"unconstrained\"]\n",
    "constraint_labels = [\"All\", \"Constrained\", \"Unconstrained\"]"
   ]
  },
  {
   "cell_type": "code",
   "execution_count": 4,
   "id": "98d045ee-7a20-45e6-9b15-b5fdc42915e6",
   "metadata": {
    "tags": []
   },
   "outputs": [],
   "source": [
    "metrics = [\"phylop\", \"hmc\", \"pext\"]\n",
    "paths = [f\"../outputs/stats_{x}.tsv\" for x in metrics]\n",
    "\n",
    "\n",
    "def get_stats(path):\n",
    "\n",
    "    # Read data\n",
    "    df = pd.read_csv(path, sep=\"\\t\")\n",
    "\n",
    "    # Drop start proximal sites\n",
    "    df = df[df[\"region\"] != \"start_proximal\"]\n",
    "\n",
    "    # Order the data by region\n",
    "    df[\"region\"] = pd.Categorical(df[\"region\"], categories=region_order, ordered=True)\n",
    "    df = df.sort_values(\"region\", ascending=False)\n",
    "\n",
    "    return df\n",
    "\n",
    "\n",
    "phylop, hmc, pext = [get_stats(p) for p in paths]"
   ]
  },
  {
   "cell_type": "markdown",
   "id": "e742825a-e197-4840-8600-dfbe848aa1d2",
   "metadata": {},
   "source": [
    "## Horizontal bar plot"
   ]
  },
  {
   "cell_type": "code",
   "execution_count": 5,
   "id": "f4d8b3f9-0681-4660-b97d-17e243658443",
   "metadata": {
    "tags": []
   },
   "outputs": [],
   "source": [
    "colors = [C.grey, C.red, C.blue]"
   ]
  },
  {
   "cell_type": "code",
   "execution_count": 6,
   "id": "3fac6f06-9ecc-415b-a3d7-fe0882760865",
   "metadata": {
    "tags": []
   },
   "outputs": [],
   "source": [
    "cm = 1 / 2.54  # cm to inches converter"
   ]
  },
  {
   "cell_type": "code",
   "execution_count": 9,
   "id": "206d6489-3cc5-462d-b790-7ebb148635fd",
   "metadata": {
    "tags": []
   },
   "outputs": [],
   "source": [
    "def plot_metrics_by_region(\n",
    "    df,\n",
    "    ax,\n",
    "    metric=\"phylop\",\n",
    "    constraint=\"constrained\",\n",
    "    legend=False,\n",
    "    xlabel=False,\n",
    "):\n",
    "    # Define colors\n",
    "    color = C.black\n",
    "    if constraint == \"constrained\":\n",
    "        color = C.red\n",
    "    if constraint == \"unconstrained\":\n",
    "        color = C.grey\n",
    "    if constraint == \"all\":\n",
    "        color = adjust_lightness(C.grey, 0.5)\n",
    "\n",
    "    # Subset the data\n",
    "    df = df[df[\"constraint\"] == constraint]\n",
    "\n",
    "    # Horizontal bar plot\n",
    "    n = len(df)\n",
    "    y = np.arange(n)\n",
    "    x = df[metric]\n",
    "    xerr = df[\"ci95\"]\n",
    "\n",
    "    ax.barh(\n",
    "        y=y * 1 / n,\n",
    "        height=1 / (n + 1),\n",
    "        width=x,\n",
    "        color=color,\n",
    "        xerr=xerr,\n",
    "        ecolor=adjust_lightness(color, 0.7)\n",
    "    )\n",
    "\n",
    "    ax.set_yticks(ticks=y * 1 / n, labels=reversed(region_labels))\n",
    "    ax.tick_params(axis=\"y\", length=0)\n",
    "\n",
    "    if legend:\n",
    "        ax.set_title(legend, loc=\"left\", c=color)\n",
    "        \n",
    "    if xlabel:\n",
    "        ax.set_xlabel(xlabel)\n",
    "\n",
    "    # ax.spines[\"left\"].set_position((\"outward\", 5))\n",
    "    # ax.spines[\"left\"].set_visible(False)\n",
    "\n",
    "    return None"
   ]
  },
  {
   "cell_type": "code",
   "execution_count": 10,
   "id": "83290936-9867-476b-a197-2f88e8323389",
   "metadata": {
    "tags": []
   },
   "outputs": [
    {
     "data": {
      "image/png": "[encoded data removed]",
      "text/plain": [
       "<Figure size 472.441x275.591 with 9 Axes>"
      ]
     },
     "metadata": {},
     "output_type": "display_data"
    }
   ],
   "source": [
    "# Instantiate the figure\n",
    "fig, axs = plt.subplots(\n",
    "    3,\n",
    "    3,\n",
    "    figsize=(12 * cm, 7 * cm),\n",
    "    layout=\"constrained\",\n",
    "    gridspec_kw={\"hspace\": 0.1, \"wspace\":0.05},\n",
    "    sharey=True,\n",
    "    sharex=\"col\"\n",
    ")\n",
    "axs = axs.flatten()\n",
    "\n",
    "# Plots\n",
    "## First column\n",
    "plot_metrics_by_region(phylop, axs[0], \"phylop\", \"all\", legend=\"All\")\n",
    "plot_metrics_by_region(phylop, axs[3], \"phylop\", \"constrained\", legend=\"Constrained\")\n",
    "plot_metrics_by_region(\n",
    "    phylop, axs[6], \"phylop\", \"unconstrained\", legend=\"Unconstrained\", xlabel=\"Proportion of bases\\nhighly conserved\"\n",
    ")\n",
    "\n",
    "## Second column\n",
    "plot_metrics_by_region(hmc, axs[1], \"hmc\", \"all\")\n",
    "plot_metrics_by_region(hmc, axs[4], \"hmc\", \"constrained\")\n",
    "plot_metrics_by_region(hmc, axs[7], \"hmc\", \"unconstrained\", xlabel=\"Proportion of bases\\nmissense constrained\")\n",
    "\n",
    "## Third column\n",
    "plot_metrics_by_region(pext, axs[2], \"pext\", \"all\")\n",
    "plot_metrics_by_region(pext, axs[5], \"pext\", \"constrained\")\n",
    "plot_metrics_by_region(pext, axs[8], \"pext\", \"unconstrained\", xlabel=\"Proportion of bases\\nexpressed across\\ntranscripts\")\n",
    "\n",
    "# Set x limits (sharex=True)\n",
    "axs[0].set_xlim(0.4, 0.8)\n",
    "axs[1].set_xlim(0.1, 0.35)\n",
    "axs[2].set_xlim(0.6, 0.9)\n",
    "\n",
    "# Add panel labels\n",
    "Axes = [axs[x] for x in [0, 1, 2]]\n",
    "labels = list(\"ABC\")\n",
    "\n",
    "for a, l in zip(Axes, labels):\n",
    "    panel_label(a,l)\n",
    "    \n",
    "# Save to output\n",
    "plt.savefig(\"../plots/fig_03.svg\", format=\"svg\")\n",
    "plt.savefig(\"../plots/fig_03.png\", format=\"png\", dpi=1000)\n"
   ]
  },
  {
   "cell_type": "code",
   "execution_count": null,
   "id": "1ac2f46e-ee53-4136-b135-093ead311ba9",
   "metadata": {},
   "outputs": [],
   "source": []
  },
  {
   "cell_type": "code",
   "execution_count": null,
   "id": "34d1378b-c56c-498a-a35f-a56f402406d2",
   "metadata": {},
   "outputs": [],
   "source": []
  }
 ],
 "metadata": {
  "kernelspec": {
   "display_name": "Python [conda env:ukb]",
   "language": "python",
   "name": "conda-env-ukb-py"
  },
  "language_info": {
   "codemirror_mode": {
    "name": "ipython",
    "version": 3
   },
   "file_extension": ".py",
   "mimetype": "text/x-python",
   "name": "python",
   "nbconvert_exporter": "python",
   "pygments_lexer": "ipython3",
   "version": "3.8.17"
  }
 },
 "nbformat": 4,
 "nbformat_minor": 5
}
