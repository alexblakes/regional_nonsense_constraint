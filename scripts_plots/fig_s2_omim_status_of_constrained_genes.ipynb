{
 "cells": [
  {
   "cell_type": "markdown",
   "id": "3b6abaa0-5849-420e-9f09-b866faf81026",
   "metadata": {},
   "source": [
    "# OMIM phenotypes and inheritance modes of constrained genes\n",
    "Plot the proportion of genes which are associated with an OMIM morbid phenotype. The plot is stratified by region, constraint, and inheritance pattern. \n",
    "\n",
    "Note:\n",
    "- Where a gene is associated with a phenotype or phenotypes with more than one mode of inheritance, it is double-counted. I.e. it is counted separately in each inheritance group."
   ]
  },
  {
   "cell_type": "markdown",
   "id": "13dde43e-340f-4dc4-958f-02a867a819df",
   "metadata": {},
   "source": [
    "## Imports"
   ]
  },
  {
   "cell_type": "code",
   "execution_count": 1,
   "id": "6f1a09c8-7763-4625-805c-550b2e80e8fe",
   "metadata": {
    "tags": []
   },
   "outputs": [
    {
     "name": "stdout",
     "output_type": "stream",
     "text": [
      "The color palette is saved in the global variable, C\n",
      "C = color_palette(blue='#0077bb', green='#009988', orange='#ee7733', red='#cc3311', light_blue='#33bbee', pink='#ee3377', grey='#bbbbbb', black='#000000')\n"
     ]
    }
   ],
   "source": [
    "import matplotlib.pyplot as plt\n",
    "import numpy as np\n",
    "import pandas as pd\n",
    "import seaborn as sns\n",
    "\n",
    "%run _color_tools.ipynb"
   ]
  },
  {
   "cell_type": "markdown",
   "id": "61cb6e8c-875b-487c-9695-527ddae3441f",
   "metadata": {},
   "source": [
    "## Data formatting\n",
    "Reformat the OMIM / constraint annotations so that they are more suitable for plotting"
   ]
  },
  {
   "cell_type": "code",
   "execution_count": 2,
   "id": "435cff44-3f60-438d-bfd3-38e1ef534d67",
   "metadata": {
    "tags": []
   },
   "outputs": [
    {
     "name": "stdout",
     "output_type": "stream",
     "text": [
      "Region value counts:\n",
      "transcript    12676\n",
      "distal_nmd    12072\n",
      "nmd_target     9916\n",
      "long_exon      1963\n",
      "Name: region, dtype: int64\n"
     ]
    }
   ],
   "source": [
    "# Read data\n",
    "df = pd.read_csv(\"../outputs/omim_phenotypes_in_constrained_regions.tsv\", sep=\"\\t\")\n",
    "\n",
    "# Individual phenotypes are converted to True (present) or False (absent)\n",
    "df[\"phenotype\"] = df[\"phenotype\"].fillna(False)\n",
    "df.loc[df[\"phenotype\"] != False, \"phenotype\"] = True\n",
    "\n",
    "# Limit to relevant columns\n",
    "df = df[[\"ensg\", \"region\", \"constraint\", \"phenotype\", \"inheritance\"]]\n",
    "\n",
    "# Drop duplicates\n",
    "df = df.drop_duplicates()\n",
    "\n",
    "# Exclude start-proximal regions, which are uninformative\n",
    "df = df[df[\"region\"] != \"start_proximal\"]\n",
    "\n",
    "print(\"Region value counts:\")\n",
    "print(df.region.value_counts())"
   ]
  },
  {
   "cell_type": "markdown",
   "id": "9b74eaf1-2207-4ff3-a927-a426332842ef",
   "metadata": {},
   "source": [
    "## Summary statistics\n",
    "Calculate the summary statistics necessary for the plot.\n",
    "- The absolute proportion of genes in each constraint category which are in OMIM, with a given inheritance mode.\n",
    "- The number of genes in each constraint category"
   ]
  },
  {
   "cell_type": "markdown",
   "id": "c41b4a6e-3849-4872-8541-8f1f0e658173",
   "metadata": {},
   "source": [
    "### Format data"
   ]
  },
  {
   "cell_type": "code",
   "execution_count": 3,
   "id": "a65c8ae9-eae2-4664-aba9-6036a43e7aba",
   "metadata": {
    "tags": []
   },
   "outputs": [
    {
     "name": "stdout",
     "output_type": "stream",
     "text": [
      "Show a sample of the data:\n"
     ]
    },
    {
     "data": {
      "text/html": [
       "<div>\n",
       "<style scoped>\n",
       "    .dataframe tbody tr th:only-of-type {\n",
       "        vertical-align: middle;\n",
       "    }\n",
       "\n",
       "    .dataframe tbody tr th {\n",
       "        vertical-align: top;\n",
       "    }\n",
       "\n",
       "    .dataframe thead th {\n",
       "        text-align: right;\n",
       "    }\n",
       "</style>\n",
       "<table border=\"1\" class=\"dataframe\">\n",
       "  <thead>\n",
       "    <tr style=\"text-align: right;\">\n",
       "      <th></th>\n",
       "      <th>constraint</th>\n",
       "      <th>region</th>\n",
       "      <th>phenotype</th>\n",
       "      <th>inheritance</th>\n",
       "      <th>abs_proportion</th>\n",
       "      <th>n</th>\n",
       "    </tr>\n",
       "  </thead>\n",
       "  <tbody>\n",
       "    <tr>\n",
       "      <th>31</th>\n",
       "      <td>unconstrained</td>\n",
       "      <td>transcript</td>\n",
       "      <td>True</td>\n",
       "      <td>X-linked</td>\n",
       "      <td>0.001109</td>\n",
       "      <td>8880</td>\n",
       "    </tr>\n",
       "    <tr>\n",
       "      <th>17</th>\n",
       "      <td>unconstrained</td>\n",
       "      <td>distal_nmd</td>\n",
       "      <td>True</td>\n",
       "      <td>Autosomal dominant</td>\n",
       "      <td>0.059018</td>\n",
       "      <td>11233</td>\n",
       "    </tr>\n",
       "    <tr>\n",
       "      <th>28</th>\n",
       "      <td>unconstrained</td>\n",
       "      <td>transcript</td>\n",
       "      <td>True</td>\n",
       "      <td>Autosomal recessive</td>\n",
       "      <td>0.125194</td>\n",
       "      <td>8880</td>\n",
       "    </tr>\n",
       "  </tbody>\n",
       "</table>\n",
       "</div>"
      ],
      "text/plain": [
       "       constraint      region  phenotype          inheritance  abs_proportion  \\\n",
       "31  unconstrained  transcript       True             X-linked        0.001109   \n",
       "17  unconstrained  distal_nmd       True   Autosomal dominant        0.059018   \n",
       "28  unconstrained  transcript       True  Autosomal recessive        0.125194   \n",
       "\n",
       "        n  \n",
       "31   8880  \n",
       "17  11233  \n",
       "28   8880  "
      ]
     },
     "execution_count": 3,
     "metadata": {},
     "output_type": "execute_result"
    }
   ],
   "source": [
    "# Proportion of constrained genes with a phenotype\n",
    "_a = df.groupby([\"constraint\", \"region\"])[\"phenotype\"].value_counts(normalize=True)\n",
    "\n",
    "# Inheritance mode for genes with a phenotype\n",
    "_b = df.groupby([\"constraint\", \"region\", \"phenotype\"])[\"inheritance\"].value_counts(\n",
    "    normalize=True\n",
    ")\n",
    "\n",
    "# Get the absolute proportion for each inheritance mode\n",
    "omim_constraint_inheritance = (_a * _b).dropna().rename(\"abs_proportion\")\n",
    "\n",
    "# Number of unique genes in each region / constraint category\n",
    "_c = df.groupby([\"region\", \"constraint\"])[\"ensg\"].nunique().rename(\"n\")\n",
    "\n",
    "# Combine absolute proportions and gene counts\n",
    "omim_constraint_inheritance = omim_constraint_inheritance.to_frame()  # Allows merging\n",
    "omim_constraint_inheritance = omim_constraint_inheritance.merge(\n",
    "    _c, left_index=True, right_index=True\n",
    ")  # Add gene counts\n",
    "omim_constraint_inheritance = omim_constraint_inheritance.reset_index(drop=False)\n",
    "\n",
    "# Order the data\n",
    "constraint = [\"constrained\", \"unconstrained\"]\n",
    "region = [\"transcript\",\"nmd_target\",\"long_exon\",\"distal_nmd\"]\n",
    "inheritance = [\"Autosomal dominant\",\"Autosomal recessive\",\"X-linked\",\"Other\"]\n",
    "\n",
    "for col, order in zip([\"constraint\",\"region\",\"inheritance\"],[constraint,region,inheritance]):\n",
    "    omim_constraint_inheritance[col] = pd.Categorical(omim_constraint_inheritance[col], categories=order, ordered=True,)\n",
    "\n",
    "omim_constraint_inheritance = omim_constraint_inheritance.sort_values([\"constraint\",\"region\",\"inheritance\"], ascending=True)\n",
    "\n",
    "# Show a sample of the data:\n",
    "print(\"Show a sample of the data:\")\n",
    "omim_constraint_inheritance.sample(3)"
   ]
  },
  {
   "cell_type": "markdown",
   "id": "0de716c9-9622-4162-96e8-16af538861f9",
   "metadata": {},
   "source": [
    "Genes associated with >1 mode of inheritance are double-counted."
   ]
  },
  {
   "cell_type": "markdown",
   "id": "7a4994b6-da14-4765-9e99-a4d1eb1e1d61",
   "metadata": {},
   "source": [
    "### Plot"
   ]
  },
  {
   "cell_type": "code",
   "execution_count": 4,
   "id": "27f44604-4dab-4f6b-9ed6-1a2ed4b139cb",
   "metadata": {
    "tags": []
   },
   "outputs": [],
   "source": [
    "def plot_omim_constraint_inheritance(df, ax, region, legend=False, ylabel=False):\n",
    "\n",
    "    df = df.query(f\"region == '{region}'\")\n",
    "\n",
    "    colors = {\n",
    "        \"Autosomal dominant\": C.blue,\n",
    "        \"Autosomal recessive\": adjust_lightness(C.blue, 1.5),\n",
    "        \"X-linked\": adjust_lightness(C.green, 1),\n",
    "        \"Other\": adjust_lightness(C.grey, 1),\n",
    "    }\n",
    "\n",
    "    labels = {\n",
    "        \"transcript\": \"Transcript\",\n",
    "        \"nmd_target\": \"NMD Target\",\n",
    "        \"long_exon\": \"Long Exon\",\n",
    "        \"distal_nmd\": \"Distal\",\n",
    "    }\n",
    "\n",
    "    # Define common variables\n",
    "    inheritance = df.inheritance.unique()\n",
    "    n = df[\"constraint\"].nunique()\n",
    "    ticks = np.arange(n)\n",
    "\n",
    "    # A stacked bar chart - define the y-axis coordinate of the bottom of the bar\n",
    "    bottom = np.zeros(len(ticks))\n",
    "\n",
    "    # For each inheritance mode, add a separate bar to the Axes\n",
    "    for i in inheritance:\n",
    "\n",
    "        color = colors[i]\n",
    "\n",
    "        # Subset to one inheritance mode\n",
    "        _df = df[df[\"inheritance\"] == i]\n",
    "\n",
    "        # Add the bar(s)\n",
    "        b = ax.bar(\n",
    "            x=ticks,\n",
    "            height=_df[\"abs_proportion\"],\n",
    "            label=_df[\"inheritance\"],\n",
    "            color=color,\n",
    "            bottom=bottom,  # The y-position of the bottom of the bar\n",
    "        )\n",
    "\n",
    "        # Stack the bars\n",
    "        bottom += list(_df[\"abs_proportion\"])\n",
    "        \n",
    "    # Y label\n",
    "    \n",
    "    if ylabel: \n",
    "        ax.set_ylabel(ylabel)\n",
    "    \n",
    "    # Y ticks    \n",
    "    ax.set_yticks(ticks=[0, 0.1, 0.2, 0.3])\n",
    "\n",
    "    # X ticks\n",
    "    ax.set_xticks(\n",
    "        ticks=ticks,\n",
    "        labels=_df[\"constraint\"].str.capitalize(),\n",
    "        rotation=90,\n",
    "        # rotation_mode=\"anchor\",\n",
    "        # ha=\"right\"\n",
    "    )\n",
    "    \n",
    "    ax.tick_params(axis=\"x\", length=0)  # Hide x ticks\n",
    "    \n",
    "    # Title\n",
    "    ax.set_title(labels[region])\n",
    "\n",
    "    # Legend\n",
    "    if legend:\n",
    "        handles = [ax.get_legend_handles_labels()[0][x] for x in [0,2,4,6]][::-1]\n",
    "        labels = [ax.get_legend_handles_labels()[1][x] for x in [0,2,4,6]][::-1]\n",
    "        ax.legend(handles, labels, bbox_to_anchor=(1, 0), loc=\"lower left\")\n",
    "\n",
    "    return ax.get_legend_handles_labels()"
   ]
  },
  {
   "cell_type": "code",
   "execution_count": 5,
   "id": "d4fa5383-4309-4f7d-a7ce-e9879460e9a1",
   "metadata": {
    "tags": []
   },
   "outputs": [],
   "source": [
    "cm = 1 / 2.54"
   ]
  },
  {
   "cell_type": "code",
   "execution_count": 6,
   "id": "76e21feb-21ef-4eef-affc-4db46ac0ddb8",
   "metadata": {
    "tags": []
   },
   "outputs": [
    {
     "data": {
      "image/png": "[encoded data removed]",
      "text/plain": [
       "<Figure size 472.441x196.85 with 4 Axes>"
      ]
     },
     "metadata": {},
     "output_type": "display_data"
    }
   ],
   "source": [
    "# Specify figure properties\n",
    "fig, axs = plt.subplots(\n",
    "    1, 4, layout=\"constrained\", figsize=(12 * cm, 5 * cm), sharey=True,\n",
    ")\n",
    "\n",
    "plot_omim_constraint_inheritance(omim_constraint_inheritance, axs[0], \"transcript\", ylabel=\"Proportion OMIM morbid\")\n",
    "plot_omim_constraint_inheritance(omim_constraint_inheritance, axs[1], \"nmd_target\")\n",
    "plot_omim_constraint_inheritance(omim_constraint_inheritance, axs[2], \"long_exon\")\n",
    "plot_omim_constraint_inheritance(omim_constraint_inheritance, axs[3], \"distal_nmd\", legend=True)\n",
    "\n",
    "# Save the figure\n",
    "plt.savefig(\n",
    "    \"../plots/fig_s2_omim_morbid_constrained_regions.svg\", format=\"svg\", bbox_inches=\"tight\"\n",
    ")"
   ]
  },
  {
   "cell_type": "code",
   "execution_count": null,
   "id": "3bb62409-db66-459e-bc61-1b8ae4e90977",
   "metadata": {},
   "outputs": [],
   "source": []
  },
  {
   "cell_type": "code",
   "execution_count": null,
   "id": "7980f34b-3747-485e-a20e-768bd04bfead",
   "metadata": {},
   "outputs": [],
   "source": []
  }
 ],
 "metadata": {
  "kernelspec": {
   "display_name": "Python [conda env:ukb]",
   "language": "python",
   "name": "conda-env-ukb-py"
  },
  "language_info": {
   "codemirror_mode": {
    "name": "ipython",
    "version": 3
   },
   "file_extension": ".py",
   "mimetype": "text/x-python",
   "name": "python",
   "nbconvert_exporter": "python",
   "pygments_lexer": "ipython3",
   "version": "3.8.17"
  }
 },
 "nbformat": 4,
 "nbformat_minor": 5
}
