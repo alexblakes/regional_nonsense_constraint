{
 "cells": [
  {
   "cell_type": "code",
   "execution_count": 14,
   "id": "b595c40b-f73f-41ec-9796-b64b9903bdff",
   "metadata": {
    "tags": []
   },
   "outputs": [],
   "source": [
    "import seaborn as sns\n",
    "import matplotlib.colors as mc\n",
    "import colorsys"
   ]
  },
  {
   "cell_type": "code",
   "execution_count": 18,
   "id": "a7b2984a-5e61-47cb-93a3-6aeb05bc019b",
   "metadata": {
    "tags": []
   },
   "outputs": [],
   "source": [
    "def set_color_palette(palette = \"colorblind\"):\n",
    "    sns.color_palette(palette)\n",
    "    return sns.color_palette(palette).as_hex()"
   ]
  },
  {
   "cell_type": "code",
   "execution_count": 16,
   "id": "6b6c0b6d-b730-4cf1-a196-88f79f28296a",
   "metadata": {
    "tags": []
   },
   "outputs": [],
   "source": [
    "def adjust_lightness(color, amount=0.5):\n",
    "    try:\n",
    "        c = mc.cnames[color]\n",
    "    except:\n",
    "        c = color\n",
    "    c = colorsys.rgb_to_hls(*mc.to_rgb(c))\n",
    "    return colorsys.hls_to_rgb(c[0], max(0, min(1, amount * c[1])), c[2])"
   ]
  },
  {
   "cell_type": "code",
   "execution_count": 17,
   "id": "0e8d83b7-0e7b-424f-91d5-939e33994899",
   "metadata": {
    "tags": []
   },
   "outputs": [],
   "source": []
  },
  {
   "cell_type": "code",
   "execution_count": null,
   "id": "5eaa0c30-5e12-4995-8cfe-8bf4e12f0d55",
   "metadata": {},
   "outputs": [],
   "source": []
  }
 ],
 "metadata": {
  "kernelspec": {
   "display_name": "Python [conda env:ukb]",
   "language": "python",
   "name": "conda-env-ukb-py"
  },
  "language_info": {
   "codemirror_mode": {
    "name": "ipython",
    "version": 3
   },
   "file_extension": ".py",
   "mimetype": "text/x-python",
   "name": "python",
   "nbconvert_exporter": "python",
   "pygments_lexer": "ipython3",
   "version": "3.8.16"
  }
 },
 "nbformat": 4,
 "nbformat_minor": 5
}
