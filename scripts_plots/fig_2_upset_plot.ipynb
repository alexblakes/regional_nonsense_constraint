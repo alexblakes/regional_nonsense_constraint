{
 "cells": [
  {
   "cell_type": "markdown",
   "id": "92cb07d8-3c82-4d27-b0a6-74921fba714d",
   "metadata": {},
   "source": [
    "# Constraint upset plot\n",
    "Plot the intersection of constrained transcripts and regions"
   ]
  },
  {
   "cell_type": "code",
   "execution_count": 1,
   "id": "c0e3c186-cc8e-45c3-b0ae-b1fc7345ab5f",
   "metadata": {
    "tags": []
   },
   "outputs": [
    {
     "name": "stdout",
     "output_type": "stream",
     "text": [
      "The color palette is saved in the global variable, C\n",
      "C = color_palette(blue='#0077bb', green='#009988', orange='#ee7733', red='#cc3311', light_blue='#33bbee', pink='#ee3377', grey='#bbbbbb', black='#000000')\n"
     ]
    }
   ],
   "source": [
    "import matplotlib.pyplot as plt\n",
    "import numpy as np\n",
    "import pandas as pd\n",
    "import seaborn as sns\n",
    "import upsetplot\n",
    "\n",
    "%run _color_tools.ipynb"
   ]
  },
  {
   "cell_type": "code",
   "execution_count": 2,
   "id": "a1d6665b-fa12-481f-84fc-6299c9305c50",
   "metadata": {
    "tags": []
   },
   "outputs": [],
   "source": [
    "# Read the constraint data into memory\n",
    "df = (\n",
    "    pd.read_csv(\n",
    "        \"../outputs/expected_variants_all_regions_stats.tsv\",\n",
    "        sep=\"\\t\",\n",
    "        usecols=[\"region\", \"enst\", \"csq\", \"n_obs\", \"oe\", \"z\", \"p\", \"fdr_p\"],\n",
    "    )\n",
    "    .pivot(  # We need, for example, synonymous Z-scores for later filtering\n",
    "        index=[\"region\", \"enst\"],\n",
    "        columns=\"csq\",\n",
    "        values=[\"n_obs\", \"oe\", \"z\", \"p\", \"fdr_p\"],\n",
    "    )\n",
    "    .swaplevel(\n",
    "        axis=1,\n",
    "    )\n",
    "    .reset_index(\n",
    "        drop=False,\n",
    "    )\n",
    ")"
   ]
  },
  {
   "cell_type": "code",
   "execution_count": 3,
   "id": "16b5ad49-b8cb-4e1f-89e8-8cbf02040ea2",
   "metadata": {
    "tags": []
   },
   "outputs": [
    {
     "data": {
      "text/html": [
       "<div>\n",
       "<style scoped>\n",
       "    .dataframe tbody tr th:only-of-type {\n",
       "        vertical-align: middle;\n",
       "    }\n",
       "\n",
       "    .dataframe tbody tr th {\n",
       "        vertical-align: top;\n",
       "    }\n",
       "\n",
       "    .dataframe thead th {\n",
       "        text-align: right;\n",
       "    }\n",
       "</style>\n",
       "<table border=\"1\" class=\"dataframe\">\n",
       "  <thead>\n",
       "    <tr style=\"text-align: right;\">\n",
       "      <th></th>\n",
       "      <th>region</th>\n",
       "      <th>enst</th>\n",
       "      <th>constraint</th>\n",
       "    </tr>\n",
       "  </thead>\n",
       "  <tbody>\n",
       "    <tr>\n",
       "      <th>1</th>\n",
       "      <td>distal_nmd</td>\n",
       "      <td>ENST00000000412</td>\n",
       "      <td>unconstrained</td>\n",
       "    </tr>\n",
       "    <tr>\n",
       "      <th>2</th>\n",
       "      <td>distal_nmd</td>\n",
       "      <td>ENST00000000442</td>\n",
       "      <td>unconstrained</td>\n",
       "    </tr>\n",
       "    <tr>\n",
       "      <th>3</th>\n",
       "      <td>distal_nmd</td>\n",
       "      <td>ENST00000001008</td>\n",
       "      <td>unconstrained</td>\n",
       "    </tr>\n",
       "  </tbody>\n",
       "</table>\n",
       "</div>"
      ],
      "text/plain": [
       "       region             enst     constraint\n",
       "1  distal_nmd  ENST00000000412  unconstrained\n",
       "2  distal_nmd  ENST00000000442  unconstrained\n",
       "3  distal_nmd  ENST00000001008  unconstrained"
      ]
     },
     "execution_count": 3,
     "metadata": {},
     "output_type": "execute_result"
    }
   ],
   "source": [
    "# Find constrained and unconstrained regions\n",
    "## The columns are a multi-index which need to be merged\n",
    "df.columns = [\"_\".join(x).strip(\"_\") for x in df.columns.values]\n",
    "\n",
    "## Keep only the relevant columns\n",
    "df = df[\n",
    "    [\n",
    "        \"region\",\n",
    "        \"enst\",\n",
    "        \"nonsense_n_obs\",\n",
    "        \"nonsense_oe\",\n",
    "        \"synonymous_z\",\n",
    "        \"nonsense_p\",\n",
    "        \"nonsense_fdr_p\",\n",
    "    ]\n",
    "]\n",
    "\n",
    "## Filter for constrained and unconstrained regions / transcripts\n",
    "m1 = df[\"nonsense_oe\"] < 0.35\n",
    "m2 = df[\"synonymous_z\"] > -1\n",
    "m3 = df[\"nonsense_fdr_p\"] < 0.05\n",
    "\n",
    "m4 = df[\"nonsense_p\"] >= 0.05\n",
    "m5 = df[\"nonsense_n_obs\"] >= 1\n",
    "\n",
    "df.loc[m1 & m2 & m3, \"constraint\"] = \"constrained\"\n",
    "df.loc[m4 & m5, \"constraint\"] = \"unconstrained\"\n",
    "\n",
    "## Drop irrelevant columns, and regions which lack definitive constraint annotations\n",
    "df = df[[\"region\", \"enst\", \"constraint\"]].dropna()\n",
    "\n",
    "df.head(3)"
   ]
  },
  {
   "cell_type": "code",
   "execution_count": 4,
   "id": "5a82cb98-ed97-4c94-9fd7-385614bafdea",
   "metadata": {
    "tags": []
   },
   "outputs": [
    {
     "data": {
      "text/html": [
       "<div>\n",
       "<style scoped>\n",
       "    .dataframe tbody tr th:only-of-type {\n",
       "        vertical-align: middle;\n",
       "    }\n",
       "\n",
       "    .dataframe tbody tr th {\n",
       "        vertical-align: top;\n",
       "    }\n",
       "\n",
       "    .dataframe thead th {\n",
       "        text-align: right;\n",
       "    }\n",
       "</style>\n",
       "<table border=\"1\" class=\"dataframe\">\n",
       "  <thead>\n",
       "    <tr style=\"text-align: right;\">\n",
       "      <th></th>\n",
       "      <th>Distal</th>\n",
       "      <th>Long exon</th>\n",
       "      <th>NMD target</th>\n",
       "      <th>Start proximal</th>\n",
       "      <th>Transcript</th>\n",
       "    </tr>\n",
       "    <tr>\n",
       "      <th>enst</th>\n",
       "      <th></th>\n",
       "      <th></th>\n",
       "      <th></th>\n",
       "      <th></th>\n",
       "      <th></th>\n",
       "    </tr>\n",
       "  </thead>\n",
       "  <tbody>\n",
       "    <tr>\n",
       "      <th>ENST00000000233</th>\n",
       "      <td>False</td>\n",
       "      <td>False</td>\n",
       "      <td>False</td>\n",
       "      <td>False</td>\n",
       "      <td>False</td>\n",
       "    </tr>\n",
       "    <tr>\n",
       "      <th>ENST00000000412</th>\n",
       "      <td>False</td>\n",
       "      <td>False</td>\n",
       "      <td>False</td>\n",
       "      <td>False</td>\n",
       "      <td>False</td>\n",
       "    </tr>\n",
       "    <tr>\n",
       "      <th>ENST00000000442</th>\n",
       "      <td>False</td>\n",
       "      <td>False</td>\n",
       "      <td>False</td>\n",
       "      <td>False</td>\n",
       "      <td>False</td>\n",
       "    </tr>\n",
       "    <tr>\n",
       "      <th>ENST00000001008</th>\n",
       "      <td>False</td>\n",
       "      <td>False</td>\n",
       "      <td>False</td>\n",
       "      <td>False</td>\n",
       "      <td>False</td>\n",
       "    </tr>\n",
       "    <tr>\n",
       "      <th>ENST00000001146</th>\n",
       "      <td>False</td>\n",
       "      <td>False</td>\n",
       "      <td>False</td>\n",
       "      <td>False</td>\n",
       "      <td>True</td>\n",
       "    </tr>\n",
       "  </tbody>\n",
       "</table>\n",
       "</div>"
      ],
      "text/plain": [
       "                 Distal  Long exon  NMD target  Start proximal  Transcript\n",
       "enst                                                                      \n",
       "ENST00000000233   False      False       False           False       False\n",
       "ENST00000000412   False      False       False           False       False\n",
       "ENST00000000442   False      False       False           False       False\n",
       "ENST00000001008   False      False       False           False       False\n",
       "ENST00000001146   False      False       False           False        True"
      ]
     },
     "execution_count": 4,
     "metadata": {},
     "output_type": "execute_result"
    }
   ],
   "source": [
    "# Reformat the data for upset plot\n",
    "dfp = df.copy()\n",
    "\n",
    "dfp = (\n",
    "    dfp.pivot(index=\"enst\", columns=\"region\", values=\"constraint\")\n",
    "    .fillna(False)\n",
    "    .replace(\"unconstrained\", False)\n",
    "    .replace(\"constrained\", True)\n",
    ")\n",
    "region_names = [\"Distal\", \"Long exon\", \"NMD target\", \"Start proximal\", \"Transcript\"]\n",
    "dfp.columns = [\"Distal\", \"Long exon\", \"NMD target\", \"Start proximal\", \"Transcript\"]\n",
    "dfp.head()"
   ]
  },
  {
   "cell_type": "code",
   "execution_count": 5,
   "id": "65a5dcce-d7be-42ee-b881-796b2650a72e",
   "metadata": {
    "tags": []
   },
   "outputs": [
    {
     "ename": "NameError",
     "evalue": "name 'upset' is not defined",
     "output_type": "error",
     "traceback": [
      "\u001b[0;31m---------------------------------------------------------------------------\u001b[0m",
      "\u001b[0;31mNameError\u001b[0m                                 Traceback (most recent call last)",
      "Cell \u001b[0;32mIn[5], line 11\u001b[0m\n\u001b[1;32m      1\u001b[0m upset_args \u001b[38;5;241m=\u001b[39m \u001b[38;5;28mdict\u001b[39m(\n\u001b[1;32m      2\u001b[0m     max_subset_size\u001b[38;5;241m=\u001b[39m\u001b[38;5;241m2500\u001b[39m,\n\u001b[1;32m      3\u001b[0m     show_counts\u001b[38;5;241m=\u001b[39m\u001b[38;5;28;01mTrue\u001b[39;00m,\n\u001b[0;32m   (...)\u001b[0m\n\u001b[1;32m      7\u001b[0m     facecolor\u001b[38;5;241m=\u001b[39mC\u001b[38;5;241m.\u001b[39mblue,\n\u001b[1;32m      8\u001b[0m )\n\u001b[1;32m     10\u001b[0m \u001b[38;5;66;03m# Visualise the plot\u001b[39;00m\n\u001b[0;32m---> 11\u001b[0m u \u001b[38;5;241m=\u001b[39m upsetplot\u001b[38;5;241m.\u001b[39mplot(\u001b[43mupset\u001b[49m, \u001b[38;5;241m*\u001b[39m\u001b[38;5;241m*\u001b[39mupset_args)\n\u001b[1;32m     13\u001b[0m \u001b[38;5;66;03m# Customise the \"totals\" Axes\u001b[39;00m\n\u001b[1;32m     14\u001b[0m u[\u001b[38;5;124m\"\u001b[39m\u001b[38;5;124mtotals\u001b[39m\u001b[38;5;124m\"\u001b[39m]\u001b[38;5;241m.\u001b[39mgrid(\u001b[38;5;28;01mFalse\u001b[39;00m)\n",
      "\u001b[0;31mNameError\u001b[0m: name 'upset' is not defined"
     ]
    }
   ],
   "source": [
    "upset_args = dict(\n",
    "    max_subset_size=2500,\n",
    "    show_counts=True,\n",
    "    element_size=20,\n",
    "    intersection_plot_elements=3,\n",
    "    totals_plot_elements=3,\n",
    "    facecolor=C.blue,\n",
    ")\n",
    "\n",
    "# Visualise the plot\n",
    "u = upsetplot.plot(upset, **upset_args)\n",
    "\n",
    "# Customise the \"totals\" Axes\n",
    "u[\"totals\"].grid(False)\n",
    "u[\"totals\"].set_xticks([])\n",
    "u[\"totals\"].spines[\"bottom\"].set_visible(False)\n",
    "u[\"totals\"].set_title(\"Total constrained\", loc=\"right\", ha=\"right\")\n",
    "\n",
    "# Customise the \"intersection\" Axes\n",
    "u[\"intersections\"].set_ylabel(\"Intersecting\\nconstrained\", va=\"bottom\", loc=\"bottom\")\n",
    "u[\"intersections\"].grid(False)\n",
    "u[\"intersections\"].set_yticks([])\n",
    "u[\"intersections\"].spines[\"left\"].set_visible(False)\n",
    "# u[\"intersections\"].set_ylabel(None)\n",
    "\n",
    "plt.show()\n",
    "\n",
    "plt.savefig(\"../plots/constraint_in_regions_upset_plot.svg\")\n",
    "plt.savefig(\"../plots/constraint_in_regions_upset_plot.png\", dpi=1000) # PNG also"
   ]
  },
  {
   "cell_type": "code",
   "execution_count": null,
   "id": "8ca822ff-ff92-4fe4-9e42-1942960c200c",
   "metadata": {},
   "outputs": [],
   "source": []
  }
 ],
 "metadata": {
  "kernelspec": {
   "display_name": "Python [conda env:ukb]",
   "language": "python",
   "name": "conda-env-ukb-py"
  },
  "language_info": {
   "codemirror_mode": {
    "name": "ipython",
    "version": 3
   },
   "file_extension": ".py",
   "mimetype": "text/x-python",
   "name": "python",
   "nbconvert_exporter": "python",
   "pygments_lexer": "ipython3",
   "version": "3.8.17"
  }
 },
 "nbformat": 4,
 "nbformat_minor": 5
}
