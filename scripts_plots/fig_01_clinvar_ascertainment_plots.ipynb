{
 "cells": [
  {
   "cell_type": "markdown",
   "id": "1bd422d7-680d-4b7a-a77c-dbff54edc199",
   "metadata": {},
   "source": [
    "# ClinVar ascertainment plots"
   ]
  },
  {
   "cell_type": "code",
   "execution_count": 1,
   "id": "e6bdec25-8a80-4d6b-a30f-e8a08cd6588a",
   "metadata": {
    "tags": []
   },
   "outputs": [
    {
     "name": "stdout",
     "output_type": "stream",
     "text": [
      "The color palette is saved in the global variable, C\n",
      "C = color_palette(blue='#0077bb', green='#009988', orange='#ee7733', red='#cc3311', light_blue='#33bbee', pink='#ee3377', grey='#bbbbbb', black='#000000')\n"
     ]
    }
   ],
   "source": [
    "import numpy as np\n",
    "import pandas as pd\n",
    "\n",
    "%run _color_tools.ipynb"
   ]
  },
  {
   "cell_type": "code",
   "execution_count": 2,
   "id": "79e519ff-8939-4f29-be1c-3ddd549debfc",
   "metadata": {
    "tags": []
   },
   "outputs": [],
   "source": [
    "regions = [\"nmd_target\", \"distal_nmd\", \"start_proximal\", \"long_exon\"]\n",
    "region_order = [\"nmd_target\", \"long_exon\", \"distal_nmd\", \"start_proximal\"]\n",
    "region_labels = [\"NMD target\", \"Long exon\", \"Distal\", \"Start proximal\"]\n",
    "\n",
    "\n",
    "def categorise_regions(df):\n",
    "    df[\"region\"] = pd.Categorical(df[\"region\"], categories=region_order, ordered=True)\n",
    "    df = df.sort_values(\"region\")\n",
    "    return df"
   ]
  },
  {
   "cell_type": "code",
   "execution_count": 3,
   "id": "a15026ae-3395-4a89-bb86-f0659c7f95d9",
   "metadata": {
    "tags": []
   },
   "outputs": [],
   "source": [
    "def plot_clinvar_bars(df, ax, height, ylabel, bar_label=True, axhline=False):\n",
    "\n",
    "    n = len(df)\n",
    "    x = np.arange(n)\n",
    "    h = df[height]\n",
    "\n",
    "    b = ax.bar(\n",
    "        x=x / n,\n",
    "        height=h,\n",
    "        width=1 / (n + 1),\n",
    "    )\n",
    "    if bar_label:\n",
    "        ax.bar_label(b, fmt=\"%.2f\")\n",
    "\n",
    "    ax.set_xticks(\n",
    "        ticks=x / n,\n",
    "        labels=region_labels,\n",
    "        rotation=90,\n",
    "        ha=\"center\",\n",
    "    )\n",
    "    ax.tick_params(axis=\"x\", length=0)\n",
    "\n",
    "    ax.set_ylabel(ylabel)\n",
    "    \n",
    "    if axhline:\n",
    "        ax.axhline(y=axhline, linestyle=\"--\", color=C.grey)\n",
    "\n",
    "    return None"
   ]
  },
  {
   "cell_type": "markdown",
   "id": "2482680b-5d6a-4cd2-9f5e-f1d846165967",
   "metadata": {},
   "source": [
    "## CDS footprints of NMD regions"
   ]
  },
  {
   "cell_type": "code",
   "execution_count": 4,
   "id": "8dcbef0c-49e4-45f4-9e91-77eca6e0aeab",
   "metadata": {
    "tags": []
   },
   "outputs": [
    {
     "data": {
      "text/html": [
       "<div>\n",
       "<style scoped>\n",
       "    .dataframe tbody tr th:only-of-type {\n",
       "        vertical-align: middle;\n",
       "    }\n",
       "\n",
       "    .dataframe tbody tr th {\n",
       "        vertical-align: top;\n",
       "    }\n",
       "\n",
       "    .dataframe thead th {\n",
       "        text-align: right;\n",
       "    }\n",
       "</style>\n",
       "<table border=\"1\" class=\"dataframe\">\n",
       "  <thead>\n",
       "    <tr style=\"text-align: right;\">\n",
       "      <th></th>\n",
       "      <th>region</th>\n",
       "      <th>footprint</th>\n",
       "    </tr>\n",
       "  </thead>\n",
       "  <tbody>\n",
       "    <tr>\n",
       "      <th>0</th>\n",
       "      <td>nmd_target</td>\n",
       "      <td>0.613358</td>\n",
       "    </tr>\n",
       "    <tr>\n",
       "      <th>3</th>\n",
       "      <td>long_exon</td>\n",
       "      <td>0.079188</td>\n",
       "    </tr>\n",
       "    <tr>\n",
       "      <th>1</th>\n",
       "      <td>distal_nmd</td>\n",
       "      <td>0.219985</td>\n",
       "    </tr>\n",
       "    <tr>\n",
       "      <th>2</th>\n",
       "      <td>start_proximal</td>\n",
       "      <td>0.087468</td>\n",
       "    </tr>\n",
       "  </tbody>\n",
       "</table>\n",
       "</div>"
      ],
      "text/plain": [
       "           region  footprint\n",
       "0      nmd_target   0.613358\n",
       "3       long_exon   0.079188\n",
       "1      distal_nmd   0.219985\n",
       "2  start_proximal   0.087468"
      ]
     },
     "execution_count": 4,
     "metadata": {},
     "output_type": "execute_result"
    }
   ],
   "source": [
    "footprint = pd.read_csv(\"../outputs/stats_nmd_footprint.tsv\", sep=\"\\t\").pipe(categorise_regions)\n",
    "\n",
    "footprint"
   ]
  },
  {
   "cell_type": "code",
   "execution_count": 5,
   "id": "b0cf0e6e-8690-4361-97a1-4140db10356f",
   "metadata": {
    "tags": []
   },
   "outputs": [
    {
     "data": {
      "image/png": "[encoded data removed]",
      "text/plain": [
       "<Figure size 350x300 with 1 Axes>"
      ]
     },
     "metadata": {},
     "output_type": "display_data"
    }
   ],
   "source": [
    "fig, ax = plt.subplots()\n",
    "plot_clinvar_bars(footprint, ax, \"footprint\", \"Proportion of CDS\",)"
   ]
  },
  {
   "cell_type": "markdown",
   "id": "5c7ed2ca-bfc9-4596-b183-102b5d9c0787",
   "metadata": {},
   "source": [
    "## Ascertainment in ClinVar"
   ]
  },
  {
   "cell_type": "code",
   "execution_count": 6,
   "id": "339b3b18-292c-4fe5-b084-0f78994146cf",
   "metadata": {
    "tags": []
   },
   "outputs": [
    {
     "data": {
      "text/html": [
       "<div>\n",
       "<style scoped>\n",
       "    .dataframe tbody tr th:only-of-type {\n",
       "        vertical-align: middle;\n",
       "    }\n",
       "\n",
       "    .dataframe tbody tr th {\n",
       "        vertical-align: top;\n",
       "    }\n",
       "\n",
       "    .dataframe thead th {\n",
       "        text-align: right;\n",
       "    }\n",
       "</style>\n",
       "<table border=\"1\" class=\"dataframe\">\n",
       "  <thead>\n",
       "    <tr style=\"text-align: right;\">\n",
       "      <th></th>\n",
       "      <th>region</th>\n",
       "      <th>prop_norm</th>\n",
       "    </tr>\n",
       "  </thead>\n",
       "  <tbody>\n",
       "    <tr>\n",
       "      <th>2</th>\n",
       "      <td>nmd_target</td>\n",
       "      <td>1.153902</td>\n",
       "    </tr>\n",
       "    <tr>\n",
       "      <th>1</th>\n",
       "      <td>long_exon</td>\n",
       "      <td>1.406573</td>\n",
       "    </tr>\n",
       "    <tr>\n",
       "      <th>0</th>\n",
       "      <td>distal_nmd</td>\n",
       "      <td>0.567295</td>\n",
       "    </tr>\n",
       "    <tr>\n",
       "      <th>3</th>\n",
       "      <td>start_proximal</td>\n",
       "      <td>0.640970</td>\n",
       "    </tr>\n",
       "  </tbody>\n",
       "</table>\n",
       "</div>"
      ],
      "text/plain": [
       "           region  prop_norm\n",
       "2      nmd_target   1.153902\n",
       "1       long_exon   1.406573\n",
       "0      distal_nmd   0.567295\n",
       "3  start_proximal   0.640970"
      ]
     },
     "execution_count": 6,
     "metadata": {},
     "output_type": "execute_result"
    }
   ],
   "source": [
    "asrtn = pd.read_csv(\"../outputs/stats_clinvar_ascertainment.tsv\", sep=\"\\t\").pipe(\n",
    "    categorise_regions\n",
    ")\n",
    "asrtn"
   ]
  },
  {
   "cell_type": "code",
   "execution_count": 7,
   "id": "52909d69-f80a-4370-9bac-b274fc3d6ade",
   "metadata": {
    "tags": []
   },
   "outputs": [
    {
     "data": {
      "image/png": "[encoded data removed]",
      "text/plain": [
       "<Figure size 350x300 with 1 Axes>"
      ]
     },
     "metadata": {},
     "output_type": "display_data"
    }
   ],
   "source": [
    "fig, ax = plt.subplots()\n",
    "plot_clinvar_bars(\n",
    "    asrtn, ax, \"prop_norm\", \"Truncating variants\\nin ClinVar (normalised)\", bar_label=False, axhline=1\n",
    ")"
   ]
  },
  {
   "cell_type": "markdown",
   "id": "0fb17c68-92c1-4735-8490-9e57ee325e32",
   "metadata": {},
   "source": [
    "## Proportion of truncating variants in ClinVar which are VUS"
   ]
  },
  {
   "cell_type": "code",
   "execution_count": 8,
   "id": "92273467-806a-4ab3-8729-8427e0fcf138",
   "metadata": {
    "tags": []
   },
   "outputs": [
    {
     "data": {
      "text/html": [
       "<div>\n",
       "<style scoped>\n",
       "    .dataframe tbody tr th:only-of-type {\n",
       "        vertical-align: middle;\n",
       "    }\n",
       "\n",
       "    .dataframe tbody tr th {\n",
       "        vertical-align: top;\n",
       "    }\n",
       "\n",
       "    .dataframe thead th {\n",
       "        text-align: right;\n",
       "    }\n",
       "</style>\n",
       "<table border=\"1\" class=\"dataframe\">\n",
       "  <thead>\n",
       "    <tr style=\"text-align: right;\">\n",
       "      <th></th>\n",
       "      <th>region</th>\n",
       "      <th>acmg</th>\n",
       "      <th>proportion</th>\n",
       "    </tr>\n",
       "  </thead>\n",
       "  <tbody>\n",
       "    <tr>\n",
       "      <th>7</th>\n",
       "      <td>nmd_target</td>\n",
       "      <td>VUS</td>\n",
       "      <td>0.087468</td>\n",
       "    </tr>\n",
       "    <tr>\n",
       "      <th>4</th>\n",
       "      <td>long_exon</td>\n",
       "      <td>VUS</td>\n",
       "      <td>0.054210</td>\n",
       "    </tr>\n",
       "    <tr>\n",
       "      <th>1</th>\n",
       "      <td>distal_nmd</td>\n",
       "      <td>VUS</td>\n",
       "      <td>0.310823</td>\n",
       "    </tr>\n",
       "    <tr>\n",
       "      <th>10</th>\n",
       "      <td>start_proximal</td>\n",
       "      <td>VUS</td>\n",
       "      <td>0.123434</td>\n",
       "    </tr>\n",
       "  </tbody>\n",
       "</table>\n",
       "</div>"
      ],
      "text/plain": [
       "            region acmg  proportion\n",
       "7       nmd_target  VUS    0.087468\n",
       "4        long_exon  VUS    0.054210\n",
       "1       distal_nmd  VUS    0.310823\n",
       "10  start_proximal  VUS    0.123434"
      ]
     },
     "execution_count": 8,
     "metadata": {},
     "output_type": "execute_result"
    }
   ],
   "source": [
    "clin_vus = (\n",
    "    pd.read_csv(\"../outputs/stats_clinvar_acmg_by_region.tsv\", sep=\"\\t\")\n",
    "    .query(\"acmg == 'VUS'\")\n",
    "    .pipe(categorise_regions)\n",
    ")\n",
    "clin_vus"
   ]
  },
  {
   "cell_type": "code",
   "execution_count": 9,
   "id": "dbfe44ba-64f3-465f-91f2-fe6673d461f5",
   "metadata": {
    "tags": []
   },
   "outputs": [
    {
     "data": {
      "image/png": "[encoded data removed]",
      "text/plain": [
       "<Figure size 350x300 with 1 Axes>"
      ]
     },
     "metadata": {},
     "output_type": "display_data"
    }
   ],
   "source": [
    "fig, ax = plt.subplots()\n",
    "plot_clinvar_bars(clin_vus, ax, \"proportion\",\"Proportion VUS\\n(truncating variants)\",)"
   ]
  }
 ],
 "metadata": {
  "kernelspec": {
   "display_name": "Python [conda env:ukb]",
   "language": "python",
   "name": "conda-env-ukb-py"
  },
  "language_info": {
   "codemirror_mode": {
    "name": "ipython",
    "version": 3
   },
   "file_extension": ".py",
   "mimetype": "text/x-python",
   "name": "python",
   "nbconvert_exporter": "python",
   "pygments_lexer": "ipython3",
   "version": "3.8.17"
  }
 },
 "nbformat": 4,
 "nbformat_minor": 5
}
