{
 "cells": [
  {
   "cell_type": "markdown",
   "id": "f13d874f-f68b-4756-b296-991462ff8ddb",
   "metadata": {},
   "source": [
    "# Color tools"
   ]
  },
  {
   "cell_type": "markdown",
   "id": "21cc7271-34ef-4094-9447-bb613fc0682b",
   "metadata": {},
   "source": [
    "## Imports"
   ]
  },
  {
   "cell_type": "code",
   "execution_count": 5,
   "id": "b595c40b-f73f-41ec-9796-b64b9903bdff",
   "metadata": {
    "tags": []
   },
   "outputs": [],
   "source": [
    "import colorsys\n",
    "from collections import namedtuple\n",
    "\n",
    "import matplotlib.colors as mc\n",
    "import matplotlib.pyplot as plt\n",
    "import seaborn as sns"
   ]
  },
  {
   "cell_type": "markdown",
   "id": "5603a848-df03-4fd9-a7db-a722692b7ead",
   "metadata": {},
   "source": [
    "## Global variables"
   ]
  },
  {
   "cell_type": "code",
   "execution_count": 7,
   "id": "cf1d371d-a4c6-4702-8802-90fe35ab4f77",
   "metadata": {
    "tags": []
   },
   "outputs": [
    {
     "data": {
      "text/html": [
       "<svg  width=\"440\" height=\"55\"><rect x=\"0\" y=\"0\" width=\"55\" height=\"55\" style=\"fill:#0077bb;stroke-width:2;stroke:rgb(255,255,255)\"/><rect x=\"55\" y=\"0\" width=\"55\" height=\"55\" style=\"fill:#009988;stroke-width:2;stroke:rgb(255,255,255)\"/><rect x=\"110\" y=\"0\" width=\"55\" height=\"55\" style=\"fill:#ee7733;stroke-width:2;stroke:rgb(255,255,255)\"/><rect x=\"165\" y=\"0\" width=\"55\" height=\"55\" style=\"fill:#cc3311;stroke-width:2;stroke:rgb(255,255,255)\"/><rect x=\"220\" y=\"0\" width=\"55\" height=\"55\" style=\"fill:#33bbee;stroke-width:2;stroke:rgb(255,255,255)\"/><rect x=\"275\" y=\"0\" width=\"55\" height=\"55\" style=\"fill:#ee3377;stroke-width:2;stroke:rgb(255,255,255)\"/><rect x=\"330\" y=\"0\" width=\"55\" height=\"55\" style=\"fill:#bbbbbb;stroke-width:2;stroke:rgb(255,255,255)\"/><rect x=\"385\" y=\"0\" width=\"55\" height=\"55\" style=\"fill:#000000;stroke-width:2;stroke:rgb(255,255,255)\"/></svg>"
      ],
      "text/plain": [
       "[(0.0, 0.4666666666666667, 0.7333333333333333),\n",
       " (0.0, 0.6, 0.5333333333333333),\n",
       " (0.9333333333333333, 0.4666666666666667, 0.2),\n",
       " (0.8, 0.2, 0.06666666666666667),\n",
       " (0.2, 0.7333333333333333, 0.9333333333333333),\n",
       " (0.9333333333333333, 0.2, 0.4666666666666667),\n",
       " (0.7333333333333333, 0.7333333333333333, 0.7333333333333333),\n",
       " (0.0, 0.0, 0.0)]"
      ]
     },
     "execution_count": 7,
     "metadata": {},
     "output_type": "execute_result"
    }
   ],
   "source": [
    "# Choose style sheet(s)\n",
    "plt.style.use(\"src/visualisation/default.mplstyle\")\n",
    "sns.color_palette()"
   ]
  },
  {
   "cell_type": "code",
   "execution_count": 20,
   "id": "9a20d146-d823-4e55-bb5e-cc72b2ca9c35",
   "metadata": {
    "tags": []
   },
   "outputs": [
    {
     "name": "stdout",
     "output_type": "stream",
     "text": [
      "The color palette is saved in the global variable, C\n",
      "C = color_palette(blue='#0077bb', green='#009988', orange='#ee7733', red='#cc3311', light_blue='#33bbee', pink='#ee3377', grey='#bbbbbb', black='#000000')\n"
     ]
    }
   ],
   "source": [
    "# Assign the color palette to a variable.\n",
    "# Individual colors can be selected by index (e.g. C[0])\n",
    "_c = namedtuple(\"color_palette\", \"blue green orange red light_blue pink grey black\")\n",
    "C = _c(*sns.color_palette().as_hex())"
   ]
  },
  {
   "cell_type": "code",
   "execution_count": null,
   "id": "926bd56f-75ec-4393-a140-7b059d728f95",
   "metadata": {},
   "outputs": [],
   "source": [
    "# cm to inch converter\n",
    "cm = 1 / 2.54"
   ]
  },
  {
   "cell_type": "code",
   "execution_count": null,
   "id": "256c6d4b-5eaf-4a03-afcb-a7d5a3c8553b",
   "metadata": {},
   "outputs": [],
   "source": [
    "print(\n",
    "    \"Global variables:\\n\",\n",
    "    \"\\t- C: color palette\\n\",\n",
    "    \"\\t- cm: cm to inch conversion factor\",\n",
    ")"
   ]
  },
  {
   "cell_type": "markdown",
   "id": "174a1a01-d5c2-40ea-a636-6ba8a9682c2c",
   "metadata": {},
   "source": [
    "## Useful functions"
   ]
  },
  {
   "cell_type": "code",
   "execution_count": 46,
   "id": "6b6c0b6d-b730-4cf1-a196-88f79f28296a",
   "metadata": {
    "tags": []
   },
   "outputs": [],
   "source": [
    "def adjust_lightness(color, amount=0.5):\n",
    "    try:\n",
    "        c = mc.cnames[color]\n",
    "    except:\n",
    "        c = color\n",
    "    c = colorsys.rgb_to_hls(*mc.to_rgb(c))\n",
    "    return colorsys.hls_to_rgb(c[0], max(0, min(1, amount * c[1])), c[2])"
   ]
  },
  {
   "cell_type": "code",
   "execution_count": null,
   "id": "a0defcb6-ca40-4725-9723-fb989c4fcc1a",
   "metadata": {},
   "outputs": [],
   "source": [
    "def panel_label(ax, s, x=-0.05, y=1.05):\n",
    "    ax.text(\n",
    "        x,\n",
    "        y,\n",
    "        s,\n",
    "        transform=a.transAxes,\n",
    "        va=\"bottom\",\n",
    "        ha=\"right\",\n",
    "        fontsize=8,\n",
    "        fontweight=\"bold\",\n",
    "    )"
   ]
  },
  {
   "cell_type": "markdown",
   "id": "399a26b1-9b00-46f3-9bf9-f03505ab6340",
   "metadata": {},
   "source": [
    "## Examples"
   ]
  },
  {
   "cell_type": "markdown",
   "id": "1f0d458e-58ba-4cd6-b251-d5f13e9a8bd6",
   "metadata": {},
   "source": [
    "### Qualitative"
   ]
  },
  {
   "cell_type": "code",
   "execution_count": 63,
   "id": "275fc22e-011b-4770-a1cc-cb8c189a9458",
   "metadata": {
    "tags": []
   },
   "outputs": [
    {
     "data": {
      "text/html": [
       "<svg  width=\"440\" height=\"55\"><rect x=\"0\" y=\"0\" width=\"55\" height=\"55\" style=\"fill:#0077bb;stroke-width:2;stroke:rgb(255,255,255)\"/><rect x=\"55\" y=\"0\" width=\"55\" height=\"55\" style=\"fill:#009988;stroke-width:2;stroke:rgb(255,255,255)\"/><rect x=\"110\" y=\"0\" width=\"55\" height=\"55\" style=\"fill:#ee7733;stroke-width:2;stroke:rgb(255,255,255)\"/><rect x=\"165\" y=\"0\" width=\"55\" height=\"55\" style=\"fill:#cc3311;stroke-width:2;stroke:rgb(255,255,255)\"/><rect x=\"220\" y=\"0\" width=\"55\" height=\"55\" style=\"fill:#33bbee;stroke-width:2;stroke:rgb(255,255,255)\"/><rect x=\"275\" y=\"0\" width=\"55\" height=\"55\" style=\"fill:#ee3377;stroke-width:2;stroke:rgb(255,255,255)\"/><rect x=\"330\" y=\"0\" width=\"55\" height=\"55\" style=\"fill:#bbbbbb;stroke-width:2;stroke:rgb(255,255,255)\"/><rect x=\"385\" y=\"0\" width=\"55\" height=\"55\" style=\"fill:#000000;stroke-width:2;stroke:rgb(255,255,255)\"/></svg>"
      ],
      "text/plain": [
       "[(0.0, 0.4666666666666667, 0.7333333333333333),\n",
       " (0.0, 0.6, 0.5333333333333333),\n",
       " (0.9333333333333333, 0.4666666666666667, 0.2),\n",
       " (0.8, 0.2, 0.06666666666666667),\n",
       " (0.2, 0.7333333333333333, 0.9333333333333333),\n",
       " (0.9333333333333333, 0.2, 0.4666666666666667),\n",
       " (0.7333333333333333, 0.7333333333333333, 0.7333333333333333),\n",
       " (0.0, 0.0, 0.0)]"
      ]
     },
     "execution_count": 63,
     "metadata": {},
     "output_type": "execute_result"
    }
   ],
   "source": [
    "# \"Vibrant\"\n",
    "# This is the default palette in the default.mplstyle style sheet\n",
    "# NB the red and magenta colours are hard to distinguish\n",
    "sns.color_palette(\n",
    "    [\n",
    "        \"#0077BB\",\n",
    "        \"#009988\",\n",
    "        \"#EE7733\",\n",
    "        \"#CC3311\",\n",
    "        \"#33BBEE\",\n",
    "        \"#EE3377\",\n",
    "        \"#BBBBBB\",\n",
    "        \"#000000\",\n",
    "    ]\n",
    ")"
   ]
  },
  {
   "cell_type": "code",
   "execution_count": 62,
   "id": "77cc3104-3778-421e-9817-25b648548486",
   "metadata": {
    "tags": []
   },
   "outputs": [
    {
     "data": {
      "text/html": [
       "<svg  width=\"385\" height=\"55\"><rect x=\"0\" y=\"0\" width=\"55\" height=\"55\" style=\"fill:#4477aa;stroke-width:2;stroke:rgb(255,255,255)\"/><rect x=\"55\" y=\"0\" width=\"55\" height=\"55\" style=\"fill:#ee6677;stroke-width:2;stroke:rgb(255,255,255)\"/><rect x=\"110\" y=\"0\" width=\"55\" height=\"55\" style=\"fill:#228833;stroke-width:2;stroke:rgb(255,255,255)\"/><rect x=\"165\" y=\"0\" width=\"55\" height=\"55\" style=\"fill:#ccbb44;stroke-width:2;stroke:rgb(255,255,255)\"/><rect x=\"220\" y=\"0\" width=\"55\" height=\"55\" style=\"fill:#66ccee;stroke-width:2;stroke:rgb(255,255,255)\"/><rect x=\"275\" y=\"0\" width=\"55\" height=\"55\" style=\"fill:#aa3377;stroke-width:2;stroke:rgb(255,255,255)\"/><rect x=\"330\" y=\"0\" width=\"55\" height=\"55\" style=\"fill:#bbbbbb;stroke-width:2;stroke:rgb(255,255,255)\"/></svg>"
      ],
      "text/plain": [
       "[(0.26666666666666666, 0.4666666666666667, 0.6666666666666666),\n",
       " (0.9333333333333333, 0.4, 0.4666666666666667),\n",
       " (0.13333333333333333, 0.5333333333333333, 0.2),\n",
       " (0.8, 0.7333333333333333, 0.26666666666666666),\n",
       " (0.4, 0.8, 0.9333333333333333),\n",
       " (0.6666666666666666, 0.2, 0.4666666666666667),\n",
       " (0.7333333333333333, 0.7333333333333333, 0.7333333333333333)]"
      ]
     },
     "execution_count": 62,
     "metadata": {},
     "output_type": "execute_result"
    }
   ],
   "source": [
    "# \"Bright\"\n",
    "# An alternative colour scheme where colours are easier to distinguish\n",
    "# However, it lacks a good red\n",
    "sns.color_palette(\n",
    "    [\"#4477AA\", \"#EE6677\", \"#228833\", \"#CCBB44\", \"#66CCEE\", \"#AA3377\", \"#BBBBBB\"]\n",
    ")"
   ]
  },
  {
   "cell_type": "code",
   "execution_count": 64,
   "id": "0e8d83b7-0e7b-424f-91d5-939e33994899",
   "metadata": {
    "tags": []
   },
   "outputs": [
    {
     "data": {
      "text/html": [
       "<svg  width=\"550\" height=\"55\"><rect x=\"0\" y=\"0\" width=\"55\" height=\"55\" style=\"fill:#0173b2;stroke-width:2;stroke:rgb(255,255,255)\"/><rect x=\"55\" y=\"0\" width=\"55\" height=\"55\" style=\"fill:#de8f05;stroke-width:2;stroke:rgb(255,255,255)\"/><rect x=\"110\" y=\"0\" width=\"55\" height=\"55\" style=\"fill:#029e73;stroke-width:2;stroke:rgb(255,255,255)\"/><rect x=\"165\" y=\"0\" width=\"55\" height=\"55\" style=\"fill:#d55e00;stroke-width:2;stroke:rgb(255,255,255)\"/><rect x=\"220\" y=\"0\" width=\"55\" height=\"55\" style=\"fill:#cc78bc;stroke-width:2;stroke:rgb(255,255,255)\"/><rect x=\"275\" y=\"0\" width=\"55\" height=\"55\" style=\"fill:#ca9161;stroke-width:2;stroke:rgb(255,255,255)\"/><rect x=\"330\" y=\"0\" width=\"55\" height=\"55\" style=\"fill:#fbafe4;stroke-width:2;stroke:rgb(255,255,255)\"/><rect x=\"385\" y=\"0\" width=\"55\" height=\"55\" style=\"fill:#949494;stroke-width:2;stroke:rgb(255,255,255)\"/><rect x=\"440\" y=\"0\" width=\"55\" height=\"55\" style=\"fill:#ece133;stroke-width:2;stroke:rgb(255,255,255)\"/><rect x=\"495\" y=\"0\" width=\"55\" height=\"55\" style=\"fill:#56b4e9;stroke-width:2;stroke:rgb(255,255,255)\"/></svg>"
      ],
      "text/plain": [
       "[(0.00392156862745098, 0.45098039215686275, 0.6980392156862745),\n",
       " (0.8705882352941177, 0.5607843137254902, 0.0196078431372549),\n",
       " (0.00784313725490196, 0.6196078431372549, 0.45098039215686275),\n",
       " (0.8352941176470589, 0.3686274509803922, 0.0),\n",
       " (0.8, 0.47058823529411764, 0.7372549019607844),\n",
       " (0.792156862745098, 0.5686274509803921, 0.3803921568627451),\n",
       " (0.984313725490196, 0.6862745098039216, 0.8941176470588236),\n",
       " (0.5803921568627451, 0.5803921568627451, 0.5803921568627451),\n",
       " (0.9254901960784314, 0.8823529411764706, 0.2),\n",
       " (0.33725490196078434, 0.7058823529411765, 0.9137254901960784)]"
      ]
     },
     "execution_count": 64,
     "metadata": {},
     "output_type": "execute_result"
    }
   ],
   "source": [
    "# The seaborn colorblind palette\n",
    "sns.color_palette(\"colorblind\")"
   ]
  },
  {
   "cell_type": "markdown",
   "id": "ed3bc56b-a205-41d6-8954-d49f316a1f2e",
   "metadata": {},
   "source": [
    "### Sequential"
   ]
  },
  {
   "cell_type": "code",
   "execution_count": 42,
   "id": "308468a8-bdab-4c88-a8f1-f108756113b0",
   "metadata": {
    "tags": []
   },
   "outputs": [
    {
     "data": {
      "image/png": "[encoded data removed]",
      "text/html": [
       "<div style=\"vertical-align: middle;\"><strong>Reds</strong> </div><div class=\"cmap\"><img alt=\"Reds colormap\" title=\"Reds\" style=\"border: 1px solid #555;\" src=\"data:image/png;base64,iVBORw0KGgoAAAANSUhEUgAAAgAAAABACAYAAABsv8+/AAAAE3RFWHRUaXRsZQBSZWRzIGNvbG9ybWFw8oMNLwAAABl0RVh0RGVzY3JpcHRpb24AUmVkcyBjb2xvcm1hcHkxnbcAAAAwdEVYdEF1dGhvcgBNYXRwbG90bGliIHYzLjcuMCwgaHR0cHM6Ly9tYXRwbG90bGliLm9yZ48kaEMAAAAydEVYdFNvZnR3YXJlAE1hdHBsb3RsaWIgdjMuNy4wLCBodHRwczovL21hdHBsb3RsaWIub3JnoYL3ZAAAAedJREFUeJzt1rFugzAYhVG37/+wXbraGRqIMBjTKFGGe87Swm8wJGr1fbXfn1ZKKa21Uv5+KfdftsdvP18+su/uvVs9P66j+eB8Pb9v++f6688zOZ7tM5rP9hvNh/s9e91rnnP//Y+uvzh/9roPzdf3r9t1bXK8rF//rPr1u3XX9hmtn19frl0/OP8Yt+029Xg+Pl5uP1hXz+9TL+9zfL/+47x6n/tt1o/x8W+5bc7XyXx9/3I+b928/xr7+f6+x/P9c3b7dz9r9/612+dV8/65Huva4Lr3zpfP7bsAAHEEAAAEEgAAEEgAAEAgAQAAgQQAAAQSAAAQSAAAQCABAACBBAAABBIAABBIAABAIAEAAIEEAAAEEgAAEEgAAEAgAQAAgQQAAAQSAAAQSAAAQCABAACBBAAABBIAABBIAABAIAEAAIEEAAAEEgAAEEgAAEAgAQAAgQQAAAQSAAAQSAAAQCABAACBBAAABBIAABBIAABAIAEAAIEEAAAEEgAAEEgAAEAgAQAAgQQAAAQSAAAQSAAAQCABAACBBAAABBIAABBIAABAIAEAAIEEAAAEEgAAEEgAAEAgAQAAgQQAAAQSAAAQSAAAQCABAACBBAAABBIAABBIAABAIAEAAIEEAAAEEgAAEOgGT1T7Aapw4wcAAAAASUVORK5CYII=\"></div><div style=\"vertical-align: middle; max-width: 514px; display: flex; justify-content: space-between;\"><div style=\"float: left;\"><div title=\"#fff5f0ff\" style=\"display: inline-block; width: 1em; height: 1em; margin: 0; vertical-align: middle; border: 1px solid #555; background-color: #fff5f0ff;\"></div> under</div><div style=\"margin: 0 auto; display: inline-block;\">bad <div title=\"#00000000\" style=\"display: inline-block; width: 1em; height: 1em; margin: 0; vertical-align: middle; border: 1px solid #555; background-color: #00000000;\"></div></div><div style=\"float: right;\">over <div title=\"#67000dff\" style=\"display: inline-block; width: 1em; height: 1em; margin: 0; vertical-align: middle; border: 1px solid #555; background-color: #67000dff;\"></div></div>"
      ],
      "text/plain": [
       "<matplotlib.colors.LinearSegmentedColormap at 0x7fa229f58c10>"
      ]
     },
     "execution_count": 42,
     "metadata": {},
     "output_type": "execute_result"
    }
   ],
   "source": [
    "sns.color_palette(\"Reds\", as_cmap=True)"
   ]
  },
  {
   "cell_type": "code",
   "execution_count": 38,
   "id": "6cd689b8-3fed-46a9-bcce-38f476cf0f45",
   "metadata": {
    "tags": []
   },
   "outputs": [
    {
     "data": {
      "image/png": "[encoded data removed]",
      "text/html": [
       "<div style=\"vertical-align: middle;\"><strong>Blues_r</strong> </div><div class=\"cmap\"><img alt=\"Blues_r colormap\" title=\"Blues_r\" style=\"border: 1px solid #555;\" src=\"data:image/png;base64,iVBORw0KGgoAAAANSUhEUgAAAgAAAABACAYAAABsv8+/AAAAFnRFWHRUaXRsZQBCbHVlc19yIGNvbG9ybWFwEglszQAAABx0RVh0RGVzY3JpcHRpb24AQmx1ZXNfciBjb2xvcm1hcLUn3bQAAAAwdEVYdEF1dGhvcgBNYXRwbG90bGliIHYzLjcuMCwgaHR0cHM6Ly9tYXRwbG90bGliLm9yZ48kaEMAAAAydEVYdFNvZnR3YXJlAE1hdHBsb3RsaWIgdjMuNy4wLCBodHRwczovL21hdHBsb3RsaWIub3JnoYL3ZAAAAcZJREFUeJzt1jFywjAAAEHZVZ6Tf+X/dVJkIIOIMAkMze02Hlu2JGOK297ePz7HGGNs2/g+7uM15y9eZz+673R5u3k8uu9Z87x+vXn80fPnzrvvr1l3P52Pg/Hp+X2ebxyMH8x3Hh93rrcaH3/b/zzvfn6Py+d/7vt93n2x/+V9i+vzPq6uL/Zxdf1qH6v3XHy/6XeY71v+b+Z9z99z3P5eV+Or77p4bj2+et9xoTq+jcsL/x3fpgWPfv/x4Pjd7zf9rwGAEAEAAEECAACCBAAABAkAAAgSAAAQJAAAIEgAAECQAACAIAEAAEECAACCBAAABAkAAAgSAAAQJAAAIEgAAECQAACAIAEAAEECAACCBAAABAkAAAgSAAAQJAAAIEgAAECQAACAIAEAAEECAACCBAAABAkAAAgSAAAQJAAAIEgAAECQAACAIAEAAEECAACCBAAABAkAAAgSAAAQJAAAIEgAAECQAACAIAEAAEECAACCBAAABAkAAAgSAAAQJAAAIEgAAECQAACAIAEAAEECAACCBAAABAkAAAgSAAAQJAAAIEgAAECQAACAIAEAAEECAACCBAAABAkAAAgSAAAQJAAAIOgLE48EcKnNmOMAAAAASUVORK5CYII=\"></div><div style=\"vertical-align: middle; max-width: 514px; display: flex; justify-content: space-between;\"><div style=\"float: left;\"><div title=\"#08306bff\" style=\"display: inline-block; width: 1em; height: 1em; margin: 0; vertical-align: middle; border: 1px solid #555; background-color: #08306bff;\"></div> under</div><div style=\"margin: 0 auto; display: inline-block;\">bad <div title=\"#00000000\" style=\"display: inline-block; width: 1em; height: 1em; margin: 0; vertical-align: middle; border: 1px solid #555; background-color: #00000000;\"></div></div><div style=\"float: right;\">over <div title=\"#f7fbffff\" style=\"display: inline-block; width: 1em; height: 1em; margin: 0; vertical-align: middle; border: 1px solid #555; background-color: #f7fbffff;\"></div></div>"
      ],
      "text/plain": [
       "<matplotlib.colors.LinearSegmentedColormap at 0x7fa229fd3a00>"
      ]
     },
     "execution_count": 38,
     "metadata": {},
     "output_type": "execute_result"
    }
   ],
   "source": [
    "# Using the \"_r\" suffix reverses the direction\n",
    "sns.color_palette(\"Blues_r\", as_cmap=True)"
   ]
  },
  {
   "cell_type": "code",
   "execution_count": 75,
   "id": "06d14d6f-f16e-4567-afd3-3142c448c45f",
   "metadata": {
    "tags": []
   },
   "outputs": [
    {
     "data": {
      "text/html": [
       "<svg  width=\"330\" height=\"55\"><rect x=\"0\" y=\"0\" width=\"55\" height=\"55\" style=\"fill:#0b559f;stroke-width:2;stroke:rgb(255,255,255)\"/><rect x=\"55\" y=\"0\" width=\"55\" height=\"55\" style=\"fill:#2b7bba;stroke-width:2;stroke:rgb(255,255,255)\"/><rect x=\"110\" y=\"0\" width=\"55\" height=\"55\" style=\"fill:#539ecd;stroke-width:2;stroke:rgb(255,255,255)\"/><rect x=\"165\" y=\"0\" width=\"55\" height=\"55\" style=\"fill:#89bedc;stroke-width:2;stroke:rgb(255,255,255)\"/><rect x=\"220\" y=\"0\" width=\"55\" height=\"55\" style=\"fill:#bad6eb;stroke-width:2;stroke:rgb(255,255,255)\"/><rect x=\"275\" y=\"0\" width=\"55\" height=\"55\" style=\"fill:#dbe9f6;stroke-width:2;stroke:rgb(255,255,255)\"/></svg>"
      ],
      "text/plain": [
       "[(0.044059976931949255, 0.3338869665513264, 0.6244521337946944),\n",
       " (0.16696655132641294, 0.48069204152249134, 0.7291503267973857),\n",
       " (0.3262898885044214, 0.6186236063052672, 0.802798923490965),\n",
       " (0.5356862745098039, 0.746082276047674, 0.8642522106881968),\n",
       " (0.7309496347558632, 0.8394771241830065, 0.9213225682429834),\n",
       " (0.8584083044982699, 0.9134486735870818, 0.9645674740484429)]"
      ]
     },
     "execution_count": 75,
     "metadata": {},
     "output_type": "execute_result"
    }
   ],
   "source": [
    "# Can also be a discrete scale, if the as_cmap argument is False (default)\n",
    "sns.color_palette(\"Blues_r\")"
   ]
  },
  {
   "cell_type": "markdown",
   "id": "8fdb8b4e-9909-4efb-8255-94770ac6f17f",
   "metadata": {},
   "source": [
    "### Divergent"
   ]
  },
  {
   "cell_type": "code",
   "execution_count": 66,
   "id": "cca31284-4857-43de-b048-ade8cf3dfc52",
   "metadata": {
    "tags": []
   },
   "outputs": [
    {
     "data": {
      "image/png": "[encoded data removed]",
      "text/html": [
       "<div style=\"vertical-align: middle;\"><strong>RdBu</strong> </div><div class=\"cmap\"><img alt=\"RdBu colormap\" title=\"RdBu\" style=\"border: 1px solid #555;\" src=\"data:image/png;base64,iVBORw0KGgoAAAANSUhEUgAAAgAAAABACAYAAABsv8+/AAAAE3RFWHRUaXRsZQBSZEJ1IGNvbG9ybWFwChF0kwAAABl0RVh0RGVzY3JpcHRpb24AUmRCdSBjb2xvcm1hcIGj5AsAAAAwdEVYdEF1dGhvcgBNYXRwbG90bGliIHYzLjcuMCwgaHR0cHM6Ly9tYXRwbG90bGliLm9yZ48kaEMAAAAydEVYdFNvZnR3YXJlAE1hdHBsb3RsaWIgdjMuNy4wLCBodHRwczovL21hdHBsb3RsaWIub3JnoYL3ZAAAAilJREFUeJzt1jFy2zAURVEQWkiWl/33EZGCgDhCDFEaFSneOQ1NgPiiNZ7x3X6XX62UUmo53LZx3f7L/bfvUWufczsmbX1jW6zXsX+b9utifT5X5/XX88fz5/p8P79HfXpuW6xfPj/tn+95e3muvjnv+j2Ozyl1XMdz762PeeU2rz+fu1z/9j36+db/7spWf7y2xfq5P52vn51fzpnmXb7HcVf2/sM/9+34YS/jfuy3xfNv7ved8/mrzxvv136cNz7nvo/943of8/rAx/1jv8/f24f707x9sT7mXO6X5/vp3Or652L/3n/xqznvz/vwOn0/bbo+1ttifdo/18vz8+3L+dP3v5zTv8+2319e9+V+P39/ff5y3ofnV+8x/t8CAEEEAAAEEgAAEEgAAEAgAQAAgQQAAAQSAAAQSAAAQCABAACBBAAABBIAABBIAABAIAEAAIEEAAAEEgAAEEgAAEAgAQAAgQQAAAQSAAAQSAAAQCABAACBBAAABBIAABBIAABAIAEAAIEEAAAEEgAAEEgAAEAgAQAAgQQAAAQSAAAQSAAAQCABAACBBAAABBIAABBIAABAIAEAAIEEAAAEEgAAEEgAAEAgAQAAgQQAAAQSAAAQSAAAQCABAACBBAAABBIAABBIAABAIAEAAIEEAAAEEgAAEEgAAEAgAQAAgQQAAAQSAAAQSAAAQCABAACBBAAABBIAABBIAABAIAEAAIEEAAAEEgAAEOgv2fZiJGr7/f4AAAAASUVORK5CYII=\"></div><div style=\"vertical-align: middle; max-width: 514px; display: flex; justify-content: space-between;\"><div style=\"float: left;\"><div title=\"#67001fff\" style=\"display: inline-block; width: 1em; height: 1em; margin: 0; vertical-align: middle; border: 1px solid #555; background-color: #67001fff;\"></div> under</div><div style=\"margin: 0 auto; display: inline-block;\">bad <div title=\"#00000000\" style=\"display: inline-block; width: 1em; height: 1em; margin: 0; vertical-align: middle; border: 1px solid #555; background-color: #00000000;\"></div></div><div style=\"float: right;\">over <div title=\"#053061ff\" style=\"display: inline-block; width: 1em; height: 1em; margin: 0; vertical-align: middle; border: 1px solid #555; background-color: #053061ff;\"></div></div>"
      ],
      "text/plain": [
       "<matplotlib.colors.LinearSegmentedColormap at 0x7fa229cd8760>"
      ]
     },
     "execution_count": 66,
     "metadata": {},
     "output_type": "execute_result"
    }
   ],
   "source": [
    "sns.color_palette(\"RdBu\", as_cmap=True)"
   ]
  },
  {
   "cell_type": "code",
   "execution_count": 76,
   "id": "545233b6-2536-44bc-974d-69f73c141ff7",
   "metadata": {
    "tags": []
   },
   "outputs": [
    {
     "data": {
      "text/html": [
       "<svg  width=\"495\" height=\"55\"><rect x=\"0\" y=\"0\" width=\"55\" height=\"55\" style=\"fill:#2065ab;stroke-width:2;stroke:rgb(255,255,255)\"/><rect x=\"55\" y=\"0\" width=\"55\" height=\"55\" style=\"fill:#4393c3;stroke-width:2;stroke:rgb(255,255,255)\"/><rect x=\"110\" y=\"0\" width=\"55\" height=\"55\" style=\"fill:#90c4dd;stroke-width:2;stroke:rgb(255,255,255)\"/><rect x=\"165\" y=\"0\" width=\"55\" height=\"55\" style=\"fill:#d1e5f0;stroke-width:2;stroke:rgb(255,255,255)\"/><rect x=\"220\" y=\"0\" width=\"55\" height=\"55\" style=\"fill:#f7f6f6;stroke-width:2;stroke:rgb(255,255,255)\"/><rect x=\"275\" y=\"0\" width=\"55\" height=\"55\" style=\"fill:#fddbc7;stroke-width:2;stroke:rgb(255,255,255)\"/><rect x=\"330\" y=\"0\" width=\"55\" height=\"55\" style=\"fill:#f3a481;stroke-width:2;stroke:rgb(255,255,255)\"/><rect x=\"385\" y=\"0\" width=\"55\" height=\"55\" style=\"fill:#d6604d;stroke-width:2;stroke:rgb(255,255,255)\"/><rect x=\"440\" y=\"0\" width=\"55\" height=\"55\" style=\"fill:#b1182b;stroke-width:2;stroke:rgb(255,255,255)\"/></svg>"
      ],
      "text/plain": [
       "[(0.1272587466359093, 0.395847750865052, 0.6687427912341408),\n",
       " (0.26274509803921586, 0.5764705882352942, 0.7647058823529412),\n",
       " (0.5664744329104192, 0.7687043444828914, 0.8685121107266437),\n",
       " (0.819607843137255, 0.8980392156862746, 0.9411764705882353),\n",
       " (0.9690888119953864, 0.9664744329104191, 0.9649365628604383),\n",
       " (0.9921568627450981, 0.8588235294117647, 0.7803921568627451),\n",
       " (0.9545559400230681, 0.6417531718569781, 0.5057285659361783),\n",
       " (0.8392156862745098, 0.3764705882352941, 0.30196078431372547),\n",
       " (0.6922722029988465, 0.0922722029988466, 0.1677047289504037)]"
      ]
     },
     "execution_count": 76,
     "metadata": {},
     "output_type": "execute_result"
    }
   ],
   "source": [
    "# The number of values in a discrete scale can be set with the n_colors argument\n",
    "sns.color_palette(\"RdBu_r\", n_colors=9)"
   ]
  },
  {
   "cell_type": "code",
   "execution_count": null,
   "id": "65f3a5ea-4671-4f3f-8a0d-55ee94451b14",
   "metadata": {},
   "outputs": [],
   "source": []
  }
 ],
 "metadata": {
  "kernelspec": {
   "display_name": "Python [conda env:ukb]",
   "language": "python",
   "name": "conda-env-ukb-py"
  },
  "language_info": {
   "codemirror_mode": {
    "name": "ipython",
    "version": 3
   },
   "file_extension": ".py",
   "mimetype": "text/x-python",
   "name": "python",
   "nbconvert_exporter": "python",
   "pygments_lexer": "ipython3",
   "version": "3.8.17"
  }
 },
 "nbformat": 4,
 "nbformat_minor": 5
}
