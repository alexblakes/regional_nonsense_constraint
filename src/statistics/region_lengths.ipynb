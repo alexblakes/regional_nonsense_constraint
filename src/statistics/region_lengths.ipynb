{
 "cells": [
  {
   "cell_type": "markdown",
   "id": "8c52a3eb-dff8-44a0-ad69-6069d0457016",
   "metadata": {
    "tags": []
   },
   "source": [
    "# Region lengths\n",
    "This script produces summary statistics describing the length and count of NMD regions, stratified by constraint."
   ]
  },
  {
   "cell_type": "markdown",
   "id": "4d63c441-e80e-45a4-8b99-b5fc495cfeae",
   "metadata": {},
   "source": [
    "## Imports"
   ]
  },
  {
   "cell_type": "code",
   "execution_count": 1,
   "id": "9c26b499-f15e-4449-a15d-adbc0b0bdad0",
   "metadata": {
    "tags": []
   },
   "outputs": [],
   "source": [
    "import numpy as np\n",
    "import pandas as pd"
   ]
  },
  {
   "cell_type": "markdown",
   "id": "6f24eb2c-e271-4bdc-85dc-81b60872305e",
   "metadata": {},
   "source": [
    "## Read data"
   ]
  },
  {
   "cell_type": "code",
   "execution_count": 2,
   "id": "53c99412-7681-4df4-bb71-92e14b144528",
   "metadata": {
    "tags": []
   },
   "outputs": [],
   "source": [
    "# Constraint data\n",
    "constraint = pd.read_csv(\n",
    "    \"../outputs/constrained_regions_labels.tsv\", sep=\"\\t\", dtype=\"category\"\n",
    ")"
   ]
  },
  {
   "cell_type": "code",
   "execution_count": 3,
   "id": "f740f054-09bd-4637-b091-2ada75ddddbe",
   "metadata": {
    "tags": []
   },
   "outputs": [],
   "source": [
    "# NMD annotations\n",
    "nmd = pd.read_csv(\n",
    "    \"../outputs/nmd_annotations.tsv\",\n",
    "    sep=\"\\t\",\n",
    "    usecols=[\"transcript_id\", \"nmd_definitive\"],\n",
    "    dtype=\"category\",\n",
    ").set_axis([\"enst\", \"region\"], axis=1)\n",
    "\n",
    "# Get the size of each region\n",
    "nmd = nmd.groupby([\"enst\", \"region\"])[\"region\"].count().rename(\"size\").reset_index()\n",
    "\n",
    "# Drop regions with size 0\n",
    "nmd = nmd[nmd[\"size\"] != 0]\n",
    "\n",
    "# Get the size of the whole CDS\n",
    "cds = (\n",
    "    nmd.groupby(\"enst\")[\"size\"]\n",
    "    .sum()\n",
    "    .reset_index()\n",
    "    .assign(region=\"transcript\")\n",
    "    .astype({\"region\": \"category\"})\n",
    ")\n",
    "\n",
    "# Append CDS data to NMD data\n",
    "nmd = pd.concat([nmd, cds])"
   ]
  },
  {
   "cell_type": "markdown",
   "id": "880ce145-0839-4d66-bb67-82630d99a874",
   "metadata": {},
   "source": [
    "## Combine annotations"
   ]
  },
  {
   "cell_type": "code",
   "execution_count": 4,
   "id": "1fde9a8f-50cf-4a65-89ba-b221f9c8d983",
   "metadata": {
    "tags": []
   },
   "outputs": [],
   "source": [
    "# Merge NMD and constraint annotations\n",
    "df = nmd.merge(constraint, how=\"left\").astype(\n",
    "    {\"enst\": str, \"region\": str, \"constraint\": str}\n",
    ")\n",
    "\n",
    "# Fill NaN values in constraint column\n",
    "df[\"constraint\"] = df[\"constraint\"].replace(\"nan\", \"indeterminate\")"
   ]
  },
  {
   "cell_type": "markdown",
   "id": "5c2aef5b-4237-48a4-b5c2-f9ee1aba028f",
   "metadata": {
    "tags": []
   },
   "source": [
    "## Summary statistics\n",
    "Produce summary statistics and write to output"
   ]
  },
  {
   "cell_type": "markdown",
   "id": "e9c87ee5-fddc-4caa-bc6a-ad392b3a4ea5",
   "metadata": {},
   "source": [
    "### Region sizes"
   ]
  },
  {
   "cell_type": "code",
   "execution_count": 5,
   "id": "ee165bf3-1b86-4d74-9726-0b3c6fee4ea6",
   "metadata": {
    "tags": []
   },
   "outputs": [
    {
     "data": {
      "text/html": [
       "<div>\n",
       "<style scoped>\n",
       "    .dataframe tbody tr th:only-of-type {\n",
       "        vertical-align: middle;\n",
       "    }\n",
       "\n",
       "    .dataframe tbody tr th {\n",
       "        vertical-align: top;\n",
       "    }\n",
       "\n",
       "    .dataframe thead th {\n",
       "        text-align: right;\n",
       "    }\n",
       "</style>\n",
       "<table border=\"1\" class=\"dataframe\">\n",
       "  <thead>\n",
       "    <tr style=\"text-align: right;\">\n",
       "      <th></th>\n",
       "      <th>enst</th>\n",
       "      <th>region</th>\n",
       "      <th>size</th>\n",
       "      <th>constraint</th>\n",
       "    </tr>\n",
       "  </thead>\n",
       "  <tbody>\n",
       "    <tr>\n",
       "      <th>27011</th>\n",
       "      <td>ENST00000334181</td>\n",
       "      <td>start_proximal</td>\n",
       "      <td>150</td>\n",
       "      <td>unconstrained</td>\n",
       "    </tr>\n",
       "    <tr>\n",
       "      <th>45687</th>\n",
       "      <td>ENST00000421673</td>\n",
       "      <td>start_proximal</td>\n",
       "      <td>150</td>\n",
       "      <td>unconstrained</td>\n",
       "    </tr>\n",
       "    <tr>\n",
       "      <th>74533</th>\n",
       "      <td>ENST00000362057</td>\n",
       "      <td>transcript</td>\n",
       "      <td>2721</td>\n",
       "      <td>indeterminate</td>\n",
       "    </tr>\n",
       "    <tr>\n",
       "      <th>50431</th>\n",
       "      <td>ENST00000616417</td>\n",
       "      <td>distal_nmd</td>\n",
       "      <td>92</td>\n",
       "      <td>indeterminate</td>\n",
       "    </tr>\n",
       "    <tr>\n",
       "      <th>45976</th>\n",
       "      <td>ENST00000682019</td>\n",
       "      <td>distal_nmd</td>\n",
       "      <td>222</td>\n",
       "      <td>unconstrained</td>\n",
       "    </tr>\n",
       "  </tbody>\n",
       "</table>\n",
       "</div>"
      ],
      "text/plain": [
       "                  enst          region  size     constraint\n",
       "27011  ENST00000334181  start_proximal   150  unconstrained\n",
       "45687  ENST00000421673  start_proximal   150  unconstrained\n",
       "74533  ENST00000362057      transcript  2721  indeterminate\n",
       "50431  ENST00000616417      distal_nmd    92  indeterminate\n",
       "45976  ENST00000682019      distal_nmd   222  unconstrained"
      ]
     },
     "execution_count": 5,
     "metadata": {},
     "output_type": "execute_result"
    }
   ],
   "source": [
    "region_size = df.copy()\n",
    "region_size.to_csv(\"../outputs/stats_region_size.tsv\", sep=\"\\t\", index=False)\n",
    "region_size.sample(5)"
   ]
  },
  {
   "cell_type": "code",
   "execution_count": 6,
   "id": "7d2690fb-b292-45a7-85c2-2e2289ff6be4",
   "metadata": {},
   "outputs": [],
   "source": [
    "# Create a multi index for later re-indexing\n",
    "index = pd.MultiIndex.from_product(\n",
    "    [df[\"region\"].unique(), df[\"constraint\"].unique()], names=[\"region\", \"constraint\"]\n",
    ")"
   ]
  },
  {
   "cell_type": "markdown",
   "id": "3689e991-80a6-4597-929d-1070247b413f",
   "metadata": {},
   "source": [
    "### Overall genomic footprint"
   ]
  },
  {
   "cell_type": "code",
   "execution_count": 7,
   "id": "47bdcefd-8aa2-434d-be6c-fde1c7a2ae40",
   "metadata": {
    "tags": []
   },
   "outputs": [
    {
     "data": {
      "text/html": [
       "<div>\n",
       "<style scoped>\n",
       "    .dataframe tbody tr th:only-of-type {\n",
       "        vertical-align: middle;\n",
       "    }\n",
       "\n",
       "    .dataframe tbody tr th {\n",
       "        vertical-align: top;\n",
       "    }\n",
       "\n",
       "    .dataframe thead th {\n",
       "        text-align: right;\n",
       "    }\n",
       "</style>\n",
       "<table border=\"1\" class=\"dataframe\">\n",
       "  <thead>\n",
       "    <tr style=\"text-align: right;\">\n",
       "      <th></th>\n",
       "      <th>region</th>\n",
       "      <th>constraint</th>\n",
       "      <th>size</th>\n",
       "    </tr>\n",
       "  </thead>\n",
       "  <tbody>\n",
       "    <tr>\n",
       "      <th>0</th>\n",
       "      <td>distal_nmd</td>\n",
       "      <td>unconstrained</td>\n",
       "      <td>4115545.0</td>\n",
       "    </tr>\n",
       "    <tr>\n",
       "      <th>1</th>\n",
       "      <td>distal_nmd</td>\n",
       "      <td>indeterminate</td>\n",
       "      <td>2657958.0</td>\n",
       "    </tr>\n",
       "    <tr>\n",
       "      <th>2</th>\n",
       "      <td>distal_nmd</td>\n",
       "      <td>constrained</td>\n",
       "      <td>745153.0</td>\n",
       "    </tr>\n",
       "    <tr>\n",
       "      <th>3</th>\n",
       "      <td>nmd_target</td>\n",
       "      <td>unconstrained</td>\n",
       "      <td>5942643.0</td>\n",
       "    </tr>\n",
       "    <tr>\n",
       "      <th>4</th>\n",
       "      <td>nmd_target</td>\n",
       "      <td>indeterminate</td>\n",
       "      <td>10435976.0</td>\n",
       "    </tr>\n",
       "    <tr>\n",
       "      <th>5</th>\n",
       "      <td>nmd_target</td>\n",
       "      <td>constrained</td>\n",
       "      <td>4584703.0</td>\n",
       "    </tr>\n",
       "    <tr>\n",
       "      <th>6</th>\n",
       "      <td>start_proximal</td>\n",
       "      <td>unconstrained</td>\n",
       "      <td>1639294.0</td>\n",
       "    </tr>\n",
       "    <tr>\n",
       "      <th>7</th>\n",
       "      <td>start_proximal</td>\n",
       "      <td>indeterminate</td>\n",
       "      <td>1350201.0</td>\n",
       "    </tr>\n",
       "    <tr>\n",
       "      <th>8</th>\n",
       "      <td>start_proximal</td>\n",
       "      <td>constrained</td>\n",
       "      <td>0.0</td>\n",
       "    </tr>\n",
       "    <tr>\n",
       "      <th>9</th>\n",
       "      <td>long_exon</td>\n",
       "      <td>unconstrained</td>\n",
       "      <td>796707.0</td>\n",
       "    </tr>\n",
       "    <tr>\n",
       "      <th>10</th>\n",
       "      <td>long_exon</td>\n",
       "      <td>indeterminate</td>\n",
       "      <td>1184147.0</td>\n",
       "    </tr>\n",
       "    <tr>\n",
       "      <th>11</th>\n",
       "      <td>long_exon</td>\n",
       "      <td>constrained</td>\n",
       "      <td>725644.0</td>\n",
       "    </tr>\n",
       "    <tr>\n",
       "      <th>12</th>\n",
       "      <td>transcript</td>\n",
       "      <td>unconstrained</td>\n",
       "      <td>10341598.0</td>\n",
       "    </tr>\n",
       "    <tr>\n",
       "      <th>13</th>\n",
       "      <td>transcript</td>\n",
       "      <td>indeterminate</td>\n",
       "      <td>16168901.0</td>\n",
       "    </tr>\n",
       "    <tr>\n",
       "      <th>14</th>\n",
       "      <td>transcript</td>\n",
       "      <td>constrained</td>\n",
       "      <td>7667472.0</td>\n",
       "    </tr>\n",
       "  </tbody>\n",
       "</table>\n",
       "</div>"
      ],
      "text/plain": [
       "            region     constraint        size\n",
       "0       distal_nmd  unconstrained   4115545.0\n",
       "1       distal_nmd  indeterminate   2657958.0\n",
       "2       distal_nmd    constrained    745153.0\n",
       "3       nmd_target  unconstrained   5942643.0\n",
       "4       nmd_target  indeterminate  10435976.0\n",
       "5       nmd_target    constrained   4584703.0\n",
       "6   start_proximal  unconstrained   1639294.0\n",
       "7   start_proximal  indeterminate   1350201.0\n",
       "8   start_proximal    constrained         0.0\n",
       "9        long_exon  unconstrained    796707.0\n",
       "10       long_exon  indeterminate   1184147.0\n",
       "11       long_exon    constrained    725644.0\n",
       "12      transcript  unconstrained  10341598.0\n",
       "13      transcript  indeterminate  16168901.0\n",
       "14      transcript    constrained   7667472.0"
      ]
     },
     "execution_count": 7,
     "metadata": {},
     "output_type": "execute_result"
    }
   ],
   "source": [
    "region_footprint = (\n",
    "    df.groupby(\n",
    "        [\"region\", \"constraint\"],\n",
    "    )[\"size\"]\n",
    "    .sum()\n",
    "    .rename(\"size\")\n",
    "    .reindex(index)\n",
    "    .reset_index()\n",
    ").fillna(0)\n",
    "region_footprint.to_csv(\"../outputs/stats_region_footprint.tsv\", sep=\"\\t\", index=False)\n",
    "region_footprint"
   ]
  },
  {
   "cell_type": "markdown",
   "id": "672cd7e0-347f-43a4-be1c-864bea45d475",
   "metadata": {},
   "source": [
    "### Region counts"
   ]
  },
  {
   "cell_type": "code",
   "execution_count": 8,
   "id": "a19eca1a-9747-410c-8696-3c94199b2313",
   "metadata": {
    "tags": []
   },
   "outputs": [
    {
     "data": {
      "text/html": [
       "<div>\n",
       "<style scoped>\n",
       "    .dataframe tbody tr th:only-of-type {\n",
       "        vertical-align: middle;\n",
       "    }\n",
       "\n",
       "    .dataframe tbody tr th {\n",
       "        vertical-align: top;\n",
       "    }\n",
       "\n",
       "    .dataframe thead th {\n",
       "        text-align: right;\n",
       "    }\n",
       "</style>\n",
       "<table border=\"1\" class=\"dataframe\">\n",
       "  <thead>\n",
       "    <tr style=\"text-align: right;\">\n",
       "      <th></th>\n",
       "      <th>region</th>\n",
       "      <th>constraint</th>\n",
       "      <th>n</th>\n",
       "    </tr>\n",
       "  </thead>\n",
       "  <tbody>\n",
       "    <tr>\n",
       "      <th>0</th>\n",
       "      <td>distal_nmd</td>\n",
       "      <td>unconstrained</td>\n",
       "      <td>11233.0</td>\n",
       "    </tr>\n",
       "    <tr>\n",
       "      <th>1</th>\n",
       "      <td>distal_nmd</td>\n",
       "      <td>indeterminate</td>\n",
       "      <td>7739.0</td>\n",
       "    </tr>\n",
       "    <tr>\n",
       "      <th>2</th>\n",
       "      <td>distal_nmd</td>\n",
       "      <td>constrained</td>\n",
       "      <td>548.0</td>\n",
       "    </tr>\n",
       "    <tr>\n",
       "      <th>3</th>\n",
       "      <td>nmd_target</td>\n",
       "      <td>unconstrained</td>\n",
       "      <td>7300.0</td>\n",
       "    </tr>\n",
       "    <tr>\n",
       "      <th>4</th>\n",
       "      <td>nmd_target</td>\n",
       "      <td>indeterminate</td>\n",
       "      <td>7119.0</td>\n",
       "    </tr>\n",
       "    <tr>\n",
       "      <th>5</th>\n",
       "      <td>nmd_target</td>\n",
       "      <td>constrained</td>\n",
       "      <td>2380.0</td>\n",
       "    </tr>\n",
       "    <tr>\n",
       "      <th>6</th>\n",
       "      <td>start_proximal</td>\n",
       "      <td>unconstrained</td>\n",
       "      <td>10933.0</td>\n",
       "    </tr>\n",
       "    <tr>\n",
       "      <th>7</th>\n",
       "      <td>start_proximal</td>\n",
       "      <td>indeterminate</td>\n",
       "      <td>9031.0</td>\n",
       "    </tr>\n",
       "    <tr>\n",
       "      <th>8</th>\n",
       "      <td>start_proximal</td>\n",
       "      <td>constrained</td>\n",
       "      <td>0.0</td>\n",
       "    </tr>\n",
       "    <tr>\n",
       "      <th>9</th>\n",
       "      <td>long_exon</td>\n",
       "      <td>unconstrained</td>\n",
       "      <td>1519.0</td>\n",
       "    </tr>\n",
       "    <tr>\n",
       "      <th>10</th>\n",
       "      <td>long_exon</td>\n",
       "      <td>indeterminate</td>\n",
       "      <td>1733.0</td>\n",
       "    </tr>\n",
       "    <tr>\n",
       "      <th>11</th>\n",
       "      <td>long_exon</td>\n",
       "      <td>constrained</td>\n",
       "      <td>388.0</td>\n",
       "    </tr>\n",
       "    <tr>\n",
       "      <th>12</th>\n",
       "      <td>transcript</td>\n",
       "      <td>unconstrained</td>\n",
       "      <td>8880.0</td>\n",
       "    </tr>\n",
       "    <tr>\n",
       "      <th>13</th>\n",
       "      <td>transcript</td>\n",
       "      <td>indeterminate</td>\n",
       "      <td>7546.0</td>\n",
       "    </tr>\n",
       "    <tr>\n",
       "      <th>14</th>\n",
       "      <td>transcript</td>\n",
       "      <td>constrained</td>\n",
       "      <td>3538.0</td>\n",
       "    </tr>\n",
       "  </tbody>\n",
       "</table>\n",
       "</div>"
      ],
      "text/plain": [
       "            region     constraint        n\n",
       "0       distal_nmd  unconstrained  11233.0\n",
       "1       distal_nmd  indeterminate   7739.0\n",
       "2       distal_nmd    constrained    548.0\n",
       "3       nmd_target  unconstrained   7300.0\n",
       "4       nmd_target  indeterminate   7119.0\n",
       "5       nmd_target    constrained   2380.0\n",
       "6   start_proximal  unconstrained  10933.0\n",
       "7   start_proximal  indeterminate   9031.0\n",
       "8   start_proximal    constrained      0.0\n",
       "9        long_exon  unconstrained   1519.0\n",
       "10       long_exon  indeterminate   1733.0\n",
       "11       long_exon    constrained    388.0\n",
       "12      transcript  unconstrained   8880.0\n",
       "13      transcript  indeterminate   7546.0\n",
       "14      transcript    constrained   3538.0"
      ]
     },
     "execution_count": 8,
     "metadata": {},
     "output_type": "execute_result"
    }
   ],
   "source": [
    "region_count = (\n",
    "    df.groupby([\"region\", \"constraint\"])[\"size\"]\n",
    "    .count()\n",
    "    .rename(\"n\")\n",
    "    .reindex(index)\n",
    "    .reset_index()\n",
    "    .fillna(0)\n",
    ")\n",
    "region_count.to_csv(\"../outputs/stats_region_count.tsv\", sep=\"\\t\", index=False)\n",
    "region_count"
   ]
  },
  {
   "cell_type": "code",
   "execution_count": null,
   "id": "efbd7315-8eb7-428f-b0b9-f0af05b09407",
   "metadata": {},
   "outputs": [],
   "source": []
  }
 ],
 "metadata": {
  "kernelspec": {
   "display_name": "Python [conda env:ukb]",
   "language": "python",
   "name": "conda-env-ukb-py"
  },
  "language_info": {
   "codemirror_mode": {
    "name": "ipython",
    "version": 3
   },
   "file_extension": ".py",
   "mimetype": "text/x-python",
   "name": "python",
   "nbconvert_exporter": "python",
   "pygments_lexer": "ipython3",
   "version": "3.8.17"
  }
 },
 "nbformat": 4,
 "nbformat_minor": 5
}
