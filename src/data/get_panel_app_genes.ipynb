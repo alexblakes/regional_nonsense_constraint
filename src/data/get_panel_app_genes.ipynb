{
 "cells": [
  {
   "cell_type": "markdown",
   "id": "803eacb0-aeea-4b98-9500-b63eac59bd9c",
   "metadata": {},
   "source": [
    "# Get PanelApp genes\n",
    "Download rare disease genes using the PanelApp API"
   ]
  },
  {
   "cell_type": "markdown",
   "id": "00314e7f-8e83-47cb-afee-5d3cf5d52d36",
   "metadata": {},
   "source": [
    "## Preliminaries"
   ]
  },
  {
   "cell_type": "code",
   "execution_count": 120,
   "id": "a592e685-e29a-4fac-82bf-34ee23892313",
   "metadata": {},
   "outputs": [],
   "source": [
    "import requests\n",
    "import json\n",
    "import pandas as pd\n",
    "from IPython.display import clear_output"
   ]
  },
  {
   "cell_type": "markdown",
   "id": "c8729266-63b7-4db1-9d5c-3487ea1495e9",
   "metadata": {},
   "source": [
    "## Get PanelApp genes through the API"
   ]
  },
  {
   "cell_type": "code",
   "execution_count": 108,
   "id": "273f944c-3065-4b95-ab66-ff038e225faa",
   "metadata": {},
   "outputs": [
    {
     "name": "stdout",
     "output_type": "stream",
     "text": [
      "{\n",
      "    \"activities\": \"https://panelapp.genomicsengland.co.uk/api/v1/activities/\",\n",
      "    \"entities\": \"https://panelapp.genomicsengland.co.uk/api/v1/entities/\",\n",
      "    \"genes\": \"https://panelapp.genomicsengland.co.uk/api/v1/genes/\",\n",
      "    \"panels\": \"https://panelapp.genomicsengland.co.uk/api/v1/panels/\",\n",
      "    \"panels/signedoff\": \"https://panelapp.genomicsengland.co.uk/api/v1/panels/signedoff/\",\n",
      "    \"regions\": \"https://panelapp.genomicsengland.co.uk/api/v1/regions/\",\n",
      "    \"strs\": \"https://panelapp.genomicsengland.co.uk/api/v1/strs/\"\n",
      "}\n"
     ]
    }
   ],
   "source": [
    "r = requests.get(\"https://panelapp.genomicsengland.co.uk/api/v1/\")\n",
    "print(json.dumps(r.json(), sort_keys=True, indent=4))"
   ]
  },
  {
   "cell_type": "code",
   "execution_count": 122,
   "id": "4b8e54fa-4f06-4609-82a4-c2060822013c",
   "metadata": {},
   "outputs": [
    {
     "name": "stdout",
     "output_type": "stream",
     "text": [
      "https://panelapp.genomicsengland.co.uk/api/v1/genes/?page=338\n"
     ]
    }
   ],
   "source": [
    "session = requests.Session()\n",
    "\n",
    "\n",
    "def get_panel_app_genes():\n",
    "    url = \"https://panelapp.genomicsengland.co.uk/api/v1/genes/\"\n",
    "    while url:\n",
    "        print(url)\n",
    "        clear_output(wait=True)\n",
    "        page = requests.get(url).json()\n",
    "        yield page\n",
    "        url = page[\"next\"]\n",
    "\n",
    "\n",
    "df = pd.concat([pd.json_normalize(p, \"results\") for p in get_panel_app_genes()])"
   ]
  },
  {
   "cell_type": "markdown",
   "id": "7cf05dec-ea07-44c6-a357-ec96df9f9210",
   "metadata": {},
   "source": [
    "### Copy the dataframe to avoid re-downloading"
   ]
  },
  {
   "cell_type": "code",
   "execution_count": 124,
   "id": "f96353eb-42d3-4be2-8828-8ca1383333c9",
   "metadata": {},
   "outputs": [],
   "source": [
    "df_copy = df.copy()"
   ]
  },
  {
   "cell_type": "code",
   "execution_count": 245,
   "id": "1e824c93-c903-4c53-9c22-70f0b4720b08",
   "metadata": {},
   "outputs": [],
   "source": [
    "df = df_copy.copy()"
   ]
  },
  {
   "cell_type": "markdown",
   "id": "f0d27711-3d9b-4295-819b-bd4231b3e414",
   "metadata": {},
   "source": [
    "## Filter for genes of interest\n",
    "Filter for genes which \n",
    "- Have confidence level \"Amber\" or \"Green\"\n",
    "- Are in a GMS Rare Disease panel"
   ]
  },
  {
   "cell_type": "code",
   "execution_count": 246,
   "id": "7e0a8c33-32c9-4548-83dc-4294905715fc",
   "metadata": {},
   "outputs": [],
   "source": [
    "df[\"confidence_level\"] = df[\"confidence_level\"].astype(int)\n",
    "m1 = df[\"confidence_level\"] >= 2\n",
    "df[\"panel.types\"] = df[\"panel.types\"].astype(str)\n",
    "m2 = df[\"panel.types\"].str.contains(\"gms-rare-disease\")\n",
    "\n",
    "df = df[m1 & m2]"
   ]
  },
  {
   "cell_type": "markdown",
   "id": "b23e470e-14d3-430d-a866-446e4143a639",
   "metadata": {},
   "source": [
    "## Tidy the gene data\n",
    "Keep only the columns of interest. Most genes have multiple phenotype annotations, but where they are otherwise duplicated, it is not worth keeping all of that phenotype data."
   ]
  },
  {
   "cell_type": "code",
   "execution_count": 247,
   "id": "7793ae9f-65d7-4395-b843-47a7e01939a2",
   "metadata": {},
   "outputs": [
    {
     "name": "stdout",
     "output_type": "stream",
     "text": [
      "<class 'pandas.core.frame.DataFrame'>\n",
      "Int64Index: 14976 entries, 0 to 31583\n",
      "Data columns (total 7 columns):\n",
      " #   Column         Non-Null Count  Dtype \n",
      "---  ------         --------------  ----- \n",
      " 0   hgnc           14976 non-null  object\n",
      " 1   ensg           14975 non-null  object\n",
      " 2   confidence     14976 non-null  int64 \n",
      " 3   phenotype      14764 non-null  object\n",
      " 4   panel          14976 non-null  object\n",
      " 5   disease_group  14976 non-null  object\n",
      " 6   moi            14976 non-null  object\n",
      "dtypes: int64(1), object(6)\n",
      "memory usage: 936.0+ KB\n"
     ]
    }
   ],
   "source": [
    "# Columns of interest\n",
    "cols = [\n",
    "    \"gene_data.hgnc_symbol\",\n",
    "    \"gene_data.ensembl_genes.GRch38.90.ensembl_id\",\n",
    "    \"confidence_level\",\n",
    "    \"phenotypes\",\n",
    "    \"panel.name\",\n",
    "    \"panel.disease_group\",\n",
    "    \"mode_of_inheritance\",\n",
    "]\n",
    "df = df[cols]\n",
    "\n",
    "# Drop redundant phenotype information\n",
    "df = df.explode(\"phenotypes\", ignore_index=True)\n",
    "df.columns = [\n",
    "    \"hgnc\",\n",
    "    \"ensg\",\n",
    "    \"confidence\",\n",
    "    \"phenotype\",\n",
    "    \"panel\",\n",
    "    \"disease_group\",\n",
    "    \"moi\",\n",
    "]\n",
    "df = df.drop_duplicates([c for c in df.columns if c != \"phenotype\"])\n",
    "\n",
    "df.info()"
   ]
  },
  {
   "cell_type": "code",
   "execution_count": 248,
   "id": "d36d142b-a9f0-46ae-87ef-6bf53be1bff0",
   "metadata": {},
   "outputs": [
    {
     "data": {
      "text/html": [
       "<div>\n",
       "<style scoped>\n",
       "    .dataframe tbody tr th:only-of-type {\n",
       "        vertical-align: middle;\n",
       "    }\n",
       "\n",
       "    .dataframe tbody tr th {\n",
       "        vertical-align: top;\n",
       "    }\n",
       "\n",
       "    .dataframe thead th {\n",
       "        text-align: right;\n",
       "    }\n",
       "</style>\n",
       "<table border=\"1\" class=\"dataframe\">\n",
       "  <thead>\n",
       "    <tr style=\"text-align: right;\">\n",
       "      <th></th>\n",
       "      <th>hgnc</th>\n",
       "      <th>ensg</th>\n",
       "      <th>confidence</th>\n",
       "      <th>phenotype</th>\n",
       "      <th>panel</th>\n",
       "      <th>disease_group</th>\n",
       "      <th>moi</th>\n",
       "    </tr>\n",
       "  </thead>\n",
       "  <tbody>\n",
       "    <tr>\n",
       "      <th>23612</th>\n",
       "      <td>HIST1H4E</td>\n",
       "      <td>NaN</td>\n",
       "      <td>2</td>\n",
       "      <td>Tessadori-van Haaften neurodevelopmental syndr...</td>\n",
       "      <td>Intellectual disability - microarray and seque...</td>\n",
       "      <td>Neurology and neurodevelopmental disorders</td>\n",
       "      <td>MONOALLELIC, autosomal or pseudoautosomal, imp...</td>\n",
       "    </tr>\n",
       "  </tbody>\n",
       "</table>\n",
       "</div>"
      ],
      "text/plain": [
       "           hgnc ensg  confidence  \\\n",
       "23612  HIST1H4E  NaN           2   \n",
       "\n",
       "                                               phenotype  \\\n",
       "23612  Tessadori-van Haaften neurodevelopmental syndr...   \n",
       "\n",
       "                                                   panel  \\\n",
       "23612  Intellectual disability - microarray and seque...   \n",
       "\n",
       "                                    disease_group  \\\n",
       "23612  Neurology and neurodevelopmental disorders   \n",
       "\n",
       "                                                     moi  \n",
       "23612  MONOALLELIC, autosomal or pseudoautosomal, imp...  "
      ]
     },
     "execution_count": 248,
     "metadata": {},
     "output_type": "execute_result"
    }
   ],
   "source": [
    "# One gene lacks an ENSG identifier\n",
    "df[df.ensg.isna()]"
   ]
  },
  {
   "cell_type": "code",
   "execution_count": 249,
   "id": "f6535b86-181b-4a5f-84fa-46704d23f028",
   "metadata": {},
   "outputs": [],
   "source": [
    "# This is HIST1H4E.\n",
    "# Its updated HGNC symbol is H4C5.\n",
    "# Its Ensembl ID is ENSG00000276966.\n",
    "# I will update this information directly.\n",
    "\n",
    "df.loc[df.hgnc == \"HIST1H4E\", \"ensg\"] = \"ENSG00000276966\"\n",
    "df.loc[df.hgnc == \"HIST1H4E\", \"hgnc\"] = \"H4C5\""
   ]
  },
  {
   "cell_type": "markdown",
   "id": "a0711281-b503-4e85-b889-dab07844a405",
   "metadata": {},
   "source": [
    "## Save to output"
   ]
  },
  {
   "cell_type": "code",
   "execution_count": 253,
   "id": "61ab0db7-ece4-45fe-884c-4e5f656d091d",
   "metadata": {},
   "outputs": [],
   "source": [
    "df.to_csv(\"../outputs/panel_app_gms_rare_disease_genes.tsv\", sep=\"\\t\", index=False)"
   ]
  }
 ],
 "metadata": {
  "kernelspec": {
   "display_name": "Python 3 (ipykernel)",
   "language": "python",
   "name": "python3"
  },
  "language_info": {
   "codemirror_mode": {
    "name": "ipython",
    "version": 3
   },
   "file_extension": ".py",
   "mimetype": "text/x-python",
   "name": "python",
   "nbconvert_exporter": "python",
   "pygments_lexer": "ipython3",
   "version": "3.8.16"
  }
 },
 "nbformat": 4,
 "nbformat_minor": 5
}
