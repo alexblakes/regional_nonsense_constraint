{
 "cells": [
  {
   "cell_type": "code",
   "execution_count": null,
   "id": "945a4bc0-10e9-40d9-a463-67436e762cf8",
   "metadata": {},
   "outputs": [],
   "source": [
    "\"\"\" Find coverage statistics for all coding sites of interest in gnomAD v3.1.1.\n",
    "These data will be used to inform the model of expected variants per transcript.\n",
    "\"\"\";"
   ]
  },
  {
   "cell_type": "code",
   "execution_count": null,
   "id": "6a4af317-5ab5-40a3-aee6-32ae9ed8850b",
   "metadata": {},
   "outputs": [],
   "source": [
    "# Import modules\n",
    "import numpy as np\n",
    "import pandas as pd\n",
    "from collections import defaultdict\n",
    "import matplotlib.pyplot as plt\n",
    "import seaborn as sns"
   ]
  },
  {
   "cell_type": "code",
   "execution_count": null,
   "id": "3ebac930-79a4-4f4a-9c0d-3b16f961343a",
   "metadata": {},
   "outputs": [],
   "source": [
    "# Define VCF headers and datatypes.\n",
    "header = [\"chr\", \"pos\", \"id\", \"ref\", \"alt\", \"qual\", \"filter\", \"info\"]\n",
    "\n",
    "datatypes = defaultdict(lambda: \"str\")\n",
    "datatypes.update({\"pos\": np.int32, \"ac\": np.int32, \"an\": np.int32})"
   ]
  },
  {
   "cell_type": "code",
   "execution_count": null,
   "id": "a705aadb-2d79-44f1-8b6b-4773692b29a8",
   "metadata": {},
   "outputs": [],
   "source": [
    "# A TextFileReader object for parsing of very large coverage file.\n",
    "reader = pd.read_csv(\n",
    "    \"../outputs/gnomad_3.1.1_coverage_all_sites.tsv\",\n",
    "    sep=\"\\t\",\n",
    "    header=None,\n",
    "    names=[\"chr\", \"pos\", \"mean_cov\", \"median_cov\"],\n",
    "    usecols=[\"chr\", \"pos\", \"mean_cov\", \"median_cov\"],\n",
    "    dtype={\"chr\": \"str\", \"pos\": \"int32\", \"mean_cov\": \"float32\", \"median_cov\": \"int32\"},\n",
    "    index_col=[\"chr\", \"pos\"],\n",
    "    chunksize=10000000,\n",
    ")"
   ]
  },
  {
   "cell_type": "code",
   "execution_count": null,
   "id": "c1662c72-0cda-4b0b-8594-1b6d5046dbfc",
   "metadata": {},
   "outputs": [],
   "source": [
    "# Get VEP annotations for all possible SNVs (excluding short penultimate exons)\n",
    "%%time\n",
    "vep = (\n",
    "    pd.read_csv(\n",
    "        \"../outputs/vep/vep_cds_all_possible_snvs.vcf\",\n",
    "        sep=\"\\t\",\n",
    "        comment=\"#\",\n",
    "        header=None,\n",
    "        names=header,\n",
    "        dtype=datatypes,\n",
    "        usecols=[\"chr\", \"pos\"],\n",
    "    )\n",
    "    .drop_duplicates()\n",
    "    .set_index([\"chr\", \"pos\"])\n",
    ")"
   ]
  },
  {
   "cell_type": "code",
   "execution_count": null,
   "id": "1b0ecd5c-716a-44ef-b116-69721a7a9d42",
   "metadata": {},
   "outputs": [],
   "source": [
    "# Filter genomewide coverage data to coding sites only\n",
    "%%time\n",
    "df = pd.concat([vep.join(chunk, how=\"inner\") for chunk in reader])\n",
    "df = df.reset_index()"
   ]
  },
  {
   "cell_type": "code",
   "execution_count": null,
   "id": "9cf5f824-2700-46ee-9b31-65de8fc44262",
   "metadata": {},
   "outputs": [],
   "source": [
    "# Write to output\n",
    "df.to_csv(\"../outputs/gnomad_3.1.1_coverage_coding_sites.tsv\", sep=\"\\t\", index=False)"
   ]
  },
  {
   "cell_type": "markdown",
   "id": "f4e5b0a9-5f17-4e4d-b098-3a24be088126",
   "metadata": {},
   "source": [
    "# Plots"
   ]
  },
  {
   "cell_type": "code",
   "execution_count": null,
   "id": "f860f065-715e-42b0-8731-185b6160e358",
   "metadata": {},
   "outputs": [],
   "source": [
    "sns.set_context(\"talk\")"
   ]
  },
  {
   "cell_type": "code",
   "execution_count": null,
   "id": "752079f2-1953-4be3-9cac-c374736de149",
   "metadata": {},
   "outputs": [],
   "source": [
    "# Mean coverage\n",
    "sns.ecdfplot(df.mean_cov[df.mean_cov < 35])"
   ]
  },
  {
   "cell_type": "code",
   "execution_count": null,
   "id": "b7576d4b-ad0f-466c-9f95-9a4cf6ceedd1",
   "metadata": {},
   "outputs": [],
   "source": [
    "# Median coverage\n",
    "sns.ecdfplot(df.median_cov[df.median_cov < 35])"
   ]
  },
  {
   "cell_type": "code",
   "execution_count": null,
   "id": "69ccbf1c-668b-4e95-8cb8-3242a954ac04",
   "metadata": {},
   "outputs": [],
   "source": []
  }
 ],
 "metadata": {
  "kernelspec": {
   "display_name": "Python 3 (ipykernel)",
   "language": "python",
   "name": "python3"
  },
  "language_info": {
   "codemirror_mode": {
    "name": "ipython",
    "version": 3
   },
   "file_extension": ".py",
   "mimetype": "text/x-python",
   "name": "python",
   "nbconvert_exporter": "python",
   "pygments_lexer": "ipython3",
   "version": "3.10.6"
  }
 },
 "nbformat": 4,
 "nbformat_minor": 5
}
