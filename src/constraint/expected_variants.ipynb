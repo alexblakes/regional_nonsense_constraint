{
 "cells": [
  {
   "cell_type": "markdown",
   "id": "49c2677e",
   "metadata": {},
   "source": [
    "# Expected variants\n",
    "This script determines the expected number of variants for a given transcript and NMD region."
   ]
  },
  {
   "cell_type": "markdown",
   "id": "1b3db4ee",
   "metadata": {},
   "source": [
    "## Import modules"
   ]
  },
  {
   "cell_type": "code",
   "execution_count": 1,
   "id": "777f5c59",
   "metadata": {
    "tags": []
   },
   "outputs": [],
   "source": [
    "import numpy as np\n",
    "import pandas as pd\n",
    "import statsmodels.api as sm\n",
    "from collections import defaultdict"
   ]
  },
  {
   "cell_type": "markdown",
   "id": "4b68f55e-0319-41d6-b482-79ff25a8984d",
   "metadata": {},
   "source": [
    "## Synonymous variants observed in UKB\n",
    "Rare synonymous variants are the basis for the model. We split CpG and non-CpG synonymous variants."
   ]
  },
  {
   "cell_type": "code",
   "execution_count": 2,
   "id": "6c324070-e288-4316-ae4f-07286a82cb61",
   "metadata": {
    "tags": []
   },
   "outputs": [],
   "source": [
    "# Rare synonymous variants per variant context\n",
    "syn = pd.read_csv(\"../outputs/observed_variants_stats_synonymous.tsv\", sep=\"\\t\")\n",
    "\n",
    "# Get proportion of variants observed\n",
    "syn[\"prop_obs\"] = syn[\"obs\"] / syn[\"pos\"]\n",
    "\n",
    "# Split CpG and non-CpG variants\n",
    "syn_non = syn[syn[\"variant_type\"] != \"CpG\"].copy()\n",
    "syn_cpg = syn[syn[\"variant_type\"] == \"CpG\"].copy()\n",
    "\n",
    "# Some CpG contexts are saturated; these should be dropped\n",
    "syn_cpg = syn_cpg[syn_cpg[\"prop_obs\"] != 1]"
   ]
  },
  {
   "cell_type": "markdown",
   "id": "08fbc0e4-99e9-460b-982f-6871751ea118",
   "metadata": {},
   "source": [
    "## Modelling expected proportion of variants"
   ]
  },
  {
   "cell_type": "code",
   "execution_count": 3,
   "id": "bc57f877-822c-4fa9-a8d2-0b578e56a087",
   "metadata": {
    "tags": []
   },
   "outputs": [
    {
     "data": {
      "text/html": [
       "<table class=\"simpletable\">\n",
       "<caption>WLS Regression Results</caption>\n",
       "<tr>\n",
       "  <th>Dep. Variable:</th>    <td>prop_obs</td>  <th>  R-squared:         </th> <td>   0.965</td> \n",
       "</tr>\n",
       "<tr>\n",
       "  <th>Model:</th>               <td>WLS</td>    <th>  Adj. R-squared:    </th> <td>   0.964</td> \n",
       "</tr>\n",
       "<tr>\n",
       "  <th>No. Observations:</th>  <td>   176</td>   <th>  F-statistic:       </th> <td>   4739.</td> \n",
       "</tr>\n",
       "<tr>\n",
       "  <th>Covariance Type:</th>  <td>nonrobust</td> <th>  Prob (F-statistic):</th> <td>3.71e-128</td>\n",
       "</tr>\n",
       "</table>\n",
       "<table class=\"simpletable\">\n",
       "<tr>\n",
       "    <td></td>       <th>coef</th>     <th>std err</th>      <th>t</th>      <th>P>|t|</th>  <th>[0.025</th>    <th>0.975]</th>  \n",
       "</tr>\n",
       "<tr>\n",
       "  <th>const</th> <td>   -0.0055</td> <td>    0.002</td> <td>   -2.419</td> <td> 0.017</td> <td>   -0.010</td> <td>   -0.001</td>\n",
       "</tr>\n",
       "<tr>\n",
       "  <th>mu</th>    <td>-3.002e+07</td> <td> 4.36e+05</td> <td>  -68.840</td> <td> 0.000</td> <td>-3.09e+07</td> <td>-2.92e+07</td>\n",
       "</tr>\n",
       "</table><br/><br/>Notes:<br/>[1] Standard Errors assume that the covariance matrix of the errors is correctly specified.<br/>[2] The condition number is large, 3.56e+08. This might indicate that there are<br/>strong multicollinearity or other numerical problems."
      ],
      "text/plain": [
       "<class 'statsmodels.iolib.summary.Summary'>\n",
       "\"\"\"\n",
       "                            WLS Regression Results                            \n",
       "==============================================================================\n",
       "Dep. Variable:               prop_obs   R-squared:                       0.965\n",
       "Model:                            WLS   Adj. R-squared:                  0.964\n",
       "No. Observations:                 176   F-statistic:                     4739.\n",
       "Covariance Type:            nonrobust   Prob (F-statistic):          3.71e-128\n",
       "==============================================================================\n",
       "                 coef    std err          t      P>|t|      [0.025      0.975]\n",
       "------------------------------------------------------------------------------\n",
       "const         -0.0055      0.002     -2.419      0.017      -0.010      -0.001\n",
       "mu         -3.002e+07   4.36e+05    -68.840      0.000   -3.09e+07   -2.92e+07\n",
       "==============================================================================\n",
       "\n",
       "Notes:\n",
       "[1] Standard Errors assume that the covariance matrix of the errors is correctly specified.\n",
       "[2] The condition number is large, 3.56e+08. This might indicate that there are\n",
       "strong multicollinearity or other numerical problems.\n",
       "\"\"\""
      ]
     },
     "execution_count": 3,
     "metadata": {},
     "output_type": "execute_result"
    }
   ],
   "source": [
    "# Linear model for non-CpGs\n",
    "non_cpg_model = sm.WLS(\n",
    "    np.log(1 - syn_non[\"prop_obs\"]),\n",
    "    sm.tools.add_constant(syn_non[\"mu\"]),\n",
    "    weights=syn_non[\"pos\"],\n",
    ")\n",
    "non_cpg_results = non_cpg_model.fit()\n",
    "non_cpg_results.summary(slim=True)"
   ]
  },
  {
   "cell_type": "markdown",
   "id": "90672fd3-dc3a-4649-9e34-440e9c50ab4a",
   "metadata": {},
   "source": [
    "CpG variants are fit to a log-linear model."
   ]
  },
  {
   "cell_type": "code",
   "execution_count": 4,
   "id": "299346d7-57e9-405a-a1b8-0cdc4763f576",
   "metadata": {
    "tags": []
   },
   "outputs": [
    {
     "data": {
      "text/html": [
       "<table class=\"simpletable\">\n",
       "<caption>WLS Regression Results</caption>\n",
       "<tr>\n",
       "  <th>Dep. Variable:</th>    <td>prop_obs</td>  <th>  R-squared:         </th> <td>   0.942</td>\n",
       "</tr>\n",
       "<tr>\n",
       "  <th>Model:</th>               <td>WLS</td>    <th>  Adj. R-squared:    </th> <td>   0.941</td>\n",
       "</tr>\n",
       "<tr>\n",
       "  <th>No. Observations:</th>  <td>   123</td>   <th>  F-statistic:       </th> <td>   1954.</td>\n",
       "</tr>\n",
       "<tr>\n",
       "  <th>Covariance Type:</th>  <td>nonrobust</td> <th>  Prob (F-statistic):</th> <td>1.59e-76</td>\n",
       "</tr>\n",
       "</table>\n",
       "<table class=\"simpletable\">\n",
       "<tr>\n",
       "    <td></td>       <th>coef</th>     <th>std err</th>      <th>t</th>      <th>P>|t|</th>  <th>[0.025</th>    <th>0.975]</th>  \n",
       "</tr>\n",
       "<tr>\n",
       "  <th>const</th> <td> 7.801e+06</td> <td> 1.76e+05</td> <td>   44.205</td> <td> 0.000</td> <td> 7.45e+06</td> <td> 8.15e+06</td>\n",
       "</tr>\n",
       "<tr>\n",
       "  <th>mu</th>    <td> -2.12e+07</td> <td>  4.8e+05</td> <td>  -44.205</td> <td> 0.000</td> <td>-2.22e+07</td> <td>-2.03e+07</td>\n",
       "</tr>\n",
       "</table><br/><br/>Notes:<br/>[1] Standard Errors assume that the covariance matrix of the errors is correctly specified.<br/>[2] The condition number is large, 6.59e+07. This might indicate that there are<br/>strong multicollinearity or other numerical problems."
      ],
      "text/plain": [
       "<class 'statsmodels.iolib.summary.Summary'>\n",
       "\"\"\"\n",
       "                            WLS Regression Results                            \n",
       "==============================================================================\n",
       "Dep. Variable:               prop_obs   R-squared:                       0.942\n",
       "Model:                            WLS   Adj. R-squared:                  0.941\n",
       "No. Observations:                 123   F-statistic:                     1954.\n",
       "Covariance Type:            nonrobust   Prob (F-statistic):           1.59e-76\n",
       "==============================================================================\n",
       "                 coef    std err          t      P>|t|      [0.025      0.975]\n",
       "------------------------------------------------------------------------------\n",
       "const       7.801e+06   1.76e+05     44.205      0.000    7.45e+06    8.15e+06\n",
       "mu          -2.12e+07    4.8e+05    -44.205      0.000   -2.22e+07   -2.03e+07\n",
       "==============================================================================\n",
       "\n",
       "Notes:\n",
       "[1] Standard Errors assume that the covariance matrix of the errors is correctly specified.\n",
       "[2] The condition number is large, 6.59e+07. This might indicate that there are\n",
       "strong multicollinearity or other numerical problems.\n",
       "\"\"\""
      ]
     },
     "execution_count": 4,
     "metadata": {},
     "output_type": "execute_result"
    }
   ],
   "source": [
    "# Log-linear model for CpGs\n",
    "cpg_model = sm.WLS(\n",
    "    np.log(1 - syn_cpg[\"prop_obs\"]),\n",
    "    np.exp(sm.tools.add_constant(syn_cpg[\"mu\"])),\n",
    "    weights=syn_cpg[\"pos\"],\n",
    ")\n",
    "cpg_results = cpg_model.fit()\n",
    "cpg_results.summary(slim=True)"
   ]
  },
  {
   "cell_type": "markdown",
   "id": "50eb0d12-9db7-4340-bcef-ffb1759d094f",
   "metadata": {},
   "source": [
    "## Variants observed in UKB"
   ]
  },
  {
   "cell_type": "markdown",
   "id": "f8d0fb56-97a3-4a59-a3d2-ed4fe1400edb",
   "metadata": {},
   "source": [
    "### Combine observations in NMD regions and transcripts\n",
    "The expected number of variants will be predicted for each of these regions."
   ]
  },
  {
   "cell_type": "code",
   "execution_count": 5,
   "id": "e94de165-0de7-429e-ad9c-52f82dfceab0",
   "metadata": {
    "tags": []
   },
   "outputs": [],
   "source": [
    "# Variants observed per transcript\n",
    "enst = pd.read_csv(\"../outputs/observed_variants_stats_transcript.tsv\", sep=\"\\t\")"
   ]
  },
  {
   "cell_type": "code",
   "execution_count": 6,
   "id": "8cadd15a-bd0e-471a-9a85-1da81a9a82ce",
   "metadata": {
    "tags": []
   },
   "outputs": [],
   "source": [
    "# Variants observed per NMD region\n",
    "nmd = pd.read_csv(\"../outputs/observed_variants_stats_nmd.tsv\", sep=\"\\t\")"
   ]
  },
  {
   "cell_type": "code",
   "execution_count": 7,
   "id": "ac79e0b6-2a46-4db4-88d0-b95c09055564",
   "metadata": {
    "tags": []
   },
   "outputs": [
    {
     "data": {
      "text/html": [
       "<div>\n",
       "<style scoped>\n",
       "    .dataframe tbody tr th:only-of-type {\n",
       "        vertical-align: middle;\n",
       "    }\n",
       "\n",
       "    .dataframe tbody tr th {\n",
       "        vertical-align: top;\n",
       "    }\n",
       "\n",
       "    .dataframe thead th {\n",
       "        text-align: right;\n",
       "    }\n",
       "</style>\n",
       "<table border=\"1\" class=\"dataframe\">\n",
       "  <thead>\n",
       "    <tr style=\"text-align: right;\">\n",
       "      <th></th>\n",
       "      <th>enst</th>\n",
       "      <th>csq</th>\n",
       "      <th>variant_type</th>\n",
       "      <th>region</th>\n",
       "      <th>n_pos</th>\n",
       "      <th>n_obs</th>\n",
       "      <th>mu</th>\n",
       "    </tr>\n",
       "  </thead>\n",
       "  <tbody>\n",
       "    <tr>\n",
       "      <th>0</th>\n",
       "      <td>ENST00000000233</td>\n",
       "      <td>missense</td>\n",
       "      <td>CpG</td>\n",
       "      <td>distal_nmd</td>\n",
       "      <td>10</td>\n",
       "      <td>9</td>\n",
       "      <td>1.135200e-07</td>\n",
       "    </tr>\n",
       "    <tr>\n",
       "      <th>3</th>\n",
       "      <td>ENST00000000233</td>\n",
       "      <td>missense</td>\n",
       "      <td>non-CpG</td>\n",
       "      <td>distal_nmd</td>\n",
       "      <td>271</td>\n",
       "      <td>19</td>\n",
       "      <td>3.376155e-09</td>\n",
       "    </tr>\n",
       "    <tr>\n",
       "      <th>6</th>\n",
       "      <td>ENST00000000233</td>\n",
       "      <td>nonsense</td>\n",
       "      <td>non-CpG</td>\n",
       "      <td>distal_nmd</td>\n",
       "      <td>20</td>\n",
       "      <td>0</td>\n",
       "      <td>4.540700e-09</td>\n",
       "    </tr>\n",
       "  </tbody>\n",
       "</table>\n",
       "</div>"
      ],
      "text/plain": [
       "              enst       csq variant_type      region  n_pos  n_obs  \\\n",
       "0  ENST00000000233  missense          CpG  distal_nmd     10      9   \n",
       "3  ENST00000000233  missense      non-CpG  distal_nmd    271     19   \n",
       "6  ENST00000000233  nonsense      non-CpG  distal_nmd     20      0   \n",
       "\n",
       "             mu  \n",
       "0  1.135200e-07  \n",
       "3  3.376155e-09  \n",
       "6  4.540700e-09  "
      ]
     },
     "execution_count": 7,
     "metadata": {},
     "output_type": "execute_result"
    }
   ],
   "source": [
    "# Concatenate the transcript-level and region-level data\n",
    "enst = enst.assign(region=\"transcript\")\n",
    "nmd = nmd.rename(columns={\"nmd\": \"region\"})\n",
    "\n",
    "df = pd.concat([nmd, enst]).sort_values([\"region\", \"enst\", \"csq\"])\n",
    "df.head(3)"
   ]
  },
  {
   "cell_type": "markdown",
   "id": "40cbab95-6a99-421a-92e4-841849ff7851",
   "metadata": {},
   "source": [
    "### Treat CpG and non-CpG variants separately"
   ]
  },
  {
   "cell_type": "code",
   "execution_count": 8,
   "id": "c5ce914e-209a-4bd7-913d-8ba90d654c41",
   "metadata": {
    "tags": []
   },
   "outputs": [
    {
     "data": {
      "text/plain": [
       "19623"
      ]
     },
     "execution_count": 8,
     "metadata": {},
     "output_type": "execute_result"
    }
   ],
   "source": [
    "# Non-CpG\n",
    "non_cpg = df[df[\"variant_type\"] != \"CpG\"].copy()\n",
    "non_cpg.enst.nunique()"
   ]
  },
  {
   "cell_type": "code",
   "execution_count": 9,
   "id": "c26aeaca-4ed6-4851-8e28-a18eefc03eaa",
   "metadata": {
    "tags": []
   },
   "outputs": [
    {
     "data": {
      "text/plain": [
       "19476"
      ]
     },
     "execution_count": 9,
     "metadata": {},
     "output_type": "execute_result"
    }
   ],
   "source": [
    "# CpG\n",
    "cpg = df[df[\"variant_type\"] == \"CpG\"].copy()\n",
    "cpg.enst.nunique()"
   ]
  },
  {
   "cell_type": "markdown",
   "id": "a4eb7981-86ab-49f5-a33f-cf438caff989",
   "metadata": {},
   "source": [
    "Several transcripts are missing from the CpG data, presumably because there are no CpG sites in these transcripts. I will re-index the data so that all transcripts, consequences and regions are represented."
   ]
  },
  {
   "cell_type": "code",
   "execution_count": 10,
   "id": "f8d1ccb2-1063-42ff-a2aa-d5128d3f3b9c",
   "metadata": {
    "tags": []
   },
   "outputs": [],
   "source": [
    "# Re-index non-CpGs\n",
    "non_cpg = (\n",
    "    non_cpg.set_index([\"enst\", \"region\", \"csq\"])\n",
    "    .unstack(\"enst\")\n",
    "    .stack(dropna=False)\n",
    "    .reset_index()\n",
    ")\n",
    "\n",
    "# Check that all combinations of enst, region, and csq are present\n",
    "assert non_cpg.enst.nunique() * non_cpg.region.nunique() * non_cpg.csq.nunique() == len(\n",
    "    non_cpg\n",
    ")\n",
    "\n",
    "# Fill NaN values for variant type\n",
    "non_cpg[\"variant_type\"] = non_cpg[\"variant_type\"].fillna(\"non-CpG\")"
   ]
  },
  {
   "cell_type": "markdown",
   "id": "60dcc17b-92c8-4993-a883-2b926ab04d02",
   "metadata": {},
   "source": [
    "This is slightly more complex for CpGs, which are missing several transcripts, compared with the non-CpG data..."
   ]
  },
  {
   "cell_type": "code",
   "execution_count": 11,
   "id": "753c3717-1674-49d4-a580-94bb7929f34f",
   "metadata": {
    "tags": []
   },
   "outputs": [],
   "source": [
    "# Get all the transcripts in the non-CpG data\n",
    "all_transcripts = pd.Series(non_cpg[\"enst\"].unique(), name=\"enst\")\n",
    "\n",
    "# Merge on these transcripts\n",
    "cpg = cpg.merge(all_transcripts, how=\"right\")\n",
    "\n",
    "# Fill any NaN values in csq and region with dummy values\n",
    "cpg[\"csq\"] = cpg.csq.fillna(\"missense\")\n",
    "cpg[\"region\"] = cpg.region.fillna(\"transcript\")\n",
    "\n",
    "# Reindex CpGs, as above\n",
    "cpg = (\n",
    "    cpg.set_index([\"enst\", \"region\", \"csq\"])\n",
    "    .unstack(\"enst\")\n",
    "    .stack(dropna=False)\n",
    "    .reset_index()\n",
    ")\n",
    "\n",
    "# Check that all combinations of enst, region, and csq are present\n",
    "assert cpg.enst.nunique() * cpg.region.nunique() * cpg.csq.nunique() == len(cpg)\n",
    "\n",
    "# Fill NaN values for variant type\n",
    "cpg[\"variant_type\"] = cpg[\"variant_type\"].fillna(\"CpG\")"
   ]
  },
  {
   "cell_type": "markdown",
   "id": "28a28f5e-6573-4c8a-aaad-6ad7ec2699ac",
   "metadata": {},
   "source": [
    "## Calculate the expected proportion of variants per transcript and region"
   ]
  },
  {
   "cell_type": "markdown",
   "id": "f673b82c-c55f-45eb-8954-24b6a8afeccd",
   "metadata": {},
   "source": [
    "### Non-CpGs"
   ]
  },
  {
   "cell_type": "code",
   "execution_count": 12,
   "id": "d90c0d52-65f7-4ef1-9a97-84ec8a47a433",
   "metadata": {
    "tags": []
   },
   "outputs": [],
   "source": [
    "# Predict the proportion observed with the non-CpG model\n",
    "non_cpg[\"prop_exp\"] = 1 - np.exp(non_cpg_results.predict(sm.tools.add_constant(non_cpg[\"mu\"])))\n",
    "\n",
    "# Calculate the number of variants expected\n",
    "non_cpg[\"n_exp\"] = (non_cpg[\"prop_exp\"] * non_cpg[\"n_pos\"]).pipe(np.round, 3)"
   ]
  },
  {
   "cell_type": "markdown",
   "id": "b9b3e387-acc3-4bb9-b0cf-0a295444d81d",
   "metadata": {},
   "source": [
    "### CpGs"
   ]
  },
  {
   "cell_type": "code",
   "execution_count": 13,
   "id": "1f558d53-312d-4091-9445-4982158e80c4",
   "metadata": {
    "tags": []
   },
   "outputs": [],
   "source": [
    "# Predict the proportion observed with the CpG model\n",
    "cpg[\"prop_exp\"] = 1 - np.exp(cpg_results.predict(np.exp(sm.tools.add_constant(cpg[\"mu\"]))))\n",
    "\n",
    "# Calculate the number of variants expected\n",
    "cpg[\"n_exp\"] = (cpg[\"prop_exp\"] * cpg[\"n_pos\"]).pipe(np.round, 3)"
   ]
  },
  {
   "cell_type": "markdown",
   "id": "d8e8136b-1254-43ff-8d80-e4fd080aca2d",
   "metadata": {},
   "source": [
    "### Combine CpG and non-CpG variants"
   ]
  },
  {
   "cell_type": "code",
   "execution_count": 14,
   "id": "a25c2dc5-6730-4198-a579-5da0bed430e7",
   "metadata": {
    "tags": []
   },
   "outputs": [
    {
     "data": {
      "text/plain": [
       "59905"
      ]
     },
     "execution_count": 14,
     "metadata": {},
     "output_type": "execute_result"
    }
   ],
   "source": [
    "# Give CpG and non-CpG variants a consistent index\n",
    "non_cpg = non_cpg.set_index([\"enst\",\"region\",\"csq\"])\n",
    "cpg = cpg.set_index([\"enst\",\"region\",\"csq\"])\n",
    "\n",
    "# Combine non-CpG and CpG data into the essential summary statistics\n",
    "n_pos = non_cpg[\"n_pos\"].fillna(0) + cpg[\"n_pos\"].fillna(0)\n",
    "n_obs = non_cpg[\"n_obs\"].fillna(0) + cpg[\"n_obs\"].fillna(0)\n",
    "n_exp = non_cpg[\"n_exp\"].fillna(0) + cpg[\"n_exp\"].fillna(0)\n",
    "oe = (n_obs / n_exp).rename(\"oe\")\n",
    "prop_obs = (n_obs / n_pos).rename(\"prop_obs\")\n",
    "prop_exp = (n_exp / n_pos).rename(\"prop_exp\")\n",
    "\n",
    "# Calculate the total mutability for each region\n",
    "# In each dataframe, \"mu\" is the mean mutability for contexts in a region\n",
    "mu_non_cpg = (non_cpg[\"mu\"] * non_cpg[\"n_pos\"]).fillna(0)\n",
    "mu_cpg = (cpg[\"mu\"] * cpg[\"n_pos\"]).fillna(0)\n",
    "mu = (mu_non_cpg + mu_cpg).rename(\"mu\")\n",
    "\n",
    "# Create a summary dataframe\n",
    "df = pd.concat([mu, n_pos, n_obs, n_exp, oe, prop_obs, prop_exp], axis=1).reset_index(drop=False)\n",
    "\n",
    "# How many regions are missing variants?\n",
    "oe.isna().sum()"
   ]
  },
  {
   "cell_type": "markdown",
   "id": "bff6587d-4c99-41d2-a7de-a459902cd7f5",
   "metadata": {},
   "source": [
    "\n",
    "Note the many sites with NaN values. These are regions where 0 variants are possible. We have kept them for now; they could be dropped later."
   ]
  },
  {
   "cell_type": "markdown",
   "id": "67259304-ca05-4a0a-b20a-2601cf01d15d",
   "metadata": {},
   "source": [
    "## Write to output"
   ]
  },
  {
   "cell_type": "code",
   "execution_count": 15,
   "id": "4428046a",
   "metadata": {},
   "outputs": [],
   "source": [
    "df.to_csv(\"../outputs/expected_variants_all_regions.tsv\", sep=\"\\t\", index=False)"
   ]
  }
 ],
 "metadata": {
  "kernelspec": {
   "display_name": "ukb",
   "language": "python",
   "name": "python3"
  },
  "language_info": {
   "codemirror_mode": {
    "name": "ipython",
    "version": 3
   },
   "file_extension": ".py",
   "mimetype": "text/x-python",
   "name": "python",
   "nbconvert_exporter": "python",
   "pygments_lexer": "ipython3",
   "version": "3.8.17"
  }
 },
 "nbformat": 4,
 "nbformat_minor": 5
}
