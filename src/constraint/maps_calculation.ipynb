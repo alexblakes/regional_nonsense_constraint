{
 "cells": [
  {
   "cell_type": "markdown",
   "id": "fdb6c485-6e48-4b38-8135-d36b3c6a68cc",
   "metadata": {},
   "source": [
    "# MAPS calculation\n",
    "This script calculates MAPS for our variant classes of interest."
   ]
  },
  {
   "cell_type": "markdown",
   "id": "0f7b3c27-dca0-412d-8a3d-12215d3158b5",
   "metadata": {
    "tags": []
   },
   "source": [
    "## Import modules"
   ]
  },
  {
   "cell_type": "code",
   "execution_count": 1,
   "id": "3a388457-d8e4-41fd-a7c2-561f9df07296",
   "metadata": {
    "tags": []
   },
   "outputs": [],
   "source": [
    "import numpy as np\n",
    "import pandas as pd\n",
    "import statsmodels.api as sm\n",
    "import matplotlib.pyplot as plt"
   ]
  },
  {
   "cell_type": "markdown",
   "id": "18477711-dba2-4245-a053-d9396bdbc8b3",
   "metadata": {},
   "source": [
    "## Load data"
   ]
  },
  {
   "cell_type": "code",
   "execution_count": 2,
   "id": "907f55d4-fe10-4063-afce-729b2388506c",
   "metadata": {
    "tags": []
   },
   "outputs": [],
   "source": [
    "# Proportion of singletons in synonymous variant contexts\n",
    "syn = pd.read_csv(\n",
    "    \"../outputs/proportion_singletons_synonymous_by_context.tsv\",\n",
    "    sep=\"\\t\",\n",
    ")"
   ]
  },
  {
   "cell_type": "code",
   "execution_count": 3,
   "id": "96959726-c289-4f43-a224-dd9ccf1757d2",
   "metadata": {
    "tags": []
   },
   "outputs": [],
   "source": [
    "# Limit to non-CpG contexts (see maps_model_choices.ipynb)\n",
    "non_cpg = syn[syn.variant_type != \"CpG\"]"
   ]
  },
  {
   "cell_type": "markdown",
   "id": "f5e618f9-4fd3-4f44-a23c-94ab1f6886c4",
   "metadata": {},
   "source": [
    "## Modelling"
   ]
  },
  {
   "cell_type": "code",
   "execution_count": 4,
   "id": "379a49d2-029b-4d6d-99d4-938abd23afba",
   "metadata": {
    "tags": []
   },
   "outputs": [],
   "source": [
    "# Get variables for the WLS model\n",
    "x = non_cpg[\"mu\"]\n",
    "X = sm.add_constant(x)\n",
    "y = non_cpg[\"ps\"]\n",
    "w = non_cpg[\"n_obs\"] # weights"
   ]
  },
  {
   "cell_type": "code",
   "execution_count": 5,
   "id": "9fa638ae-f096-402a-9207-70e0129bcd08",
   "metadata": {
    "tags": []
   },
   "outputs": [
    {
     "data": {
      "text/html": [
       "<table class=\"simpletable\">\n",
       "<caption>WLS Regression Results</caption>\n",
       "<tr>\n",
       "  <th>Dep. Variable:</th>       <td>ps</td>     <th>  R-squared:         </th> <td>   0.794</td>\n",
       "</tr>\n",
       "<tr>\n",
       "  <th>Model:</th>               <td>WLS</td>    <th>  Adj. R-squared:    </th> <td>   0.793</td>\n",
       "</tr>\n",
       "<tr>\n",
       "  <th>No. Observations:</th>  <td>   176</td>   <th>  F-statistic:       </th> <td>   669.7</td>\n",
       "</tr>\n",
       "<tr>\n",
       "  <th>Covariance Type:</th>  <td>nonrobust</td> <th>  Prob (F-statistic):</th> <td>1.51e-61</td>\n",
       "</tr>\n",
       "</table>\n",
       "<table class=\"simpletable\">\n",
       "<tr>\n",
       "    <td></td>       <th>coef</th>     <th>std err</th>      <th>t</th>      <th>P>|t|</th>  <th>[0.025</th>    <th>0.975]</th>  \n",
       "</tr>\n",
       "<tr>\n",
       "  <th>const</th> <td>    0.5557</td> <td>    0.003</td> <td>  221.100</td> <td> 0.000</td> <td>    0.551</td> <td>    0.561</td>\n",
       "</tr>\n",
       "<tr>\n",
       "  <th>mu</th>    <td>-9.873e+06</td> <td> 3.81e+05</td> <td>  -25.879</td> <td> 0.000</td> <td>-1.06e+07</td> <td>-9.12e+06</td>\n",
       "</tr>\n",
       "</table><br/><br/>Notes:<br/>[1] Standard Errors assume that the covariance matrix of the errors is correctly specified.<br/>[2] The smallest eigenvalue is 2.12e-11. This might indicate that there are<br/>strong multicollinearity problems or that the design matrix is singular."
      ],
      "text/latex": [
       "\\begin{center}\n",
       "\\begin{tabular}{lclc}\n",
       "\\toprule\n",
       "\\textbf{Dep. Variable:}    &       ps      & \\textbf{  R-squared:         } &     0.794   \\\\\n",
       "\\textbf{Model:}            &      WLS      & \\textbf{  Adj. R-squared:    } &     0.793   \\\\\n",
       "\\textbf{No. Observations:} &        176    & \\textbf{  F-statistic:       } &     669.7   \\\\\n",
       "\\textbf{Covariance Type:}  &   nonrobust   & \\textbf{  Prob (F-statistic):} &  1.51e-61   \\\\\n",
       "\\bottomrule\n",
       "\\end{tabular}\n",
       "\\begin{tabular}{lcccccc}\n",
       "               & \\textbf{coef} & \\textbf{std err} & \\textbf{t} & \\textbf{P$> |$t$|$} & \\textbf{[0.025} & \\textbf{0.975]}  \\\\\n",
       "\\midrule\n",
       "\\textbf{const} &       0.5557  &        0.003     &   221.100  &         0.000        &        0.551    &        0.561     \\\\\n",
       "\\textbf{mu}    &   -9.873e+06  &     3.81e+05     &   -25.879  &         0.000        &    -1.06e+07    &    -9.12e+06     \\\\\n",
       "\\bottomrule\n",
       "\\end{tabular}\n",
       "%\\caption{WLS Regression Results}\n",
       "\\end{center}\n",
       "\n",
       "Notes: \\newline\n",
       " [1] Standard Errors assume that the covariance matrix of the errors is correctly specified. \\newline\n",
       " [2] The smallest eigenvalue is 2.12e-11. This might indicate that there are \\newline\n",
       " strong multicollinearity problems or that the design matrix is singular."
      ],
      "text/plain": [
       "<class 'statsmodels.iolib.summary.Summary'>\n",
       "\"\"\"\n",
       "                            WLS Regression Results                            \n",
       "==============================================================================\n",
       "Dep. Variable:                     ps   R-squared:                       0.794\n",
       "Model:                            WLS   Adj. R-squared:                  0.793\n",
       "No. Observations:                 176   F-statistic:                     669.7\n",
       "Covariance Type:            nonrobust   Prob (F-statistic):           1.51e-61\n",
       "==============================================================================\n",
       "                 coef    std err          t      P>|t|      [0.025      0.975]\n",
       "------------------------------------------------------------------------------\n",
       "const          0.5557      0.003    221.100      0.000       0.551       0.561\n",
       "mu         -9.873e+06   3.81e+05    -25.879      0.000   -1.06e+07   -9.12e+06\n",
       "==============================================================================\n",
       "\n",
       "Notes:\n",
       "[1] Standard Errors assume that the covariance matrix of the errors is correctly specified.\n",
       "[2] The smallest eigenvalue is 2.12e-11. This might indicate that there are\n",
       "strong multicollinearity problems or that the design matrix is singular.\n",
       "\"\"\""
      ]
     },
     "execution_count": 5,
     "metadata": {},
     "output_type": "execute_result"
    }
   ],
   "source": [
    "# Fit the model\n",
    "model = sm.WLS(y, X, w).fit()\n",
    "model.summary(slim=True)"
   ]
  },
  {
   "cell_type": "code",
   "execution_count": 6,
   "id": "8acc3987-08e8-4ad4-a3a3-fb3d463ddade",
   "metadata": {
    "tags": []
   },
   "outputs": [
    {
     "data": {
      "text/plain": [
       "[<matplotlib.lines.Line2D at 0x7fc011e944c0>]"
      ]
     },
     "execution_count": 6,
     "metadata": {},
     "output_type": "execute_result"
    },
    {
     "data": {
      "image/png": "[encoded data removed]",
      "text/plain": [
       "<Figure size 350x300 with 1 Axes>"
      ]
     },
     "metadata": {},
     "output_type": "display_data"
    }
   ],
   "source": [
    "# Plot the data\n",
    "fig, ax = plt.subplots(figsize=(3.5,3))\n",
    "ax.scatter(x,y, linewidths=0, alpha=0.3)\n",
    "ax.plot(x, model.predict(X))"
   ]
  },
  {
   "cell_type": "markdown",
   "id": "8030636d-a218-4a8d-a01f-af31c0a2c845",
   "metadata": {},
   "source": [
    "## Calculate MAPS"
   ]
  },
  {
   "cell_type": "code",
   "execution_count": 7,
   "id": "03b6309d-c5b2-4362-9472-343e36af5eff",
   "metadata": {
    "tags": []
   },
   "outputs": [],
   "source": [
    "# ...for non-CpG variants\n",
    "ps = pd.read_csv(\"../outputs/proportion_singletons_by_csq_and_region_no_cpg.tsv\", sep=\"\\t\",)"
   ]
  },
  {
   "cell_type": "code",
   "execution_count": 8,
   "id": "dfc4c29c-908d-4476-9a9d-c0237e681537",
   "metadata": {
    "tags": []
   },
   "outputs": [
    {
     "data": {
      "text/html": [
       "<div>\n",
       "<style scoped>\n",
       "    .dataframe tbody tr th:only-of-type {\n",
       "        vertical-align: middle;\n",
       "    }\n",
       "\n",
       "    .dataframe tbody tr th {\n",
       "        vertical-align: top;\n",
       "    }\n",
       "\n",
       "    .dataframe thead th {\n",
       "        text-align: right;\n",
       "    }\n",
       "</style>\n",
       "<table border=\"1\" class=\"dataframe\">\n",
       "  <thead>\n",
       "    <tr style=\"text-align: right;\">\n",
       "      <th></th>\n",
       "      <th>csq</th>\n",
       "      <th>mu</th>\n",
       "      <th>n_singletons</th>\n",
       "      <th>n_obs</th>\n",
       "      <th>ps</th>\n",
       "      <th>se</th>\n",
       "      <th>ps_pred</th>\n",
       "      <th>maps</th>\n",
       "      <th>ci95</th>\n",
       "    </tr>\n",
       "  </thead>\n",
       "  <tbody>\n",
       "    <tr>\n",
       "      <th>0</th>\n",
       "      <td>missense</td>\n",
       "      <td>5.019917e-09</td>\n",
       "      <td>3297481</td>\n",
       "      <td>6201057</td>\n",
       "      <td>0.531761</td>\n",
       "      <td>0.000200</td>\n",
       "      <td>0.506103</td>\n",
       "      <td>0.026</td>\n",
       "      <td>0.000393</td>\n",
       "    </tr>\n",
       "    <tr>\n",
       "      <th>1</th>\n",
       "      <td>nonsense</td>\n",
       "      <td>4.957895e-09</td>\n",
       "      <td>117416</td>\n",
       "      <td>192416</td>\n",
       "      <td>0.610220</td>\n",
       "      <td>0.001112</td>\n",
       "      <td>0.506715</td>\n",
       "      <td>0.104</td>\n",
       "      <td>0.002179</td>\n",
       "    </tr>\n",
       "    <tr>\n",
       "      <th>2</th>\n",
       "      <td>synonymous</td>\n",
       "      <td>5.987558e-09</td>\n",
       "      <td>1395327</td>\n",
       "      <td>2810047</td>\n",
       "      <td>0.496549</td>\n",
       "      <td>0.000298</td>\n",
       "      <td>0.496549</td>\n",
       "      <td>0.000</td>\n",
       "      <td>0.000585</td>\n",
       "    </tr>\n",
       "    <tr>\n",
       "      <th>3</th>\n",
       "      <td>distal_nmd</td>\n",
       "      <td>4.823988e-09</td>\n",
       "      <td>29094</td>\n",
       "      <td>49500</td>\n",
       "      <td>0.587758</td>\n",
       "      <td>0.002212</td>\n",
       "      <td>0.508037</td>\n",
       "      <td>0.080</td>\n",
       "      <td>0.004336</td>\n",
       "    </tr>\n",
       "    <tr>\n",
       "      <th>4</th>\n",
       "      <td>long_exon</td>\n",
       "      <td>4.798374e-09</td>\n",
       "      <td>7895</td>\n",
       "      <td>12338</td>\n",
       "      <td>0.639893</td>\n",
       "      <td>0.004322</td>\n",
       "      <td>0.508290</td>\n",
       "      <td>0.132</td>\n",
       "      <td>0.008470</td>\n",
       "    </tr>\n",
       "    <tr>\n",
       "      <th>5</th>\n",
       "      <td>nmd_target</td>\n",
       "      <td>5.003376e-09</td>\n",
       "      <td>69208</td>\n",
       "      <td>111290</td>\n",
       "      <td>0.621871</td>\n",
       "      <td>0.001454</td>\n",
       "      <td>0.506266</td>\n",
       "      <td>0.116</td>\n",
       "      <td>0.002849</td>\n",
       "    </tr>\n",
       "    <tr>\n",
       "      <th>6</th>\n",
       "      <td>start_proximal</td>\n",
       "      <td>5.141169e-09</td>\n",
       "      <td>11219</td>\n",
       "      <td>19288</td>\n",
       "      <td>0.581657</td>\n",
       "      <td>0.003552</td>\n",
       "      <td>0.504906</td>\n",
       "      <td>0.077</td>\n",
       "      <td>0.006962</td>\n",
       "    </tr>\n",
       "  </tbody>\n",
       "</table>\n",
       "</div>"
      ],
      "text/plain": [
       "              csq            mu  n_singletons    n_obs        ps        se  \\\n",
       "0        missense  5.019917e-09       3297481  6201057  0.531761  0.000200   \n",
       "1        nonsense  4.957895e-09        117416   192416  0.610220  0.001112   \n",
       "2      synonymous  5.987558e-09       1395327  2810047  0.496549  0.000298   \n",
       "3      distal_nmd  4.823988e-09         29094    49500  0.587758  0.002212   \n",
       "4       long_exon  4.798374e-09          7895    12338  0.639893  0.004322   \n",
       "5      nmd_target  5.003376e-09         69208   111290  0.621871  0.001454   \n",
       "6  start_proximal  5.141169e-09         11219    19288  0.581657  0.003552   \n",
       "\n",
       "    ps_pred   maps      ci95  \n",
       "0  0.506103  0.026  0.000393  \n",
       "1  0.506715  0.104  0.002179  \n",
       "2  0.496549  0.000  0.000585  \n",
       "3  0.508037  0.080  0.004336  \n",
       "4  0.508290  0.132  0.008470  \n",
       "5  0.506266  0.116  0.002849  \n",
       "6  0.504906  0.077  0.006962  "
      ]
     },
     "execution_count": 8,
     "metadata": {},
     "output_type": "execute_result"
    }
   ],
   "source": [
    "# Tidy the data\n",
    "ps[\"se\"] = np.sqrt((ps[\"ps\"] * (1 - ps[\"ps\"])) / ps[\"n_obs\"])\n",
    "ps[\"ps_pred\"] = model.predict(sm.tools.add_constant(ps[\"mu\"]))\n",
    "ps[\"maps\"] = np.round((ps[\"ps\"] - ps[\"ps_pred\"]), 3)\n",
    "ps[\"ci95\"] = 1.96 * ps[\"se\"]\n",
    "ps"
   ]
  },
  {
   "cell_type": "code",
   "execution_count": 9,
   "id": "894efc8c-317f-42a0-8bbc-dae119f369c2",
   "metadata": {},
   "outputs": [],
   "source": [
    "# Save to output\n",
    "ps.to_csv(\"../outputs/stats_maps_non_cpg.tsv\", sep=\"\\t\", index=False)"
   ]
  }
 ],
 "metadata": {
  "kernelspec": {
   "display_name": "Python [conda env:ukb]",
   "language": "python",
   "name": "conda-env-ukb-py"
  },
  "language_info": {
   "codemirror_mode": {
    "name": "ipython",
    "version": 3
   },
   "file_extension": ".py",
   "mimetype": "text/x-python",
   "name": "python",
   "nbconvert_exporter": "python",
   "pygments_lexer": "ipython3",
   "version": "3.8.17"
  }
 },
 "nbformat": 4,
 "nbformat_minor": 5
}
