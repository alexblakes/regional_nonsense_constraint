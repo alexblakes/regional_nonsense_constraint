{
 "cells": [
  {
   "cell_type": "markdown",
   "id": "98de9a07",
   "metadata": {
    "papermill": {
     "duration": 0.014206,
     "end_time": "2024-01-18T10:17:04.342734",
     "exception": false,
     "start_time": "2024-01-18T10:17:04.328528",
     "status": "completed"
    },
    "tags": []
   },
   "source": [
    "# ClinVar ascertainment statistics\n",
    "A simple notebook, run as a script, to generate statistics about variant ascertainment in ClinVar."
   ]
  },
  {
   "cell_type": "code",
   "execution_count": 1,
   "id": "4bdde5dc",
   "metadata": {
    "execution": {
     "iopub.execute_input": "2024-01-18T10:17:04.365539Z",
     "iopub.status.busy": "2024-01-18T10:17:04.365008Z",
     "iopub.status.idle": "2024-01-18T10:17:04.403113Z",
     "shell.execute_reply": "2024-01-18T10:17:04.401902Z"
    },
    "papermill": {
     "duration": 0.051571,
     "end_time": "2024-01-18T10:17:04.405663",
     "exception": false,
     "start_time": "2024-01-18T10:17:04.354092",
     "status": "completed"
    },
    "tags": []
   },
   "outputs": [],
   "source": [
    "%load_ext autoreload\n",
    "%autoreload 2"
   ]
  },
  {
   "cell_type": "code",
   "execution_count": 2,
   "id": "d732c901-737e-4043-8539-969ed1fda606",
   "metadata": {
    "execution": {
     "iopub.execute_input": "2024-01-18T10:17:04.424191Z",
     "iopub.status.busy": "2024-01-18T10:17:04.423790Z",
     "iopub.status.idle": "2024-01-18T10:17:06.031910Z",
     "shell.execute_reply": "2024-01-18T10:17:06.030501Z"
    },
    "papermill": {
     "duration": 1.620807,
     "end_time": "2024-01-18T10:17:06.034965",
     "exception": false,
     "start_time": "2024-01-18T10:17:04.414158",
     "status": "completed"
    },
    "tags": []
   },
   "outputs": [],
   "source": [
    "# Imports\n",
    "import pandas as pd\n",
    "\n",
    "from src import constants as C\n",
    "from src.statistics_for_plots import utils"
   ]
  },
  {
   "cell_type": "markdown",
   "id": "3714f679-a80f-46b3-b466-28a0a7228ea0",
   "metadata": {
    "papermill": {
     "duration": 0.00902,
     "end_time": "2024-01-18T10:17:06.054863",
     "exception": false,
     "start_time": "2024-01-18T10:17:06.045843",
     "status": "completed"
    },
    "tags": []
   },
   "source": [
    "## Genomic footprint of NMD regions\n",
    "Find the genomic footprint of NMD regions."
   ]
  },
  {
   "cell_type": "code",
   "execution_count": 3,
   "id": "530fb68b-9209-4158-967a-41ca9d11eba6",
   "metadata": {
    "execution": {
     "iopub.execute_input": "2024-01-18T10:17:06.074503Z",
     "iopub.status.busy": "2024-01-18T10:17:06.073923Z",
     "iopub.status.idle": "2024-01-18T10:17:49.079066Z",
     "shell.execute_reply": "2024-01-18T10:17:49.077559Z"
    },
    "papermill": {
     "duration": 43.017776,
     "end_time": "2024-01-18T10:17:49.081698",
     "exception": false,
     "start_time": "2024-01-18T10:17:06.063922",
     "status": "completed"
    },
    "tags": []
   },
   "outputs": [],
   "source": [
    "# Read NMD annotations\n",
    "nmd = pd.read_csv(\n",
    "    C.NMD_ANNOTATIONS,\n",
    "    sep=\"\\t\",\n",
    "    usecols=[\"nmd_definitive\"],\n",
    "    dtype=\"category\",\n",
    ")"
   ]
  },
  {
   "cell_type": "code",
   "execution_count": 4,
   "id": "bc52a5c3",
   "metadata": {
    "execution": {
     "iopub.execute_input": "2024-01-18T10:17:49.104804Z",
     "iopub.status.busy": "2024-01-18T10:17:49.104527Z",
     "iopub.status.idle": "2024-01-18T10:17:49.359675Z",
     "shell.execute_reply": "2024-01-18T10:17:49.358670Z"
    },
    "papermill": {
     "duration": 0.269866,
     "end_time": "2024-01-18T10:17:49.363478",
     "exception": false,
     "start_time": "2024-01-18T10:17:49.093612",
     "status": "completed"
    },
    "tags": []
   },
   "outputs": [
    {
     "name": "stdout",
     "output_type": "stream",
     "text": [
      "Relative genomic footprint of NMD regions:\n",
      "region\n",
      "Whole transcript    1.000000\n",
      "NMD target          0.613294\n",
      "Start proximal      0.087547\n",
      "Long exon           0.079182\n",
      "Distal              0.219977\n",
      "Name: footprint, dtype: float64\n"
     ]
    }
   ],
   "source": [
    "# Get relative CDS footprint\n",
    "footprint = (\n",
    "    nmd[\"nmd_definitive\"]\n",
    "    .value_counts(normalize=True)\n",
    "    .rename(index={\"distal_nmd\": \"distal\"})\n",
    "    .rename(\"footprint\")\n",
    "    .rename_axis(\"region\", axis=0)\n",
    ")\n",
    "\n",
    "# Add an entry for transcripts\n",
    "transcript = pd.Series([1], index=[\"transcript\"], name=\"footprint\").rename_axis(\n",
    "    \"region\", axis=0\n",
    ")\n",
    "footprint = pd.concat([transcript, footprint]).pipe(utils.sort_region_index)\n",
    "\n",
    "# Save to output\n",
    "footprint.to_csv(C.STATS_NMD_FOOTPRINT, sep=\"\\t\")\n",
    "\n",
    "print(\"Relative genomic footprint of NMD regions:\")\n",
    "print(f\"{footprint}\")"
   ]
  },
  {
   "cell_type": "markdown",
   "id": "9a39b9e2-7283-4b97-8336-7d127620ec03",
   "metadata": {
    "papermill": {
     "duration": 0.009537,
     "end_time": "2024-01-18T10:17:49.383721",
     "exception": false,
     "start_time": "2024-01-18T10:17:49.374184",
     "status": "completed"
    },
    "tags": []
   },
   "source": [
    "## Variant ascertainment in ClinVar\n",
    "Find the number of truncating variants in each NMD region in ClinVar. Normalise by the total genomic footprint of each region."
   ]
  },
  {
   "cell_type": "code",
   "execution_count": 5,
   "id": "f7583def-2111-4708-9f75-9a9a38c9e15e",
   "metadata": {
    "execution": {
     "iopub.execute_input": "2024-01-18T10:17:49.404282Z",
     "iopub.status.busy": "2024-01-18T10:17:49.403914Z",
     "iopub.status.idle": "2024-01-18T10:17:50.301581Z",
     "shell.execute_reply": "2024-01-18T10:17:50.300463Z"
    },
    "papermill": {
     "duration": 0.911525,
     "end_time": "2024-01-18T10:17:50.305003",
     "exception": false,
     "start_time": "2024-01-18T10:17:49.393478",
     "status": "completed"
    },
    "tags": []
   },
   "outputs": [],
   "source": [
    "# Get ClinVar truncating variants.\n",
    "cv = pd.read_csv(\n",
    "    C.CLINVAR_LOF_ANNOTATED,\n",
    "    sep=\"\\t\",\n",
    ")"
   ]
  },
  {
   "cell_type": "code",
   "execution_count": 6,
   "id": "8166916e",
   "metadata": {
    "execution": {
     "iopub.execute_input": "2024-01-18T10:17:50.327730Z",
     "iopub.status.busy": "2024-01-18T10:17:50.327511Z",
     "iopub.status.idle": "2024-01-18T10:17:50.367152Z",
     "shell.execute_reply": "2024-01-18T10:17:50.366078Z"
    },
    "papermill": {
     "duration": 0.052968,
     "end_time": "2024-01-18T10:17:50.369624",
     "exception": false,
     "start_time": "2024-01-18T10:17:50.316656",
     "status": "completed"
    },
    "tags": []
   },
   "outputs": [
    {
     "data": {
      "text/plain": [
       "nmd_target        94283\n",
       "distal_nmd        18484\n",
       "long_exon         13947\n",
       "start_proximal     7930\n",
       "Name: region, dtype: int64"
      ]
     },
     "execution_count": 6,
     "metadata": {},
     "output_type": "execute_result"
    }
   ],
   "source": [
    "cv.region.value_counts()"
   ]
  },
  {
   "cell_type": "code",
   "execution_count": 7,
   "id": "7b617d4a",
   "metadata": {
    "execution": {
     "iopub.execute_input": "2024-01-18T10:17:50.389932Z",
     "iopub.status.busy": "2024-01-18T10:17:50.389673Z",
     "iopub.status.idle": "2024-01-18T10:17:50.432552Z",
     "shell.execute_reply": "2024-01-18T10:17:50.431657Z"
    },
    "papermill": {
     "duration": 0.056062,
     "end_time": "2024-01-18T10:17:50.434986",
     "exception": false,
     "start_time": "2024-01-18T10:17:50.378924",
     "status": "completed"
    },
    "tags": []
   },
   "outputs": [
    {
     "name": "stdout",
     "output_type": "stream",
     "text": [
      "Normalised ascertainment of ClinVar variants:\n",
      "region\n",
      "Whole transcript    1.000000\n",
      "NMD target          1.141767\n",
      "Start proximal      0.672733\n",
      "Long exon           1.308184\n",
      "Distal              0.624069\n",
      "Name: prop_norm, dtype: float64\n"
     ]
    }
   ],
   "source": [
    "# The proportion of ClinVar variants in each region (ascertainment)\n",
    "cv_asc = (\n",
    "    cv.region.value_counts(normalize=True)\n",
    "    .rename(\"proportion_variants\")\n",
    "    .rename(index={\"distal_nmd\":\"distal\"})\n",
    ")\n",
    "\n",
    "# Add a value for transcripts\n",
    "transcript = pd.Series([1], index=[\"transcript\"], name=\"proportion_variants\")\n",
    "cv_asc = pd.concat([cv_asc, transcript]).pipe(utils.sort_region_index)\n",
    "\n",
    "# Normalize by the footprint of the region\n",
    "cv_asc_norm = (cv_asc / footprint).rename(\"prop_norm\")\n",
    "\n",
    "# Save to output\n",
    "cv_asc_norm.to_csv(C.STATS_CLINVAR_ASCERTAINMENT, sep=\"\\t\")\n",
    "\n",
    "print(\"Normalised ascertainment of ClinVar variants:\")\n",
    "print(f\"{cv_asc_norm}\")"
   ]
  },
  {
   "cell_type": "markdown",
   "id": "75f5e3da-c2f8-4963-ad76-c1b2d61013c4",
   "metadata": {
    "papermill": {
     "duration": 0.0096,
     "end_time": "2024-01-18T10:17:50.454403",
     "exception": false,
     "start_time": "2024-01-18T10:17:50.444803",
     "status": "completed"
    },
    "tags": []
   },
   "source": [
    "## Proportion of VUS in ClinVar by NMD region\n",
    "For truncating variants in ClinVar, find the proportion of VUS in each NMD region."
   ]
  },
  {
   "cell_type": "code",
   "execution_count": 8,
   "id": "3c8d5550-615d-4ca6-8eed-71256dbfd114",
   "metadata": {
    "execution": {
     "iopub.execute_input": "2024-01-18T10:17:50.474331Z",
     "iopub.status.busy": "2024-01-18T10:17:50.474139Z",
     "iopub.status.idle": "2024-01-18T10:17:50.623159Z",
     "shell.execute_reply": "2024-01-18T10:17:50.621793Z"
    },
    "papermill": {
     "duration": 0.162145,
     "end_time": "2024-01-18T10:17:50.626197",
     "exception": false,
     "start_time": "2024-01-18T10:17:50.464052",
     "status": "completed"
    },
    "tags": []
   },
   "outputs": [
    {
     "name": "stdout",
     "output_type": "stream",
     "text": [
      "Proportion of truncating variants by ACMG annotation in each region:\n",
      "                  acmg  proportion\n",
      "region                            \n",
      "Whole transcript  P/LP    0.871632\n",
      "Whole transcript   VUS    0.121023\n",
      "Whole transcript  B/LB    0.007345\n",
      "NMD target        P/LP    0.904278\n",
      "NMD target         VUS    0.091098\n",
      "NMD target        B/LB    0.004624\n",
      "Start proximal    P/LP    0.856116\n",
      "Start proximal     VUS    0.132030\n",
      "Start proximal    B/LB    0.011854\n",
      "Long exon         P/LP    0.940847\n",
      "Long exon          VUS    0.056141\n",
      "Long exon         B/LB    0.003011\n",
      "Distal            P/LP    0.659543\n",
      "Distal             VUS    0.317897\n",
      "Distal            B/LB    0.022560\n"
     ]
    }
   ],
   "source": [
    "# Find the relative proportion of P/LP/VUS/LB/B variants in ClinVar by region\n",
    "cv_acmg = (\n",
    "    cv.groupby(\"region\")[\"acmg\"]\n",
    "    .value_counts(normalize=True)\n",
    "    .rename(\"proportion\")\n",
    "    .reset_index()\n",
    "    .set_index(\"region\")\n",
    "    .rename(index={\"distal_nmd\": \"distal\"})\n",
    ")\n",
    "\n",
    "# Add a value for transcripts\n",
    "transcript = (\n",
    "    cv.acmg.value_counts(normalize=True)\n",
    "    .rename(\"proportion\")\n",
    "    .rename_axis(\"acmg\", axis=0)\n",
    "    .to_frame()\n",
    "    .assign(region=\"transcript\")\n",
    "    .reset_index()\n",
    "    .set_index(\"region\")\n",
    ")\n",
    "cv_acmg = pd.concat([cv_acmg, transcript]).pipe(utils.sort_region_index)\n",
    "\n",
    "# Limit to VUS only\n",
    "cv_vus = cv_acmg[cv_acmg.acmg == \"VUS\"].copy()\n",
    "\n",
    "# Save to output\n",
    "cv_acmg.to_csv(C.STATS_CLINVAR_ACMG_REGION, sep=\"\\t\")\n",
    "cv_vus.to_csv(C.STATS_CLINVAR_VUS_REGION, sep=\"\\t\")\n",
    "\n",
    "print(\"Proportion of truncating variants by ACMG annotation in each region:\")\n",
    "print(f\"{cv_acmg}\")"
   ]
  }
 ],
 "metadata": {
  "kernelspec": {
   "display_name": "ukb",
   "language": "python",
   "name": "python3"
  },
  "language_info": {
   "codemirror_mode": {
    "name": "ipython",
    "version": 3
   },
   "file_extension": ".py",
   "mimetype": "text/x-python",
   "name": "python",
   "nbconvert_exporter": "python",
   "pygments_lexer": "ipython3",
   "version": "3.8.17"
  },
  "papermill": {
   "default_parameters": {},
   "duration": 50.816967,
   "end_time": "2024-01-18T10:17:50.958799",
   "environment_variables": {},
   "exception": null,
   "input_path": "src/statistics_for_plots/clinvar_ascertainment.ipynb",
   "output_path": "src/statistics_for_plots/clinvar_ascertainment.ipynb",
   "parameters": {},
   "start_time": "2024-01-18T10:17:00.141832",
   "version": "2.4.0"
  }
 },
 "nbformat": 4,
 "nbformat_minor": 5
}