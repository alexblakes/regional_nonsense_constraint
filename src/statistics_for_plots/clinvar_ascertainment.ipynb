{
 "cells": [
  {
   "cell_type": "markdown",
   "id": "98de9a07",
   "metadata": {
    "papermill": {
     "duration": 0.012901,
     "end_time": "2024-01-08T15:02:22.853195",
     "exception": false,
     "start_time": "2024-01-08T15:02:22.840294",
     "status": "completed"
    },
    "tags": []
   },
   "source": [
    "# ClinVar ascertainment statistics\n",
    "A simple notebook, run as a script, to generate statistics about variant ascertainment in ClinVar."
   ]
  },
  {
   "cell_type": "code",
   "execution_count": 1,
   "id": "4bdde5dc",
   "metadata": {
    "execution": {
     "iopub.execute_input": "2024-01-08T15:02:22.882620Z",
     "iopub.status.busy": "2024-01-08T15:02:22.882062Z",
     "iopub.status.idle": "2024-01-08T15:02:22.929638Z",
     "shell.execute_reply": "2024-01-08T15:02:22.928277Z"
    },
    "papermill": {
     "duration": 0.064199,
     "end_time": "2024-01-08T15:02:22.932411",
     "exception": false,
     "start_time": "2024-01-08T15:02:22.868212",
     "status": "completed"
    },
    "tags": []
   },
   "outputs": [],
   "source": [
    "%load_ext autoreload\n",
    "%autoreload 2"
   ]
  },
  {
   "cell_type": "code",
   "execution_count": 2,
   "id": "d732c901-737e-4043-8539-969ed1fda606",
   "metadata": {
    "execution": {
     "iopub.execute_input": "2024-01-08T15:02:22.957694Z",
     "iopub.status.busy": "2024-01-08T15:02:22.957143Z",
     "iopub.status.idle": "2024-01-08T15:02:24.019985Z",
     "shell.execute_reply": "2024-01-08T15:02:24.018837Z"
    },
    "papermill": {
     "duration": 1.078462,
     "end_time": "2024-01-08T15:02:24.022801",
     "exception": false,
     "start_time": "2024-01-08T15:02:22.944339",
     "status": "completed"
    },
    "tags": []
   },
   "outputs": [],
   "source": [
    "# Imports\n",
    "import pandas as pd\n",
    "\n",
    "from src import constants as C\n",
    "from src.statistics_for_plots import utils"
   ]
  },
  {
   "cell_type": "markdown",
   "id": "3714f679-a80f-46b3-b466-28a0a7228ea0",
   "metadata": {
    "papermill": {
     "duration": 0.009038,
     "end_time": "2024-01-08T15:02:24.042954",
     "exception": false,
     "start_time": "2024-01-08T15:02:24.033916",
     "status": "completed"
    },
    "tags": []
   },
   "source": [
    "## Genomic footprint of NMD regions\n",
    "Find the genomic footprint of NMD regions."
   ]
  },
  {
   "cell_type": "code",
   "execution_count": 3,
   "id": "530fb68b-9209-4158-967a-41ca9d11eba6",
   "metadata": {
    "execution": {
     "iopub.execute_input": "2024-01-08T15:02:24.065670Z",
     "iopub.status.busy": "2024-01-08T15:02:24.065105Z",
     "iopub.status.idle": "2024-01-08T15:02:44.971197Z",
     "shell.execute_reply": "2024-01-08T15:02:44.970257Z"
    },
    "papermill": {
     "duration": 20.921391,
     "end_time": "2024-01-08T15:02:44.974993",
     "exception": false,
     "start_time": "2024-01-08T15:02:24.053602",
     "status": "completed"
    },
    "tags": []
   },
   "outputs": [],
   "source": [
    "# Read NMD annotations\n",
    "nmd = pd.read_csv(\n",
    "    C.NMD_ANNOTATIONS,\n",
    "    sep=\"\\t\",\n",
    "    usecols=[\"nmd_definitive\"],\n",
    "    dtype=\"category\",\n",
    ")"
   ]
  },
  {
   "cell_type": "code",
   "execution_count": 4,
   "id": "bc52a5c3",
   "metadata": {},
   "outputs": [
    {
     "name": "stdout",
     "output_type": "stream",
     "text": [
      "Relative genomic footprint of NMD regions:\n",
      "region\n",
      "NMD target        0.613294\n",
      "Start proximal    0.087547\n",
      "Long exon         0.079182\n",
      "Distal            0.219977\n",
      "Name: footprint, dtype: float64\n"
     ]
    }
   ],
   "source": [
    "# Get relative CDS footprint\n",
    "footprint = (\n",
    "    nmd[\"nmd_definitive\"]\n",
    "    .value_counts(normalize=True)\n",
    "    .rename(\"footprint\")\n",
    "    .pipe(utils.sort_region_index)\n",
    ")\n",
    "\n",
    "# Save to output\n",
    "footprint.to_csv(C.STATS_NMD_FOOTPRINT, sep=\"\\t\")\n",
    "\n",
    "print(\"Relative genomic footprint of NMD regions:\")\n",
    "print(f\"{footprint}\")"
   ]
  },
  {
   "cell_type": "markdown",
   "id": "9a39b9e2-7283-4b97-8336-7d127620ec03",
   "metadata": {
    "papermill": {
     "duration": 0.01116,
     "end_time": "2024-01-08T15:02:44.997240",
     "exception": false,
     "start_time": "2024-01-08T15:02:44.986080",
     "status": "completed"
    },
    "tags": []
   },
   "source": [
    "## Variant ascertainment in ClinVar\n",
    "Find the number of truncating variants in each NMD region in ClinVar. Normalise by the total genomic footprint of each region."
   ]
  },
  {
   "cell_type": "code",
   "execution_count": 5,
   "id": "f7583def-2111-4708-9f75-9a9a38c9e15e",
   "metadata": {
    "execution": {
     "iopub.execute_input": "2024-01-08T15:02:45.021174Z",
     "iopub.status.busy": "2024-01-08T15:02:45.020902Z",
     "iopub.status.idle": "2024-01-08T15:02:45.276967Z",
     "shell.execute_reply": "2024-01-08T15:02:45.276232Z"
    },
    "papermill": {
     "duration": 0.272298,
     "end_time": "2024-01-08T15:02:45.279984",
     "exception": false,
     "start_time": "2024-01-08T15:02:45.007686",
     "status": "completed"
    },
    "tags": []
   },
   "outputs": [
    {
     "name": "stdout",
     "output_type": "stream",
     "text": [
      "Normalised ascertainment of ClinVar variants:\n",
      "region\n",
      "NMD target        1.141767\n",
      "Start proximal    0.672733\n",
      "Long exon         1.308184\n",
      "Distal            0.624069\n",
      "Name: prop_norm, dtype: float64\n"
     ]
    }
   ],
   "source": [
    "# Get ClinVar truncating variants.\n",
    "cv = pd.read_csv(\n",
    "    C.CLINVAR_LOF_ANNOTATED,\n",
    "    sep=\"\\t\",\n",
    ")\n",
    "\n",
    "# The proportion of ClinVar variants in each region (ascertainment)\n",
    "cv_asc = cv.region.value_counts(normalize=True).rename(\"proportion_variants\").pipe(utils.sort_region_index)\n",
    "\n",
    "# Normalize by the footprint of the region\n",
    "cv_asc_norm = (cv_asc / footprint).rename(\"prop_norm\")\n",
    "\n",
    "# Save to output\n",
    "cv_asc_norm.to_csv(C.STATS_CLINVAR_ASCERTAINMENT, sep=\"\\t\")\n",
    "\n",
    "print(\"Normalised ascertainment of ClinVar variants:\")\n",
    "print(f\"{cv_asc_norm}\")"
   ]
  },
  {
   "cell_type": "markdown",
   "id": "75f5e3da-c2f8-4963-ad76-c1b2d61013c4",
   "metadata": {
    "papermill": {
     "duration": 0.011113,
     "end_time": "2024-01-08T15:02:45.302448",
     "exception": false,
     "start_time": "2024-01-08T15:02:45.291335",
     "status": "completed"
    },
    "tags": []
   },
   "source": [
    "## Proportion of VUS in ClinVar by NMD region\n",
    "For truncating variants in ClinVar, find the proportion of VUS in each NMD region."
   ]
  },
  {
   "cell_type": "code",
   "execution_count": 6,
   "id": "3c8d5550-615d-4ca6-8eed-71256dbfd114",
   "metadata": {
    "execution": {
     "iopub.execute_input": "2024-01-08T15:02:45.325826Z",
     "iopub.status.busy": "2024-01-08T15:02:45.325581Z",
     "iopub.status.idle": "2024-01-08T15:02:45.395845Z",
     "shell.execute_reply": "2024-01-08T15:02:45.394909Z"
    },
    "papermill": {
     "duration": 0.084814,
     "end_time": "2024-01-08T15:02:45.398814",
     "exception": false,
     "start_time": "2024-01-08T15:02:45.314000",
     "status": "completed"
    },
    "tags": []
   },
   "outputs": [
    {
     "name": "stdout",
     "output_type": "stream",
     "text": [
      "Proportion of truncating variants by ACMG annotation in each region:\n",
      "            region  acmg  proportion\n",
      "6       NMD target  P/LP    0.904278\n",
      "7       NMD target   VUS    0.091098\n",
      "8       NMD target  B/LB    0.004624\n",
      "9   Start proximal  P/LP    0.856116\n",
      "10  Start proximal   VUS    0.132030\n",
      "11  Start proximal  B/LB    0.011854\n",
      "3        Long exon  P/LP    0.940847\n",
      "4        Long exon   VUS    0.056141\n",
      "5        Long exon  B/LB    0.003011\n",
      "0           Distal  P/LP    0.659543\n",
      "1           Distal   VUS    0.317897\n",
      "2           Distal  B/LB    0.022560\n"
     ]
    }
   ],
   "source": [
    "# Find the relative proportion of P/LP/VUS/LB/B variants in ClinVar by region\n",
    "cv_acmg = (\n",
    "    cv.groupby(\"region\")[\"acmg\"]\n",
    "    .value_counts(normalize=True)\n",
    "    .rename(\"proportion\")\n",
    "    .reset_index()\n",
    "    .pipe(utils.sort_region_column)\n",
    ")\n",
    "\n",
    "cv_vus = cv_acmg[cv_acmg.acmg == \"VUS\"].copy()\n",
    "\n",
    "# Save to output\n",
    "cv_acmg.to_csv(C.STATS_CLINVAR_ACMG_REGION, sep=\"\\t\", index=False)\n",
    "cv_vus.to_csv(C.STATS_CLINVAR_VUS_REGION, sep=\"\\t\", index=False)\n",
    "\n",
    "print(\"Proportion of truncating variants by ACMG annotation in each region:\")\n",
    "print(f\"{cv_acmg}\")"
   ]
  }
 ],
 "metadata": {
  "kernelspec": {
   "display_name": "ukb",
   "language": "python",
   "name": "python3"
  },
  "language_info": {
   "codemirror_mode": {
    "name": "ipython",
    "version": 3
   },
   "file_extension": ".py",
   "mimetype": "text/x-python",
   "name": "python",
   "nbconvert_exporter": "python",
   "pygments_lexer": "ipython3",
   "version": "3.8.17"
  },
  "papermill": {
   "default_parameters": {},
   "duration": 26.659499,
   "end_time": "2024-01-08T15:02:45.630524",
   "environment_variables": {},
   "exception": null,
   "input_path": "src/statistics/clinvar_ascertainment.ipynb",
   "output_path": "src/statistics/clinvar_ascertainment.ipynb",
   "parameters": {},
   "start_time": "2024-01-08T15:02:18.971025",
   "version": "2.4.0"
  }
 },
 "nbformat": 4,
 "nbformat_minor": 5
}
