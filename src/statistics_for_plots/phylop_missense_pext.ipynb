{
 "cells": [
  {
   "cell_type": "markdown",
   "id": "98de9a07",
   "metadata": {
    "papermill": {
     "duration": 0.014206,
     "end_time": "2024-01-18T10:17:04.342734",
     "exception": false,
     "start_time": "2024-01-18T10:17:04.328528",
     "status": "completed"
    },
    "tags": []
   },
   "source": [
    "# PhyloP, AlphaMissense, and pext scores\n",
    "Generate summary statistics of phyloP, AlphaMissense, and pext scores in constrained / unconstrained regions."
   ]
  },
  {
   "cell_type": "code",
   "execution_count": 61,
   "id": "4bdde5dc",
   "metadata": {
    "execution": {
     "iopub.execute_input": "2024-01-18T10:17:04.365539Z",
     "iopub.status.busy": "2024-01-18T10:17:04.365008Z",
     "iopub.status.idle": "2024-01-18T10:17:04.403113Z",
     "shell.execute_reply": "2024-01-18T10:17:04.401902Z"
    },
    "papermill": {
     "duration": 0.051571,
     "end_time": "2024-01-18T10:17:04.405663",
     "exception": false,
     "start_time": "2024-01-18T10:17:04.354092",
     "status": "completed"
    },
    "tags": []
   },
   "outputs": [
    {
     "name": "stdout",
     "output_type": "stream",
     "text": [
      "The autoreload extension is already loaded. To reload it, use:\n",
      "  %reload_ext autoreload\n"
     ]
    }
   ],
   "source": [
    "%load_ext autoreload\n",
    "%autoreload 2"
   ]
  },
  {
   "cell_type": "code",
   "execution_count": 62,
   "id": "d732c901-737e-4043-8539-969ed1fda606",
   "metadata": {
    "execution": {
     "iopub.execute_input": "2024-01-18T10:17:04.424191Z",
     "iopub.status.busy": "2024-01-18T10:17:04.423790Z",
     "iopub.status.idle": "2024-01-18T10:17:06.031910Z",
     "shell.execute_reply": "2024-01-18T10:17:06.030501Z"
    },
    "papermill": {
     "duration": 1.620807,
     "end_time": "2024-01-18T10:17:06.034965",
     "exception": false,
     "start_time": "2024-01-18T10:17:04.414158",
     "status": "completed"
    },
    "tags": []
   },
   "outputs": [],
   "source": [
    "# Imports\n",
    "import numpy as np\n",
    "import pandas as pd\n",
    "from scipy import stats\n",
    "\n",
    "from src import constants as C\n",
    "from src.statistics_for_plots import utils"
   ]
  },
  {
   "cell_type": "code",
   "execution_count": 63,
   "id": "530fb68b-9209-4158-967a-41ca9d11eba6",
   "metadata": {
    "execution": {
     "iopub.execute_input": "2024-01-18T10:17:06.074503Z",
     "iopub.status.busy": "2024-01-18T10:17:06.073923Z",
     "iopub.status.idle": "2024-01-18T10:17:49.079066Z",
     "shell.execute_reply": "2024-01-18T10:17:49.077559Z"
    },
    "papermill": {
     "duration": 43.017776,
     "end_time": "2024-01-18T10:17:49.081698",
     "exception": false,
     "start_time": "2024-01-18T10:17:06.063922",
     "status": "completed"
    },
    "tags": []
   },
   "outputs": [
    {
     "data": {
      "text/html": [
       "<div>\n",
       "<style scoped>\n",
       "    .dataframe tbody tr th:only-of-type {\n",
       "        vertical-align: middle;\n",
       "    }\n",
       "\n",
       "    .dataframe tbody tr th {\n",
       "        vertical-align: top;\n",
       "    }\n",
       "\n",
       "    .dataframe thead th {\n",
       "        text-align: right;\n",
       "    }\n",
       "</style>\n",
       "<table border=\"1\" class=\"dataframe\">\n",
       "  <thead>\n",
       "    <tr style=\"text-align: right;\">\n",
       "      <th></th>\n",
       "      <th>region</th>\n",
       "      <th>constraint</th>\n",
       "      <th>metric</th>\n",
       "      <th>mean</th>\n",
       "      <th>n</th>\n",
       "      <th>sem</th>\n",
       "      <th>ci_95</th>\n",
       "    </tr>\n",
       "  </thead>\n",
       "  <tbody>\n",
       "    <tr>\n",
       "      <th>0</th>\n",
       "      <td>Distal</td>\n",
       "      <td>all</td>\n",
       "      <td>phylop</td>\n",
       "      <td>2.803871</td>\n",
       "      <td>7160361</td>\n",
       "      <td>0.001329</td>\n",
       "      <td>0.002606</td>\n",
       "    </tr>\n",
       "    <tr>\n",
       "      <th>25</th>\n",
       "      <td>Distal</td>\n",
       "      <td>constrained</td>\n",
       "      <td>pext</td>\n",
       "      <td>0.857092</td>\n",
       "      <td>468935</td>\n",
       "      <td>0.000304</td>\n",
       "      <td>0.000596</td>\n",
       "    </tr>\n",
       "    <tr>\n",
       "      <th>30</th>\n",
       "      <td>Distal</td>\n",
       "      <td>unconstrained</td>\n",
       "      <td>pext</td>\n",
       "      <td>0.759885</td>\n",
       "      <td>1660241</td>\n",
       "      <td>0.000208</td>\n",
       "      <td>0.000407</td>\n",
       "    </tr>\n",
       "    <tr>\n",
       "      <th>45</th>\n",
       "      <td>Distal</td>\n",
       "      <td>constrained</td>\n",
       "      <td>alpha_mis</td>\n",
       "      <td>0.379032</td>\n",
       "      <td>357900</td>\n",
       "      <td>0.000570</td>\n",
       "      <td>0.001117</td>\n",
       "    </tr>\n",
       "    <tr>\n",
       "      <th>50</th>\n",
       "      <td>Distal</td>\n",
       "      <td>unconstrained</td>\n",
       "      <td>alpha_mis</td>\n",
       "      <td>0.279877</td>\n",
       "      <td>1752135</td>\n",
       "      <td>0.000210</td>\n",
       "      <td>0.000412</td>\n",
       "    </tr>\n",
       "  </tbody>\n",
       "</table>\n",
       "</div>"
      ],
      "text/plain": [
       "    region     constraint     metric      mean        n       sem     ci_95\n",
       "0   Distal            all     phylop  2.803871  7160361  0.001329  0.002606\n",
       "25  Distal    constrained       pext  0.857092   468935  0.000304  0.000596\n",
       "30  Distal  unconstrained       pext  0.759885  1660241  0.000208  0.000407\n",
       "45  Distal    constrained  alpha_mis  0.379032   357900  0.000570  0.001117\n",
       "50  Distal  unconstrained  alpha_mis  0.279877  1752135  0.000210  0.000412"
      ]
     },
     "execution_count": 63,
     "metadata": {},
     "output_type": "execute_result"
    }
   ],
   "source": [
    "# Read data\n",
    "df = (\n",
    "    pd.read_csv(C.PHYLOP_PEXT_MISSENSE_STATS, sep=\"\\t\")\n",
    "    .replace({\"distal_nmd\": \"distal\"})\n",
    "    .pipe(utils.sort_region_column, categories=C.REGIONS[::-1], labels=C.REGION_LABELS[::-1])\n",
    "    .dropna(subset=\"constraint\")\n",
    ")\n",
    "df.head()"
   ]
  },
  {
   "cell_type": "code",
   "execution_count": 64,
   "id": "c3bc941a",
   "metadata": {},
   "outputs": [],
   "source": [
    "# Write to output\n",
    "df.to_csv(C.STATS_PHYLOP_MISSENSE_PEXT, sep=\"\\t\", index=False)"
   ]
  },
  {
   "cell_type": "markdown",
   "id": "0ede884c",
   "metadata": {},
   "source": [
    "## Welch's T-test\n",
    "T-tests for constrained vs unconstrained regions"
   ]
  },
  {
   "cell_type": "code",
   "execution_count": 65,
   "id": "b5c7d397",
   "metadata": {},
   "outputs": [
    {
     "data": {
      "text/html": [
       "<div>\n",
       "<style scoped>\n",
       "    .dataframe tbody tr th:only-of-type {\n",
       "        vertical-align: middle;\n",
       "    }\n",
       "\n",
       "    .dataframe tbody tr th {\n",
       "        vertical-align: top;\n",
       "    }\n",
       "\n",
       "    .dataframe thead th {\n",
       "        text-align: right;\n",
       "    }\n",
       "</style>\n",
       "<table border=\"1\" class=\"dataframe\">\n",
       "  <thead>\n",
       "    <tr style=\"text-align: right;\">\n",
       "      <th></th>\n",
       "      <th>region</th>\n",
       "      <th>constraint</th>\n",
       "      <th>metric</th>\n",
       "      <th>mean</th>\n",
       "      <th>n</th>\n",
       "      <th>sem</th>\n",
       "      <th>ci_95</th>\n",
       "    </tr>\n",
       "  </thead>\n",
       "  <tbody>\n",
       "    <tr>\n",
       "      <th>0</th>\n",
       "      <td>Distal</td>\n",
       "      <td>all</td>\n",
       "      <td>phylop</td>\n",
       "      <td>2.803871</td>\n",
       "      <td>7160361</td>\n",
       "      <td>0.001329</td>\n",
       "      <td>0.002606</td>\n",
       "    </tr>\n",
       "    <tr>\n",
       "      <th>25</th>\n",
       "      <td>Distal</td>\n",
       "      <td>constrained</td>\n",
       "      <td>pext</td>\n",
       "      <td>0.857092</td>\n",
       "      <td>468935</td>\n",
       "      <td>0.000304</td>\n",
       "      <td>0.000596</td>\n",
       "    </tr>\n",
       "  </tbody>\n",
       "</table>\n",
       "</div>"
      ],
      "text/plain": [
       "    region   constraint  metric      mean        n       sem     ci_95\n",
       "0   Distal          all  phylop  2.803871  7160361  0.001329  0.002606\n",
       "25  Distal  constrained    pext  0.857092   468935  0.000304  0.000596"
      ]
     },
     "execution_count": 65,
     "metadata": {},
     "output_type": "execute_result"
    }
   ],
   "source": [
    "df.head(2)"
   ]
  },
  {
   "cell_type": "code",
   "execution_count": 66,
   "id": "22c416f3",
   "metadata": {},
   "outputs": [],
   "source": [
    "# Get standard deviations\n",
    "df[\"std\"] = df[\"sem\"] * np.sqrt(df[\"n\"])"
   ]
  },
  {
   "cell_type": "code",
   "execution_count": 67,
   "id": "1eeee7c2",
   "metadata": {},
   "outputs": [],
   "source": [
    "# Reindex the dataframe\n",
    "df = df.set_index([\"constraint\",\"region\",\"metric\"])"
   ]
  },
  {
   "cell_type": "code",
   "execution_count": 70,
   "id": "e88c4f81",
   "metadata": {},
   "outputs": [],
   "source": [
    "# Split by constraint\n",
    "constrained = df.xs(\"constrained\", level=0)[[\"mean\",\"n\",\"std\"]]\n",
    "unconstrained = df.xs(\"unconstrained\", level=0)[[\"mean\",\"n\",\"std\"]]"
   ]
  },
  {
   "cell_type": "code",
   "execution_count": 74,
   "id": "b213ee3f",
   "metadata": {},
   "outputs": [
    {
     "data": {
      "text/plain": [
       "region            metric   \n",
       "Distal            alpha_mis    0.000000e+00\n",
       "                  pext         0.000000e+00\n",
       "                  phylop       0.000000e+00\n",
       "Long exon         alpha_mis    0.000000e+00\n",
       "                  pext         0.000000e+00\n",
       "                  phylop       0.000000e+00\n",
       "NMD target        alpha_mis    0.000000e+00\n",
       "                  pext         0.000000e+00\n",
       "                  phylop       0.000000e+00\n",
       "Start proximal    alpha_mis    0.000000e+00\n",
       "                  pext         1.681103e-21\n",
       "                  phylop       0.000000e+00\n",
       "Whole transcript  alpha_mis    0.000000e+00\n",
       "                  pext         0.000000e+00\n",
       "                  phylop       0.000000e+00\n",
       "Name: n, dtype: float64"
      ]
     },
     "execution_count": 74,
     "metadata": {},
     "output_type": "execute_result"
    }
   ],
   "source": [
    "# Welch's T-test\n",
    "stats.ttest_ind_from_stats(\n",
    "    mean1=constrained[\"mean\"],\n",
    "    std1=constrained[\"std\"],\n",
    "    nobs1=constrained[\"n\"],\n",
    "    mean2=unconstrained[\"mean\"],\n",
    "    std2=unconstrained[\"std\"],\n",
    "    nobs2=unconstrained[\"n\"],\n",
    "    equal_var=False,\n",
    "    alternative=\"two-sided\",\n",
    ").pvalue"
   ]
  },
  {
   "cell_type": "markdown",
   "id": "11c4e4a8",
   "metadata": {},
   "source": [
    "All scores are significantly different between constrained and unconstrained regions."
   ]
  }
 ],
 "metadata": {
  "kernelspec": {
   "display_name": "ukb",
   "language": "python",
   "name": "python3"
  },
  "language_info": {
   "codemirror_mode": {
    "name": "ipython",
    "version": 3
   },
   "file_extension": ".py",
   "mimetype": "text/x-python",
   "name": "python",
   "nbconvert_exporter": "python",
   "pygments_lexer": "ipython3",
   "version": "3.8.17"
  },
  "papermill": {
   "default_parameters": {},
   "duration": 50.816967,
   "end_time": "2024-01-18T10:17:50.958799",
   "environment_variables": {},
   "exception": null,
   "input_path": "src/statistics_for_plots/clinvar_ascertainment.ipynb",
   "output_path": "src/statistics_for_plots/clinvar_ascertainment.ipynb",
   "parameters": {},
   "start_time": "2024-01-18T10:17:00.141832",
   "version": "2.4.0"
  }
 },
 "nbformat": 4,
 "nbformat_minor": 5
}
