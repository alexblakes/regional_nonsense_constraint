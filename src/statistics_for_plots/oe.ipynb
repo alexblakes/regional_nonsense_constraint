{
 "cells": [
  {
   "cell_type": "markdown",
   "metadata": {},
   "source": [
    "# OE statistics\n",
    "A notebook to tidy the transcript-level O/E statistics for plotting."
   ]
  },
  {
   "cell_type": "code",
   "execution_count": 1,
   "metadata": {},
   "outputs": [],
   "source": [
    "%load_ext autoreload\n",
    "%autoreload 2"
   ]
  },
  {
   "cell_type": "code",
   "execution_count": 2,
   "metadata": {},
   "outputs": [],
   "source": [
    "# Imports\n",
    "import pandas as pd\n",
    "\n",
    "from src import constants as C"
   ]
  },
  {
   "cell_type": "code",
   "execution_count": 3,
   "metadata": {},
   "outputs": [
    {
     "name": "stdout",
     "output_type": "stream",
     "text": [
      "<class 'pandas.core.frame.DataFrame'>\n",
      "Int64Index: 56316 entries, 225264 to 281579\n",
      "Data columns (total 4 columns):\n",
      " #   Column  Non-Null Count  Dtype  \n",
      "---  ------  --------------  -----  \n",
      " 0   enst    56316 non-null  object \n",
      " 1   csq     56316 non-null  object \n",
      " 2   n_obs   56316 non-null  float64\n",
      " 3   n_exp   56316 non-null  float64\n",
      "dtypes: float64(2), object(2)\n",
      "memory usage: 2.1+ MB\n"
     ]
    }
   ],
   "source": [
    "# Read the data\n",
    "oe = (\n",
    "    pd.read_csv(\n",
    "        C.REGIONAL_CONSTRAINT_STATS,\n",
    "        sep=\"\\t\",\n",
    "        usecols=[\"enst\", \"region\", \"csq\", \"n_obs\", \"n_exp\"],\n",
    "    )\n",
    "    .query(\"region == 'transcript'\")\n",
    "    .drop(\"region\", axis=1)\n",
    ")\n",
    "oe.info()"
   ]
  },
  {
   "cell_type": "code",
   "execution_count": 4,
   "metadata": {},
   "outputs": [],
   "source": [
    "# Write to output\n",
    "oe.to_csv(C.STATS_OE, sep=\"\\t\", index=False)"
   ]
  }
 ],
 "metadata": {
  "kernelspec": {
   "display_name": "ukb",
   "language": "python",
   "name": "python3"
  },
  "language_info": {
   "codemirror_mode": {
    "name": "ipython",
    "version": 3
   },
   "file_extension": ".py",
   "mimetype": "text/x-python",
   "name": "python",
   "nbconvert_exporter": "python",
   "pygments_lexer": "ipython3",
   "version": "3.8.17"
  }
 },
 "nbformat": 4,
 "nbformat_minor": 2
}
