{
 "cells": [
  {
   "cell_type": "markdown",
   "id": "9400b977",
   "metadata": {
    "papermill": {
     "duration": 0.011686,
     "end_time": "2024-01-18T10:18:00.636867",
     "exception": false,
     "start_time": "2024-01-18T10:18:00.625181",
     "status": "completed"
    },
    "tags": []
   },
   "source": [
    "# OE statistics\n",
    "A notebook to tidy the transcript-level O/E statistics for plotting."
   ]
  },
  {
   "cell_type": "code",
   "execution_count": 1,
   "id": "dbe4286a",
   "metadata": {
    "execution": {
     "iopub.execute_input": "2024-01-18T10:18:00.654229Z",
     "iopub.status.busy": "2024-01-18T10:18:00.653788Z",
     "iopub.status.idle": "2024-01-18T10:18:00.758815Z",
     "shell.execute_reply": "2024-01-18T10:18:00.757682Z"
    },
    "papermill": {
     "duration": 0.116971,
     "end_time": "2024-01-18T10:18:00.761803",
     "exception": false,
     "start_time": "2024-01-18T10:18:00.644832",
     "status": "completed"
    },
    "tags": []
   },
   "outputs": [],
   "source": [
    "%load_ext autoreload\n",
    "%autoreload 2"
   ]
  },
  {
   "cell_type": "code",
   "execution_count": 2,
   "id": "c9d765a6",
   "metadata": {
    "execution": {
     "iopub.execute_input": "2024-01-18T10:18:00.779738Z",
     "iopub.status.busy": "2024-01-18T10:18:00.779470Z",
     "iopub.status.idle": "2024-01-18T10:18:01.322673Z",
     "shell.execute_reply": "2024-01-18T10:18:01.321859Z"
    },
    "papermill": {
     "duration": 0.555009,
     "end_time": "2024-01-18T10:18:01.325984",
     "exception": false,
     "start_time": "2024-01-18T10:18:00.770975",
     "status": "completed"
    },
    "tags": []
   },
   "outputs": [],
   "source": [
    "# Imports\n",
    "import pandas as pd\n",
    "\n",
    "from src import constants as C"
   ]
  },
  {
   "cell_type": "code",
   "execution_count": 3,
   "id": "82e6737a",
   "metadata": {
    "execution": {
     "iopub.execute_input": "2024-01-18T10:18:01.344371Z",
     "iopub.status.busy": "2024-01-18T10:18:01.344099Z",
     "iopub.status.idle": "2024-01-18T10:18:03.053103Z",
     "shell.execute_reply": "2024-01-18T10:18:03.052333Z"
    },
    "papermill": {
     "duration": 1.721925,
     "end_time": "2024-01-18T10:18:03.057504",
     "exception": false,
     "start_time": "2024-01-18T10:18:01.335579",
     "status": "completed"
    },
    "tags": []
   },
   "outputs": [
    {
     "name": "stdout",
     "output_type": "stream",
     "text": [
      "<class 'pandas.core.frame.DataFrame'>\n",
      "Int64Index: 56316 entries, 225264 to 281579\n",
      "Data columns (total 4 columns):\n",
      " #   Column  Non-Null Count  Dtype  \n",
      "---  ------  --------------  -----  \n",
      " 0   enst    56316 non-null  object \n",
      " 1   csq     56316 non-null  object \n",
      " 2   n_obs   56316 non-null  float64\n",
      " 3   n_exp   56316 non-null  float64\n",
      "dtypes: float64(2), object(2)\n",
      "memory usage: 2.1+ MB\n"
     ]
    }
   ],
   "source": [
    "# Read the data\n",
    "oe = (\n",
    "    pd.read_csv(\n",
    "        C.REGIONAL_CONSTRAINT_STATS,\n",
    "        sep=\"\\t\",\n",
    "        usecols=[\"enst\", \"region\", \"csq\", \"n_obs\", \"n_exp\"],\n",
    "    )\n",
    "    .query(\"region == 'transcript'\")\n",
    "    .drop(\"region\", axis=1)\n",
    ")\n",
    "oe.info()"
   ]
  },
  {
   "cell_type": "code",
   "execution_count": 4,
   "id": "e187b065",
   "metadata": {
    "execution": {
     "iopub.execute_input": "2024-01-18T10:18:03.086926Z",
     "iopub.status.busy": "2024-01-18T10:18:03.086542Z",
     "iopub.status.idle": "2024-01-18T10:18:03.618841Z",
     "shell.execute_reply": "2024-01-18T10:18:03.617655Z"
    },
    "papermill": {
     "duration": 0.550879,
     "end_time": "2024-01-18T10:18:03.622511",
     "exception": false,
     "start_time": "2024-01-18T10:18:03.071632",
     "status": "completed"
    },
    "tags": []
   },
   "outputs": [],
   "source": [
    "# Write to output\n",
    "oe.to_csv(C.STATS_OE, sep=\"\\t\", index=False)"
   ]
  }
 ],
 "metadata": {
  "kernelspec": {
   "display_name": "ukb",
   "language": "python",
   "name": "python3"
  },
  "language_info": {
   "codemirror_mode": {
    "name": "ipython",
    "version": 3
   },
   "file_extension": ".py",
   "mimetype": "text/x-python",
   "name": "python",
   "nbconvert_exporter": "python",
   "pygments_lexer": "ipython3",
   "version": "3.8.17"
  },
  "papermill": {
   "default_parameters": {},
   "duration": 6.118254,
   "end_time": "2024-01-18T10:18:03.855325",
   "environment_variables": {},
   "exception": null,
   "input_path": "src/statistics_for_plots/oe.ipynb",
   "output_path": "src/statistics_for_plots/oe.ipynb",
   "parameters": {},
   "start_time": "2024-01-18T10:17:57.737071",
   "version": "2.4.0"
  }
 },
 "nbformat": 4,
 "nbformat_minor": 5
}