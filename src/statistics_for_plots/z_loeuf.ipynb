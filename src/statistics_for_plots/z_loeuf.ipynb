{
 "cells": [
  {
   "cell_type": "markdown",
   "id": "7143c967",
   "metadata": {
    "papermill": {
     "duration": 0.009569,
     "end_time": "2024-01-18T10:18:08.259009",
     "exception": false,
     "start_time": "2024-01-18T10:18:08.249440",
     "status": "completed"
    },
    "tags": []
   },
   "source": [
    "# Z scores vs LOEUF statistics\n",
    "A notebook to tidy the transcript-level Z scores and LOEUF scores for plotting."
   ]
  },
  {
   "cell_type": "code",
   "execution_count": 1,
   "id": "53252c5c",
   "metadata": {
    "execution": {
     "iopub.execute_input": "2024-01-18T10:18:08.280641Z",
     "iopub.status.busy": "2024-01-18T10:18:08.280171Z",
     "iopub.status.idle": "2024-01-18T10:18:08.321118Z",
     "shell.execute_reply": "2024-01-18T10:18:08.319982Z"
    },
    "papermill": {
     "duration": 0.052442,
     "end_time": "2024-01-18T10:18:08.323745",
     "exception": false,
     "start_time": "2024-01-18T10:18:08.271303",
     "status": "completed"
    },
    "tags": []
   },
   "outputs": [],
   "source": [
    "%load_ext autoreload\n",
    "%autoreload 2"
   ]
  },
  {
   "cell_type": "code",
   "execution_count": 2,
   "id": "33b5a226",
   "metadata": {
    "execution": {
     "iopub.execute_input": "2024-01-18T10:18:08.339465Z",
     "iopub.status.busy": "2024-01-18T10:18:08.339105Z",
     "iopub.status.idle": "2024-01-18T10:18:11.172667Z",
     "shell.execute_reply": "2024-01-18T10:18:11.171450Z"
    },
    "papermill": {
     "duration": 2.845115,
     "end_time": "2024-01-18T10:18:11.176095",
     "exception": false,
     "start_time": "2024-01-18T10:18:08.330980",
     "status": "completed"
    },
    "tags": []
   },
   "outputs": [],
   "source": [
    "# Imports\n",
    "import pandas as pd\n",
    "from scipy.stats import spearmanr\n",
    "\n",
    "from src import constants as C"
   ]
  },
  {
   "cell_type": "code",
   "execution_count": 3,
   "id": "e8038c26",
   "metadata": {
    "execution": {
     "iopub.execute_input": "2024-01-18T10:18:11.205844Z",
     "iopub.status.busy": "2024-01-18T10:18:11.205273Z",
     "iopub.status.idle": "2024-01-18T10:18:11.581977Z",
     "shell.execute_reply": "2024-01-18T10:18:11.581241Z"
    },
    "papermill": {
     "duration": 0.394949,
     "end_time": "2024-01-18T10:18:11.585960",
     "exception": false,
     "start_time": "2024-01-18T10:18:11.191011",
     "status": "completed"
    },
    "tags": []
   },
   "outputs": [
    {
     "name": "stdout",
     "output_type": "stream",
     "text": [
      "<class 'pandas.core.frame.DataFrame'>\n",
      "Int64Index: 18772 entries, 244036 to 262807\n",
      "Data columns (total 2 columns):\n",
      " #   Column  Non-Null Count  Dtype  \n",
      "---  ------  --------------  -----  \n",
      " 0   z       18410 non-null  float64\n",
      " 1   loeuf   17730 non-null  float64\n",
      "dtypes: float64(2)\n",
      "memory usage: 440.0 KB\n"
     ]
    }
   ],
   "source": [
    "# Read the data\n",
    "df = (\n",
    "    pd.read_csv(\n",
    "        C.REGIONAL_CONSTRAINT_STATS, sep=\"\\t\", usecols=[\"region\", \"csq\", \"z\", \"loeuf\"]\n",
    "    )\n",
    "    .query(\"region == 'transcript'\")\n",
    "    .query(\"csq == 'stop_gained'\")\n",
    "    .drop([\"region\", \"csq\"], axis=1)\n",
    ")\n",
    "df.info()"
   ]
  },
  {
   "cell_type": "code",
   "execution_count": 4,
   "id": "5c0f4fd6",
   "metadata": {
    "execution": {
     "iopub.execute_input": "2024-01-18T10:18:11.606199Z",
     "iopub.status.busy": "2024-01-18T10:18:11.605907Z",
     "iopub.status.idle": "2024-01-18T10:18:11.880555Z",
     "shell.execute_reply": "2024-01-18T10:18:11.879356Z"
    },
    "papermill": {
     "duration": 0.287063,
     "end_time": "2024-01-18T10:18:11.883633",
     "exception": false,
     "start_time": "2024-01-18T10:18:11.596570",
     "status": "completed"
    },
    "tags": []
   },
   "outputs": [
    {
     "data": {
      "text/plain": [
       "SignificanceResult(statistic=0.8783984746654282, pvalue=0.0)"
      ]
     },
     "execution_count": 4,
     "metadata": {},
     "output_type": "execute_result"
    }
   ],
   "source": [
    "# Spearman's rank\n",
    "spearmanr(df[\"z\"], df[\"loeuf\"], nan_policy=\"omit\")"
   ]
  },
  {
   "cell_type": "code",
   "execution_count": 5,
   "id": "db73e986",
   "metadata": {
    "execution": {
     "iopub.execute_input": "2024-01-18T10:18:11.903325Z",
     "iopub.status.busy": "2024-01-18T10:18:11.902573Z",
     "iopub.status.idle": "2024-01-18T10:18:12.054841Z",
     "shell.execute_reply": "2024-01-18T10:18:12.053918Z"
    },
    "papermill": {
     "duration": 0.164781,
     "end_time": "2024-01-18T10:18:12.057704",
     "exception": false,
     "start_time": "2024-01-18T10:18:11.892923",
     "status": "completed"
    },
    "tags": []
   },
   "outputs": [],
   "source": [
    "# Write to output\n",
    "df.to_csv(C.STATS_Z_LOEUF, sep=\"\\t\", index=False)"
   ]
  }
 ],
 "metadata": {
  "kernelspec": {
   "display_name": "ukb",
   "language": "python",
   "name": "python3"
  },
  "language_info": {
   "codemirror_mode": {
    "name": "ipython",
    "version": 3
   },
   "file_extension": ".py",
   "mimetype": "text/x-python",
   "name": "python",
   "nbconvert_exporter": "python",
   "pygments_lexer": "ipython3",
   "version": "3.8.17"
  },
  "papermill": {
   "default_parameters": {},
   "duration": 7.311036,
   "end_time": "2024-01-18T10:18:12.386885",
   "environment_variables": {},
   "exception": null,
   "input_path": "src/statistics_for_plots/z_loeuf.ipynb",
   "output_path": "src/statistics_for_plots/z_loeuf.ipynb",
   "parameters": {},
   "start_time": "2024-01-18T10:18:05.075849",
   "version": "2.4.0"
  }
 },
 "nbformat": 4,
 "nbformat_minor": 5
}