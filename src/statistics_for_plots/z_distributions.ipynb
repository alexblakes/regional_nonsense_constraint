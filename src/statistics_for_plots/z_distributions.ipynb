{
 "cells": [
  {
   "cell_type": "markdown",
   "id": "f3a4bb30",
   "metadata": {
    "papermill": {
     "duration": 0.01049,
     "end_time": "2024-01-18T10:18:16.124729",
     "exception": false,
     "start_time": "2024-01-18T10:18:16.114239",
     "status": "completed"
    },
    "tags": []
   },
   "source": [
    "# Z score distributions by region\n",
    "A notebook to tidy the regional Z scores."
   ]
  },
  {
   "cell_type": "code",
   "execution_count": 1,
   "id": "0f50f8fe",
   "metadata": {
    "execution": {
     "iopub.execute_input": "2024-01-18T10:18:16.147903Z",
     "iopub.status.busy": "2024-01-18T10:18:16.147430Z",
     "iopub.status.idle": "2024-01-18T10:18:16.186982Z",
     "shell.execute_reply": "2024-01-18T10:18:16.185847Z"
    },
    "papermill": {
     "duration": 0.05104,
     "end_time": "2024-01-18T10:18:16.189607",
     "exception": false,
     "start_time": "2024-01-18T10:18:16.138567",
     "status": "completed"
    },
    "tags": []
   },
   "outputs": [],
   "source": [
    "%load_ext autoreload\n",
    "%autoreload 2"
   ]
  },
  {
   "cell_type": "code",
   "execution_count": 2,
   "id": "12a2fabd",
   "metadata": {
    "execution": {
     "iopub.execute_input": "2024-01-18T10:18:16.205894Z",
     "iopub.status.busy": "2024-01-18T10:18:16.205529Z",
     "iopub.status.idle": "2024-01-18T10:18:16.809986Z",
     "shell.execute_reply": "2024-01-18T10:18:16.808678Z"
    },
    "papermill": {
     "duration": 0.616622,
     "end_time": "2024-01-18T10:18:16.813697",
     "exception": false,
     "start_time": "2024-01-18T10:18:16.197075",
     "status": "completed"
    },
    "tags": []
   },
   "outputs": [],
   "source": [
    "# Imports\n",
    "import pandas as pd\n",
    "\n",
    "from src import constants as C"
   ]
  },
  {
   "cell_type": "code",
   "execution_count": 3,
   "id": "d2880cc6",
   "metadata": {
    "execution": {
     "iopub.execute_input": "2024-01-18T10:18:16.832634Z",
     "iopub.status.busy": "2024-01-18T10:18:16.832206Z",
     "iopub.status.idle": "2024-01-18T10:18:17.209360Z",
     "shell.execute_reply": "2024-01-18T10:18:17.208621Z"
    },
    "papermill": {
     "duration": 0.390314,
     "end_time": "2024-01-18T10:18:17.213524",
     "exception": false,
     "start_time": "2024-01-18T10:18:16.823210",
     "status": "completed"
    },
    "tags": []
   },
   "outputs": [
    {
     "name": "stdout",
     "output_type": "stream",
     "text": [
      "<class 'pandas.core.frame.DataFrame'>\n",
      "Int64Index: 45175 entries, 18774 to 262807\n",
      "Data columns (total 4 columns):\n",
      " #   Column  Non-Null Count  Dtype  \n",
      "---  ------  --------------  -----  \n",
      " 0   region  45175 non-null  object \n",
      " 1   z       45175 non-null  float64\n",
      " 2   p       45175 non-null  float64\n",
      " 3   fdr_p   45175 non-null  float64\n",
      "dtypes: float64(3), object(1)\n",
      "memory usage: 1.7+ MB\n"
     ]
    }
   ],
   "source": [
    "# Read the data\n",
    "df = (\n",
    "    pd.read_csv(\n",
    "        C.REGIONAL_CONSTRAINT_STATS,\n",
    "        sep=\"\\t\",\n",
    "        usecols=[\"region\", \"csq\", \"z\", \"p\", \"fdr_p\"],\n",
    "    )\n",
    "    .query(\"csq == 'stop_gained'\")\n",
    "    .drop([\"csq\"], axis=1)\n",
    "    .dropna()\n",
    "    .replace(\n",
    "        {\"distal_nmd\": \"distal\"},\n",
    "    )\n",
    ")\n",
    "df.info()"
   ]
  },
  {
   "cell_type": "code",
   "execution_count": 4,
   "id": "dce48fdd",
   "metadata": {
    "execution": {
     "iopub.execute_input": "2024-01-18T10:18:17.256479Z",
     "iopub.status.busy": "2024-01-18T10:18:17.256159Z",
     "iopub.status.idle": "2024-01-18T10:18:17.283724Z",
     "shell.execute_reply": "2024-01-18T10:18:17.282789Z"
    },
    "papermill": {
     "duration": 0.049649,
     "end_time": "2024-01-18T10:18:17.286144",
     "exception": false,
     "start_time": "2024-01-18T10:18:17.236495",
     "status": "completed"
    },
    "tags": []
   },
   "outputs": [
    {
     "name": "stdout",
     "output_type": "stream",
     "text": [
      "Valid Z scores per region:\n",
      "region\n",
      "distal             9385\n",
      "long_exon          2056\n",
      "nmd_target        13784\n",
      "start_proximal     1540\n",
      "transcript        18410\n",
      "Name: z, dtype: int64\n"
     ]
    }
   ],
   "source": [
    "print(f\"Valid Z scores per region:\")\n",
    "print(f\"{df.groupby('region')['z'].count()}\")\n"
   ]
  },
  {
   "cell_type": "code",
   "execution_count": 5,
   "id": "03311115",
   "metadata": {
    "execution": {
     "iopub.execute_input": "2024-01-18T10:18:17.302795Z",
     "iopub.status.busy": "2024-01-18T10:18:17.302534Z",
     "iopub.status.idle": "2024-01-18T10:18:17.754867Z",
     "shell.execute_reply": "2024-01-18T10:18:17.753540Z"
    },
    "papermill": {
     "duration": 0.464134,
     "end_time": "2024-01-18T10:18:17.758239",
     "exception": false,
     "start_time": "2024-01-18T10:18:17.294105",
     "status": "completed"
    },
    "tags": []
   },
   "outputs": [],
   "source": [
    "# Write to output\n",
    "df.to_csv(C.STATS_Z_REGIONS, sep=\"\\t\", index=False)"
   ]
  }
 ],
 "metadata": {
  "kernelspec": {
   "display_name": "ukb",
   "language": "python",
   "name": "python3"
  },
  "language_info": {
   "codemirror_mode": {
    "name": "ipython",
    "version": 3
   },
   "file_extension": ".py",
   "mimetype": "text/x-python",
   "name": "python",
   "nbconvert_exporter": "python",
   "pygments_lexer": "ipython3",
   "version": "3.8.17"
  },
  "papermill": {
   "default_parameters": {},
   "duration": 4.70802,
   "end_time": "2024-01-18T10:18:17.986404",
   "environment_variables": {},
   "exception": null,
   "input_path": "src/statistics_for_plots/z_distributions.ipynb",
   "output_path": "src/statistics_for_plots/z_distributions.ipynb",
   "parameters": {},
   "start_time": "2024-01-18T10:18:13.278384",
   "version": "2.4.0"
  }
 },
 "nbformat": 4,
 "nbformat_minor": 5
}