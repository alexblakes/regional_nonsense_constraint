{
 "cells": [
  {
   "cell_type": "markdown",
   "metadata": {},
   "source": [
    "# Z score distributions by region\n",
    "A notebook to tidy the regional Z scores."
   ]
  },
  {
   "cell_type": "code",
   "execution_count": 1,
   "metadata": {},
   "outputs": [],
   "source": [
    "%load_ext autoreload\n",
    "%autoreload 2"
   ]
  },
  {
   "cell_type": "code",
   "execution_count": 2,
   "metadata": {},
   "outputs": [],
   "source": [
    "# Imports\n",
    "import pandas as pd\n",
    "\n",
    "from src import constants as C"
   ]
  },
  {
   "cell_type": "code",
   "execution_count": 3,
   "metadata": {},
   "outputs": [
    {
     "name": "stdout",
     "output_type": "stream",
     "text": [
      "<class 'pandas.core.frame.DataFrame'>\n",
      "Int64Index: 45175 entries, 18774 to 262807\n",
      "Data columns (total 4 columns):\n",
      " #   Column  Non-Null Count  Dtype  \n",
      "---  ------  --------------  -----  \n",
      " 0   region  45175 non-null  object \n",
      " 1   z       45175 non-null  float64\n",
      " 2   p       45175 non-null  float64\n",
      " 3   fdr_p   45175 non-null  float64\n",
      "dtypes: float64(3), object(1)\n",
      "memory usage: 1.7+ MB\n"
     ]
    }
   ],
   "source": [
    "# Read the data\n",
    "df = (\n",
    "    pd.read_csv(\n",
    "        C.REGIONAL_CONSTRAINT_STATS,\n",
    "        sep=\"\\t\",\n",
    "        usecols=[\"region\", \"csq\", \"z\", \"p\", \"fdr_p\"],\n",
    "    )\n",
    "    .query(\"csq == 'stop_gained'\")\n",
    "    .drop([\"csq\"], axis=1)\n",
    "    .dropna()\n",
    "    .replace(\n",
    "        {\"distal_nmd\": \"distal\"},\n",
    "    )\n",
    ")\n",
    "df.info()"
   ]
  },
  {
   "cell_type": "code",
   "execution_count": 4,
   "metadata": {},
   "outputs": [
    {
     "name": "stdout",
     "output_type": "stream",
     "text": [
      "Valid Z scores per region:\n",
      "region\n",
      "distal             9385\n",
      "long_exon          2056\n",
      "nmd_target        13784\n",
      "start_proximal     1540\n",
      "transcript        18410\n",
      "Name: z, dtype: int64\n"
     ]
    }
   ],
   "source": [
    "print(f\"Valid Z scores per region:\")\n",
    "print(f\"{df.groupby('region')['z'].count()}\")\n"
   ]
  },
  {
   "cell_type": "code",
   "execution_count": 5,
   "metadata": {},
   "outputs": [],
   "source": [
    "# Write to output\n",
    "df.to_csv(C.STATS_Z_REGIONS, sep=\"\\t\", index=False)"
   ]
  }
 ],
 "metadata": {
  "kernelspec": {
   "display_name": "ukb",
   "language": "python",
   "name": "python3"
  },
  "language_info": {
   "codemirror_mode": {
    "name": "ipython",
    "version": 3
   },
   "file_extension": ".py",
   "mimetype": "text/x-python",
   "name": "python",
   "nbconvert_exporter": "python",
   "pygments_lexer": "ipython3",
   "version": "3.8.17"
  }
 },
 "nbformat": 4,
 "nbformat_minor": 2
}
