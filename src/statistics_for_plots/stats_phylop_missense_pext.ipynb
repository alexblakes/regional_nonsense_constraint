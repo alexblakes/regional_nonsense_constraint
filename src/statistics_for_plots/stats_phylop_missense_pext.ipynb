{
 "cells": [
  {
   "cell_type": "markdown",
   "metadata": {},
   "source": [
    "# Significance testing for phyloP, AM, and pext scores\n",
    "Testing the null hypothesis that there is no difference in mean scores (phyloP, AlphaMissense, pext) between bases in constrained and unconstrained regions."
   ]
  },
  {
   "cell_type": "code",
   "execution_count": 15,
   "metadata": {},
   "outputs": [],
   "source": [
    "# Imports\n",
    "import pandas as pd\n",
    "import numpy as np\n",
    "from scipy.stats import ttest_ind_from_stats as tt\n",
    "\n",
    "from src import constants as C"
   ]
  },
  {
   "cell_type": "code",
   "execution_count": 20,
   "metadata": {},
   "outputs": [],
   "source": [
    "def test_constrained_vs_unconstrained(df, metric):\n",
    "    \"\"\"Welch's T-test of mean values in constrained vs unconstrained regions.\"\"\"\n",
    "\n",
    "    constrained = df.loc[(metric,\"constrained\")]\n",
    "    unconstrained = df.loc[(metric,\"unconstrained\")]\n",
    "\n",
    "    stats = tt(\n",
    "        constrained[\"mean\"],\n",
    "        constrained[\"std\"],\n",
    "        constrained[\"n\"],\n",
    "        unconstrained[\"mean\"],\n",
    "        unconstrained[\"std\"],\n",
    "        unconstrained[\"n\"],\n",
    "        equal_var=False, # Welch's T-test with unequal variance\n",
    "        alternative=\"two-sided\",\n",
    "    )\n",
    "\n",
    "    return stats"
   ]
  },
  {
   "cell_type": "code",
   "execution_count": 19,
   "metadata": {},
   "outputs": [],
   "source": [
    "# Load the data\n",
    "df = (\n",
    "    pd.read_csv(C.PHYLOP_PEXT_MISSENSE_STATS, sep=\"\\t\")\n",
    "    .set_index(\n",
    "        [\n",
    "            \"metric\",\n",
    "            \"constraint\",\n",
    "            \"region\",\n",
    "        ]\n",
    "    )\n",
    "    .assign(std=lambda x: x[\"sem\"] * np.sqrt(x[\"n\"]))\n",
    ")"
   ]
  },
  {
   "cell_type": "code",
   "execution_count": 21,
   "metadata": {},
   "outputs": [
    {
     "name": "stderr",
     "output_type": "stream",
     "text": [
      "/tmp/ipykernel_3133/565832891.py:4: PerformanceWarning: indexing past lexsort depth may impact performance.\n",
      "  constrained = df.loc[(metric,\"constrained\")]\n",
      "/tmp/ipykernel_3133/565832891.py:5: PerformanceWarning: indexing past lexsort depth may impact performance.\n",
      "  unconstrained = df.loc[(metric,\"unconstrained\")]\n"
     ]
    },
    {
     "data": {
      "text/plain": [
       "Ttest_indResult(statistic=region\n",
       "distal_nmd        322.421065\n",
       "long_exon         176.059074\n",
       "nmd_target        546.924971\n",
       "start_proximal     74.408932\n",
       "transcript        779.822141\n",
       "Name: n, dtype: float64, pvalue=region\n",
       "distal_nmd        0.0\n",
       "long_exon         0.0\n",
       "nmd_target        0.0\n",
       "start_proximal    0.0\n",
       "transcript        0.0\n",
       "Name: n, dtype: float64)"
      ]
     },
     "execution_count": 21,
     "metadata": {},
     "output_type": "execute_result"
    }
   ],
   "source": [
    "test_constrained_vs_unconstrained(df, \"phylop\")"
   ]
  },
  {
   "cell_type": "markdown",
   "metadata": {},
   "source": [
    "There is strong evidence to reject the null hypothesis that mean phyloP scores in constrained and unconstrained regions are equal."
   ]
  },
  {
   "cell_type": "code",
   "execution_count": 23,
   "metadata": {},
   "outputs": [
    {
     "name": "stderr",
     "output_type": "stream",
     "text": [
      "/tmp/ipykernel_3133/565832891.py:4: PerformanceWarning: indexing past lexsort depth may impact performance.\n",
      "  constrained = df.loc[(metric,\"constrained\")]\n",
      "/tmp/ipykernel_3133/565832891.py:5: PerformanceWarning: indexing past lexsort depth may impact performance.\n",
      "  unconstrained = df.loc[(metric,\"unconstrained\")]\n"
     ]
    },
    {
     "data": {
      "text/plain": [
       "Ttest_indResult(statistic=region\n",
       "distal_nmd        165.384109\n",
       "long_exon          56.652429\n",
       "nmd_target        392.019015\n",
       "start_proximal     50.219404\n",
       "transcript        462.537948\n",
       "Name: n, dtype: float64, pvalue=region\n",
       "distal_nmd        0.0\n",
       "long_exon         0.0\n",
       "nmd_target        0.0\n",
       "start_proximal    0.0\n",
       "transcript        0.0\n",
       "Name: n, dtype: float64)"
      ]
     },
     "execution_count": 23,
     "metadata": {},
     "output_type": "execute_result"
    }
   ],
   "source": [
    "test_constrained_vs_unconstrained(df, \"alpha_mis\")"
   ]
  },
  {
   "cell_type": "markdown",
   "metadata": {},
   "source": [
    "There is strong evidence to reject the null hypothesis that mean AlphaMissense scores in constrained and unconstrained groups are equal."
   ]
  },
  {
   "cell_type": "code",
   "execution_count": 24,
   "metadata": {},
   "outputs": [
    {
     "name": "stderr",
     "output_type": "stream",
     "text": [
      "/tmp/ipykernel_3133/565832891.py:4: PerformanceWarning: indexing past lexsort depth may impact performance.\n",
      "  constrained = df.loc[(metric,\"constrained\")]\n",
      "/tmp/ipykernel_3133/565832891.py:5: PerformanceWarning: indexing past lexsort depth may impact performance.\n",
      "  unconstrained = df.loc[(metric,\"unconstrained\")]\n"
     ]
    },
    {
     "data": {
      "text/plain": [
       "Ttest_indResult(statistic=region\n",
       "distal_nmd        263.462715\n",
       "long_exon          -0.021441\n",
       "nmd_target         95.404598\n",
       "start_proximal     -6.368931\n",
       "transcript         92.885361\n",
       "Name: n, dtype: float64, pvalue=region\n",
       "distal_nmd        0.000000e+00\n",
       "long_exon         9.828939e-01\n",
       "nmd_target        0.000000e+00\n",
       "start_proximal    1.939634e-10\n",
       "transcript        0.000000e+00\n",
       "Name: n, dtype: float64)"
      ]
     },
     "execution_count": 24,
     "metadata": {},
     "output_type": "execute_result"
    }
   ],
   "source": [
    "test_constrained_vs_unconstrained(df, \"pext\")"
   ]
  },
  {
   "cell_type": "markdown",
   "metadata": {},
   "source": [
    "In most regions, pext scores are significantly different. That is not the case in long exon regions."
   ]
  }
 ],
 "metadata": {
  "kernelspec": {
   "display_name": "ukb",
   "language": "python",
   "name": "python3"
  },
  "language_info": {
   "codemirror_mode": {
    "name": "ipython",
    "version": 3
   },
   "file_extension": ".py",
   "mimetype": "text/x-python",
   "name": "python",
   "nbconvert_exporter": "python",
   "pygments_lexer": "ipython3",
   "version": "3.8.17"
  }
 },
 "nbformat": 4,
 "nbformat_minor": 2
}
