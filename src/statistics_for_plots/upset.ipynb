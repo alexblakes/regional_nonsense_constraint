{
 "cells": [
  {
   "cell_type": "markdown",
   "id": "1750007f",
   "metadata": {
    "papermill": {
     "duration": 0.009903,
     "end_time": "2024-01-18T10:18:22.002598",
     "exception": false,
     "start_time": "2024-01-18T10:18:21.992695",
     "status": "completed"
    },
    "tags": []
   },
   "source": [
    "# Intersecting constrained regions\n",
    "A notebook to tidy the constraint annotations for the upset plot."
   ]
  },
  {
   "cell_type": "code",
   "execution_count": 1,
   "id": "baf162db",
   "metadata": {
    "execution": {
     "iopub.execute_input": "2024-01-18T10:18:22.022748Z",
     "iopub.status.busy": "2024-01-18T10:18:22.022266Z",
     "iopub.status.idle": "2024-01-18T10:18:22.069022Z",
     "shell.execute_reply": "2024-01-18T10:18:22.067858Z"
    },
    "papermill": {
     "duration": 0.06048,
     "end_time": "2024-01-18T10:18:22.072003",
     "exception": false,
     "start_time": "2024-01-18T10:18:22.011523",
     "status": "completed"
    },
    "tags": []
   },
   "outputs": [],
   "source": [
    "%load_ext autoreload\n",
    "%autoreload 2"
   ]
  },
  {
   "cell_type": "code",
   "execution_count": 2,
   "id": "3867c021",
   "metadata": {
    "execution": {
     "iopub.execute_input": "2024-01-18T10:18:22.090173Z",
     "iopub.status.busy": "2024-01-18T10:18:22.089820Z",
     "iopub.status.idle": "2024-01-18T10:18:22.726694Z",
     "shell.execute_reply": "2024-01-18T10:18:22.725465Z"
    },
    "papermill": {
     "duration": 0.649633,
     "end_time": "2024-01-18T10:18:22.730105",
     "exception": false,
     "start_time": "2024-01-18T10:18:22.080472",
     "status": "completed"
    },
    "tags": []
   },
   "outputs": [],
   "source": [
    "# Imports\n",
    "import pandas as pd\n",
    "\n",
    "from src import constants as C"
   ]
  },
  {
   "cell_type": "code",
   "execution_count": 3,
   "id": "be6a98ec",
   "metadata": {
    "execution": {
     "iopub.execute_input": "2024-01-18T10:18:22.751010Z",
     "iopub.status.busy": "2024-01-18T10:18:22.750593Z",
     "iopub.status.idle": "2024-01-18T10:18:23.345179Z",
     "shell.execute_reply": "2024-01-18T10:18:23.344378Z"
    },
    "papermill": {
     "duration": 0.608879,
     "end_time": "2024-01-18T10:18:23.349429",
     "exception": false,
     "start_time": "2024-01-18T10:18:22.740550",
     "status": "completed"
    },
    "tags": []
   },
   "outputs": [
    {
     "data": {
      "text/html": [
       "<div>\n",
       "<style scoped>\n",
       "    .dataframe tbody tr th:only-of-type {\n",
       "        vertical-align: middle;\n",
       "    }\n",
       "\n",
       "    .dataframe tbody tr th {\n",
       "        vertical-align: top;\n",
       "    }\n",
       "\n",
       "    .dataframe thead th {\n",
       "        text-align: right;\n",
       "    }\n",
       "</style>\n",
       "<table border=\"1\" class=\"dataframe\">\n",
       "  <thead>\n",
       "    <tr style=\"text-align: right;\">\n",
       "      <th></th>\n",
       "      <th>enst</th>\n",
       "      <th>region</th>\n",
       "      <th>constraint</th>\n",
       "    </tr>\n",
       "  </thead>\n",
       "  <tbody>\n",
       "    <tr>\n",
       "      <th>2</th>\n",
       "      <td>ENST00000000442</td>\n",
       "      <td>distal</td>\n",
       "      <td>unconstrained</td>\n",
       "    </tr>\n",
       "    <tr>\n",
       "      <th>4</th>\n",
       "      <td>ENST00000001146</td>\n",
       "      <td>distal</td>\n",
       "      <td>constrained</td>\n",
       "    </tr>\n",
       "    <tr>\n",
       "      <th>5</th>\n",
       "      <td>ENST00000002125</td>\n",
       "      <td>distal</td>\n",
       "      <td>NaN</td>\n",
       "    </tr>\n",
       "  </tbody>\n",
       "</table>\n",
       "</div>"
      ],
      "text/plain": [
       "              enst  region     constraint\n",
       "2  ENST00000000442  distal  unconstrained\n",
       "4  ENST00000001146  distal    constrained\n",
       "5  ENST00000002125  distal            NaN"
      ]
     },
     "execution_count": 3,
     "metadata": {},
     "output_type": "execute_result"
    }
   ],
   "source": [
    "# Read the data\n",
    "df = (\n",
    "    pd.read_csv(\n",
    "        C.REGIONAL_NONSENSE_CONSTRAINT,\n",
    "        sep=\"\\t\",\n",
    "        usecols=[\"region\", \"z\", \"enst\", \"constraint\"],\n",
    "    )\n",
    "    .dropna(subset=\"z\")\n",
    "    .drop(\"z\", axis=1)\n",
    ").replace({\"distal_nmd\":\"distal\"})\n",
    "\n",
    "df.head(3)"
   ]
  },
  {
   "cell_type": "code",
   "execution_count": 4,
   "id": "5de303c6",
   "metadata": {
    "execution": {
     "iopub.execute_input": "2024-01-18T10:18:23.367948Z",
     "iopub.status.busy": "2024-01-18T10:18:23.367731Z",
     "iopub.status.idle": "2024-01-18T10:18:23.464834Z",
     "shell.execute_reply": "2024-01-18T10:18:23.464077Z"
    },
    "papermill": {
     "duration": 0.108984,
     "end_time": "2024-01-18T10:18:23.467664",
     "exception": false,
     "start_time": "2024-01-18T10:18:23.358680",
     "status": "completed"
    },
    "tags": []
   },
   "outputs": [
    {
     "data": {
      "text/html": [
       "<div>\n",
       "<style scoped>\n",
       "    .dataframe tbody tr th:only-of-type {\n",
       "        vertical-align: middle;\n",
       "    }\n",
       "\n",
       "    .dataframe tbody tr th {\n",
       "        vertical-align: top;\n",
       "    }\n",
       "\n",
       "    .dataframe thead th {\n",
       "        text-align: right;\n",
       "    }\n",
       "</style>\n",
       "<table border=\"1\" class=\"dataframe\">\n",
       "  <thead>\n",
       "    <tr style=\"text-align: right;\">\n",
       "      <th>region</th>\n",
       "      <th>Whole transcript</th>\n",
       "      <th>NMD target</th>\n",
       "      <th>Start proximal</th>\n",
       "      <th>Long exon</th>\n",
       "      <th>Distal</th>\n",
       "    </tr>\n",
       "    <tr>\n",
       "      <th>enst</th>\n",
       "      <th></th>\n",
       "      <th></th>\n",
       "      <th></th>\n",
       "      <th></th>\n",
       "      <th></th>\n",
       "    </tr>\n",
       "  </thead>\n",
       "  <tbody>\n",
       "    <tr>\n",
       "      <th>ENST00000000233</th>\n",
       "      <td>False</td>\n",
       "      <td>True</td>\n",
       "      <td>False</td>\n",
       "      <td>False</td>\n",
       "      <td>False</td>\n",
       "    </tr>\n",
       "    <tr>\n",
       "      <th>ENST00000000412</th>\n",
       "      <td>False</td>\n",
       "      <td>False</td>\n",
       "      <td>False</td>\n",
       "      <td>False</td>\n",
       "      <td>False</td>\n",
       "    </tr>\n",
       "    <tr>\n",
       "      <th>ENST00000000442</th>\n",
       "      <td>False</td>\n",
       "      <td>False</td>\n",
       "      <td>False</td>\n",
       "      <td>False</td>\n",
       "      <td>False</td>\n",
       "    </tr>\n",
       "  </tbody>\n",
       "</table>\n",
       "</div>"
      ],
      "text/plain": [
       "region           Whole transcript  NMD target  Start proximal  Long exon  \\\n",
       "enst                                                                       \n",
       "ENST00000000233             False        True           False      False   \n",
       "ENST00000000412             False       False           False      False   \n",
       "ENST00000000442             False       False           False      False   \n",
       "\n",
       "region           Distal  \n",
       "enst                     \n",
       "ENST00000000233   False  \n",
       "ENST00000000412   False  \n",
       "ENST00000000442   False  "
      ]
     },
     "execution_count": 4,
     "metadata": {},
     "output_type": "execute_result"
    }
   ],
   "source": [
    "# Reformat for upset plot\n",
    "df = (\n",
    "    df.pivot(index=\"enst\", columns=\"region\", values=\"constraint\")\n",
    "    .fillna(False)\n",
    "    .replace(\"unconstrained\", False)\n",
    "    .replace(\"constrained\", True)\n",
    "    .rename(columns={a:b for a,b in zip(C.REGIONS, C.REGION_LABELS)})\n",
    ")\n",
    "\n",
    "df = df[C.REGION_LABELS]\n",
    "\n",
    "df.head(3)\n"
   ]
  },
  {
   "cell_type": "code",
   "execution_count": 5,
   "id": "ddb70884",
   "metadata": {
    "execution": {
     "iopub.execute_input": "2024-01-18T10:18:23.488102Z",
     "iopub.status.busy": "2024-01-18T10:18:23.487865Z",
     "iopub.status.idle": "2024-01-18T10:18:23.504719Z",
     "shell.execute_reply": "2024-01-18T10:18:23.504054Z"
    },
    "papermill": {
     "duration": 0.028893,
     "end_time": "2024-01-18T10:18:23.507099",
     "exception": false,
     "start_time": "2024-01-18T10:18:23.478206",
     "status": "completed"
    },
    "tags": []
   },
   "outputs": [
    {
     "name": "stdout",
     "output_type": "stream",
     "text": [
      "Constrained regions:\n",
      "region\n",
      "Whole transcript    1852\n",
      "NMD target          1629\n",
      "Start proximal       126\n",
      "Long exon            428\n",
      "Distal               846\n",
      "dtype: int64\n"
     ]
    }
   ],
   "source": [
    "print(\"Constrained regions:\")\n",
    "print(f\"{df.sum()}\")"
   ]
  },
  {
   "cell_type": "code",
   "execution_count": 6,
   "id": "8a904663",
   "metadata": {
    "execution": {
     "iopub.execute_input": "2024-01-18T10:18:23.525317Z",
     "iopub.status.busy": "2024-01-18T10:18:23.525031Z",
     "iopub.status.idle": "2024-01-18T10:18:23.625678Z",
     "shell.execute_reply": "2024-01-18T10:18:23.624961Z"
    },
    "papermill": {
     "duration": 0.112523,
     "end_time": "2024-01-18T10:18:23.628390",
     "exception": false,
     "start_time": "2024-01-18T10:18:23.515867",
     "status": "completed"
    },
    "tags": []
   },
   "outputs": [],
   "source": [
    "# Write to output\n",
    "df.to_csv(C.STATS_UPSET_CONSTRAINT, sep=\"\\t\")"
   ]
  }
 ],
 "metadata": {
  "kernelspec": {
   "display_name": "ukb",
   "language": "python",
   "name": "python3"
  },
  "language_info": {
   "codemirror_mode": {
    "name": "ipython",
    "version": 3
   },
   "file_extension": ".py",
   "mimetype": "text/x-python",
   "name": "python",
   "nbconvert_exporter": "python",
   "pygments_lexer": "ipython3",
   "version": "3.8.17"
  },
  "papermill": {
   "default_parameters": {},
   "duration": 4.719863,
   "end_time": "2024-01-18T10:18:23.857024",
   "environment_variables": {},
   "exception": null,
   "input_path": "src/statistics_for_plots/upset.ipynb",
   "output_path": "src/statistics_for_plots/upset.ipynb",
   "parameters": {},
   "start_time": "2024-01-18T10:18:19.137161",
   "version": "2.4.0"
  }
 },
 "nbformat": 4,
 "nbformat_minor": 5
}