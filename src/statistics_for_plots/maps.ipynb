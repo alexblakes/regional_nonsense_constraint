{
 "cells": [
  {
   "cell_type": "code",
   "execution_count": null,
   "metadata": {},
   "outputs": [],
   "source": [
    "# %%\n",
    "maps = pd.read_csv(\n",
    "    \"../outputs/stats_maps_non_cpg.tsv\", sep=\"\\t\", usecols=[\"csq\", \"maps\", \"ci95\"]\n",
    ")\n",
    "\n",
    "# %%\n",
    "maps[\"csq\"] = pd.Categorical(\n",
    "    maps[\"csq\"],\n",
    "    categories=[\n",
    "        \"synonymous\",\n",
    "        \"missense\",\n",
    "        \"nonsense\",\n",
    "        \"nmd_target\",\n",
    "        \"long_exon\",\n",
    "        \"distal_nmd\",\n",
    "        \"start_proximal\",\n",
    "    ][::-1],\n",
    ")\n",
    "maps = maps.sort_values(\"csq\", ascending=True)"
   ]
  }
 ],
 "metadata": {
  "language_info": {
   "name": "python"
  }
 },
 "nbformat": 4,
 "nbformat_minor": 2
}
