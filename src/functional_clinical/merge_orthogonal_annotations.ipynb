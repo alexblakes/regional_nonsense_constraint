{
 "cells": [
  {
   "cell_type": "markdown",
   "id": "0c0f3624-9368-4a62-8121-3a1cfad690a9",
   "metadata": {},
   "source": [
    "# Merge annotations\n",
    "Merge our NMD annotations with external annotations (phyloP, HMC, and pext)"
   ]
  },
  {
   "cell_type": "markdown",
   "id": "109cd06f-3e04-401d-8172-ff77efd32056",
   "metadata": {},
   "source": [
    "## Preliminaries"
   ]
  },
  {
   "cell_type": "code",
   "execution_count": 1,
   "id": "e21b5a92-0903-4af9-9382-7c0303db56f4",
   "metadata": {
    "tags": []
   },
   "outputs": [],
   "source": [
    "%%bash\n",
    "# Download NMD annotations and phyloP scores from UKB RAP\n",
    "dx download -f -o ../outputs/ outputs/nmd_annotations.tsv\n",
    "dx download -f -o ../outputs/ outputs/phylop_all_sites.tsv\n",
    "dx download -f -o ../outputs/ outputs/pext_38.bed\n",
    "dx download -f -o ../outputs/ outputs/hmc_38.tsv\n",
    "dx download -f -o ../outputs/ outputs/gene_ids.tsv"
   ]
  },
  {
   "cell_type": "code",
   "execution_count": 2,
   "id": "f8113d97-a229-4776-8d2a-fe1973fe6b54",
   "metadata": {
    "tags": []
   },
   "outputs": [],
   "source": [
    "# Import relevant modules\n",
    "import numpy as np\n",
    "import pandas as pd"
   ]
  },
  {
   "cell_type": "markdown",
   "id": "1630391c-cdbc-451d-9d75-02372e65b152",
   "metadata": {},
   "source": [
    "## Get annotations"
   ]
  },
  {
   "cell_type": "markdown",
   "id": "bc06563d-ed80-42b1-9a46-2e843c3eed5b",
   "metadata": {},
   "source": [
    "### NMD annotations"
   ]
  },
  {
   "cell_type": "code",
   "execution_count": 3,
   "id": "6e39ec95-d0be-4f8f-a1b4-3327b4863675",
   "metadata": {
    "tags": []
   },
   "outputs": [
    {
     "name": "stdout",
     "output_type": "stream",
     "text": [
      "Sites with an NMD annotation: 34177971\n"
     ]
    }
   ],
   "source": [
    "# Read NMD data into memory\n",
    "nmd = pd.read_csv(\n",
    "    \"../outputs/nmd_annotations.tsv\",\n",
    "    sep=\"\\t\",\n",
    "    usecols=[\"chr\", \"pos\", \"transcript_id\", \"nmd_definitive\"],\n",
    ").rename(columns={\"nmd_definitive\": \"region\", \"transcript_id\": \"enst\"})\n",
    "\n",
    "# Print summary statistics\n",
    "print(f\"Sites with an NMD annotation: {len(nmd)}\")"
   ]
  },
  {
   "cell_type": "markdown",
   "id": "86558729-7da9-4f4d-9b61-ebf45e3dec3d",
   "metadata": {},
   "source": [
    "### phyloP annotations"
   ]
  },
  {
   "cell_type": "code",
   "execution_count": 4,
   "id": "e2940af8-2ca5-44f3-9bf4-e45d4b8a3d33",
   "metadata": {
    "tags": []
   },
   "outputs": [
    {
     "name": "stdout",
     "output_type": "stream",
     "text": [
      "Sites with a phyloP annotation: 33461142\n"
     ]
    }
   ],
   "source": [
    "# Read phyloP data into memory\n",
    "phylop = pd.read_csv(\"../outputs/phylop_all_sites.tsv\", sep=\"\\t\")\n",
    "\n",
    "# Print summary statistics\n",
    "print(f\"Sites with a phyloP annotation: {len(phylop)}\")"
   ]
  },
  {
   "cell_type": "markdown",
   "id": "945ea6ec-b59d-4046-8549-f7401b5dc652",
   "metadata": {},
   "source": [
    "### pext annotations"
   ]
  },
  {
   "cell_type": "code",
   "execution_count": 5,
   "id": "792a2582-2731-4926-a455-3dfca7496743",
   "metadata": {},
   "outputs": [
    {
     "name": "stdout",
     "output_type": "stream",
     "text": [
      "Valid pext annotations: 34927246\n"
     ]
    }
   ],
   "source": [
    "# Read pext data into memory\n",
    "pext = (\n",
    "    pd.read_csv(\n",
    "        \"../outputs/pext_38.bed\", \n",
    "        sep=\"\\t\", header=None, names=[\"chr\",\"start\",\"end\",\"ensg\",\"pext\"], \n",
    "        usecols=[\"chr\",\"end\",\"ensg\",\"pext\"]\n",
    "    )\n",
    "    .rename(columns={\"end\":\"pos\"})\n",
    "    .drop_duplicates()\n",
    "    .drop_duplicates([\"chr\",\"pos\",\"ensg\"], keep=False)\n",
    ")\n",
    "print(f\"Valid pext annotations: {len(pext)}\")"
   ]
  },
  {
   "cell_type": "code",
   "execution_count": 6,
   "id": "bc90b8be-cd36-4c38-a24e-92fe4c20335b",
   "metadata": {},
   "outputs": [
    {
     "name": "stdout",
     "output_type": "stream",
     "text": [
      "Valid pext annotations in genes with a MANE transcript: 33984518\n"
     ]
    }
   ],
   "source": [
    "# Read gene and transcript ids into memory\n",
    "ids = (\n",
    "    pd.read_csv(\n",
    "        \"../outputs/gene_ids.tsv\", \n",
    "        sep=\"\\t\", \n",
    "        header=0,\n",
    "        names=[\"ensg\",\"enst\",\"hgnc\"], \n",
    "        usecols=[\"ensg\",\"enst\"]\n",
    "    )\n",
    ")\n",
    "ids[\"ensg\"] = ids[\"ensg\"].str.split(\".\").str[0]\n",
    "ids[\"enst\"] = ids[\"enst\"].str.split(\".\").str[0]\n",
    "\n",
    "ids = ids.drop_duplicates()\n",
    "\n",
    "pext = pext.merge(ids, how=\"inner\").drop(\"ensg\", axis=1)\n",
    "print(f\"Valid pext annotations in genes with a MANE transcript: {len(pext)}\")"
   ]
  },
  {
   "cell_type": "markdown",
   "id": "447ef9cd-a873-453b-9da7-61c93f243de4",
   "metadata": {},
   "source": [
    "### HMC annotations"
   ]
  },
  {
   "cell_type": "code",
   "execution_count": 7,
   "id": "a98eb752-7f1b-41c2-a440-c36ca0f35397",
   "metadata": {},
   "outputs": [
    {
     "name": "stdout",
     "output_type": "stream",
     "text": [
      "Number of HMC annotations: 5800915\n"
     ]
    }
   ],
   "source": [
    "hmc = (\n",
    "    pd.read_csv(\n",
    "        \"../outputs/hmc_38.tsv\", \n",
    "        sep=\"\\t\", \n",
    "        header=None, \n",
    "        names=[\"chr\",\"pos\",\"hmc\"]\n",
    "    )\n",
    "    .sort_values([\"chr\",\"pos\",\"hmc\"])\n",
    "    .drop_duplicates([\"chr\",\"pos\"]) # Keep the lowest HMC score (most constrained) per site\n",
    ")\n",
    "print(f\"Number of HMC annotations: {len(hmc)}\")"
   ]
  },
  {
   "cell_type": "markdown",
   "id": "35528631-9d6b-4e0a-95b9-402498bb77de",
   "metadata": {},
   "source": [
    "### Constraint annotations"
   ]
  },
  {
   "cell_type": "code",
   "execution_count": 8,
   "id": "680bd6dd-b811-4429-a959-f2fc4a1f2f00",
   "metadata": {
    "tags": []
   },
   "outputs": [],
   "source": [
    "# Read the constraint data into memory\n",
    "constraint = (\n",
    "    pd.read_csv(\n",
    "        \"../outputs/expected_variants_all_regions_no_cpg_stats.tsv\",\n",
    "        sep=\"\\t\",\n",
    "        usecols=[\"region\", \"enst\", \"csq\", \"n_obs\", \"oe\", \"z\", \"p\", \"fdr_p\"],\n",
    "    )\n",
    "    .pivot( # We need, for example, synonymous Z-scores for later filtering\n",
    "        index=[\"region\", \"enst\"],\n",
    "        columns=\"csq\",\n",
    "        values=[\"n_obs\", \"oe\", \"z\", \"p\", \"fdr_p\"],\n",
    "    )\n",
    "    .swaplevel(\n",
    "        axis=1,\n",
    "    )\n",
    "    .reset_index(\n",
    "        drop=False,\n",
    "    )\n",
    ")"
   ]
  },
  {
   "cell_type": "code",
   "execution_count": 9,
   "id": "5cfcbe20-83ea-4ed8-8ba3-d6ac3badbb0a",
   "metadata": {
    "tags": []
   },
   "outputs": [
    {
     "name": "stdout",
     "output_type": "stream",
     "text": [
      "region          constraint   \n",
      "distal_nmd      unconstrained    11233\n",
      "                constrained        548\n",
      "long_exon       unconstrained     1519\n",
      "                constrained        388\n",
      "nmd_target      unconstrained     7300\n",
      "                constrained       2380\n",
      "start_proximal  unconstrained    10933\n",
      "transcript      unconstrained     8880\n",
      "                constrained       3538\n",
      "Name: constraint, dtype: int64\n"
     ]
    }
   ],
   "source": [
    "# Find constrained and unconstrained regions\n",
    "\n",
    "## The columns are a multi-index which need to be merged\n",
    "constraint.columns = [\"_\".join(x).strip(\"_\") for x in constraint.columns.values]\n",
    "\n",
    "## Keep only the relevant columns\n",
    "constraint = constraint[\n",
    "    [\n",
    "        \"region\",\n",
    "        \"enst\",\n",
    "        \"nonsense_n_obs\",\n",
    "        \"nonsense_oe\",\n",
    "        \"synonymous_z\",\n",
    "        \"nonsense_p\",\n",
    "        \"nonsense_fdr_p\",\n",
    "    ]\n",
    "]\n",
    "\n",
    "## Filter for constrained and unconstrained regions / transcripts\n",
    "m1 = constraint[\"nonsense_oe\"] < 0.35\n",
    "m2 = constraint[\"synonymous_z\"] > -1\n",
    "m3 = constraint[\"nonsense_fdr_p\"] < 0.05\n",
    "\n",
    "m4 = constraint[\"nonsense_p\"] >= 0.05\n",
    "m5 = constraint[\"nonsense_n_obs\"] >= 1\n",
    "\n",
    "constraint.loc[m1 & m2 & m3, \"constraint\"] = \"constrained\"\n",
    "constraint.loc[m4 & m5, \"constraint\"] = \"unconstrained\"\n",
    "\n",
    "## Drop irrelevant columns \n",
    "constraint = constraint[[\"region\", \"enst\", \"constraint\"]]\n",
    "\n",
    "## Print the counts of constrained and unconstrained regions\n",
    "print(constraint.groupby([\"region\"])[\"constraint\"].value_counts())"
   ]
  },
  {
   "cell_type": "markdown",
   "id": "307ca62f-5df8-4dad-bf85-fc07f1b78311",
   "metadata": {},
   "source": [
    "## Merge annotations"
   ]
  },
  {
   "cell_type": "code",
   "execution_count": 10,
   "id": "5af9e29c-a851-4c7d-bc98-c7b5f89f20a0",
   "metadata": {},
   "outputs": [
    {
     "name": "stdout",
     "output_type": "stream",
     "text": [
      "Sites after merging NMD and phyloP annotations: 34177971\n",
      "Sites with a phyloP annotation: 34055400\n",
      "Sites after merging pext annotations: 34177971\n",
      "Sites with a pext annotation: 32302248\n",
      "Sites after merging with HMC annotation: 34177971\n",
      "Sites with an HMC annotation: 5874019\n"
     ]
    }
   ],
   "source": [
    "# NMD and phyloP\n",
    "df = nmd.merge(phylop, how=\"left\")\n",
    "print(f\"Sites after merging NMD and phyloP annotations: {len(df)}\")\n",
    "print(f\"Sites with a phyloP annotation: {len(df) - df.phylop.isna().sum()}\")\n",
    "\n",
    "# pext\n",
    "df = df.merge(pext, how=\"left\")\n",
    "print(f\"Sites after merging pext annotations: {len(df)}\")\n",
    "print(f\"Sites with a pext annotation: {len(df) - df.pext.isna().sum()}\")\n",
    "\n",
    "# hmc\n",
    "df = df.merge(hmc, how=\"left\")\n",
    "print(f\"Sites after merging with HMC annotation: {len(df)}\")\n",
    "print(f\"Sites with an HMC annotation: {len(df) - df.hmc.isna().sum()}\")"
   ]
  },
  {
   "cell_type": "code",
   "execution_count": 11,
   "id": "b162efdb-6afe-405d-a93b-dd3568dbe8ee",
   "metadata": {
    "tags": []
   },
   "outputs": [],
   "source": [
    "# In order to get transcript-level statistics, we copy the dataframe and overwrite the \"region\" annotation.\n",
    "_ = df.copy().assign(region=\"transcript\")\n",
    "df = pd.concat([df, _])"
   ]
  },
  {
   "cell_type": "code",
   "execution_count": 12,
   "id": "e309ba2f-ab02-45e3-a16d-0c07cf5a3838",
   "metadata": {
    "tags": []
   },
   "outputs": [],
   "source": [
    "# Merge with constraint annotations\n",
    "df = df.merge(constraint, how=\"inner\")"
   ]
  },
  {
   "cell_type": "markdown",
   "id": "71368326-8ced-4b49-b9b8-1095903a8734",
   "metadata": {},
   "source": [
    "## Statistics"
   ]
  },
  {
   "cell_type": "code",
   "execution_count": 13,
   "id": "2bae18bb-9fd2-4b2a-a7b8-d2c20193c246",
   "metadata": {},
   "outputs": [],
   "source": [
    "def se(p, n):\n",
    "    \"\"\"Calculate the standard error of a propotion.\"\"\"\n",
    "    return np.sqrt((p * (1 - p))/n)"
   ]
  },
  {
   "cell_type": "markdown",
   "id": "ee6d09e0-a619-4e7a-9b94-fc32aa626b12",
   "metadata": {},
   "source": [
    "### phyloP\n",
    "Calculate the proportion of sites in each grouping with phyloP > 2.27"
   ]
  },
  {
   "cell_type": "code",
   "execution_count": 14,
   "id": "118f6a15-63f1-4bc3-bbc8-7e124f7414d2",
   "metadata": {},
   "outputs": [],
   "source": [
    "# Find sites where phyloP > 2.27\n",
    "p = df[[\"region\", \"phylop\", \"constraint\"]].copy().dropna(subset=\"phylop\")\n",
    "p[\"phylop\"] = np.where(p[\"phylop\"] > 2.27, 1, 0)"
   ]
  },
  {
   "cell_type": "code",
   "execution_count": 15,
   "id": "b1673ad4-f90b-42f1-9f49-b36a91973913",
   "metadata": {},
   "outputs": [],
   "source": [
    "# Regions, ignoring constraint annotation\n",
    "r = (\n",
    "    p.groupby(\"region\")\n",
    "    .agg(phylop=(\"phylop\",\"mean\"), n=(\"phylop\",\"count\"))\n",
    "    .assign(constraint=\"all\")\n",
    "    .reset_index(drop=False)\n",
    ")\n",
    "\n",
    "# Regions and constraint annotation\n",
    "rc = (\n",
    "    p.groupby([\"region\",\"constraint\"])\n",
    "    .agg(phylop=(\"phylop\",\"mean\"), n=(\"phylop\",\"count\"))\n",
    "    .reset_index(drop=False)    \n",
    ")\n",
    "\n",
    "# Combine\n",
    "_p = pd.concat([rc,r])\n",
    "_p[\"ci95\"] = 1.96 * se(_p[\"phylop\"], _p[\"n\"])\n",
    "\n",
    "# Write out\n",
    "_p.to_csv(\"../outputs/stats_phylop.tsv\", sep=\"\\t\", index=False)"
   ]
  },
  {
   "cell_type": "markdown",
   "id": "c2085642-c00b-474c-8f10-e6f389d969dd",
   "metadata": {},
   "source": [
    "### HMC\n",
    "Calculate the proportion of sites in each group where HMC < 1"
   ]
  },
  {
   "cell_type": "code",
   "execution_count": 16,
   "id": "375eee30-667c-42f3-a91a-654341916fd0",
   "metadata": {},
   "outputs": [],
   "source": [
    "# Find sites where HMC < 1\n",
    "h = df[[\"region\", \"hmc\", \"constraint\"]].copy().dropna(subset=\"hmc\")\n",
    "h[\"hmc\"] = np.where(h[\"hmc\"] < 1, 1, 0)"
   ]
  },
  {
   "cell_type": "code",
   "execution_count": 17,
   "id": "43637d65-ab60-4dfd-922f-92133c74da7b",
   "metadata": {},
   "outputs": [],
   "source": [
    "# Regions, ignoring constraint annotation\n",
    "r = (\n",
    "    h.groupby(\"region\")\n",
    "    .agg(hmc=(\"hmc\",\"mean\"), n=(\"hmc\",\"count\"))\n",
    "    .assign(constraint=\"all\")\n",
    "    .reset_index(drop=False)\n",
    ")\n",
    "\n",
    "# Regions and constraint annotation\n",
    "rc = (\n",
    "    h.groupby([\"region\",\"constraint\"])\n",
    "    .agg(hmc=(\"hmc\",\"mean\"), n=(\"hmc\",\"count\"))\n",
    "    .reset_index(drop=False)    \n",
    ")\n",
    "\n",
    "# Combine\n",
    "_h = pd.concat([rc,r])\n",
    "_h[\"ci95\"] = 1.96 * se(_h[\"hmc\"], _h[\"n\"])\n",
    "\n",
    "# Write out\n",
    "_h.to_csv(\"../outputs/stats_hmc.tsv\", sep=\"\\t\", index=False)"
   ]
  },
  {
   "cell_type": "markdown",
   "id": "825bd13d-b541-49a6-a7b4-56c4fb88760f",
   "metadata": {},
   "source": [
    "### pext\n",
    "Calculate the mean pext of sites in each group"
   ]
  },
  {
   "cell_type": "code",
   "execution_count": 18,
   "id": "c360631d-22cb-4618-a095-7fd963ac95aa",
   "metadata": {},
   "outputs": [],
   "source": [
    "# Find sites with a pext annotation\n",
    "x = df[[\"region\", \"pext\", \"constraint\"]].copy().dropna(subset=\"pext\")"
   ]
  },
  {
   "cell_type": "code",
   "execution_count": 19,
   "id": "98d48461-b292-4174-811a-ae16f293f46e",
   "metadata": {},
   "outputs": [],
   "source": [
    "# Regions, ignoring constraint annotation\n",
    "r = (\n",
    "    x.groupby(\"region\")\n",
    "    .agg(pext=(\"pext\", \"mean\"), n=(\"pext\",\"count\"), sem=(\"pext\", \"sem\"))\n",
    "    .assign(constraint=\"all\")\n",
    "    .reset_index(drop=False)\n",
    ")\n",
    "\n",
    "# Regions and constraint annotation\n",
    "rc = (\n",
    "    x.groupby([\"region\",\"constraint\"])\n",
    "    .agg(pext=(\"pext\", \"mean\"), n=(\"pext\",\"count\"), sem=(\"pext\", \"sem\"))\n",
    "    .reset_index(drop=False)\n",
    ")\n",
    "\n",
    "# Combine\n",
    "_x = pd.concat([rc,r])\n",
    "_x[\"ci95\"] = 1.96 * _x[\"sem\"]\n",
    "_x = _x.drop(\"sem\", axis=1)\n",
    "\n",
    "# Write out\n",
    "_x.to_csv(\"../outputs/stats_pext.tsv\", sep=\"\\t\", index=False)"
   ]
  }
 ],
 "metadata": {
  "kernelspec": {
   "display_name": "Python 3 (ipykernel)",
   "language": "python",
   "name": "python3"
  },
  "language_info": {
   "codemirror_mode": {
    "name": "ipython",
    "version": 3
   },
   "file_extension": ".py",
   "mimetype": "text/x-python",
   "name": "python",
   "nbconvert_exporter": "python",
   "pygments_lexer": "ipython3",
   "version": "3.8.16"
  }
 },
 "nbformat": 4,
 "nbformat_minor": 5
}
