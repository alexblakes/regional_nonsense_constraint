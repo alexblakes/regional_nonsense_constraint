{
 "cells": [
  {
   "cell_type": "markdown",
   "id": "a71a598e-9d6d-45d1-9cd5-94276a88f24e",
   "metadata": {},
   "source": [
    "# Parse genemap2.txt\n",
    "This script parses the genemap2.txt file and restructures it into tidy format.\n",
    "In particular, the \"phenotype\" annotations within genemap2 are nested, and require manipulation to extract phenotype and inheritance annotations for each entry.\n",
    "\n",
    "Notes:\n",
    "- Entries without a phenotype annotation are dropped. These are unlikely to be interesting to us.\n",
    "- Where an entry / gene is associated with more than one phenotype, the data has been reformated to long (tidy) format. There is one phenotype in each row. Entries / genes may be duplicated.\n",
    "- Only the phenotype and inheritance data has been extracted from the phenotype string. Other data within the string is lost.\n",
    "- Many phenotypes do not have an inheritance annotation. This is even true for some phenotypes where the inheritance is explicitly given in the phenotype name (see below for example). This is a limitation of the OMIM data which this script does not address.\n",
    "- Non-disease, susceptibility, and provisional phenotypes are still included in the end output. "
   ]
  },
  {
   "cell_type": "code",
   "execution_count": 1,
   "id": "b4be44c7-e13f-4ac5-8033-dc3180795bd8",
   "metadata": {
    "tags": []
   },
   "outputs": [],
   "source": [
    "# Import modules\n",
    "import numpy as np\n",
    "import pandas as pd\n",
    "import re"
   ]
  },
  {
   "cell_type": "code",
   "execution_count": 2,
   "id": "85185ebc-bafa-4bba-851b-d90d23d76521",
   "metadata": {
    "tags": []
   },
   "outputs": [],
   "source": [
    "def read_gm(path):\n",
    "    \"\"\"Read genemap2.txt file into memory\"\"\"\n",
    "    gm = pd.read_csv(\n",
    "        path,\n",
    "        sep=\"\\t\",\n",
    "        comment=\"#\",\n",
    "        header=None,\n",
    "        names=[\n",
    "            \"chr\",\n",
    "            \"start\",\n",
    "            \"end\",\n",
    "            \"cyto_loc\",\n",
    "            \"calc_cyto_loc\",\n",
    "            \"mim\",\n",
    "            \"symbol\",\n",
    "            \"gene_name\",\n",
    "            \"approved_symbol\",\n",
    "            \"entrez\",\n",
    "            \"ensg\",\n",
    "            \"comment\",\n",
    "            \"phenotype_string\",\n",
    "            \"mouse\",\n",
    "        ],\n",
    "    )\n",
    "    return gm"
   ]
  },
  {
   "cell_type": "code",
   "execution_count": 3,
   "id": "7a69211b-e6ab-4919-82c8-6c222be25f6a",
   "metadata": {
    "tags": []
   },
   "outputs": [],
   "source": [
    "def split_phenotypes(gm):\n",
    "    \"\"\"Split phenotype data within genemap2\"\"\"\n",
    "\n",
    "    # Phenotype data is nested, separated by \";\"\n",
    "    gm[\"phenotype_string\"] = gm.phenotype_string.str.split(\";\")\n",
    "    gm = gm.explode(\"phenotype_string\", ignore_index=True)\n",
    "\n",
    "    # Drop entries with no associated phenotype\n",
    "    # These will rarely be interesting\n",
    "    gm = gm.dropna(subset=\"phenotype_string\")\n",
    "\n",
    "    # Print summary statistics\n",
    "    print(f\"Number of gene-phenotype pairs: {len(gm)}\")\n",
    "\n",
    "    return gm"
   ]
  },
  {
   "cell_type": "code",
   "execution_count": 4,
   "id": "811e2add-5beb-4782-86a0-ebdf633db821",
   "metadata": {},
   "outputs": [],
   "source": [
    "def match_re(string, _re):\n",
    "    \"\"\"Find phenotypes strings matching a regular expression\"\"\"\n",
    "    string = string.strip()\n",
    "    return re.match(_re, string)"
   ]
  },
  {
   "cell_type": "code",
   "execution_count": 5,
   "id": "ea185289-a16c-4ae0-a6ed-5c911236e815",
   "metadata": {},
   "outputs": [],
   "source": [
    "def parse_long_phenotypes(gm):\n",
    "    \"\"\"Parse the phenotype and inheritance data within the phenotype_string column.\n",
    "    Phenotypes have either long or short string entries.\n",
    "    These are treated differently.\n",
    "    The regular expressions to parse long and short strings are taken from\n",
    "    OMIM's GeneMap2.txt Parser, available at\n",
    "    https://github.com/OMIM-org/genemap2-parser/tree/master\n",
    "    \"\"\"\n",
    "\n",
    "    re_long = r\"^(.*),\\s(\\d{6})\\s\\((\\d)\\)(|, (.*))$\"\n",
    "\n",
    "    # Find long phenotype strings matching the regular expression\n",
    "    pheno_long = gm.phenotype_string.apply(match_re, _re=re_long).dropna().to_frame()\n",
    "    print(f\"Number of long phenotype entries: {len(pheno_long)}\")\n",
    "\n",
    "    # Parse the phenotype strings to extract the phenotype and inheritance annotation\n",
    "    pheno_long[\"phenotype\"] = pheno_long.phenotype_string.apply(lambda x: x.group(1))\n",
    "    pheno_long[\"inheritance\"] = pheno_long.phenotype_string.apply(lambda x: x.group(5))\n",
    "\n",
    "    # Some entries have multiple inheritance annotations.\n",
    "    # \"Explode\" on inheritance, so the data is in tidy format.\n",
    "    pheno_long[\"inheritance\"] = pheno_long.inheritance.str.split(\", \")\n",
    "    pheno_long = pheno_long.explode(\"inheritance\")\n",
    "\n",
    "    # Replace None with np.nan\n",
    "    pheno_long = pheno_long.fillna(np.nan)\n",
    "\n",
    "    # Drop the now unnecessary \"phenotype_string\" column\n",
    "    pheno_long = pheno_long.drop(\"phenotype_string\", axis=1)\n",
    "\n",
    "    # Print summary statistics\n",
    "    print(f\"Number of long phenotypes with distinct inheritance: {len(pheno_long)}\")\n",
    "    print(\n",
    "        f\"Number of phenotypes lacking an inheritance annotation: {pheno_long.inheritance.isna().sum()}\"\n",
    "    )\n",
    "\n",
    "    return pheno_long"
   ]
  },
  {
   "cell_type": "code",
   "execution_count": 6,
   "id": "208ad104-a803-4b79-a25f-548e46e2c1a1",
   "metadata": {
    "tags": []
   },
   "outputs": [],
   "source": [
    "def parse_short_phenotypes(gm, pheno_long):\n",
    "    \"\"\"Parse the phenotype and inheritance data within the phenotype_string column.\n",
    "    Phenotypes have either long or short string entries.\n",
    "    These are treated differently.\n",
    "    The regular expressions to parse long and short strings are taken from\n",
    "    OMIM's GeneMap2.txt Parser, available at\n",
    "    https://github.com/OMIM-org/genemap2-parser/tree/master\n",
    "    \"\"\"\n",
    "\n",
    "    re_short = r\"^(.*)\\((\\d)\\)(|, (.*))$\"\n",
    "\n",
    "    # Find short phenotype strings matching the regular expression.\n",
    "    # Entries matching the long expression need to be excluded.\n",
    "    pheno_short = (\n",
    "        gm.loc[~gm.index.isin(pheno_long.index), \"phenotype_string\"]\n",
    "        .apply(match_re, _re=re_short)\n",
    "        .to_frame()\n",
    "    )\n",
    "\n",
    "    print(f\"Number of short phenotype entries: {len(pheno_short)}\")\n",
    "\n",
    "    # Parse the phenotype strings to extract the phenotype and inheritance annotation\n",
    "    pheno_short[\"phenotype\"] = pheno_short.phenotype_string.apply(lambda x: x.group(1))\n",
    "    pheno_short[\"inheritance\"] = pheno_short.phenotype_string.apply(\n",
    "        lambda x: x.group(3)\n",
    "    )\n",
    "\n",
    "    # Drop the unnecessary \"phenotype_string\" column\n",
    "    pheno_short = pheno_short.drop(\"phenotype_string\", axis=1)\n",
    "\n",
    "    # Replace empty inheritance annotations with NA\n",
    "    pheno_short = pheno_short.replace(\"\", np.nan)\n",
    "\n",
    "    print(\n",
    "        f\"Number of short entries lacking an inheritance annotation {pheno_short.inheritance.isna().sum()}\"\n",
    "    )\n",
    "\n",
    "    return pheno_short"
   ]
  },
  {
   "cell_type": "markdown",
   "id": "7df29675-aff2-4ea6-aca0-bbca7b156b23",
   "metadata": {},
   "source": [
    "Entries with short phenotype strings (in pheno_short, above) are always missing an inheritance annotation. This is even true where the inheritance is explicitly given in the phenotype (e.g. \"Deafness, autosomal recessive\" is a phenotype, but has no associated inheritance annotation. Search MIM 603324 online to see this example.)\n",
    "\n",
    "This is a striking limitation of the OMIM data."
   ]
  },
  {
   "cell_type": "code",
   "execution_count": 7,
   "id": "cf7561ac-759e-4b31-9f23-b749690f0300",
   "metadata": {
    "tags": []
   },
   "outputs": [],
   "source": [
    "def concat_phenotypes(pheno_long, pheno_short):\n",
    "    \"\"\"Concatenate the long and short phenotype data\"\"\"\n",
    "\n",
    "    pheno = pd.concat([pheno_long, pheno_short])\n",
    "    \n",
    "    # Print summary statistics\n",
    "    print(\n",
    "        f\"Number of non-disease phenotypes {pheno.phenotype.str.startswith('[').sum()}\"\n",
    "    )\n",
    "    print(\n",
    "        f\"Number of susceptibility phenotypes {pheno.phenotype.str.startswith('{').sum()}\"\n",
    "    )\n",
    "    print(\n",
    "        f\"Number of provisional phenotypes {pheno.phenotype.str.startswith('?').sum()}\"\n",
    "    )\n",
    "    print(\"\\nValue counts of inheritance modes:\")\n",
    "    print(f\"{pheno.inheritance.value_counts()}\")\n",
    "    \n",
    "    return pheno"
   ]
  },
  {
   "cell_type": "markdown",
   "id": "0e958069-d87f-49a7-8350-1e93379c5f13",
   "metadata": {},
   "source": [
    "There are more genes associated with autosomal recessive disorders than autosomal dominant disorders.\n",
    "\n",
    "The X-linked disorders are split between recessive and dominant.\n",
    "\n",
    "There is only one disorder with mitochondrial inheritance!"
   ]
  },
  {
   "cell_type": "code",
   "execution_count": 8,
   "id": "d9ed4d6e-8e0d-46e6-a19a-dfe864359501",
   "metadata": {},
   "outputs": [],
   "source": [
    "def merge_and_tidy_genemap_phenotypes(gm, pheno):\n",
    "    \"\"\"Merge the phenotype annotations with the genemap data.\n",
    "    Save to output.\n",
    "    \"\"\"\n",
    "    gm = gm.drop(\"phenotype_string\", axis=1)\n",
    "    gm = gm.merge(pheno, left_index=True, right_index=True)\n",
    "\n",
    "    return gm"
   ]
  },
  {
   "cell_type": "code",
   "execution_count": 9,
   "id": "7acf1193-b504-4461-8bee-b9d77d52349d",
   "metadata": {
    "tags": []
   },
   "outputs": [
    {
     "name": "stdout",
     "output_type": "stream",
     "text": [
      "Number of gene-phenotype pairs: 8628\n",
      "Number of long phenotype entries: 8516\n",
      "Number of long phenotypes with distinct inheritance: 8883\n",
      "Number of phenotypes lacking an inheritance annotation: 1309\n",
      "Number of short phenotype entries: 112\n",
      "Number of short entries lacking an inheritance annotation 112\n",
      "Number of non-disease phenotypes 228\n",
      "Number of susceptibility phenotypes 1200\n",
      "Number of provisional phenotypes 673\n",
      "\n",
      "Value counts of inheritance modes:\n",
      "Autosomal recessive                3721\n",
      "Autosomal dominant                 3127\n",
      "X-linked recessive                  248\n",
      "X-linked                            107\n",
      "X-linked dominant                    91\n",
      "Multifactorial                       85\n",
      "Somatic mutation                     76\n",
      "Isolated cases                       52\n",
      "Digenic dominant                     18\n",
      "Digenic recessive                    17\n",
      "?Autosomal dominant                  11\n",
      "Y-linked                              7\n",
      "Somatic mosaicism                     6\n",
      "?X-linked recessive                   2\n",
      "Pseudoautosomal dominant              2\n",
      "Pseudoautosomal recessive             2\n",
      "Mitochondrial                         1\n",
      "Inherited chromosomal imbalance       1\n",
      "Name: inheritance, dtype: int64\n"
     ]
    }
   ],
   "source": [
    "if __name__ == \"__main__\":\n",
    "    \n",
    "    # Define file paths\n",
    "    genemap_path = \"../data/genemap2.txt\"\n",
    "    output_path = \"../outputs/genemap2_parsed.tsv\"\n",
    "    \n",
    "    # Parse genemap2.txt file\n",
    "    gm = read_gm(genemap_path).pipe(split_phenotypes)\n",
    "    pheno_long = parse_long_phenotypes(gm)\n",
    "    pheno_short = parse_short_phenotypes(gm, pheno_long)\n",
    "    pheno = concat_phenotypes(pheno_long, pheno_short)\n",
    "    gm = merge_and_tidy_genemap_phenotypes(gm, pheno)\n",
    "    \n",
    "    # Write to output\n",
    "    gm.to_csv(output_path, sep=\"\\t\", index=False)"
   ]
  }
 ],
 "metadata": {
  "kernelspec": {
   "display_name": "Python [conda env:ukb]",
   "language": "python",
   "name": "conda-env-ukb-py"
  },
  "language_info": {
   "codemirror_mode": {
    "name": "ipython",
    "version": 3
   },
   "file_extension": ".py",
   "mimetype": "text/x-python",
   "name": "python",
   "nbconvert_exporter": "python",
   "pygments_lexer": "ipython3",
   "version": "3.8.16"
  }
 },
 "nbformat": 4,
 "nbformat_minor": 5
}
