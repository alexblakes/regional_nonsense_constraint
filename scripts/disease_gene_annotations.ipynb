{
 "cells": [
  {
   "cell_type": "markdown",
   "id": "2e9d17ee-c9a8-4983-a5f7-ffe55bfd7de8",
   "metadata": {},
   "source": [
    "# Disease gene annotations\n",
    "This script annotates constrained genes with disease annotations from OMIM."
   ]
  },
  {
   "cell_type": "markdown",
   "id": "7845193b-65ed-4e91-b461-3ad77bd15eaa",
   "metadata": {},
   "source": [
    "## Preliminaries"
   ]
  },
  {
   "cell_type": "code",
   "execution_count": 1,
   "id": "a75d9daa-a57a-48b8-bb30-5eb04ef71cf5",
   "metadata": {},
   "outputs": [],
   "source": [
    "import numpy as np\n",
    "import pandas as pd\n",
    "import seaborn as sns\n",
    "\n",
    "sns.set_context(\"talk\")"
   ]
  },
  {
   "cell_type": "markdown",
   "id": "1246baff-20b0-4be7-96fe-9e051d834d61",
   "metadata": {},
   "source": [
    "### Read the data"
   ]
  },
  {
   "cell_type": "code",
   "execution_count": 27,
   "id": "1e1baefc-d161-4a44-ba12-6cf816c7dbc8",
   "metadata": {},
   "outputs": [],
   "source": [
    "names = ([\"chr\",\"start\",\"end\", \"Cyto Location\", \"Computed Cyto Location\", \"mim\", \n",
    "          \"Gene Symbols\", \"Gene Name\", \"hgnc\",\"Entrez Gene ID\",\"ensg\",\"Comments\",\n",
    "          \"phenotypes\", \"Mouse Gene Symbol/ID\",]\n",
    "        )\n",
    "omim = pd.read_csv(\"../data/omim_genemap2.txt\", sep=\"\\t\", comment=\"#\", header=None, names=names,)\n",
    "omim = omim[~omim.ensg.isna()]"
   ]
  },
  {
   "cell_type": "code",
   "execution_count": null,
   "id": "793fc7e6-f87a-43aa-b0d4-a37f76fdd24c",
   "metadata": {},
   "outputs": [],
   "source": []
  }
 ],
 "metadata": {
  "kernelspec": {
   "display_name": "Python 3 (ipykernel)",
   "language": "python",
   "name": "python3"
  },
  "language_info": {
   "codemirror_mode": {
    "name": "ipython",
    "version": 3
   },
   "file_extension": ".py",
   "mimetype": "text/x-python",
   "name": "python",
   "nbconvert_exporter": "python",
   "pygments_lexer": "ipython3",
   "version": "3.8.16"
  }
 },
 "nbformat": 4,
 "nbformat_minor": 5
}
