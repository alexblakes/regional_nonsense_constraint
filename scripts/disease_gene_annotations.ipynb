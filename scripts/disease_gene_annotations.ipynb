{
 "cells": [
  {
   "cell_type": "markdown",
   "id": "2e9d17ee-c9a8-4983-a5f7-ffe55bfd7de8",
   "metadata": {},
   "source": [
    "# Disease gene annotations\n",
    "This script annotates constrained genes with disease annotations from OMIM."
   ]
  },
  {
   "cell_type": "markdown",
   "id": "7845193b-65ed-4e91-b461-3ad77bd15eaa",
   "metadata": {},
   "source": [
    "## Preliminaries"
   ]
  },
  {
   "cell_type": "code",
   "execution_count": 1,
   "id": "a75d9daa-a57a-48b8-bb30-5eb04ef71cf5",
   "metadata": {},
   "outputs": [],
   "source": [
    "import numpy as np\n",
    "import pandas as pd\n",
    "import seaborn as sns\n",
    "\n",
    "sns.set_context(\"talk\")"
   ]
  },
  {
   "cell_type": "markdown",
   "id": "1246baff-20b0-4be7-96fe-9e051d834d61",
   "metadata": {},
   "source": [
    "### Read the data"
   ]
  },
  {
   "cell_type": "code",
   "execution_count": 133,
   "id": "d6b7cf43-3405-4f50-8655-ace332869b2e",
   "metadata": {},
   "outputs": [],
   "source": [
    "names = ([\"chr\",\"start\",\"end\", \"Cyto Location\", \"Computed Cyto Location\", \"mim\", \n",
    "          \"Gene Symbols\", \"Gene Name\", \"hgnc\",\"Entrez Gene ID\",\"ensg\",\"Comments\",\n",
    "          \"phenotypes\", \"Mouse Gene Symbol/ID\",]\n",
    "        )\n",
    "usecols = ([\"chr\",\"mim\",\"hgnc\",\"ensg\",\"Comments\",\"phenotypes\"])\n",
    "\n",
    "gene = pd.read_csv(\"../data/omim_genemap2.txt\",\n",
    "                   sep=\"\\t\",\n",
    "                   comment=\"#\", \n",
    "                   header=None,\n",
    "                   names=names,\n",
    "                   usecols=usecols,\n",
    "                  )\n",
    "gene = gene.fillna(\"\")"
   ]
  },
  {
   "cell_type": "code",
   "execution_count": 134,
   "id": "af9be692-86fd-463f-bbf1-3b77e3054925",
   "metadata": {},
   "outputs": [
    {
     "data": {
      "text/plain": [
       "(16618, 6)"
      ]
     },
     "execution_count": 134,
     "metadata": {},
     "output_type": "execute_result"
    }
   ],
   "source": [
    "m1 = gene.phenotypes.str.startswith(\"[\")\n",
    "m2 = gene.phenotypes.str.startswith(\"{\")\n",
    "m3 = gene.phenotypes.str.startswith(\"?\")\n",
    "m4 = gene.phenotypes.str.contains(\", somatic\")\n",
    "\n",
    "gene = gene[(~(m1 | m2 | m3)) & ~m4]\n",
    "\n",
    "gene.shape"
   ]
  },
  {
   "cell_type": "code",
   "execution_count": 173,
   "id": "793fc7e6-f87a-43aa-b0d4-a37f76fdd24c",
   "metadata": {},
   "outputs": [],
   "source": [
    "names = [\"phenotype\",\"Gene Symbols\",\"mim\",\"Cyto Location\"]\n",
    "usecols = [\"phenotype\", \"mim\"]\n",
    "morbid = pd.read_csv(\"../data/omim_morbidmap.txt\", \n",
    "                     sep=\"\\t\",\n",
    "                     comment=\"#\", \n",
    "                     header=None,\n",
    "                     names=names,\n",
    "                     usecols=usecols\n",
    "                    )\n",
    "\n",
    "m1 = morbid.phenotype.str.startswith(\"[\")\n",
    "m2 = morbid.phenotype.str.startswith(\"{\")\n",
    "m3 = morbid.phenotype.str.startswith(\"?\")\n",
    "m4 = morbid.phenotype.str.endswith(\"(3)\") # The molecular basis of the disorder is known\n",
    "m5 = morbid.phenotype.str.contains(\", somatic\")\n",
    "\n",
    "morbid = morbid[(~(m1 | m2 | m3)) & m4 & ~m5]\n",
    "\n"
   ]
  },
  {
   "cell_type": "code",
   "execution_count": 158,
   "id": "82c7603d-4437-4d9f-b249-69600480e0b0",
   "metadata": {},
   "outputs": [],
   "source": [
    "names = [\"mim\",\"entry_type\",\"entrez\",\"hgnc\",\"ensg\"]\n",
    "usecols = [\"mim\",\"hgnc\",\"ensg\"]\n",
    "mim = pd.read_csv(\"../data/omim_mim2gene.txt\", \n",
    "                  sep=\"\\t\",\n",
    "                  comment=\"#\", \n",
    "                  header=None,\n",
    "                  names=names,\n",
    "                  usecols=usecols,\n",
    "                 )"
   ]
  },
  {
   "cell_type": "code",
   "execution_count": 169,
   "id": "a81740fd-610b-4b97-a615-848b3cc07a21",
   "metadata": {},
   "outputs": [],
   "source": [
    "df = morbid.merge(mim, how=\"left\")"
   ]
  },
  {
   "cell_type": "code",
   "execution_count": null,
   "id": "42812e14-33a5-4e19-bfc7-582c205e7b47",
   "metadata": {},
   "outputs": [],
   "source": []
  }
 ],
 "metadata": {
  "kernelspec": {
   "display_name": "Python 3 (ipykernel)",
   "language": "python",
   "name": "python3"
  },
  "language_info": {
   "codemirror_mode": {
    "name": "ipython",
    "version": 3
   },
   "file_extension": ".py",
   "mimetype": "text/x-python",
   "name": "python",
   "nbconvert_exporter": "python",
   "pygments_lexer": "ipython3",
   "version": "3.8.16"
  }
 },
 "nbformat": 4,
 "nbformat_minor": 5
}
