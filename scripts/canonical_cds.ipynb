{
 "cells": [
  {
   "cell_type": "markdown",
   "id": "fa512290-3f8c-48e1-a3d9-24917419ccd6",
   "metadata": {},
   "source": [
    "# Canonical CDS\n",
    "This script defines the coordinates of the CDS for canonical transcript in a\n",
    "GENCODE annotation.\n",
    "It takes a GENCODE .gtf file as input.\n",
    "It gives a .bed output for each of the desired features."
   ]
  },
  {
   "cell_type": "markdown",
   "id": "ecf40b4d-847c-4cff-a3d8-09402d449550",
   "metadata": {},
   "source": [
    "## Preliminaries"
   ]
  },
  {
   "cell_type": "code",
   "execution_count": 1,
   "id": "eb1a4a27-f37d-4b3a-b5b0-14994d267f9a",
   "metadata": {
    "tags": []
   },
   "outputs": [],
   "source": [
    "# Import modules\n",
    "import numpy as np\n",
    "import pandas as pd\n",
    "import gtfparse"
   ]
  },
  {
   "cell_type": "code",
   "execution_count": 2,
   "id": "baa8e404-8543-4dd1-8251-70f58ffadae2",
   "metadata": {
    "tags": []
   },
   "outputs": [],
   "source": [
    "%%bash\n",
    "# Download data\n",
    "dx download -f -o ../data/ data/gencode.v39.annotation.gtf"
   ]
  },
  {
   "cell_type": "markdown",
   "id": "ef22f4ed-884e-4b2d-ae7f-fef33074459b",
   "metadata": {},
   "source": [
    "## Functions"
   ]
  },
  {
   "cell_type": "code",
   "execution_count": 3,
   "id": "b0238b0f-b902-4095-837b-c6ce766ed80e",
   "metadata": {
    "tags": []
   },
   "outputs": [],
   "source": [
    "def get_gencode_gtf(path):\n",
    "    \"\"\"Read a GENCODE .gtf into memory with gtfparse\"\"\"\n",
    "    gtf = gtfparse.read_gtf(path)\n",
    "    return gtf"
   ]
  },
  {
   "cell_type": "code",
   "execution_count": 4,
   "id": "0d4486c9-cc44-420d-af18-1e5a5cf959d0",
   "metadata": {
    "tags": []
   },
   "outputs": [],
   "source": [
    "def get_canonical_cds(gtf):\n",
    "    \"\"\"Identify all CDS features in each Ensembl_canonical from GENCODE\"\"\"\n",
    "\n",
    "    # Subset to Ensembl_canonical CDS features in protein coding genes\n",
    "    canonical_cds = gtf[\n",
    "        (gtf.feature == \"CDS\")\n",
    "        & (gtf.tag.str.contains(\"Ensembl_canonical\"))\n",
    "        & (gtf.gene_type == \"protein_coding\")\n",
    "    ].copy()\n",
    "\n",
    "    return canonical_cds"
   ]
  },
  {
   "cell_type": "code",
   "execution_count": 5,
   "id": "cbc0a110-5e2a-4109-a009-8a36d6f85956",
   "metadata": {
    "tags": []
   },
   "outputs": [],
   "source": [
    "def annotate_exon_number(cds):\n",
    "    \"\"\"Count the number of CDS exons in each transcript\"\"\"\n",
    "    cds[\"exon_number\"] = cds[\"exon_number\"].astype(int)\n",
    "    cds[\"cds_number\"] = cds.groupby(\"transcript_id\")[\"exon_number\"].rank().astype(int)\n",
    "    return cds"
   ]
  },
  {
   "cell_type": "code",
   "execution_count": 6,
   "id": "a9fec30b-3bfe-4ccb-9455-45bbc73f788b",
   "metadata": {
    "tags": []
   },
   "outputs": [],
   "source": [
    "def gtf_to_bed(gtf, id_list):\n",
    "    \"\"\"Reformat a .gtf to .bed format.\n",
    "    Any identifiers (.gtf file column names) given in \"id_list\", will be included as\n",
    "    a comma-separated string in the bed id column.\n",
    "    \"\"\"\n",
    "    bed = gtf.copy()\n",
    "\n",
    "    # Give desired identifiers in the .bed id column, as a comma-separated string\n",
    "    bed[\"id\"] = bed[id_list].apply(\n",
    "        lambda row: \",\".join(row.values.astype(\"str\")),\n",
    "        axis=1,\n",
    "    )\n",
    "\n",
    "    # Reformat to .bed\n",
    "    bed.loc[:, \"score\"] = \".\"\n",
    "    bed.loc[:, \"start\"] = bed[\"start\"] - 1\n",
    "    bed = (\n",
    "        bed[[\"seqname\", \"start\", \"end\", \"id\", \"score\", \"strand\"]]\n",
    "        .copy()\n",
    "        .sort_values(by=[\"seqname\", \"start\"])\n",
    "        .drop_duplicates()\n",
    "    )\n",
    "\n",
    "    return bed"
   ]
  },
  {
   "cell_type": "code",
   "execution_count": 7,
   "id": "60d82644-4770-4552-9b38-6b4482b62e52",
   "metadata": {
    "tags": []
   },
   "outputs": [],
   "source": [
    "def write_bed(bed, path, chr_prefix=\"chr\"):\n",
    "    \"\"\"Write a .bed file to output.\n",
    "    Specify the chr_prefix; either \"chr\" (GRCh38) or \"\" (GRCh37).\n",
    "    \"\"\"\n",
    "    # Add or remove the \"chr\" prefix\n",
    "    bed = bed.copy()\n",
    "    bed[\"seqname\"] = chr_prefix + bed[\"seqname\"].str.slice(start=3)\n",
    "\n",
    "    # Write to output\n",
    "    bed.to_csv(path, sep=\"\\t\", header=False, index=False)\n",
    "\n",
    "    return bed"
   ]
  },
  {
   "cell_type": "code",
   "execution_count": 8,
   "id": "24d1b858-4eb9-410c-b25d-dc694ef3f53e",
   "metadata": {
    "tags": []
   },
   "outputs": [
    {
     "name": "stderr",
     "output_type": "stream",
     "text": [
      "/home/alex/miniconda3/ukb/lib/python3.8/site-packages/gtfparse/read_gtf.py:82: FutureWarning: The error_bad_lines argument has been deprecated and will be removed in a future version. Use on_bad_lines in the future.\n",
      "\n",
      "\n",
      "  chunk_iterator = pd.read_csv(\n",
      "/home/alex/miniconda3/ukb/lib/python3.8/site-packages/gtfparse/read_gtf.py:82: FutureWarning: The warn_bad_lines argument has been deprecated and will be removed in a future version. Use on_bad_lines in the future.\n",
      "\n",
      "\n",
      "  chunk_iterator = pd.read_csv(\n",
      "INFO:root:Extracted GTF attributes: ['gene_id', 'gene_type', 'gene_name', 'level', 'hgnc_id', 'havana_gene', 'transcript_id', 'transcript_type', 'transcript_name', 'transcript_support_level', 'tag', 'havana_transcript', 'exon_number', 'exon_id', 'ont', 'protein_id', 'ccdsid']\n"
     ]
    }
   ],
   "source": [
    "if __name__ == \"__main__\":\n",
    "    # Read GTF data\n",
    "    gencode_path = \"../data/gencode.v39.annotation.gtf\"\n",
    "    gtf = get_gencode_gtf(gencode_path)\n",
    "\n",
    "    # Define regions of interest\n",
    "    cds = get_canonical_cds(gtf).pipe(annotate_exon_number)\n",
    "\n",
    "    # Save intermediate outputs\n",
    "    ## Canonical transcript list\n",
    "    pd.Series(cds.transcript_id.unique()).to_csv(\n",
    "        \"../outputs/canonical_transcripts.txt\", sep=\"\\t\", index=False, header=False\n",
    "    )\n",
    "    ## ENSG, ENST, and HGNC symbols\n",
    "    cds[[\"gene_id\", \"transcript_id\", \"gene_name\"]].drop_duplicates().to_csv(\n",
    "        \"../outputs/gene_ids.tsv\", sep=\"\\t\", index=False\n",
    "    )\n",
    "\n",
    "    # Convert .gtf data to .bed format\n",
    "    bed_ids = [\"gene_id\", \"transcript_id\", \"exon_id\", \"cds_number\"]\n",
    "    cds_bed = gtf_to_bed(cds, bed_ids)\n",
    "\n",
    "    # Write to output\n",
    "    gencode_version = \"v39\"\n",
    "    feature = \"cds\"\n",
    "    out_path_chr = f\"../outputs/gencode_{gencode_version}_canonical_{feature}_chr.bed\"\n",
    "\n",
    "    write_bed(cds_bed, out_path_chr, \"chr\")"
   ]
  }
 ],
 "metadata": {
  "kernelspec": {
   "display_name": "Python [conda env:ukb]",
   "language": "python",
   "name": "conda-env-ukb-py"
  },
  "language_info": {
   "codemirror_mode": {
    "name": "ipython",
    "version": 3
   },
   "file_extension": ".py",
   "mimetype": "text/x-python",
   "name": "python",
   "nbconvert_exporter": "python",
   "pygments_lexer": "ipython3",
   "version": "3.8.16"
  }
 },
 "nbformat": 4,
 "nbformat_minor": 5
}
