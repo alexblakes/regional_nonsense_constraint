{
 "cells": [
  {
   "cell_type": "markdown",
   "id": "a71a598e-9d6d-45d1-9cd5-94276a88f24e",
   "metadata": {},
   "source": [
    "# OMIM annotation of constrained genes"
   ]
  },
  {
   "cell_type": "code",
   "execution_count": 1,
   "id": "b4be44c7-e13f-4ac5-8033-dc3180795bd8",
   "metadata": {
    "tags": []
   },
   "outputs": [],
   "source": [
    "import numpy as np\n",
    "import pandas as pd\n",
    "import re"
   ]
  },
  {
   "cell_type": "code",
   "execution_count": 2,
   "id": "85185ebc-bafa-4bba-851b-d90d23d76521",
   "metadata": {
    "tags": []
   },
   "outputs": [],
   "source": [
    "gm_columns = [\n",
    "    \"chr\",\n",
    "    \"start\",\n",
    "    \"end\",\n",
    "    \"cl\",\n",
    "    \"ccl\",\n",
    "    \"mim\",\n",
    "    \"symbol\",\n",
    "    \"gene_name\",\n",
    "    \"approved_symbol\",\n",
    "    \"entrez\",\n",
    "    \"ensg\",\n",
    "    \"comment\",\n",
    "    \"phenotype\",\n",
    "    \"mouse\",\n",
    "]\n",
    "\n",
    "gm = pd.read_csv(\n",
    "    \"../data/genemap2.txt\",\n",
    "    sep=\"\\t\",\n",
    "    comment=\"#\",\n",
    "    header=None,\n",
    "    names=gm_columns,\n",
    "    usecols=[\"ensg\", \"approved_symbol\", \"mim\", \"phenotype\"],\n",
    ")"
   ]
  },
  {
   "cell_type": "code",
   "execution_count": 3,
   "id": "7a69211b-e6ab-4919-82c8-6c222be25f6a",
   "metadata": {
    "tags": []
   },
   "outputs": [],
   "source": [
    "gm[\"phenotype\"] = gm.phenotype.str.split(\";\")\n",
    "gm = gm.explode(\"phenotype\", ignore_index=True)\n",
    "\n",
    "gm = gm.dropna(subset=[\"ensg\", \"phenotype\"])"
   ]
  },
  {
   "cell_type": "code",
   "execution_count": 4,
   "id": "208ad104-a803-4b79-a25f-548e46e2c1a1",
   "metadata": {
    "tags": []
   },
   "outputs": [],
   "source": [
    "re_long = r\"^(.*),\\s(\\d{6})\\s\\((\\d)\\)(|, (.*))$\"\n",
    "re_short = r\"^(.*)\\((\\d)\\)(|, (.*))$\"\n",
    "\n",
    "def match_re(string, _re):\n",
    "    string = string.strip()\n",
    "    return re.match(_re, string)"
   ]
  },
  {
   "cell_type": "code",
   "execution_count": 5,
   "id": "6d1d38ed-9a08-433d-818f-5a334a2cc55d",
   "metadata": {
    "tags": []
   },
   "outputs": [],
   "source": [
    "pheno_long = gm.phenotype.apply(match_re, _re=re_long).dropna().to_frame()\n",
    "\n",
    "pheno_long[\"phen\"] = pheno_long.phenotype.apply(lambda x: x.group(1))\n",
    "pheno_long[\"inheritance\"] = pheno_long.phenotype.apply(lambda x: x.group(5))"
   ]
  },
  {
   "cell_type": "code",
   "execution_count": 6,
   "id": "7e93e225-eba3-489a-8ae1-9130b6c5c486",
   "metadata": {
    "tags": []
   },
   "outputs": [
    {
     "name": "stdout",
     "output_type": "stream",
     "text": [
      "Number of gene-phenotype pairs: 7420\n",
      "Number of long phenotype entries: 7315\n",
      "Number of short phenotype entries: 105\n"
     ]
    }
   ],
   "source": [
    "pheno_short = (\n",
    "    gm.loc[~gm.index.isin(pheno_long.index), \"phenotype\"]\n",
    "    .apply(match_re, _re=re_short)\n",
    "    .to_frame()\n",
    ")\n",
    "pheno_long[\"phen\"] = pheno_long.phenotype.apply(lambda x: x.group(1))\n",
    "pheno_long[\"inheritance\"] = pheno_long.phenotype.apply(lambda x: x.group(5))\n",
    "\n",
    "print(f\"Number of gene-phenotype pairs: {len(gm)}\")\n",
    "print(f\"Number of long phenotype entries: {len(pheno_long)}\")\n",
    "print(f\"Number of short phenotype entries: {len(pheno_short)}\")"
   ]
  }
 ],
 "metadata": {
  "kernelspec": {
   "display_name": "Python [conda env:ukb]",
   "language": "python",
   "name": "conda-env-ukb-py"
  },
  "language_info": {
   "codemirror_mode": {
    "name": "ipython",
    "version": 3
   },
   "file_extension": ".py",
   "mimetype": "text/x-python",
   "name": "python",
   "nbconvert_exporter": "python",
   "pygments_lexer": "ipython3",
   "version": "3.8.16"
  }
 },
 "nbformat": 4,
 "nbformat_minor": 5
}
