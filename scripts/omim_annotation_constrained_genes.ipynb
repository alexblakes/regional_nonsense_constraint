{
 "cells": [
  {
   "cell_type": "markdown",
   "id": "a71a598e-9d6d-45d1-9cd5-94276a88f24e",
   "metadata": {},
   "source": [
    "# OMIM annotation of constrained genes"
   ]
  },
  {
   "cell_type": "code",
   "execution_count": 1,
   "id": "b4be44c7-e13f-4ac5-8033-dc3180795bd8",
   "metadata": {
    "tags": []
   },
   "outputs": [],
   "source": [
    "import numpy as np\n",
    "import pandas as pd\n",
    "import re"
   ]
  },
  {
   "cell_type": "code",
   "execution_count": 2,
   "id": "85185ebc-bafa-4bba-851b-d90d23d76521",
   "metadata": {
    "tags": []
   },
   "outputs": [],
   "source": [
    "def read_gm(path):\n",
    "    \"\"\"Read genemap2.txt file into memory\"\"\"\n",
    "    gm = pd.read_csv(\n",
    "        path,\n",
    "        sep=\"\\t\",\n",
    "        comment=\"#\",\n",
    "        header=None,\n",
    "        names=gm_columns,\n",
    "    )\n",
    "    return gm"
   ]
  },
  {
   "cell_type": "code",
   "execution_count": 3,
   "id": "7a69211b-e6ab-4919-82c8-6c222be25f6a",
   "metadata": {
    "tags": []
   },
   "outputs": [
    {
     "name": "stdout",
     "output_type": "stream",
     "text": [
      "Number of gene-phenotype pairs: 8628\n"
     ]
    }
   ],
   "source": [
    "def\n",
    "gm[\"phenotype_string\"] = gm.phenotype_string.str.split(\";\")\n",
    "gm = gm.explode(\"phenotype_string\", ignore_index=True)\n",
    "gm = gm.dropna(subset=\"phenotype_string\")  # Drop entries with no associated phenotype\n",
    "\n",
    "print(f\"Number of gene-phenotype pairs: {len(gm)}\")"
   ]
  },
  {
   "cell_type": "code",
   "execution_count": 4,
   "id": "208ad104-a803-4b79-a25f-548e46e2c1a1",
   "metadata": {
    "tags": []
   },
   "outputs": [],
   "source": [
    "re_long = r\"^(.*),\\s(\\d{6})\\s\\((\\d)\\)(|, (.*))$\"\n",
    "re_short = r\"^(.*)\\((\\d)\\)(|, (.*))$\"\n",
    "\n",
    "\n",
    "def match_re(string, _re=re_long):\n",
    "    string = string.strip()\n",
    "    return re.match(_re, string)"
   ]
  },
  {
   "cell_type": "code",
   "execution_count": 5,
   "id": "2513fd03-3fe8-49da-8630-4917ed2e35b3",
   "metadata": {
    "tags": []
   },
   "outputs": [
    {
     "name": "stdout",
     "output_type": "stream",
     "text": [
      "Number of long phenotype entries: 8516\n"
     ]
    }
   ],
   "source": [
    "pheno_long = gm.phenotype_string.apply(match_re, _re=re_long).dropna().to_frame()\n",
    "\n",
    "print(f\"Number of long phenotype entries: {len(pheno_long)}\")"
   ]
  },
  {
   "cell_type": "code",
   "execution_count": 6,
   "id": "cfadb2ff-e32b-49b2-bf33-98b599e3bfb0",
   "metadata": {
    "tags": []
   },
   "outputs": [
    {
     "name": "stdout",
     "output_type": "stream",
     "text": [
      "Number of long phenotypes with distinct inheritance: 8883\n",
      "Number of phenotypes lacking an inheritance annotation: 1309\n"
     ]
    }
   ],
   "source": [
    "pheno_long[\"phenotype\"] = pheno_long.phenotype_string.apply(lambda x: x.group(1))\n",
    "pheno_long[\"inheritance\"] = pheno_long.phenotype_string.apply(\n",
    "    lambda x: x.group(5)\n",
    ").str.split(\", \")\n",
    "pheno_long = pheno_long.explode(\"inheritance\").drop(\"phenotype_string\", axis=1)\n",
    "\n",
    "print(f\"Number of long phenotypes with distinct inheritance: {len(pheno_long)}\")\n",
    "print(\n",
    "    f\"Number of phenotypes lacking an inheritance annotation: {pheno_long.inheritance.isna().sum()}\"\n",
    ")"
   ]
  },
  {
   "cell_type": "code",
   "execution_count": 7,
   "id": "cbea23e9-703a-4a66-b8d6-933e74ae23bd",
   "metadata": {
    "tags": []
   },
   "outputs": [
    {
     "name": "stdout",
     "output_type": "stream",
     "text": [
      "Number of short phenotype entries: 112\n",
      "Number of short entries lacking an inheritance annotation 112\n"
     ]
    }
   ],
   "source": [
    "pheno_short = (\n",
    "    gm.loc[~gm.index.isin(pheno_long.index), \"phenotype_string\"]\n",
    "    .apply(match_re, _re=re_short)\n",
    "    .to_frame()\n",
    ")\n",
    "\n",
    "print(f\"Number of short phenotype entries: {len(pheno_short)}\")\n",
    "\n",
    "pheno_short[\"phenotype\"] = pheno_short.phenotype_string.apply(lambda x: x.group(1))\n",
    "pheno_short[\"inheritance\"] = pheno_short.phenotype_string.apply(lambda x: x.group(3))\n",
    "pheno_short = pheno_short.drop(\"phenotype_string\", axis=1)\n",
    "\n",
    "print(\n",
    "    f\"Number of short entries lacking an inheritance annotation {(pheno_short.inheritance=='').sum()}\"\n",
    ")\n",
    "\n",
    "pheno_short = pheno_short.replace(\"\", np.nan)"
   ]
  },
  {
   "cell_type": "markdown",
   "id": "7df29675-aff2-4ea6-aca0-bbca7b156b23",
   "metadata": {},
   "source": [
    "Entries with short phenotype strings (in pheno_short, above) are always missing an inheritance annotation. This is even true where the inheritance is explicitly given in the phenotype (e.g. \"Deafness, autosomal recessive\" is a phenotype, but has no associated inheritance annotation).\n",
    "\n",
    "This is a striking limitation of the OMIM data."
   ]
  },
  {
   "cell_type": "code",
   "execution_count": 8,
   "id": "cf7561ac-759e-4b31-9f23-b749690f0300",
   "metadata": {
    "tags": []
   },
   "outputs": [],
   "source": [
    "pheno = pd.concat([pheno_long, pheno_short])"
   ]
  },
  {
   "cell_type": "code",
   "execution_count": 9,
   "id": "94d191d0-9f3c-40df-9b7d-b6a14aec6f40",
   "metadata": {
    "tags": []
   },
   "outputs": [
    {
     "name": "stdout",
     "output_type": "stream",
     "text": [
      "Number of non-disease phenotypes 159\n",
      "Number of susceptibility phenotypes 794\n",
      "Number of provisional phenotypes 645\n",
      "\n",
      "Value counts of inheritance modes:\n"
     ]
    },
    {
     "data": {
      "text/plain": [
       "Autosomal recessive          3610\n",
       "Autosomal dominant           2758\n",
       "X-linked recessive            220\n",
       "X-linked                       76\n",
       "Somatic mutation               74\n",
       "X-linked dominant              70\n",
       "Multifactorial                 52\n",
       "Digenic dominant               18\n",
       "Digenic recessive              17\n",
       "Isolated cases                  8\n",
       "Somatic mosaicism               5\n",
       "?Autosomal dominant             4\n",
       "Y-linked                        3\n",
       "Pseudoautosomal dominant        2\n",
       "Pseudoautosomal recessive       2\n",
       "Mitochondrial                   1\n",
       "Name: inheritance, dtype: int64"
      ]
     },
     "execution_count": 9,
     "metadata": {},
     "output_type": "execute_result"
    }
   ],
   "source": [
    "print(f\"Number of non-disease phenotypes {pheno.phenotype.str.startswith('[').sum()}\")\n",
    "print(\n",
    "    f\"Number of susceptibility phenotypes {pheno.phenotype.str.startswith('{').sum()}\"\n",
    ")\n",
    "print(f\"Number of provisional phenotypes {pheno.phenotype.str.startswith('?').sum()}\")\n",
    "\n",
    "print(\"\\nValue counts of inheritance modes:\")\n",
    "pheno.inheritance.value_counts()"
   ]
  },
  {
   "cell_type": "markdown",
   "id": "0e958069-d87f-49a7-8350-1e93379c5f13",
   "metadata": {},
   "source": [
    "There are more genes associated with autosomal recessive disorders than autosomal dominant disorders.\n",
    "\n",
    "The X-linked disorders are split between recessive and dominant.\n",
    "\n",
    "There is only one disorder with mitochondrial inheritance!"
   ]
  },
  {
   "cell_type": "code",
   "execution_count": null,
   "id": "468e2091-8ec3-4e25-addc-120a3418bfe3",
   "metadata": {},
   "outputs": [],
   "source": [
    "def main():\n",
    "    gm_path = \"../data/genemap2.txt\"\n",
    "    gm_columns = [\n",
    "        \"chr\",\n",
    "        \"start\",\n",
    "        \"end\",\n",
    "        \"cyto_loc\",\n",
    "        \"calc_cyto_loc\",\n",
    "        \"mim\",\n",
    "        \"symbol\",\n",
    "        \"gene_name\",\n",
    "        \"approved_symbol\",\n",
    "        \"entrez\",\n",
    "        \"ensg\",\n",
    "        \"comment\",\n",
    "        \"phenotype_string\",\n",
    "        \"mouse\",\n",
    "    ]\n",
    "    read_gm(gm_path).pipe()"
   ]
  }
 ],
 "metadata": {
  "kernelspec": {
   "display_name": "Python [conda env:ukb]",
   "language": "python",
   "name": "conda-env-ukb-py"
  },
  "language_info": {
   "codemirror_mode": {
    "name": "ipython",
    "version": 3
   },
   "file_extension": ".py",
   "mimetype": "text/x-python",
   "name": "python",
   "nbconvert_exporter": "python",
   "pygments_lexer": "ipython3",
   "version": "3.8.16"
  }
 },
 "nbformat": 4,
 "nbformat_minor": 5
}
