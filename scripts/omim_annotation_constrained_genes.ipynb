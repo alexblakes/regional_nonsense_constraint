{
 "cells": [
  {
   "cell_type": "markdown",
   "id": "a71a598e-9d6d-45d1-9cd5-94276a88f24e",
   "metadata": {},
   "source": [
    "# OMIM annotation of constrained genes"
   ]
  },
  {
   "cell_type": "code",
   "execution_count": 5,
   "id": "b4be44c7-e13f-4ac5-8033-dc3180795bd8",
   "metadata": {
    "tags": []
   },
   "outputs": [],
   "source": [
    "import numpy as np\n",
    "import pandas as pd\n",
    "import re"
   ]
  },
  {
   "cell_type": "code",
   "execution_count": 18,
   "id": "3449abda-8ae5-443f-a77f-76542d1601e5",
   "metadata": {
    "tags": []
   },
   "outputs": [],
   "source": [
    "gm_columns = [\n",
    "    \"chr\",\n",
    "    \"start\",\n",
    "    \"end\",\n",
    "    \"cl\",\n",
    "    \"ccl\",\n",
    "    \"mim\",\n",
    "    \"symbol\",\n",
    "    \"gene_name\",\n",
    "    \"approved_symbol\",\n",
    "    \"entrez\",\n",
    "    \"ensg\",\n",
    "    \"comment\",\n",
    "    \"phenotype\",\n",
    "    \"mouse\",\n",
    "]\n",
    "\n",
    "gm = pd.read_csv(\n",
    "    \"../data/genemap2.txt\",\n",
    "    sep=\"\\t\",\n",
    "    comment=\"#\",\n",
    "    header=None,\n",
    "    names=gm_columns,\n",
    "    usecols=[\"ensg\", \"approved_symbol\", \"mim\", \"phenotype\"],\n",
    ")\n",
    "gm = gm.dropna(subset=[\"ensg\", \"phenotype\"])\n",
    "\n",
    "gm[\"phenotype\"] = gm.phenotype.str.split(\";\")\n",
    "gm = gm.explode(\"phenotype\")\n",
    "\n",
    "re_long = r\"^(.*),\\s(\\d{6})\\s\\((\\d)\\)(|, (.*))$\"\n",
    "re_short = r\"^(.*)\\((\\d)\\)(|, (.*))$\"\n",
    "\n",
    "def match_re(string, _re = re_long):\n",
    "    string = string.strip()\n",
    "    return re.match(_re, string)\n",
    "\n",
    "pheno_long = gm.phenotype.apply(match_re, _re = re_long).dropna()\n",
    "pheno_short = gm.loc[gm.index.difference(pheno_long.index), \"phenotype\"].apply(match_re, _re = re_short)"
   ]
  },
  {
   "cell_type": "code",
   "execution_count": 19,
   "id": "1923a834-6080-48a0-a77d-fbcae4381c45",
   "metadata": {
    "tags": []
   },
   "outputs": [
    {
     "data": {
      "text/plain": [
       "(7420, 4)"
      ]
     },
     "execution_count": 19,
     "metadata": {},
     "output_type": "execute_result"
    }
   ],
   "source": [
    "gm.shape"
   ]
  },
  {
   "cell_type": "code",
   "execution_count": 20,
   "id": "ddcfcae6-e1c6-46fb-8000-d299bb0be027",
   "metadata": {
    "tags": []
   },
   "outputs": [
    {
     "data": {
      "text/plain": [
       "(7315,)"
      ]
     },
     "execution_count": 20,
     "metadata": {},
     "output_type": "execute_result"
    }
   ],
   "source": [
    "pheno_long.shape"
   ]
  },
  {
   "cell_type": "code",
   "execution_count": 21,
   "id": "db2a1853-3933-4ad3-b20d-21a6e0badd19",
   "metadata": {
    "tags": []
   },
   "outputs": [
    {
     "data": {
      "text/plain": [
       "(40,)"
      ]
     },
     "execution_count": 21,
     "metadata": {},
     "output_type": "execute_result"
    }
   ],
   "source": [
    "pheno_short.shape"
   ]
  },
  {
   "cell_type": "code",
   "execution_count": 23,
   "id": "4301540f-9c70-41a1-848c-4ef5be79c408",
   "metadata": {
    "tags": []
   },
   "outputs": [],
   "source": [
    "x = gm.phenotype.apply(match_re, _re = re_short)"
   ]
  },
  {
   "cell_type": "code",
   "execution_count": 24,
   "id": "59864641-57be-47a9-aad4-cf0d562351e8",
   "metadata": {
    "tags": []
   },
   "outputs": [
    {
     "data": {
      "text/plain": [
       "24    <re.Match object; span=(0, 52), match='Immunod...\n",
       "25    <re.Match object; span=(0, 103), match='Myasth...\n",
       "30    <re.Match object; span=(0, 53), match='?Immuno...\n",
       "32    <re.Match object; span=(0, 83), match='Ehlers-...\n",
       "32    <re.Match object; span=(0, 118), match='Spondy...\n",
       "Name: phenotype, dtype: object"
      ]
     },
     "execution_count": 24,
     "metadata": {},
     "output_type": "execute_result"
    }
   ],
   "source": [
    "x.head()"
   ]
  },
  {
   "cell_type": "code",
   "execution_count": 25,
   "id": "887ca1be-0bb8-48f8-9ebe-ae7871c611a2",
   "metadata": {
    "tags": []
   },
   "outputs": [
    {
     "data": {
      "text/plain": [
       "0"
      ]
     },
     "execution_count": 25,
     "metadata": {},
     "output_type": "execute_result"
    }
   ],
   "source": []
  },
  {
   "cell_type": "code",
   "execution_count": null,
   "id": "71c009f2-d6b3-40bf-8264-91d4b506f024",
   "metadata": {},
   "outputs": [],
   "source": []
  }
 ],
 "metadata": {
  "kernelspec": {
   "display_name": "Python [conda env:ukb]",
   "language": "python",
   "name": "conda-env-ukb-py"
  },
  "language_info": {
   "codemirror_mode": {
    "name": "ipython",
    "version": 3
   },
   "file_extension": ".py",
   "mimetype": "text/x-python",
   "name": "python",
   "nbconvert_exporter": "python",
   "pygments_lexer": "ipython3",
   "version": "3.8.16"
  }
 },
 "nbformat": 4,
 "nbformat_minor": 5
}
