{
 "cells": [
  {
   "cell_type": "markdown",
   "id": "deb24345-e971-4305-a5ff-b5703f9c44f1",
   "metadata": {},
   "source": [
    "# ClinVar variants in constrained transcripts\n",
    "This script describes LoF variants in ClinVar in transcripts with regional nonsense constraint"
   ]
  },
  {
   "cell_type": "markdown",
   "id": "be3813ee-478c-49d2-9f5e-4386ce75b9f0",
   "metadata": {},
   "source": [
    "## Preliminaries"
   ]
  },
  {
   "cell_type": "code",
   "execution_count": 1,
   "id": "353ad3f4-f141-40aa-bf87-cacfc8c019dc",
   "metadata": {
    "tags": []
   },
   "outputs": [],
   "source": [
    "# Import modules\n",
    "import numpy as np\n",
    "import pandas as pd\n",
    "import seaborn as sns\n",
    "\n",
    "sns.set_context(\"talk\")\n",
    "sns.set_palette(\"colorblind\")"
   ]
  },
  {
   "cell_type": "code",
   "execution_count": 2,
   "id": "5feb1ff0-85f5-46a5-8f65-4836525d2a56",
   "metadata": {
    "tags": []
   },
   "outputs": [],
   "source": [
    "%%bash\n",
    "# Download data\n",
    "dx download -f -o ../outputs/ outputs/nmd_annotations.tsv"
   ]
  },
  {
   "cell_type": "markdown",
   "id": "76504c68-f30f-470d-877e-e14dd3499bff",
   "metadata": {},
   "source": [
    "## VEP data\n",
    "Find unambiguous nonsense / frameshift variants"
   ]
  },
  {
   "cell_type": "code",
   "execution_count": 3,
   "id": "35e0cfb1-0146-4219-8a54-25e3314e2bcd",
   "metadata": {
    "tags": []
   },
   "outputs": [
    {
     "name": "stdout",
     "output_type": "stream",
     "text": [
      "Variants with a VEP annotation: 1958798\n"
     ]
    }
   ],
   "source": [
    "vep = (\n",
    "    pd.read_csv(\n",
    "        \"../outputs/clinvar_variants_vep.vcf\",\n",
    "        sep=\"\\t\",\n",
    "        comment=\"#\",\n",
    "        header=None,\n",
    "        names=[\"chr\", \"pos\", \"id\", \"ref\", \"alt\", \"qual\", \"filter\", \"info\"],\n",
    "        usecols=[\"chr\", \"pos\", \"ref\", \"alt\", \"info\"],\n",
    "    )\n",
    "    .replace(\".\", np.nan)\n",
    "    .dropna()\n",
    ")\n",
    "\n",
    "print(f\"Variants with a VEP annotation: {len(vep)}\")"
   ]
  },
  {
   "cell_type": "markdown",
   "id": "6f4573ad-ebfe-4b38-ac22-bfb589da12d2",
   "metadata": {},
   "source": [
    "### Extract annotations from the VCF INFO column"
   ]
  },
  {
   "cell_type": "code",
   "execution_count": 4,
   "id": "39ed36a5-692d-4239-9d7b-1cdba57b2268",
   "metadata": {
    "tags": []
   },
   "outputs": [],
   "source": [
    "i = (\n",
    "    vep[\"info\"]\n",
    "    .str.split(\"|\", expand=True)\n",
    "    .replace(\"\", np.nan)\n",
    "    .iloc[:, [1, 3, 4, 6]]\n",
    "    .rename(columns={1: \"csq\", 3: \"hgnc\", 4: \"ensg\", 6: \"enst\"})\n",
    ")"
   ]
  },
  {
   "cell_type": "markdown",
   "id": "0a7f07d5-e772-411b-b264-1d2e1e89f563",
   "metadata": {},
   "source": [
    "### Only unambiguous frameshifts / nonsense variants are kept"
   ]
  },
  {
   "cell_type": "code",
   "execution_count": 5,
   "id": "77849dd9-caa9-41bc-97fb-937839113b0a",
   "metadata": {
    "tags": []
   },
   "outputs": [
    {
     "name": "stdout",
     "output_type": "stream",
     "text": [
      "Nonsense variants retained: 43220\n",
      "Frameshift variants retained: 73724\n",
      "Total retained: 116944\n"
     ]
    }
   ],
   "source": [
    "i = i[(i.csq == \"stop_gained\") | (i.csq == \"frameshift_variant\")]\n",
    "\n",
    "print(f\"Nonsense variants retained: {(i.csq=='stop_gained').sum()}\")\n",
    "print(f\"Frameshift variants retained: {(i.csq=='frameshift_variant').sum()}\")\n",
    "print(f\"Total retained: {len(i)}\")"
   ]
  },
  {
   "cell_type": "markdown",
   "id": "265f283d-1cb5-4d79-9218-7415a162e129",
   "metadata": {},
   "source": [
    "### Tidy the VEP annotations"
   ]
  },
  {
   "cell_type": "code",
   "execution_count": 6,
   "id": "b382a645-7eea-4759-95d0-00020422b3cf",
   "metadata": {
    "tags": []
   },
   "outputs": [],
   "source": [
    "vep = vep.drop(\"info\", axis=1).merge(i, how=\"inner\", left_index=True, right_index=True)\n",
    "vep = vep[[\"hgnc\", \"ensg\", \"enst\", \"chr\", \"pos\", \"ref\", \"alt\", \"csq\"]]"
   ]
  },
  {
   "cell_type": "markdown",
   "id": "fd01667e-9de9-4018-9e95-7582191cb0d4",
   "metadata": {},
   "source": [
    "## ClinVar data"
   ]
  },
  {
   "cell_type": "code",
   "execution_count": 7,
   "id": "a683218a-4251-44a8-9309-90f2a891fc4d",
   "metadata": {
    "tags": []
   },
   "outputs": [],
   "source": [
    "cv = pd.read_csv(\"../outputs/clinvar_variants_selected.tsv\", sep=\"\\t\")"
   ]
  },
  {
   "cell_type": "markdown",
   "id": "9328a35d-2ecd-4d53-b5a2-a2e18a80518e",
   "metadata": {},
   "source": [
    "### Combine ACMG annotations"
   ]
  },
  {
   "cell_type": "code",
   "execution_count": 8,
   "id": "039f945f-9b47-4eef-adc2-f5233cabfd3f",
   "metadata": {
    "tags": []
   },
   "outputs": [],
   "source": [
    "cv = cv.replace(\n",
    "    {\n",
    "        \"Pathogenic\": \"P/LP\",\n",
    "        \"Likely pathogenic\": \"P/LP\",\n",
    "        \"Uncertain significance\": \"VUS\",\n",
    "        \"Benign\": \"B/LB\",\n",
    "        \"Likely benign\": \"B/LB\",\n",
    "    }\n",
    ")"
   ]
  },
  {
   "cell_type": "markdown",
   "id": "137d32b7-b096-4d4f-b902-23537230dcd6",
   "metadata": {},
   "source": [
    "### Split cases with multiple HGNC symbols"
   ]
  },
  {
   "cell_type": "code",
   "execution_count": 9,
   "id": "dd0d8b13-436c-4203-bd57-0da80825220e",
   "metadata": {
    "tags": []
   },
   "outputs": [],
   "source": [
    "cv[\"hgnc\"] = cv.hgnc.str.split(\";\")\n",
    "cv = cv.explode(\"hgnc\")"
   ]
  },
  {
   "cell_type": "markdown",
   "id": "bbc362be-dc0c-4398-867b-dca67319ed9a",
   "metadata": {},
   "source": [
    "## NMD annotations"
   ]
  },
  {
   "cell_type": "code",
   "execution_count": 10,
   "id": "f29680b4-4b41-4e78-a27e-2dcf09ceab21",
   "metadata": {
    "tags": []
   },
   "outputs": [],
   "source": [
    "nmd = (\n",
    "    pd.read_csv(\n",
    "        \"../outputs/nmd_annotations.tsv\",\n",
    "        sep=\"\\t\",\n",
    "        usecols=[\"chr\", \"pos\", \"transcript_id\", \"nmd_definitive\"],\n",
    "    )\n",
    "    .rename(columns={\"transcript_id\": \"enst\", \"nmd_definitive\": \"variant_region\"})\n",
    "    .replace({\"nmd_target\": \"nmd\", \"distal_nmd\": \"distal\"})\n",
    ")"
   ]
  },
  {
   "cell_type": "markdown",
   "id": "b1704c2c-baa4-4caf-8f32-2af8bb8ea2f1",
   "metadata": {},
   "source": [
    "## Constrained regions"
   ]
  },
  {
   "cell_type": "code",
   "execution_count": 11,
   "id": "369a1726-3242-462a-8af3-abd2ca8903b7",
   "metadata": {
    "tags": []
   },
   "outputs": [],
   "source": [
    "reg = pd.read_csv(\"../outputs/constrained_transcripts_all_regions.tsv\", sep=\"\\t\")"
   ]
  },
  {
   "cell_type": "markdown",
   "id": "25931c6f-0bcd-4892-9c09-6dee292567b9",
   "metadata": {},
   "source": [
    "### gnomAD constraint\n",
    "Find those genes with a pLI or LOEUF annotation"
   ]
  },
  {
   "cell_type": "code",
   "execution_count": 12,
   "id": "ea097eff-5904-4c2c-a7a2-2cec264956d5",
   "metadata": {
    "tags": []
   },
   "outputs": [],
   "source": [
    "m1 = reg.pli >= 0.9\n",
    "m2 = reg.loeuf <= 0.35\n",
    "\n",
    "reg.loc[~reg.pli.isna(), \"gnomad\"] = \"tolerant\"\n",
    "reg.loc[(m1 | m2), \"gnomad\"] = \"constrained\"  # Overwrites the line above"
   ]
  },
  {
   "cell_type": "markdown",
   "id": "201179c4-9483-48fb-abb7-934dd19a7a90",
   "metadata": {},
   "source": [
    "### Regional constraint\n",
    "Find those genes with regional nonsense constraint in UKB"
   ]
  },
  {
   "cell_type": "code",
   "execution_count": 13,
   "id": "ea2850b3-0a16-4c65-9082-71b7d51a5c59",
   "metadata": {
    "tags": []
   },
   "outputs": [],
   "source": [
    "regions = [\n",
    "    \"nmd\",\n",
    "    \"distal\",\n",
    "    \"long_exon\",\n",
    "]\n",
    "\n",
    "for region in regions:\n",
    "    m0 = reg[\"non_\" + region + \"_p\"] >= 0.001\n",
    "    m1 = reg[\"non_\" + region + \"_p\"] < 0.001\n",
    "    m2 = reg[\"non_\" + region + \"_p\"] < 0.01\n",
    "    m3 = reg[\"non_\" + region + \"_n_obs\"] == 0\n",
    "    m4 = reg[\"syn_\" + region + \"_z\"] > -1\n",
    "\n",
    "    reg.loc[m0 & m4, region] = \"tolerant\"\n",
    "    reg.loc[m4 & (m1 | (m2 & m3)), region] = \"constrained\""
   ]
  },
  {
   "cell_type": "markdown",
   "id": "e8591264-fa7d-44f6-b0db-f2f5d9e1ed99",
   "metadata": {},
   "source": [
    "## Merge NMD, VEP, and ClinVar annotations"
   ]
  },
  {
   "cell_type": "code",
   "execution_count": 14,
   "id": "d444dd2c-7b7f-4d51-af09-62e5ba2689dc",
   "metadata": {
    "tags": []
   },
   "outputs": [
    {
     "name": "stdout",
     "output_type": "stream",
     "text": [
      "Variants where the VEP annotation matches the ClinVar gene: 116786\n",
      "Variants in canonical transcripts with an NMD annotation: 116758\n"
     ]
    }
   ],
   "source": [
    "# VEP + CLinVar\n",
    "df = vep.merge(cv, how=\"inner\", on=[\"chr\", \"pos\", \"ref\", \"alt\", \"hgnc\"])\n",
    "print(f\"Variants where the VEP annotation matches the ClinVar gene: {len(df)}\")\n",
    "\n",
    "# ... + NMD\n",
    "df = df.merge(nmd, how=\"inner\")\n",
    "del nmd  # A large dataframe\n",
    "print(f\"Variants in canonical transcripts with an NMD annotation: {len(df)}\")\n",
    "\n",
    "# ... + regional constraint\n",
    "reg = reg[[\"enst\", \"gnomad\", \"nmd\", \"distal\", \"long_exon\"]]\n",
    "df = df.merge(reg, how=\"inner\")"
   ]
  },
  {
   "cell_type": "markdown",
   "id": "d9e1731b-1b19-419a-9c93-a9032d9c633c",
   "metadata": {},
   "source": [
    "### Save to output"
   ]
  },
  {
   "cell_type": "code",
   "execution_count": 15,
   "id": "b2b1bd8c-8a42-4a92-9b33-5eb7e7a6ce13",
   "metadata": {
    "tags": []
   },
   "outputs": [],
   "source": [
    "df.to_csv(\"../outputs/clinvar_variants_lof_with_nmd_annotation.tsv\", sep=\"\\t\", index=False)"
   ]
  }
 ],
 "metadata": {
  "kernelspec": {
   "display_name": "Python [conda env:ukb]",
   "language": "python",
   "name": "conda-env-ukb-py"
  },
  "language_info": {
   "codemirror_mode": {
    "name": "ipython",
    "version": 3
   },
   "file_extension": ".py",
   "mimetype": "text/x-python",
   "name": "python",
   "nbconvert_exporter": "python",
   "pygments_lexer": "ipython3",
   "version": "3.8.17"
  },
  "toc-autonumbering": false,
  "toc-showcode": false,
  "toc-showmarkdowntxt": false
 },
 "nbformat": 4,
 "nbformat_minor": 5
}
