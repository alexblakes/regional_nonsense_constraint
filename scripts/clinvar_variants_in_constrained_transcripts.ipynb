{
 "cells": [
  {
   "cell_type": "markdown",
   "id": "deb24345-e971-4305-a5ff-b5703f9c44f1",
   "metadata": {},
   "source": [
    "# ClinVar variants in constrained transcripts\n",
    "This script describes LoF variants in ClinVar in transcripts with regional nonsense constraint"
   ]
  },
  {
   "cell_type": "code",
   "execution_count": 1,
   "id": "353ad3f4-f141-40aa-bf87-cacfc8c019dc",
   "metadata": {
    "tags": []
   },
   "outputs": [],
   "source": [
    "import numpy as np\n",
    "import pandas as pd\n",
    "import seaborn as sns\n",
    "\n",
    "sns.set_context(\"talk\")"
   ]
  },
  {
   "cell_type": "code",
   "execution_count": 2,
   "id": "35e0cfb1-0146-4219-8a54-25e3314e2bcd",
   "metadata": {
    "tags": []
   },
   "outputs": [],
   "source": [
    "vep = (\n",
    "    pd.read_csv(\n",
    "        \"../outputs/clinvar_variants_vep.tsv\",\n",
    "        sep=\"\\t\",\n",
    "        comment=\"#\",\n",
    "        header=None,\n",
    "        names=[\"chr\", \"pos\", \"id\", \"ref\", \"alt\", \"qual\", \"filter\", \"info\"],\n",
    "        usecols=[\"chr\", \"pos\", \"ref\", \"alt\", \"info\"],\n",
    "    )\n",
    "    .replace(\".\", np.nan)\n",
    "    .dropna()\n",
    ")"
   ]
  },
  {
   "cell_type": "code",
   "execution_count": 3,
   "id": "bc56cbf8-1bf1-41a1-9c56-865b97a8554a",
   "metadata": {
    "tags": []
   },
   "outputs": [],
   "source": [
    "i = (\n",
    "    vep[\"info\"]\n",
    "    .str.split(\"|\", expand=True)\n",
    "    .replace(\"\", np.nan)\n",
    "    .iloc[:, [1, 3, 4, 6]]\n",
    "    .rename(columns={1: \"csq\", 3: \"hgnc\", 4: \"ensg\", 6: \"enst\"})\n",
    ")\n",
    "\n",
    "m1 = i.csq.str.contains(\"stop_gained\")\n",
    "m2 = i.csq.str.contains(\"frameshift\")\n",
    "\n",
    "i = i[m1 | m2]\n",
    "\n",
    "# These categories are simplistic; they capture many complex variant consequences...\n",
    "i.loc[m1, \"csq\"] = \"nonsense\"  # Not strictly nonsense SNVs\n",
    "i.loc[m2, \"csq\"] = \"frameshift\""
   ]
  },
  {
   "cell_type": "code",
   "execution_count": 4,
   "id": "b382a645-7eea-4759-95d0-00020422b3cf",
   "metadata": {
    "tags": []
   },
   "outputs": [],
   "source": [
    "vep = vep.drop(\"info\", axis=1).merge(i, how=\"inner\", left_index=True, right_index=True)\n",
    "vep = vep[[\"hgnc\", \"ensg\", \"enst\", \"chr\", \"pos\", \"ref\", \"alt\", \"csq\"]]"
   ]
  },
  {
   "cell_type": "code",
   "execution_count": 5,
   "id": "164170a3-6240-4fda-bdcd-c0ea45b95e76",
   "metadata": {
    "tags": []
   },
   "outputs": [],
   "source": [
    "cv = pd.read_csv(\"../outputs/clinvar_variants_selected.tsv\", sep=\"\\t\")\n",
    "cv[\"hgnc\"] = cv.hgnc.str.split(\";\")\n",
    "cv = cv.explode(\"hgnc\")"
   ]
  },
  {
   "cell_type": "code",
   "execution_count": 6,
   "id": "d444dd2c-7b7f-4d51-af09-62e5ba2689dc",
   "metadata": {
    "tags": []
   },
   "outputs": [],
   "source": [
    "df = vep.merge(cv, how=\"inner\", on=[\"chr\", \"pos\", \"ref\", \"alt\", \"hgnc\"])"
   ]
  }
 ],
 "metadata": {
  "kernelspec": {
   "display_name": "Python [conda env:ukb]",
   "language": "python",
   "name": "conda-env-ukb-py"
  },
  "language_info": {
   "codemirror_mode": {
    "name": "ipython",
    "version": 3
   },
   "file_extension": ".py",
   "mimetype": "text/x-python",
   "name": "python",
   "nbconvert_exporter": "python",
   "pygments_lexer": "ipython3",
   "version": "3.8.16"
  }
 },
 "nbformat": 4,
 "nbformat_minor": 5
}
