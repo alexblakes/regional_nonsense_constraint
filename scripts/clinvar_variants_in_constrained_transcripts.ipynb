{
 "cells": [
  {
   "cell_type": "markdown",
   "id": "deb24345-e971-4305-a5ff-b5703f9c44f1",
   "metadata": {},
   "source": [
    "# ClinVar variants in constrained transcripts\n",
    "This script describes LoF variants in ClinVar in transcripts with regional nonsense constraint"
   ]
  },
  {
   "cell_type": "code",
   "execution_count": 1,
   "id": "353ad3f4-f141-40aa-bf87-cacfc8c019dc",
   "metadata": {
    "tags": []
   },
   "outputs": [],
   "source": [
    "import numpy as np\n",
    "import pandas as pd\n",
    "import seaborn as sns\n",
    "\n",
    "sns.set_context(\"talk\")"
   ]
  },
  {
   "cell_type": "code",
   "execution_count": null,
   "id": "5feb1ff0-85f5-46a5-8f65-4836525d2a56",
   "metadata": {
    "tags": []
   },
   "outputs": [],
   "source": [
    "%%bash\n",
    "dx download -f -o ../outputs/ outputs/nmd_annotations.tsv"
   ]
  },
  {
   "cell_type": "code",
   "execution_count": 3,
   "id": "35e0cfb1-0146-4219-8a54-25e3314e2bcd",
   "metadata": {
    "tags": []
   },
   "outputs": [
    {
     "name": "stdout",
     "output_type": "stream",
     "text": [
      "Variants with a VEP annotation: 1958798\n"
     ]
    }
   ],
   "source": [
    "vep = (\n",
    "    pd.read_csv(\n",
    "        \"../outputs/clinvar_variants_vep.vcf\",\n",
    "        sep=\"\\t\",\n",
    "        comment=\"#\",\n",
    "        header=None,\n",
    "        names=[\"chr\", \"pos\", \"id\", \"ref\", \"alt\", \"qual\", \"filter\", \"info\"],\n",
    "        usecols=[\"chr\", \"pos\", \"ref\", \"alt\", \"info\"],\n",
    "    )\n",
    "    .replace(\".\", np.nan)\n",
    "    .dropna()\n",
    ")\n",
    "\n",
    "print(f\"Variants with a VEP annotation: {len(vep)}\")"
   ]
  },
  {
   "cell_type": "code",
   "execution_count": 4,
   "id": "39ed36a5-692d-4239-9d7b-1cdba57b2268",
   "metadata": {
    "tags": []
   },
   "outputs": [],
   "source": [
    "i = (\n",
    "    vep[\"info\"]\n",
    "    .str.split(\"|\", expand=True)\n",
    "    .replace(\"\", np.nan)\n",
    "    .iloc[:, [1, 3, 4, 6]]\n",
    "    .rename(columns={1: \"csq\", 3: \"hgnc\", 4: \"ensg\", 6: \"enst\"})\n",
    ")"
   ]
  },
  {
   "cell_type": "code",
   "execution_count": 5,
   "id": "77849dd9-caa9-41bc-97fb-937839113b0a",
   "metadata": {
    "tags": []
   },
   "outputs": [
    {
     "name": "stdout",
     "output_type": "stream",
     "text": [
      "Nonsense variants retained: 43220\n",
      "Frameshift variants retained: 73724\n",
      "Total LoF variants retained: 116944\n"
     ]
    }
   ],
   "source": [
    "# Only unambiguous frameshifts / nonsense variants are kept\n",
    "i = i[(i.csq == \"stop_gained\") | (i.csq == \"frameshift_variant\")]\n",
    "\n",
    "print(f\"Nonsense variants retained: {(i.csq=='stop_gained').sum()}\")\n",
    "print(f\"Frameshift variants retained: {(i.csq=='frameshift_variant').sum()}\")\n",
    "print(f\"Total retained: {len(i)}\")"
   ]
  },
  {
   "cell_type": "code",
   "execution_count": 6,
   "id": "b382a645-7eea-4759-95d0-00020422b3cf",
   "metadata": {
    "tags": []
   },
   "outputs": [],
   "source": [
    "vep = vep.drop(\"info\", axis=1).merge(i, how=\"inner\", left_index=True, right_index=True)\n",
    "vep = vep[[\"hgnc\", \"ensg\", \"enst\", \"chr\", \"pos\", \"ref\", \"alt\", \"csq\"]]"
   ]
  },
  {
   "cell_type": "code",
   "execution_count": 7,
   "id": "164170a3-6240-4fda-bdcd-c0ea45b95e76",
   "metadata": {
    "tags": []
   },
   "outputs": [],
   "source": [
    "cv = pd.read_csv(\"../outputs/clinvar_variants_selected.tsv\", sep=\"\\t\")\n",
    "cv[\"hgnc\"] = cv.hgnc.str.split(\";\")\n",
    "cv = cv.explode(\"hgnc\")"
   ]
  },
  {
   "cell_type": "code",
   "execution_count": 8,
   "id": "d444dd2c-7b7f-4d51-af09-62e5ba2689dc",
   "metadata": {
    "tags": []
   },
   "outputs": [
    {
     "name": "stdout",
     "output_type": "stream",
     "text": [
      "Variants where the VEP annotation matches the ClinVar gene: 116786\n"
     ]
    }
   ],
   "source": [
    "df = vep.merge(cv, how=\"inner\", on=[\"chr\", \"pos\", \"ref\", \"alt\", \"hgnc\"])\n",
    "\n",
    "print(f\"Variants where the VEP annotation matches the ClinVar gene: {len(df)}\")"
   ]
  },
  {
   "cell_type": "code",
   "execution_count": 9,
   "id": "c8382dd5-cf7a-4809-8dbd-58ecf66308d2",
   "metadata": {
    "tags": []
   },
   "outputs": [],
   "source": [
    "df_c = df.copy()"
   ]
  },
  {
   "cell_type": "code",
   "execution_count": 10,
   "id": "10cefda4-5a2b-403c-b4ea-7581ca70a915",
   "metadata": {
    "tags": []
   },
   "outputs": [],
   "source": [
    "df = df_c.copy()"
   ]
  },
  {
   "cell_type": "code",
   "execution_count": 11,
   "id": "f29680b4-4b41-4e78-a27e-2dcf09ceab21",
   "metadata": {
    "tags": []
   },
   "outputs": [],
   "source": [
    "nmd = pd.read_csv(\n",
    "    \"../outputs/nmd_annotations.tsv\",\n",
    "    sep=\"\\t\",\n",
    "    usecols=[\"chr\", \"pos\", \"transcript_id\", \"nmd_definitive\"],\n",
    ").rename(columns={\"transcript_id\": \"enst\", \"nmd_definitive\": \"nmd\"})"
   ]
  },
  {
   "cell_type": "code",
   "execution_count": 12,
   "id": "23c662a8-5669-473c-a060-fef277acc7e2",
   "metadata": {
    "tags": []
   },
   "outputs": [
    {
     "name": "stdout",
     "output_type": "stream",
     "text": [
      "Variants in canonical transcripts with an NMD annotation: 116758\n"
     ]
    }
   ],
   "source": [
    "df = df.merge(nmd, how=\"inner\")\n",
    "del nmd\n",
    "\n",
    "print(f\"Variants in canonical transcripts with an NMD annotation: {len(df)}\")"
   ]
  },
  {
   "cell_type": "code",
   "execution_count": null,
   "id": "369a1726-3242-462a-8af3-abd2ca8903b7",
   "metadata": {},
   "outputs": [],
   "source": []
  }
 ],
 "metadata": {
  "kernelspec": {
   "display_name": "Python [conda env:ukb]",
   "language": "python",
   "name": "conda-env-ukb-py"
  },
  "language_info": {
   "codemirror_mode": {
    "name": "ipython",
    "version": 3
   },
   "file_extension": ".py",
   "mimetype": "text/x-python",
   "name": "python",
   "nbconvert_exporter": "python",
   "pygments_lexer": "ipython3",
   "version": "3.8.16"
  }
 },
 "nbformat": 4,
 "nbformat_minor": 5
}
