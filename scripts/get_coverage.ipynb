{
 "metadata": {
  "language_info": {
   "name": "python",
   "version": "3.6.5",
   "mimetype": "text/x-python",
   "codemirror_mode": {
    "name": "ipython",
    "version": 3
   },
   "pygments_lexer": "ipython3",
   "nbconvert_exporter": "python",
   "file_extension": ".py"
  },
  "kernelspec": {
   "name": "python3",
   "display_name": "Python 3",
   "language": "python"
  }
 },
 "nbformat_minor": 4,
 "nbformat": 4,
 "cells": [
  {
   "cell_type": "markdown",
   "source": "## Run times in interactive session\nOn a mem1_hdd1_v2_x8 instance (?4 nodes):\n\n- 1 file, ~1100 rows, 38s\n- 2 files, 2489 rows, 148s\n- 4 files 5705 rows, 501s",
   "metadata": {}
  },
  {
   "cell_type": "code",
   "source": [
    "import os\n",
    "import numpy as np\n",
    "import pandas as pd\n",
    "from pyspark.sql import SparkSession\n",
    "import hail as hl\n",
    "\n",
    "builder = SparkSession.builder.enableHiveSupport()\n",
    "spark = builder.getOrCreate()\n",
    "hl.init(sc=spark.sparkContext)"
   ],
   "metadata": {
    "trusted": true
   },
   "execution_count": null,
   "outputs": []
  },
  {
   "cell_type": "code",
   "source": [
    "from hail.plot import show\n",
    "from pprint import pprint\n",
    "\n",
    "hl.plot.output_notebook()"
   ],
   "metadata": {
    "trusted": true
   },
   "execution_count": null,
   "outputs": []
  },
  {
   "cell_type": "code",
   "source": [
    "files = [f for f in os.listdir(\".\") if os.path.isfile(f)]\n",
    "split_file = [f for f in files if f.startswith(\"split_paths\")][0]\n",
    "print(split_file)\n",
    "\n",
    "file_list = [f.strip() for f in open(split_file)]"
   ],
   "metadata": {
    "trusted": true
   },
   "execution_count": null,
   "outputs": []
  },
  {
   "cell_type": "code",
   "source": [
    "file_url = \"file:///mnt/project/Bulk/Exome sequences_Alternative exome processing/Exome variant call files (gnomAD) (VCFs)/ukb24068_c1_b244_v1.vcf.gz\"\n",
    "second_file = \"file:///mnt/project/Bulk/Exome sequences_Alternative exome processing/Exome variant call files (gnomAD) (VCFs)/ukb24068_c1_b245_v1.vcf.gz\"\n",
    "two_files = [\n",
    "    \"file:///mnt/project/Bulk/Exome sequences_Alternative exome processing/Exome variant call files (gnomAD) (VCFs)/ukb24068_c1_b244_v1.vcf.gz\",\n",
    "    \"file:///mnt/project/Bulk/Exome sequences_Alternative exome processing/Exome variant call files (gnomAD) (VCFs)/ukb24068_c1_b245_v1.vcf.gz\",\n",
    "]\n",
    "three_files = [\n",
    "    \"file:///mnt/project/Bulk/Exome sequences_Alternative exome processing/Exome variant call files (gnomAD) (VCFs)/ukb24068_c1_b244_v1.vcf.gz\",\n",
    "    \"file:///mnt/project/Bulk/Exome sequences_Alternative exome processing/Exome variant call files (gnomAD) (VCFs)/ukb24068_c1_b245_v1.vcf.gz\",\n",
    "    \"file:///mnt/project/Bulk/Exome sequences_Alternative exome processing/Exome variant call files (gnomAD) (VCFs)/ukb24068_c1_b246_v1.vcf.gz\",\n",
    "]"
   ],
   "metadata": {
    "trusted": true
   },
   "execution_count": null,
   "outputs": []
  },
  {
   "cell_type": "code",
   "source": "# For iterative processing\n\"\"\"\n%%time\nfor file in file_list:\n    mt = hl.import_vcf(f\"file://{file}\", force_bgz=True, reference_genome=\"GRCh38\", array_elements_required=False)\n    mt = mt.annotate_rows(median_dp = hl.agg.approx_median(mt.DP))\n    dp_stats = mt.rows().select(\"median_dp\")\n    name = file.split(\"/\")[-1].split(\".\")[0]\n    %time dp_stats.export(f\"{name}_dp.tsv\", delimiter=\"\\t\")\n\"\"\"",
   "metadata": {
    "trusted": true
   },
   "execution_count": null,
   "outputs": []
  },
  {
   "cell_type": "code",
   "source": [
    "%%time\n",
    "# For collective processing\n",
    "\n",
    "name = f\"ukb24068_{split_file}\"\n",
    "\n",
    "mt = hl.import_vcf(\n",
    "    [f\"file://{file}\" for file in file_list],\n",
    "    force_bgz=True,\n",
    "    reference_genome=\"GRCh38\",\n",
    "    array_elements_required=False,\n",
    ")\n",
    "mt = mt.annotate_rows(median_dp=hl.agg.approx_median(mt.DP))\n",
    "dp_stats = mt.rows().select(\"median_dp\")\n",
    "name = file.split(\"/\")[-1].split(\".\")[0]\n",
    "%time dp_stats.export(f\"{name}_dp.tsv\", delimiter=\"\\t\")"
   ],
   "metadata": {
    "trusted": true
   },
   "execution_count": null,
   "outputs": []
  },
  {
   "cell_type": "markdown",
   "source": "%%bash\nhdfs dfs -get ukb24068_*",
   "metadata": {}
  },
  {
   "cell_type": "code",
   "source": "%%bash\ndx upload --destination /outputs/gnomad_coverage/split_coverage/ ukb24068_*",
   "metadata": {
    "trusted": true
   },
   "execution_count": null,
   "outputs": []
  },
  {
   "cell_type": "code",
   "source": "",
   "metadata": {},
   "execution_count": null,
   "outputs": []
  }
 ]
}