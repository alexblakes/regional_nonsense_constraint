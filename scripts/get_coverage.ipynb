{
 "cells": [
  {
   "cell_type": "markdown",
   "metadata": {},
   "source": [
    "## Run times in interactive session\n",
    "On a mem1_hdd1_v2_x8 instance (?4 nodes):\n",
    "\n",
    "- 1 file, ~1100 rows, 38s\n",
    "- 2 files, 2489 rows, 148s\n",
    "- 4 files 5705 rows, 501s"
   ]
  },
  {
   "cell_type": "code",
   "execution_count": null,
   "metadata": {},
   "outputs": [],
   "source": [
    "import os\n",
    "import numpy as np\n",
    "import pandas as pd\n",
    "from pyspark.sql import SparkSession\n",
    "import hail as hl\n",
    "\n",
    "builder = SparkSession.builder.enableHiveSupport()\n",
    "spark = builder.getOrCreate()\n",
    "hl.init(sc=spark.sparkContext)"
   ]
  },
  {
   "cell_type": "code",
   "execution_count": null,
   "metadata": {},
   "outputs": [],
   "source": [
    "from hail.plot import show\n",
    "from pprint import pprint\n",
    "\n",
    "hl.plot.output_notebook()"
   ]
  },
  {
   "cell_type": "code",
   "execution_count": null,
   "metadata": {},
   "outputs": [],
   "source": [
    "files = [f for f in os.listdir(\".\") if os.path.isfile(f)]\n",
    "split_file = [f for f in files if f.startswith(\"split_paths\")][0]\n",
    "print(split_file)\n",
    "\n",
    "file_list = [f.strip() for f in open(split_file)]"
   ]
  },
  {
   "cell_type": "code",
   "execution_count": null,
   "metadata": {},
   "outputs": [],
   "source": [
    "file_url = \"file:///mnt/project/Bulk/Exome sequences_Alternative exome processing/Exome variant call files (gnomAD) (VCFs)/ukb24068_c1_b244_v1.vcf.gz\"\n",
    "second_file = \"file:///mnt/project/Bulk/Exome sequences_Alternative exome processing/Exome variant call files (gnomAD) (VCFs)/ukb24068_c1_b245_v1.vcf.gz\"\n",
    "two_files = [\n",
    "    \"file:///mnt/project/Bulk/Exome sequences_Alternative exome processing/Exome variant call files (gnomAD) (VCFs)/ukb24068_c1_b244_v1.vcf.gz\",\n",
    "    \"file:///mnt/project/Bulk/Exome sequences_Alternative exome processing/Exome variant call files (gnomAD) (VCFs)/ukb24068_c1_b245_v1.vcf.gz\",\n",
    "]\n",
    "three_files = [\n",
    "    \"file:///mnt/project/Bulk/Exome sequences_Alternative exome processing/Exome variant call files (gnomAD) (VCFs)/ukb24068_c1_b244_v1.vcf.gz\",\n",
    "    \"file:///mnt/project/Bulk/Exome sequences_Alternative exome processing/Exome variant call files (gnomAD) (VCFs)/ukb24068_c1_b245_v1.vcf.gz\",\n",
    "    \"file:///mnt/project/Bulk/Exome sequences_Alternative exome processing/Exome variant call files (gnomAD) (VCFs)/ukb24068_c1_b246_v1.vcf.gz\",\n",
    "]"
   ]
  },
  {
   "cell_type": "code",
   "execution_count": null,
   "metadata": {},
   "outputs": [],
   "source": [
    "# For iterative processing\n",
    "\"\"\"\n",
    "%%time\n",
    "for file in file_list:\n",
    "    mt = hl.import_vcf(f\"file://{file}\", force_bgz=True, reference_genome=\"GRCh38\", array_elements_required=False)\n",
    "    mt = mt.annotate_rows(median_dp = hl.agg.approx_median(mt.DP))\n",
    "    dp_stats = mt.rows().select(\"median_dp\")\n",
    "    name = file.split(\"/\")[-1].split(\".\")[0]\n",
    "    %time dp_stats.export(f\"{name}_dp.tsv\", delimiter=\"\\t\")\n",
    "\"\"\""
   ]
  },
  {
   "cell_type": "code",
   "execution_count": null,
   "metadata": {},
   "outputs": [],
   "source": [
    "%%time\n",
    "# For collective processing\n",
    "\n",
    "name = f\"ukb24068_{split_file}\"\n",
    "\n",
    "mt = hl.import_vcf(\n",
    "    [f\"file://{file}\" for file in file_list],\n",
    "    force_bgz=True,\n",
    "    reference_genome=\"GRCh38\",\n",
    "    array_elements_required=False,\n",
    ")\n",
    "mt = mt.annotate_rows(median_dp=hl.agg.approx_median(mt.DP))\n",
    "dp_stats = mt.rows().select(\"median_dp\")\n",
    "name = file.split(\"/\")[-1].split(\".\")[0]\n",
    "%time dp_stats.export(f\"{name}_dp.tsv\", delimiter=\"\\t\", header=False)"
   ]
  },
  {
   "cell_type": "markdown",
   "metadata": {},
   "source": [
    "%%bash\n",
    "hdfs dfs -get ukb24068_*"
   ]
  },
  {
   "cell_type": "code",
   "execution_count": null,
   "metadata": {},
   "outputs": [],
   "source": [
    "%%bash\n",
    "dx upload --destination /outputs/gnomad_coverage/split_coverage/ ukb24068_*"
   ]
  },
  {
   "cell_type": "code",
   "execution_count": null,
   "metadata": {},
   "outputs": [],
   "source": []
  }
 ],
 "metadata": {
  "kernelspec": {
   "display_name": "Python 3 (ipykernel)",
   "language": "python",
   "name": "python3"
  },
  "language_info": {
   "codemirror_mode": {
    "name": "ipython",
    "version": 3
   },
   "file_extension": ".py",
   "mimetype": "text/x-python",
   "name": "python",
   "nbconvert_exporter": "python",
   "pygments_lexer": "ipython3",
   "version": "3.8.16"
  }
 },
 "nbformat": 4,
 "nbformat_minor": 4
}
