{
 "cells": [
  {
   "cell_type": "code",
   "execution_count": 1,
   "id": "fb3de707-6122-42dc-983a-7f5a1c471dea",
   "metadata": {
    "tags": []
   },
   "outputs": [],
   "source": [
    "import numpy as np\n",
    "import pandas as pd"
   ]
  },
  {
   "cell_type": "markdown",
   "id": "59dc5192-0892-4c03-87a1-91a6ff0f4bee",
   "metadata": {},
   "source": [
    "## OMIM phenotype data"
   ]
  },
  {
   "cell_type": "code",
   "execution_count": 24,
   "id": "1881aee8-96b7-419c-9323-535d0e7e3240",
   "metadata": {
    "tags": []
   },
   "outputs": [],
   "source": [
    "omim = (\n",
    "    pd.read_csv(\n",
    "        \"../outputs/genemap2_parsed.tsv\",\n",
    "        sep=\"\\t\",\n",
    "        usecols=[\"approved_symbol\", \"ensg\", \"phenotype\", \"inheritance\"],\n",
    "    )\n",
    "    .dropna(subset=\"ensg\")\n",
    "    .drop_duplicates()\n",
    ")"
   ]
  },
  {
   "cell_type": "code",
   "execution_count": 25,
   "id": "ec5fdedd-ce49-42c7-acda-0b02996a225a",
   "metadata": {
    "tags": []
   },
   "outputs": [
    {
     "name": "stdout",
     "output_type": "stream",
     "text": [
      "Non-disease entries: 159\n",
      "Susceptibility entries: 794\n",
      "Provisional entries: 645\n",
      "Entries remainining: 6159\n"
     ]
    }
   ],
   "source": [
    "# Exclude entries for susceptibility, provisional, and non disease phenotypes\n",
    "m1 = omim.phenotype.str.startswith(\"[\") # Non-disease\n",
    "m2 = omim.phenotype.str.startswith(\"{\") # Susceptibility\n",
    "m3 = omim.phenotype.str.startswith(\"?\") # Provisional\n",
    "\n",
    "masks = m1, m2, m3\n",
    "strings = [\"Non-disease\", \"Susceptibility\", \"Provisional\"]\n",
    "\n",
    "for m, s in zip(masks, strings):\n",
    "    print(f\"{s} entries: {m.sum()}\")\n",
    "    \n",
    "omim = omim[~(m1 | m2 | m3)]\n",
    "\n",
    "print(f\"Entries remainining: {len(omim)}\")"
   ]
  },
  {
   "cell_type": "markdown",
   "id": "7f5c55fd-618e-4961-a8be-4b7cb7c64456",
   "metadata": {},
   "source": [
    "## Genic constraint data\n",
    "\n",
    "Need to generate a reliable list of constrained transcripts / regions to work from."
   ]
  },
  {
   "cell_type": "code",
   "execution_count": 28,
   "id": "cb83f8db-d3e2-4772-9e76-e285ef662503",
   "metadata": {
    "tags": []
   },
   "outputs": [],
   "source": [
    "gc = pd.read_csv(\"\", sep=\"\\t\")"
   ]
  },
  {
   "cell_type": "code",
   "execution_count": null,
   "id": "0af21dca-de92-45e9-9d9a-3a1f1cf0371b",
   "metadata": {},
   "outputs": [],
   "source": []
  }
 ],
 "metadata": {
  "kernelspec": {
   "display_name": "Python [conda env:ukb]",
   "language": "python",
   "name": "conda-env-ukb-py"
  },
  "language_info": {
   "codemirror_mode": {
    "name": "ipython",
    "version": 3
   },
   "file_extension": ".py",
   "mimetype": "text/x-python",
   "name": "python",
   "nbconvert_exporter": "python",
   "pygments_lexer": "ipython3",
   "version": "3.8.16"
  }
 },
 "nbformat": 4,
 "nbformat_minor": 5
}
