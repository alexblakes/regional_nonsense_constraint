{
 "cells": [
  {
   "cell_type": "markdown",
   "id": "6bbc3b0d-afcc-4681-a2d2-93b7d4a41014",
   "metadata": {},
   "source": [
    "# OMIM annotations of constrained genes\n",
    "This script combines regional constraint annotations and OMIM phenotype / inheritance mode annotations.\n",
    "\n",
    "Note:\n",
    "- Non-disease phenotypes (e.g. provisional, or susceptibility phenotypes) are dropped\n",
    "- OMIM entries where inheritance information is missing are dropped\n",
    "- The inheritance patterns from OMIM are simplified here\n",
    "- Several genes have duplicate entries in OMIM (multiple phenotypes and / or inheritance modes). These genes are also duplicated in the merged annotation."
   ]
  },
  {
   "cell_type": "markdown",
   "id": "2b4fcb19-bee3-4cf3-a6c3-da136910f5c6",
   "metadata": {},
   "source": [
    "## Import modules"
   ]
  },
  {
   "cell_type": "code",
   "execution_count": 1,
   "id": "fb3de707-6122-42dc-983a-7f5a1c471dea",
   "metadata": {
    "tags": []
   },
   "outputs": [],
   "source": [
    "import numpy as np\n",
    "import pandas as pd"
   ]
  },
  {
   "cell_type": "markdown",
   "id": "59dc5192-0892-4c03-87a1-91a6ff0f4bee",
   "metadata": {},
   "source": [
    "## OMIM phenotype data\n",
    "Sanitised OMIM phenotype and inheritance data for each gene"
   ]
  },
  {
   "cell_type": "code",
   "execution_count": 2,
   "id": "1881aee8-96b7-419c-9323-535d0e7e3240",
   "metadata": {
    "tags": []
   },
   "outputs": [],
   "source": [
    "# Read data to memory\n",
    "omim = (\n",
    "    pd.read_csv(\n",
    "        \"../outputs/genemap2_parsed.tsv\",\n",
    "        sep=\"\\t\",\n",
    "        usecols=[\"ensg\", \"phenotype\", \"inheritance\"],\n",
    "    )\n",
    "    .dropna(subset=[\"ensg\", \"inheritance\"])  # Drop missing values\n",
    "    .drop_duplicates()\n",
    ")"
   ]
  },
  {
   "cell_type": "code",
   "execution_count": 3,
   "id": "ec5fdedd-ce49-42c7-acda-0b02996a225a",
   "metadata": {
    "tags": []
   },
   "outputs": [
    {
     "name": "stdout",
     "output_type": "stream",
     "text": [
      "The following entries are dropped:\n",
      "Non-disease entries: 84\n",
      "Susceptibility entries: 518\n",
      "Provisional entries: 623\n",
      "\n",
      "Entries remainining: 5693\n"
     ]
    }
   ],
   "source": [
    "# Exclude entries for susceptibility, provisional, and non disease phenotypes\n",
    "m1 = omim.phenotype.str.startswith(\"[\")  # Non-disease\n",
    "m2 = omim.phenotype.str.startswith(\"{\")  # Susceptibility\n",
    "m3 = omim.phenotype.str.startswith(\"?\")  # Provisional\n",
    "\n",
    "masks = m1, m2, m3\n",
    "strings = [\"Non-disease\", \"Susceptibility\", \"Provisional\"]\n",
    "\n",
    "print(\"The following entries are dropped:\")\n",
    "for m, s in zip(masks, strings):\n",
    "    print(f\"{s} entries: {m.sum()}\")\n",
    "\n",
    "omim = omim[~(m1 | m2 | m3)]\n",
    "\n",
    "print(f\"\\nEntries remainining: {len(omim)}\")"
   ]
  },
  {
   "cell_type": "code",
   "execution_count": 4,
   "id": "e0182bc6-e138-4610-9ce6-4fcb84128196",
   "metadata": {
    "tags": []
   },
   "outputs": [
    {
     "name": "stdout",
     "output_type": "stream",
     "text": [
      "Inheritance mode value counts:\n",
      "Autosomal recessive          3080\n",
      "Autosomal dominant           2215\n",
      "X-linked recessive            197\n",
      "X-linked                       66\n",
      "X-linked dominant              65\n",
      "Somatic mutation               25\n",
      "Digenic dominant               16\n",
      "Digenic recessive              11\n",
      "Isolated cases                  5\n",
      "Somatic mosaicism               5\n",
      "Multifactorial                  3\n",
      "Y-linked                        2\n",
      "?Autosomal dominant             1\n",
      "Pseudoautosomal dominant        1\n",
      "Pseudoautosomal recessive       1\n",
      "Name: inheritance, dtype: int64\n",
      "\n",
      "Inheritance mode value counts after sanitising:\n",
      "Autosomal recessive    3080\n",
      "Autosomal dominant     2215\n",
      "X-linked                328\n",
      "Other                    70\n",
      "Name: inheritance, dtype: int64\n"
     ]
    }
   ],
   "source": [
    "# Sanitise the inheritance modes.\n",
    "# Categorise as AD, AR, X-linked, or Other\n",
    "\n",
    "print(\"Inheritance mode value counts:\")\n",
    "print(omim.inheritance.value_counts())\n",
    "\n",
    "# Masks for filtering\n",
    "m1 = omim.inheritance.str.contains(\"X-linked\")\n",
    "m2 = omim.inheritance.str.startswith(\"Autosomal recessive\")\n",
    "m3 = omim.inheritance.str.startswith(\"Autosomal dominant\")\n",
    "\n",
    "omim.loc[m1, \"inheritance\"] = \"X-linked\"\n",
    "omim.loc[~(m1 | m2 | m3), \"inheritance\"] = \"Other\"\n",
    "\n",
    "print(\"\\nInheritance mode value counts after sanitising:\")\n",
    "print(omim.inheritance.value_counts())"
   ]
  },
  {
   "cell_type": "markdown",
   "id": "7f5c55fd-618e-4961-a8be-4b7cb7c64456",
   "metadata": {},
   "source": [
    "## Genic constraint data\n",
    "A list of constrained transcripts and regions"
   ]
  },
  {
   "cell_type": "code",
   "execution_count": 5,
   "id": "cb83f8db-d3e2-4772-9e76-e285ef662503",
   "metadata": {
    "tags": []
   },
   "outputs": [],
   "source": [
    "# Read to memory\n",
    "gc = pd.read_csv(\"../outputs/constrained_regions_labels.tsv\", sep=\"\\t\")"
   ]
  },
  {
   "cell_type": "markdown",
   "id": "6702a60d-a602-4f3f-aef1-6dedc701221d",
   "metadata": {},
   "source": [
    "## Gene IDs\n",
    "Match ENST, ENSG, and HGNC symbol identifiers"
   ]
  },
  {
   "cell_type": "code",
   "execution_count": 6,
   "id": "0af21dca-de92-45e9-9d9a-3a1f1cf0371b",
   "metadata": {},
   "outputs": [
    {
     "data": {
      "text/html": [
       "<div>\n",
       "<style scoped>\n",
       "    .dataframe tbody tr th:only-of-type {\n",
       "        vertical-align: middle;\n",
       "    }\n",
       "\n",
       "    .dataframe tbody tr th {\n",
       "        vertical-align: top;\n",
       "    }\n",
       "\n",
       "    .dataframe thead th {\n",
       "        text-align: right;\n",
       "    }\n",
       "</style>\n",
       "<table border=\"1\" class=\"dataframe\">\n",
       "  <thead>\n",
       "    <tr style=\"text-align: right;\">\n",
       "      <th></th>\n",
       "      <th>ensg</th>\n",
       "      <th>enst</th>\n",
       "      <th>symbol</th>\n",
       "    </tr>\n",
       "  </thead>\n",
       "  <tbody>\n",
       "    <tr>\n",
       "      <th>0</th>\n",
       "      <td>ENSG00000186092</td>\n",
       "      <td>ENST00000641515</td>\n",
       "      <td>OR4F5</td>\n",
       "    </tr>\n",
       "  </tbody>\n",
       "</table>\n",
       "</div>"
      ],
      "text/plain": [
       "              ensg             enst symbol\n",
       "0  ENSG00000186092  ENST00000641515  OR4F5"
      ]
     },
     "execution_count": 6,
     "metadata": {},
     "output_type": "execute_result"
    }
   ],
   "source": [
    "# Read to memory\n",
    "ids = pd.read_csv(\n",
    "    \"../outputs/gene_ids.tsv\",\n",
    "    sep=\"\\t\",\n",
    "    header=0,\n",
    "    names=[\"ensg\", \"enst\", \"symbol\"],\n",
    ")\n",
    "\n",
    "# Drop ENSG and ENST version numbers\n",
    "ids[\"ensg\"] = ids.ensg.str.split(\".\").str[0]\n",
    "ids[\"enst\"] = ids.enst.str.split(\".\").str[0]\n",
    "\n",
    "# Drop duplicate IDs\n",
    "ids = ids.drop_duplicates()\n",
    "\n",
    "# Show format of IDs\n",
    "ids.head(1)"
   ]
  },
  {
   "cell_type": "markdown",
   "id": "651391dd-b2c7-48d3-b102-285dfc6109e9",
   "metadata": {},
   "source": [
    "## Merge datasets"
   ]
  },
  {
   "cell_type": "code",
   "execution_count": 7,
   "id": "5ab35385-05fc-41c1-86dd-efc807e3aa3e",
   "metadata": {
    "tags": []
   },
   "outputs": [
    {
     "name": "stdout",
     "output_type": "stream",
     "text": [
      "Note that several genes have duplicate OMIM entries:\n",
      "OMIM entries: 5693\n",
      "Constraint entries: 46719\n",
      "Merged entries: 50584\n"
     ]
    }
   ],
   "source": [
    "# Merge datasets\n",
    "df = gc.merge(ids)  # Constraint and gene IDs\n",
    "df = df.merge(omim, how=\"left\") # OMIM annotations\n",
    "\n",
    "print(\"Note that several genes have duplicate OMIM entries:\")\n",
    "for a, b, in zip([omim, gc, df], [\"OMIM\", \"Constraint\", \"Merged\"]):\n",
    "    print(f\"{b} entries: {len(a)}\")"
   ]
  },
  {
   "cell_type": "markdown",
   "id": "9d9f5081-8b49-472b-b0be-a722def8a898",
   "metadata": {},
   "source": [
    "## Save to output"
   ]
  },
  {
   "cell_type": "code",
   "execution_count": 8,
   "id": "0290a8f4-c56c-4d03-b133-63c6de6876bc",
   "metadata": {
    "tags": []
   },
   "outputs": [],
   "source": [
    "# Reorder columns\n",
    "df = df[[\"symbol\", \"ensg\", \"enst\", \"region\", \"constraint\", \"phenotype\", \"inheritance\"]]\n",
    "\n",
    "# Write to output\n",
    "df.to_csv(\n",
    "    \"../outputs/omim_phenotypes_in_constrained_regions.tsv\", sep=\"\\t\", index=False\n",
    ")"
   ]
  }
 ],
 "metadata": {
  "kernelspec": {
   "display_name": "Python [conda env:ukb]",
   "language": "python",
   "name": "conda-env-ukb-py"
  },
  "language_info": {
   "codemirror_mode": {
    "name": "ipython",
    "version": 3
   },
   "file_extension": ".py",
   "mimetype": "text/x-python",
   "name": "python",
   "nbconvert_exporter": "python",
   "pygments_lexer": "ipython3",
   "version": "3.8.16"
  }
 },
 "nbformat": 4,
 "nbformat_minor": 5
}
