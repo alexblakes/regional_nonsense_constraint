{
 "cells": [
  {
   "cell_type": "markdown",
   "id": "49c2677e",
   "metadata": {},
   "source": [
    "# Observed variants\n",
    "This script identifies the observed and possible variants in UKB. \n",
    "\n",
    "Variants are grouped by variant context, transcript, or NMD-region. The script aggregates the number observed, the number possible, and the mean mutability for each grouping. The summary data are saved to a .tsv outputs."
   ]
  },
  {
   "cell_type": "markdown",
   "id": "e8519630",
   "metadata": {},
   "source": [
    "## Preliminaries"
   ]
  },
  {
   "cell_type": "markdown",
   "id": "1b3db4ee",
   "metadata": {},
   "source": [
    "### Import modules"
   ]
  },
  {
   "cell_type": "code",
   "execution_count": 1,
   "id": "777f5c59",
   "metadata": {},
   "outputs": [],
   "source": [
    "import numpy as np\n",
    "import pandas as pd\n",
    "from collections import defaultdict\n",
    "import matplotlib.pyplot as plt\n",
    "import seaborn as sns\n",
    "from scipy import stats as _stats\n",
    "import statsmodels.formula.api as smf\n",
    "from statsmodels.stats.proportion import proportions_ztest\n",
    "\n",
    "sns.set_context(\"talk\")"
   ]
  },
  {
   "cell_type": "markdown",
   "id": "69ee0579",
   "metadata": {},
   "source": [
    "### Download datasets from UKB RAP"
   ]
  },
  {
   "cell_type": "code",
   "execution_count": 2,
   "id": "b94cb650",
   "metadata": {},
   "outputs": [],
   "source": [
    "%%bash\n",
    "dx download \\\n",
    "    -f \\\n",
    "    -o ../data/ \\\n",
    "    data/cds_trinucleotide_contexts.tsv \\\n",
    "    data/grch38_cpg_methylation.tsv \\\n",
    "    data/gnomad_nc_mutation_rates.tsv \\\n",
    "    data/vep_cds_all_possible_snvs.vcf \\\n",
    "    outputs/gnomad_pass_variants/all_pass_snvs.txt \\\n",
    "    outputs/nmd_annotations.tsv"
   ]
  },
  {
   "cell_type": "markdown",
   "id": "c8b8f2d6",
   "metadata": {},
   "source": [
    "## Load datasets"
   ]
  },
  {
   "cell_type": "code",
   "execution_count": 3,
   "id": "a123b471",
   "metadata": {},
   "outputs": [],
   "source": [
    "# Define VCF headers and datatypes.\n",
    "_header = [\"chr\", \"pos\", \"id\", \"ref\", \"alt\", \"qual\", \"filter\", \"info\"]\n",
    "\n",
    "datatypes = defaultdict(lambda: \"str\")\n",
    "datatypes.update({\"pos\": np.int32, \"ac\": np.int32, \"an\": np.int32})"
   ]
  },
  {
   "cell_type": "code",
   "execution_count": 4,
   "id": "2d25ea0d",
   "metadata": {},
   "outputs": [],
   "source": [
    "# Retreive observed variants\n",
    "obs = pd.read_csv(\n",
    "    \"../data/all_pass_snvs.txt\",\n",
    "    sep=\"\\t\",\n",
    "    header=None,\n",
    "    names=_header + [\"ac\", \"an\"],\n",
    "    usecols=[\"chr\", \"pos\", \"ref\", \"alt\", \"ac\", \"an\"],\n",
    "    dtype=datatypes,\n",
    ").assign(obs=1)"
   ]
  },
  {
   "cell_type": "code",
   "execution_count": 5,
   "id": "8e5b04c6",
   "metadata": {},
   "outputs": [],
   "source": [
    "# Retreive VEP annotations of all possible SNVs\n",
    "vep = pd.read_csv(\n",
    "    \"../data/vep_cds_all_possible_snvs.vcf\",\n",
    "    sep=\"\\t\",\n",
    "    comment=\"#\",\n",
    "    header=None,\n",
    "    names=_header,\n",
    "    dtype=datatypes,\n",
    "    usecols=[\"chr\", \"pos\", \"ref\", \"alt\", \"info\"],\n",
    ")"
   ]
  },
  {
   "cell_type": "code",
   "execution_count": 6,
   "id": "24e3b1ae",
   "metadata": {},
   "outputs": [],
   "source": [
    "# Get enst\n",
    "vep[\"enst\"] = pd.Series([x.split(\"|\", 3)[2] for x in vep[\"info\"]])"
   ]
  },
  {
   "cell_type": "code",
   "execution_count": 7,
   "id": "69b4295e",
   "metadata": {},
   "outputs": [],
   "source": [
    "# Get csq\n",
    "syn = pd.Series([\"synonymous\" in x for x in vep[\"info\"]])\n",
    "mis = pd.Series([\"missense\" in x for x in vep[\"info\"]])\n",
    "non = pd.Series([\"stop_gained\" in x for x in vep[\"info\"]])\n",
    "\n",
    "vep.loc[syn, \"csq\"] = \"synonymous\"\n",
    "vep.loc[mis, \"csq\"] = \"missense\"\n",
    "vep.loc[non, \"csq\"] = \"nonsense\"\n",
    "\n",
    "vep = vep.drop(\"info\", axis=1).dropna()  # Keep only syn/mis/non variants"
   ]
  },
  {
   "cell_type": "code",
   "execution_count": 8,
   "id": "e6913150",
   "metadata": {},
   "outputs": [],
   "source": [
    "# Trinucleotide contexts\n",
    "tri = pd.read_csv(\"../data/cds_trinucleotide_contexts.tsv\", sep=\"\\t\", dtype=datatypes)"
   ]
  },
  {
   "cell_type": "code",
   "execution_count": 9,
   "id": "ce14d902",
   "metadata": {},
   "outputs": [],
   "source": [
    "# gnomAD methylation data\n",
    "meth = pd.read_csv(\n",
    "    \"../data/grch38_cpg_methylation.tsv\",\n",
    "    sep=\"\\t\",\n",
    "    header=0,\n",
    "    names=[\"ix\", \"chr\", \"pos\", \"alleles\", \"lvl\"],\n",
    "    usecols=[\"chr\", \"pos\", \"lvl\"],\n",
    ")"
   ]
  },
  {
   "cell_type": "code",
   "execution_count": 10,
   "id": "21d54680",
   "metadata": {},
   "outputs": [],
   "source": [
    "# Mutation rates\n",
    "mu = pd.read_csv(\n",
    "    \"../data/gnomad_nc_mutation_rates.tsv\",\n",
    "    sep=\"\\t\",\n",
    "    names=[\n",
    "        \"tri\",\n",
    "        \"ref\",\n",
    "        \"alt\",\n",
    "        \"lvl\",\n",
    "        \"variant_type\",\n",
    "        \"mu\",\n",
    "        \"pos\",\n",
    "        \"obs\",\n",
    "        \"po\",\n",
    "        \"ppo\",\n",
    "    ],\n",
    "    header=0,\n",
    "    usecols=[\"tri\", \"ref\", \"alt\", \"lvl\", \"mu\", \"variant_type\"],\n",
    ")\n",
    "\n",
    "# Mutation rates are only available for 32 codons. We need to reverse-complement for the remainder.\n",
    "complement = {\"A\": \"T\", \"C\": \"G\", \"G\": \"C\", \"T\": \"A\"}\n",
    "# Replace ref and alt alleles\n",
    "_mu = mu.copy().replace(complement)\n",
    "# Reverse-complement trinucleotide contexts\n",
    "_mu[\"tri\"] = pd.Series([\"\".join([complement[y] for y in x])[::-1] for x in mu.tri])\n",
    "mu = pd.concat([mu, _mu])"
   ]
  },
  {
   "cell_type": "code",
   "execution_count": 11,
   "id": "fe89a3f9-e617-4784-8bf5-548a946ef2d1",
   "metadata": {},
   "outputs": [],
   "source": [
    "nmd = pd.read_csv(\n",
    "    \"../data/nmd_annotations.tsv\",\n",
    "    sep=\"\\t\",\n",
    "    usecols=[\"chr\", \"pos\", \"transcript_id\", \"nmd_definitive\"],\n",
    ").rename(columns={\"transcript_id\": \"enst\", \"nmd_definitive\": \"nmd\"})"
   ]
  },
  {
   "cell_type": "markdown",
   "id": "986cb619",
   "metadata": {},
   "source": [
    "## Merge annotations"
   ]
  },
  {
   "cell_type": "code",
   "execution_count": 12,
   "id": "d0e4d6d3",
   "metadata": {},
   "outputs": [],
   "source": [
    "# Merge VEP, context, NMD, and observed variant annotations\n",
    "df = vep.merge(tri, how=\"left\")\n",
    "df = df.merge(nmd, how=\"left\")\n",
    "df = df.merge(obs, how=\"left\").fillna(0)"
   ]
  },
  {
   "cell_type": "code",
   "execution_count": 13,
   "id": "0f683a7c",
   "metadata": {},
   "outputs": [],
   "source": [
    "# Merge methylation annotations\n",
    "variant_types = mu[[\"tri\", \"ref\", \"alt\", \"variant_type\"]].drop_duplicates()\n",
    "df = df.merge(variant_types, how=\"left\")\n",
    "df = df.merge(meth, how=\"left\")\n",
    "\n",
    "# All non-CpG sites have lvl 0\n",
    "df.loc[df[\"variant_type\"] != \"CpG\", \"lvl\"] = 0\n",
    "df.lvl = df.lvl.astype(int)\n",
    "df.obs = df.obs.astype(int)\n",
    "\n",
    "# Merge with mutability data\n",
    "df = df.merge(mu, how=\"left\")"
   ]
  },
  {
   "cell_type": "markdown",
   "id": "20568ad1-6f07-44bb-9139-5d9ddeba4834",
   "metadata": {},
   "source": [
    "## Summarise the data"
   ]
  },
  {
   "cell_type": "markdown",
   "id": "40a64106-e854-40e1-81a7-cafa1d4c71ba",
   "metadata": {},
   "source": [
    "### Synonymous proportion singletons by variant context"
   ]
  },
  {
   "cell_type": "code",
   "execution_count": 87,
   "id": "951acdb6-2d16-4e6a-8f6f-22992ffab3e2",
   "metadata": {},
   "outputs": [],
   "source": [
    "def get_ps(dfg):\n",
    "    \"\"\"\n",
    "    Get mean mutability and proportion of singletons.\n",
    "    \"\"\"\n",
    "    mu = dfg[\"mu\"].mean()\n",
    "    ns = dfg[\"ac\"].apply(lambda x: (x==1).sum()).rename(\"n_singletons\")\n",
    "    no = dfg[\"ac\"].count().rename(\"n_obs\")\n",
    "    \n",
    "    ps = pd.concat([mu, ns, no], axis=1).reset_index()\n",
    "    \n",
    "    ps[\"ps\"] = ps[\"n_singletons\"] / ps[\"n_obs\"]\n",
    "    \n",
    "    return ps"
   ]
  },
  {
   "cell_type": "code",
   "execution_count": 90,
   "id": "c99af593-47e5-45c7-a76d-74bac8471271",
   "metadata": {},
   "outputs": [
    {
     "ename": "AttributeError",
     "evalue": "'DataFrame' object has no attribute 'tri'",
     "output_type": "error",
     "traceback": [
      "\u001b[0;31m---------------------------------------------------------------------------\u001b[0m",
      "\u001b[0;31mAttributeError\u001b[0m                            Traceback (most recent call last)",
      "Cell \u001b[0;32mIn[90], line 6\u001b[0m\n\u001b[1;32m      2\u001b[0m syn \u001b[38;5;241m=\u001b[39m df[df[\u001b[38;5;124m\"\u001b[39m\u001b[38;5;124mcsq\u001b[39m\u001b[38;5;124m\"\u001b[39m] \u001b[38;5;241m==\u001b[39m \u001b[38;5;124m\"\u001b[39m\u001b[38;5;124msynonymous\u001b[39m\u001b[38;5;124m\"\u001b[39m]\u001b[38;5;241m.\u001b[39mcopy()\n\u001b[1;32m      4\u001b[0m \u001b[38;5;66;03m# Mask contexts in which a synonymous variant is generally not possible.\u001b[39;00m\n\u001b[1;32m      5\u001b[0m \u001b[38;5;66;03m# (NB synonymous variants in these contexts can only occur at exon-intron junctions)\u001b[39;00m\n\u001b[0;32m----> 6\u001b[0m m1 \u001b[38;5;241m=\u001b[39m (\u001b[43msyn\u001b[49m\u001b[38;5;241;43m.\u001b[39;49m\u001b[43mtri\u001b[49m \u001b[38;5;241m==\u001b[39m \u001b[38;5;124m\"\u001b[39m\u001b[38;5;124mAGT\u001b[39m\u001b[38;5;124m\"\u001b[39m) \u001b[38;5;241m&\u001b[39m ((syn\u001b[38;5;241m.\u001b[39malt \u001b[38;5;241m==\u001b[39m \u001b[38;5;124m\"\u001b[39m\u001b[38;5;124mC\u001b[39m\u001b[38;5;124m\"\u001b[39m) \u001b[38;5;241m|\u001b[39m (syn\u001b[38;5;241m.\u001b[39malt \u001b[38;5;241m==\u001b[39m \u001b[38;5;124m\"\u001b[39m\u001b[38;5;124mT\u001b[39m\u001b[38;5;124m\"\u001b[39m))\n\u001b[1;32m      7\u001b[0m m2 \u001b[38;5;241m=\u001b[39m (syn\u001b[38;5;241m.\u001b[39mtri \u001b[38;5;241m==\u001b[39m \u001b[38;5;124m\"\u001b[39m\u001b[38;5;124mAAT\u001b[39m\u001b[38;5;124m\"\u001b[39m) \u001b[38;5;241m&\u001b[39m ((syn\u001b[38;5;241m.\u001b[39malt \u001b[38;5;241m==\u001b[39m \u001b[38;5;124m\"\u001b[39m\u001b[38;5;124mC\u001b[39m\u001b[38;5;124m\"\u001b[39m) \u001b[38;5;241m|\u001b[39m (syn\u001b[38;5;241m.\u001b[39malt \u001b[38;5;241m==\u001b[39m \u001b[38;5;124m\"\u001b[39m\u001b[38;5;124mT\u001b[39m\u001b[38;5;124m\"\u001b[39m))\n\u001b[1;32m      8\u001b[0m m3 \u001b[38;5;241m=\u001b[39m (syn\u001b[38;5;241m.\u001b[39mtri \u001b[38;5;241m==\u001b[39m \u001b[38;5;124m\"\u001b[39m\u001b[38;5;124mACT\u001b[39m\u001b[38;5;124m\"\u001b[39m) \u001b[38;5;241m&\u001b[39m ((syn\u001b[38;5;241m.\u001b[39malt \u001b[38;5;241m==\u001b[39m \u001b[38;5;124m\"\u001b[39m\u001b[38;5;124mG\u001b[39m\u001b[38;5;124m\"\u001b[39m) \u001b[38;5;241m|\u001b[39m (syn\u001b[38;5;241m.\u001b[39malt \u001b[38;5;241m==\u001b[39m \u001b[38;5;124m\"\u001b[39m\u001b[38;5;124mA\u001b[39m\u001b[38;5;124m\"\u001b[39m))\n",
      "File \u001b[0;32m/opt/conda/lib/python3.8/site-packages/pandas/core/generic.py:5902\u001b[0m, in \u001b[0;36mNDFrame.__getattr__\u001b[0;34m(self, name)\u001b[0m\n\u001b[1;32m   5895\u001b[0m \u001b[38;5;28;01mif\u001b[39;00m (\n\u001b[1;32m   5896\u001b[0m     name \u001b[38;5;129;01mnot\u001b[39;00m \u001b[38;5;129;01min\u001b[39;00m \u001b[38;5;28mself\u001b[39m\u001b[38;5;241m.\u001b[39m_internal_names_set\n\u001b[1;32m   5897\u001b[0m     \u001b[38;5;129;01mand\u001b[39;00m name \u001b[38;5;129;01mnot\u001b[39;00m \u001b[38;5;129;01min\u001b[39;00m \u001b[38;5;28mself\u001b[39m\u001b[38;5;241m.\u001b[39m_metadata\n\u001b[1;32m   5898\u001b[0m     \u001b[38;5;129;01mand\u001b[39;00m name \u001b[38;5;129;01mnot\u001b[39;00m \u001b[38;5;129;01min\u001b[39;00m \u001b[38;5;28mself\u001b[39m\u001b[38;5;241m.\u001b[39m_accessors\n\u001b[1;32m   5899\u001b[0m     \u001b[38;5;129;01mand\u001b[39;00m \u001b[38;5;28mself\u001b[39m\u001b[38;5;241m.\u001b[39m_info_axis\u001b[38;5;241m.\u001b[39m_can_hold_identifiers_and_holds_name(name)\n\u001b[1;32m   5900\u001b[0m ):\n\u001b[1;32m   5901\u001b[0m     \u001b[38;5;28;01mreturn\u001b[39;00m \u001b[38;5;28mself\u001b[39m[name]\n\u001b[0;32m-> 5902\u001b[0m \u001b[38;5;28;01mreturn\u001b[39;00m \u001b[38;5;28;43mobject\u001b[39;49m\u001b[38;5;241;43m.\u001b[39;49m\u001b[38;5;21;43m__getattribute__\u001b[39;49m\u001b[43m(\u001b[49m\u001b[38;5;28;43mself\u001b[39;49m\u001b[43m,\u001b[49m\u001b[43m \u001b[49m\u001b[43mname\u001b[49m\u001b[43m)\u001b[49m\n",
      "\u001b[0;31mAttributeError\u001b[0m: 'DataFrame' object has no attribute 'tri'"
     ]
    }
   ],
   "source": [
    "# Subset to synonymous variants only\n",
    "syn = df[df[\"csq\"] == \"synonymous\"].copy()\n",
    "\n",
    "# Mask contexts in which a synonymous variant is generally not possible.\n",
    "# (NB synonymous variants in these contexts can only occur at exon-intron junctions)\n",
    "m1 = (syn.tri == \"AGT\") & ((syn.alt == \"C\") | (syn.alt == \"T\"))\n",
    "m2 = (syn.tri == \"AAT\") & ((syn.alt == \"C\") | (syn.alt == \"T\"))\n",
    "m3 = (syn.tri == \"ACT\") & ((syn.alt == \"G\") | (syn.alt == \"A\"))\n",
    "m4 = (syn.tri == \"ATT\") & ((syn.alt == \"G\") | (syn.alt == \"A\"))\n",
    "\n",
    "# Mask variants which are not observed\n",
    "m5 = syn[\"ac\"] == 0\n",
    "\n",
    "# Apply filters\n",
    "syn_obs = syn[~(m1 | m2 | m3 | m4 | m5)]\n",
    "\n",
    "# Get proportion of singletons per context for observed variants\n",
    "syn_g = syn_obs.groupby([\"tri\", \"ref\", \"alt\", \"variant_type\", \"lvl\"])\n",
    "\n",
    "ps = get_ps(syn_g)\n",
    "\n",
    "ps.to_csv(\"../outputs/proportion_singletons_synonymous_by_context.tsv\", sep=\"\\t\", index=False)"
   ]
  },
  {
   "cell_type": "markdown",
   "id": "e8817d79-0689-46d6-bdd1-6e0fb44266ba",
   "metadata": {},
   "source": [
    "### Proportion of singletons by csq"
   ]
  },
  {
   "cell_type": "code",
   "execution_count": null,
   "id": "2e3a3ce8-69d7-4bf9-a992-c01c57d87f4f",
   "metadata": {},
   "outputs": [],
   "source": [
    "m1 = df[\"ac\"] != 0\n",
    "m2 = df[\"variant_type\"] != \"Cpg\"\n",
    "m3 = df[\"csq\"] == \"nonsense\""
   ]
  },
  {
   "cell_type": "markdown",
   "id": "be5751da-5add-4a2e-9256-c327220c7016",
   "metadata": {},
   "source": [
    "#### Synonymous, missense, and nonsense"
   ]
  },
  {
   "cell_type": "code",
   "execution_count": null,
   "id": "f3c53952-d755-45f2-b642-f3c54e8783f7",
   "metadata": {},
   "outputs": [],
   "source": [
    "# Include CpG\n",
    "ps_csq_cpg = get_ps(df[m1].groupby(\"csq\"))\n",
    "\n",
    "# Exclude CpG\n",
    "ps_csq_no_cpg = get_ps(df[m1 & m2].groupby(\"csq\"))"
   ]
  },
  {
   "cell_type": "markdown",
   "id": "5cb248c5-667e-45d8-9650-544e2c14825c",
   "metadata": {},
   "source": [
    "#### Nonsense, by NMD region"
   ]
  },
  {
   "cell_type": "code",
   "execution_count": 89,
   "id": "3253695a-846e-49b2-bcc7-a11ca77b3aba",
   "metadata": {},
   "outputs": [
    {
     "name": "stderr",
     "output_type": "stream",
     "text": [
      "/tmp/ipykernel_246/478269653.py:2: UserWarning: Boolean Series key will be reindexed to match DataFrame index.\n",
      "  ps_region_cpg = get_ps(df[m1 & m3].groupby(\"nmd\"))\n"
     ]
    },
    {
     "ename": "KeyError",
     "evalue": "'nmd'",
     "output_type": "error",
     "traceback": [
      "\u001b[0;31m---------------------------------------------------------------------------\u001b[0m",
      "\u001b[0;31mKeyError\u001b[0m                                  Traceback (most recent call last)",
      "Cell \u001b[0;32mIn[89], line 2\u001b[0m\n\u001b[1;32m      1\u001b[0m \u001b[38;5;66;03m# Include CpG\u001b[39;00m\n\u001b[0;32m----> 2\u001b[0m ps_region_cpg \u001b[38;5;241m=\u001b[39m get_ps(\u001b[43mdf\u001b[49m\u001b[43m[\u001b[49m\u001b[43mm1\u001b[49m\u001b[43m \u001b[49m\u001b[38;5;241;43m&\u001b[39;49m\u001b[43m \u001b[49m\u001b[43mm3\u001b[49m\u001b[43m]\u001b[49m\u001b[38;5;241;43m.\u001b[39;49m\u001b[43mgroupby\u001b[49m\u001b[43m(\u001b[49m\u001b[38;5;124;43m\"\u001b[39;49m\u001b[38;5;124;43mnmd\u001b[39;49m\u001b[38;5;124;43m\"\u001b[39;49m\u001b[43m)\u001b[49m)\n\u001b[1;32m      4\u001b[0m \u001b[38;5;66;03m# Exclude CpG\u001b[39;00m\n\u001b[1;32m      5\u001b[0m ps_region_no_cpg \u001b[38;5;241m=\u001b[39m get_ps(df[m1 \u001b[38;5;241m&\u001b[39m m2 \u001b[38;5;241m&\u001b[39m m3]\u001b[38;5;241m.\u001b[39mgroupby(\u001b[38;5;124m\"\u001b[39m\u001b[38;5;124mnmd\u001b[39m\u001b[38;5;124m\"\u001b[39m))\n",
      "File \u001b[0;32m/opt/conda/lib/python3.8/site-packages/pandas/core/frame.py:8402\u001b[0m, in \u001b[0;36mDataFrame.groupby\u001b[0;34m(self, by, axis, level, as_index, sort, group_keys, squeeze, observed, dropna)\u001b[0m\n\u001b[1;32m   8399\u001b[0m     \u001b[38;5;28;01mraise\u001b[39;00m \u001b[38;5;167;01mTypeError\u001b[39;00m(\u001b[38;5;124m\"\u001b[39m\u001b[38;5;124mYou have to supply one of \u001b[39m\u001b[38;5;124m'\u001b[39m\u001b[38;5;124mby\u001b[39m\u001b[38;5;124m'\u001b[39m\u001b[38;5;124m and \u001b[39m\u001b[38;5;124m'\u001b[39m\u001b[38;5;124mlevel\u001b[39m\u001b[38;5;124m'\u001b[39m\u001b[38;5;124m\"\u001b[39m)\n\u001b[1;32m   8400\u001b[0m axis \u001b[38;5;241m=\u001b[39m \u001b[38;5;28mself\u001b[39m\u001b[38;5;241m.\u001b[39m_get_axis_number(axis)\n\u001b[0;32m-> 8402\u001b[0m \u001b[38;5;28;01mreturn\u001b[39;00m \u001b[43mDataFrameGroupBy\u001b[49m\u001b[43m(\u001b[49m\n\u001b[1;32m   8403\u001b[0m \u001b[43m    \u001b[49m\u001b[43mobj\u001b[49m\u001b[38;5;241;43m=\u001b[39;49m\u001b[38;5;28;43mself\u001b[39;49m\u001b[43m,\u001b[49m\n\u001b[1;32m   8404\u001b[0m \u001b[43m    \u001b[49m\u001b[43mkeys\u001b[49m\u001b[38;5;241;43m=\u001b[39;49m\u001b[43mby\u001b[49m\u001b[43m,\u001b[49m\n\u001b[1;32m   8405\u001b[0m \u001b[43m    \u001b[49m\u001b[43maxis\u001b[49m\u001b[38;5;241;43m=\u001b[39;49m\u001b[43maxis\u001b[49m\u001b[43m,\u001b[49m\n\u001b[1;32m   8406\u001b[0m \u001b[43m    \u001b[49m\u001b[43mlevel\u001b[49m\u001b[38;5;241;43m=\u001b[39;49m\u001b[43mlevel\u001b[49m\u001b[43m,\u001b[49m\n\u001b[1;32m   8407\u001b[0m \u001b[43m    \u001b[49m\u001b[43mas_index\u001b[49m\u001b[38;5;241;43m=\u001b[39;49m\u001b[43mas_index\u001b[49m\u001b[43m,\u001b[49m\n\u001b[1;32m   8408\u001b[0m \u001b[43m    \u001b[49m\u001b[43msort\u001b[49m\u001b[38;5;241;43m=\u001b[39;49m\u001b[43msort\u001b[49m\u001b[43m,\u001b[49m\n\u001b[1;32m   8409\u001b[0m \u001b[43m    \u001b[49m\u001b[43mgroup_keys\u001b[49m\u001b[38;5;241;43m=\u001b[39;49m\u001b[43mgroup_keys\u001b[49m\u001b[43m,\u001b[49m\n\u001b[1;32m   8410\u001b[0m \u001b[43m    \u001b[49m\u001b[43msqueeze\u001b[49m\u001b[38;5;241;43m=\u001b[39;49m\u001b[43msqueeze\u001b[49m\u001b[43m,\u001b[49m\n\u001b[1;32m   8411\u001b[0m \u001b[43m    \u001b[49m\u001b[43mobserved\u001b[49m\u001b[38;5;241;43m=\u001b[39;49m\u001b[43mobserved\u001b[49m\u001b[43m,\u001b[49m\n\u001b[1;32m   8412\u001b[0m \u001b[43m    \u001b[49m\u001b[43mdropna\u001b[49m\u001b[38;5;241;43m=\u001b[39;49m\u001b[43mdropna\u001b[49m\u001b[43m,\u001b[49m\n\u001b[1;32m   8413\u001b[0m \u001b[43m\u001b[49m\u001b[43m)\u001b[49m\n",
      "File \u001b[0;32m/opt/conda/lib/python3.8/site-packages/pandas/core/groupby/groupby.py:965\u001b[0m, in \u001b[0;36mGroupBy.__init__\u001b[0;34m(self, obj, keys, axis, level, grouper, exclusions, selection, as_index, sort, group_keys, squeeze, observed, mutated, dropna)\u001b[0m\n\u001b[1;32m    962\u001b[0m \u001b[38;5;28;01mif\u001b[39;00m grouper \u001b[38;5;129;01mis\u001b[39;00m \u001b[38;5;28;01mNone\u001b[39;00m:\n\u001b[1;32m    963\u001b[0m     \u001b[38;5;28;01mfrom\u001b[39;00m \u001b[38;5;21;01mpandas\u001b[39;00m\u001b[38;5;21;01m.\u001b[39;00m\u001b[38;5;21;01mcore\u001b[39;00m\u001b[38;5;21;01m.\u001b[39;00m\u001b[38;5;21;01mgroupby\u001b[39;00m\u001b[38;5;21;01m.\u001b[39;00m\u001b[38;5;21;01mgrouper\u001b[39;00m \u001b[38;5;28;01mimport\u001b[39;00m get_grouper\n\u001b[0;32m--> 965\u001b[0m     grouper, exclusions, obj \u001b[38;5;241m=\u001b[39m \u001b[43mget_grouper\u001b[49m\u001b[43m(\u001b[49m\n\u001b[1;32m    966\u001b[0m \u001b[43m        \u001b[49m\u001b[43mobj\u001b[49m\u001b[43m,\u001b[49m\n\u001b[1;32m    967\u001b[0m \u001b[43m        \u001b[49m\u001b[43mkeys\u001b[49m\u001b[43m,\u001b[49m\n\u001b[1;32m    968\u001b[0m \u001b[43m        \u001b[49m\u001b[43maxis\u001b[49m\u001b[38;5;241;43m=\u001b[39;49m\u001b[43maxis\u001b[49m\u001b[43m,\u001b[49m\n\u001b[1;32m    969\u001b[0m \u001b[43m        \u001b[49m\u001b[43mlevel\u001b[49m\u001b[38;5;241;43m=\u001b[39;49m\u001b[43mlevel\u001b[49m\u001b[43m,\u001b[49m\n\u001b[1;32m    970\u001b[0m \u001b[43m        \u001b[49m\u001b[43msort\u001b[49m\u001b[38;5;241;43m=\u001b[39;49m\u001b[43msort\u001b[49m\u001b[43m,\u001b[49m\n\u001b[1;32m    971\u001b[0m \u001b[43m        \u001b[49m\u001b[43mobserved\u001b[49m\u001b[38;5;241;43m=\u001b[39;49m\u001b[43mobserved\u001b[49m\u001b[43m,\u001b[49m\n\u001b[1;32m    972\u001b[0m \u001b[43m        \u001b[49m\u001b[43mmutated\u001b[49m\u001b[38;5;241;43m=\u001b[39;49m\u001b[38;5;28;43mself\u001b[39;49m\u001b[38;5;241;43m.\u001b[39;49m\u001b[43mmutated\u001b[49m\u001b[43m,\u001b[49m\n\u001b[1;32m    973\u001b[0m \u001b[43m        \u001b[49m\u001b[43mdropna\u001b[49m\u001b[38;5;241;43m=\u001b[39;49m\u001b[38;5;28;43mself\u001b[39;49m\u001b[38;5;241;43m.\u001b[39;49m\u001b[43mdropna\u001b[49m\u001b[43m,\u001b[49m\n\u001b[1;32m    974\u001b[0m \u001b[43m    \u001b[49m\u001b[43m)\u001b[49m\n\u001b[1;32m    976\u001b[0m \u001b[38;5;28mself\u001b[39m\u001b[38;5;241m.\u001b[39mobj \u001b[38;5;241m=\u001b[39m obj\n\u001b[1;32m    977\u001b[0m \u001b[38;5;28mself\u001b[39m\u001b[38;5;241m.\u001b[39maxis \u001b[38;5;241m=\u001b[39m obj\u001b[38;5;241m.\u001b[39m_get_axis_number(axis)\n",
      "File \u001b[0;32m/opt/conda/lib/python3.8/site-packages/pandas/core/groupby/grouper.py:888\u001b[0m, in \u001b[0;36mget_grouper\u001b[0;34m(obj, key, axis, level, sort, observed, mutated, validate, dropna)\u001b[0m\n\u001b[1;32m    886\u001b[0m         in_axis, level, gpr \u001b[38;5;241m=\u001b[39m \u001b[38;5;28;01mFalse\u001b[39;00m, gpr, \u001b[38;5;28;01mNone\u001b[39;00m\n\u001b[1;32m    887\u001b[0m     \u001b[38;5;28;01melse\u001b[39;00m:\n\u001b[0;32m--> 888\u001b[0m         \u001b[38;5;28;01mraise\u001b[39;00m \u001b[38;5;167;01mKeyError\u001b[39;00m(gpr)\n\u001b[1;32m    889\u001b[0m \u001b[38;5;28;01melif\u001b[39;00m \u001b[38;5;28misinstance\u001b[39m(gpr, Grouper) \u001b[38;5;129;01mand\u001b[39;00m gpr\u001b[38;5;241m.\u001b[39mkey \u001b[38;5;129;01mis\u001b[39;00m \u001b[38;5;129;01mnot\u001b[39;00m \u001b[38;5;28;01mNone\u001b[39;00m:\n\u001b[1;32m    890\u001b[0m     \u001b[38;5;66;03m# Add key to exclusions\u001b[39;00m\n\u001b[1;32m    891\u001b[0m     exclusions\u001b[38;5;241m.\u001b[39madd(gpr\u001b[38;5;241m.\u001b[39mkey)\n",
      "\u001b[0;31mKeyError\u001b[0m: 'nmd'"
     ]
    }
   ],
   "source": [
    "# Include CpG\n",
    "ps_region_cpg = get_ps(df[m1 & m3].groupby(\"nmd\"))\n",
    "\n",
    "# Exclude CpG\n",
    "ps_region_no_cpg = get_ps(df[m1 & m2 & m3].groupby(\"nmd\"))"
   ]
  },
  {
   "cell_type": "markdown",
   "id": "8fa46ba9-70a5-4d62-bc0f-70034da04120",
   "metadata": {},
   "source": [
    "### Combine CSQ and Region results"
   ]
  },
  {
   "cell_type": "code",
   "execution_count": null,
   "id": "5f833846-9c87-4786-8039-2b4481d59004",
   "metadata": {},
   "outputs": [],
   "source": [
    "# Reformat column names\n",
    "for x in [ps_region_cpg, ps_region_no_cpg]:\n",
    "    x = x.rename(columns={\"nmd\":\"csq\"})\n",
    "\n",
    "for a, b, c in zip([ps_csq_cpg, ps_csq_no_cpg], [ps_region_cpg, ps_region_no_cpg], [\"cpg\",\"no_cpg\"]):\n",
    "    ps = pd.concat([a,b])\n",
    "    ps.to_csv(f\"../outputs/proportion_singletons_by_csq_and_region_{c}.tsv\", sep=\"\\t\", index=False)\n",
    "    print(f\"{c}\\n{ps}\\n\\n\")"
   ]
  }
 ],
 "metadata": {
  "kernelspec": {
   "display_name": "Python 3 (ipykernel)",
   "language": "python",
   "name": "python3"
  },
  "language_info": {
   "codemirror_mode": {
    "name": "ipython",
    "version": 3
   },
   "file_extension": ".py",
   "mimetype": "text/x-python",
   "name": "python",
   "nbconvert_exporter": "python",
   "pygments_lexer": "ipython3",
   "version": "3.8.16"
  }
 },
 "nbformat": 4,
 "nbformat_minor": 5
}
