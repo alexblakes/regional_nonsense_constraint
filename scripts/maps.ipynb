{
 "cells": [
  {
   "cell_type": "markdown",
   "id": "49c2677e",
   "metadata": {},
   "source": [
    "# Observed variants\n",
    "This script identifies the observed and possible variants in UKB. \n",
    "\n",
    "Variants are grouped by variant context, transcript, or NMD-region. The script aggregates the number observed, the number possible, and the mean mutability for each grouping. The summary data are saved to a .tsv outputs."
   ]
  },
  {
   "cell_type": "markdown",
   "id": "e8519630",
   "metadata": {},
   "source": [
    "## Preliminaries"
   ]
  },
  {
   "cell_type": "markdown",
   "id": "1b3db4ee",
   "metadata": {},
   "source": [
    "### Import modules"
   ]
  },
  {
   "cell_type": "code",
   "execution_count": 1,
   "id": "777f5c59",
   "metadata": {},
   "outputs": [],
   "source": [
    "import numpy as np\n",
    "import pandas as pd\n",
    "from collections import defaultdict\n",
    "import matplotlib.pyplot as plt\n",
    "import seaborn as sns\n",
    "from scipy import stats as _stats\n",
    "import statsmodels.formula.api as smf\n",
    "from statsmodels.stats.proportion import proportions_ztest\n",
    "\n",
    "sns.set_context(\"talk\")"
   ]
  },
  {
   "cell_type": "markdown",
   "id": "69ee0579",
   "metadata": {},
   "source": [
    "### Download datasets from UKB RAP"
   ]
  },
  {
   "cell_type": "code",
   "execution_count": 2,
   "id": "b94cb650",
   "metadata": {},
   "outputs": [],
   "source": [
    "%%bash\n",
    "dx download \\\n",
    "    -f \\\n",
    "    -o ../data/ \\\n",
    "    data/cds_trinucleotide_contexts.tsv \\\n",
    "    data/grch38_cpg_methylation.tsv \\\n",
    "    data/gnomad_nc_mutation_rates.tsv \\\n",
    "    data/vep_cds_all_possible_snvs.vcf \\\n",
    "    outputs/gnomad_pass_variants/all_pass_snvs.txt \\\n",
    "    outputs/nmd_annotations.tsv"
   ]
  },
  {
   "cell_type": "markdown",
   "id": "c8b8f2d6",
   "metadata": {},
   "source": [
    "## Load datasets"
   ]
  },
  {
   "cell_type": "code",
   "execution_count": 3,
   "id": "a123b471",
   "metadata": {},
   "outputs": [],
   "source": [
    "# Define VCF headers and datatypes.\n",
    "_header = [\"chr\", \"pos\", \"id\", \"ref\", \"alt\", \"qual\", \"filter\", \"info\"]\n",
    "\n",
    "datatypes = defaultdict(lambda: \"str\")\n",
    "datatypes.update({\"pos\": np.int32, \"ac\": np.int32, \"an\": np.int32})"
   ]
  },
  {
   "cell_type": "code",
   "execution_count": 4,
   "id": "2d25ea0d",
   "metadata": {},
   "outputs": [],
   "source": [
    "# Retreive observed variants\n",
    "obs = pd.read_csv(\n",
    "    \"../data/all_pass_snvs.txt\",\n",
    "    sep=\"\\t\",\n",
    "    header=None,\n",
    "    names=_header + [\"ac\", \"an\"],\n",
    "    usecols=[\"chr\", \"pos\", \"ref\", \"alt\", \"ac\", \"an\"],\n",
    "    dtype=datatypes,\n",
    ").assign(obs=1)"
   ]
  },
  {
   "cell_type": "code",
   "execution_count": 5,
   "id": "8e5b04c6",
   "metadata": {},
   "outputs": [],
   "source": [
    "# Retreive VEP annotations of all possible SNVs\n",
    "vep = pd.read_csv(\n",
    "    \"../data/vep_cds_all_possible_snvs.vcf\",\n",
    "    sep=\"\\t\",\n",
    "    comment=\"#\",\n",
    "    header=None,\n",
    "    names=_header,\n",
    "    dtype=datatypes,\n",
    "    usecols=[\"chr\", \"pos\", \"ref\", \"alt\", \"info\"],\n",
    ")"
   ]
  },
  {
   "cell_type": "code",
   "execution_count": 6,
   "id": "24e3b1ae",
   "metadata": {},
   "outputs": [],
   "source": [
    "# Get enst\n",
    "vep[\"enst\"] = pd.Series([x.split(\"|\", 3)[2] for x in vep[\"info\"]])"
   ]
  },
  {
   "cell_type": "code",
   "execution_count": 7,
   "id": "69b4295e",
   "metadata": {},
   "outputs": [],
   "source": [
    "# Get csq\n",
    "syn = pd.Series([\"synonymous\" in x for x in vep[\"info\"]])\n",
    "mis = pd.Series([\"missense\" in x for x in vep[\"info\"]])\n",
    "non = pd.Series([\"stop_gained\" in x for x in vep[\"info\"]])\n",
    "\n",
    "vep.loc[syn, \"csq\"] = \"synonymous\"\n",
    "vep.loc[mis, \"csq\"] = \"missense\"\n",
    "vep.loc[non, \"csq\"] = \"nonsense\"\n",
    "\n",
    "vep = vep.drop(\"info\", axis=1).dropna()  # Keep only syn/mis/non variants"
   ]
  },
  {
   "cell_type": "code",
   "execution_count": 8,
   "id": "e6913150",
   "metadata": {},
   "outputs": [],
   "source": [
    "# Trinucleotide contexts\n",
    "tri = pd.read_csv(\"../data/cds_trinucleotide_contexts.tsv\", sep=\"\\t\", dtype=datatypes)"
   ]
  },
  {
   "cell_type": "code",
   "execution_count": 9,
   "id": "ce14d902",
   "metadata": {},
   "outputs": [],
   "source": [
    "# gnomAD methylation data\n",
    "meth = pd.read_csv(\n",
    "    \"../data/grch38_cpg_methylation.tsv\",\n",
    "    sep=\"\\t\",\n",
    "    header=0,\n",
    "    names=[\"ix\", \"chr\", \"pos\", \"alleles\", \"lvl\"],\n",
    "    usecols=[\"chr\", \"pos\", \"lvl\"],\n",
    ")"
   ]
  },
  {
   "cell_type": "code",
   "execution_count": 10,
   "id": "21d54680",
   "metadata": {},
   "outputs": [],
   "source": [
    "# Mutation rates\n",
    "mu = pd.read_csv(\n",
    "    \"../data/gnomad_nc_mutation_rates.tsv\",\n",
    "    sep=\"\\t\",\n",
    "    names=[\n",
    "        \"tri\",\n",
    "        \"ref\",\n",
    "        \"alt\",\n",
    "        \"lvl\",\n",
    "        \"variant_type\",\n",
    "        \"mu\",\n",
    "        \"pos\",\n",
    "        \"obs\",\n",
    "        \"po\",\n",
    "        \"ppo\",\n",
    "    ],\n",
    "    header=0,\n",
    "    usecols=[\"tri\", \"ref\", \"alt\", \"lvl\", \"mu\", \"variant_type\"],\n",
    ")\n",
    "\n",
    "# Mutation rates are only available for 32 codons. We need to reverse-complement for the remainder.\n",
    "complement = {\"A\": \"T\", \"C\": \"G\", \"G\": \"C\", \"T\": \"A\"}\n",
    "# Replace ref and alt alleles\n",
    "_mu = mu.copy().replace(complement)\n",
    "# Reverse-complement trinucleotide contexts\n",
    "_mu[\"tri\"] = pd.Series([\"\".join([complement[y] for y in x])[::-1] for x in mu.tri])\n",
    "mu = pd.concat([mu, _mu])"
   ]
  },
  {
   "cell_type": "code",
   "execution_count": 11,
   "id": "fe89a3f9-e617-4784-8bf5-548a946ef2d1",
   "metadata": {},
   "outputs": [],
   "source": [
    "nmd = pd.read_csv(\n",
    "    \"../data/nmd_annotations.tsv\",\n",
    "    sep=\"\\t\",\n",
    "    usecols=[\"chr\", \"pos\", \"transcript_id\", \"nmd_definitive\"],\n",
    ").rename(columns={\"transcript_id\": \"enst\", \"nmd_definitive\": \"nmd\"})"
   ]
  },
  {
   "cell_type": "markdown",
   "id": "986cb619",
   "metadata": {},
   "source": [
    "## Merge annotations"
   ]
  },
  {
   "cell_type": "code",
   "execution_count": 12,
   "id": "d0e4d6d3",
   "metadata": {},
   "outputs": [],
   "source": [
    "# Merge VEP, context, NMD, and observed variant annotations\n",
    "df = vep.merge(tri, how=\"left\")\n",
    "df = df.merge(nmd, how=\"left\")\n",
    "df = df.merge(obs, how=\"left\").fillna(0)"
   ]
  },
  {
   "cell_type": "code",
   "execution_count": 13,
   "id": "0f683a7c",
   "metadata": {},
   "outputs": [],
   "source": [
    "# Merge methylation annotations\n",
    "variant_types = mu[[\"tri\", \"ref\", \"alt\", \"variant_type\"]].drop_duplicates()\n",
    "df = df.merge(variant_types, how=\"left\")\n",
    "df = df.merge(meth, how=\"left\")\n",
    "\n",
    "# All non-CpG sites have lvl 0\n",
    "df.loc[df[\"variant_type\"] != \"CpG\", \"lvl\"] = 0\n",
    "df.lvl = df.lvl.astype(int)\n",
    "df.obs = df.obs.astype(int)\n",
    "\n",
    "# Merge with mutability data\n",
    "df = df.merge(mu, how=\"left\")"
   ]
  },
  {
   "cell_type": "markdown",
   "id": "20568ad1-6f07-44bb-9139-5d9ddeba4834",
   "metadata": {},
   "source": [
    "## Summarise the data"
   ]
  },
  {
   "cell_type": "markdown",
   "id": "40a64106-e854-40e1-81a7-cafa1d4c71ba",
   "metadata": {},
   "source": [
    "### Synonymous proportion singletons by variant context"
   ]
  },
  {
   "cell_type": "code",
   "execution_count": 49,
   "id": "951acdb6-2d16-4e6a-8f6f-22992ffab3e2",
   "metadata": {},
   "outputs": [],
   "source": [
    "def get_ps(dfg):\n",
    "    \"\"\"\n",
    "    Get mean mutability and proportion of singletons.\n",
    "    \"\"\"\n",
    "    mu = dfg[\"mu\"].mean()\n",
    "    ns = dfg[\"ac\"].apply(lambda x: (x==1).sum()).rename(\"n_singletons\")\n",
    "    no = dfg[\"ac\"].count().rename(\"n_obs\")\n",
    "    \n",
    "    ps = pd.concat([mu, ns, no], axis=1).reset_index()\n",
    "    \n",
    "    ps[\"ps\"] = ps[\"n_singletons\"] / ps[\"n_obs\"]\n",
    "    \n",
    "    return ps"
   ]
  },
  {
   "cell_type": "code",
   "execution_count": 50,
   "id": "c99af593-47e5-45c7-a76d-74bac8471271",
   "metadata": {},
   "outputs": [],
   "source": [
    "# Subset to synonymous variants only\n",
    "syn = df[df[\"csq\"] == \"synonymous\"].copy()\n",
    "\n",
    "# Mask contexts in which a synonymous variant is generally not possible.\n",
    "# (NB synonymous variants in these contexts can only occur at exon-intron junctions)\n",
    "m1 = (syn.tri == \"AGT\") & ((syn.alt == \"C\") | (syn.alt == \"T\"))\n",
    "m2 = (syn.tri == \"AAT\") & ((syn.alt == \"C\") | (syn.alt == \"T\"))\n",
    "m3 = (syn.tri == \"ACT\") & ((syn.alt == \"G\") | (syn.alt == \"A\"))\n",
    "m4 = (syn.tri == \"ATT\") & ((syn.alt == \"G\") | (syn.alt == \"A\"))\n",
    "\n",
    "# Mask variants which are not observed\n",
    "m5 = syn[\"ac\"] == 0\n",
    "\n",
    "# Apply filters\n",
    "syn_obs = syn[~(m1 | m2 | m3 | m4 | m5)]\n",
    "\n",
    "# Get proportion of singletons per context for observed variants\n",
    "syn_g = syn_obs.groupby([\"tri\", \"ref\", \"alt\", \"variant_type\", \"lvl\"])\n",
    "\n",
    "ps = get_ps(syn_g)\n",
    "\n",
    "ps.to_csv(\"../outputs/proportion_singletons_synonymous_by_context.tsv\", sep=\"\\t\", index=False)"
   ]
  },
  {
   "cell_type": "markdown",
   "id": "e8817d79-0689-46d6-bdd1-6e0fb44266ba",
   "metadata": {},
   "source": [
    "### Proportion of singletons by csq"
   ]
  },
  {
   "cell_type": "code",
   "execution_count": 51,
   "id": "2e3a3ce8-69d7-4bf9-a992-c01c57d87f4f",
   "metadata": {},
   "outputs": [],
   "source": [
    "m1 = df[\"ac\"] != 0\n",
    "m2 = df[\"variant_type\"] != \"CpG\"\n",
    "m3 = df[\"csq\"] == \"nonsense\""
   ]
  },
  {
   "cell_type": "markdown",
   "id": "be5751da-5add-4a2e-9256-c327220c7016",
   "metadata": {},
   "source": [
    "#### Synonymous, missense, and nonsense"
   ]
  },
  {
   "cell_type": "code",
   "execution_count": 52,
   "id": "f3c53952-d755-45f2-b642-f3c54e8783f7",
   "metadata": {},
   "outputs": [],
   "source": [
    "# Include CpG\n",
    "ps_csq_cpg = get_ps(df[m1].groupby(\"csq\"))\n",
    "\n",
    "# Exclude CpG\n",
    "ps_csq_no_cpg = get_ps(df[m1 & m2].groupby(\"csq\"))"
   ]
  },
  {
   "cell_type": "markdown",
   "id": "5cb248c5-667e-45d8-9650-544e2c14825c",
   "metadata": {},
   "source": [
    "#### Nonsense, by NMD region"
   ]
  },
  {
   "cell_type": "code",
   "execution_count": 53,
   "id": "3253695a-846e-49b2-bcc7-a11ca77b3aba",
   "metadata": {},
   "outputs": [],
   "source": [
    "# Include CpG\n",
    "ps_region_cpg = get_ps(df[m1 & m3].groupby(\"nmd\"))\n",
    "\n",
    "# Exclude CpG\n",
    "ps_region_no_cpg = get_ps(df[m1 & m2 & m3].groupby(\"nmd\"))"
   ]
  },
  {
   "cell_type": "markdown",
   "id": "8fa46ba9-70a5-4d62-bc0f-70034da04120",
   "metadata": {},
   "source": [
    "### Combine CSQ and Region results"
   ]
  },
  {
   "cell_type": "code",
   "execution_count": 54,
   "id": "5f833846-9c87-4786-8039-2b4481d59004",
   "metadata": {},
   "outputs": [
    {
     "name": "stdout",
     "output_type": "stream",
     "text": [
      "cpg\n",
      "              csq            mu  n_singletons    n_obs        ps\n",
      "0        missense  1.821280e-08       3452755  7219559  0.478250\n",
      "1        nonsense  2.437282e-08        127971   236717  0.540608\n",
      "2      synonymous  2.055820e-08       1464049  3359955  0.435735\n",
      "0      distal_nmd  2.170373e-08         30962    58970  0.525047\n",
      "1       long_exon  1.995420e-08          8550    14496  0.589818\n",
      "2      nmd_target  2.715413e-08         76451   140940  0.542436\n",
      "3  start_proximal  1.672869e-08         12008    22311  0.538210\n",
      "\n",
      "\n",
      "no_cpg\n",
      "              csq            mu  n_singletons    n_obs        ps\n",
      "0        missense  5.019917e-09       3297481  6201057  0.531761\n",
      "1        nonsense  4.957895e-09        117416   192416  0.610220\n",
      "2      synonymous  5.987558e-09       1395327  2810047  0.496549\n",
      "0      distal_nmd  4.823988e-09         29094    49500  0.587758\n",
      "1       long_exon  4.798374e-09          7895    12338  0.639893\n",
      "2      nmd_target  5.003376e-09         69208   111290  0.621871\n",
      "3  start_proximal  5.141169e-09         11219    19288  0.581657\n",
      "\n",
      "\n"
     ]
    }
   ],
   "source": [
    "# Reformat column names\n",
    "ps_region_cpg = ps_region_cpg.rename(columns={\"nmd\":\"csq\"})\n",
    "ps_region_no_cpg = ps_region_no_cpg.rename(columns={\"nmd\":\"csq\"})\n",
    "\n",
    "for a, b, c in zip([ps_csq_cpg, ps_csq_no_cpg], [ps_region_cpg, ps_region_no_cpg], [\"cpg\",\"no_cpg\"]):\n",
    "    ps = pd.concat([a,b])\n",
    "    ps.to_csv(f\"../outputs/proportion_singletons_by_csq_and_region_{c}.tsv\", sep=\"\\t\", index=False)\n",
    "    print(f\"{c}\\n{ps}\\n\\n\")"
   ]
  }
 ],
 "metadata": {
  "kernelspec": {
   "display_name": "Python 3 (ipykernel)",
   "language": "python",
   "name": "python3"
  },
  "language_info": {
   "codemirror_mode": {
    "name": "ipython",
    "version": 3
   },
   "file_extension": ".py",
   "mimetype": "text/x-python",
   "name": "python",
   "nbconvert_exporter": "python",
   "pygments_lexer": "ipython3",
   "version": "3.8.16"
  }
 },
 "nbformat": 4,
 "nbformat_minor": 5
}
