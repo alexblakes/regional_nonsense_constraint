{
 "cells": [
  {
   "cell_type": "markdown",
   "id": "95d0fc7b-01c5-4a51-a5a6-73035c273123",
   "metadata": {},
   "source": [
    "# Label constrained regions\n",
    "This script labels the NMD regions within each transcript with a constraint annotation"
   ]
  },
  {
   "cell_type": "code",
   "execution_count": 1,
   "id": "6c90d7f8-9887-46de-80a6-a3a6d0dc3760",
   "metadata": {
    "tags": []
   },
   "outputs": [],
   "source": [
    "import numpy as np\n",
    "import pandas as pd"
   ]
  },
  {
   "cell_type": "code",
   "execution_count": 2,
   "id": "826108df-c814-4834-add4-0ab73270bdc9",
   "metadata": {
    "tags": []
   },
   "outputs": [],
   "source": [
    "def read_constraint_stats(path):\n",
    "    \"\"\"Read the constraint data into memory\"\"\"\n",
    "\n",
    "    df = pd.read_csv(\n",
    "        path,\n",
    "        sep=\"\\t\",\n",
    "        usecols=[\"region\", \"enst\", \"csq\", \"n_obs\", \"oe\", \"z\", \"p\", \"fdr_p\"],\n",
    "    )\n",
    "\n",
    "    return df"
   ]
  },
  {
   "cell_type": "code",
   "execution_count": 3,
   "id": "3be09592-a363-435c-ab92-1e49fc634a2f",
   "metadata": {
    "tags": []
   },
   "outputs": [],
   "source": [
    "def pivot_constraint_stats(df):\n",
    "    \"\"\"Pivot the dataframe to access key statistics for synonymous and nonsense variants\n",
    "    in each transcript and region.\n",
    "    For example, synonymous Z-scores in each transcript / region are required for\n",
    "    subsequent constraint annotations.\n",
    "    \"\"\"\n",
    "\n",
    "    df = (\n",
    "        df.pivot(\n",
    "            index=[\"region\", \"enst\"],\n",
    "            columns=\"csq\",\n",
    "            values=[\"n_obs\", \"oe\", \"z\", \"p\", \"fdr_p\"],\n",
    "        )\n",
    "        .swaplevel(\n",
    "            axis=1,\n",
    "        )\n",
    "        .reset_index(\n",
    "            drop=False,\n",
    "        )\n",
    "    )\n",
    "\n",
    "    return df"
   ]
  },
  {
   "cell_type": "code",
   "execution_count": 4,
   "id": "163badbf-50fe-4f56-9b13-4fb15a72c1e8",
   "metadata": {
    "tags": []
   },
   "outputs": [],
   "source": [
    "def flatten_multiindex_column(df, sep=\"_\"):\n",
    "    \"\"\"Flatten a multiindex column.\n",
    "    Column names from each level are separated by the given character.\n",
    "    \"\"\"\n",
    "\n",
    "    df.columns = [sep.join(x).strip(sep) for x in df.columns.values]\n",
    "\n",
    "    return df"
   ]
  },
  {
   "cell_type": "code",
   "execution_count": 5,
   "id": "b5a321a3-d495-4514-9b8a-6de24a2d41c4",
   "metadata": {
    "tags": []
   },
   "outputs": [],
   "source": [
    "def keep_constraint_columns(df):\n",
    "    \"\"\"Keep only those columns needed to calculate constraint\"\"\"\n",
    "\n",
    "    df = df[\n",
    "        [\n",
    "            \"region\",\n",
    "            \"enst\",\n",
    "            \"nonsense_n_obs\",\n",
    "            \"nonsense_oe\",\n",
    "            \"synonymous_z\",\n",
    "            \"nonsense_p\",\n",
    "            \"nonsense_fdr_p\",\n",
    "        ]\n",
    "    ]\n",
    "\n",
    "    return df"
   ]
  },
  {
   "cell_type": "code",
   "execution_count": 6,
   "id": "925806e0-b3f8-4eb2-a191-b26494e8b3d4",
   "metadata": {
    "tags": []
   },
   "outputs": [],
   "source": [
    "def filter_constrained_regions(df):\n",
    "    \"\"\"Filter for constrained and unconstrained regions / transcripts\"\"\"\n",
    "\n",
    "    # Filtering masks\n",
    "    m1 = df[\"nonsense_oe\"] < 0.35\n",
    "    m2 = df[\"synonymous_z\"] > -1\n",
    "    m3 = df[\"nonsense_fdr_p\"] < 0.05\n",
    "\n",
    "    m4 = df[\"nonsense_p\"] >= 0.05\n",
    "    m5 = df[\"nonsense_n_obs\"] >= 1\n",
    "\n",
    "    # Apply filters\n",
    "    df.loc[m1 & m2 & m3, \"constraint\"] = \"constrained\"\n",
    "    df.loc[m4 & m5, \"constraint\"] = \"unconstrained\"\n",
    "\n",
    "    # Drop irrelevant columns\n",
    "    df = df[[\"region\", \"enst\", \"constraint\"]]\n",
    "\n",
    "    # Drop regions lacking a definitive constraint annotation\n",
    "    df = df.dropna()\n",
    "\n",
    "    # Print summary statistics\n",
    "    print(\"Constrained region value counts:\")\n",
    "    print(df.groupby(\"constraint\").region.value_counts())\n",
    "\n",
    "    return df"
   ]
  },
  {
   "cell_type": "code",
   "execution_count": 7,
   "id": "f4261f88-4eef-428a-9b14-ef289c149812",
   "metadata": {
    "tags": []
   },
   "outputs": [],
   "source": [
    "def write_constraint_labels_to_output(df, path):\n",
    "    \"\"\"Save to output\"\"\"\n",
    "    df.to_csv(path, sep=\"\\t\", index=False)\n",
    "\n",
    "    return df"
   ]
  },
  {
   "cell_type": "code",
   "execution_count": 8,
   "id": "7bd674ed-4b1b-4798-9599-686337cbbf18",
   "metadata": {},
   "outputs": [
    {
     "name": "stdout",
     "output_type": "stream",
     "text": [
      "Constrained region value counts:\n",
      "constraint     region        \n",
      "constrained    transcript         3538\n",
      "               nmd_target         2380\n",
      "               distal_nmd          548\n",
      "               long_exon           388\n",
      "unconstrained  distal_nmd        11233\n",
      "               start_proximal    10933\n",
      "               transcript         8880\n",
      "               nmd_target         7300\n",
      "               long_exon          1519\n",
      "Name: region, dtype: int64\n"
     ]
    }
   ],
   "source": [
    "if __name__ == \"__main__\":\n",
    "    in_file_path = \"../outputs/expected_variants_all_regions_no_cpg_stats.tsv\"\n",
    "    out_file_path = \"../outputs/constrained_regions_labels.tsv\"\n",
    "\n",
    "    df = (\n",
    "        read_constraint_stats(in_file_path)\n",
    "        .pipe(pivot_constraint_stats)\n",
    "        .pipe(flatten_multiindex_column)\n",
    "        .pipe(keep_constraint_columns)\n",
    "        .pipe(filter_constrained_regions)\n",
    "        .pipe(write_constraint_labels_to_output, out_file_path)\n",
    "    )"
   ]
  },
  {
   "cell_type": "markdown",
   "id": "6f5c0711-da3f-4700-8738-b9bdd0ad97ee",
   "metadata": {},
   "source": [
    "## Missing transcripts and regions\n",
    "Some transcripts and regions are missing a constraint annotation. There are three possibilities:\n",
    "- The region does not exist (e.g. transcripts without a long exon >400nt in length)\n",
    "- No qualifying variants were identified in UKB. Likely due to capture / coverage issues. These transcripts are excluded from the analysis.\n",
    "- The region does not meet the criteria to be classified as either constrained or unconstrained; they are intermediate between the two categories."
   ]
  }
 ],
 "metadata": {
  "kernelspec": {
   "display_name": "Python [conda env:ukb]",
   "language": "python",
   "name": "conda-env-ukb-py"
  },
  "language_info": {
   "codemirror_mode": {
    "name": "ipython",
    "version": 3
   },
   "file_extension": ".py",
   "mimetype": "text/x-python",
   "name": "python",
   "nbconvert_exporter": "python",
   "pygments_lexer": "ipython3",
   "version": "3.8.16"
  }
 },
 "nbformat": 4,
 "nbformat_minor": 5
}
