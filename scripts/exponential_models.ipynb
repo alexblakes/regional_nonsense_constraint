{
 "cells": [
  {
   "cell_type": "markdown",
   "id": "fa5de67c",
   "metadata": {},
   "source": [
    "# Exponential models"
   ]
  },
  {
   "cell_type": "markdown",
   "id": "f1e2a796",
   "metadata": {},
   "source": [
    "This notebook is to play around with exponential models."
   ]
  },
  {
   "cell_type": "markdown",
   "id": "10620316",
   "metadata": {},
   "source": [
    "## Install libraries to cloud worker"
   ]
  },
  {
   "cell_type": "code",
   "execution_count": 1,
   "id": "1e22caa5",
   "metadata": {},
   "outputs": [
    {
     "name": "stdout",
     "output_type": "stream",
     "text": [
      "Collecting package metadata (current_repodata.json): done\n",
      "Solving environment: done\n",
      "\n",
      "\n",
      "==> WARNING: A newer version of conda exists. <==\n",
      "  current version: 4.10.3\n",
      "  latest version: 23.1.0\n",
      "\n",
      "Please update conda by running\n",
      "\n",
      "    $ conda update -n base -c defaults conda\n",
      "\n",
      "\n",
      "\n",
      "# All requested packages already installed.\n",
      "\n",
      "Collecting package metadata (current_repodata.json): done\n",
      "Solving environment: done\n",
      "\n",
      "\n",
      "==> WARNING: A newer version of conda exists. <==\n",
      "  current version: 4.10.3\n",
      "  latest version: 23.1.0\n",
      "\n",
      "Please update conda by running\n",
      "\n",
      "    $ conda update -n base -c defaults conda\n",
      "\n",
      "\n",
      "\n",
      "# All requested packages already installed.\n",
      "\n"
     ]
    }
   ],
   "source": [
    "! conda install statsmodels -y\n",
    "! conda install scikit-learn -y"
   ]
  },
  {
   "cell_type": "markdown",
   "id": "643f6841",
   "metadata": {},
   "source": [
    "## Import modules"
   ]
  },
  {
   "cell_type": "code",
   "execution_count": 2,
   "id": "fbf44191",
   "metadata": {},
   "outputs": [],
   "source": [
    "import numpy as np\n",
    "import pandas as pd\n",
    "from collections import defaultdict\n",
    "import matplotlib.pyplot as plt\n",
    "import seaborn as sns\n",
    "import statsmodels.formula.api as smf\n",
    "from sklearn.metrics import r2_score"
   ]
  },
  {
   "cell_type": "markdown",
   "id": "47c02452",
   "metadata": {},
   "source": [
    "## Read data to memory"
   ]
  },
  {
   "cell_type": "code",
   "execution_count": 11,
   "id": "3d782587",
   "metadata": {},
   "outputs": [
    {
     "data": {
      "text/html": [
       "<div>\n",
       "<style scoped>\n",
       "    .dataframe tbody tr th:only-of-type {\n",
       "        vertical-align: middle;\n",
       "    }\n",
       "\n",
       "    .dataframe tbody tr th {\n",
       "        vertical-align: top;\n",
       "    }\n",
       "\n",
       "    .dataframe thead th {\n",
       "        text-align: right;\n",
       "    }\n",
       "</style>\n",
       "<table border=\"1\" class=\"dataframe\">\n",
       "  <thead>\n",
       "    <tr style=\"text-align: right;\">\n",
       "      <th></th>\n",
       "      <th>tri</th>\n",
       "      <th>ref</th>\n",
       "      <th>alt</th>\n",
       "      <th>lvl</th>\n",
       "      <th>mu</th>\n",
       "      <th>sqrt_mu</th>\n",
       "      <th>obs</th>\n",
       "      <th>pos</th>\n",
       "    </tr>\n",
       "  </thead>\n",
       "  <tbody>\n",
       "    <tr>\n",
       "      <th>0</th>\n",
       "      <td>AAA</td>\n",
       "      <td>A</td>\n",
       "      <td>C</td>\n",
       "      <td>0</td>\n",
       "      <td>1.800000e-09</td>\n",
       "      <td>0.000042</td>\n",
       "      <td>0.046519</td>\n",
       "      <td>27021</td>\n",
       "    </tr>\n",
       "    <tr>\n",
       "      <th>1</th>\n",
       "      <td>AAA</td>\n",
       "      <td>A</td>\n",
       "      <td>G</td>\n",
       "      <td>0</td>\n",
       "      <td>3.010000e-09</td>\n",
       "      <td>0.000055</td>\n",
       "      <td>0.098643</td>\n",
       "      <td>204496</td>\n",
       "    </tr>\n",
       "    <tr>\n",
       "      <th>2</th>\n",
       "      <td>AAA</td>\n",
       "      <td>A</td>\n",
       "      <td>T</td>\n",
       "      <td>0</td>\n",
       "      <td>1.040000e-09</td>\n",
       "      <td>0.000032</td>\n",
       "      <td>0.026177</td>\n",
       "      <td>42557</td>\n",
       "    </tr>\n",
       "    <tr>\n",
       "      <th>3</th>\n",
       "      <td>AAC</td>\n",
       "      <td>A</td>\n",
       "      <td>C</td>\n",
       "      <td>0</td>\n",
       "      <td>1.420000e-09</td>\n",
       "      <td>0.000038</td>\n",
       "      <td>0.032891</td>\n",
       "      <td>14989</td>\n",
       "    </tr>\n",
       "  </tbody>\n",
       "</table>\n",
       "</div>"
      ],
      "text/plain": [
       "   tri ref alt  lvl            mu   sqrt_mu       obs     pos\n",
       "0  AAA   A   C    0  1.800000e-09  0.000042  0.046519   27021\n",
       "1  AAA   A   G    0  3.010000e-09  0.000055  0.098643  204496\n",
       "2  AAA   A   T    0  1.040000e-09  0.000032  0.026177   42557\n",
       "3  AAC   A   C    0  1.420000e-09  0.000038  0.032891   14989"
      ]
     },
     "execution_count": 11,
     "metadata": {},
     "output_type": "execute_result"
    }
   ],
   "source": [
    "df = pd.read_csv(\"../outputs/mutational_model_stats.tsv\", sep=\"\\t\")\n",
    "df.head(4)"
   ]
  },
  {
   "cell_type": "markdown",
   "id": "d83d716f",
   "metadata": {},
   "source": [
    "### Key variables\n",
    "- \"pos\": Number of possible mutations\n",
    "- \"obs\": Proportion of possible mutations which are observed\n",
    "- \"mu\": The \"mutability\" of a given sequence (i.e. how likely is a mutation)"
   ]
  },
  {
   "cell_type": "markdown",
   "id": "4752f948",
   "metadata": {},
   "source": [
    "## Plot \"mu\" vs \"obs\""
   ]
  },
  {
   "cell_type": "code",
   "execution_count": 12,
   "id": "25aaf064",
   "metadata": {},
   "outputs": [],
   "source": [
    "sns.set_context(\"talk\")"
   ]
  },
  {
   "cell_type": "code",
   "execution_count": 13,
   "id": "78c95aed",
   "metadata": {},
   "outputs": [
    {
     "data": {
      "text/plain": [
       "<seaborn.axisgrid.FacetGrid at 0x7f18d75e7f28>"
      ]
     },
     "execution_count": 13,
     "metadata": {},
     "output_type": "execute_result"
    },
    {
     "data": {
      "image/png": "[encoded data removed]",
      "text/plain": [
       "<Figure size 360x360 with 1 Axes>"
      ]
     },
     "metadata": {
      "needs_background": "light"
     },
     "output_type": "display_data"
    }
   ],
   "source": [
    "g = (sns.relplot(kind=\"scatter\",\n",
    "                 data=df,\n",
    "                 x=\"mu\",\n",
    "                 y=\"obs\",\n",
    "                )\n",
    "    )\n",
    "(g.set(xlim=(8.9*10**-10, 2.5*10**-7),\n",
    "       ylim=(0,1.1),\n",
    "       xlabel=\"Mutability\",\n",
    "       ylabel=\"Proportion observed\"\n",
    "      )\n",
    ")"
   ]
  },
  {
   "cell_type": "markdown",
   "id": "0ad40ed1",
   "metadata": {},
   "source": [
    "This looks like a nice exponential relationship which caps at 1. (The proportion of observed variants can't be >1).\n",
    "\n",
    "I want to fit a curve which describes this relationship. Later, I want to use this model to predict \"obs\" (the proportion observed) for other values of \"mu\" (mutability)."
   ]
  },
  {
   "cell_type": "code",
   "execution_count": 14,
   "id": "adf2bfd1",
   "metadata": {},
   "outputs": [
    {
     "name": "stdout",
     "output_type": "stream",
     "text": [
      "Rows = 304\n",
      "There are 5 observations for which \"obs\" == 1. Drop them.\n",
      "Rows remaining = 299\n"
     ]
    }
   ],
   "source": [
    "print(f\"Rows = {len(df)}\")\n",
    "print(f'There are {(df[\"obs\"]==1).sum()} observations for which \"obs\" == 1. Drop them.')\n",
    "df = df[df[\"obs\"] != 1].copy()\n",
    "print(f\"Rows remaining = {len(df)}\")"
   ]
  },
  {
   "cell_type": "markdown",
   "id": "aeb3b9d9",
   "metadata": {},
   "source": [
    "## Where Alex is struggling..."
   ]
  },
  {
   "cell_type": "markdown",
   "id": "355055cd",
   "metadata": {},
   "source": [
    "The approach below is taken from published work which I am trying to replicate."
   ]
  },
  {
   "cell_type": "code",
   "execution_count": 42,
   "id": "b830afef",
   "metadata": {},
   "outputs": [
    {
     "name": "stdout",
     "output_type": "stream",
     "text": [
      "fit = [-2.32233214e+07 -3.86560516e-02]\n",
      "A = -23223321.413843006\n",
      "B = -0.03865605157918833\n",
      "R2 for \"obs\" vs \"fit_obs\" = 0.9934281046076844\n",
      "-5.705146476556881\n"
     ]
    }
   ],
   "source": [
    "# Fit a polynomial equation\n",
    "fit = np.polyfit(df[\"mu\"], np.log(1 - df[\"obs\"]), 1, w=(df[\"pos\"]))\n",
    "\n",
    "print(f\"fit = {fit}\")\n",
    "\n",
    "# The formula y = np.log(1 - df[\"obs\"]) is taken from published work which I am replicating.\n",
    "# Why am I using this? \n",
    "# Why not simply y = np.log(df[\"obs\"]) ?\n",
    "\n",
    "# w (weights) is slightly arbitrary. I have weighted on the number of possible variants, \"pos\",\n",
    "# which seems intuitive. (There are some rows for which very few variants are possible).\n",
    "\n",
    "A,B = fit # Get the coefficients\n",
    "print(f\"A = {A}\")\n",
    "print(f\"B = {B}\")\n",
    "\n",
    "# This equation is used to fit \"obs\"\n",
    "# Is it consistent with the equation above?\n",
    "df[\"fit_obs\"] = 1 - (np.exp(B)) * (np.exp(A * df[\"mu\"]))\n",
    "\n",
    "# R**2 for \"obs\" and \"fit_obs\"\n",
    "print(f'R2 for \"obs\" vs \"fit_obs\" = {r2_score(df[\"obs\"], df[\"fit_obs\"])}')\n",
    "# Why have they given this statistic? Ultimately I am interested in \"mu\" vs \"obs\".\n",
    "\n",
    "# Finally, is there a role for a np.poly1d object?\n",
    "# I can't find a way to reconcile this with the fit equation, above.\n",
    "p = np.poly1d(fit)\n",
    "\n",
    "# For example, where the highest mutability is 2.44*10**-7\n",
    "print(f\"{p(2.44*10**-7)}\")"
   ]
  },
  {
   "cell_type": "markdown",
   "id": "50a9f737",
   "metadata": {},
   "source": [
    "### Plots for the published approach\n",
    "These look good, but I am struggling to understand the logic in the cell above.\n",
    "\n",
    "Also, I do not know how to make predictions from the model."
   ]
  },
  {
   "cell_type": "code",
   "execution_count": 46,
   "id": "b9475305",
   "metadata": {},
   "outputs": [
    {
     "data": {
      "text/plain": [
       "[<matplotlib.lines.Line2D at 0x7f18d7be97b8>]"
      ]
     },
     "execution_count": 46,
     "metadata": {},
     "output_type": "execute_result"
    },
    {
     "data": {
      "image/png": "[encoded data removed]",
      "text/plain": [
       "<Figure size 360x360 with 1 Axes>"
      ]
     },
     "metadata": {
      "needs_background": "light"
     },
     "output_type": "display_data"
    }
   ],
   "source": [
    "# Plot \"mu\" vs \"fit_obs\"\n",
    "g = (sns.relplot(kind=\"scatter\",\n",
    "                 data=df,\n",
    "                 x=\"mu\",\n",
    "                 y=\"fit_obs\",\n",
    "                 edgecolor=\"none\",\n",
    "               )\n",
    "    )\n",
    "\n",
    "# Modify figure\n",
    "(g.set(xlim=(8.9*10**-10, 2.5*10**-7),\n",
    "       ylim=(0,1.1),\n",
    "       xlabel=\"Mutability\",\n",
    "       ylabel=\"Fitted proportion observed\",\n",
    "      )\n",
    ")\n",
    "\n",
    "# Add trend line\n",
    "plt.plot(sorted(df[\"mu\"]), sorted(df[\"fit_obs\"]))"
   ]
  },
  {
   "cell_type": "code",
   "execution_count": 45,
   "id": "60abdb89",
   "metadata": {},
   "outputs": [
    {
     "data": {
      "text/plain": [
       "<seaborn.axisgrid.FacetGrid at 0x7f18d7be9588>"
      ]
     },
     "execution_count": 45,
     "metadata": {},
     "output_type": "execute_result"
    },
    {
     "data": {
      "image/png": "[encoded data removed]",
      "text/plain": [
       "<Figure size 360x360 with 1 Axes>"
      ]
     },
     "metadata": {
      "needs_background": "light"
     },
     "output_type": "display_data"
    }
   ],
   "source": [
    "# Plot \"obs\" vs \"fit_obs\"\n",
    "g = sns.lmplot(data=df, x=\"obs\", y=\"fit_obs\")\n",
    "g.set(xlabel = \"Proportion observed\", ylabel=\"Fitted proportion observed\")"
   ]
  }
 ],
 "metadata": {
  "kernelspec": {
   "display_name": "Python 3",
   "language": "python",
   "name": "python3"
  },
  "language_info": {
   "codemirror_mode": {
    "name": "ipython",
    "version": 3
   },
   "file_extension": ".py",
   "mimetype": "text/x-python",
   "name": "python",
   "nbconvert_exporter": "python",
   "pygments_lexer": "ipython3",
   "version": "3.6.5"
  }
 },
 "nbformat": 4,
 "nbformat_minor": 5
}
