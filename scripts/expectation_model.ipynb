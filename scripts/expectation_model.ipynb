{
 "cells": [
  {
   "cell_type": "markdown",
   "id": "0dccb18a",
   "metadata": {},
   "source": [
    "# Expectation model\n",
    "This notebook describes the expectation model for predicting the proportion of observed variants for a given sequence mutability. \n",
    "\n",
    "It first combines annotations for possible variants, observed variants, VEP annotations and trinucleotide contexts. \n",
    "\n",
    "The proportion of synonymous variants observed in each trinucleotide context is then calculated, and an exponential  model is built to describe the relationship between mutability and proportion observed."
   ]
  },
  {
   "cell_type": "markdown",
   "id": "380253cf",
   "metadata": {},
   "source": [
    "## Preliminaries"
   ]
  },
  {
   "cell_type": "markdown",
   "id": "eb72504f",
   "metadata": {},
   "source": [
    "### Install libraries to cloud worker"
   ]
  },
  {
   "cell_type": "code",
   "execution_count": 1,
   "id": "79dd4682",
   "metadata": {},
   "outputs": [
    {
     "name": "stdout",
     "output_type": "stream",
     "text": [
      "Collecting package metadata (current_repodata.json): done\n",
      "Solving environment: done\n",
      "\n",
      "\n",
      "==> WARNING: A newer version of conda exists. <==\n",
      "  current version: 4.10.3\n",
      "  latest version: 23.1.0\n",
      "\n",
      "Please update conda by running\n",
      "\n",
      "    $ conda update -n base -c defaults conda\n",
      "\n",
      "\n",
      "\n",
      "# All requested packages already installed.\n",
      "\n"
     ]
    }
   ],
   "source": [
    "! conda install statsmodels -y"
   ]
  },
  {
   "cell_type": "markdown",
   "id": "4a0e48a1",
   "metadata": {},
   "source": [
    "### Download data from UKB RAP"
   ]
  },
  {
   "cell_type": "code",
   "execution_count": 2,
   "id": "02744c96",
   "metadata": {},
   "outputs": [],
   "source": [
    "%%bash\n",
    "dx download \\\n",
    "    -o ../data/ \\\n",
    "    data/cds_trinucleotide_contexts.tsv \\\n",
    "    data/grch38_cpg_methylation.tsv \\\n",
    "    data/gnomad_nc_mutation_rates.tsv \\\n",
    "    data/vep_cds_all_possible_snvs.vcf \\\n",
    "    outputs/gnomad_pass_variants/all_pass_snvs.txt"
   ]
  },
  {
   "cell_type": "markdown",
   "id": "20f33d3c",
   "metadata": {},
   "source": [
    "### Import modules"
   ]
  },
  {
   "cell_type": "code",
   "execution_count": 3,
   "id": "66259ce7",
   "metadata": {},
   "outputs": [],
   "source": [
    "# Import modules\n",
    "import numpy as np\n",
    "import pandas as pd\n",
    "from collections import defaultdict\n",
    "import matplotlib.pyplot as plt\n",
    "import seaborn as sns\n",
    "import statsmodels.formula.api as smf\n",
    "\n",
    "# Set seaborn context\n",
    "sns.set_context(\"talk\")"
   ]
  },
  {
   "cell_type": "markdown",
   "id": "68c98215",
   "metadata": {},
   "source": [
    "## Load datasets"
   ]
  },
  {
   "cell_type": "code",
   "execution_count": 5,
   "id": "87357be6",
   "metadata": {},
   "outputs": [],
   "source": [
    "# Define VCF headers and datatypes.\n",
    "_header = [\"chr\", \"pos\", \"id\", \"ref\", \"alt\", \"qual\", \"filter\", \"info\"]\n",
    "\n",
    "datatypes = defaultdict(lambda: \"str\")\n",
    "datatypes.update({\"pos\": np.int32, \"ac\": np.int32, \"an\": np.int32})"
   ]
  },
  {
   "cell_type": "code",
   "execution_count": 6,
   "id": "a42f3645",
   "metadata": {},
   "outputs": [],
   "source": [
    "# Retreive observed variants\n",
    "obs = pd.read_csv(\n",
    "    \"../data/all_pass_snvs.txt\",\n",
    "    sep=\"\\t\",\n",
    "    header=None,\n",
    "    names=_header + [\"ac\", \"an\"],\n",
    "    usecols=[\"chr\", \"pos\", \"ref\", \"alt\", \"ac\", \"an\"],\n",
    "    dtype=datatypes,\n",
    ").assign(obs=1)"
   ]
  },
  {
   "cell_type": "code",
   "execution_count": 7,
   "id": "0f6a1d47",
   "metadata": {},
   "outputs": [],
   "source": [
    "# Retreive all possible SNVs\n",
    "pos = pd.read_csv(\n",
    "    \"../data/vep_cds_all_possible_snvs.vcf\",\n",
    "    sep=\"\\t\",\n",
    "    comment=\"#\",\n",
    "    header=None,\n",
    "    names=_header,\n",
    "    dtype=datatypes,\n",
    "    usecols=[\"chr\", \"pos\", \"ref\", \"alt\"],\n",
    ")"
   ]
  },
  {
   "cell_type": "code",
   "execution_count": 8,
   "id": "ac2e2bbf",
   "metadata": {},
   "outputs": [],
   "source": [
    "# Retreive VEP annotations of all possible SNVs\n",
    "vep = pd.read_csv(\n",
    "    \"../data/vep_cds_all_possible_snvs.vcf\",\n",
    "    sep=\"\\t\",\n",
    "    comment=\"#\",\n",
    "    header=None,\n",
    "    names=_header,\n",
    "    dtype=datatypes,\n",
    "    usecols=[\"chr\", \"pos\", \"ref\", \"alt\", \"info\"],\n",
    ")"
   ]
  },
  {
   "cell_type": "code",
   "execution_count": 9,
   "id": "923c9cb1",
   "metadata": {},
   "outputs": [],
   "source": [
    "# Limit to synonymous variants only\n",
    "syn = pd.Series([\"synonymous\" in x for x in vep[\"info\"]])\n",
    "vep = vep.drop(\"info\", axis=1).loc[syn].assign(csq=\"synonymous\")"
   ]
  },
  {
   "cell_type": "code",
   "execution_count": 10,
   "id": "a3318796",
   "metadata": {},
   "outputs": [],
   "source": [
    "# Trinucleotide contexts\n",
    "tri = pd.read_csv(\n",
    "    \"../data/cds_trinucleotide_contexts.tsv\", sep=\"\\t\", dtype=datatypes\n",
    ")"
   ]
  },
  {
   "cell_type": "code",
   "execution_count": 11,
   "id": "63bc8ee4",
   "metadata": {},
   "outputs": [],
   "source": [
    "# gnomAD methylation data\n",
    "meth = (pd.read_csv(\"../data/grch38_cpg_methylation.tsv\", \n",
    "                    sep=\"\\t\",\n",
    "                    header=0,\n",
    "                    names=[\"ix\",\"chr\",\"pos\",\"alleles\",\"lvl\"],\n",
    "                    usecols=[\"chr\",\"pos\",\"lvl\"],\n",
    "                   )\n",
    "       )"
   ]
  },
  {
   "cell_type": "code",
   "execution_count": 12,
   "id": "10c66225",
   "metadata": {},
   "outputs": [],
   "source": [
    "# Mutation rates\n",
    "mu = pd.read_csv(\n",
    "    \"../data/gnomad_nc_mutation_rates.tsv\",\n",
    "    sep=\"\\t\",\n",
    "    names=[\"tri\", \"ref\", \"alt\", \"lvl\", \"variant_type\", \"mu\", \"pos\", \"obs\", \"po\", \"ppo\",],\n",
    "    header=0,\n",
    "    usecols=[\"tri\", \"ref\", \"alt\", \"lvl\", \"mu\", \"variant_type\"],\n",
    ")\n",
    "\n",
    "# Mutation rates are only available for 32 codons. We need to reverse-complement for the remainder.\n",
    "complement = {\"A\": \"T\", \"C\": \"G\", \"G\": \"C\", \"T\": \"A\"}\n",
    "# Replace ref and alt alleles\n",
    "_mu = mu.copy().replace(complement)\n",
    "# Reverse-complement trinucleotide contexts\n",
    "_mu[\"tri\"] = pd.Series([\"\".join([complement[y] for y in x])[::-1] for x in mu.tri])\n",
    "mu = pd.concat([mu, _mu])"
   ]
  },
  {
   "cell_type": "markdown",
   "id": "1e57aa88",
   "metadata": {},
   "source": [
    "## Merge annotations"
   ]
  },
  {
   "cell_type": "code",
   "execution_count": 13,
   "id": "1796fcb2",
   "metadata": {},
   "outputs": [],
   "source": [
    "# Merge variant annotations\n",
    "df = pos.merge(obs, how=\"left\").fillna(0)\n",
    "df = df.merge(vep, how=\"left\").dropna()\n",
    "df = df.merge(tri, how=\"left\")"
   ]
  },
  {
   "cell_type": "code",
   "execution_count": 14,
   "id": "458f319d",
   "metadata": {},
   "outputs": [],
   "source": [
    "df_spare = df.copy()"
   ]
  },
  {
   "cell_type": "code",
   "execution_count": 15,
   "id": "0510055e",
   "metadata": {},
   "outputs": [],
   "source": [
    "# Merge methylation and mutability annotations\n",
    "\n",
    "## Find the number of CpG sites not represented in the ENCODE data\n",
    "variant_types = mu[[\"tri\", \"ref\", \"alt\", \"variant_type\"]].drop_duplicates()\n",
    "df = df.merge(variant_types, how=\"left\")\n",
    "df = df.merge(meth, how=\"left\")\n",
    "\n",
    "## All non-CpG sites have lvl 0\n",
    "df.loc[df[\"variant_type\"] != \"CpG\", \"lvl\"] = 0\n",
    "df.lvl = df.lvl.astype(int)\n",
    "\n",
    "## Merge with mutability data\n",
    "df = df.merge(mu, how=\"left\")"
   ]
  },
  {
   "cell_type": "markdown",
   "id": "cf88ea6a",
   "metadata": {},
   "source": [
    "### Make a copy of the dataframe in case it is needed"
   ]
  },
  {
   "cell_type": "code",
   "execution_count": 17,
   "id": "df5f539e",
   "metadata": {},
   "outputs": [],
   "source": [
    "df_spare = df.copy()"
   ]
  },
  {
   "cell_type": "markdown",
   "id": "13a2060b",
   "metadata": {},
   "source": [
    "## Drop selected variants"
   ]
  },
  {
   "cell_type": "code",
   "execution_count": 16,
   "id": "c76ada4a",
   "metadata": {},
   "outputs": [],
   "source": [
    "# Drop contexts in which a synonymous variant is generally not possible.\n",
    "# (Synonymous variants in these contexts may occur at splice junctions)\n",
    "m1 = (df.tri == \"AGT\") & ((df.alt == \"C\") | (df.alt == \"T\"))\n",
    "m2 = (df.tri == \"AAT\") & ((df.alt == \"C\") | (df.alt == \"T\"))\n",
    "m3 = (df.tri == \"ACT\") & ((df.alt == \"G\") | (df.alt == \"A\"))\n",
    "m4 = (df.tri == \"ATT\") & ((df.alt == \"G\") | (df.alt == \"A\"))\n",
    "\n",
    "df = df[~(m1 | m2 | m3 | m4)]"
   ]
  },
  {
   "cell_type": "code",
   "execution_count": 18,
   "id": "ff81cc2a",
   "metadata": {},
   "outputs": [],
   "source": [
    "# Drop common variants\n",
    "df = df[(df[\"ac\"] == 0) | (df[\"ac\"] / df[\"an\"] < 0.001)]"
   ]
  },
  {
   "cell_type": "markdown",
   "id": "1c3b56bd",
   "metadata": {},
   "source": [
    "## Statistics"
   ]
  },
  {
   "cell_type": "code",
   "execution_count": 21,
   "id": "dd0fac2e",
   "metadata": {},
   "outputs": [],
   "source": [
    "stats = (\n",
    "    df.groupby([\"tri\", \"ref\", \"alt\", \"lvl\"])\n",
    "    .agg({\"mu\": \"mean\", \"obs\": \"mean\", \"pos\": \"count\"})\n",
    "    .reset_index()\n",
    ")\n",
    "stats.to_csv(\"../outputs/mutational_model_stats.tsv\", sep=\"\\t\", index=False)"
   ]
  },
  {
   "cell_type": "markdown",
   "id": "e57208b4",
   "metadata": {},
   "source": [
    "## Plots"
   ]
  },
  {
   "cell_type": "code",
   "execution_count": 5,
   "id": "71486688",
   "metadata": {},
   "outputs": [
    {
     "data": {
      "text/plain": [
       "<seaborn.axisgrid.FacetGrid at 0x7f6a17fdd7f0>"
      ]
     },
     "execution_count": 5,
     "metadata": {},
     "output_type": "execute_result"
    },
    {
     "data": {
      "image/png": "[encoded data removed]",
      "text/plain": [
       "<Figure size 360x360 with 1 Axes>"
      ]
     },
     "metadata": {
      "needs_background": "light"
     },
     "output_type": "display_data"
    }
   ],
   "source": [
    "g = (sns.relplot(kind=\"scatter\",\n",
    "                 data=stats,\n",
    "                 x=\"mu\",\n",
    "                 y=\"obs\",\n",
    "                )\n",
    "    )\n",
    "(g.set(xlim=(8.9*10**-10, 2.5*10**-7),\n",
    "       ylim=(0,1.1),\n",
    "       title=\"Synonymous\",\n",
    "       xlabel=\"Mutability\",\n",
    "       ylabel=\"Proportion observed\",\n",
    "      )\n",
    ")"
   ]
  },
  {
   "cell_type": "markdown",
   "id": "3b1c7854",
   "metadata": {},
   "source": [
    "This looks like a nice exponential relationship which caps at 1. (The proportion of observed variants can't be >1).\n",
    "\n",
    "I want to fit a curve which describes this relationship. Later, I want to use this model to predict \"obs\" (the proportion observed) for other values of \"mu\" (mutability)."
   ]
  },
  {
   "cell_type": "markdown",
   "id": "73855455",
   "metadata": {},
   "source": [
    "## Exponential model"
   ]
  },
  {
   "cell_type": "markdown",
   "id": "39fd2088",
   "metadata": {},
   "source": [
    "### Drop saturated contexts"
   ]
  },
  {
   "cell_type": "code",
   "execution_count": 6,
   "id": "19ccc7a2",
   "metadata": {},
   "outputs": [
    {
     "name": "stdout",
     "output_type": "stream",
     "text": [
      "Contexts = 304\n",
      "There are 5 observations for which \"obs\" == 1. Drop them.\n",
      "Contexts remaining = 299\n"
     ]
    }
   ],
   "source": [
    "print(f\"Contexts = {len(stats)}\")\n",
    "print(f'There are {(stats[\"obs\"]==1).sum()} observations for which \"obs\" == 1. Drop them.')\n",
    "\n",
    "# Drop saturated contexts\n",
    "stats_nonsat = [stats[\"obs\"] != 1].copy()\n",
    "print(f\"Contexts remaining = {len(stats_nonsat)}\")"
   ]
  },
  {
   "cell_type": "markdown",
   "id": "86d2bfb3",
   "metadata": {},
   "source": [
    "## Fit the model"
   ]
  },
  {
   "cell_type": "markdown",
   "id": "dd43309f",
   "metadata": {},
   "source": [
    "The approach below matches that in from the gnomAD code base at https://github.com/atgu/gnomad_nc_constraint"
   ]
  },
  {
   "cell_type": "code",
   "execution_count": 7,
   "id": "0acd311a",
   "metadata": {},
   "outputs": [],
   "source": [
    "# A function to retrieve the standard error of a proportion\n",
    "def sem(p, n): return np.sqrt((p*(1-p))/n)"
   ]
  },
  {
   "cell_type": "code",
   "execution_count": 8,
   "id": "5091a229",
   "metadata": {},
   "outputs": [
    {
     "name": "stdout",
     "output_type": "stream",
     "text": [
      "A = -23025162.179456074\n",
      "B = -0.023470852796130738\n",
      "R2 for \"obs\" vs \"fit_obs\" = 0.9938988211074241\n"
     ]
    }
   ],
   "source": [
    "# Fit a polynomial equation\n",
    "fit = np.polyfit(stats_nonsat[\"mu\"], np.log(1 - stats_nonsat[\"obs\"]), 1, w=(1/sem(stats_nonsat[\"obs\"], stats_nonsat[\"pos\"])))\n",
    "# Weighted by 1 / sem(\"obs\"), as per gnomAD paper\n",
    "# Weighting by \"pos\" is also reasonable\n",
    "\n",
    "# Create a polynomial evaluator\n",
    "p = np.poly1d(fit)\n",
    "\n",
    "A,B = fit # Get the coefficients\n",
    "print(f\"A = {A}\")\n",
    "print(f\"B = {B}\")\n",
    "\n",
    "# The expressions below are equivalent - both are given for clarity\n",
    "stats_nonsat[\"fit_obs\"] = 1 - (np.exp(B)) * (np.exp(A * stats_nonsat[\"mu\"]))\n",
    "stats_nonsat[\"fit_obs\"] = 1 - np.exp(p(stats_nonsat[\"mu\"]))\n",
    "\n",
    "# R2 for \"obs\" vs \"fit_obs\"\n",
    "print(f'R2 = {np.round(r2_score(stats_nonsat[\"obs\"], stats_nonsat[\"fit_obs\"]), 5)} for \"obs\" vs \"fit_obs\"')"
   ]
  },
  {
   "cell_type": "markdown",
   "id": "e36a6ac1",
   "metadata": {},
   "source": [
    "### Plots "
   ]
  },
  {
   "cell_type": "code",
   "execution_count": 9,
   "id": "7a62a717",
   "metadata": {},
   "outputs": [
    {
     "data": {
      "text/plain": [
       "[<matplotlib.lines.Line2D at 0x7f6a177529b0>]"
      ]
     },
     "execution_count": 9,
     "metadata": {},
     "output_type": "execute_result"
    },
    {
     "data": {
      "image/png": "[encoded data removed]",
      "text/plain": [
       "<Figure size 360x360 with 1 Axes>"
      ]
     },
     "metadata": {
      "needs_background": "light"
     },
     "output_type": "display_data"
    }
   ],
   "source": [
    "# Plot \"mu\" vs \"fit_obs\"\n",
    "g = (sns.relplot(kind=\"scatter\",\n",
    "                 data=stats_nonsat,\n",
    "                 x=\"mu\",\n",
    "                 y=\"fit_obs\",\n",
    "                 edgecolor=\"none\",\n",
    "               )\n",
    "    )\n",
    "\n",
    "# Modify figure\n",
    "(g.set(xlim=(8.9*10**-10, 2.5*10**-7),\n",
    "       ylim=(0,1.1),\n",
    "       title=\"Synonymous\",\n",
    "       xlabel=\"Mutability\",\n",
    "       ylabel=\"Fitted proportion observed\",\n",
    "      )\n",
    ")\n",
    "\n",
    "# Add trend line\n",
    "plt.plot(sorted(stats_nonsat[\"mu\"]), sorted(stats_nonsat[\"fit_obs\"]))"
   ]
  },
  {
   "cell_type": "code",
   "execution_count": 10,
   "id": "d6749380",
   "metadata": {},
   "outputs": [
    {
     "data": {
      "text/plain": [
       "<seaborn.axisgrid.FacetGrid at 0x7f6a16ed5d68>"
      ]
     },
     "execution_count": 10,
     "metadata": {},
     "output_type": "execute_result"
    },
    {
     "data": {
      "image/png": "[encoded data removed]",
      "text/plain": [
       "<Figure size 360x360 with 1 Axes>"
      ]
     },
     "metadata": {
      "needs_background": "light"
     },
     "output_type": "display_data"
    }
   ],
   "source": [
    "# Plot \"obs\" vs \"fit_obs\"\n",
    "g = sns.lmplot(data=stats_nonsat, x=\"obs\", y=\"fit_obs\")\n",
    "(g.set(title=\"Synonymous\", \n",
    "       xlabel = \"Proportion observed\", \n",
    "       ylabel=\"Fitted proportion observed\", \n",
    "       xscale=\"log\", \n",
    "       yscale=\"log\",\n",
    "       xlim=(0.02, 1.2),\n",
    "       ylim=(0.02, 1.2),\n",
    "      )\n",
    ")"
   ]
  },
  {
   "cell_type": "code",
   "execution_count": null,
   "id": "1e3db486",
   "metadata": {},
   "outputs": [],
   "source": []
  }
 ],
 "metadata": {
  "kernelspec": {
   "display_name": "Python 3",
   "language": "python",
   "name": "python3"
  },
  "language_info": {
   "codemirror_mode": {
    "name": "ipython",
    "version": 3
   },
   "file_extension": ".py",
   "mimetype": "text/x-python",
   "name": "python",
   "nbconvert_exporter": "python",
   "pygments_lexer": "ipython3",
   "version": "3.6.5"
  }
 },
 "nbformat": 4,
 "nbformat_minor": 5
}
