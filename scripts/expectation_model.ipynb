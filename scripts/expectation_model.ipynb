{
 "cells": [
  {
   "cell_type": "markdown",
   "id": "cc2799ad",
   "metadata": {},
   "source": [
    "# Expectation model\n",
    "This notebook describes the expectation model for predicting the proportion of observed variants for a given sequence mutability. \n",
    "\n",
    "It first combines annotations for possible variants, observed variants, VEP annotations and trinucleotide contexts. \n",
    "\n",
    "The proportion of synonymous variants observed in each trinucleotide context is then calculated, and an exponential  model is built to describe the relationship between mutability and proportion observed."
   ]
  },
  {
   "cell_type": "markdown",
   "id": "3586f45c",
   "metadata": {},
   "source": [
    "## Preliminaries"
   ]
  },
  {
   "cell_type": "markdown",
   "id": "ff149281",
   "metadata": {},
   "source": [
    "### Install libraries to cloud worker"
   ]
  },
  {
   "cell_type": "code",
   "execution_count": 31,
   "id": "ee106428",
   "metadata": {},
   "outputs": [
    {
     "name": "stdout",
     "output_type": "stream",
     "text": [
      "Collecting package metadata (current_repodata.json): done\n",
      "Solving environment: done\n",
      "\n",
      "\n",
      "==> WARNING: A newer version of conda exists. <==\n",
      "  current version: 4.10.3\n",
      "  latest version: 23.1.0\n",
      "\n",
      "Please update conda by running\n",
      "\n",
      "    $ conda update -n base -c defaults conda\n",
      "\n",
      "\n",
      "\n",
      "# All requested packages already installed.\n",
      "\n",
      "Collecting package metadata (current_repodata.json): done\n",
      "Solving environment: failed with initial frozen solve. Retrying with flexible solve.\n",
      "Solving environment: failed with repodata from current_repodata.json, will retry with next repodata source.\n",
      "Collecting package metadata (repodata.json): done\n",
      "Solving environment: done\n",
      "\n",
      "\n",
      "==> WARNING: A newer version of conda exists. <==\n",
      "  current version: 4.10.3\n",
      "  latest version: 23.1.0\n",
      "\n",
      "Please update conda by running\n",
      "\n",
      "    $ conda update -n base -c defaults conda\n",
      "\n",
      "\n",
      "\n",
      "## Package Plan ##\n",
      "\n",
      "  environment location: /opt/conda\n",
      "\n",
      "  added / updated specs:\n",
      "    - scikit-learn\n",
      "\n",
      "\n",
      "The following packages will be downloaded:\n",
      "\n",
      "    package                    |            build\n",
      "    ---------------------------|-----------------\n",
      "    joblib-1.0.1               |     pyhd3eb1b0_0         208 KB\n",
      "    scikit-learn-0.24.2        |   py36ha9443f7_0         5.2 MB\n",
      "    threadpoolctl-2.2.0        |     pyh0d69192_0          16 KB\n",
      "    ------------------------------------------------------------\n",
      "                                           Total:         5.4 MB\n",
      "\n",
      "The following NEW packages will be INSTALLED:\n",
      "\n",
      "  joblib             pkgs/main/noarch::joblib-1.0.1-pyhd3eb1b0_0\n",
      "  scikit-learn       pkgs/main/linux-64::scikit-learn-0.24.2-py36ha9443f7_0\n",
      "  threadpoolctl      pkgs/main/noarch::threadpoolctl-2.2.0-pyh0d69192_0\n",
      "\n",
      "\n",
      "\n",
      "Downloading and Extracting Packages\n",
      "scikit-learn-0.24.2  | 5.2 MB    | ##################################### | 100% \n",
      "joblib-1.0.1         | 208 KB    | ##################################### | 100% \n",
      "threadpoolctl-2.2.0  | 16 KB     | ##################################### | 100% \n",
      "Preparing transaction: done\n",
      "Verifying transaction: done\n",
      "Executing transaction: - \n",
      "\n",
      "    Installed package of scikit-learn can be accelerated using scikit-learn-intelex.\n",
      "    More details are available here: https://intel.github.io/scikit-learn-intelex\n",
      "\n",
      "    For example:\n",
      "\n",
      "        $ conda install scikit-learn-intelex\n",
      "        $ python -m sklearnex my_application.py\n",
      "\n",
      "    \n",
      "\n",
      "done\n"
     ]
    }
   ],
   "source": [
    "! conda install statsmodels -y\n",
    "! conda install scikit-learn -y"
   ]
  },
  {
   "cell_type": "markdown",
   "id": "2275e084",
   "metadata": {},
   "source": [
    "### Download data from UKB RAP"
   ]
  },
  {
   "cell_type": "code",
   "execution_count": 2,
   "id": "58960a04",
   "metadata": {},
   "outputs": [],
   "source": [
    "%%bash\n",
    "dx download \\\n",
    "    -f \\\n",
    "    -o ../data/ \\\n",
    "    data/cds_trinucleotide_contexts.tsv \\\n",
    "    data/grch38_cpg_methylation.tsv \\\n",
    "    data/gnomad_nc_mutation_rates.tsv \\\n",
    "    data/vep_cds_all_possible_snvs.vcf \\\n",
    "    outputs/gnomad_pass_variants/all_pass_snvs.txt"
   ]
  },
  {
   "cell_type": "markdown",
   "id": "be07d104",
   "metadata": {},
   "source": [
    "### Import modules"
   ]
  },
  {
   "cell_type": "code",
   "execution_count": 32,
   "id": "026839df",
   "metadata": {},
   "outputs": [],
   "source": [
    "# Import modules\n",
    "import numpy as np\n",
    "import pandas as pd\n",
    "from collections import defaultdict\n",
    "import matplotlib.pyplot as plt\n",
    "import seaborn as sns\n",
    "import statsmodels.formula.api as smf\n",
    "from sklearn.metrics import r2_score\n",
    "\n",
    "# Set seaborn context\n",
    "sns.set_context(\"talk\")"
   ]
  },
  {
   "cell_type": "markdown",
   "id": "42b5d1a0",
   "metadata": {},
   "source": [
    "## Load datasets"
   ]
  },
  {
   "cell_type": "code",
   "execution_count": 4,
   "id": "e67de001",
   "metadata": {},
   "outputs": [],
   "source": [
    "# Define VCF headers and datatypes.\n",
    "_header = [\"chr\", \"pos\", \"id\", \"ref\", \"alt\", \"qual\", \"filter\", \"info\"]\n",
    "\n",
    "datatypes = defaultdict(lambda: \"str\")\n",
    "datatypes.update({\"pos\": np.int32, \"ac\": np.int32, \"an\": np.int32})"
   ]
  },
  {
   "cell_type": "code",
   "execution_count": 5,
   "id": "2cd34d1d",
   "metadata": {},
   "outputs": [],
   "source": [
    "# Retreive observed variants\n",
    "obs = pd.read_csv(\n",
    "    \"../data/all_pass_snvs.txt\",\n",
    "    sep=\"\\t\",\n",
    "    header=None,\n",
    "    names=_header + [\"ac\", \"an\"],\n",
    "    usecols=[\"chr\", \"pos\", \"ref\", \"alt\", \"ac\", \"an\"],\n",
    "    dtype=datatypes,\n",
    ").assign(obs=1)"
   ]
  },
  {
   "cell_type": "code",
   "execution_count": 6,
   "id": "2eb60798",
   "metadata": {},
   "outputs": [],
   "source": [
    "# Retreive all possible SNVs\n",
    "pos = pd.read_csv(\n",
    "    \"../data/vep_cds_all_possible_snvs.vcf\",\n",
    "    sep=\"\\t\",\n",
    "    comment=\"#\",\n",
    "    header=None,\n",
    "    names=_header,\n",
    "    dtype=datatypes,\n",
    "    usecols=[\"chr\", \"pos\", \"ref\", \"alt\"],\n",
    ")"
   ]
  },
  {
   "cell_type": "code",
   "execution_count": 7,
   "id": "5c8f9f97",
   "metadata": {},
   "outputs": [],
   "source": [
    "# Retreive VEP annotations of all possible SNVs\n",
    "vep = pd.read_csv(\n",
    "    \"../data/vep_cds_all_possible_snvs.vcf\",\n",
    "    sep=\"\\t\",\n",
    "    comment=\"#\",\n",
    "    header=None,\n",
    "    names=_header,\n",
    "    dtype=datatypes,\n",
    "    usecols=[\"chr\", \"pos\", \"ref\", \"alt\", \"info\"],\n",
    ")"
   ]
  },
  {
   "cell_type": "code",
   "execution_count": 8,
   "id": "3907dcc2",
   "metadata": {},
   "outputs": [],
   "source": [
    "# Limit to synonymous variants only\n",
    "syn = pd.Series([\"synonymous\" in x for x in vep[\"info\"]])\n",
    "vep = vep.drop(\"info\", axis=1).loc[syn].assign(csq=\"synonymous\")"
   ]
  },
  {
   "cell_type": "code",
   "execution_count": 9,
   "id": "5173ed0d",
   "metadata": {},
   "outputs": [],
   "source": [
    "# Trinucleotide contexts\n",
    "tri = pd.read_csv(\n",
    "    \"../data/cds_trinucleotide_contexts.tsv\", sep=\"\\t\", dtype=datatypes\n",
    ")"
   ]
  },
  {
   "cell_type": "code",
   "execution_count": 10,
   "id": "98928fb3",
   "metadata": {},
   "outputs": [],
   "source": [
    "# gnomAD methylation data\n",
    "meth = (pd.read_csv(\"../data/grch38_cpg_methylation.tsv\", \n",
    "                    sep=\"\\t\",\n",
    "                    header=0,\n",
    "                    names=[\"ix\",\"chr\",\"pos\",\"alleles\",\"lvl\"],\n",
    "                    usecols=[\"chr\",\"pos\",\"lvl\"],\n",
    "                   )\n",
    "       )"
   ]
  },
  {
   "cell_type": "code",
   "execution_count": 11,
   "id": "a08168bb",
   "metadata": {},
   "outputs": [],
   "source": [
    "# Mutation rates\n",
    "mu = pd.read_csv(\n",
    "    \"../data/gnomad_nc_mutation_rates.tsv\",\n",
    "    sep=\"\\t\",\n",
    "    names=[\"tri\", \"ref\", \"alt\", \"lvl\", \"variant_type\", \"mu\", \"pos\", \"obs\", \"po\", \"ppo\",],\n",
    "    header=0,\n",
    "    usecols=[\"tri\", \"ref\", \"alt\", \"lvl\", \"mu\", \"variant_type\"],\n",
    ")\n",
    "\n",
    "# Mutation rates are only available for 32 codons. We need to reverse-complement for the remainder.\n",
    "complement = {\"A\": \"T\", \"C\": \"G\", \"G\": \"C\", \"T\": \"A\"}\n",
    "# Replace ref and alt alleles\n",
    "_mu = mu.copy().replace(complement)\n",
    "# Reverse-complement trinucleotide contexts\n",
    "_mu[\"tri\"] = pd.Series([\"\".join([complement[y] for y in x])[::-1] for x in mu.tri])\n",
    "mu = pd.concat([mu, _mu])"
   ]
  },
  {
   "cell_type": "markdown",
   "id": "72ba11df",
   "metadata": {},
   "source": [
    "## Merge annotations"
   ]
  },
  {
   "cell_type": "code",
   "execution_count": 12,
   "id": "7d54bb81",
   "metadata": {},
   "outputs": [],
   "source": [
    "# Merge variant annotations\n",
    "df = pos.merge(obs, how=\"left\").fillna(0)\n",
    "df = df.merge(vep, how=\"left\").dropna()\n",
    "df = df.merge(tri, how=\"left\")"
   ]
  },
  {
   "cell_type": "code",
   "execution_count": 14,
   "id": "cea95ae0",
   "metadata": {},
   "outputs": [],
   "source": [
    "# Merge methylation and mutability annotations\n",
    "\n",
    "## Find the number of CpG sites not represented in the ENCODE data\n",
    "variant_types = mu[[\"tri\", \"ref\", \"alt\", \"variant_type\"]].drop_duplicates()\n",
    "df = df.merge(variant_types, how=\"left\")\n",
    "df = df.merge(meth, how=\"left\")\n",
    "\n",
    "## All non-CpG sites have lvl 0\n",
    "df.loc[df[\"variant_type\"] != \"CpG\", \"lvl\"] = 0\n",
    "df.lvl = df.lvl.astype(int)\n",
    "\n",
    "## Merge with mutability data\n",
    "df = df.merge(mu, how=\"left\")"
   ]
  },
  {
   "cell_type": "markdown",
   "id": "87421eac",
   "metadata": {},
   "source": [
    "### Make a copy of the dataframe in case it is needed"
   ]
  },
  {
   "cell_type": "code",
   "execution_count": 15,
   "id": "a0b5c6b7",
   "metadata": {},
   "outputs": [],
   "source": [
    "df_spare = df.copy()"
   ]
  },
  {
   "cell_type": "markdown",
   "id": "4273c756",
   "metadata": {},
   "source": [
    "## Drop selected variants"
   ]
  },
  {
   "cell_type": "code",
   "execution_count": 16,
   "id": "810ba615",
   "metadata": {},
   "outputs": [],
   "source": [
    "# Drop contexts in which a synonymous variant is generally not possible.\n",
    "# (Synonymous variants in these contexts may occur at splice junctions)\n",
    "m1 = (df.tri == \"AGT\") & ((df.alt == \"C\") | (df.alt == \"T\"))\n",
    "m2 = (df.tri == \"AAT\") & ((df.alt == \"C\") | (df.alt == \"T\"))\n",
    "m3 = (df.tri == \"ACT\") & ((df.alt == \"G\") | (df.alt == \"A\"))\n",
    "m4 = (df.tri == \"ATT\") & ((df.alt == \"G\") | (df.alt == \"A\"))\n",
    "\n",
    "df = df[~(m1 | m2 | m3 | m4)]"
   ]
  },
  {
   "cell_type": "code",
   "execution_count": 17,
   "id": "3b359c67",
   "metadata": {},
   "outputs": [],
   "source": [
    "# Drop common variants\n",
    "df = df[(df[\"ac\"] == 0) | (df[\"ac\"] / df[\"an\"] < 0.001)]"
   ]
  },
  {
   "cell_type": "markdown",
   "id": "54a9902f",
   "metadata": {},
   "source": [
    "## Statistics"
   ]
  },
  {
   "cell_type": "code",
   "execution_count": 18,
   "id": "a4d5b7ff",
   "metadata": {},
   "outputs": [],
   "source": [
    "stats = (\n",
    "    df.groupby([\"tri\", \"ref\", \"alt\", \"lvl\"])\n",
    "    .agg({\"mu\": \"mean\", \"obs\": \"mean\", \"pos\": \"count\"})\n",
    "    .reset_index()\n",
    ")\n",
    "stats.to_csv(\"../outputs/mutational_model_stats.tsv\", sep=\"\\t\", index=False)"
   ]
  },
  {
   "cell_type": "markdown",
   "id": "0be4d04e",
   "metadata": {},
   "source": [
    "## Plots"
   ]
  },
  {
   "cell_type": "code",
   "execution_count": 19,
   "id": "48504a9c",
   "metadata": {},
   "outputs": [
    {
     "data": {
      "text/plain": [
       "<seaborn.axisgrid.FacetGrid at 0x7f82781d5320>"
      ]
     },
     "execution_count": 19,
     "metadata": {},
     "output_type": "execute_result"
    },
    {
     "data": {
      "image/png": "[encoded data removed]",
      "text/plain": [
       "<Figure size 360x360 with 1 Axes>"
      ]
     },
     "metadata": {
      "needs_background": "light"
     },
     "output_type": "display_data"
    }
   ],
   "source": [
    "g = (sns.relplot(kind=\"scatter\",\n",
    "                 data=stats,\n",
    "                 x=\"mu\",\n",
    "                 y=\"obs\",\n",
    "                )\n",
    "    )\n",
    "(g.set(xlim=(8.9*10**-10, 2.5*10**-7),\n",
    "       ylim=(0,1.1),\n",
    "       title=\"Synonymous\",\n",
    "       xlabel=\"Mutability\",\n",
    "       ylabel=\"Proportion observed\",\n",
    "      )\n",
    ")"
   ]
  },
  {
   "cell_type": "markdown",
   "id": "f92142cc",
   "metadata": {},
   "source": [
    "This looks like a nice exponential relationship which caps at 1. (The proportion of observed variants can't be >1).\n",
    "\n",
    "I want to fit a curve which describes this relationship. Later, I want to use this model to predict \"obs\" (the proportion observed) for other values of \"mu\" (mutability)."
   ]
  },
  {
   "cell_type": "markdown",
   "id": "3f834731",
   "metadata": {},
   "source": [
    "## Exponential model"
   ]
  },
  {
   "cell_type": "markdown",
   "id": "adb25d88",
   "metadata": {},
   "source": [
    "### Drop saturated contexts"
   ]
  },
  {
   "cell_type": "code",
   "execution_count": 33,
   "id": "d6959dca",
   "metadata": {},
   "outputs": [
    {
     "name": "stdout",
     "output_type": "stream",
     "text": [
      "Contexts = 304\n",
      "There are 5 observations for which \"obs\" == 1. Drop them.\n",
      "Contexts remaining = 299\n"
     ]
    }
   ],
   "source": [
    "print(f\"Contexts = {len(stats)}\")\n",
    "print(f'There are {(stats[\"obs\"]==1).sum()} observations for which \"obs\" == 1. Drop them.')\n",
    "\n",
    "# Drop saturated contexts\n",
    "stats_nonsat = stats[stats[\"obs\"] != 1].copy()\n",
    "print(f\"Contexts remaining = {len(stats_nonsat)}\")"
   ]
  },
  {
   "cell_type": "markdown",
   "id": "1246d112",
   "metadata": {},
   "source": [
    "## Fit the model"
   ]
  },
  {
   "cell_type": "markdown",
   "id": "33259f41",
   "metadata": {},
   "source": [
    "The approach below matches that in from the gnomAD code base at https://github.com/atgu/gnomad_nc_constraint"
   ]
  },
  {
   "cell_type": "code",
   "execution_count": 34,
   "id": "ff9459e2",
   "metadata": {},
   "outputs": [],
   "source": [
    "# A function to retrieve the standard error of a proportion\n",
    "def sem(p, n): return np.sqrt((p*(1-p))/n)"
   ]
  },
  {
   "cell_type": "code",
   "execution_count": 35,
   "id": "7b9ecbf5",
   "metadata": {},
   "outputs": [
    {
     "name": "stdout",
     "output_type": "stream",
     "text": [
      "A = -23025162.179456078\n",
      "B = -0.023470852796130738\n",
      "R2 = 0.9939 for \"obs\" vs \"fit_obs\"\n"
     ]
    }
   ],
   "source": [
    "# Fit a polynomial equation\n",
    "fit = np.polyfit(stats_nonsat[\"mu\"], np.log(1 - stats_nonsat[\"obs\"]), 1, w=(1/sem(stats_nonsat[\"obs\"], stats_nonsat[\"pos\"])))\n",
    "# Weighted by 1 / sem(\"obs\"), as per gnomAD paper\n",
    "# Weighting by \"pos\" is also reasonable\n",
    "\n",
    "# Create a polynomial evaluator\n",
    "p = np.poly1d(fit)\n",
    "\n",
    "A,B = fit # Get the coefficients\n",
    "print(f\"A = {A}\")\n",
    "print(f\"B = {B}\")\n",
    "\n",
    "# The expressions below are equivalent - both are given for clarity\n",
    "stats_nonsat[\"fit_obs\"] = 1 - (np.exp(B)) * (np.exp(A * stats_nonsat[\"mu\"]))\n",
    "stats_nonsat[\"fit_obs\"] = 1 - np.exp(p(stats_nonsat[\"mu\"]))\n",
    "\n",
    "# R2 for \"obs\" vs \"fit_obs\"\n",
    "print(f'R2 = {np.round(r2_score(stats_nonsat[\"obs\"], stats_nonsat[\"fit_obs\"]), 5)} for \"obs\" vs \"fit_obs\"')"
   ]
  },
  {
   "cell_type": "markdown",
   "id": "01f63cfc",
   "metadata": {},
   "source": [
    "### Plots "
   ]
  },
  {
   "cell_type": "code",
   "execution_count": 36,
   "id": "0e7d4a92",
   "metadata": {},
   "outputs": [
    {
     "data": {
      "text/plain": [
       "[<matplotlib.lines.Line2D at 0x7f827ecfa668>]"
      ]
     },
     "execution_count": 36,
     "metadata": {},
     "output_type": "execute_result"
    },
    {
     "data": {
      "image/png": "[encoded data removed]",
      "text/plain": [
       "<Figure size 360x360 with 1 Axes>"
      ]
     },
     "metadata": {
      "needs_background": "light"
     },
     "output_type": "display_data"
    }
   ],
   "source": [
    "# Plot \"mu\" vs \"fit_obs\"\n",
    "g = (sns.relplot(kind=\"scatter\",\n",
    "                 data=stats_nonsat,\n",
    "                 x=\"mu\",\n",
    "                 y=\"fit_obs\",\n",
    "                 edgecolor=\"none\",\n",
    "               )\n",
    "    )\n",
    "\n",
    "# Modify figure\n",
    "(g.set(xlim=(8.9*10**-10, 2.5*10**-7),\n",
    "       ylim=(0,1.1),\n",
    "       title=\"Synonymous\",\n",
    "       xlabel=\"Mutability\",\n",
    "       ylabel=\"Fitted proportion observed\",\n",
    "      )\n",
    ")\n",
    "\n",
    "# Add trend line\n",
    "plt.plot(sorted(stats_nonsat[\"mu\"]), sorted(stats_nonsat[\"fit_obs\"]))"
   ]
  },
  {
   "cell_type": "code",
   "execution_count": 37,
   "id": "694363fe",
   "metadata": {},
   "outputs": [
    {
     "data": {
      "text/plain": [
       "<seaborn.axisgrid.FacetGrid at 0x7f827ecda710>"
      ]
     },
     "execution_count": 37,
     "metadata": {},
     "output_type": "execute_result"
    },
    {
     "data": {
      "image/png": "[encoded data removed]",
      "text/plain": [
       "<Figure size 360x360 with 1 Axes>"
      ]
     },
     "metadata": {
      "needs_background": "light"
     },
     "output_type": "display_data"
    }
   ],
   "source": [
    "# Plot \"obs\" vs \"fit_obs\"\n",
    "g = sns.lmplot(data=stats_nonsat, x=\"obs\", y=\"fit_obs\")\n",
    "(g.set(title=\"Synonymous\", \n",
    "       xlabel = \"Proportion observed\", \n",
    "       ylabel=\"Fitted proportion observed\", \n",
    "       xscale=\"log\", \n",
    "       yscale=\"log\",\n",
    "       xlim=(0.02, 1.2),\n",
    "       ylim=(0.02, 1.2),\n",
    "      )\n",
    ")"
   ]
  }
 ],
 "metadata": {
  "kernelspec": {
   "display_name": "Python 3",
   "language": "python",
   "name": "python3"
  },
  "language_info": {
   "codemirror_mode": {
    "name": "ipython",
    "version": 3
   },
   "file_extension": ".py",
   "mimetype": "text/x-python",
   "name": "python",
   "nbconvert_exporter": "python",
   "pygments_lexer": "ipython3",
   "version": "3.6.5"
  }
 },
 "nbformat": 4,
 "nbformat_minor": 5
}
