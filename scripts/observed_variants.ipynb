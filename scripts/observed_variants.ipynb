{
 "cells": [
  {
   "cell_type": "markdown",
   "id": "49c2677e",
   "metadata": {},
   "source": [
    "# Observed variants\n",
    "This script identifies the observed and possible variants per transcript. It groups variants by transcript and consequence, and aggregates the number observed, the number possible, and the mean mutability. These summary data are saved to a tsv file."
   ]
  },
  {
   "cell_type": "markdown",
   "id": "e8519630",
   "metadata": {},
   "source": [
    "## Preliminaries"
   ]
  },
  {
   "cell_type": "markdown",
   "id": "1b3db4ee",
   "metadata": {},
   "source": [
    "### Import modules"
   ]
  },
  {
   "cell_type": "code",
   "execution_count": 1,
   "id": "777f5c59",
   "metadata": {},
   "outputs": [],
   "source": [
    "import numpy as np\n",
    "import pandas as pd\n",
    "from collections import defaultdict\n",
    "import matplotlib.pyplot as plt\n",
    "import seaborn as sns\n",
    "from scipy import stats as _stats\n",
    "import statsmodels.formula.api as smf\n",
    "from statsmodels.stats.proportion import proportions_ztest\n",
    "\n",
    "sns.set_context(\"talk\")"
   ]
  },
  {
   "cell_type": "markdown",
   "id": "69ee0579",
   "metadata": {},
   "source": [
    "### Download datasets from UKB RAP"
   ]
  },
  {
   "cell_type": "code",
   "execution_count": 2,
   "id": "b94cb650",
   "metadata": {},
   "outputs": [],
   "source": [
    "%%bash\n",
    "dx download \\\n",
    "    -f \\\n",
    "    -o ../data/ \\\n",
    "    data/cds_trinucleotide_contexts.tsv \\\n",
    "    data/grch38_cpg_methylation.tsv \\\n",
    "    data/gnomad_nc_mutation_rates.tsv \\\n",
    "    data/vep_cds_all_possible_snvs.vcf \\\n",
    "    outputs/gnomad_pass_variants/all_pass_snvs.txt \\\n",
    "    outputs/nmd_annotations.tsv"
   ]
  },
  {
   "cell_type": "markdown",
   "id": "c8b8f2d6",
   "metadata": {},
   "source": [
    "## Load datasets"
   ]
  },
  {
   "cell_type": "code",
   "execution_count": 3,
   "id": "a123b471",
   "metadata": {},
   "outputs": [],
   "source": [
    "# Define VCF headers and datatypes.\n",
    "_header = [\"chr\", \"pos\", \"id\", \"ref\", \"alt\", \"qual\", \"filter\", \"info\"]\n",
    "\n",
    "datatypes = defaultdict(lambda: \"str\")\n",
    "datatypes.update({\"pos\": np.int32, \"ac\": np.int32, \"an\": np.int32})"
   ]
  },
  {
   "cell_type": "code",
   "execution_count": 4,
   "id": "2d25ea0d",
   "metadata": {},
   "outputs": [],
   "source": [
    "# Retreive observed variants\n",
    "obs = pd.read_csv(\n",
    "    \"../data/all_pass_snvs.txt\",\n",
    "    sep=\"\\t\",\n",
    "    header=None,\n",
    "    names=_header + [\"ac\", \"an\"],\n",
    "    usecols=[\"chr\", \"pos\", \"ref\", \"alt\", \"ac\", \"an\"],\n",
    "    dtype=datatypes,\n",
    ").assign(obs=1)"
   ]
  },
  {
   "cell_type": "code",
   "execution_count": 5,
   "id": "8e5b04c6",
   "metadata": {},
   "outputs": [],
   "source": [
    "# Retreive VEP annotations of all possible SNVs\n",
    "vep = pd.read_csv(\n",
    "    \"../data/vep_cds_all_possible_snvs.vcf\",\n",
    "    sep=\"\\t\",\n",
    "    comment=\"#\",\n",
    "    header=None,\n",
    "    names=_header,\n",
    "    dtype=datatypes,\n",
    "    usecols=[\"chr\", \"pos\", \"ref\", \"alt\", \"info\"],\n",
    ")"
   ]
  },
  {
   "cell_type": "code",
   "execution_count": 6,
   "id": "24e3b1ae",
   "metadata": {},
   "outputs": [],
   "source": [
    "# Get enst\n",
    "vep[\"enst\"] = pd.Series([x.split(\"|\", 3)[2] for x in vep[\"info\"]])"
   ]
  },
  {
   "cell_type": "code",
   "execution_count": 7,
   "id": "69b4295e",
   "metadata": {},
   "outputs": [],
   "source": [
    "# Get csq\n",
    "syn = pd.Series([\"synonymous\" in x for x in vep[\"info\"]])\n",
    "mis = pd.Series([\"missense\" in x for x in vep[\"info\"]])\n",
    "non = pd.Series([\"stop_gained\" in x for x in vep[\"info\"]])\n",
    "\n",
    "vep.loc[syn, \"csq\"] = \"synonymous\"\n",
    "vep.loc[mis, \"csq\"] = \"missense\"\n",
    "vep.loc[non, \"csq\"] = \"nonsense\"\n",
    "\n",
    "vep = vep.drop(\"info\", axis=1).dropna()  # Keep only syn/mis/non variants"
   ]
  },
  {
   "cell_type": "code",
   "execution_count": 8,
   "id": "e6913150",
   "metadata": {},
   "outputs": [],
   "source": [
    "# Trinucleotide contexts\n",
    "tri = pd.read_csv(\n",
    "    \"../data/cds_trinucleotide_contexts.tsv\", sep=\"\\t\", dtype=datatypes\n",
    ")"
   ]
  },
  {
   "cell_type": "code",
   "execution_count": 9,
   "id": "ce14d902",
   "metadata": {},
   "outputs": [],
   "source": [
    "# gnomAD methylation data\n",
    "meth = (pd.read_csv(\"../data/grch38_cpg_methylation.tsv\", \n",
    "                    sep=\"\\t\",\n",
    "                    header=0,\n",
    "                    names=[\"ix\",\"chr\",\"pos\",\"alleles\",\"lvl\"],\n",
    "                    usecols=[\"chr\",\"pos\",\"lvl\"],\n",
    "                   )\n",
    "       )"
   ]
  },
  {
   "cell_type": "code",
   "execution_count": 10,
   "id": "21d54680",
   "metadata": {},
   "outputs": [],
   "source": [
    "# Mutation rates\n",
    "mu = pd.read_csv(\n",
    "    \"../data/gnomad_nc_mutation_rates.tsv\",\n",
    "    sep=\"\\t\",\n",
    "    names=[\"tri\", \"ref\", \"alt\", \"lvl\", \"variant_type\", \"mu\", \"pos\", \"obs\", \"po\", \"ppo\",],\n",
    "    header=0,\n",
    "    usecols=[\"tri\", \"ref\", \"alt\", \"lvl\", \"mu\", \"variant_type\"],\n",
    ")\n",
    "\n",
    "# Mutation rates are only available for 32 codons. We need to reverse-complement for the remainder.\n",
    "complement = {\"A\": \"T\", \"C\": \"G\", \"G\": \"C\", \"T\": \"A\"}\n",
    "# Replace ref and alt alleles\n",
    "_mu = mu.copy().replace(complement)\n",
    "# Reverse-complement trinucleotide contexts\n",
    "_mu[\"tri\"] = pd.Series([\"\".join([complement[y] for y in x])[::-1] for x in mu.tri])\n",
    "mu = pd.concat([mu, _mu])"
   ]
  },
  {
   "cell_type": "code",
   "execution_count": 11,
   "id": "fe89a3f9-e617-4784-8bf5-548a946ef2d1",
   "metadata": {},
   "outputs": [],
   "source": [
    "nmd = (pd.read_csv(\"../data/nmd_annotations.tsv\",\n",
    "                  sep=\"\\t\",\n",
    "                  usecols=[\"chr\",\"pos\",\"transcript_id\",\"nmd_definitive\"]\n",
    "                 )\n",
    "       .rename(columns={\"transcript_id\":\"enst\", \"nmd_definitive\":\"nmd\"})\n",
    "      )"
   ]
  },
  {
   "cell_type": "markdown",
   "id": "986cb619",
   "metadata": {},
   "source": [
    "## Merge annotations"
   ]
  },
  {
   "cell_type": "code",
   "execution_count": 11,
   "id": "d0e4d6d3",
   "metadata": {},
   "outputs": [],
   "source": [
    "# Merge VEP, context, NMD, and observed variant annotations\n",
    "df = vep.merge(tri, how=\"left\")\n",
    "df = df.merge(nmd, how=\"left\")\n",
    "df = df.merge(obs, how=\"left\").fillna(0)"
   ]
  },
  {
   "cell_type": "code",
   "execution_count": 21,
   "id": "0f683a7c",
   "metadata": {},
   "outputs": [],
   "source": [
    "# Merge methylation annotations\n",
    "variant_types = mu[[\"tri\", \"ref\", \"alt\", \"variant_type\"]].drop_duplicates()\n",
    "df = df.merge(variant_types, how=\"left\")\n",
    "df = df.merge(meth, how=\"left\")\n",
    "\n",
    "# All non-CpG sites have lvl 0\n",
    "df.loc[df[\"variant_type\"] != \"CpG\", \"lvl\"] = 0\n",
    "df.lvl = df.lvl.astype(int)\n",
    "\n",
    "# Merge with mutability data\n",
    "df = df.merge(mu, how=\"left\")"
   ]
  },
  {
   "cell_type": "markdown",
   "id": "3850914e",
   "metadata": {},
   "source": [
    "## Summarise data and save output"
   ]
  },
  {
   "cell_type": "markdown",
   "id": "c7cc125d-c744-4491-b434-c07e85f3c2be",
   "metadata": {},
   "source": [
    "### Include CpG variants"
   ]
  },
  {
   "cell_type": "markdown",
   "id": "22dfe446-e25a-465a-bdc2-4a1b5af21dde",
   "metadata": {},
   "source": [
    "#### Group by enst and csq only"
   ]
  },
  {
   "cell_type": "code",
   "execution_count": 22,
   "id": "8f74b327-c3a8-41d7-b7e7-b3bed7506dd7",
   "metadata": {},
   "outputs": [],
   "source": [
    "dfg = (\n",
    "    df.groupby([\"enst\", \"csq\"])\n",
    "    .agg(\n",
    "        n_pos=(\"pos\", \"count\"),\n",
    "        n_obs=(\"obs\", \"sum\"),\n",
    "        mu=(\"mu\", \"mean\"),\n",
    "    ).reset_index()\n",
    ")"
   ]
  },
  {
   "cell_type": "code",
   "execution_count": 23,
   "id": "cbc4879a-d362-4b7a-92a1-63e74fdfad65",
   "metadata": {},
   "outputs": [],
   "source": [
    "dfg.to_csv(\"../outputs/observed_variants_stats.tsv\", sep=\"\\t\", index=False)"
   ]
  },
  {
   "cell_type": "markdown",
   "id": "01124342-b4de-456b-8dd9-647c8063424f",
   "metadata": {},
   "source": [
    "#### Group by NMD annotations"
   ]
  },
  {
   "cell_type": "code",
   "execution_count": 24,
   "id": "f62ea0d1-b865-4c66-b2b3-5d8f0e32dd2e",
   "metadata": {},
   "outputs": [],
   "source": [
    "dfg = (\n",
    "    df.groupby([\"enst\", \"csq\", \"nmd\"])\n",
    "    .agg(\n",
    "        n_pos=(\"pos\", \"count\"),\n",
    "        n_obs=(\"obs\", \"sum\"),\n",
    "        mu=(\"mu\", \"mean\"),\n",
    "    ).reset_index()\n",
    ")"
   ]
  },
  {
   "cell_type": "code",
   "execution_count": 25,
   "id": "c95c3062-38b3-4bd0-ba9b-a2c4de2362f3",
   "metadata": {},
   "outputs": [],
   "source": [
    "dfg.to_csv(\"../outputs/observed_variants_stats_nmd.tsv\", sep=\"\\t\", index=False)"
   ]
  },
  {
   "cell_type": "markdown",
   "id": "a5537037-afe4-47a5-9931-269344e8ef8b",
   "metadata": {},
   "source": [
    "### Exclude CpG variants"
   ]
  },
  {
   "cell_type": "code",
   "execution_count": 26,
   "id": "c2c777fe-2f4a-445a-9093-3dd8de225980",
   "metadata": {},
   "outputs": [],
   "source": [
    "_df = df[df[\"variant_type\"] != \"CpG\"].copy()"
   ]
  },
  {
   "cell_type": "markdown",
   "id": "3ae23b7a-5b12-4326-ba3f-11742b541dfc",
   "metadata": {},
   "source": [
    "#### Group by enst and csq only"
   ]
  },
  {
   "cell_type": "code",
   "execution_count": 27,
   "id": "31d42235-17f1-4dfb-b422-0cd46866a628",
   "metadata": {},
   "outputs": [],
   "source": [
    "_dfg = (\n",
    "    _df.groupby([\"enst\", \"csq\"])\n",
    "    .agg(\n",
    "        n_pos=(\"pos\", \"count\"),\n",
    "        n_obs=(\"obs\", \"sum\"),\n",
    "        mu=(\"mu\", \"mean\"),\n",
    "    ).reset_index()\n",
    ")"
   ]
  },
  {
   "cell_type": "code",
   "execution_count": 28,
   "id": "f4ef37a7-08f0-4f78-ab73-2315629a725d",
   "metadata": {},
   "outputs": [],
   "source": [
    "_dfg.to_csv(\"../outputs/observed_variants_stats_no_cpg.tsv\", sep=\"\\t\", index=False)"
   ]
  },
  {
   "cell_type": "markdown",
   "id": "d15f8111-bf3b-4cd3-88d3-d547d7fedde9",
   "metadata": {},
   "source": [
    "#### Group by NMD annotations"
   ]
  },
  {
   "cell_type": "code",
   "execution_count": 29,
   "id": "160c1859-ccb8-4923-844a-9377f4f5bc2d",
   "metadata": {},
   "outputs": [],
   "source": [
    "_dfg = (\n",
    "    _df.groupby([\"enst\", \"csq\", \"nmd\"])\n",
    "    .agg(\n",
    "        n_pos=(\"pos\", \"count\"),\n",
    "        n_obs=(\"obs\", \"sum\"),\n",
    "        mu=(\"mu\", \"mean\"),\n",
    "    ).reset_index()\n",
    ")"
   ]
  },
  {
   "cell_type": "code",
   "execution_count": 30,
   "id": "0e3df1fd-3f7b-45ac-be1e-d9e0acfac724",
   "metadata": {},
   "outputs": [],
   "source": [
    "_dfg.to_csv(\"../outputs/observed_variants_stats_no_cpg_nmd.tsv\", sep=\"\\t\", index=False)"
   ]
  }
 ],
 "metadata": {
  "kernelspec": {
   "display_name": "Python 3 (ipykernel)",
   "language": "python",
   "name": "python3"
  },
  "language_info": {
   "codemirror_mode": {
    "name": "ipython",
    "version": 3
   },
   "file_extension": ".py",
   "mimetype": "text/x-python",
   "name": "python",
   "nbconvert_exporter": "python",
   "pygments_lexer": "ipython3",
   "version": "3.8.16"
  }
 },
 "nbformat": 4,
 "nbformat_minor": 5
}
