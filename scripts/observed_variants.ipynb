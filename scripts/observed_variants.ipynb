{
 "cells": [
  {
   "cell_type": "markdown",
   "id": "49c2677e",
   "metadata": {},
   "source": [
    "# Observed variants\n",
    "This script identifies the observed and possible variants in UKB. \n",
    "\n",
    "Variants are grouped by variant context, transcript, or NMD-region. The script aggregates the number observed, the number possible, and the mean mutability for each grouping. The summary data are saved to a .tsv outputs."
   ]
  },
  {
   "cell_type": "markdown",
   "id": "e8519630",
   "metadata": {},
   "source": [
    "## Preliminaries"
   ]
  },
  {
   "cell_type": "markdown",
   "id": "1b3db4ee",
   "metadata": {},
   "source": [
    "### Import modules"
   ]
  },
  {
   "cell_type": "code",
   "execution_count": 1,
   "id": "777f5c59",
   "metadata": {},
   "outputs": [],
   "source": [
    "import numpy as np\n",
    "import pandas as pd\n",
    "from collections import defaultdict\n",
    "import matplotlib.pyplot as plt\n",
    "import seaborn as sns\n",
    "from scipy import stats as _stats\n",
    "import statsmodels.formula.api as smf\n",
    "from statsmodels.stats.proportion import proportions_ztest\n",
    "\n",
    "sns.set_context(\"talk\")"
   ]
  },
  {
   "cell_type": "markdown",
   "id": "69ee0579",
   "metadata": {},
   "source": [
    "### Download datasets from UKB RAP"
   ]
  },
  {
   "cell_type": "code",
   "execution_count": 2,
   "id": "b94cb650",
   "metadata": {},
   "outputs": [],
   "source": [
    "%%bash\n",
    "dx download \\\n",
    "    -f \\\n",
    "    -o ../data/ \\\n",
    "    data/cds_trinucleotide_contexts.tsv \\\n",
    "    data/grch38_cpg_methylation.tsv \\\n",
    "    data/gnomad_nc_mutation_rates.tsv \\\n",
    "    data/vep_cds_all_possible_snvs.vcf \\\n",
    "    outputs/gnomad_pass_variants/all_pass_snvs.txt \\\n",
    "    outputs/nmd_annotations.tsv"
   ]
  },
  {
   "cell_type": "markdown",
   "id": "c8b8f2d6",
   "metadata": {},
   "source": [
    "## Load datasets"
   ]
  },
  {
   "cell_type": "code",
   "execution_count": 3,
   "id": "a123b471",
   "metadata": {},
   "outputs": [],
   "source": [
    "# Define VCF headers and datatypes.\n",
    "_header = [\"chr\", \"pos\", \"id\", \"ref\", \"alt\", \"qual\", \"filter\", \"info\"]\n",
    "\n",
    "datatypes = defaultdict(lambda: \"str\")\n",
    "datatypes.update({\"pos\": np.int32, \"ac\": np.int32, \"an\": np.int32})"
   ]
  },
  {
   "cell_type": "code",
   "execution_count": 4,
   "id": "2d25ea0d",
   "metadata": {},
   "outputs": [],
   "source": [
    "# Retreive observed variants\n",
    "obs = pd.read_csv(\n",
    "    \"../data/all_pass_snvs.txt\",\n",
    "    sep=\"\\t\",\n",
    "    header=None,\n",
    "    names=_header + [\"ac\", \"an\"],\n",
    "    usecols=[\"chr\", \"pos\", \"ref\", \"alt\", \"ac\", \"an\"],\n",
    "    dtype=datatypes,\n",
    ").assign(obs=1)"
   ]
  },
  {
   "cell_type": "code",
   "execution_count": 5,
   "id": "8e5b04c6",
   "metadata": {},
   "outputs": [],
   "source": [
    "# Retreive VEP annotations of all possible SNVs\n",
    "vep = pd.read_csv(\n",
    "    \"../data/vep_cds_all_possible_snvs.vcf\",\n",
    "    sep=\"\\t\",\n",
    "    comment=\"#\",\n",
    "    header=None,\n",
    "    names=_header,\n",
    "    dtype=datatypes,\n",
    "    usecols=[\"chr\", \"pos\", \"ref\", \"alt\", \"info\"],\n",
    ")"
   ]
  },
  {
   "cell_type": "code",
   "execution_count": 6,
   "id": "24e3b1ae",
   "metadata": {},
   "outputs": [],
   "source": [
    "# Get enst\n",
    "vep[\"enst\"] = pd.Series([x.split(\"|\", 3)[2] for x in vep[\"info\"]])"
   ]
  },
  {
   "cell_type": "code",
   "execution_count": 7,
   "id": "69b4295e",
   "metadata": {},
   "outputs": [],
   "source": [
    "# Get csq\n",
    "syn = pd.Series([\"synonymous\" in x for x in vep[\"info\"]])\n",
    "mis = pd.Series([\"missense\" in x for x in vep[\"info\"]])\n",
    "non = pd.Series([\"stop_gained\" in x for x in vep[\"info\"]])\n",
    "\n",
    "vep.loc[syn, \"csq\"] = \"synonymous\"\n",
    "vep.loc[mis, \"csq\"] = \"missense\"\n",
    "vep.loc[non, \"csq\"] = \"nonsense\"\n",
    "\n",
    "vep = vep.drop(\"info\", axis=1).dropna()  # Keep only syn/mis/non variants"
   ]
  },
  {
   "cell_type": "code",
   "execution_count": 8,
   "id": "e6913150",
   "metadata": {},
   "outputs": [],
   "source": [
    "# Trinucleotide contexts\n",
    "tri = pd.read_csv(\"../data/cds_trinucleotide_contexts.tsv\", sep=\"\\t\", dtype=datatypes)"
   ]
  },
  {
   "cell_type": "code",
   "execution_count": 9,
   "id": "ce14d902",
   "metadata": {},
   "outputs": [],
   "source": [
    "# gnomAD methylation data\n",
    "meth = pd.read_csv(\n",
    "    \"../data/grch38_cpg_methylation.tsv\",\n",
    "    sep=\"\\t\",\n",
    "    header=0,\n",
    "    names=[\"ix\", \"chr\", \"pos\", \"alleles\", \"lvl\"],\n",
    "    usecols=[\"chr\", \"pos\", \"lvl\"],\n",
    ")"
   ]
  },
  {
   "cell_type": "code",
   "execution_count": 10,
   "id": "21d54680",
   "metadata": {},
   "outputs": [],
   "source": [
    "# Mutation rates\n",
    "mu = pd.read_csv(\n",
    "    \"../data/gnomad_nc_mutation_rates.tsv\",\n",
    "    sep=\"\\t\",\n",
    "    names=[\n",
    "        \"tri\",\n",
    "        \"ref\",\n",
    "        \"alt\",\n",
    "        \"lvl\",\n",
    "        \"variant_type\",\n",
    "        \"mu\",\n",
    "        \"pos\",\n",
    "        \"obs\",\n",
    "        \"po\",\n",
    "        \"ppo\",\n",
    "    ],\n",
    "    header=0,\n",
    "    usecols=[\"tri\", \"ref\", \"alt\", \"lvl\", \"mu\", \"variant_type\"],\n",
    ")\n",
    "\n",
    "# Simplify variant type annotations\n",
    "mu = mu.replace(\n",
    "    {\n",
    "        \"transversion\":\"non-CpG\",\n",
    "        \"non-CpG transition\":\"non-CpG\",\n",
    "    }\n",
    ")\n",
    "\n",
    "# Mutation rates are only available for 32 codons. We need to reverse-complement for the remainder.\n",
    "complement = {\"A\": \"T\", \"C\": \"G\", \"G\": \"C\", \"T\": \"A\"}\n",
    "\n",
    "# Replace ref and alt alleles\n",
    "_mu = mu.copy().replace(complement)\n",
    "\n",
    "# Reverse-complement trinucleotide contexts\n",
    "_mu[\"tri\"] = pd.Series([\"\".join([complement[y] for y in x])[::-1] for x in mu.tri])\n",
    "\n",
    "# Merge original and reverse-complemented data\n",
    "mu = pd.concat([mu, _mu])"
   ]
  },
  {
   "cell_type": "code",
   "execution_count": 11,
   "id": "fe89a3f9-e617-4784-8bf5-548a946ef2d1",
   "metadata": {},
   "outputs": [],
   "source": [
    "nmd = pd.read_csv(\n",
    "    \"../data/nmd_annotations.tsv\",\n",
    "    sep=\"\\t\",\n",
    "    usecols=[\"chr\", \"pos\", \"transcript_id\", \"nmd_definitive\"],\n",
    ").rename(columns={\"transcript_id\": \"enst\", \"nmd_definitive\": \"nmd\"})"
   ]
  },
  {
   "cell_type": "markdown",
   "id": "986cb619",
   "metadata": {},
   "source": [
    "## Merge annotations"
   ]
  },
  {
   "cell_type": "code",
   "execution_count": 12,
   "id": "d0e4d6d3",
   "metadata": {},
   "outputs": [],
   "source": [
    "# Merge VEP, context, NMD, and observed variant annotations\n",
    "df = vep.merge(tri, how=\"left\")\n",
    "df = df.merge(nmd, how=\"left\")\n",
    "df = df.merge(obs, how=\"left\").fillna(0)"
   ]
  },
  {
   "cell_type": "code",
   "execution_count": 13,
   "id": "0f683a7c",
   "metadata": {},
   "outputs": [],
   "source": [
    "# Merge methylation annotations\n",
    "variant_types = mu[[\"tri\", \"ref\", \"alt\", \"variant_type\"]].drop_duplicates()\n",
    "\n",
    "df = df.merge(variant_types, how=\"left\")\n",
    "df = df.merge(meth, how=\"left\")\n",
    "\n",
    "# All non-CpG sites have lvl 0\n",
    "df.loc[df[\"variant_type\"] != \"CpG\", \"lvl\"] = 0\n",
    "df.lvl = df.lvl.astype(int)\n",
    "df.obs = df.obs.astype(int)\n",
    "\n",
    "# Merge with mutability data\n",
    "df = df.merge(mu, how=\"left\")"
   ]
  },
  {
   "cell_type": "markdown",
   "id": "20568ad1-6f07-44bb-9139-5d9ddeba4834",
   "metadata": {},
   "source": [
    "## Summarise the data"
   ]
  },
  {
   "cell_type": "markdown",
   "id": "40a64106-e854-40e1-81a7-cafa1d4c71ba",
   "metadata": {},
   "source": [
    "### Rare synonymous variants for expectation model"
   ]
  },
  {
   "cell_type": "code",
   "execution_count": 14,
   "id": "c99af593-47e5-45c7-a76d-74bac8471271",
   "metadata": {},
   "outputs": [],
   "source": [
    "# Subset to synonymous variants only\n",
    "syn = df[df[\"csq\"] == \"synonymous\"]\n",
    "\n",
    "# Mask contexts in which a synonymous variant is generally not possible.\n",
    "# (NB synonymous variants in these contexts can only occur at exon-intron junctions)\n",
    "m1 = (syn.tri == \"AGT\") & ((syn.alt == \"C\") | (syn.alt == \"T\"))\n",
    "m2 = (syn.tri == \"AAT\") & ((syn.alt == \"C\") | (syn.alt == \"T\"))\n",
    "m3 = (syn.tri == \"ACT\") & ((syn.alt == \"G\") | (syn.alt == \"A\"))\n",
    "m4 = (syn.tri == \"ATT\") & ((syn.alt == \"G\") | (syn.alt == \"A\"))\n",
    "\n",
    "# Mask rare variants\n",
    "m5 = syn[\"ac\"] == 0\n",
    "m6 = (syn[\"ac\"] / syn[\"an\"]) < 0.001\n",
    "\n",
    "# Apply filters\n",
    "syn = syn[~(m1 | m2 | m3 | m4) & (m5 | m6)]\n",
    "\n",
    "# Group by variant context\n",
    "dfg = (\n",
    "    syn.groupby([\"tri\", \"ref\", \"alt\", \"variant_type\", \"lvl\"])\n",
    "    .agg({\"mu\": \"mean\", \"obs\": \"sum\", \"pos\": \"count\"})\n",
    "    .reset_index()\n",
    ")\n",
    "\n",
    "# Write to output\n",
    "dfg.to_csv(\"../outputs/observed_variants_stats_synonymous.tsv\", sep=\"\\t\", index=False)"
   ]
  },
  {
   "cell_type": "markdown",
   "id": "3850914e",
   "metadata": {},
   "source": [
    "### Observed variants by region"
   ]
  },
  {
   "cell_type": "code",
   "execution_count": 15,
   "id": "460e7fa2-1c20-4ba6-9e51-5858f354cfb7",
   "metadata": {},
   "outputs": [],
   "source": [
    "# Transcripts\n",
    "dfg = (\n",
    "    df.groupby([\"enst\",\"csq\", \"variant_type\"])\n",
    "    .agg(\n",
    "        n_pos=(\"pos\", \"count\"),\n",
    "        n_obs=(\"obs\",\"sum\"),\n",
    "        mu=(\"mu\",\"mean\")\n",
    "    )\n",
    "    .reset_index()\n",
    ")\n",
    "\n",
    "# Save to output\n",
    "dfg.to_csv(\"../outputs/observed_variants_stats_transcript.tsv\", sep=\"\\t\", index=False)"
   ]
  },
  {
   "cell_type": "code",
   "execution_count": 16,
   "id": "e0a1022c-1fb0-43a6-8e96-e824e4c38e91",
   "metadata": {},
   "outputs": [],
   "source": [
    "# NMD regions\n",
    "dfg = (\n",
    "    df.groupby([\"enst\",\"csq\", \"variant_type\", \"nmd\"])\n",
    "    .agg(\n",
    "        n_pos=(\"pos\", \"count\"),\n",
    "        n_obs=(\"obs\",\"sum\"),\n",
    "        mu=(\"mu\",\"mean\")\n",
    "    )\n",
    "    .reset_index()\n",
    ")\n",
    "\n",
    "# Save to output\n",
    "dfg.to_csv(\"../outputs/observed_variants_stats_nmd.tsv\", sep=\"\\t\", index=False)"
   ]
  },
  {
   "cell_type": "code",
   "execution_count": 30,
   "id": "33e91afa-e73e-4d36-8289-d5e5c2a4a4d7",
   "metadata": {},
   "outputs": [
    {
     "name": "stdout",
     "output_type": "stream",
     "text": [
      "ID                    file-GXpgj4jJvP025bBypx16gbPz\n",
      "Class                 file\n",
      "Project               project-GQFJfPjJvP02pk9yZpqJ0yjJ\n",
      "Folder                /outputs\n",
      "Name                  observed_variants_stats_transcript.tsv\n",
      "State                 closing\n",
      "Visibility            visible\n",
      "Types                 -\n",
      "Properties            -\n",
      "Tags                  -\n",
      "Outgoing links        -\n",
      "Created               Mon Jul 17 17:36:19 2023\n",
      "Created by            alexander.blakes\n",
      " via the job          job-GXpb5F0JvP08FzbXB6vGZfBJ\n",
      "Last modified         Mon Jul 17 17:36:21 2023\n",
      "Media type            \n",
      "archivalState         \"live\"\n",
      "cloudAccount          \"cloudaccount-dnanexus\"\n",
      "ID                    file-GXpgj5QJvP08Zqj82f5zz24V\n",
      "Class                 file\n",
      "Project               project-GQFJfPjJvP02pk9yZpqJ0yjJ\n",
      "Folder                /outputs\n",
      "Name                  observed_variants_stats_nmd.tsv\n",
      "State                 closing\n",
      "Visibility            visible\n",
      "Types                 -\n",
      "Properties            -\n",
      "Tags                  -\n",
      "Outgoing links        -\n",
      "Created               Mon Jul 17 17:36:22 2023\n",
      "Created by            alexander.blakes\n",
      " via the job          job-GXpb5F0JvP08FzbXB6vGZfBJ\n",
      "Last modified         Mon Jul 17 17:36:24 2023\n",
      "Media type            \n",
      "archivalState         \"live\"\n",
      "cloudAccount          \"cloudaccount-dnanexus\"\n"
     ]
    }
   ],
   "source": [
    "%%bash\n",
    "# Upload outputs to UKB RAP\n",
    "dx upload --destination outputs/ ../outputs/observed_variants_stats_transcript.tsv ../outputs/observed_variants_stats_nmd.tsv"
   ]
  }
 ],
 "metadata": {
  "kernelspec": {
   "display_name": "Python 3 (ipykernel)",
   "language": "python",
   "name": "python3"
  },
  "language_info": {
   "codemirror_mode": {
    "name": "ipython",
    "version": 3
   },
   "file_extension": ".py",
   "mimetype": "text/x-python",
   "name": "python",
   "nbconvert_exporter": "python",
   "pygments_lexer": "ipython3",
   "version": "3.8.16"
  }
 },
 "nbformat": 4,
 "nbformat_minor": 5
}
