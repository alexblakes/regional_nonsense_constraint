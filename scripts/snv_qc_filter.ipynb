{
 "cells": [
  {
   "cell_type": "code",
   "execution_count": 1,
   "id": "0f39740a",
   "metadata": {},
   "outputs": [],
   "source": [
    "\"\"\" This scripts excludes possible and observed SNVs which fail gnomAD filters.\n",
    "\"\"\";"
   ]
  },
  {
   "cell_type": "code",
   "execution_count": 3,
   "id": "46599d12",
   "metadata": {},
   "outputs": [],
   "source": [
    "# Import modules\n",
    "import numpy as np\n",
    "import pandas as pd\n",
    "from collections import defaultdict"
   ]
  },
  {
   "cell_type": "markdown",
   "id": "e82b6964",
   "metadata": {},
   "source": [
    "## Filtering\n",
    "Variants failing various QC, frequency, or coverage criteria are excluded from the set of \"possible\" SNVs.\n",
    "\n",
    "Filtering is done on a *per site basis*. Any site with a variant which fails a filter is excluded from the \"possible\" SNVs set.\n",
    "\n",
    "This is acheived by filtering on a \"chr\" \"pos\" multiindex."
   ]
  },
  {
   "cell_type": "markdown",
   "id": "a84e4c27",
   "metadata": {},
   "source": [
    "### SNVs failing gnomAD QC"
   ]
  },
  {
   "cell_type": "code",
   "execution_count": 3,
   "id": "ed05d5e1",
   "metadata": {},
   "outputs": [],
   "source": [
    "def get_gnomad_failed_sites(path):\n",
    "    \"\"\"Get sites at which a variant fails gnomAD QC filters\"\"\"\n",
    "\n",
    "    fails = pd.read_csv(\n",
    "        path,\n",
    "        sep=\"\\t\",\n",
    "        header=None,\n",
    "        names=header,\n",
    "        dtype=datatypes,\n",
    "    ).drop_duplicates()\n",
    "\n",
    "    fail_sites = fails.set_index([\"chr\", \"pos\"]).index.drop_duplicates()\n",
    "\n",
    "    return fail_sites"
   ]
  },
  {
   "cell_type": "markdown",
   "id": "ac257fa2",
   "metadata": {},
   "source": [
    "### SNVs at MAF >0.001"
   ]
  },
  {
   "cell_type": "code",
   "execution_count": 4,
   "id": "a8075dab",
   "metadata": {},
   "outputs": [],
   "source": [
    "def get_common_variants(path):\n",
    "    \"\"\"Get sites at which a common variant (MAF > 0.001) is observed\"\"\"\n",
    "    common = (\n",
    "        pd.read_csv(\n",
    "            path,\n",
    "            sep=\"\\t\",\n",
    "            header=None,\n",
    "            names=header,\n",
    "            dtype=datatypes,\n",
    "        )\n",
    "        .drop_duplicates()\n",
    "        .assign(af=lambda x: x.ac / x.an)\n",
    "        .query(\"af > 0.001\")\n",
    "    )\n",
    "\n",
    "    common_sites = common.set_index([\"chr\", \"pos\"]).index.drop_duplicates()\n",
    "\n",
    "    return common_sites"
   ]
  },
  {
   "cell_type": "markdown",
   "id": "c63cc334",
   "metadata": {},
   "source": [
    "### Coverage\n",
    "The gnomAD coverage data is very large.\n",
    "There are a number of measures to limit memory overheads and optimise performance:\n",
    "- Read the coverage data in chunks.\n",
    "- chr and pos are set as a multi-index.\n",
    "- Duplicate index elements are dropped.\n",
    "- Inner join (using multi-indices) all SNVs on each chunk of the coverage data."
   ]
  },
  {
   "cell_type": "code",
   "execution_count": 5,
   "id": "8b1f574f",
   "metadata": {},
   "outputs": [],
   "source": [
    "def get_covered_sites(path, snvs):\n",
    "    \"\"\"Get sites within the specified coverage\"\"\"\n",
    "\n",
    "    # Split the coverage data into chunks\n",
    "    reader = pd.read_csv(\n",
    "        path,\n",
    "        sep=\"\\t\",\n",
    "        header=None,\n",
    "        names=[\"chr\", \"pos\"],\n",
    "        dtype={\"chr\": \"str\", \"pos\": \"int32\"},\n",
    "        chunksize=10000000,\n",
    "        index_col=[\"chr\", \"pos\"],\n",
    "    )\n",
    "    # Join performance is substantially better with non-duplicated indices\n",
    "    snv_sites = snvs[~snvs.index.duplicated()]\n",
    "    # This cell takes about 30 mins to run.\n",
    "    covered_sites = pd.concat([snv_sites.join(chunk, how=\"inner\") for chunk in reader])\n",
    "\n",
    "    return covered_sites"
   ]
  },
  {
   "cell_type": "markdown",
   "id": "78b53964",
   "metadata": {},
   "source": [
    "### SNVs of interest"
   ]
  },
  {
   "cell_type": "code",
   "execution_count": 1,
   "id": "88b4b78f",
   "metadata": {},
   "outputs": [],
   "source": [
    "def get_snvs(path, names):\n",
    "    \"\"\"Read SNVs to memory\"\"\"\n",
    "    snvs = (\n",
    "        pd.read_csv(\n",
    "            path,\n",
    "            sep=\"\\t\",\n",
    "            comment=\"#\",\n",
    "            header=None,\n",
    "            names=names,\n",
    "            usecols=[\"chr\", \"pos\", \"ref\", \"alt\"],\n",
    "            dtype=datatypes,\n",
    "        )\n",
    "        .drop_duplicates()\n",
    "        .set_index([\"chr\", \"pos\"])\n",
    "    )\n",
    "    return snvs"
   ]
  },
  {
   "cell_type": "markdown",
   "id": "21ca1efa",
   "metadata": {},
   "source": [
    "### Apply filters"
   ]
  },
  {
   "cell_type": "code",
   "execution_count": 7,
   "id": "d79ccee1",
   "metadata": {},
   "outputs": [],
   "source": [
    "def apply_filters(snvs):\n",
    "    \"\"\"Filter SNVs by gnomAD criteria\"\"\"\n",
    "\n",
    "    print(f\"Total SNVs: {len(snvs)}\")\n",
    "\n",
    "    snvs = snvs.loc[~snvs.index.isin(fail_sites)]  # Exclude low-quality sites\n",
    "    print(f\"Quality filter: {len(snvs)} remaining\")\n",
    "\n",
    "    snvs = snvs.loc[~snvs.index.isin(common_sites)]  # Exclude common allele sites\n",
    "    print(f\"Frequency filter: {len(snvs)} remaining\")\n",
    "\n",
    "    snvs = snvs.loc[\n",
    "        snvs.index.isin(covered_sites.index)\n",
    "    ]  # Exclude sites with coverage <30 or >32\n",
    "    print(f\"Coverage filter: {len(snvs)} remaining\")\n",
    "\n",
    "    return snvs"
   ]
  },
  {
   "cell_type": "markdown",
   "id": "2f2686c2",
   "metadata": {},
   "source": [
    "### Reformat to VCF and write out"
   ]
  },
  {
   "cell_type": "code",
   "execution_count": 9,
   "id": "a9e69fb4",
   "metadata": {},
   "outputs": [],
   "source": [
    "def write_vcf(snvs, output_path):\n",
    "    snvs = snvs.reset_index().assign(ID=\".\", QUAL=\".\", FILTER=\".\", INFO=\".\")[\n",
    "        [\"chr\", \"pos\", \"ID\", \"ref\", \"alt\", \"QUAL\", \"FILTER\", \"INFO\"]\n",
    "    ]\n",
    "    snvs.to_csv(\n",
    "        output_path,\n",
    "        sep=\"\\t\",\n",
    "        index=False,\n",
    "        header=False,\n",
    "    )\n",
    "    return snvs"
   ]
  },
  {
   "cell_type": "markdown",
   "id": "eed81cf6",
   "metadata": {},
   "source": [
    "### Main"
   ]
  },
  {
   "cell_type": "code",
   "execution_count": 9,
   "id": "f9917342",
   "metadata": {},
   "outputs": [
    {
     "name": "stdout",
     "output_type": "stream",
     "text": [
      "Total SNVs: 96953715\n",
      "Quality filter: 95979939 remaining\n",
      "Frequency filter: 95417079 remaining\n",
      "Coverage filter: 68852169 remaining\n",
      "Total SNVs: 6090156\n",
      "Quality filter: 6046180 remaining\n",
      "Frequency filter: 5828523 remaining\n",
      "Coverage filter: 4100545 remaining\n"
     ]
    }
   ],
   "source": [
    "if __name__ == \"__main__\":\n",
    "\n",
    "    # Default headers and dtype dictionaries\n",
    "    header = [\"chr\", \"pos\", \"id\", \"ref\", \"alt\", \"qual\", \"filter\", \"info\", \"ac\", \"an\"]\n",
    "    datatypes = defaultdict(lambda: \"str\")\n",
    "    datatypes.update({\"pos\": np.int32, \"ac\": np.int32, \"an\": np.int32})\n",
    "\n",
    "    # Input paths\n",
    "    poss_snvs = \"../outputs/cds_all_possible_snvs.vcf\"\n",
    "    obs_snvs = \"/re_gecip/enhanced_interpretation/AlexBlakes/gene_terminus_variant_constraint/outputs/gnomad/snvs_gnomad_cds.vcf\"\n",
    "\n",
    "    # Output paths\n",
    "    poss_out = \"../outputs/cds_all_possible_snvs_filtered.vcf\"\n",
    "    obs_out = \"../outputs/cds_all_observed_snvs_filtered.vcf\"\n",
    "\n",
    "    # Get sites to filter on\n",
    "    fail_sites = get_gnomad_failed_sites(\"../outputs/gnomad/gnomad_cds_snvs_failed.tsv\")\n",
    "    common_sites = get_common_variants(\n",
    "        \"/re_gecip/enhanced_interpretation/AlexBlakes/gene_terminus_variant_constraint/outputs/gnomad/snvs_gnomad_cds.vcf\"\n",
    "    )\n",
    "\n",
    "    # SNV filtering\n",
    "    for i, o, n in zip(\n",
    "        [poss_snvs, obs_snvs], [poss_out, obs_out], [header[:-2], header]\n",
    "    ):\n",
    "        snvs = get_snvs(path=i, names=n)\n",
    "        covered_sites = get_covered_sites(\n",
    "            \"../outputs/gnomad_3.1.1_coverage_30_32.tsv\", snvs=snvs\n",
    "        )\n",
    "        snvs = snvs.pipe(apply_filters).pipe(write_vcf, o)"
   ]
  }
 ],
 "metadata": {
  "kernelspec": {
   "display_name": "Python 3",
   "language": "python",
   "name": "python3"
  },
  "language_info": {
   "codemirror_mode": {
    "name": "ipython",
    "version": 3
   },
   "file_extension": ".py",
   "mimetype": "text/x-python",
   "name": "python",
   "nbconvert_exporter": "python",
   "pygments_lexer": "ipython3",
   "version": "3.6.5"
  }
 },
 "nbformat": 4,
 "nbformat_minor": 5
}
