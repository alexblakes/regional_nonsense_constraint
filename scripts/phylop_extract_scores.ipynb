{
 "cells": [
  {
   "cell_type": "markdown",
   "id": "edebbd14-4eae-4430-b68d-6325df3f8432",
   "metadata": {},
   "source": [
    "# Extract phyloP scores\n",
    "Get phyloP scores for all sites in canonical CDS.\n",
    "Use Zoonomia scores for 241 mammalian species."
   ]
  },
  {
   "cell_type": "markdown",
   "id": "f60e4c17-b0ed-4413-b01f-f67a2604a58e",
   "metadata": {},
   "source": [
    "## Preliminaries\n",
    "Download data from UKB RAP storage"
   ]
  },
  {
   "cell_type": "code",
   "execution_count": null,
   "id": "51de295f-130c-4840-91b1-505a1bbe9410",
   "metadata": {},
   "outputs": [],
   "source": [
    "%%bash\n",
    "dx download -o ../data/ data/241-mammalian-2020v2.bigWig\n",
    "dx download -o ../outputs/ outputs/gencode_v39_canonical_cds_chr.bed"
   ]
  },
  {
   "cell_type": "markdown",
   "id": "7effd3ed-98b3-4ff2-8c22-6080edac87f3",
   "metadata": {},
   "source": [
    "Install pyBigWig to conda environment"
   ]
  },
  {
   "cell_type": "code",
   "execution_count": 3,
   "id": "255d837f-5e34-485c-a93b-6dbe6757fa56",
   "metadata": {},
   "outputs": [
    {
     "name": "stdout",
     "output_type": "stream",
     "text": [
      "Collecting package metadata (current_repodata.json): ...working... done\n",
      "Solving environment: ...working... done\n"
     ]
    },
    {
     "name": "stderr",
     "output_type": "stream",
     "text": [
      "\n",
      "\n",
      "==> WARNING: A newer version of conda exists. <==\n",
      "  current version: 23.1.0\n",
      "  latest version: 23.5.0\n",
      "\n",
      "Please update conda by running\n",
      "\n",
      "    $ conda update -n base -c defaults conda\n",
      "\n",
      "Or to minimize the number of packages updated during conda update use\n",
      "\n",
      "     conda install conda=23.5.0\n",
      "\n",
      "\n"
     ]
    },
    {
     "name": "stdout",
     "output_type": "stream",
     "text": [
      "\n",
      "# All requested packages already installed.\n",
      "\n"
     ]
    }
   ],
   "source": [
    "%%bash\n",
    "conda install pybigwig -c conda-forge -c bioconda -y"
   ]
  },
  {
   "cell_type": "code",
   "execution_count": 6,
   "id": "5979ebf8-d98b-4cf1-8fd4-08284b663c79",
   "metadata": {},
   "outputs": [],
   "source": [
    "# Import packages\n",
    "import pyBigWig\n",
    "import numpy as np\n",
    "import pandas as pd"
   ]
  },
  {
   "cell_type": "markdown",
   "id": "b9c7e016-3d8b-49b5-9df8-823e06a2b7fd",
   "metadata": {},
   "source": [
    "## Script"
   ]
  },
  {
   "cell_type": "code",
   "execution_count": 23,
   "id": "35258868-8685-434d-b446-eaf5fa4274aa",
   "metadata": {},
   "outputs": [
    {
     "data": {
      "text/plain": [
       "{'version': 4,\n",
       " 'nLevels': 10,\n",
       " 'nBasesCovered': 2852623265,\n",
       " 'minVal': -20,\n",
       " 'maxVal': 9,\n",
       " 'sumData': 365889578,\n",
       " 'sumSquared': 4523134155}"
      ]
     },
     "execution_count": 23,
     "metadata": {},
     "output_type": "execute_result"
    }
   ],
   "source": [
    "# Read BigWig file of phyloP scores\n",
    "bw = pyBigWig.open(\"../data/241-mammalian-2020v2.bigWig\")\n",
    "bw.header()"
   ]
  },
  {
   "cell_type": "code",
   "execution_count": 118,
   "id": "b5aecd37-d26d-4b1b-b855-2d07dc646a42",
   "metadata": {},
   "outputs": [
    {
     "data": {
      "text/html": [
       "<div>\n",
       "<style scoped>\n",
       "    .dataframe tbody tr th:only-of-type {\n",
       "        vertical-align: middle;\n",
       "    }\n",
       "\n",
       "    .dataframe tbody tr th {\n",
       "        vertical-align: top;\n",
       "    }\n",
       "\n",
       "    .dataframe thead th {\n",
       "        text-align: right;\n",
       "    }\n",
       "</style>\n",
       "<table border=\"1\" class=\"dataframe\">\n",
       "  <thead>\n",
       "    <tr style=\"text-align: right;\">\n",
       "      <th></th>\n",
       "      <th>chr</th>\n",
       "      <th>start</th>\n",
       "      <th>end</th>\n",
       "    </tr>\n",
       "  </thead>\n",
       "  <tbody>\n",
       "    <tr>\n",
       "      <th>0</th>\n",
       "      <td>chr1</td>\n",
       "      <td>65564</td>\n",
       "      <td>65573</td>\n",
       "    </tr>\n",
       "    <tr>\n",
       "      <th>1</th>\n",
       "      <td>chr1</td>\n",
       "      <td>69036</td>\n",
       "      <td>70005</td>\n",
       "    </tr>\n",
       "    <tr>\n",
       "      <th>2</th>\n",
       "      <td>chr1</td>\n",
       "      <td>450742</td>\n",
       "      <td>451678</td>\n",
       "    </tr>\n",
       "  </tbody>\n",
       "</table>\n",
       "</div>"
      ],
      "text/plain": [
       "    chr   start     end\n",
       "0  chr1   65564   65573\n",
       "1  chr1   69036   70005\n",
       "2  chr1  450742  451678"
      ]
     },
     "execution_count": 118,
     "metadata": {},
     "output_type": "execute_result"
    }
   ],
   "source": [
    "# Read bed file of canonical CDS regions\n",
    "bed = pd.read_csv(\"../outputs/gencode_v39_canonical_cds_chr.bed\", sep=\"\\t\", header=None, names=[\"chr\",\"start\",\"end\",\"id\",\"score\",\"strand\"], usecols=[\"chr\",\"start\",\"end\"])\n",
    "\n",
    "# Exlucde mitochondrial regions\n",
    "bed = bed[bed[\"chr\"] != \"chrM\"]\n",
    "\n",
    "bed.head(3)"
   ]
  },
  {
   "cell_type": "code",
   "execution_count": 125,
   "id": "1ea6dbff-5362-4572-81b3-83a213a1d480",
   "metadata": {},
   "outputs": [
    {
     "name": "stdout",
     "output_type": "stream",
     "text": [
      "CPU times: user 1min 6s, sys: 6.88 s, total: 1min 12s\n",
      "Wall time: 1min 12s\n"
     ]
    }
   ],
   "source": [
    "# Get phyloP annotations for each site in a CDS\n",
    "%%time\n",
    "## Extract annotations\n",
    "phylop = bed.apply(lambda x: bw.intervals(x[\"chr\"], x[\"start\"], x[\"end\"]), axis=1)\n",
    "\n",
    "## Reformat the data\n",
    "phylop.index = bed[\"chr\"]\n",
    "phylop = phylop.explode().dropna()\n",
    "phylop = pd.DataFrame([[*a] for a in phylop.values], columns=[\"start\",\"end\",\"phylop\"], index=phylop.index)\n",
    "phylop = phylop.reset_index(drop=False).drop(\"start\", axis=1).rename(columns={\"end\":\"pos\"})\n",
    "\n",
    "# Print summary statistics\n",
    "print(f\"{len(phylop)} sites successfully annotated with phyloP scores.\")"
   ]
  },
  {
   "cell_type": "code",
   "execution_count": 128,
   "id": "ac471126-8f34-48e1-b8cc-0510f4319920",
   "metadata": {},
   "outputs": [],
   "source": [
    "phylop.to_csv(\"../outputs/phylop_all_sites.tsv\", sep=\"\\t\", index=False)"
   ]
  },
  {
   "cell_type": "code",
   "execution_count": 129,
   "id": "1e3eb8f5-ba5e-4a8f-acec-96534f7a1045",
   "metadata": {},
   "outputs": [
    {
     "name": "stdout",
     "output_type": "stream",
     "text": [
      "ID                    file-GX4vbb0JvP05P515vJ6qYZ19\n",
      "Class                 file\n",
      "Project               project-GQFJfPjJvP02pk9yZpqJ0yjJ\n",
      "Folder                /outputs\n",
      "Name                  phylop_all_sites.tsv\n",
      "State                 closing\n",
      "Visibility            visible\n",
      "Types                 -\n",
      "Properties            -\n",
      "Tags                  -\n",
      "Outgoing links        -\n",
      "Created               Wed Jun 14 14:12:36 2023\n",
      "Created by            alexander.blakes\n",
      " via the job          job-GX4p5g0JvP06BpqYQJv688Yy\n",
      "Last modified         Wed Jun 14 14:12:41 2023\n",
      "Media type            \n",
      "archivalState         \"live\"\n",
      "cloudAccount          \"cloudaccount-dnanexus\"\n"
     ]
    }
   ],
   "source": [
    "%%bash\n",
    "dx upload --destination outputs/ ../outputs/phylop_all_sites.tsv"
   ]
  }
 ],
 "metadata": {
  "kernelspec": {
   "display_name": "Python 3 (ipykernel)",
   "language": "python",
   "name": "python3"
  },
  "language_info": {
   "codemirror_mode": {
    "name": "ipython",
    "version": 3
   },
   "file_extension": ".py",
   "mimetype": "text/x-python",
   "name": "python",
   "nbconvert_exporter": "python",
   "pygments_lexer": "ipython3",
   "version": "3.8.16"
  }
 },
 "nbformat": 4,
 "nbformat_minor": 5
}
