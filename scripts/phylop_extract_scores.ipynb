{
 "cells": [
  {
   "cell_type": "markdown",
   "id": "edebbd14-4eae-4430-b68d-6325df3f8432",
   "metadata": {},
   "source": [
    "# Extract phyloP scores\n",
    "Get phyloP scores for sites in canonical CDS"
   ]
  },
  {
   "cell_type": "code",
   "execution_count": null,
   "id": "51de295f-130c-4840-91b1-505a1bbe9410",
   "metadata": {},
   "outputs": [],
   "source": [
    "%%bash\n",
    "dx download -o ../data/ data/241-mammalian-2020v2.bigWig\n",
    "dx download -o ../outputs/ outputs/nmd_annotations.tsv"
   ]
  },
  {
   "cell_type": "code",
   "execution_count": 3,
   "id": "255d837f-5e34-485c-a93b-6dbe6757fa56",
   "metadata": {},
   "outputs": [
    {
     "name": "stdout",
     "output_type": "stream",
     "text": [
      "Collecting package metadata (current_repodata.json): ...working... done\n",
      "Solving environment: ...working... done\n"
     ]
    },
    {
     "name": "stderr",
     "output_type": "stream",
     "text": [
      "\n",
      "\n",
      "==> WARNING: A newer version of conda exists. <==\n",
      "  current version: 23.1.0\n",
      "  latest version: 23.5.0\n",
      "\n",
      "Please update conda by running\n",
      "\n",
      "    $ conda update -n base -c defaults conda\n",
      "\n",
      "Or to minimize the number of packages updated during conda update use\n",
      "\n",
      "     conda install conda=23.5.0\n",
      "\n",
      "\n"
     ]
    },
    {
     "name": "stdout",
     "output_type": "stream",
     "text": [
      "\n",
      "# All requested packages already installed.\n",
      "\n"
     ]
    }
   ],
   "source": [
    "%%bash\n",
    "conda install pybigwig -c conda-forge -c bioconda -y"
   ]
  },
  {
   "cell_type": "code",
   "execution_count": 6,
   "id": "5979ebf8-d98b-4cf1-8fd4-08284b663c79",
   "metadata": {},
   "outputs": [],
   "source": [
    "import pyBigWig\n",
    "import numpy as np\n",
    "import pandas as pd"
   ]
  },
  {
   "cell_type": "code",
   "execution_count": null,
   "id": "b5aecd37-d26d-4b1b-b855-2d07dc646a42",
   "metadata": {},
   "outputs": [],
   "source": [
    "nmd = pd.read_csv(\"../\")"
   ]
  },
  {
   "cell_type": "code",
   "execution_count": null,
   "id": "35258868-8685-434d-b446-eaf5fa4274aa",
   "metadata": {},
   "outputs": [],
   "source": []
  }
 ],
 "metadata": {
  "kernelspec": {
   "display_name": "Python 3 (ipykernel)",
   "language": "python",
   "name": "python3"
  },
  "language_info": {
   "codemirror_mode": {
    "name": "ipython",
    "version": 3
   },
   "file_extension": ".py",
   "mimetype": "text/x-python",
   "name": "python",
   "nbconvert_exporter": "python",
   "pygments_lexer": "ipython3",
   "version": "3.8.16"
  }
 },
 "nbformat": 4,
 "nbformat_minor": 5
}
