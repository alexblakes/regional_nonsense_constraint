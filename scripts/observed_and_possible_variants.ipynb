{
 "cells": [
  {
   "cell_type": "markdown",
   "id": "cc2799ad",
   "metadata": {},
   "source": [
    "# Observed and possible synonymous variants, by context\n",
    "This notebook describes number of observed and possible synonymous SNVs in UKB, stratified by their trinucleotide context and mutability. \n",
    "\n",
    "It combines annotations for possible variants, observed variants, VEP annotations and trinucleotide contexts. Only synonymous variants are kept."
   ]
  },
  {
   "cell_type": "markdown",
   "id": "3586f45c",
   "metadata": {},
   "source": [
    "## Preliminaries"
   ]
  },
  {
   "cell_type": "markdown",
   "id": "2275e084",
   "metadata": {},
   "source": [
    "### Download data from UKB RAP"
   ]
  },
  {
   "cell_type": "code",
   "execution_count": 1,
   "id": "58960a04",
   "metadata": {},
   "outputs": [],
   "source": [
    "%%bash\n",
    "dx download \\\n",
    "    -f \\\n",
    "    -o ../data/ \\\n",
    "    data/cds_trinucleotide_contexts.tsv \\\n",
    "    data/grch38_cpg_methylation.tsv \\\n",
    "    data/gnomad_nc_mutation_rates.tsv \\\n",
    "    data/vep_cds_all_possible_snvs.vcf \\\n",
    "    outputs/gnomad_pass_variants/all_pass_snvs.txt"
   ]
  },
  {
   "cell_type": "markdown",
   "id": "be07d104",
   "metadata": {},
   "source": [
    "### Import modules"
   ]
  },
  {
   "cell_type": "code",
   "execution_count": 2,
   "id": "026839df",
   "metadata": {},
   "outputs": [],
   "source": [
    "# Import modules\n",
    "import numpy as np\n",
    "import pandas as pd\n",
    "from collections import defaultdict\n",
    "import matplotlib.pyplot as plt\n",
    "import seaborn as sns\n",
    "import statsmodels.formula.api as smf\n",
    "from sklearn.metrics import r2_score\n",
    "\n",
    "# Set seaborn context\n",
    "sns.set_context(\"talk\")"
   ]
  },
  {
   "cell_type": "markdown",
   "id": "42b5d1a0",
   "metadata": {},
   "source": [
    "## Load datasets"
   ]
  },
  {
   "cell_type": "code",
   "execution_count": 3,
   "id": "e67de001",
   "metadata": {},
   "outputs": [],
   "source": [
    "# Define VCF headers and datatypes.\n",
    "_header = [\"chr\", \"pos\", \"id\", \"ref\", \"alt\", \"qual\", \"filter\", \"info\"]\n",
    "\n",
    "datatypes = defaultdict(lambda: \"str\")\n",
    "datatypes.update({\"pos\": np.int32, \"ac\": np.int32, \"an\": np.int32})"
   ]
  },
  {
   "cell_type": "code",
   "execution_count": 4,
   "id": "2cd34d1d",
   "metadata": {},
   "outputs": [],
   "source": [
    "# Retreive observed variants\n",
    "obs = pd.read_csv(\n",
    "    \"../data/all_pass_snvs.txt\",\n",
    "    sep=\"\\t\",\n",
    "    header=None,\n",
    "    names=_header + [\"ac\", \"an\"],\n",
    "    usecols=[\"chr\", \"pos\", \"ref\", \"alt\", \"ac\", \"an\"],\n",
    "    dtype=datatypes,\n",
    ").assign(obs=1)"
   ]
  },
  {
   "cell_type": "code",
   "execution_count": 5,
   "id": "2eb60798",
   "metadata": {},
   "outputs": [],
   "source": [
    "# Retreive all possible SNVs\n",
    "pos = pd.read_csv(\n",
    "    \"../data/vep_cds_all_possible_snvs.vcf\",\n",
    "    sep=\"\\t\",\n",
    "    comment=\"#\",\n",
    "    header=None,\n",
    "    names=_header,\n",
    "    dtype=datatypes,\n",
    "    usecols=[\"chr\", \"pos\", \"ref\", \"alt\"],\n",
    ")"
   ]
  },
  {
   "cell_type": "code",
   "execution_count": 6,
   "id": "5c8f9f97",
   "metadata": {},
   "outputs": [],
   "source": [
    "# Retreive VEP annotations of all possible SNVs\n",
    "vep = pd.read_csv(\n",
    "    \"../data/vep_cds_all_possible_snvs.vcf\",\n",
    "    sep=\"\\t\",\n",
    "    comment=\"#\",\n",
    "    header=None,\n",
    "    names=_header,\n",
    "    dtype=datatypes,\n",
    "    usecols=[\"chr\", \"pos\", \"ref\", \"alt\", \"info\"],\n",
    ")"
   ]
  },
  {
   "cell_type": "code",
   "execution_count": 7,
   "id": "3907dcc2",
   "metadata": {},
   "outputs": [],
   "source": [
    "# Limit to synonymous variants only\n",
    "syn = pd.Series([\"synonymous\" in x for x in vep[\"info\"]])\n",
    "vep = vep.drop(\"info\", axis=1).loc[syn].assign(csq=\"synonymous\")"
   ]
  },
  {
   "cell_type": "code",
   "execution_count": 8,
   "id": "5173ed0d",
   "metadata": {},
   "outputs": [],
   "source": [
    "# Trinucleotide contexts\n",
    "tri = pd.read_csv(\"../data/cds_trinucleotide_contexts.tsv\", sep=\"\\t\", dtype=datatypes)"
   ]
  },
  {
   "cell_type": "code",
   "execution_count": 9,
   "id": "98928fb3",
   "metadata": {},
   "outputs": [],
   "source": [
    "# gnomAD methylation data\n",
    "meth = pd.read_csv(\n",
    "    \"../data/grch38_cpg_methylation.tsv\",\n",
    "    sep=\"\\t\",\n",
    "    header=0,\n",
    "    names=[\"ix\", \"chr\", \"pos\", \"alleles\", \"lvl\"],\n",
    "    usecols=[\"chr\", \"pos\", \"lvl\"],\n",
    ")"
   ]
  },
  {
   "cell_type": "code",
   "execution_count": 10,
   "id": "a08168bb",
   "metadata": {},
   "outputs": [],
   "source": [
    "# Mutation rates\n",
    "mu = pd.read_csv(\n",
    "    \"../data/gnomad_nc_mutation_rates.tsv\",\n",
    "    sep=\"\\t\",\n",
    "    names=[\n",
    "        \"tri\",\n",
    "        \"ref\",\n",
    "        \"alt\",\n",
    "        \"lvl\",\n",
    "        \"variant_type\",\n",
    "        \"mu\",\n",
    "        \"pos\",\n",
    "        \"obs\",\n",
    "        \"po\",\n",
    "        \"ppo\",\n",
    "    ],\n",
    "    header=0,\n",
    "    usecols=[\"tri\", \"ref\", \"alt\", \"lvl\", \"mu\", \"variant_type\"],\n",
    ")\n",
    "\n",
    "# Mutation rates are only available for 32 codons. We need to reverse-complement for the remainder.\n",
    "complement = {\"A\": \"T\", \"C\": \"G\", \"G\": \"C\", \"T\": \"A\"}\n",
    "# Replace ref and alt alleles\n",
    "_mu = mu.copy().replace(complement)\n",
    "# Reverse-complement trinucleotide contexts\n",
    "_mu[\"tri\"] = pd.Series([\"\".join([complement[y] for y in x])[::-1] for x in mu.tri])\n",
    "mu = pd.concat([mu, _mu])"
   ]
  },
  {
   "cell_type": "markdown",
   "id": "72ba11df",
   "metadata": {},
   "source": [
    "## Merge annotations"
   ]
  },
  {
   "cell_type": "code",
   "execution_count": 11,
   "id": "7d54bb81",
   "metadata": {},
   "outputs": [],
   "source": [
    "# Merge variant annotations\n",
    "df = pos.merge(obs, how=\"left\").fillna(0)\n",
    "df = df.merge(vep, how=\"left\").dropna()\n",
    "df = df.merge(tri, how=\"left\")"
   ]
  },
  {
   "cell_type": "code",
   "execution_count": 12,
   "id": "cea95ae0",
   "metadata": {},
   "outputs": [],
   "source": [
    "# Merge methylation and mutability annotations\n",
    "\n",
    "## Find the number of CpG sites not represented in the ENCODE data\n",
    "variant_types = mu[[\"tri\", \"ref\", \"alt\", \"variant_type\"]].drop_duplicates()\n",
    "df = df.merge(variant_types, how=\"left\")\n",
    "df = df.merge(meth, how=\"left\")\n",
    "\n",
    "## All non-CpG sites have lvl 0\n",
    "df.loc[df[\"variant_type\"] != \"CpG\", \"lvl\"] = 0\n",
    "df.lvl = df.lvl.astype(int)\n",
    "\n",
    "## Merge with mutability data\n",
    "df = df.merge(mu, how=\"left\")"
   ]
  },
  {
   "cell_type": "markdown",
   "id": "87421eac",
   "metadata": {},
   "source": [
    "### Make a copy of the dataframe in case it is needed"
   ]
  },
  {
   "cell_type": "code",
   "execution_count": 13,
   "id": "a0b5c6b7",
   "metadata": {},
   "outputs": [],
   "source": [
    "df_spare = df.copy()"
   ]
  },
  {
   "cell_type": "markdown",
   "id": "4273c756",
   "metadata": {},
   "source": [
    "## Drop selected variants"
   ]
  },
  {
   "cell_type": "code",
   "execution_count": 14,
   "id": "810ba615",
   "metadata": {},
   "outputs": [],
   "source": [
    "# Drop contexts in which a synonymous variant is generally not possible.\n",
    "# (NB synonymous variants in these contexts may occur at exon-intron junctions)\n",
    "m1 = (df.tri == \"AGT\") & ((df.alt == \"C\") | (df.alt == \"T\"))\n",
    "m2 = (df.tri == \"AAT\") & ((df.alt == \"C\") | (df.alt == \"T\"))\n",
    "m3 = (df.tri == \"ACT\") & ((df.alt == \"G\") | (df.alt == \"A\"))\n",
    "m4 = (df.tri == \"ATT\") & ((df.alt == \"G\") | (df.alt == \"A\"))\n",
    "\n",
    "df = df[~(m1 | m2 | m3 | m4)]"
   ]
  },
  {
   "cell_type": "code",
   "execution_count": 15,
   "id": "3b359c67",
   "metadata": {},
   "outputs": [],
   "source": [
    "# Drop common variants\n",
    "df = df[(df[\"ac\"] == 0) | (df[\"ac\"] / df[\"an\"] < 0.001)]"
   ]
  },
  {
   "cell_type": "markdown",
   "id": "54a9902f",
   "metadata": {},
   "source": [
    "## Summarise and write to output"
   ]
  },
  {
   "cell_type": "code",
   "execution_count": 16,
   "id": "a4d5b7ff",
   "metadata": {},
   "outputs": [],
   "source": [
    "stats = (\n",
    "    df.groupby([\"tri\", \"ref\", \"alt\", \"variant_type\", \"lvl\"])\n",
    "    .agg({\"mu\": \"mean\", \"obs\": \"mean\", \"pos\": \"count\"})\n",
    "    .reset_index()\n",
    ")\n",
    "stats.to_csv(\"../outputs/mutational_model_stats.tsv\", sep=\"\\t\", index=False)"
   ]
  }
 ],
 "metadata": {
  "kernelspec": {
   "display_name": "Python 3 (ipykernel)",
   "language": "python",
   "name": "python3"
  },
  "language_info": {
   "codemirror_mode": {
    "name": "ipython",
    "version": 3
   },
   "file_extension": ".py",
   "mimetype": "text/x-python",
   "name": "python",
   "nbconvert_exporter": "python",
   "pygments_lexer": "ipython3",
   "version": "3.10.10"
  }
 },
 "nbformat": 4,
 "nbformat_minor": 5
}
