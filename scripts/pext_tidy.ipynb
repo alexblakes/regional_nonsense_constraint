{
 "cells": [
  {
   "cell_type": "markdown",
   "id": "b51871e7-56db-4ee1-b14e-4eac6fa64fe5",
   "metadata": {},
   "source": [
    "# Tidy pext scores"
   ]
  },
  {
   "cell_type": "code",
   "execution_count": 2,
   "id": "72676a95-8d51-40ef-a638-e109ec2d3148",
   "metadata": {
    "tags": []
   },
   "outputs": [],
   "source": [
    "%%bash\n",
    "dx download -f -o ../data/ data/pext.all.baselevel.021620.tsv.bgz\n",
    "zcat ../data/pext.all.baselevel.021620.tsv.bgz | cut -f 1,2,57 > ../outputs/pext_37.tsv"
   ]
  },
  {
   "cell_type": "code",
   "execution_count": 3,
   "id": "2395820f-1950-4074-9d97-651b2a95ff99",
   "metadata": {
    "tags": []
   },
   "outputs": [],
   "source": [
    "import numpy as np\n",
    "import pandas as pd"
   ]
  },
  {
   "cell_type": "code",
   "execution_count": 4,
   "id": "5fb35273-b4da-4bc4-8e0c-5f0b101f3a2e",
   "metadata": {
    "tags": []
   },
   "outputs": [],
   "source": [
    "df = pd.read_csv(\"../outputs/pext_37.tsv\", sep=\"\\t\").dropna()"
   ]
  },
  {
   "cell_type": "code",
   "execution_count": 8,
   "id": "c04093db-ca93-4c47-aa1f-360099dba845",
   "metadata": {},
   "outputs": [],
   "source": [
    "_ = [x.split(\":\") for x in df.locus]\n",
    "c = pd.Series([x[0] for x in _])\n",
    "p = pd.Series([x[1] for x in _])\n",
    "\n",
    "df[\"chr\"] = c\n",
    "df[\"end\"] = p.astype(int)\n",
    "df[\"start\"] = df[\"end\"] - 1\n",
    "df = df.rename(columns={\"ensg\":\"name\", \"mean_proportion\":\"score\"})\n",
    "\n",
    "df = df[[\"chr\",\"start\",\"end\",\"name\",\"score\"]]\n",
    "\n",
    "df.to_csv(\"../outputs/pext_37.bed\", sep=\"\\t\", index=False, header=False)"
   ]
  },
  {
   "cell_type": "code",
   "execution_count": null,
   "id": "81f6388e-58b4-4c59-8a42-ad7031d1930a",
   "metadata": {},
   "outputs": [],
   "source": []
  }
 ],
 "metadata": {
  "kernelspec": {
   "display_name": "Python 3 (ipykernel)",
   "language": "python",
   "name": "python3"
  },
  "language_info": {
   "codemirror_mode": {
    "name": "ipython",
    "version": 3
   },
   "file_extension": ".py",
   "mimetype": "text/x-python",
   "name": "python",
   "nbconvert_exporter": "python",
   "pygments_lexer": "ipython3",
   "version": "3.8.16"
  }
 },
 "nbformat": 4,
 "nbformat_minor": 5
}
