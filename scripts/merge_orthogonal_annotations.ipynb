{
 "cells": [
  {
   "cell_type": "markdown",
   "id": "0c0f3624-9368-4a62-8121-3a1cfad690a9",
   "metadata": {},
   "source": [
    "# Merge annotations\n",
    "Merge our NMD annotations with external annotations (phyloP, HMC, and pext)"
   ]
  },
  {
   "cell_type": "markdown",
   "id": "109cd06f-3e04-401d-8172-ff77efd32056",
   "metadata": {},
   "source": [
    "## Preliminaries"
   ]
  },
  {
   "cell_type": "code",
   "execution_count": null,
   "id": "e21b5a92-0903-4af9-9382-7c0303db56f4",
   "metadata": {
    "tags": []
   },
   "outputs": [],
   "source": [
    "%%bash\n",
    "# Download NMD annotations and phyloP scores from UKB RAP\n",
    "dx download -f -o ../outputs/ outputs/nmd_annotations.tsv\n",
    "dx download -f -o ../outputs/ outputs/phylop_all_sites.tsv\n",
    "dx download -f -o ../outputs/ outputs/pext_38.bed\n",
    "dx download -f -o ../outputs/ outputs/hmc_38.tsv\n",
    "dx download -f -o ../outputs/ outputs/gene_ids.tsv"
   ]
  },
  {
   "cell_type": "code",
   "execution_count": null,
   "id": "f8113d97-a229-4776-8d2a-fe1973fe6b54",
   "metadata": {
    "tags": []
   },
   "outputs": [],
   "source": [
    "# Import relevant modules\n",
    "import numpy as np\n",
    "import pandas as pd"
   ]
  },
  {
   "cell_type": "markdown",
   "id": "1630391c-cdbc-451d-9d75-02372e65b152",
   "metadata": {},
   "source": [
    "## Get annotations"
   ]
  },
  {
   "cell_type": "markdown",
   "id": "bc06563d-ed80-42b1-9a46-2e843c3eed5b",
   "metadata": {},
   "source": [
    "### NMD annotations"
   ]
  },
  {
   "cell_type": "code",
   "execution_count": null,
   "id": "6e39ec95-d0be-4f8f-a1b4-3327b4863675",
   "metadata": {
    "tags": []
   },
   "outputs": [],
   "source": [
    "# Read NMD data into memory\n",
    "nmd = pd.read_csv(\n",
    "    \"../outputs/nmd_annotations.tsv\",\n",
    "    sep=\"\\t\",\n",
    "    usecols=[\"chr\", \"pos\", \"transcript_id\", \"nmd_definitive\"],\n",
    ").rename(columns={\"nmd_definitive\": \"region\", \"transcript_id\": \"enst\"})\n",
    "\n",
    "# Print summary statistics\n",
    "print(f\"Sites with an NMD annotation: {len(nmd)}\")"
   ]
  },
  {
   "cell_type": "markdown",
   "id": "86558729-7da9-4f4d-9b61-ebf45e3dec3d",
   "metadata": {},
   "source": [
    "### phyloP annotations"
   ]
  },
  {
   "cell_type": "code",
   "execution_count": null,
   "id": "e2940af8-2ca5-44f3-9bf4-e45d4b8a3d33",
   "metadata": {
    "tags": []
   },
   "outputs": [],
   "source": [
    "# Read phyloP data into memory\n",
    "phylop = pd.read_csv(\"../outputs/phylop_all_sites.tsv\", sep=\"\\t\")\n",
    "\n",
    "# Print summary statistics\n",
    "print(f\"Sites with a phyloP annotation: {len(phylop)}\")"
   ]
  },
  {
   "cell_type": "markdown",
   "id": "945ea6ec-b59d-4046-8549-f7401b5dc652",
   "metadata": {},
   "source": [
    "### pext annotations"
   ]
  },
  {
   "cell_type": "code",
   "execution_count": null,
   "id": "792a2582-2731-4926-a455-3dfca7496743",
   "metadata": {},
   "outputs": [],
   "source": [
    "# Read pext data into memory\n",
    "pext = (\n",
    "    pd.read_csv(\n",
    "        \"../outputs/pext_38.bed\", \n",
    "        sep=\"\\t\", header=None, names=[\"chr\",\"start\",\"end\",\"ensg\",\"pext\"], \n",
    "        usecols=[\"chr\",\"end\",\"ensg\",\"pext\"]\n",
    "    )\n",
    "    .rename(columns={\"end\":\"pos\"})\n",
    "    .drop_duplicates()\n",
    "    .drop_duplicates([\"chr\",\"pos\",\"ensg\"], keep=False)\n",
    ")\n",
    "print(f\"Valid pext annotations: {len(pext)}\")"
   ]
  },
  {
   "cell_type": "code",
   "execution_count": null,
   "id": "bc90b8be-cd36-4c38-a24e-92fe4c20335b",
   "metadata": {},
   "outputs": [],
   "source": [
    "# Read gene and transcript ids into memory\n",
    "ids = (\n",
    "    pd.read_csv(\n",
    "        \"../outputs/gene_ids.tsv\", \n",
    "        sep=\"\\t\", \n",
    "        header=0,\n",
    "        names=[\"ensg\",\"enst\",\"hgnc\"], \n",
    "        usecols=[\"ensg\",\"enst\"]\n",
    "    )\n",
    ")\n",
    "ids[\"ensg\"] = ids[\"ensg\"].str.split(\".\").str[0]\n",
    "ids[\"enst\"] = ids[\"enst\"].str.split(\".\").str[0]\n",
    "\n",
    "ids = ids.drop_duplicates()\n",
    "\n",
    "pext = pext.merge(ids, how=\"inner\").drop(\"ensg\", axis=1)\n",
    "print(f\"Valid pext annotations in genes with a MANE transcript: {len(pext)}\")"
   ]
  },
  {
   "cell_type": "markdown",
   "id": "447ef9cd-a873-453b-9da7-61c93f243de4",
   "metadata": {},
   "source": [
    "### HMC annotations"
   ]
  },
  {
   "cell_type": "code",
   "execution_count": null,
   "id": "a98eb752-7f1b-41c2-a440-c36ca0f35397",
   "metadata": {},
   "outputs": [],
   "source": [
    "hmc = (\n",
    "    pd.read_csv(\n",
    "        \"../outputs/hmc_38.tsv\", \n",
    "        sep=\"\\t\", \n",
    "        header=None, \n",
    "        names=[\"chr\",\"pos\",\"hmc\"]\n",
    "    )\n",
    "    .sort_values([\"chr\",\"pos\",\"hmc\"])\n",
    "    .drop_duplicates([\"chr\",\"pos\"]) # Keep the lowest HMC score (most constrained) per site\n",
    ")\n",
    "print(f\"Number of HMC annotations: {len(hmc)}\")"
   ]
  },
  {
   "cell_type": "markdown",
   "id": "35528631-9d6b-4e0a-95b9-402498bb77de",
   "metadata": {},
   "source": [
    "### Constraint annotations"
   ]
  },
  {
   "cell_type": "code",
   "execution_count": null,
   "id": "680bd6dd-b811-4429-a959-f2fc4a1f2f00",
   "metadata": {
    "tags": []
   },
   "outputs": [],
   "source": [
    "# Read the constraint data into memory\n",
    "constraint = (\n",
    "    pd.read_csv(\n",
    "        \"../outputs/expected_variants_all_regions_no_cpg_stats.tsv\",\n",
    "        sep=\"\\t\",\n",
    "        usecols=[\"region\", \"enst\", \"csq\", \"n_obs\", \"oe\", \"z\", \"p\", \"fdr_p\"],\n",
    "    )\n",
    "    .pivot( # We need, for example, synonymous Z-scores for later filtering\n",
    "        index=[\"region\", \"enst\"],\n",
    "        columns=\"csq\",\n",
    "        values=[\"n_obs\", \"oe\", \"z\", \"p\", \"fdr_p\"],\n",
    "    )\n",
    "    .swaplevel(\n",
    "        axis=1,\n",
    "    )\n",
    "    .reset_index(\n",
    "        drop=False,\n",
    "    )\n",
    ")"
   ]
  },
  {
   "cell_type": "code",
   "execution_count": null,
   "id": "5cfcbe20-83ea-4ed8-8ba3-d6ac3badbb0a",
   "metadata": {
    "tags": []
   },
   "outputs": [],
   "source": [
    "# Find constrained and unconstrained regions\n",
    "\n",
    "## The columns are a multi-index which need to be merged\n",
    "constraint.columns = [\"_\".join(x).strip(\"_\") for x in constraint.columns.values]\n",
    "\n",
    "## Keep only the relevant columns\n",
    "constraint = constraint[\n",
    "    [\n",
    "        \"region\",\n",
    "        \"enst\",\n",
    "        \"nonsense_n_obs\",\n",
    "        \"nonsense_oe\",\n",
    "        \"synonymous_z\",\n",
    "        \"nonsense_p\",\n",
    "        \"nonsense_fdr_p\",\n",
    "    ]\n",
    "]\n",
    "\n",
    "## Filter for constrained and unconstrained regions / transcripts\n",
    "m1 = constraint[\"nonsense_oe\"] < 0.35\n",
    "m2 = constraint[\"synonymous_z\"] > -1\n",
    "m3 = constraint[\"nonsense_fdr_p\"] < 0.05\n",
    "\n",
    "m4 = constraint[\"nonsense_p\"] >= 0.05\n",
    "m5 = constraint[\"nonsense_n_obs\"] >= 1\n",
    "\n",
    "constraint.loc[m1 & m2 & m3, \"constraint\"] = \"constrained\"\n",
    "constraint.loc[m4 & m5, \"constraint\"] = \"unconstrained\"\n",
    "\n",
    "## Drop irrelevant columns \n",
    "constraint = constraint[[\"region\", \"enst\", \"constraint\"]]\n",
    "\n",
    "## Print the counts of constrained and unconstrained regions\n",
    "print(constraint.groupby([\"region\"])[\"constraint\"].value_counts())"
   ]
  },
  {
   "cell_type": "markdown",
   "id": "307ca62f-5df8-4dad-bf85-fc07f1b78311",
   "metadata": {},
   "source": [
    "## Merge annotations"
   ]
  },
  {
   "cell_type": "code",
   "execution_count": null,
   "id": "5af9e29c-a851-4c7d-bc98-c7b5f89f20a0",
   "metadata": {},
   "outputs": [],
   "source": [
    "# NMD and phyloP\n",
    "df = nmd.merge(phylop, how=\"left\")\n",
    "print(f\"Sites after merging NMD and phyloP annotations: {len(df)}\")\n",
    "print(f\"Sites with a phyloP annotation: {len(df) - df.phylop.isna().sum()}\")\n",
    "\n",
    "# pext\n",
    "df = df.merge(pext, how=\"left\")\n",
    "print(f\"Sites after merging pext annotations: {len(df)}\")\n",
    "print(f\"Sites with a pext annotation: {len(df) - df.pext.isna().sum()}\")\n",
    "\n",
    "# hmc\n",
    "df = df.merge(hmc, how=\"left\")\n",
    "print(f\"Sites after merging with HMC annotation: {len(df)}\")\n",
    "print(f\"Sites with an HMC annotation: {len(df) - df.hmc.isna().sum()}\")"
   ]
  },
  {
   "cell_type": "code",
   "execution_count": null,
   "id": "b162efdb-6afe-405d-a93b-dd3568dbe8ee",
   "metadata": {
    "tags": []
   },
   "outputs": [],
   "source": [
    "# In order to get transcript-level statistics, we copy the dataframe and overwrite the \"region\" annotation.\n",
    "_ = df.copy().assign(region=\"transcript\")\n",
    "df = pd.concat([df, _])"
   ]
  },
  {
   "cell_type": "code",
   "execution_count": null,
   "id": "e309ba2f-ab02-45e3-a16d-0c07cf5a3838",
   "metadata": {
    "tags": []
   },
   "outputs": [],
   "source": [
    "# Merge with constraint annotations\n",
    "df = df.merge(constraint, how=\"inner\")"
   ]
  },
  {
   "cell_type": "markdown",
   "id": "cff61f3a-5a47-4457-99e2-e025c3272721",
   "metadata": {},
   "source": [
    "## Write to output"
   ]
  },
  {
   "cell_type": "code",
   "execution_count": null,
   "id": "4d3085ab-7d7a-4536-88a5-8d8754d6e9aa",
   "metadata": {},
   "outputs": [],
   "source": [
    "# Write to output\n",
    "df.to_csv(\"../outputs/orthogonal_annotations.tsv\", sep=\"\\t\", index=False)"
   ]
  }
 ],
 "metadata": {
  "kernelspec": {
   "display_name": "Python 3 (ipykernel)",
   "language": "python",
   "name": "python3"
  },
  "language_info": {
   "codemirror_mode": {
    "name": "ipython",
    "version": 3
   },
   "file_extension": ".py",
   "mimetype": "text/x-python",
   "name": "python",
   "nbconvert_exporter": "python",
   "pygments_lexer": "ipython3",
   "version": "3.8.16"
  }
 },
 "nbformat": 4,
 "nbformat_minor": 5
}
