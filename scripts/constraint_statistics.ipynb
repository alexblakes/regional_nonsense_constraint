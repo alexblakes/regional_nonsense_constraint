{
 "cells": [
  {
   "cell_type": "markdown",
   "id": "bb26900f-e72b-4ef4-a139-9e013ede8751",
   "metadata": {},
   "source": [
    "# Constraint statistics\n"
   ]
  },
  {
   "cell_type": "code",
   "execution_count": 1,
   "id": "4ed6b10c-b2e8-4b41-aa9b-3294bbda4305",
   "metadata": {
    "tags": []
   },
   "outputs": [],
   "source": [
    "import numpy as np\n",
    "import pandas as pd\n",
    "import seaborn as sns\n",
    "import matplotlib.pyplot as plt\n",
    "import seaborn as sns\n",
    "import statsmodels.formula.api as smf\n",
    "from statsmodels.stats.proportion import proportions_ztest\n",
    "from statsmodels.stats.multitest import fdrcorrection as fdr\n",
    "from scipy import stats as _stats\n",
    "\n",
    "sns.set_context(\"talk\")"
   ]
  },
  {
   "cell_type": "markdown",
   "id": "2a78d5d9-0809-4fc0-8262-d9ee3f61d8b7",
   "metadata": {},
   "source": [
    "## Load the data"
   ]
  },
  {
   "cell_type": "code",
   "execution_count": 2,
   "id": "24a72669-c582-4881-9b81-089b702be0cf",
   "metadata": {
    "tags": []
   },
   "outputs": [
    {
     "name": "stdout",
     "output_type": "stream",
     "text": [
      "Number of distinct regions:\n",
      "transcript        19623\n",
      "start_proximal    19415\n",
      "distal_nmd        19222\n",
      "nmd_target        16444\n",
      "long_exon          3565\n",
      "Name: region, dtype: int64\n"
     ]
    }
   ],
   "source": [
    "df = pd.read_csv(\"../outputs/expected_variants_all_regions_no_cpg.tsv\", sep=\"\\t\")\n",
    "\n",
    "# Print summary data\n",
    "_ = (df.region.value_counts() / 3).astype(int)\n",
    "print(f\"Number of distinct regions:\\n{_}\")  # 3 consequences per region (syn/mis/non)"
   ]
  },
  {
   "cell_type": "markdown",
   "id": "71b00edf-4178-466f-9ad8-5b70f4c5d141",
   "metadata": {},
   "source": [
    "## Get constraint Z scores"
   ]
  },
  {
   "cell_type": "code",
   "execution_count": 3,
   "id": "d475efed-4983-49cd-891c-fb4db06905ce",
   "metadata": {},
   "outputs": [],
   "source": [
    "def per_row_ztest(row, statistic=\"z\"):\n",
    "    if statistic == \"z\":\n",
    "        i = 0\n",
    "    elif statistic == \"p\":\n",
    "        i = 1\n",
    "\n",
    "    stat = proportions_ztest(\n",
    "        count=row[\"n_obs\"],\n",
    "        nobs=row[\"n_pos\"],\n",
    "        value=row[\"prop_exp\"],\n",
    "        alternative=\"smaller\",\n",
    "        prop_var=row[\"prop_exp\"],\n",
    "    )[i]\n",
    "\n",
    "    return stat"
   ]
  },
  {
   "cell_type": "code",
   "execution_count": 4,
   "id": "1caa68cd-41d7-40ac-98bb-f1af96462b23",
   "metadata": {
    "tags": []
   },
   "outputs": [],
   "source": [
    "%%capture\n",
    "df[\"z\"] = df.apply(per_row_ztest, statistic=\"z\", axis=1)\n",
    "df[\"p\"] = df.apply(per_row_ztest, statistic=\"p\", axis=1)\n",
    "\n",
    "# Print summary data\n",
    "_ = df.groupby([\"region\",\"csq\"])[\"z\"].count()\n",
    "print(f\"Constraint statistics by region and consequence:\\n{_}\")"
   ]
  },
  {
   "cell_type": "markdown",
   "id": "64532e71-8134-439f-abb2-9f929212c264",
   "metadata": {},
   "source": [
    "## Get FDR-adjusted P-values\n",
    "Calculate separately for whole-transcripts and constrained regions"
   ]
  },
  {
   "cell_type": "code",
   "execution_count": 5,
   "id": "49ebc5f1-933c-4b46-9cc3-f43f98e4ab55",
   "metadata": {
    "tags": []
   },
   "outputs": [],
   "source": [
    "def fdr_adjustment(df, regions=[\"transcript\"], csq=\"nonsense\"):\n",
    "    \"\"\"Get FDR-adjusted P-values for a given region and variant consequence.\"\"\"\n",
    "    # Mask regions and consequences\n",
    "    m1 = df.region.isin(regions)\n",
    "    m2 = df.csq == csq\n",
    "\n",
    "    # Filter the dataframe and drop cases without a P-value\n",
    "    p = df.loc[m1 & m2, [\"region\", \"p\"]].dropna().copy()\n",
    "\n",
    "    # FDR adjustment\n",
    "    p[\"fdr_p\"] = fdr(pvals=p[\"p\"])[1]\n",
    "\n",
    "    return p"
   ]
  },
  {
   "cell_type": "code",
   "execution_count": 6,
   "id": "ee36b208-7bd0-4807-a585-c0552c9851cd",
   "metadata": {
    "tags": []
   },
   "outputs": [],
   "source": [
    "# FDR adjustment is done separately for transcripts and NMD regions\n",
    "r1 = [\"transcript\"]\n",
    "r2 = [\"distal_nmd\", \"nmd_target\", \"long_exon\"]\n",
    "\n",
    "fdr_p = pd.concat([fdr_adjustment(df, regions=r) for r in [r1, r2]])\n",
    "\n",
    "# Join FDR-adjusted p-values to the original dataframe\n",
    "df = df.join(fdr_p[\"fdr_p\"])"
   ]
  },
  {
   "cell_type": "markdown",
   "id": "ebbe750e-3894-42e5-a6cc-fcda940a5fed",
   "metadata": {},
   "source": [
    "## Save to output"
   ]
  },
  {
   "cell_type": "code",
   "execution_count": null,
   "id": "27f495ad-0e8f-4b07-be1a-dc01a9308b25",
   "metadata": {},
   "outputs": [],
   "source": [
    "df.to_csv(\"../outputs/expected_variants_all_regions_no_cpg_stats.tsv\", sep=\"\\t\")"
   ]
  }
 ],
 "metadata": {
  "kernelspec": {
   "display_name": "Python [conda env:ukb]",
   "language": "python",
   "name": "conda-env-ukb-py"
  },
  "language_info": {
   "codemirror_mode": {
    "name": "ipython",
    "version": 3
   },
   "file_extension": ".py",
   "mimetype": "text/x-python",
   "name": "python",
   "nbconvert_exporter": "python",
   "pygments_lexer": "ipython3",
   "version": "3.8.16"
  }
 },
 "nbformat": 4,
 "nbformat_minor": 5
}
