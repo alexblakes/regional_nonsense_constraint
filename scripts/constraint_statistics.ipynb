{
 "cells": [
  {
   "cell_type": "markdown",
   "id": "bb26900f-e72b-4ef4-a139-9e013ede8751",
   "metadata": {},
   "source": [
    "# Constraint statistics\n"
   ]
  },
  {
   "cell_type": "code",
   "execution_count": null,
   "id": "4ed6b10c-b2e8-4b41-aa9b-3294bbda4305",
   "metadata": {},
   "outputs": [],
   "source": []
  },
  {
   "cell_type": "code",
   "execution_count": 7,
   "id": "d475efed-4983-49cd-891c-fb4db06905ce",
   "metadata": {},
   "outputs": [],
   "source": [
    "def per_row_ztest(row, statistic=\"z\"):\n",
    "    if statistic == \"z\":\n",
    "        i = 0\n",
    "    elif statistic == \"p\":\n",
    "        i = 1\n",
    "\n",
    "    stat = proportions_ztest(\n",
    "        count=row[\"n_obs\"],\n",
    "        nobs=row[\"n_pos\"],\n",
    "        value=row[\"prop_exp\"],\n",
    "        alternative=\"smaller\",\n",
    "        prop_var=row[\"prop_exp\"],\n",
    "    )[i]\n",
    "    \n",
    "    return stat"
   ]
  },
  {
   "cell_type": "markdown",
   "id": "64532e71-8134-439f-abb2-9f929212c264",
   "metadata": {},
   "source": [
    "## Get FDR-adjusted P-values\n",
    "Calculate separately for whole-transcripts and constrained regions"
   ]
  },
  {
   "cell_type": "code",
   "execution_count": 10,
   "id": "1042444d-816c-42b0-b60a-f9cd3e3cf18b",
   "metadata": {
    "tags": []
   },
   "outputs": [],
   "source": [
    "def fdr_adjustment(df, regions=[\"transcript\"], csq=\"nonsense\"):\n",
    "    \"\"\"Get FDR-adjusted P-values for a given region and variant consequence.\"\"\"\n",
    "    # Mask regions and consequences\n",
    "    m1 = df.region.isin(regions)\n",
    "    m2 = df.csq == csq\n",
    "\n",
    "    # Filter the dataframe and drop cases without a P-value\n",
    "    p = df.loc[m1 & m2, [\"region\", \"p\"]].dropna().copy()\n",
    "\n",
    "    # FDR adjustment\n",
    "    p[\"fdr_p\"] = fdr(pvals=p[\"p\"])[1]\n",
    "\n",
    "    return p\n",
    "\n",
    "\n",
    "r1 = [\"transcript\"]\n",
    "r2 = [\"distal_nmd\", \"nmd_target\", \"long_exon\"]\n",
    "\n",
    "fdr_p = pd.concat([fdr_adjustment(df, regions=r) for r in [r1, r2]])\n",
    "df = df.join(fdr_p[\"fdr_p\"])"
   ]
  }
 ],
 "metadata": {
  "kernelspec": {
   "display_name": "Python [conda env:ukb]",
   "language": "python",
   "name": "conda-env-ukb-py"
  },
  "language_info": {
   "codemirror_mode": {
    "name": "ipython",
    "version": 3
   },
   "file_extension": ".py",
   "mimetype": "text/x-python",
   "name": "python",
   "nbconvert_exporter": "python",
   "pygments_lexer": "ipython3",
   "version": "3.8.16"
  }
 },
 "nbformat": 4,
 "nbformat_minor": 5
}
