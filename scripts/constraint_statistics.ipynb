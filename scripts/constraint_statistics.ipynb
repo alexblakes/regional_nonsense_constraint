{
 "cells": [
  {
   "cell_type": "markdown",
   "id": "bb26900f-e72b-4ef4-a139-9e013ede8751",
   "metadata": {},
   "source": [
    "# Constraint statistics\n"
   ]
  },
  {
   "cell_type": "markdown",
   "id": "b627ecff-72d9-43e3-8fbb-2aafd215adf6",
   "metadata": {},
   "source": [
    "## Preliminaries\n",
    "### Import modules"
   ]
  },
  {
   "cell_type": "code",
   "execution_count": 1,
   "id": "4ed6b10c-b2e8-4b41-aa9b-3294bbda4305",
   "metadata": {
    "tags": []
   },
   "outputs": [],
   "source": [
    "import numpy as np\n",
    "import pandas as pd\n",
    "import seaborn as sns\n",
    "import matplotlib.pyplot as plt\n",
    "import seaborn as sns\n",
    "import statsmodels.formula.api as smf\n",
    "from statsmodels.stats.proportion import proportions_ztest\n",
    "from statsmodels.stats.multitest import fdrcorrection as fdr\n",
    "from scipy import stats as _stats\n",
    "\n",
    "sns.set_context(\"talk\")"
   ]
  },
  {
   "cell_type": "markdown",
   "id": "f642b708-7002-4124-97d1-86b0673b6d39",
   "metadata": {},
   "source": [
    "### Download data"
   ]
  },
  {
   "cell_type": "code",
   "execution_count": 2,
   "id": "c0f83d6f-40ab-4e3a-a7fe-b98c3864726c",
   "metadata": {
    "tags": []
   },
   "outputs": [
    {
     "name": "stderr",
     "output_type": "stream",
     "text": [
      "Error: path \"../data/supplementary_dataset_11_full_constraint_metrics.tsv\"\n",
      "already exists but -f/--overwrite was not set\n"
     ]
    },
    {
     "ename": "CalledProcessError",
     "evalue": "Command 'b'dx download -o ../data/ data/supplementary_dataset_11_full_constraint_metrics.tsv\\n'' returned non-zero exit status 1.",
     "output_type": "error",
     "traceback": [
      "\u001b[0;31m---------------------------------------------------------------------------\u001b[0m",
      "\u001b[0;31mCalledProcessError\u001b[0m                        Traceback (most recent call last)",
      "Cell \u001b[0;32mIn[2], line 1\u001b[0m\n\u001b[0;32m----> 1\u001b[0m \u001b[43mget_ipython\u001b[49m\u001b[43m(\u001b[49m\u001b[43m)\u001b[49m\u001b[38;5;241;43m.\u001b[39;49m\u001b[43mrun_cell_magic\u001b[49m\u001b[43m(\u001b[49m\u001b[38;5;124;43m'\u001b[39;49m\u001b[38;5;124;43mbash\u001b[39;49m\u001b[38;5;124;43m'\u001b[39;49m\u001b[43m,\u001b[49m\u001b[43m \u001b[49m\u001b[38;5;124;43m'\u001b[39;49m\u001b[38;5;124;43m'\u001b[39;49m\u001b[43m,\u001b[49m\u001b[43m \u001b[49m\u001b[38;5;124;43m'\u001b[39;49m\u001b[38;5;124;43mdx download -o ../data/ data/supplementary_dataset_11_full_constraint_metrics.tsv\u001b[39;49m\u001b[38;5;130;43;01m\\n\u001b[39;49;00m\u001b[38;5;124;43m'\u001b[39;49m\u001b[43m)\u001b[49m\n",
      "File \u001b[0;32m~/miniconda3/ukb/lib/python3.8/site-packages/IPython/core/interactiveshell.py:2430\u001b[0m, in \u001b[0;36mInteractiveShell.run_cell_magic\u001b[0;34m(self, magic_name, line, cell)\u001b[0m\n\u001b[1;32m   2428\u001b[0m \u001b[38;5;28;01mwith\u001b[39;00m \u001b[38;5;28mself\u001b[39m\u001b[38;5;241m.\u001b[39mbuiltin_trap:\n\u001b[1;32m   2429\u001b[0m     args \u001b[38;5;241m=\u001b[39m (magic_arg_s, cell)\n\u001b[0;32m-> 2430\u001b[0m     result \u001b[38;5;241m=\u001b[39m \u001b[43mfn\u001b[49m\u001b[43m(\u001b[49m\u001b[38;5;241;43m*\u001b[39;49m\u001b[43margs\u001b[49m\u001b[43m,\u001b[49m\u001b[43m \u001b[49m\u001b[38;5;241;43m*\u001b[39;49m\u001b[38;5;241;43m*\u001b[39;49m\u001b[43mkwargs\u001b[49m\u001b[43m)\u001b[49m\n\u001b[1;32m   2432\u001b[0m \u001b[38;5;66;03m# The code below prevents the output from being displayed\u001b[39;00m\n\u001b[1;32m   2433\u001b[0m \u001b[38;5;66;03m# when using magics with decodator @output_can_be_silenced\u001b[39;00m\n\u001b[1;32m   2434\u001b[0m \u001b[38;5;66;03m# when the last Python token in the expression is a ';'.\u001b[39;00m\n\u001b[1;32m   2435\u001b[0m \u001b[38;5;28;01mif\u001b[39;00m \u001b[38;5;28mgetattr\u001b[39m(fn, magic\u001b[38;5;241m.\u001b[39mMAGIC_OUTPUT_CAN_BE_SILENCED, \u001b[38;5;28;01mFalse\u001b[39;00m):\n",
      "File \u001b[0;32m~/miniconda3/ukb/lib/python3.8/site-packages/IPython/core/magics/script.py:153\u001b[0m, in \u001b[0;36mScriptMagics._make_script_magic.<locals>.named_script_magic\u001b[0;34m(line, cell)\u001b[0m\n\u001b[1;32m    151\u001b[0m \u001b[38;5;28;01melse\u001b[39;00m:\n\u001b[1;32m    152\u001b[0m     line \u001b[38;5;241m=\u001b[39m script\n\u001b[0;32m--> 153\u001b[0m \u001b[38;5;28;01mreturn\u001b[39;00m \u001b[38;5;28;43mself\u001b[39;49m\u001b[38;5;241;43m.\u001b[39;49m\u001b[43mshebang\u001b[49m\u001b[43m(\u001b[49m\u001b[43mline\u001b[49m\u001b[43m,\u001b[49m\u001b[43m \u001b[49m\u001b[43mcell\u001b[49m\u001b[43m)\u001b[49m\n",
      "File \u001b[0;32m~/miniconda3/ukb/lib/python3.8/site-packages/IPython/core/magics/script.py:305\u001b[0m, in \u001b[0;36mScriptMagics.shebang\u001b[0;34m(self, line, cell)\u001b[0m\n\u001b[1;32m    300\u001b[0m \u001b[38;5;28;01mif\u001b[39;00m args\u001b[38;5;241m.\u001b[39mraise_error \u001b[38;5;129;01mand\u001b[39;00m p\u001b[38;5;241m.\u001b[39mreturncode \u001b[38;5;241m!=\u001b[39m \u001b[38;5;241m0\u001b[39m:\n\u001b[1;32m    301\u001b[0m     \u001b[38;5;66;03m# If we get here and p.returncode is still None, we must have\u001b[39;00m\n\u001b[1;32m    302\u001b[0m     \u001b[38;5;66;03m# killed it but not yet seen its return code. We don't wait for it,\u001b[39;00m\n\u001b[1;32m    303\u001b[0m     \u001b[38;5;66;03m# in case it's stuck in uninterruptible sleep. -9 = SIGKILL\u001b[39;00m\n\u001b[1;32m    304\u001b[0m     rc \u001b[38;5;241m=\u001b[39m p\u001b[38;5;241m.\u001b[39mreturncode \u001b[38;5;129;01mor\u001b[39;00m \u001b[38;5;241m-\u001b[39m\u001b[38;5;241m9\u001b[39m\n\u001b[0;32m--> 305\u001b[0m     \u001b[38;5;28;01mraise\u001b[39;00m CalledProcessError(rc, cell)\n",
      "\u001b[0;31mCalledProcessError\u001b[0m: Command 'b'dx download -o ../data/ data/supplementary_dataset_11_full_constraint_metrics.tsv\\n'' returned non-zero exit status 1."
     ]
    }
   ],
   "source": [
    "%%bash\n",
    "dx download -f -o ../data/ data/supplementary_dataset_11_full_constraint_metrics.tsv"
   ]
  },
  {
   "cell_type": "markdown",
   "id": "2a78d5d9-0809-4fc0-8262-d9ee3f61d8b7",
   "metadata": {},
   "source": [
    "## Load the data"
   ]
  },
  {
   "cell_type": "code",
   "execution_count": null,
   "id": "24a72669-c582-4881-9b81-089b702be0cf",
   "metadata": {
    "tags": []
   },
   "outputs": [],
   "source": [
    "df = pd.read_csv(\"../outputs/expected_variants_all_regions_no_cpg.tsv\", sep=\"\\t\")\n",
    "\n",
    "# Print summary data\n",
    "_ = (df.region.value_counts() / 3).astype(int)\n",
    "print(f\"Number of distinct regions:\\n{_}\")  # 3 consequences per region (syn/mis/non)"
   ]
  },
  {
   "cell_type": "markdown",
   "id": "71b00edf-4178-466f-9ad8-5b70f4c5d141",
   "metadata": {},
   "source": [
    "## Get constraint Z scores"
   ]
  },
  {
   "cell_type": "code",
   "execution_count": null,
   "id": "d475efed-4983-49cd-891c-fb4db06905ce",
   "metadata": {},
   "outputs": [],
   "source": [
    "def per_row_ztest(row, statistic=\"z\"):\n",
    "    if statistic == \"z\":\n",
    "        i = 0\n",
    "    elif statistic == \"p\":\n",
    "        i = 1\n",
    "\n",
    "    stat = proportions_ztest(\n",
    "        count=row[\"n_obs\"],\n",
    "        nobs=row[\"n_pos\"],\n",
    "        value=row[\"prop_exp\"],\n",
    "        alternative=\"smaller\",\n",
    "        prop_var=row[\"prop_exp\"],\n",
    "    )[i]\n",
    "\n",
    "    return stat"
   ]
  },
  {
   "cell_type": "code",
   "execution_count": null,
   "id": "1caa68cd-41d7-40ac-98bb-f1af96462b23",
   "metadata": {
    "tags": []
   },
   "outputs": [],
   "source": [
    "%%capture\n",
    "df[\"z\"] = df.apply(per_row_ztest, statistic=\"z\", axis=1)\n",
    "df[\"p\"] = df.apply(per_row_ztest, statistic=\"p\", axis=1)\n",
    "\n",
    "# Print summary data\n",
    "_ = df.groupby([\"region\", \"csq\"])[\"z\"].count()\n",
    "print(f\"Constraint statistics by region and consequence:\\n{_}\")"
   ]
  },
  {
   "cell_type": "markdown",
   "id": "64532e71-8134-439f-abb2-9f929212c264",
   "metadata": {},
   "source": [
    "## Get FDR-adjusted P-values\n",
    "For nonsense variants only. Calculate separately for whole-transcripts and constrained regions"
   ]
  },
  {
   "cell_type": "code",
   "execution_count": null,
   "id": "49ebc5f1-933c-4b46-9cc3-f43f98e4ab55",
   "metadata": {
    "tags": []
   },
   "outputs": [],
   "source": [
    "def fdr_adjustment(df, regions=[\"transcript\"], csq=\"nonsense\"):\n",
    "    \"\"\"Get FDR-adjusted P-values for a given region and variant consequence.\"\"\"\n",
    "    # Mask regions and consequences\n",
    "    m1 = df.region.isin(regions)\n",
    "    m2 = df.csq == csq\n",
    "\n",
    "    # Filter the dataframe and drop cases without a P-value\n",
    "    p = df.loc[m1 & m2, [\"region\", \"p\"]].dropna().copy()\n",
    "\n",
    "    # FDR adjustment\n",
    "    p[\"fdr_p\"] = fdr(pvals=p[\"p\"])[1]\n",
    "\n",
    "    return p"
   ]
  },
  {
   "cell_type": "code",
   "execution_count": null,
   "id": "ee36b208-7bd0-4807-a585-c0552c9851cd",
   "metadata": {
    "tags": []
   },
   "outputs": [],
   "source": [
    "# FDR adjustment is done separately for transcripts and NMD regions\n",
    "r1 = [\"transcript\"]\n",
    "r2 = [\"distal_nmd\", \"nmd_target\", \"long_exon\"]\n",
    "\n",
    "fdr_p = pd.concat([fdr_adjustment(df, regions=r) for r in [r1, r2]])\n",
    "\n",
    "# Join FDR-adjusted p-values to the original dataframe\n",
    "df = df.join(fdr_p[\"fdr_p\"])"
   ]
  },
  {
   "cell_type": "markdown",
   "id": "4468c2fc-9a91-47fe-803b-35327a1e63e0",
   "metadata": {},
   "source": [
    "## Merge with gnomAD constraint data"
   ]
  },
  {
   "cell_type": "code",
   "execution_count": null,
   "id": "f857ef18-4dbc-4e16-99e1-99fc26f64094",
   "metadata": {
    "tags": []
   },
   "outputs": [],
   "source": [
    "gnomad = pd.read_csv(\n",
    "    \"../data/supplementary_dataset_11_full_constraint_metrics.tsv\",\n",
    "    sep=\"\\t\",\n",
    "    usecols=[\"transcript\", \"pLI\", \"oe_lof_upper\"],\n",
    ").rename(columns={\"transcript\": \"enst\", \"pLI\": \"pli\", \"oe_lof_upper\": \"loeuf\"})\n",
    "\n",
    "df = df.merge(gnomad, how=\"left\")"
   ]
  },
  {
   "cell_type": "markdown",
   "id": "ebbe750e-3894-42e5-a6cc-fcda940a5fed",
   "metadata": {},
   "source": [
    "## Save to output"
   ]
  },
  {
   "cell_type": "code",
   "execution_count": null,
   "id": "27f495ad-0e8f-4b07-be1a-dc01a9308b25",
   "metadata": {},
   "outputs": [],
   "source": [
    "df.to_csv(\"../outputs/expected_variants_all_regions_no_cpg_stats.tsv\", sep=\"\\t\")"
   ]
  }
 ],
 "metadata": {
  "kernelspec": {
   "display_name": "Python [conda env:ukb]",
   "language": "python",
   "name": "conda-env-ukb-py"
  },
  "language_info": {
   "codemirror_mode": {
    "name": "ipython",
    "version": 3
   },
   "file_extension": ".py",
   "mimetype": "text/x-python",
   "name": "python",
   "nbconvert_exporter": "python",
   "pygments_lexer": "ipython3",
   "version": "3.8.16"
  }
 },
 "nbformat": 4,
 "nbformat_minor": 5
}
