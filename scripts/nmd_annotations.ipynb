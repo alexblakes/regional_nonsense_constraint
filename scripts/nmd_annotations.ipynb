{
 "cells": [
  {
   "cell_type": "markdown",
   "id": "54a85a1a-e636-4961-bd37-ae3792a93ee8",
   "metadata": {},
   "source": [
    "# NMD annotations\n",
    "This script labels genomic positions with an NMD annotation. The annotations include:\n",
    "1) Start-proximal (<150nt from translation start site)\n",
    "2) Long exons (>400nt upstream of the splice donor site)\n",
    "3) Last exon\n",
    "4) 50nt rule (within the most 3' 50nt of the penultimate exon)\n",
    "\n",
    "There are several approaches I could take.\n",
    "First, I could annotate every position in the exome with these criteria.\n",
    "Alternatively, I could construct a bed file of different regions.\n",
    "\n",
    "Generally, I would favour the per-site annotations for maximum flexibility.\n",
    "So I will need to annotate:\n",
    "1) The distance from the translation start site\n",
    "2) The distance upstream from the splice donor site\n",
    "3) Whether it is the last exon\n",
    "4) Whether it is the last 50nt of the penultimate exon"
   ]
  },
  {
   "cell_type": "markdown",
   "id": "ccacf2cf-846a-4cfa-b506-55ed0d0a36a7",
   "metadata": {},
   "source": [
    "## Import modules"
   ]
  },
  {
   "cell_type": "code",
   "execution_count": 1,
   "id": "0a50eac1-d44c-4d10-8685-15aa62e9b0f9",
   "metadata": {},
   "outputs": [
    {
     "name": "stdout",
     "output_type": "stream",
     "text": [
      "Collecting package metadata (current_repodata.json): done\n",
      "Solving environment: done\n",
      "\n",
      "## Package Plan ##\n",
      "\n",
      "  environment location: /opt/conda\n",
      "\n",
      "  added / updated specs:\n",
      "    - gtfparse\n",
      "\n",
      "\n",
      "The following packages will be downloaded:\n",
      "\n",
      "    package                    |            build\n",
      "    ---------------------------|-----------------\n",
      "    gtfparse-1.2.1             |     pyh864c0ab_0          13 KB  bioconda\n",
      "    ------------------------------------------------------------\n",
      "                                           Total:          13 KB\n",
      "\n",
      "The following NEW packages will be INSTALLED:\n",
      "\n",
      "  gtfparse           bioconda/noarch::gtfparse-1.2.1-pyh864c0ab_0 \n",
      "\n",
      "\n",
      "\n",
      "Downloading and Extracting Packages\n",
      "                                                                                \n",
      "Preparing transaction: done\n",
      "Verifying transaction: done\n",
      "Executing transaction: done\n",
      "\n",
      "Note: you may need to restart the kernel to use updated packages.\n"
     ]
    }
   ],
   "source": [
    "conda install -c bioconda gtfparse -y"
   ]
  },
  {
   "cell_type": "code",
   "execution_count": 2,
   "id": "0ea1ee56-91b6-4f96-8846-861e324d7bdb",
   "metadata": {},
   "outputs": [],
   "source": [
    "%%bash\n",
    "dx download -o ../data/ data/gencode.v39.annotation.gtf"
   ]
  },
  {
   "cell_type": "code",
   "execution_count": 3,
   "id": "eb1a4a27-f37d-4b3a-b5b0-14994d267f9a",
   "metadata": {},
   "outputs": [],
   "source": [
    "# Import the relevant modules\n",
    "import numpy as np\n",
    "import pandas as pd\n",
    "import gtfparse"
   ]
  },
  {
   "cell_type": "code",
   "execution_count": 7,
   "id": "b0238b0f-b902-4095-837b-c6ce766ed80e",
   "metadata": {},
   "outputs": [],
   "source": [
    "def get_gencode_gtf(path):\n",
    "    \"\"\"Read a GENCODE .gtf into memory with gtfparse\"\"\"\n",
    "    gtf = gtfparse.read_gtf(path)\n",
    "    return gtf"
   ]
  },
  {
   "cell_type": "code",
   "execution_count": 111,
   "id": "ee77310b-b02e-4ec5-b063-ec552a406b09",
   "metadata": {},
   "outputs": [],
   "source": [
    "def get_canonical_cds(gtf):\n",
    "    \"\"\"Identify all CDS features in each Ensembl_canonical from GENCODE\"\"\"\n",
    "\n",
    "    # Subset to Ensembl_canonical features in protein coding genes\n",
    "    canonical_cds = gtf[\n",
    "        ((gtf.feature == \"exon\") | (gtf.feature == \"CDS\"))\n",
    "        & (gtf.tag.str.contains(\"Ensembl_canonical\"))\n",
    "        & (gtf.gene_type == \"protein_coding\")\n",
    "    ].copy()\n",
    "    \n",
    "    # Find the number of exons per transcript\n",
    "    canonical_cds[\"exon_number\"] = canonical_cds[\"exon_number\"].astype(int)\n",
    "    canonical_cds[\"exon_count\"] = canonical_cds.groupby(\"transcript_id\")[\"exon_number\"].transform(\"max\")\n",
    "    \n",
    "    # Find exon end positions\n",
    "    exons = canonical_cds[canonical_cds.feature==\"exon\"]\n",
    "    exons = exons[[\"exon_id\",\"start\",\"end\"]]\n",
    "    exons.columns = [\"exon_id\", \"exon_start\", \"exon_end\"]\n",
    "    exons = exons.drop_duplicates()\n",
    "    \n",
    "    # Subset to CDS only\n",
    "    canonical_cds = canonical_cds[canonical_cds.feature == \"CDS\"]\n",
    "    \n",
    "    # Merge with exon end positions\n",
    "    canonical_cds = canonical_cds.merge(exons, how=\"left\")\n",
    "    canonical_cds = canonical_cds.drop_duplicates([\"transcript_id\",\"exon_id\",\"start\",\"end\"])\n",
    "    \n",
    "    # Count the number of CDS exons in each MANE transcript\n",
    "    canonical_cds[\"cds_number\"] = (\n",
    "        canonical_cds.groupby(\"transcript_id\")[\"exon_number\"].rank().astype(int)\n",
    "    )\n",
    "    return canonical_cds"
   ]
  },
  {
   "cell_type": "code",
   "execution_count": null,
   "id": "24d1b858-4eb9-410c-b25d-dc694ef3f53e",
   "metadata": {
    "tags": []
   },
   "outputs": [],
   "source": [
    "if __name__ == \"__main__\":\n",
    "    # Read GTF data\n",
    "    gencode_path = \"../data/gencode.v39.annotation.gtf\"\n",
    "    gtf = get_gencode_gtf(gencode_path)\n",
    "\n",
    "    # Define regions of interest\n",
    "    cds = get_canonical_cds(gtf)\n",
    "    cds = cds[[\"seqname\",\"start\",\"end\", \"exon_end\",\"strand\",\"transcript_id\",\"exon_id\",\"exon_count\",\"exon_number\",\"cds_number\"]]\n",
    "    cds = cds.set_index([\"seqname\",\"transcript_id\",\"exon_id\"])\n",
    "    cds[\"pos\"] = cds.apply(lambda x: list(range(x[\"start\"], x[\"end\"] + 1)), axis=1)\n",
    "    cds = cds.explode(\"pos\")\n",
    "    cds[\"cds_len\"] = cds.groupby(level=\"transcript_id\")[\"pos\"].transform(\"count\")\n",
    "    cds[\"exon_len\"] = cds.groupby(level=\"exon_id\")[\"pos\"].transform(\"count\")"
   ]
  },
  {
   "cell_type": "markdown",
   "id": "2f310fe9-a397-4a17-a84c-0c63fad1c6d4",
   "metadata": {},
   "source": [
    "## NMD annotations for + transcripts "
   ]
  },
  {
   "cell_type": "code",
   "execution_count": 66,
   "id": "727755cc-6b40-4473-8da8-e38df4a1ebd1",
   "metadata": {},
   "outputs": [],
   "source": [
    "fwd = cds[cds[\"strand\"]==\"+\"].copy()"
   ]
  },
  {
   "cell_type": "markdown",
   "id": "948608e0-7965-440b-89bb-3d599819b92c",
   "metadata": {},
   "source": [
    "### Start proximal (distance from start codon)"
   ]
  },
  {
   "cell_type": "code",
   "execution_count": 67,
   "id": "69e56266-67cf-4085-9d4b-37b4836550f9",
   "metadata": {},
   "outputs": [],
   "source": [
    "fwd[\"start_distance\"] = fwd.groupby(level=\"transcript_id\")[\"pos\"].rank(ascending=True).astype(int)"
   ]
  },
  {
   "cell_type": "markdown",
   "id": "34802830-af45-47cd-bd0f-314c9c32d743",
   "metadata": {},
   "source": [
    "### Long exons (distance upstream from splice junction)"
   ]
  },
  {
   "cell_type": "code",
   "execution_count": 68,
   "id": "a3c43c53-d761-4713-b484-35642050a41b",
   "metadata": {},
   "outputs": [],
   "source": [
    "fwd[\"splice_donor_distance\"] = (fwd[\"exon_end\"] - fwd[\"pos\"]) + 1\n",
    "# Where the CDS is in the last exon (i.e. contiguous with the 3' UTR) we should drop the \"splice_donor_distance\" annotation\n",
    "fwd.loc[, \"splice_donor_distance\"] = np.nan"
   ]
  },
  {
   "cell_type": "markdown",
   "id": "b58ca95d-faee-4a43-9368-c5a7bdd8f4ae",
   "metadata": {},
   "source": [
    "### Last exon"
   ]
  },
  {
   "cell_type": "code",
   "execution_count": 73,
   "id": "69fdf5ae-9449-4890-82bd-7bec56000c7c",
   "metadata": {},
   "outputs": [],
   "source": [
    "fwd[\"last_exon\"] = np.where(fwd[\"exon_count\"] == fwd[\"exon_number\"], 1, 0) "
   ]
  },
  {
   "cell_type": "markdown",
   "id": "7ba42ba6-4c2e-4933-b9bb-0ff7bdd0cf32",
   "metadata": {},
   "source": [
    "### 50nt rule"
   ]
  },
  {
   "cell_type": "code",
   "execution_count": 74,
   "id": "d66843f5-c02c-451d-ac8a-7cb7e4e28593",
   "metadata": {},
   "outputs": [],
   "source": [
    "fwd[\"fifty_nt_rule\"] = np.where((fwd[\"exon_number\"] == fwd[\"exon_count\"] - 1)\n",
    "                            & ((fwd[\"end\"] - fwd[\"pos\"]) + 1 <= 50),\n",
    "                            1,\n",
    "                            0\n",
    "                           ) "
   ]
  },
  {
   "cell_type": "markdown",
   "id": "55f56fde-12d5-403a-a13a-c9a3187a1ae0",
   "metadata": {},
   "source": [
    "## NMD annotations for - transcripts "
   ]
  },
  {
   "cell_type": "code",
   "execution_count": 83,
   "id": "28b09de0-122d-44e3-b991-2251badb5dd2",
   "metadata": {},
   "outputs": [],
   "source": [
    "rev = cds[cds[\"strand\"]==\"-\"].copy()"
   ]
  },
  {
   "cell_type": "markdown",
   "id": "ae57dfe2-a157-415c-8dd9-57ebd68312e6",
   "metadata": {},
   "source": [
    "### Start proximal (distance from start codon)"
   ]
  },
  {
   "cell_type": "code",
   "execution_count": 84,
   "id": "17f8cc25-d91f-4ca5-9b0e-4381d8b7a96e",
   "metadata": {},
   "outputs": [],
   "source": [
    "rev[\"start_distance\"] = rev.groupby(level=\"transcript_id\")[\"pos\"].rank(ascending=False).astype(int)"
   ]
  },
  {
   "cell_type": "markdown",
   "id": "9ab43186-3841-40c2-a799-9044a34760db",
   "metadata": {},
   "source": [
    "### Long exons (distance upstream from splice junction)"
   ]
  },
  {
   "cell_type": "code",
   "execution_count": 86,
   "id": "3373aa7a-fca8-474c-8e9c-e9e76889bc93",
   "metadata": {},
   "outputs": [],
   "source": [
    "rev[\"splice_donor_distance\"] = (rev[\"pos\"] - rev[\"start\"]) + 1\n",
    "rev.loc[rev[\"exon_number\"] == rev[\"exon_count\"], \"splice_donor_distance\"] = np.nan"
   ]
  },
  {
   "cell_type": "markdown",
   "id": "66158f10-b76d-4e76-96a0-bfaefcc7d79e",
   "metadata": {},
   "source": [
    "### Last exon"
   ]
  },
  {
   "cell_type": "code",
   "execution_count": 73,
   "id": "b653b740-cf97-4a5f-8355-85d1b6b950c6",
   "metadata": {},
   "outputs": [],
   "source": [
    "rev[\"last_exon\"] = np.where(rev[\"exon_count\"] == rev[\"exon_number\"], 1, 0) "
   ]
  },
  {
   "cell_type": "markdown",
   "id": "b0973c78-cc11-4f08-8537-69173096b9f0",
   "metadata": {},
   "source": [
    "### 50nt rule"
   ]
  },
  {
   "cell_type": "code",
   "execution_count": 74,
   "id": "c6d9ccd5-4a76-4fc4-8d6e-4be7cbdc60b8",
   "metadata": {},
   "outputs": [],
   "source": [
    "rev[\"fifty_nt_rule\"] = np.where((rev[\"exon_number\"] == rev[\"exon_count\"] - 1)\n",
    "                            & ((rev[\"end\"] - rev[\"pos\"]) + 1 <= 50),\n",
    "                            1,\n",
    "                            0\n",
    "                           ) "
   ]
  },
  {
   "cell_type": "code",
   "execution_count": null,
   "id": "02501a6c-bab9-4fce-b85f-98b0c6f72a0c",
   "metadata": {},
   "outputs": [],
   "source": []
  }
 ],
 "metadata": {
  "kernelspec": {
   "display_name": "Python 3 (ipykernel)",
   "language": "python",
   "name": "python3"
  },
  "language_info": {
   "codemirror_mode": {
    "name": "ipython",
    "version": 3
   },
   "file_extension": ".py",
   "mimetype": "text/x-python",
   "name": "python",
   "nbconvert_exporter": "python",
   "pygments_lexer": "ipython3",
   "version": "3.8.16"
  }
 },
 "nbformat": 4,
 "nbformat_minor": 5
}
