{
 "cells": [
  {
   "cell_type": "markdown",
   "id": "54a85a1a-e636-4961-bd37-ae3792a93ee8",
   "metadata": {},
   "source": [
    "# NMD annotations\n",
    "This script labels genomic positions with an NMD annotation. The annotations include:\n",
    "1) Start-proximal (<150nt from translation start site)\n",
    "2) Long exons (>400nt upstream of the splice donor site)\n",
    "3) Last exon\n",
    "4) 50nt rule (within the most 3' 50nt of the penultimate exon)\n",
    "\n",
    "There are several approaches I could take.\n",
    "First, I could annotate every position in the exome with these criteria.\n",
    "Alternatively, I could construct a bed file of different regions.\n",
    "\n",
    "Generally, I would favour the per-site annotations for maximum flexibility.\n",
    "So for each positions, I will need to annotate:\n",
    "1) The distance from the translation start site\n",
    "2) The distance upstream from the splice donor site\n",
    "3) Whether it is the last exon\n",
    "4) Whether it is the last 50nt of the penultimate exon"
   ]
  },
  {
   "cell_type": "markdown",
   "id": "ccacf2cf-846a-4cfa-b506-55ed0d0a36a7",
   "metadata": {},
   "source": [
    "## Import modules"
   ]
  },
  {
   "cell_type": "code",
   "execution_count": 1,
   "id": "0a50eac1-d44c-4d10-8685-15aa62e9b0f9",
   "metadata": {},
   "outputs": [
    {
     "name": "stdout",
     "output_type": "stream",
     "text": [
      "Collecting package metadata (current_repodata.json): done\n",
      "Solving environment: done\n",
      "\n",
      "# All requested packages already installed.\n",
      "\n",
      "\n",
      "Note: you may need to restart the kernel to use updated packages.\n"
     ]
    }
   ],
   "source": [
    "conda install -c bioconda gtfparse -y"
   ]
  },
  {
   "cell_type": "code",
   "execution_count": 2,
   "id": "0ea1ee56-91b6-4f96-8846-861e324d7bdb",
   "metadata": {},
   "outputs": [],
   "source": [
    "%%bash\n",
    "dx download -f -o ../data/ data/gencode.v39.annotation.gtf"
   ]
  },
  {
   "cell_type": "code",
   "execution_count": 3,
   "id": "eb1a4a27-f37d-4b3a-b5b0-14994d267f9a",
   "metadata": {},
   "outputs": [],
   "source": [
    "# Import the relevant modules\n",
    "import numpy as np\n",
    "import pandas as pd\n",
    "import gtfparse"
   ]
  },
  {
   "cell_type": "code",
   "execution_count": 4,
   "id": "b0238b0f-b902-4095-837b-c6ce766ed80e",
   "metadata": {},
   "outputs": [],
   "source": [
    "def get_gencode_gtf(path):\n",
    "    \"\"\"Read a GENCODE .gtf into memory with gtfparse\"\"\"\n",
    "    gtf = gtfparse.read_gtf(path)\n",
    "    return gtf"
   ]
  },
  {
   "cell_type": "code",
   "execution_count": 5,
   "id": "ee77310b-b02e-4ec5-b063-ec552a406b09",
   "metadata": {},
   "outputs": [],
   "source": [
    "def get_canonical_cds(gtf):\n",
    "    \"\"\"Identify all CDS features in each Ensembl_canonical from GENCODE\"\"\"\n",
    "\n",
    "    # Subset to Ensembl_canonical features in protein coding genes\n",
    "    canonical_cds = gtf[\n",
    "        ((gtf.feature == \"exon\") | (gtf.feature == \"CDS\"))\n",
    "        & (gtf.tag.str.contains(\"Ensembl_canonical\"))\n",
    "        & (gtf.gene_type == \"protein_coding\")\n",
    "    ].copy()\n",
    "    \n",
    "    # Find the number of exons per transcript\n",
    "    canonical_cds[\"exon_number\"] = canonical_cds[\"exon_number\"].astype(int)\n",
    "    canonical_cds[\"exon_count\"] = canonical_cds.groupby(\"transcript_id\")[\"exon_number\"].transform(\"max\")\n",
    "    \n",
    "    # Find exon start and end positions (distinct from CDS starts and ends)\n",
    "    exons = canonical_cds[canonical_cds.feature==\"exon\"]\n",
    "    exons = exons[[\"exon_id\",\"start\",\"end\"]]\n",
    "    exons.columns = [\"exon_id\", \"exon_start\", \"exon_end\"]\n",
    "    exons = exons.drop_duplicates()\n",
    "    \n",
    "    # Subset to CDS only\n",
    "    canonical_cds = canonical_cds[canonical_cds.feature == \"CDS\"]\n",
    "    \n",
    "    # Merge with exon end positions\n",
    "    canonical_cds = canonical_cds.merge(exons, how=\"left\")\n",
    "    canonical_cds = canonical_cds.drop_duplicates([\"transcript_id\",\"exon_id\",\"start\",\"end\"])\n",
    "    \n",
    "    # Count the number of CDS exons in each MANE transcript\n",
    "    canonical_cds[\"cds_number\"] = (\n",
    "        canonical_cds.groupby(\"transcript_id\")[\"exon_number\"].rank().astype(int)\n",
    "    )\n",
    "    return canonical_cds"
   ]
  },
  {
   "cell_type": "code",
   "execution_count": 6,
   "id": "24d1b858-4eb9-410c-b25d-dc694ef3f53e",
   "metadata": {
    "tags": []
   },
   "outputs": [
    {
     "name": "stderr",
     "output_type": "stream",
     "text": [
      "/opt/conda/lib/python3.8/site-packages/gtfparse/read_gtf.py:82: FutureWarning: The error_bad_lines argument has been deprecated and will be removed in a future version. Use on_bad_lines in the future.\n",
      "\n",
      "\n",
      "  chunk_iterator = pd.read_csv(\n",
      "/opt/conda/lib/python3.8/site-packages/gtfparse/read_gtf.py:82: FutureWarning: The warn_bad_lines argument has been deprecated and will be removed in a future version. Use on_bad_lines in the future.\n",
      "\n",
      "\n",
      "  chunk_iterator = pd.read_csv(\n",
      "INFO:root:Extracted GTF attributes: ['gene_id', 'gene_type', 'gene_name', 'level', 'hgnc_id', 'havana_gene', 'transcript_id', 'transcript_type', 'transcript_name', 'transcript_support_level', 'tag', 'havana_transcript', 'exon_number', 'exon_id', 'ont', 'protein_id', 'ccdsid']\n"
     ]
    }
   ],
   "source": [
    "if __name__ == \"__main__\":\n",
    "    # Read GTF data\n",
    "    gencode_path = \"../data/gencode.v39.annotation.gtf\"\n",
    "    gtf = get_gencode_gtf(gencode_path)\n",
    "\n",
    "    # Define regions of interest\n",
    "    cds = get_canonical_cds(gtf)\n",
    "    cds = cds[[\"seqname\",\"start\",\"end\",\"exon_start\", \"exon_end\",\"strand\",\"transcript_id\",\"exon_id\",\"exon_count\",\"exon_number\",\"cds_number\"]]\n",
    "    cds[\"transcript_id\"] = cds[\"transcript_id\"].str.split(\".\").str[0]\n",
    "    cds = cds.set_index([\"seqname\",\"transcript_id\",\"exon_id\"])\n",
    "    cds[\"pos\"] = cds.apply(lambda x: list(range(x[\"start\"], x[\"end\"] + 1)), axis=1)\n",
    "    cds = cds.explode(\"pos\")\n",
    "    cds[\"cds_len\"] = cds.groupby(level=\"transcript_id\")[\"pos\"].transform(\"count\")\n",
    "    cds[\"exon_len\"] = cds.groupby(level=\"exon_id\")[\"pos\"].transform(\"count\")"
   ]
  },
  {
   "cell_type": "markdown",
   "id": "2f310fe9-a397-4a17-a84c-0c63fad1c6d4",
   "metadata": {},
   "source": [
    "## NMD annotations for + transcripts "
   ]
  },
  {
   "cell_type": "code",
   "execution_count": 7,
   "id": "727755cc-6b40-4473-8da8-e38df4a1ebd1",
   "metadata": {},
   "outputs": [],
   "source": [
    "fwd = cds[cds[\"strand\"]==\"+\"].copy()"
   ]
  },
  {
   "cell_type": "markdown",
   "id": "948608e0-7965-440b-89bb-3d599819b92c",
   "metadata": {},
   "source": [
    "### Start proximal (distance from start codon)"
   ]
  },
  {
   "cell_type": "code",
   "execution_count": 8,
   "id": "69e56266-67cf-4085-9d4b-37b4836550f9",
   "metadata": {},
   "outputs": [],
   "source": [
    "fwd[\"start_distance\"] = fwd.groupby(level=\"transcript_id\")[\"pos\"].rank(ascending=True).astype(int)"
   ]
  },
  {
   "cell_type": "markdown",
   "id": "34802830-af45-47cd-bd0f-314c9c32d743",
   "metadata": {},
   "source": [
    "### Long exons (distance upstream from splice junction)"
   ]
  },
  {
   "cell_type": "code",
   "execution_count": 9,
   "id": "a3c43c53-d761-4713-b484-35642050a41b",
   "metadata": {},
   "outputs": [],
   "source": [
    "fwd[\"splice_donor_distance\"] = (fwd[\"exon_end\"] - fwd[\"pos\"]) + 1\n",
    "\n",
    "# Where the CDS is in the last exon, there is no downstream splice donor site.\n",
    "# Here I will drop the \"splice_donor_distance\" annotation:\n",
    "fwd.loc[fwd[\"exon_number\"] == fwd[\"exon_count\"], \"splice_donor_distance\"] = np.nan"
   ]
  },
  {
   "cell_type": "markdown",
   "id": "b58ca95d-faee-4a43-9368-c5a7bdd8f4ae",
   "metadata": {},
   "source": [
    "### Last exon"
   ]
  },
  {
   "cell_type": "code",
   "execution_count": 10,
   "id": "69fdf5ae-9449-4890-82bd-7bec56000c7c",
   "metadata": {},
   "outputs": [],
   "source": [
    "fwd[\"last_exon\"] = np.where(fwd[\"exon_count\"] == fwd[\"exon_number\"], 1, 0) "
   ]
  },
  {
   "cell_type": "markdown",
   "id": "7ba42ba6-4c2e-4933-b9bb-0ff7bdd0cf32",
   "metadata": {},
   "source": [
    "### 50nt rule"
   ]
  },
  {
   "cell_type": "code",
   "execution_count": 11,
   "id": "d66843f5-c02c-451d-ac8a-7cb7e4e28593",
   "metadata": {},
   "outputs": [],
   "source": [
    "fwd[\"fifty_nt_rule\"] = np.where((fwd[\"exon_number\"] == fwd[\"exon_count\"] - 1)\n",
    "                            & ((fwd[\"exon_end\"] - fwd[\"pos\"]) + 1 <= 50),\n",
    "                            1,\n",
    "                            0\n",
    "                           ) "
   ]
  },
  {
   "cell_type": "markdown",
   "id": "fa644a8c-f2c2-4e8e-8ba6-a13bb47fb637",
   "metadata": {},
   "source": [
    "## NMD annotations for - transcripts "
   ]
  },
  {
   "cell_type": "code",
   "execution_count": 15,
   "id": "ce188bb4-4558-49c9-979a-59ad47f75e8e",
   "metadata": {},
   "outputs": [],
   "source": [
    "rev = cds[cds[\"strand\"]==\"-\"].copy()"
   ]
  },
  {
   "cell_type": "markdown",
   "id": "3211ebf7-c944-48b9-8ff3-7bcc8685c199",
   "metadata": {},
   "source": [
    "### Start proximal (distance from start codon)"
   ]
  },
  {
   "cell_type": "code",
   "execution_count": 16,
   "id": "e8c8b702-3b8b-491b-a95f-2789638edd7c",
   "metadata": {},
   "outputs": [],
   "source": [
    "rev[\"start_distance\"] = rev.groupby(level=\"transcript_id\")[\"pos\"].rank(ascending=False).astype(int)"
   ]
  },
  {
   "cell_type": "markdown",
   "id": "adfa0dd0-00d2-4e5e-aa81-d5b225161870",
   "metadata": {},
   "source": [
    "### Long exons (distance upstream from splice junction)"
   ]
  },
  {
   "cell_type": "code",
   "execution_count": 17,
   "id": "be6f4bc3-ad0e-491f-818d-ab62ba050cee",
   "metadata": {},
   "outputs": [],
   "source": [
    "rev[\"splice_donor_distance\"] = (rev[\"pos\"] - rev[\"exon_start\"]) + 1\n",
    "\n",
    "# Where the CDS is in the last exon (i.e. contiguous with the 3' UTR)\n",
    "# we should drop the \"splice_donor_distance\" annotation:\n",
    "rev.loc[rev[\"exon_number\"] == rev[\"exon_count\"], \"splice_donor_distance\"] = np.nan"
   ]
  },
  {
   "cell_type": "markdown",
   "id": "855cf05b-ae0c-41ab-b0d8-02a6898e09f2",
   "metadata": {},
   "source": [
    "### Last exon"
   ]
  },
  {
   "cell_type": "code",
   "execution_count": 18,
   "id": "3f168edb-4dd9-4448-8101-3b8938f684d8",
   "metadata": {},
   "outputs": [],
   "source": [
    "rev[\"last_exon\"] = np.where(rev[\"exon_count\"] == rev[\"exon_number\"], 1, 0) "
   ]
  },
  {
   "cell_type": "markdown",
   "id": "26a52e96-a92d-4fa2-9448-59a0a6a7361b",
   "metadata": {},
   "source": [
    "### 50nt rule"
   ]
  },
  {
   "cell_type": "code",
   "execution_count": 19,
   "id": "a8927a3e-c157-401c-89fe-fb2df5f6cca1",
   "metadata": {},
   "outputs": [],
   "source": [
    "rev[\"fifty_nt_rule\"] = np.where((rev[\"exon_number\"] == rev[\"exon_count\"] - 1)\n",
    "                            & ((rev[\"pos\"] - rev[\"exon_start\"]) + 1 <= 50),\n",
    "                            1,\n",
    "                            0\n",
    "                           ) "
   ]
  },
  {
   "cell_type": "markdown",
   "id": "b8edcedb-2f4c-4cb8-a9a7-d492fecbca14",
   "metadata": {},
   "source": [
    "## Merge fwd and rev annotations"
   ]
  },
  {
   "cell_type": "code",
   "execution_count": 20,
   "id": "7236b85e-ad9c-48d5-9104-c4c6163e3055",
   "metadata": {},
   "outputs": [],
   "source": [
    "df = pd.concat([fwd,rev])\n",
    "df = df.reset_index()"
   ]
  },
  {
   "cell_type": "markdown",
   "id": "3ac00d13-6f40-4c21-bfe7-a82d3702cbb4",
   "metadata": {},
   "source": [
    "## Unify NMD annotations"
   ]
  },
  {
   "cell_type": "code",
   "execution_count": 21,
   "id": "f44cd124-d9e8-4caa-8a6c-ebfaa41c3a05",
   "metadata": {},
   "outputs": [],
   "source": [
    "# Describe sites with overlapping NMD annotations \n",
    "a = pd.Series(np.where(df[\"start_distance\"] <= 150, \"start_proximal,\", \"\"))\n",
    "b = pd.Series(np.where(df[\"splice_donor_distance\"] > 400, \"long_exon,\", \"\"))\n",
    "c = pd.Series(np.where(df[\"fifty_nt_rule\"] == 1, \"fifty_nt,\", \"\"))\n",
    "d = pd.Series(np.where(df[\"last_exon\"] == 1, \"last_exon,\", \"\"))\n",
    "\n",
    "df[\"nmd\"] = pd.Series([\"\".join([w,x,y,z]) for w,x,y,z in zip(a,b,c,d)])\n",
    "\n",
    "# Sites with no NMD-escape annotation are NMD targets\n",
    "df[\"nmd\"] = df[\"nmd\"].replace(\"\", \"nmd_target\")\n",
    "\n",
    "# Create a definitive NMD annotation:\n",
    "## \"last_exon\" and \"fifty_nt\" annotations are merged into \"distal_nmd\"\n",
    "## Overlapping annotations are removed, with this priority: \n",
    "## \"start_proximal\" > \"distal_nmd\" > \"long_exon\"\n",
    "df[\"nmd_definitive\"] = df[\"nmd\"].copy()\n",
    "df.loc[df[\"nmd_definitive\"].str.contains(\"start_proximal\"), \"nmd_definitive\"] = \"start_proximal\"\n",
    "df.loc[(df[\"nmd_definitive\"].str.contains(\"fifty_nt\")) | (df[\"nmd_definitive\"].str.contains(\"last_exon\")), \"nmd_definitive\"] = \"distal_nmd\"\n",
    "df[\"nmd_definitive\"] = df[\"nmd_definitive\"].replace(\"long_exon,\", \"long_exon\")"
   ]
  },
  {
   "cell_type": "markdown",
   "id": "86e32f52-b83c-4ff6-be92-2786474b864c",
   "metadata": {},
   "source": [
    "## Drop unnecessary columns"
   ]
  },
  {
   "cell_type": "code",
   "execution_count": 22,
   "id": "ee2a48cd-ba81-4fa4-b0c6-e582893bf8a2",
   "metadata": {},
   "outputs": [],
   "source": [
    "df = ((df[['seqname', 'pos', 'transcript_id', \"nmd\", \"nmd_definitive\"]]\n",
    "     ).rename(columns={\"seqname\":\"chr\"})\n",
    ")"
   ]
  },
  {
   "cell_type": "markdown",
   "id": "4fad39e2-b5ac-4088-b18f-1e1657c32d92",
   "metadata": {},
   "source": [
    "## Save to output"
   ]
  },
  {
   "cell_type": "code",
   "execution_count": 25,
   "id": "6bfc5c80-7949-4c2e-8dd4-0a9a02d8c8de",
   "metadata": {},
   "outputs": [
    {
     "name": "stdout",
     "output_type": "stream",
     "text": [
      "[===========================================================>] Uploaded 1,830,214,595 of 1,830,214,595 bytes (100%) ../outputs/nmd_annotations.tsv\n",
      "ID                    file-GQ9V140J7yjKj42X7JBjkzY3\n",
      "Class                 file\n",
      "Project               project-GKK5xq0J7yj8yZZ863Jgg51x\n",
      "Folder                /outputs\n",
      "Name                  nmd_annotations.tsv\n",
      "State                 \u001b[33mclosing\u001b[0m\n",
      "Visibility            visible\n",
      "Types                 -\n",
      "Properties            -\n",
      "Tags                  -\n",
      "Outgoing links        -\n",
      "Created               Thu Mar 16 12:50:24 2023\n",
      "Created by            alexander.blakes\n",
      " via the job          job-GQ9Kqy8J7yjPxgjvxb9q489Q\n",
      "Last modified         Thu Mar 16 12:50:31 2023\n",
      "Media type            \n",
      "archivalState         \"live\"\n",
      "cloudAccount          \"cloudaccount-dnanexus\"\n"
     ]
    }
   ],
   "source": [
    "df.to_csv(\"../outputs/nmd_annotations.tsv\", sep=\"\\t\", index=False)\n",
    "! dx rm -f outputs/nmd_annotations.tsv\n",
    "! dx upload --destination outputs/ ../outputs/nmd_annotations.tsv"
   ]
  },
  {
   "cell_type": "code",
   "execution_count": null,
   "id": "a6ce2cbe-280f-4b2e-8e5c-12024f56feae",
   "metadata": {},
   "outputs": [],
   "source": []
  }
 ],
 "metadata": {
  "kernelspec": {
   "display_name": "Python 3 (ipykernel)",
   "language": "python",
   "name": "python3"
  },
  "language_info": {
   "codemirror_mode": {
    "name": "ipython",
    "version": 3
   },
   "file_extension": ".py",
   "mimetype": "text/x-python",
   "name": "python",
   "nbconvert_exporter": "python",
   "pygments_lexer": "ipython3",
   "version": "3.8.16"
  }
 },
 "nbformat": 4,
 "nbformat_minor": 5
}
