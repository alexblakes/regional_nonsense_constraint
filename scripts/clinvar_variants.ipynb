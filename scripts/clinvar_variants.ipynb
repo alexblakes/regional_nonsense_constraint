{
 "cells": [
  {
   "cell_type": "markdown",
   "id": "9931f241-286d-48d2-a9d6-9727ebbc7563",
   "metadata": {},
   "source": [
    "# ClinVar variants\n",
    "This script matches ClinVar variants introducing PTCs to NMD annotations"
   ]
  },
  {
   "cell_type": "code",
   "execution_count": 1,
   "id": "fa12e179-2d01-4b94-b330-879cac654cd1",
   "metadata": {
    "tags": []
   },
   "outputs": [],
   "source": [
    "import numpy as np\n",
    "import pandas as pd\n",
    "import seaborn as sns\n",
    "\n",
    "sns.set_context(\"talk\")"
   ]
  },
  {
   "cell_type": "code",
   "execution_count": 5,
   "id": "5e6d5b7d-6154-4ee5-a57b-3b30794755b6",
   "metadata": {
    "tags": []
   },
   "outputs": [],
   "source": [
    "%%bash\n",
    "dx download -f -o ../data/ data/variant_summary.txt.gz\n",
    "gunzip -f ../data/variant_summary.txt.gz"
   ]
  },
  {
   "cell_type": "code",
   "execution_count": 26,
   "id": "01a804df-afb1-4a17-93d6-e2c9015a09a5",
   "metadata": {
    "tags": []
   },
   "outputs": [
    {
     "data": {
      "text/html": [
       "<div>\n",
       "<style scoped>\n",
       "    .dataframe tbody tr th:only-of-type {\n",
       "        vertical-align: middle;\n",
       "    }\n",
       "\n",
       "    .dataframe tbody tr th {\n",
       "        vertical-align: top;\n",
       "    }\n",
       "\n",
       "    .dataframe thead th {\n",
       "        text-align: right;\n",
       "    }\n",
       "</style>\n",
       "<table border=\"1\" class=\"dataframe\">\n",
       "  <thead>\n",
       "    <tr style=\"text-align: right;\">\n",
       "      <th></th>\n",
       "      <th>type</th>\n",
       "      <th>hgnc</th>\n",
       "      <th>acmg</th>\n",
       "      <th>origin</th>\n",
       "      <th>assembly</th>\n",
       "      <th>chr</th>\n",
       "      <th>review</th>\n",
       "      <th>pos</th>\n",
       "      <th>ref</th>\n",
       "      <th>alt</th>\n",
       "    </tr>\n",
       "  </thead>\n",
       "  <tbody>\n",
       "    <tr>\n",
       "      <th>0</th>\n",
       "      <td>Indel</td>\n",
       "      <td>AP5Z1</td>\n",
       "      <td>Pathogenic</td>\n",
       "      <td>germline;unknown</td>\n",
       "      <td>GRCh37</td>\n",
       "      <td>7</td>\n",
       "      <td>criteria provided, single submitter</td>\n",
       "      <td>4820844</td>\n",
       "      <td>GGAT</td>\n",
       "      <td>TGCTGTAAACTGTAACTGTAAA</td>\n",
       "    </tr>\n",
       "    <tr>\n",
       "      <th>1</th>\n",
       "      <td>Indel</td>\n",
       "      <td>AP5Z1</td>\n",
       "      <td>Pathogenic</td>\n",
       "      <td>germline;unknown</td>\n",
       "      <td>GRCh38</td>\n",
       "      <td>7</td>\n",
       "      <td>criteria provided, single submitter</td>\n",
       "      <td>4781213</td>\n",
       "      <td>GGAT</td>\n",
       "      <td>TGCTGTAAACTGTAACTGTAAA</td>\n",
       "    </tr>\n",
       "    <tr>\n",
       "      <th>2</th>\n",
       "      <td>Deletion</td>\n",
       "      <td>AP5Z1</td>\n",
       "      <td>Pathogenic</td>\n",
       "      <td>germline</td>\n",
       "      <td>GRCh37</td>\n",
       "      <td>7</td>\n",
       "      <td>no assertion criteria provided</td>\n",
       "      <td>4827360</td>\n",
       "      <td>GCTGCTGGACCTGCC</td>\n",
       "      <td>G</td>\n",
       "    </tr>\n",
       "    <tr>\n",
       "      <th>3</th>\n",
       "      <td>Deletion</td>\n",
       "      <td>AP5Z1</td>\n",
       "      <td>Pathogenic</td>\n",
       "      <td>germline</td>\n",
       "      <td>GRCh38</td>\n",
       "      <td>7</td>\n",
       "      <td>no assertion criteria provided</td>\n",
       "      <td>4787729</td>\n",
       "      <td>GCTGCTGGACCTGCC</td>\n",
       "      <td>G</td>\n",
       "    </tr>\n",
       "    <tr>\n",
       "      <th>4</th>\n",
       "      <td>single nucleotide variant</td>\n",
       "      <td>ZNF592</td>\n",
       "      <td>Uncertain significance</td>\n",
       "      <td>germline</td>\n",
       "      <td>GRCh37</td>\n",
       "      <td>15</td>\n",
       "      <td>no assertion criteria provided</td>\n",
       "      <td>85342440</td>\n",
       "      <td>G</td>\n",
       "      <td>A</td>\n",
       "    </tr>\n",
       "  </tbody>\n",
       "</table>\n",
       "</div>"
      ],
      "text/plain": [
       "                        type    hgnc                    acmg  \\\n",
       "0                      Indel   AP5Z1              Pathogenic   \n",
       "1                      Indel   AP5Z1              Pathogenic   \n",
       "2                   Deletion   AP5Z1              Pathogenic   \n",
       "3                   Deletion   AP5Z1              Pathogenic   \n",
       "4  single nucleotide variant  ZNF592  Uncertain significance   \n",
       "\n",
       "             origin assembly chr                               review  \\\n",
       "0  germline;unknown   GRCh37   7  criteria provided, single submitter   \n",
       "1  germline;unknown   GRCh38   7  criteria provided, single submitter   \n",
       "2          germline   GRCh37   7       no assertion criteria provided   \n",
       "3          germline   GRCh38   7       no assertion criteria provided   \n",
       "4          germline   GRCh37  15       no assertion criteria provided   \n",
       "\n",
       "        pos              ref                     alt  \n",
       "0   4820844             GGAT  TGCTGTAAACTGTAACTGTAAA  \n",
       "1   4781213             GGAT  TGCTGTAAACTGTAACTGTAAA  \n",
       "2   4827360  GCTGCTGGACCTGCC                       G  \n",
       "3   4787729  GCTGCTGGACCTGCC                       G  \n",
       "4  85342440                G                       A  "
      ]
     },
     "execution_count": 26,
     "metadata": {},
     "output_type": "execute_result"
    }
   ],
   "source": [
    "usecols = [\n",
    "    \"Type\",\n",
    "    \"GeneSymbol\",\n",
    "    \"ClinicalSignificance\",\n",
    "    \"Origin\",\n",
    "    \"Assembly\",\n",
    "    \"Chromosome\",\n",
    "    \"PositionVCF\",\n",
    "    \"ReferenceAlleleVCF\",\n",
    "    \"AlternateAlleleVCF\",\n",
    "    \"ReviewStatus\",\n",
    "]\n",
    "names = [\n",
    "    \"type\",\n",
    "    \"hgnc\",\n",
    "    \"acmg\",\n",
    "    \"origin\",\n",
    "    \"assembly\",\n",
    "    \"chr\",\n",
    "    \"pos\",\n",
    "    \"ref\",\n",
    "    \"alt\",\n",
    "    \"review\",\n",
    "]\n",
    "chrom = [str(x) for x in list(range(1, 23))] + [\"X\", \"Y\"]\n",
    "\n",
    "cv = pd.read_csv(\n",
    "    \"../data/variant_summary.txt\",\n",
    "    sep=\"\\t\",\n",
    "    nrows=100,\n",
    "    usecols=usecols,\n",
    "    low_memory=False,\n",
    "    dtype={\"Chromosome\":str},\n",
    ").rename(columns={x: y for x, y in zip(usecols, names)}).query(f\"chr.isin({chrom})\")\n",
    "cv.head()"
   ]
  },
  {
   "cell_type": "code",
   "execution_count": null,
   "id": "9ddf73bb-c4c5-4b33-a348-c76c930eed3f",
   "metadata": {
    "tags": []
   },
   "outputs": [],
   "source": [
    "df = pd.read_csv(\n",
    "    \"../outputs/clinvar_variants.tsv\",\n",
    "    sep=\"\\t\",\n",
    "    header=None,\n",
    "    low_memory=False,\n",
    "    names=names,\n",
    ").query(f\"chr.isin({chrom})\")"
   ]
  },
  {
   "cell_type": "code",
   "execution_count": 8,
   "id": "1aead4b8-f6f7-427a-8512-ad739e5e504d",
   "metadata": {
    "tags": []
   },
   "outputs": [],
   "source": [
    "null_review = [\n",
    "    \"no_assertion\",\n",
    "    \"no_interpretation\",\n",
    "]\n",
    "null_acmg = [\n",
    "    \"benign\",\n",
    "    \"uncertain\",\n",
    "    \"not_provided\",\n",
    "    \"drug_response\",\n",
    "    \"other\",\n",
    "    \"risk\",\n",
    "    \"low_penetrance\",\n",
    "    \"conflicting\",\n",
    "]\n",
    "\n",
    "m1 = ~df.review.str.lower().str.contains(\"|\".join(null_review))\n",
    "m2 = ~df.acmg.str.lower().str.contains(\"|\".join(null_acmg))\n",
    "\n",
    "df = df[m1 & m2]"
   ]
  },
  {
   "cell_type": "code",
   "execution_count": 9,
   "id": "766d4fbb-34dc-4a23-b78c-8b59681a8c8e",
   "metadata": {
    "tags": []
   },
   "outputs": [],
   "source": [
    "df.hgnc = df.hgnc.str.split(\":\").str[0]"
   ]
  },
  {
   "cell_type": "code",
   "execution_count": 14,
   "id": "5de247bc-403d-4b90-92ed-05592f103197",
   "metadata": {
    "tags": []
   },
   "outputs": [],
   "source": [
    "df.csq = pd.Series([x.split(\",\") for x in df.csq], index=df.index)"
   ]
  },
  {
   "cell_type": "code",
   "execution_count": null,
   "id": "44e1d6ee-227f-46ad-a7a9-c3f268b623f9",
   "metadata": {},
   "outputs": [],
   "source": []
  }
 ],
 "metadata": {
  "kernelspec": {
   "display_name": "Python [conda env:ukb]",
   "language": "python",
   "name": "conda-env-ukb-py"
  },
  "language_info": {
   "codemirror_mode": {
    "name": "ipython",
    "version": 3
   },
   "file_extension": ".py",
   "mimetype": "text/x-python",
   "name": "python",
   "nbconvert_exporter": "python",
   "pygments_lexer": "ipython3",
   "version": "3.8.16"
  }
 },
 "nbformat": 4,
 "nbformat_minor": 5
}
