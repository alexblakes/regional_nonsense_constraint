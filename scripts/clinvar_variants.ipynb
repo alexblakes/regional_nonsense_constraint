{
 "cells": [
  {
   "cell_type": "markdown",
   "id": "9931f241-286d-48d2-a9d6-9727ebbc7563",
   "metadata": {},
   "source": [
    "# ClinVar variants\n",
    "This script matches ClinVar variants introducing PTCs to NMD annotations"
   ]
  },
  {
   "cell_type": "code",
   "execution_count": 1,
   "id": "fa12e179-2d01-4b94-b330-879cac654cd1",
   "metadata": {
    "tags": []
   },
   "outputs": [],
   "source": [
    "import numpy as np\n",
    "import pandas as pd\n",
    "import seaborn as sns\n",
    "\n",
    "sns.set_context(\"talk\")"
   ]
  },
  {
   "cell_type": "code",
   "execution_count": 2,
   "id": "b61d85a8-d227-446f-aea2-dd5774061a1f",
   "metadata": {
    "tags": []
   },
   "outputs": [],
   "source": [
    "names = [\"chr\", \"pos\", \"ref\", \"alt\", \"review\", \"acmg\", \"type\", \"hgnc\", \"csq\", \"origin\"]\n",
    "chrom = [str(x) for x in list(range(1, 23))] + [\"X\", \"Y\"]\n",
    "\n",
    "df = pd.read_csv(\n",
    "    \"../outputs/clinvar_variants.tsv\",\n",
    "    sep=\"\\t\",\n",
    "    header=None,\n",
    "    low_memory=False,\n",
    "    names=names,\n",
    ").query(f\"chr.isin({chrom})\")"
   ]
  },
  {
   "cell_type": "code",
   "execution_count": 3,
   "id": "1aead4b8-f6f7-427a-8512-ad739e5e504d",
   "metadata": {
    "tags": []
   },
   "outputs": [],
   "source": [
    "null_review = [\n",
    "    \"single_submitter\",\n",
    "    \"no_assertion\",\n",
    "    \"no_interpretation\",\n",
    "]\n",
    "null_acmg = [\n",
    "    \"benign\",\n",
    "    \"uncertain\",\n",
    "    \"not_provided\",\n",
    "    \"drug_response\",\n",
    "    \"other\",\n",
    "    \"risk\",\n",
    "    \"low_penetrance\",\n",
    "    \"conflicting\",\n",
    "]\n",
    "m1 = ~df.review.str.lower().str.contains(\"|\".join(null_review))\n",
    "m2 = ~df.acmg.str.lower().str.contains(\"|\".join(null_acmg))\n",
    "df = df[m1 & m2]"
   ]
  },
  {
   "cell_type": "code",
   "execution_count": null,
   "id": "766d4fbb-34dc-4a23-b78c-8b59681a8c8e",
   "metadata": {},
   "outputs": [],
   "source": []
  }
 ],
 "metadata": {
  "kernelspec": {
   "display_name": "Python [conda env:ukb]",
   "language": "python",
   "name": "conda-env-ukb-py"
  },
  "language_info": {
   "codemirror_mode": {
    "name": "ipython",
    "version": 3
   },
   "file_extension": ".py",
   "mimetype": "text/x-python",
   "name": "python",
   "nbconvert_exporter": "python",
   "pygments_lexer": "ipython3",
   "version": "3.8.16"
  }
 },
 "nbformat": 4,
 "nbformat_minor": 5
}
