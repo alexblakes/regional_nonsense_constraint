{
 "cells": [
  {
   "cell_type": "markdown",
   "id": "9931f241-286d-48d2-a9d6-9727ebbc7563",
   "metadata": {},
   "source": [
    "# ClinVar variants\n",
    "This script matches ClinVar variants introducing PTCs to NMD annotations"
   ]
  },
  {
   "cell_type": "code",
   "execution_count": 1,
   "id": "fa12e179-2d01-4b94-b330-879cac654cd1",
   "metadata": {
    "tags": []
   },
   "outputs": [],
   "source": [
    "import numpy as np\n",
    "import pandas as pd\n",
    "import seaborn as sns\n",
    "\n",
    "sns.set_context(\"talk\")"
   ]
  },
  {
   "cell_type": "code",
   "execution_count": 2,
   "id": "5e6d5b7d-6154-4ee5-a57b-3b30794755b6",
   "metadata": {
    "tags": []
   },
   "outputs": [],
   "source": [
    "%%bash\n",
    "dx download -f -o ../data/ data/variant_summary.txt.gz\n",
    "gunzip -f ../data/variant_summary.txt.gz"
   ]
  },
  {
   "cell_type": "code",
   "execution_count": 10,
   "id": "8d22f648-6b76-4ff4-9749-d8020777af51",
   "metadata": {
    "tags": []
   },
   "outputs": [],
   "source": [
    "usecols = [\n",
    "    \"Type\",\n",
    "    \"GeneSymbol\",\n",
    "    \"ClinicalSignificance\",\n",
    "    \"Assembly\",\n",
    "    \"Chromosome\",\n",
    "    \"PositionVCF\",\n",
    "    \"ReferenceAlleleVCF\",\n",
    "    \"AlternateAlleleVCF\",\n",
    "    \"ReviewStatus\",\n",
    "]\n",
    "names = [\n",
    "    \"type\",\n",
    "    \"hgnc\",\n",
    "    \"acmg\",\n",
    "    \"assembly\",\n",
    "    \"chr\",\n",
    "    \"pos\",\n",
    "    \"ref\",\n",
    "    \"alt\",\n",
    "    \"review\",\n",
    "]\n",
    "chrom = [str(x) for x in list(range(1, 23))] + [\"X\", \"Y\"]\n",
    "\n",
    "cv = (\n",
    "    pd.read_csv(\n",
    "        \"../data/variant_summary.txt\",\n",
    "        sep=\"\\t\",\n",
    "        usecols=usecols,\n",
    "        low_memory=False,\n",
    "        dtype={\"Chromosome\": str},\n",
    "    )\n",
    "    .rename(columns={x: y for x, y in zip(usecols, names)})\n",
    "    .query(f\"chr.isin({chrom})\")\n",
    "    .query(\"assembly == 'GRCh38'\")\n",
    "    .drop(\"assembly\", axis=1)\n",
    ")\n",
    "cv[\"chr\"] = \"chr\" + cv[\"chr\"]"
   ]
  },
  {
   "cell_type": "code",
   "execution_count": 11,
   "id": "13950383-0b7d-43de-863e-eafd7575a9d2",
   "metadata": {
    "tags": []
   },
   "outputs": [],
   "source": [
    "null_review = [\n",
    "    \"no assertion\",\n",
    "    \"no interpretation\",\n",
    "]\n",
    "null_acmg = [\n",
    "    \"benign\",\n",
    "    \"uncertain\",\n",
    "    \"not provided\",\n",
    "    \"drug response\",\n",
    "    \"other\",\n",
    "    \"risk\",\n",
    "    \"low penetrance\",\n",
    "    \"conflicting\",\n",
    "    \"affects\",\n",
    "    \"association\",\n",
    "    \"protective\",\n",
    "    \"confers sensitivity\",\n",
    "]\n",
    "\n",
    "m1 = ~cv.review.str.lower().str.contains(\"|\".join(null_review))\n",
    "m2 = ~cv.acmg.str.lower().str.contains(\"|\".join(null_acmg))\n",
    "\n",
    "cv = cv[m1 & m2].reset_index()"
   ]
  },
  {
   "cell_type": "code",
   "execution_count": 12,
   "id": "3d4779f0-5498-4761-85bb-dde924b0eaa8",
   "metadata": {
    "tags": []
   },
   "outputs": [],
   "source": [
    "cv = cv[[\"chr\", \"pos\", \"ref\", \"alt\", \"hgnc\", \"acmg\", \"review\"]]\n",
    "cv.to_csv(\"../outputs/clinvar_variants_selected.tsv\", sep=\"\\t\", index=False)"
   ]
  },
  {
   "cell_type": "code",
   "execution_count": 17,
   "id": "7283df59-6f63-43bb-a389-7fe76907f7d2",
   "metadata": {
    "tags": []
   },
   "outputs": [],
   "source": [
    "vcf = cv.assign(\n",
    "    _id=cv.index,\n",
    "    qual=\".\",\n",
    "    _filter=\".\",\n",
    "    info=\".\",\n",
    ")[[\"chr\", \"pos\", \"_id\", \"ref\", \"alt\", \"qual\", \"_filter\", \"info\"]]\n",
    "\n",
    "vcf.to_csv(\n",
    "    \"../outputs/clinvar_variants_selected.vcf\", sep=\"\\t\", index=False, header=False\n",
    ")"
   ]
  }
 ],
 "metadata": {
  "kernelspec": {
   "display_name": "Python [conda env:ukb]",
   "language": "python",
   "name": "conda-env-ukb-py"
  },
  "language_info": {
   "codemirror_mode": {
    "name": "ipython",
    "version": 3
   },
   "file_extension": ".py",
   "mimetype": "text/x-python",
   "name": "python",
   "nbconvert_exporter": "python",
   "pygments_lexer": "ipython3",
   "version": "3.8.16"
  }
 },
 "nbformat": 4,
 "nbformat_minor": 5
}
