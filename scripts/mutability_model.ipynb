{
 "cells": [
  {
   "cell_type": "code",
   "execution_count": 1,
   "id": "16181480",
   "metadata": {},
   "outputs": [],
   "source": [
    "\"\"\" This script generates a model for the expected number of variants, given the sequence mutability. It first combines annotations for possible variants, observed variants, VEP annotations and trinucleotide contexts. The proportion of synonymous variants observed in each trinucleotide context is then calculated, and linear models built to describe the relationship between mutability and proportion observed.\"\"\";"
   ]
  },
  {
   "cell_type": "code",
   "execution_count": 2,
   "id": "57ce948c",
   "metadata": {},
   "outputs": [
    {
     "name": "stdout",
     "output_type": "stream",
     "text": [
      "Collecting package metadata (current_repodata.json): done\n",
      "Solving environment: done\n",
      "\n",
      "\n",
      "==> WARNING: A newer version of conda exists. <==\n",
      "  current version: 4.10.3\n",
      "  latest version: 23.1.0\n",
      "\n",
      "Please update conda by running\n",
      "\n",
      "    $ conda update -n base -c defaults conda\n",
      "\n",
      "\n",
      "\n",
      "# All requested packages already installed.\n",
      "\n"
     ]
    }
   ],
   "source": [
    "# Install necessary modules\n",
    "! conda install statsmodels -y"
   ]
  },
  {
   "cell_type": "code",
   "execution_count": null,
   "id": "7af86461",
   "metadata": {},
   "outputs": [],
   "source": [
    "%%bash\n",
    "\n",
    "# Download data from UKB RAP\n",
    "\n",
    "dx download \\\n",
    "    -o ../data/ \\\n",
    "    data/cds_trinucleotide_contexts.tsv \\\n",
    "    data/grch38_cpg_methylation.tsv \\\n",
    "    data/mutation_rate_by_context_methyl.txt \\\n",
    "    data/vep_cds_all_possible_snvs.vcf \\\n",
    "    outputs/gnomad_pass_variants/all_pass_snvs.txt"
   ]
  },
  {
   "cell_type": "code",
   "execution_count": 3,
   "id": "600ef56d",
   "metadata": {},
   "outputs": [],
   "source": [
    "# Import modules\n",
    "import numpy as np\n",
    "import pandas as pd\n",
    "from collections import defaultdict\n",
    "import matplotlib.pyplot as plt\n",
    "import seaborn as sns\n",
    "import statsmodels.formula.api as smf"
   ]
  },
  {
   "cell_type": "code",
   "execution_count": 4,
   "id": "5253dfb1",
   "metadata": {},
   "outputs": [],
   "source": [
    "# Define VCF headers and datatypes.\n",
    "_header = [\"chr\", \"pos\", \"id\", \"ref\", \"alt\", \"qual\", \"filter\", \"info\"]\n",
    "\n",
    "datatypes = defaultdict(lambda: \"str\")\n",
    "datatypes.update({\"pos\": np.int32, \"ac\": np.int32, \"an\": np.int32})"
   ]
  },
  {
   "cell_type": "code",
   "execution_count": 5,
   "id": "b4bedac8",
   "metadata": {},
   "outputs": [],
   "source": [
    "# Retreive observed variants\n",
    "obs = pd.read_csv(\n",
    "    \"../data/all_pass_snvs.txt\",\n",
    "    sep=\"\\t\",\n",
    "    header=None,\n",
    "    names=_header + [\"ac\", \"an\"],\n",
    "    usecols=[\"chr\", \"pos\", \"ref\", \"alt\", \"ac\", \"an\"],\n",
    "    dtype=datatypes,\n",
    ").assign(obs=1)"
   ]
  },
  {
   "cell_type": "code",
   "execution_count": 7,
   "id": "97c5c219",
   "metadata": {},
   "outputs": [],
   "source": [
    "# Retreive all possible SNVs\n",
    "pos = pd.read_csv(\n",
    "    \"../data/vep_cds_all_possible_snvs.vcf\",\n",
    "    sep=\"\\t\",\n",
    "    comment=\"#\",\n",
    "    header=None,\n",
    "    names=_header,\n",
    "    dtype=datatypes,\n",
    "    usecols=[\"chr\", \"pos\", \"ref\", \"alt\"],\n",
    ")"
   ]
  },
  {
   "cell_type": "code",
   "execution_count": 10,
   "id": "b9477f70",
   "metadata": {},
   "outputs": [],
   "source": [
    "# Retreive VEP annotations of all possible SNVs\n",
    "vep = pd.read_csv(\n",
    "    \"../data/vep_cds_all_possible_snvs.vcf\",\n",
    "    sep=\"\\t\",\n",
    "    comment=\"#\",\n",
    "    header=None,\n",
    "    names=_header,\n",
    "    dtype=datatypes,\n",
    "    usecols=[\"chr\", \"pos\", \"ref\", \"alt\", \"info\"],\n",
    ")"
   ]
  },
  {
   "cell_type": "code",
   "execution_count": 11,
   "id": "0f7527e5",
   "metadata": {},
   "outputs": [],
   "source": [
    "# Limit to synonymous variants only\n",
    "syn = pd.Series([\"synonymous\" in x for x in vep[\"info\"]])\n",
    "vep = vep.drop(\"info\", axis=1).loc[syn].assign(csq=\"synonymous\")"
   ]
  },
  {
   "cell_type": "code",
   "execution_count": 17,
   "id": "780715e6",
   "metadata": {},
   "outputs": [],
   "source": [
    "# Trinucleotide contexts\n",
    "tri = pd.read_csv(\n",
    "    \"../data/cds_trinucleotide_contexts.tsv\", sep=\"\\t\", dtype=datatypes\n",
    ")"
   ]
  },
  {
   "cell_type": "code",
   "execution_count": 35,
   "id": "61738503",
   "metadata": {},
   "outputs": [],
   "source": [
    "# ENCODE methylation data\n",
    "meth = (pd.read_csv(\"../data/grch38_cpg_methylation.tsv\", \n",
    "                    sep=\"\\t\",\n",
    "                    header=0,\n",
    "                    names=[\"ix\",\"chr\",\"pos\",\"alleles\",\"lvl\"],\n",
    "                    usecols=[\"chr\",\"pos\",\"lvl\"],\n",
    "                   )\n",
    "       )"
   ]
  },
  {
   "cell_type": "code",
   "execution_count": 43,
   "id": "dbc5ae43",
   "metadata": {},
   "outputs": [],
   "source": [
    "# Mutation rates\n",
    "mu = pd.read_csv(\n",
    "    \"../data/mutation_rate_by_context_methyl.txt\",\n",
    "    sep=\"\\t\",\n",
    "    names=[\"tri\", \"ref\", \"alt\", \"lvl\", \"pos\", \"obs\", \"po\", \"mu\", \"fpo\"],\n",
    "    header=0,\n",
    "    usecols=[\"tri\", \"ref\", \"alt\", \"lvl\", \"mu\"],\n",
    ")\n",
    "\n",
    "# Mutation rates are only available for 32 codons. We need to reverse-complement for the remainder.\n",
    "complement = {\"A\": \"T\", \"C\": \"G\", \"G\": \"C\", \"T\": \"A\"}\n",
    "# Replace ref and alt alleles\n",
    "_mu = mu.copy().replace(complement)\n",
    "# Reverse-complement trinucleotide contexts\n",
    "_mu[\"tri\"] = pd.Series([\"\".join([complement[y] for y in x])[::-1] for x in mu.tri])\n",
    "mu = pd.concat([mu, _mu])"
   ]
  },
  {
   "cell_type": "code",
   "execution_count": null,
   "id": "aae34946",
   "metadata": {},
   "outputs": [],
   "source": [
    "# Merge variant annotations\n",
    "df = pos.merge(obs, how=\"left\").fillna(0)\n",
    "df = df.merge(vep, how=\"left\").dropna()\n",
    "df = df.merge(tri, how=\"left\")"
   ]
  },
  {
   "cell_type": "code",
   "execution_count": null,
   "id": "b7926c7c",
   "metadata": {},
   "outputs": [],
   "source": [
    "# Merge methylation and mutability annotations\n",
    "\n",
    "## Find the number of CpG sites not represented in the ENCODE data\n",
    "variant_types = mu[[\"tri\", \"ref\", \"alt\", \"variant_type\"]].drop_duplicates()\n",
    "df = df.merge(variant_types, how=\"left\")\n",
    "df = df.merge(meth, how=\"left\")\n",
    "\n",
    "## Print the result\n",
    "_ = df[df.variant_type == \"CpG\"][\"lvl\"].isna().value_counts(normalize=True)\n",
    "print(\n",
    "    f\"{np.round(_[True]*100, 2)}% of CpG sites are not represented in the methylation data\"\n",
    ")\n",
    "\n",
    "## Assign \"missing\" CpG sites to the mean methylation level\n",
    "df.loc[(df.variant_type == \"CpG\") & (df.lvl.isna()), \"lvl\"] = 2\n",
    "\n",
    "## All non-CpG sites have lvl 0\n",
    "df.loc[df[\"variant_type\"] != \"CpG\", \"lvl\"] = 0\n",
    "\n",
    "## Merge with mutability data\n",
    "df = df.merge(mu, how=\"left\")"
   ]
  },
  {
   "cell_type": "code",
   "execution_count": null,
   "id": "92ce74e5",
   "metadata": {},
   "outputs": [],
   "source": [
    "# Drop contexts in which a synonymous variant is generally not possible.\n",
    "m1 = (df.tri == \"AGT\") & ((df.alt == \"C\") | (df.alt == \"T\"))\n",
    "m2 = (df.tri == \"AAT\") & ((df.alt == \"C\") | (df.alt == \"T\"))\n",
    "m3 = (df.tri == \"ACT\") & ((df.alt == \"G\") | (df.alt == \"A\"))\n",
    "m4 = (df.tri == \"ATT\") & ((df.alt == \"G\") | (df.alt == \"A\"))\n",
    "\n",
    "df = df[~(m1 | m2 | m3 | m4)]"
   ]
  },
  {
   "cell_type": "markdown",
   "id": "a3f85edf",
   "metadata": {},
   "source": [
    "# Plots"
   ]
  },
  {
   "cell_type": "code",
   "execution_count": null,
   "id": "f9108831",
   "metadata": {},
   "outputs": [],
   "source": [
    "sns.set_context(\"talk\")"
   ]
  },
  {
   "cell_type": "code",
   "execution_count": null,
   "id": "c43ad30b",
   "metadata": {},
   "outputs": [],
   "source": [
    "g = sns.lmplot(\n",
    "    data=df,\n",
    "    x=\"mu\",\n",
    "    y=\"obs\",\n",
    "    ci=None,\n",
    "    x_estimator=np.mean,\n",
    "    height=4,\n",
    ")\n",
    "g.set(\n",
    "    title=\"Synonymous\", xlabel=\"mutability\", ylabel=\"proportion observed\", xscale=\"log\"\n",
    ")"
   ]
  },
  {
   "cell_type": "markdown",
   "id": "bd86d064",
   "metadata": {},
   "source": [
    "## Square root mutability"
   ]
  },
  {
   "cell_type": "code",
   "execution_count": null,
   "id": "b24787e7",
   "metadata": {},
   "outputs": [],
   "source": [
    "df[\"sqrt_mu\"] = np.sqrt(df[\"mu\"])"
   ]
  },
  {
   "cell_type": "code",
   "execution_count": null,
   "id": "4fcd2815",
   "metadata": {},
   "outputs": [],
   "source": [
    "g = sns.lmplot(\n",
    "    data=df,\n",
    "    x=\"sqrt_mu\",\n",
    "    y=\"obs\",\n",
    "    ci=None,\n",
    "    x_estimator=np.mean,\n",
    "    height=4,\n",
    ")\n",
    "g.set(title=\"Synonymous\", xlabel=\"sqrt(mu)\", ylabel=\"proportion observed\", xscale=\"log\")"
   ]
  },
  {
   "cell_type": "markdown",
   "id": "ecfb2553",
   "metadata": {},
   "source": [
    "# Statistics"
   ]
  },
  {
   "cell_type": "code",
   "execution_count": null,
   "id": "74c13221",
   "metadata": {},
   "outputs": [],
   "source": [
    "stats = (\n",
    "    df.groupby([\"tri\", \"ref\", \"alt\", \"lvl\"])\n",
    "    .agg({\"mu\": \"mean\", \"sqrt_mu\": \"mean\", \"obs\": \"mean\", \"pos\": \"count\"})\n",
    "    .reset_index()\n",
    ")\n",
    "stats.to_csv(\"../statistics/mutational_model_stats.tsv\", sep=\"\\t\", index=False)"
   ]
  },
  {
   "cell_type": "code",
   "execution_count": null,
   "id": "3c137b61",
   "metadata": {},
   "outputs": [],
   "source": [
    "f = sns.residplot(data=stats, x=\"sqrt_mu\", y=\"obs\")"
   ]
  },
  {
   "cell_type": "code",
   "execution_count": null,
   "id": "c6f0743f",
   "metadata": {},
   "outputs": [],
   "source": [
    "# OLS on mu\n",
    "model = smf.ols(\"obs ~ mu\", data=stats).fit()\n",
    "print(model.summary())"
   ]
  },
  {
   "cell_type": "code",
   "execution_count": null,
   "id": "b73a14e4",
   "metadata": {},
   "outputs": [],
   "source": [
    "# OLS on sqrt(mu)\n",
    "model = smf.ols(\"obs ~ sqrt_mu\", data=stats).fit()\n",
    "print(model.summary())"
   ]
  },
  {
   "cell_type": "code",
   "execution_count": null,
   "id": "edd82eb2",
   "metadata": {},
   "outputs": [],
   "source": [
    "# Weighted linear model\n",
    "model = smf.wls(\"obs ~ sqrt_mu\", data=stats, weights=stats[\"pos\"]).fit()\n",
    "print(model.summary())"
   ]
  }
 ],
 "metadata": {
  "kernelspec": {
   "display_name": "Python 3",
   "language": "python",
   "name": "python3"
  },
  "language_info": {
   "codemirror_mode": {
    "name": "ipython",
    "version": 3
   },
   "file_extension": ".py",
   "mimetype": "text/x-python",
   "name": "python",
   "nbconvert_exporter": "python",
   "pygments_lexer": "ipython3",
   "version": "3.6.5"
  }
 },
 "nbformat": 4,
 "nbformat_minor": 5
}
