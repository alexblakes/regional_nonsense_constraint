{
 "cells": [
  {
   "cell_type": "code",
   "execution_count": null,
   "id": "b6831ea1-f185-4d71-9080-c6a82c2ba4e5",
   "metadata": {},
   "outputs": [],
   "source": [
    "\"\"\" This script generates a model for the expected number of variants, given the sequence mutability. It first combines annotations for possible variants, observed variants, VEP annotations and trinucleotide contexts. The proportion of synonymous variants observed in each trinucleotide context is then calculated, and linear models built to describe the relationship between mutability and proportion observed.\"\"\";"
   ]
  },
  {
   "cell_type": "code",
   "execution_count": null,
   "id": "1209a603-81d1-42f9-b62d-4afcb7d562b2",
   "metadata": {},
   "outputs": [],
   "source": [
    "# Import modules\n",
    "import numpy as np\n",
    "import pandas as pd\n",
    "from collections import defaultdict\n",
    "import matplotlib.pyplot as plt\n",
    "import seaborn as sns\n",
    "import statsmodels.formula.api as smf"
   ]
  },
  {
   "cell_type": "code",
   "execution_count": null,
   "id": "8da57a55-04da-4bdd-8371-ccb336591292",
   "metadata": {},
   "outputs": [],
   "source": [
    "# Define VCF headers and datatypes.\n",
    "header = [\"chr\", \"pos\", \"id\", \"ref\", \"alt\", \"qual\", \"filter\", \"info\"]\n",
    "\n",
    "datatypes = defaultdict(lambda: \"str\")\n",
    "datatypes.update({\"pos\": np.int32, \"ac\": np.int32, \"an\": np.int32})"
   ]
  },
  {
   "cell_type": "code",
   "execution_count": null,
   "id": "1d1903cb-c5ea-465f-a0fb-1c565768d005",
   "metadata": {},
   "outputs": [],
   "source": [
    "# Retreive possible variants\n",
    "pos = pd.read_csv(\n",
    "    \"../outputs/cds_all_possible_snvs_filtered.vcf\",\n",
    "    sep=\"\\t\",\n",
    "    names=header,\n",
    "    usecols=[\"chr\", \"pos\", \"ref\", \"alt\"],\n",
    "    dtype=datatypes,\n",
    ")"
   ]
  },
  {
   "cell_type": "code",
   "execution_count": null,
   "id": "a957245d-f86a-45bb-a92a-8b1be4092971",
   "metadata": {},
   "outputs": [],
   "source": [
    "# Retreive observed variants\n",
    "obs = pd.read_csv(\n",
    "    \"../outputs/cds_all_observed_snvs_filtered.vcf\",\n",
    "    sep=\"\\t\",\n",
    "    names=header,\n",
    "    usecols=[\"chr\", \"pos\", \"ref\", \"alt\"],\n",
    "    dtype=datatypes,\n",
    ").assign(obs=1)"
   ]
  },
  {
   "cell_type": "code",
   "execution_count": null,
   "id": "dc44dd32-bcea-4bed-83f0-5424ed0754d2",
   "metadata": {},
   "outputs": [],
   "source": [
    "# Retreive VEP annotations of all possible SNVs\n",
    "vep = pd.read_csv(\n",
    "    \"../outputs/vep/vep_cds_all_possible_snvs.vcf\",\n",
    "    sep=\"\\t\",\n",
    "    comment=\"#\",\n",
    "    header=None,\n",
    "    names=header,\n",
    "    dtype=datatypes,\n",
    "    usecols=[\"chr\", \"pos\", \"ref\", \"alt\", \"info\"],\n",
    ")"
   ]
  },
  {
   "cell_type": "code",
   "execution_count": null,
   "id": "298cedae-36a2-4a92-8f4a-9cfed6383858",
   "metadata": {},
   "outputs": [],
   "source": [
    "# Limit to synonymous variants only\n",
    "syn = pd.Series([\"synonymous\" in x for x in vep[\"info\"]])\n",
    "vep = vep.drop(\"info\", axis=1).loc[syn].assign(csq=\"synonymous\")"
   ]
  },
  {
   "cell_type": "code",
   "execution_count": null,
   "id": "d653d8bc-0952-40fc-99a8-4c24e585e535",
   "metadata": {},
   "outputs": [],
   "source": [
    "# Trinucleotide contexts\n",
    "tri = pd.read_csv(\n",
    "    \"../outputs/cds_trinucleotide_contexts.tsv\", sep=\"\\t\", dtype=datatypes\n",
    ")"
   ]
  },
  {
   "cell_type": "code",
   "execution_count": null,
   "id": "ec951c51-536a-47ed-bada-01e1e08d61d6",
   "metadata": {},
   "outputs": [],
   "source": [
    "# ENCODE methylation data\n",
    "meth = pd.read_csv(\"../outputs/encode_testis_methylation.tsv\", sep=\"\\t\")\n",
    "\n",
    "# Cut methylation scores into bins (as per gnomAD)\n",
    "bins = [\n",
    "    0,\n",
    "    0.05,\n",
    "    0.1,\n",
    "    0.15,\n",
    "    0.2,\n",
    "    0.25,\n",
    "    0.3,\n",
    "    0.5,\n",
    "    0.55,\n",
    "    0.6,\n",
    "    0.65,\n",
    "    0.7,\n",
    "    0.75,\n",
    "    0.8,\n",
    "    0.85,\n",
    "    0.9,\n",
    "    1,\n",
    "]\n",
    "meth[\"lvl\"] = pd.cut(\n",
    "    (meth.methylation / 100), bins=bins, labels=list(range(16)), include_lowest=True\n",
    ").astype(\"int\")\n",
    "meth = meth.drop(\"methylation\", axis=1)"
   ]
  },
  {
   "cell_type": "code",
   "execution_count": null,
   "id": "c91b88aa-2a4e-4741-af9e-ce46d26a88eb",
   "metadata": {},
   "outputs": [],
   "source": [
    "# Mutation rates\n",
    "mu = pd.read_csv(\n",
    "    \"../data/gnomad_nc_mutation_rates.tsv\",\n",
    "    sep=\"\\t\",\n",
    "    names=([\"tri\", \"ref\", \"alt\", \"lvl\", \"variant_type\", \"mu\"] + list(range(4))),\n",
    "    header=0,\n",
    "    usecols=[\"tri\", \"ref\", \"alt\", \"lvl\", \"variant_type\", \"mu\"],\n",
    ")\n",
    "\n",
    "# Mutation rates are only available for 32 codons. We need to reverse-complement for the remainder.\n",
    "complement = {\"A\": \"T\", \"C\": \"G\", \"G\": \"C\", \"T\": \"A\"}\n",
    "# Replace ref and alt alleles\n",
    "_mu = mu.copy().replace(complement)\n",
    "# Reverse-complement trinucleotide contexts\n",
    "_mu[\"tri\"] = pd.Series([\"\".join([complement[y] for y in x])[::-1] for x in mu.tri])\n",
    "mu = pd.concat([mu, _mu])"
   ]
  },
  {
   "cell_type": "code",
   "execution_count": null,
   "id": "a3f1b339-9140-47e7-b30b-391412b516f2",
   "metadata": {},
   "outputs": [],
   "source": [
    "# Merge variant annotations\n",
    "df = pos.merge(obs, how=\"left\").fillna(0)\n",
    "df = df.merge(vep, how=\"left\").dropna()\n",
    "df = df.merge(tri, how=\"left\")"
   ]
  },
  {
   "cell_type": "code",
   "execution_count": null,
   "id": "e4a25bb3-fcdb-4b96-8ec3-2beb9d152942",
   "metadata": {},
   "outputs": [],
   "source": [
    "# Merge methylation and mutability annotations\n",
    "\n",
    "## Find the number of CpG sites not represented in the ENCODE data\n",
    "variant_types = mu[[\"tri\", \"ref\", \"alt\", \"variant_type\"]].drop_duplicates()\n",
    "df = df.merge(variant_types, how=\"left\")\n",
    "df = df.merge(meth, how=\"left\")\n",
    "\n",
    "## Print the result\n",
    "_ = df[df.variant_type == \"CpG\"][\"lvl\"].isna().value_counts(normalize=True)\n",
    "print(\n",
    "    f\"{np.round(_[True]*100, 2)}% of CpG sites are not represented in the methylation data\"\n",
    ")\n",
    "\n",
    "## Assign \"missing\" CpG sites to the mean methylation level\n",
    "df.loc[(df.variant_type == \"CpG\") & (df.lvl.isna()), \"lvl\"] = 2\n",
    "\n",
    "## All non-CpG sites have lvl 0\n",
    "df.loc[df[\"variant_type\"] != \"CpG\", \"lvl\"] = 0\n",
    "\n",
    "## Merge with mutability data\n",
    "df = df.merge(mu, how=\"left\")"
   ]
  },
  {
   "cell_type": "code",
   "execution_count": null,
   "id": "fcac25c2-de82-48c8-91a2-0ca91b5522be",
   "metadata": {},
   "outputs": [],
   "source": [
    "# Drop contexts in which a synonymous variant is generally not possible.\n",
    "m1 = (df.tri == \"AGT\") & ((df.alt == \"C\") | (df.alt == \"T\"))\n",
    "m2 = (df.tri == \"AAT\") & ((df.alt == \"C\") | (df.alt == \"T\"))\n",
    "m3 = (df.tri == \"ACT\") & ((df.alt == \"G\") | (df.alt == \"A\"))\n",
    "m4 = (df.tri == \"ATT\") & ((df.alt == \"G\") | (df.alt == \"A\"))\n",
    "\n",
    "df = df[~(m1 | m2 | m3 | m4)]"
   ]
  },
  {
   "cell_type": "markdown",
   "id": "bea4d17c-8596-44a5-854f-559fc16355d3",
   "metadata": {},
   "source": [
    "# Plots"
   ]
  },
  {
   "cell_type": "code",
   "execution_count": null,
   "id": "9af5ef5d-2be9-4a73-8e16-4ca66791e41f",
   "metadata": {},
   "outputs": [],
   "source": [
    "sns.set_context(\"talk\")"
   ]
  },
  {
   "cell_type": "code",
   "execution_count": null,
   "id": "b330e813-f193-4277-999c-4dc41cbfe0db",
   "metadata": {},
   "outputs": [],
   "source": [
    "g = sns.lmplot(\n",
    "    data=df,\n",
    "    x=\"mu\",\n",
    "    y=\"obs\",\n",
    "    ci=None,\n",
    "    x_estimator=np.mean,\n",
    "    height=4,\n",
    ")\n",
    "g.set(\n",
    "    title=\"Synonymous\", xlabel=\"mutability\", ylabel=\"proportion observed\", xscale=\"log\"\n",
    ")"
   ]
  },
  {
   "cell_type": "markdown",
   "id": "4d3ff42f-46bc-41aa-9e62-95d02d0df524",
   "metadata": {},
   "source": [
    "## Square root mutability"
   ]
  },
  {
   "cell_type": "code",
   "execution_count": null,
   "id": "5fdfeac1-7db5-4edd-b629-dfc240ba429a",
   "metadata": {},
   "outputs": [],
   "source": [
    "df[\"sqrt_mu\"] = np.sqrt(df[\"mu\"])"
   ]
  },
  {
   "cell_type": "code",
   "execution_count": null,
   "id": "b78e3860-9b37-422a-a744-dc49fb96db78",
   "metadata": {},
   "outputs": [],
   "source": [
    "g = sns.lmplot(\n",
    "    data=df,\n",
    "    x=\"sqrt_mu\",\n",
    "    y=\"obs\",\n",
    "    ci=None,\n",
    "    x_estimator=np.mean,\n",
    "    height=4,\n",
    ")\n",
    "g.set(title=\"Synonymous\", xlabel=\"sqrt(mu)\", ylabel=\"proportion observed\", xscale=\"log\")"
   ]
  },
  {
   "cell_type": "markdown",
   "id": "f6147bb7-b2aa-4e4d-adcb-65ff88916b25",
   "metadata": {},
   "source": [
    "# Statistics"
   ]
  },
  {
   "cell_type": "code",
   "execution_count": null,
   "id": "b2b04a84-77e9-41d8-bbcd-d55df860cf53",
   "metadata": {},
   "outputs": [],
   "source": [
    "stats = (\n",
    "    df.groupby([\"tri\", \"ref\", \"alt\", \"lvl\"])\n",
    "    .agg({\"mu\": \"mean\", \"sqrt_mu\": \"mean\", \"obs\": \"mean\", \"pos\": \"count\"})\n",
    "    .reset_index()\n",
    ")\n",
    "stats.to_csv(\"../statistics/mutational_model_stats.tsv\", sep=\"\\t\", index=False)"
   ]
  },
  {
   "cell_type": "code",
   "execution_count": null,
   "id": "5e2fb2f6-9f2f-490f-9108-e56cf7a02d9d",
   "metadata": {},
   "outputs": [],
   "source": [
    "f = sns.residplot(data=stats, x=\"sqrt_mu\", y=\"obs\")"
   ]
  },
  {
   "cell_type": "code",
   "execution_count": null,
   "id": "ba75e286-047f-492e-af13-4879f9f01631",
   "metadata": {},
   "outputs": [],
   "source": [
    "# OLS on mu\n",
    "model = smf.ols(\"obs ~ mu\", data=stats).fit()\n",
    "print(model.summary())"
   ]
  },
  {
   "cell_type": "code",
   "execution_count": null,
   "id": "1196c5f9-7689-4a4c-8190-4d8f6662ba19",
   "metadata": {},
   "outputs": [],
   "source": [
    "# OLS on sqrt(mu)\n",
    "model = smf.ols(\"obs ~ sqrt_mu\", data=stats).fit()\n",
    "print(model.summary())"
   ]
  },
  {
   "cell_type": "code",
   "execution_count": null,
   "id": "7c7105c6-e345-4b84-bfd1-c23b5f546866",
   "metadata": {},
   "outputs": [],
   "source": [
    "# Weighted linear model\n",
    "model = smf.wls(\"obs ~ sqrt_mu\", data=stats, weights=stats[\"pos\"]).fit()\n",
    "print(model.summary())"
   ]
  }
 ],
 "metadata": {
  "kernelspec": {
   "display_name": "Python 3 (ipykernel)",
   "language": "python",
   "name": "python3"
  },
  "language_info": {
   "codemirror_mode": {
    "name": "ipython",
    "version": 3
   },
   "file_extension": ".py",
   "mimetype": "text/x-python",
   "name": "python",
   "nbconvert_exporter": "python",
   "pygments_lexer": "ipython3",
   "version": "3.10.6"
  }
 },
 "nbformat": 4,
 "nbformat_minor": 5
}
