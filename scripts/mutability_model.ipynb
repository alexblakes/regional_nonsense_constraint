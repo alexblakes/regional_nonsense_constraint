{
 "cells": [
  {
   "cell_type": "code",
   "execution_count": 1,
   "id": "b5a7c4a6",
   "metadata": {},
   "outputs": [],
   "source": [
    "\"\"\" This script generates a model for the expected number of variants, given the sequence mutability. It first combines annotations for possible variants, observed variants, VEP annotations and trinucleotide contexts. The proportion of synonymous variants observed in each trinucleotide context is then calculated, and linear models built to describe the relationship between mutability and proportion observed.\"\"\";"
   ]
  },
  {
   "cell_type": "code",
   "execution_count": 2,
   "id": "8ea0add6",
   "metadata": {},
   "outputs": [
    {
     "name": "stdout",
     "output_type": "stream",
     "text": [
      "Collecting package metadata (current_repodata.json): done\n",
      "Solving environment: failed with initial frozen solve. Retrying with flexible solve.\n",
      "Solving environment: failed with repodata from current_repodata.json, will retry with next repodata source.\n",
      "Collecting package metadata (repodata.json): done\n",
      "Solving environment: done\n",
      "\n",
      "## Package Plan ##\n",
      "\n",
      "  environment location: /opt/conda\n",
      "\n",
      "  added / updated specs:\n",
      "    - statsmodels\n",
      "\n",
      "\n",
      "The following packages will be downloaded:\n",
      "\n",
      "    package                    |            build\n",
      "    ---------------------------|-----------------\n",
      "    blas-1.0                   |              mkl           6 KB\n",
      "    ca-certificates-2023.01.10 |       h06a4308_0         120 KB\n",
      "    certifi-2021.5.30          |   py36h06a4308_0         139 KB\n",
      "    conda-4.10.3               |   py36h06a4308_0         2.9 MB\n",
      "    intel-openmp-2022.0.1      |    h06a4308_3633         4.2 MB\n",
      "    libgfortran-ng-7.5.0       |      ha8ba4b0_17          22 KB\n",
      "    libgfortran4-7.5.0         |      ha8ba4b0_17         995 KB\n",
      "    mkl-2020.2                 |              256       138.3 MB\n",
      "    mkl-service-2.3.0          |   py36he8ac12f_0          52 KB\n",
      "    mkl_fft-1.3.0              |   py36h54f3939_0         170 KB\n",
      "    mkl_random-1.1.1           |   py36h0573a6f_0         327 KB\n",
      "    numpy-1.19.2               |   py36h54aff64_0          22 KB\n",
      "    numpy-base-1.19.2          |   py36hfa32c7d_0         4.1 MB\n",
      "    openssl-1.0.2u             |       h7b6447c_0         2.2 MB\n",
      "    pandas-1.1.5               |   py36ha9443f7_0         8.2 MB\n",
      "    patsy-0.5.1                |           py36_0         274 KB\n",
      "    pytz-2021.3                |     pyhd3eb1b0_0         171 KB\n",
      "    scipy-1.5.2                |   py36h0b6359f_0        14.4 MB\n",
      "    statsmodels-0.12.2         |   py36h27cfd23_0         8.6 MB\n",
      "    ------------------------------------------------------------\n",
      "                                           Total:       185.1 MB\n",
      "\n",
      "The following NEW packages will be INSTALLED:\n",
      "\n",
      "  blas               pkgs/main/linux-64::blas-1.0-mkl\n",
      "  intel-openmp       pkgs/main/linux-64::intel-openmp-2022.0.1-h06a4308_3633\n",
      "  libgfortran-ng     pkgs/main/linux-64::libgfortran-ng-7.5.0-ha8ba4b0_17\n",
      "  libgfortran4       pkgs/main/linux-64::libgfortran4-7.5.0-ha8ba4b0_17\n",
      "  mkl                pkgs/main/linux-64::mkl-2020.2-256\n",
      "  mkl-service        pkgs/main/linux-64::mkl-service-2.3.0-py36he8ac12f_0\n",
      "  mkl_fft            pkgs/main/linux-64::mkl_fft-1.3.0-py36h54f3939_0\n",
      "  mkl_random         pkgs/main/linux-64::mkl_random-1.1.1-py36h0573a6f_0\n",
      "  numpy              pkgs/main/linux-64::numpy-1.19.2-py36h54aff64_0\n",
      "  numpy-base         pkgs/main/linux-64::numpy-base-1.19.2-py36hfa32c7d_0\n",
      "  pandas             pkgs/main/linux-64::pandas-1.1.5-py36ha9443f7_0\n",
      "  patsy              pkgs/main/linux-64::patsy-0.5.1-py36_0\n",
      "  pytz               pkgs/main/noarch::pytz-2021.3-pyhd3eb1b0_0\n",
      "  scipy              pkgs/main/linux-64::scipy-1.5.2-py36h0b6359f_0\n",
      "  statsmodels        pkgs/main/linux-64::statsmodels-0.12.2-py36h27cfd23_0\n",
      "\n",
      "The following packages will be UPDATED:\n",
      "\n",
      "  ca-certificates    conda-forge::ca-certificates-2022.12.~ --> pkgs/main::ca-certificates-2023.01.10-h06a4308_0\n",
      "\n",
      "The following packages will be SUPERSEDED by a higher-priority channel:\n",
      "\n",
      "  certifi            conda-forge::certifi-2021.5.30-py36h5~ --> pkgs/main::certifi-2021.5.30-py36h06a4308_0\n",
      "  conda              conda-forge::conda-4.10.3-py36h5fab9b~ --> pkgs/main::conda-4.10.3-py36h06a4308_0\n",
      "  openssl            conda-forge::openssl-1.0.2u-h516909a_0 --> pkgs/main::openssl-1.0.2u-h7b6447c_0\n",
      "\n",
      "\n",
      "\n",
      "Downloading and Extracting Packages\n",
      "statsmodels-0.12.2   | 8.6 MB    | ##################################### | 100% \n",
      "mkl-service-2.3.0    | 52 KB     | ##################################### | 100% \n",
      "intel-openmp-2022.0. | 4.2 MB    | ##################################### | 100% \n",
      "mkl_random-1.1.1     | 327 KB    | ##################################### | 100% \n",
      "conda-4.10.3         | 2.9 MB    | ##################################### | 100% \n",
      "libgfortran4-7.5.0   | 995 KB    | ##################################### | 100% \n",
      "certifi-2021.5.30    | 139 KB    | ##################################### | 100% \n",
      "numpy-1.19.2         | 22 KB     | ##################################### | 100% \n",
      "scipy-1.5.2          | 14.4 MB   | ##################################### | 100% \n",
      "blas-1.0             | 6 KB      | ##################################### | 100% \n",
      "mkl_fft-1.3.0        | 170 KB    | ##################################### | 100% \n",
      "pytz-2021.3          | 171 KB    | ##################################### | 100% \n",
      "numpy-base-1.19.2    | 4.1 MB    | ##################################### | 100% \n",
      "pandas-1.1.5         | 8.2 MB    | ##################################### | 100% \n",
      "mkl-2020.2           | 138.3 MB  | ##################################### | 100% \n",
      "openssl-1.0.2u       | 2.2 MB    | ##################################### | 100% \n",
      "patsy-0.5.1          | 274 KB    | ##################################### | 100% \n",
      "ca-certificates-2023 | 120 KB    | ##################################### | 100% \n",
      "libgfortran-ng-7.5.0 | 22 KB     | ##################################### | 100% \n",
      "Preparing transaction: done\n",
      "Verifying transaction: done\n",
      "Executing transaction: done\n"
     ]
    }
   ],
   "source": [
    "# Install necessary modules\n",
    "! conda install statsmodels -y"
   ]
  },
  {
   "cell_type": "code",
   "execution_count": 3,
   "id": "e710c2f5",
   "metadata": {},
   "outputs": [],
   "source": [
    "%%bash\n",
    "\n",
    "# Download data from UKB RAP\n",
    "\n",
    "dx download \\\n",
    "    -o ../data/ \\\n",
    "    data/cds_trinucleotide_contexts.tsv \\\n",
    "    data/grch38_cpg_methylation.tsv \\\n",
    "    data/gnomad_nc_mutation_rates.tsv \\\n",
    "    data/vep_cds_all_possible_snvs.vcf \\\n",
    "    outputs/gnomad_pass_variants/all_pass_snvs.txt"
   ]
  },
  {
   "cell_type": "code",
   "execution_count": 4,
   "id": "d2fab989",
   "metadata": {},
   "outputs": [],
   "source": [
    "# Import modules\n",
    "import numpy as np\n",
    "import pandas as pd\n",
    "from collections import defaultdict\n",
    "import matplotlib.pyplot as plt\n",
    "import seaborn as sns\n",
    "import statsmodels.formula.api as smf"
   ]
  },
  {
   "cell_type": "code",
   "execution_count": 5,
   "id": "99fda68b",
   "metadata": {},
   "outputs": [],
   "source": [
    "# Define VCF headers and datatypes.\n",
    "_header = [\"chr\", \"pos\", \"id\", \"ref\", \"alt\", \"qual\", \"filter\", \"info\"]\n",
    "\n",
    "datatypes = defaultdict(lambda: \"str\")\n",
    "datatypes.update({\"pos\": np.int32, \"ac\": np.int32, \"an\": np.int32})"
   ]
  },
  {
   "cell_type": "code",
   "execution_count": 6,
   "id": "ee164c5a",
   "metadata": {},
   "outputs": [],
   "source": [
    "# Retreive observed variants\n",
    "obs = pd.read_csv(\n",
    "    \"../data/all_pass_snvs.txt\",\n",
    "    sep=\"\\t\",\n",
    "    header=None,\n",
    "    names=_header + [\"ac\", \"an\"],\n",
    "    usecols=[\"chr\", \"pos\", \"ref\", \"alt\", \"ac\", \"an\"],\n",
    "    dtype=datatypes,\n",
    ").assign(obs=1)"
   ]
  },
  {
   "cell_type": "code",
   "execution_count": 7,
   "id": "c9a06e1d",
   "metadata": {},
   "outputs": [],
   "source": [
    "# Retreive all possible SNVs\n",
    "pos = pd.read_csv(\n",
    "    \"../data/vep_cds_all_possible_snvs.vcf\",\n",
    "    sep=\"\\t\",\n",
    "    comment=\"#\",\n",
    "    header=None,\n",
    "    names=_header,\n",
    "    dtype=datatypes,\n",
    "    usecols=[\"chr\", \"pos\", \"ref\", \"alt\"],\n",
    ")"
   ]
  },
  {
   "cell_type": "code",
   "execution_count": 8,
   "id": "413c2a7a",
   "metadata": {},
   "outputs": [],
   "source": [
    "# Retreive VEP annotations of all possible SNVs\n",
    "vep = pd.read_csv(\n",
    "    \"../data/vep_cds_all_possible_snvs.vcf\",\n",
    "    sep=\"\\t\",\n",
    "    comment=\"#\",\n",
    "    header=None,\n",
    "    names=_header,\n",
    "    dtype=datatypes,\n",
    "    usecols=[\"chr\", \"pos\", \"ref\", \"alt\", \"info\"],\n",
    ")"
   ]
  },
  {
   "cell_type": "code",
   "execution_count": 9,
   "id": "314ab938",
   "metadata": {},
   "outputs": [],
   "source": [
    "# Limit to synonymous variants only\n",
    "syn = pd.Series([\"synonymous\" in x for x in vep[\"info\"]])\n",
    "vep = vep.drop(\"info\", axis=1).loc[syn].assign(csq=\"synonymous\")"
   ]
  },
  {
   "cell_type": "code",
   "execution_count": 10,
   "id": "c686767d",
   "metadata": {},
   "outputs": [],
   "source": [
    "# Trinucleotide contexts\n",
    "tri = pd.read_csv(\n",
    "    \"../data/cds_trinucleotide_contexts.tsv\", sep=\"\\t\", dtype=datatypes\n",
    ")"
   ]
  },
  {
   "cell_type": "code",
   "execution_count": 11,
   "id": "4af36343",
   "metadata": {},
   "outputs": [],
   "source": [
    "# ENCODE methylation data\n",
    "meth = (pd.read_csv(\"../data/grch38_cpg_methylation.tsv\", \n",
    "                    sep=\"\\t\",\n",
    "                    header=0,\n",
    "                    names=[\"ix\",\"chr\",\"pos\",\"alleles\",\"lvl\"],\n",
    "                    usecols=[\"chr\",\"pos\",\"lvl\"],\n",
    "                   )\n",
    "       )"
   ]
  },
  {
   "cell_type": "code",
   "execution_count": 12,
   "id": "f6eecccd",
   "metadata": {},
   "outputs": [],
   "source": [
    "# Mutation rates\n",
    "mu = pd.read_csv(\n",
    "    \"../data/gnomad_nc_mutation_rates.tsv\",\n",
    "    sep=\"\\t\",\n",
    "    names=[\"tri\", \"ref\", \"alt\", \"lvl\", \"variant_type\", \"mu\", \"pos\", \"obs\", \"po\", \"ppo\",],\n",
    "    header=0,\n",
    "    usecols=[\"tri\", \"ref\", \"alt\", \"lvl\", \"mu\", \"variant_type\"],\n",
    ")\n",
    "\n",
    "# Mutation rates are only available for 32 codons. We need to reverse-complement for the remainder.\n",
    "complement = {\"A\": \"T\", \"C\": \"G\", \"G\": \"C\", \"T\": \"A\"}\n",
    "# Replace ref and alt alleles\n",
    "_mu = mu.copy().replace(complement)\n",
    "# Reverse-complement trinucleotide contexts\n",
    "_mu[\"tri\"] = pd.Series([\"\".join([complement[y] for y in x])[::-1] for x in mu.tri])\n",
    "mu = pd.concat([mu, _mu])"
   ]
  },
  {
   "cell_type": "code",
   "execution_count": 13,
   "id": "8b98ec50",
   "metadata": {},
   "outputs": [],
   "source": [
    "# Merge variant annotations\n",
    "df = pos.merge(obs, how=\"left\").fillna(0)\n",
    "df = df.merge(vep, how=\"left\").dropna()\n",
    "df = df.merge(tri, how=\"left\")"
   ]
  },
  {
   "cell_type": "code",
   "execution_count": 14,
   "id": "6021370f",
   "metadata": {},
   "outputs": [],
   "source": [
    "df_spare = df.copy()"
   ]
  },
  {
   "cell_type": "code",
   "execution_count": 15,
   "id": "3b98efde",
   "metadata": {},
   "outputs": [],
   "source": [
    "# Merge methylation and mutability annotations\n",
    "\n",
    "## Find the number of CpG sites not represented in the ENCODE data\n",
    "variant_types = mu[[\"tri\", \"ref\", \"alt\", \"variant_type\"]].drop_duplicates()\n",
    "df = df.merge(variant_types, how=\"left\")\n",
    "df = df.merge(meth, how=\"left\")\n",
    "\n",
    "## All non-CpG sites have lvl 0\n",
    "df.loc[df[\"variant_type\"] != \"CpG\", \"lvl\"] = 0\n",
    "df.lvl = df.lvl.astype(int)\n",
    "\n",
    "## Merge with mutability data\n",
    "df = df.merge(mu, how=\"left\")"
   ]
  },
  {
   "cell_type": "code",
   "execution_count": 16,
   "id": "61670fdc",
   "metadata": {},
   "outputs": [],
   "source": [
    "# Drop contexts in which a synonymous variant is generally not possible.\n",
    "## (Synonymous variants in these contexts may occur at splice junctions)\n",
    "m1 = (df.tri == \"AGT\") & ((df.alt == \"C\") | (df.alt == \"T\"))\n",
    "m2 = (df.tri == \"AAT\") & ((df.alt == \"C\") | (df.alt == \"T\"))\n",
    "m3 = (df.tri == \"ACT\") & ((df.alt == \"G\") | (df.alt == \"A\"))\n",
    "m4 = (df.tri == \"ATT\") & ((df.alt == \"G\") | (df.alt == \"A\"))\n",
    "\n",
    "df = df[~(m1 | m2 | m3 | m4)]"
   ]
  },
  {
   "cell_type": "code",
   "execution_count": 17,
   "id": "1d9173c0",
   "metadata": {},
   "outputs": [],
   "source": [
    "df_common = df.copy()"
   ]
  },
  {
   "cell_type": "code",
   "execution_count": 18,
   "id": "35692eab",
   "metadata": {},
   "outputs": [],
   "source": [
    "df = df[(df[\"an\"] == 0) | (df[\"ac\"] / df[\"an\"] < 0.001)]"
   ]
  },
  {
   "cell_type": "markdown",
   "id": "60167e94",
   "metadata": {},
   "source": [
    "# Plots"
   ]
  },
  {
   "cell_type": "code",
   "execution_count": 60,
   "id": "8651d699",
   "metadata": {},
   "outputs": [],
   "source": [
    "sns.set_context(\"talk\")"
   ]
  },
  {
   "cell_type": "code",
   "execution_count": 91,
   "id": "d63aac95",
   "metadata": {},
   "outputs": [
    {
     "data": {
      "text/plain": [
       "<seaborn.axisgrid.FacetGrid at 0x7fc3705d9be0>"
      ]
     },
     "execution_count": 91,
     "metadata": {},
     "output_type": "execute_result"
    },
    {
     "data": {
      "image/png": "[encoded data removed]",
      "text/plain": [
       "<Figure size 288x288 with 1 Axes>"
      ]
     },
     "metadata": {
      "needs_background": "light"
     },
     "output_type": "display_data"
    }
   ],
   "source": [
    "g = sns.lmplot(\n",
    "    data=df,\n",
    "    x=\"mu\",\n",
    "    y=\"obs\",\n",
    "    ci=None,\n",
    "    x_estimator=np.mean,\n",
    "    height=4,\n",
    ")\n",
    "g.set(\n",
    "    title=\"Synonymous\", \n",
    "    xlabel=\"mutability\", \n",
    "    ylabel=\"proportion observed\", \n",
    "    #xscale=\"log\",\n",
    "    ylim=(0,1),\n",
    "    xlim=(8*10**-10, 3*10**-7)\n",
    ")"
   ]
  },
  {
   "cell_type": "markdown",
   "id": "3288cb69",
   "metadata": {},
   "source": [
    "## Square root mutability"
   ]
  },
  {
   "cell_type": "code",
   "execution_count": 20,
   "id": "2c43652e",
   "metadata": {},
   "outputs": [],
   "source": [
    "df[\"sqrt_mu\"] = np.sqrt(df[\"mu\"])"
   ]
  },
  {
   "cell_type": "code",
   "execution_count": 94,
   "id": "6d2b2140",
   "metadata": {},
   "outputs": [
    {
     "data": {
      "text/plain": [
       "<seaborn.axisgrid.FacetGrid at 0x7fc3704ed0f0>"
      ]
     },
     "execution_count": 94,
     "metadata": {},
     "output_type": "execute_result"
    },
    {
     "data": {
      "image/png": "[encoded data removed]",
      "text/plain": [
       "<Figure size 288x288 with 1 Axes>"
      ]
     },
     "metadata": {
      "needs_background": "light"
     },
     "output_type": "display_data"
    }
   ],
   "source": [
    "g = sns.lmplot(\n",
    "    data=df,\n",
    "    x=\"sqrt_mu\",\n",
    "    y=\"obs\",\n",
    "    ci=None,\n",
    "    x_estimator=np.mean,\n",
    "    height=4,\n",
    ")\n",
    "g.set(title=\"Synonymous\", \n",
    "      xlabel=\"sqrt(mu)\", \n",
    "      ylabel=\"proportion observed\", \n",
    "      #xscale=\"log\",\n",
    "      xlim=(2.9*10**-5,5*10**-4),\n",
    "      ylim=(0,1),\n",
    "     )"
   ]
  },
  {
   "cell_type": "markdown",
   "id": "502d323c",
   "metadata": {},
   "source": [
    "## Exponential mutability"
   ]
  },
  {
   "cell_type": "code",
   "execution_count": 118,
   "id": "355ded14",
   "metadata": {},
   "outputs": [],
   "source": [
    "fit_mu = np.polyfit(stats[\"mu\"], np.log(stats[\"obs\"]), 1)"
   ]
  },
  {
   "cell_type": "code",
   "execution_count": 127,
   "id": "d57f930d",
   "metadata": {},
   "outputs": [
    {
     "name": "stderr",
     "output_type": "stream",
     "text": [
      "/opt/conda/lib/python3.6/site-packages/pandas/core/series.py:726: RuntimeWarning: divide by zero encountered in log\n",
      "  result = getattr(ufunc, method)(*inputs, **kwargs)\n"
     ]
    }
   ],
   "source": [
    "df[\"log_obs\"] = np.log(df[\"obs\"])"
   ]
  },
  {
   "cell_type": "code",
   "execution_count": 125,
   "id": "a207e4c8",
   "metadata": {},
   "outputs": [
    {
     "data": {
      "text/plain": [
       "<seaborn.axisgrid.FacetGrid at 0x7fc370266668>"
      ]
     },
     "execution_count": 125,
     "metadata": {},
     "output_type": "execute_result"
    },
    {
     "data": {
      "image/png": "[encoded data removed]",
      "text/plain": [
       "<Figure size 288x288 with 1 Axes>"
      ]
     },
     "metadata": {
      "needs_background": "light"
     },
     "output_type": "display_data"
    }
   ],
   "source": [
    "g = sns.lmplot(\n",
    "    data=df,\n",
    "    x=\"exp_mu\",\n",
    "    y=\"obs\",\n",
    "    ci=None,\n",
    "    x_estimator=np.mean,\n",
    "    height=4,\n",
    ")\n",
    "g.set(title=\"Synonymous\", \n",
    "      xlabel=\"exp(mu)\", \n",
    "      ylabel=\"proportion observed\", \n",
    "      #xscale=\"log\",\n",
    "      #xlim=(-21, -15),\n",
    "      #ylim=(0,1),\n",
    "     )"
   ]
  },
  {
   "cell_type": "markdown",
   "id": "2748b841",
   "metadata": {},
   "source": [
    "# Statistics"
   ]
  },
  {
   "cell_type": "code",
   "execution_count": 21,
   "id": "cbf5e661",
   "metadata": {},
   "outputs": [],
   "source": [
    "stats = (\n",
    "    df.groupby([\"tri\", \"ref\", \"alt\", \"lvl\"])\n",
    "    .agg({\"mu\": \"mean\", \"sqrt_mu\": \"mean\", \"obs\": \"mean\", \"pos\": \"count\"})\n",
    "    .reset_index()\n",
    ")\n",
    "stats.to_csv(\"../outputs/mutational_model_stats.tsv\", sep=\"\\t\", index=False)"
   ]
  },
  {
   "cell_type": "code",
   "execution_count": 66,
   "id": "2f342493",
   "metadata": {},
   "outputs": [
    {
     "data": {
      "image/png": "[encoded data removed]",
      "text/plain": [
       "<Figure size 432x288 with 1 Axes>"
      ]
     },
     "metadata": {
      "needs_background": "light"
     },
     "output_type": "display_data"
    }
   ],
   "source": [
    "f = sns.residplot(data=stats, x=\"sqrt_mu\", y=\"obs\")"
   ]
  },
  {
   "cell_type": "code",
   "execution_count": 67,
   "id": "1c283798",
   "metadata": {},
   "outputs": [
    {
     "name": "stdout",
     "output_type": "stream",
     "text": [
      "                            OLS Regression Results                            \n",
      "==============================================================================\n",
      "Dep. Variable:                    obs   R-squared:                       0.836\n",
      "Model:                            OLS   Adj. R-squared:                  0.836\n",
      "Method:                 Least Squares   F-statistic:                     1541.\n",
      "Date:                Mon, 06 Mar 2023   Prob (F-statistic):          1.19e-120\n",
      "Time:                        17:50:04   Log-Likelihood:                 129.85\n",
      "No. Observations:                 304   AIC:                            -255.7\n",
      "Df Residuals:                     302   BIC:                            -248.3\n",
      "Df Model:                           1                                         \n",
      "Covariance Type:            nonrobust                                         \n",
      "==============================================================================\n",
      "                 coef    std err          t      P>|t|      [0.025      0.975]\n",
      "------------------------------------------------------------------------------\n",
      "Intercept      0.1542      0.011     13.525      0.000       0.132       0.177\n",
      "mu           4.83e+06   1.23e+05     39.260      0.000    4.59e+06    5.07e+06\n",
      "==============================================================================\n",
      "Omnibus:                        8.286   Durbin-Watson:                   0.317\n",
      "Prob(Omnibus):                  0.016   Jarque-Bera (JB):                8.533\n",
      "Skew:                           0.392   Prob(JB):                       0.0140\n",
      "Kurtosis:                       2.755   Cond. No.                     1.35e+07\n",
      "==============================================================================\n",
      "\n",
      "Notes:\n",
      "[1] Standard Errors assume that the covariance matrix of the errors is correctly specified.\n",
      "[2] The smallest eigenvalue is 1.66e-12. This might indicate that there are\n",
      "strong multicollinearity problems or that the design matrix is singular.\n"
     ]
    }
   ],
   "source": [
    "# OLS on mu\n",
    "model = smf.ols(\"obs ~ mu\", data=stats).fit()\n",
    "print(model.summary())"
   ]
  },
  {
   "cell_type": "code",
   "execution_count": 68,
   "id": "4a863902",
   "metadata": {},
   "outputs": [
    {
     "name": "stdout",
     "output_type": "stream",
     "text": [
      "                            OLS Regression Results                            \n",
      "==============================================================================\n",
      "Dep. Variable:                    obs   R-squared:                       0.951\n",
      "Model:                            OLS   Adj. R-squared:                  0.951\n",
      "Method:                 Least Squares   F-statistic:                     5899.\n",
      "Date:                Mon, 06 Mar 2023   Prob (F-statistic):          3.11e-200\n",
      "Time:                        17:50:04   Log-Likelihood:                 314.24\n",
      "No. Observations:                 304   AIC:                            -624.5\n",
      "Df Residuals:                     302   BIC:                            -617.0\n",
      "Df Model:                           1                                         \n",
      "Covariance Type:            nonrobust                                         \n",
      "==============================================================================\n",
      "                 coef    std err          t      P>|t|      [0.025      0.975]\n",
      "------------------------------------------------------------------------------\n",
      "Intercept     -0.0101      0.008     -1.342      0.181      -0.025       0.005\n",
      "sqrt_mu     2441.1761     31.784     76.804      0.000    2378.629    2503.723\n",
      "==============================================================================\n",
      "Omnibus:                        9.952   Durbin-Watson:                   0.323\n",
      "Prob(Omnibus):                  0.007   Jarque-Bera (JB):               18.138\n",
      "Skew:                          -0.105   Prob(JB):                     0.000115\n",
      "Kurtosis:                       4.178   Cond. No.                     6.42e+03\n",
      "==============================================================================\n",
      "\n",
      "Notes:\n",
      "[1] Standard Errors assume that the covariance matrix of the errors is correctly specified.\n",
      "[2] The condition number is large, 6.42e+03. This might indicate that there are\n",
      "strong multicollinearity or other numerical problems.\n"
     ]
    }
   ],
   "source": [
    "# OLS on sqrt(mu)\n",
    "model = smf.ols(\"obs ~ sqrt_mu\", data=stats).fit()\n",
    "print(model.summary())"
   ]
  },
  {
   "cell_type": "code",
   "execution_count": 69,
   "id": "93344721",
   "metadata": {},
   "outputs": [
    {
     "name": "stdout",
     "output_type": "stream",
     "text": [
      "                            WLS Regression Results                            \n",
      "==============================================================================\n",
      "Dep. Variable:                    obs   R-squared:                       0.979\n",
      "Model:                            WLS   Adj. R-squared:                  0.979\n",
      "Method:                 Least Squares   F-statistic:                 1.415e+04\n",
      "Date:                Mon, 06 Mar 2023   Prob (F-statistic):          9.80e-256\n",
      "Time:                        17:50:04   Log-Likelihood:                 495.55\n",
      "No. Observations:                 304   AIC:                            -987.1\n",
      "Df Residuals:                     302   BIC:                            -979.7\n",
      "Df Model:                           1                                         \n",
      "Covariance Type:            nonrobust                                         \n",
      "==============================================================================\n",
      "                 coef    std err          t      P>|t|      [0.025      0.975]\n",
      "------------------------------------------------------------------------------\n",
      "Intercept     -0.0640      0.002    -30.441      0.000      -0.068      -0.060\n",
      "sqrt_mu     3039.8515     25.554    118.960      0.000    2989.566    3090.137\n",
      "==============================================================================\n",
      "Omnibus:                       19.357   Durbin-Watson:                   1.760\n",
      "Prob(Omnibus):                  0.000   Jarque-Bera (JB):               41.739\n",
      "Skew:                           0.301   Prob(JB):                     8.64e-10\n",
      "Kurtosis:                       4.713   Cond. No.                     2.22e+04\n",
      "==============================================================================\n",
      "\n",
      "Notes:\n",
      "[1] Standard Errors assume that the covariance matrix of the errors is correctly specified.\n",
      "[2] The condition number is large, 2.22e+04. This might indicate that there are\n",
      "strong multicollinearity or other numerical problems.\n"
     ]
    }
   ],
   "source": [
    "# Weighted linear model\n",
    "model = smf.wls(\"obs ~ sqrt_mu\", data=stats, weights=stats[\"pos\"]).fit()\n",
    "print(model.summary())"
   ]
  },
  {
   "cell_type": "code",
   "execution_count": null,
   "id": "4003003b",
   "metadata": {},
   "outputs": [],
   "source": []
  }
 ],
 "metadata": {
  "kernelspec": {
   "display_name": "Python 3",
   "language": "python",
   "name": "python3"
  },
  "language_info": {
   "codemirror_mode": {
    "name": "ipython",
    "version": 3
   },
   "file_extension": ".py",
   "mimetype": "text/x-python",
   "name": "python",
   "nbconvert_exporter": "python",
   "pygments_lexer": "ipython3",
   "version": "3.6.5"
  }
 },
 "nbformat": 4,
 "nbformat_minor": 5
}
