{
 "cells": [
  {
   "cell_type": "markdown",
   "id": "49c2677e",
   "metadata": {},
   "source": [
    "# Expected variants\n",
    "This script determines the expected number of variants per transcript and consequence"
   ]
  },
  {
   "cell_type": "markdown",
   "id": "1b3db4ee",
   "metadata": {},
   "source": [
    "## Import modules"
   ]
  },
  {
   "cell_type": "code",
   "execution_count": 1,
   "id": "777f5c59",
   "metadata": {},
   "outputs": [],
   "source": [
    "import numpy as np\n",
    "import pandas as pd\n",
    "from collections import defaultdict\n",
    "import matplotlib.pyplot as plt\n",
    "import seaborn as sns\n",
    "from scipy import stats as _stats\n",
    "import statsmodels.formula.api as smf\n",
    "from statsmodels.stats.proportion import proportions_ztest\n",
    "\n",
    "sns.set_context(\"talk\")"
   ]
  },
  {
   "cell_type": "markdown",
   "id": "8f8bff75",
   "metadata": {
    "tags": []
   },
   "source": [
    "## Load data"
   ]
  },
  {
   "cell_type": "code",
   "execution_count": 2,
   "id": "6c324070-e288-4316-ae4f-07286a82cb61",
   "metadata": {},
   "outputs": [],
   "source": [
    "# Load mutational model summary statistics\n",
    "mu = pd.read_csv(\"../outputs/mutational_model_stats.tsv\", sep=\"\\t\")"
   ]
  },
  {
   "cell_type": "code",
   "execution_count": 3,
   "id": "9e95ecef-0a9c-4bd6-97a5-0f0640baebb0",
   "metadata": {
    "tags": []
   },
   "outputs": [],
   "source": [
    "# A function to retrieve the standard error of a proportion\n",
    "def sem(p, n): return np.sqrt((p*(1-p))/n)"
   ]
  },
  {
   "cell_type": "markdown",
   "id": "b34dd3af-5970-492c-b641-fe8ed6a43518",
   "metadata": {
    "tags": []
   },
   "source": [
    "### Exclusions"
   ]
  },
  {
   "cell_type": "code",
   "execution_count": 4,
   "id": "91428791-4858-43ca-ad57-0d7132bae350",
   "metadata": {},
   "outputs": [],
   "source": [
    "# Exclude CpG transitions \n",
    "mu_cpg = mu[mu[\"variant_type\"] != \"CpG\"].copy()"
   ]
  },
  {
   "cell_type": "code",
   "execution_count": 5,
   "id": "73135b65-085e-4548-ad75-4ff28943e7a7",
   "metadata": {},
   "outputs": [
    {
     "data": {
      "text/html": [
       "<table class=\"simpletable\">\n",
       "<caption>WLS Regression Results</caption>\n",
       "<tr>\n",
       "  <th>Dep. Variable:</th>       <td>obs</td>    <th>  R-squared:         </th> <td>   0.951</td> \n",
       "</tr>\n",
       "<tr>\n",
       "  <th>Model:</th>               <td>WLS</td>    <th>  Adj. R-squared:    </th> <td>   0.951</td> \n",
       "</tr>\n",
       "<tr>\n",
       "  <th>No. Observations:</th>  <td>   176</td>   <th>  F-statistic:       </th> <td>   3372.</td> \n",
       "</tr>\n",
       "<tr>\n",
       "  <th>Covariance Type:</th>  <td>nonrobust</td> <th>  Prob (F-statistic):</th> <td>7.84e-116</td>\n",
       "</tr>\n",
       "</table>\n",
       "<table class=\"simpletable\">\n",
       "<tr>\n",
       "      <td></td>         <th>coef</th>     <th>std err</th>      <th>t</th>      <th>P>|t|</th>  <th>[0.025</th>    <th>0.975]</th>  \n",
       "</tr>\n",
       "<tr>\n",
       "  <th>Intercept</th> <td>    0.0110</td> <td>    0.002</td> <td>    5.465</td> <td> 0.000</td> <td>    0.007</td> <td>    0.015</td>\n",
       "</tr>\n",
       "<tr>\n",
       "  <th>mu</th>        <td> 2.554e+07</td> <td>  4.4e+05</td> <td>   58.067</td> <td> 0.000</td> <td> 2.47e+07</td> <td> 2.64e+07</td>\n",
       "</tr>\n",
       "</table><br/><br/>Notes:<br/>[1] Standard Errors assume that the covariance matrix of the errors is correctly specified.<br/>[2] The smallest eigenvalue is 1.22e-15. This might indicate that there are<br/>strong multicollinearity problems or that the design matrix is singular."
      ],
      "text/plain": [
       "<class 'statsmodels.iolib.summary.Summary'>\n",
       "\"\"\"\n",
       "                            WLS Regression Results                            \n",
       "==============================================================================\n",
       "Dep. Variable:                    obs   R-squared:                       0.951\n",
       "Model:                            WLS   Adj. R-squared:                  0.951\n",
       "No. Observations:                 176   F-statistic:                     3372.\n",
       "Covariance Type:            nonrobust   Prob (F-statistic):          7.84e-116\n",
       "==============================================================================\n",
       "                 coef    std err          t      P>|t|      [0.025      0.975]\n",
       "------------------------------------------------------------------------------\n",
       "Intercept      0.0110      0.002      5.465      0.000       0.007       0.015\n",
       "mu          2.554e+07    4.4e+05     58.067      0.000    2.47e+07    2.64e+07\n",
       "==============================================================================\n",
       "\n",
       "Notes:\n",
       "[1] Standard Errors assume that the covariance matrix of the errors is correctly specified.\n",
       "[2] The smallest eigenvalue is 1.22e-15. This might indicate that there are\n",
       "strong multicollinearity problems or that the design matrix is singular.\n",
       "\"\"\""
      ]
     },
     "execution_count": 5,
     "metadata": {},
     "output_type": "execute_result"
    }
   ],
   "source": [
    "model = smf.wls(\"obs ~ mu\", data = mu_cpg).fit()\n",
    "model.summary(slim=True)"
   ]
  },
  {
   "cell_type": "markdown",
   "id": "b4a8f031-b909-4f95-8ca1-14d16edccc44",
   "metadata": {},
   "source": [
    "### Weight by number of possible variants"
   ]
  },
  {
   "cell_type": "code",
   "execution_count": 6,
   "id": "b42a3c4a-36e9-4c8e-bf8f-0846526d943f",
   "metadata": {},
   "outputs": [
    {
     "data": {
      "text/html": [
       "<table class=\"simpletable\">\n",
       "<caption>WLS Regression Results</caption>\n",
       "<tr>\n",
       "  <th>Dep. Variable:</th>       <td>obs</td>    <th>  R-squared:         </th> <td>   0.959</td> \n",
       "</tr>\n",
       "<tr>\n",
       "  <th>Model:</th>               <td>WLS</td>    <th>  Adj. R-squared:    </th> <td>   0.959</td> \n",
       "</tr>\n",
       "<tr>\n",
       "  <th>No. Observations:</th>  <td>   176</td>   <th>  F-statistic:       </th> <td>   4083.</td> \n",
       "</tr>\n",
       "<tr>\n",
       "  <th>Covariance Type:</th>  <td>nonrobust</td> <th>  Prob (F-statistic):</th> <td>9.71e-123</td>\n",
       "</tr>\n",
       "</table>\n",
       "<table class=\"simpletable\">\n",
       "<tr>\n",
       "      <td></td>         <th>coef</th>     <th>std err</th>      <th>t</th>      <th>P>|t|</th>  <th>[0.025</th>    <th>0.975]</th>  \n",
       "</tr>\n",
       "<tr>\n",
       "  <th>Intercept</th> <td>    0.0121</td> <td>    0.002</td> <td>    5.790</td> <td> 0.000</td> <td>    0.008</td> <td>    0.016</td>\n",
       "</tr>\n",
       "<tr>\n",
       "  <th>mu</th>        <td> 2.574e+07</td> <td> 4.03e+05</td> <td>   63.897</td> <td> 0.000</td> <td> 2.49e+07</td> <td> 2.65e+07</td>\n",
       "</tr>\n",
       "</table><br/><br/>Notes:<br/>[1] Standard Errors assume that the covariance matrix of the errors is correctly specified.<br/>[2] The condition number is large, 3.56e+08. This might indicate that there are<br/>strong multicollinearity or other numerical problems."
      ],
      "text/plain": [
       "<class 'statsmodels.iolib.summary.Summary'>\n",
       "\"\"\"\n",
       "                            WLS Regression Results                            \n",
       "==============================================================================\n",
       "Dep. Variable:                    obs   R-squared:                       0.959\n",
       "Model:                            WLS   Adj. R-squared:                  0.959\n",
       "No. Observations:                 176   F-statistic:                     4083.\n",
       "Covariance Type:            nonrobust   Prob (F-statistic):          9.71e-123\n",
       "==============================================================================\n",
       "                 coef    std err          t      P>|t|      [0.025      0.975]\n",
       "------------------------------------------------------------------------------\n",
       "Intercept      0.0121      0.002      5.790      0.000       0.008       0.016\n",
       "mu          2.574e+07   4.03e+05     63.897      0.000    2.49e+07    2.65e+07\n",
       "==============================================================================\n",
       "\n",
       "Notes:\n",
       "[1] Standard Errors assume that the covariance matrix of the errors is correctly specified.\n",
       "[2] The condition number is large, 3.56e+08. This might indicate that there are\n",
       "strong multicollinearity or other numerical problems.\n",
       "\"\"\""
      ]
     },
     "execution_count": 6,
     "metadata": {},
     "output_type": "execute_result"
    }
   ],
   "source": [
    "model = smf.wls(\"obs ~ mu\", data = mu_cpg, weights=mu_cpg[\"pos\"]).fit()\n",
    "model.summary(slim=True)"
   ]
  },
  {
   "cell_type": "markdown",
   "id": "2d282d67-9346-4efe-8b74-eb2b25868fd5",
   "metadata": {},
   "source": [
    "### Weight by 1 / standard error of the proportion of observed variants"
   ]
  },
  {
   "cell_type": "code",
   "execution_count": 7,
   "id": "e8c81a16-f892-49b7-9e7a-14b2580364ba",
   "metadata": {},
   "outputs": [
    {
     "data": {
      "text/html": [
       "<table class=\"simpletable\">\n",
       "<caption>WLS Regression Results</caption>\n",
       "<tr>\n",
       "  <th>Dep. Variable:</th>       <td>obs</td>    <th>  R-squared:         </th> <td>   0.958</td> \n",
       "</tr>\n",
       "<tr>\n",
       "  <th>Model:</th>               <td>WLS</td>    <th>  Adj. R-squared:    </th> <td>   0.958</td> \n",
       "</tr>\n",
       "<tr>\n",
       "  <th>No. Observations:</th>  <td>   176</td>   <th>  F-statistic:       </th> <td>   3991.</td> \n",
       "</tr>\n",
       "<tr>\n",
       "  <th>Covariance Type:</th>  <td>nonrobust</td> <th>  Prob (F-statistic):</th> <td>6.45e-122</td>\n",
       "</tr>\n",
       "</table>\n",
       "<table class=\"simpletable\">\n",
       "<tr>\n",
       "      <td></td>         <th>coef</th>     <th>std err</th>      <th>t</th>      <th>P>|t|</th>  <th>[0.025</th>    <th>0.975]</th>  \n",
       "</tr>\n",
       "<tr>\n",
       "  <th>Intercept</th> <td>    0.0084</td> <td>    0.002</td> <td>    4.883</td> <td> 0.000</td> <td>    0.005</td> <td>    0.012</td>\n",
       "</tr>\n",
       "<tr>\n",
       "  <th>mu</th>        <td> 2.613e+07</td> <td> 4.14e+05</td> <td>   63.176</td> <td> 0.000</td> <td> 2.53e+07</td> <td> 2.69e+07</td>\n",
       "</tr>\n",
       "</table><br/><br/>Notes:<br/>[1] Standard Errors assume that the covariance matrix of the errors is correctly specified.<br/>[2] The smallest eigenvalue is 1.35e-12. This might indicate that there are<br/>strong multicollinearity problems or that the design matrix is singular."
      ],
      "text/plain": [
       "<class 'statsmodels.iolib.summary.Summary'>\n",
       "\"\"\"\n",
       "                            WLS Regression Results                            \n",
       "==============================================================================\n",
       "Dep. Variable:                    obs   R-squared:                       0.958\n",
       "Model:                            WLS   Adj. R-squared:                  0.958\n",
       "No. Observations:                 176   F-statistic:                     3991.\n",
       "Covariance Type:            nonrobust   Prob (F-statistic):          6.45e-122\n",
       "==============================================================================\n",
       "                 coef    std err          t      P>|t|      [0.025      0.975]\n",
       "------------------------------------------------------------------------------\n",
       "Intercept      0.0084      0.002      4.883      0.000       0.005       0.012\n",
       "mu          2.613e+07   4.14e+05     63.176      0.000    2.53e+07    2.69e+07\n",
       "==============================================================================\n",
       "\n",
       "Notes:\n",
       "[1] Standard Errors assume that the covariance matrix of the errors is correctly specified.\n",
       "[2] The smallest eigenvalue is 1.35e-12. This might indicate that there are\n",
       "strong multicollinearity problems or that the design matrix is singular.\n",
       "\"\"\""
      ]
     },
     "execution_count": 7,
     "metadata": {},
     "output_type": "execute_result"
    }
   ],
   "source": [
    "model = smf.wls(\"obs ~ mu\", data = mu_cpg, weights=(1 / sem(mu_cpg[\"obs\"],mu_cpg[\"pos\"]))).fit()\n",
    "model.summary(slim=True)"
   ]
  },
  {
   "cell_type": "markdown",
   "id": "d5c5481a-9a84-47d0-8cc9-f94a1ebfe340",
   "metadata": {},
   "source": [
    "### No weighting"
   ]
  },
  {
   "cell_type": "code",
   "execution_count": 8,
   "id": "135f2934-b1dc-4ce5-aa15-5b0d239371a2",
   "metadata": {},
   "outputs": [
    {
     "data": {
      "text/html": [
       "<table class=\"simpletable\">\n",
       "<caption>WLS Regression Results</caption>\n",
       "<tr>\n",
       "  <th>Dep. Variable:</th>       <td>obs</td>    <th>  R-squared:         </th> <td>   0.960</td> \n",
       "</tr>\n",
       "<tr>\n",
       "  <th>Model:</th>               <td>WLS</td>    <th>  Adj. R-squared:    </th> <td>   0.960</td> \n",
       "</tr>\n",
       "<tr>\n",
       "  <th>No. Observations:</th>  <td>   176</td>   <th>  F-statistic:       </th> <td>   4156.</td> \n",
       "</tr>\n",
       "<tr>\n",
       "  <th>Covariance Type:</th>  <td>nonrobust</td> <th>  Prob (F-statistic):</th> <td>2.20e-123</td>\n",
       "</tr>\n",
       "</table>\n",
       "<table class=\"simpletable\">\n",
       "<tr>\n",
       "       <td></td>          <th>coef</th>     <th>std err</th>      <th>t</th>      <th>P>|t|</th>  <th>[0.025</th>    <th>0.975]</th>  \n",
       "</tr>\n",
       "<tr>\n",
       "  <th>Intercept</th>   <td>   -0.0831</td> <td>    0.003</td> <td>  -26.682</td> <td> 0.000</td> <td>   -0.089</td> <td>   -0.077</td>\n",
       "</tr>\n",
       "<tr>\n",
       "  <th>np.sqrt(mu)</th> <td> 3291.2322</td> <td>   51.052</td> <td>   64.469</td> <td> 0.000</td> <td> 3190.472</td> <td> 3391.993</td>\n",
       "</tr>\n",
       "</table><br/><br/>Notes:<br/>[1] Standard Errors assume that the covariance matrix of the errors is correctly specified.<br/>[2] The condition number is large, 4.87e+04. This might indicate that there are<br/>strong multicollinearity or other numerical problems."
      ],
      "text/plain": [
       "<class 'statsmodels.iolib.summary.Summary'>\n",
       "\"\"\"\n",
       "                            WLS Regression Results                            \n",
       "==============================================================================\n",
       "Dep. Variable:                    obs   R-squared:                       0.960\n",
       "Model:                            WLS   Adj. R-squared:                  0.960\n",
       "No. Observations:                 176   F-statistic:                     4156.\n",
       "Covariance Type:            nonrobust   Prob (F-statistic):          2.20e-123\n",
       "===============================================================================\n",
       "                  coef    std err          t      P>|t|      [0.025      0.975]\n",
       "-------------------------------------------------------------------------------\n",
       "Intercept      -0.0831      0.003    -26.682      0.000      -0.089      -0.077\n",
       "np.sqrt(mu)  3291.2322     51.052     64.469      0.000    3190.472    3391.993\n",
       "===============================================================================\n",
       "\n",
       "Notes:\n",
       "[1] Standard Errors assume that the covariance matrix of the errors is correctly specified.\n",
       "[2] The condition number is large, 4.87e+04. This might indicate that there are\n",
       "strong multicollinearity or other numerical problems.\n",
       "\"\"\""
      ]
     },
     "execution_count": 8,
     "metadata": {},
     "output_type": "execute_result"
    }
   ],
   "source": [
    "model = smf.wls(\"obs ~ np.sqrt(mu)\", data = mu_cpg,).fit()\n",
    "model.summary(slim=True)"
   ]
  },
  {
   "cell_type": "markdown",
   "id": "20890fec-8fb3-43b9-863e-536fb6c14e7d",
   "metadata": {},
   "source": [
    "### Weight by number of possible variants"
   ]
  },
  {
   "cell_type": "code",
   "execution_count": 9,
   "id": "00859f03-a0f0-402b-bb01-1ae72fcf0097",
   "metadata": {},
   "outputs": [
    {
     "data": {
      "text/html": [
       "<table class=\"simpletable\">\n",
       "<caption>WLS Regression Results</caption>\n",
       "<tr>\n",
       "  <th>Dep. Variable:</th>       <td>obs</td>    <th>  R-squared:         </th> <td>   0.969</td> \n",
       "</tr>\n",
       "<tr>\n",
       "  <th>Model:</th>               <td>WLS</td>    <th>  Adj. R-squared:    </th> <td>   0.968</td> \n",
       "</tr>\n",
       "<tr>\n",
       "  <th>No. Observations:</th>  <td>   176</td>   <th>  F-statistic:       </th> <td>   5360.</td> \n",
       "</tr>\n",
       "<tr>\n",
       "  <th>Covariance Type:</th>  <td>nonrobust</td> <th>  Prob (F-statistic):</th> <td>1.19e-132</td>\n",
       "</tr>\n",
       "</table>\n",
       "<table class=\"simpletable\">\n",
       "<tr>\n",
       "       <td></td>          <th>coef</th>     <th>std err</th>      <th>t</th>      <th>P>|t|</th>  <th>[0.025</th>    <th>0.975]</th>  \n",
       "</tr>\n",
       "<tr>\n",
       "  <th>Intercept</th>   <td>   -0.0877</td> <td>    0.003</td> <td>  -28.678</td> <td> 0.000</td> <td>   -0.094</td> <td>   -0.082</td>\n",
       "</tr>\n",
       "<tr>\n",
       "  <th>np.sqrt(mu)</th> <td> 3393.2236</td> <td>   46.350</td> <td>   73.209</td> <td> 0.000</td> <td> 3301.743</td> <td> 3484.704</td>\n",
       "</tr>\n",
       "</table><br/><br/>Notes:<br/>[1] Standard Errors assume that the covariance matrix of the errors is correctly specified.<br/>[2] The condition number is large, 4.67e+04. This might indicate that there are<br/>strong multicollinearity or other numerical problems."
      ],
      "text/plain": [
       "<class 'statsmodels.iolib.summary.Summary'>\n",
       "\"\"\"\n",
       "                            WLS Regression Results                            \n",
       "==============================================================================\n",
       "Dep. Variable:                    obs   R-squared:                       0.969\n",
       "Model:                            WLS   Adj. R-squared:                  0.968\n",
       "No. Observations:                 176   F-statistic:                     5360.\n",
       "Covariance Type:            nonrobust   Prob (F-statistic):          1.19e-132\n",
       "===============================================================================\n",
       "                  coef    std err          t      P>|t|      [0.025      0.975]\n",
       "-------------------------------------------------------------------------------\n",
       "Intercept      -0.0877      0.003    -28.678      0.000      -0.094      -0.082\n",
       "np.sqrt(mu)  3393.2236     46.350     73.209      0.000    3301.743    3484.704\n",
       "===============================================================================\n",
       "\n",
       "Notes:\n",
       "[1] Standard Errors assume that the covariance matrix of the errors is correctly specified.\n",
       "[2] The condition number is large, 4.67e+04. This might indicate that there are\n",
       "strong multicollinearity or other numerical problems.\n",
       "\"\"\""
      ]
     },
     "execution_count": 9,
     "metadata": {},
     "output_type": "execute_result"
    }
   ],
   "source": [
    "model = smf.wls(\"obs ~ np.sqrt(mu)\", data = mu_cpg, weights=mu_cpg[\"pos\"]).fit()\n",
    "model.summary(slim=True)"
   ]
  },
  {
   "cell_type": "markdown",
   "id": "b64eec3b-ef1e-4c4c-97fa-75efa7830256",
   "metadata": {},
   "source": [
    "### Weight by 1 / standard error of the proportion of observed variants"
   ]
  },
  {
   "cell_type": "code",
   "execution_count": 10,
   "id": "34b468ec-45b8-4dea-ae87-e2a294db8235",
   "metadata": {},
   "outputs": [
    {
     "data": {
      "text/html": [
       "<table class=\"simpletable\">\n",
       "<caption>WLS Regression Results</caption>\n",
       "<tr>\n",
       "  <th>Dep. Variable:</th>       <td>obs</td>    <th>  R-squared:         </th> <td>   0.961</td> \n",
       "</tr>\n",
       "<tr>\n",
       "  <th>Model:</th>               <td>WLS</td>    <th>  Adj. R-squared:    </th> <td>   0.961</td> \n",
       "</tr>\n",
       "<tr>\n",
       "  <th>No. Observations:</th>  <td>   176</td>   <th>  F-statistic:       </th> <td>   4274.</td> \n",
       "</tr>\n",
       "<tr>\n",
       "  <th>Covariance Type:</th>  <td>nonrobust</td> <th>  Prob (F-statistic):</th> <td>2.13e-124</td>\n",
       "</tr>\n",
       "</table>\n",
       "<table class=\"simpletable\">\n",
       "<tr>\n",
       "       <td></td>          <th>coef</th>     <th>std err</th>      <th>t</th>      <th>P>|t|</th>  <th>[0.025</th>    <th>0.975]</th>  \n",
       "</tr>\n",
       "<tr>\n",
       "  <th>Intercept</th>   <td>   -0.0826</td> <td>    0.003</td> <td>  -28.436</td> <td> 0.000</td> <td>   -0.088</td> <td>   -0.077</td>\n",
       "</tr>\n",
       "<tr>\n",
       "  <th>np.sqrt(mu)</th> <td> 3288.9283</td> <td>   50.310</td> <td>   65.374</td> <td> 0.000</td> <td> 3189.633</td> <td> 3388.224</td>\n",
       "</tr>\n",
       "</table><br/><br/>Notes:<br/>[1] Standard Errors assume that the covariance matrix of the errors is correctly specified.<br/>[2] The condition number is large,  5e+04. This might indicate that there are<br/>strong multicollinearity or other numerical problems."
      ],
      "text/plain": [
       "<class 'statsmodels.iolib.summary.Summary'>\n",
       "\"\"\"\n",
       "                            WLS Regression Results                            \n",
       "==============================================================================\n",
       "Dep. Variable:                    obs   R-squared:                       0.961\n",
       "Model:                            WLS   Adj. R-squared:                  0.961\n",
       "No. Observations:                 176   F-statistic:                     4274.\n",
       "Covariance Type:            nonrobust   Prob (F-statistic):          2.13e-124\n",
       "===============================================================================\n",
       "                  coef    std err          t      P>|t|      [0.025      0.975]\n",
       "-------------------------------------------------------------------------------\n",
       "Intercept      -0.0826      0.003    -28.436      0.000      -0.088      -0.077\n",
       "np.sqrt(mu)  3288.9283     50.310     65.374      0.000    3189.633    3388.224\n",
       "===============================================================================\n",
       "\n",
       "Notes:\n",
       "[1] Standard Errors assume that the covariance matrix of the errors is correctly specified.\n",
       "[2] The condition number is large,  5e+04. This might indicate that there are\n",
       "strong multicollinearity or other numerical problems.\n",
       "\"\"\""
      ]
     },
     "execution_count": 10,
     "metadata": {},
     "output_type": "execute_result"
    }
   ],
   "source": [
    "model = smf.wls(\"obs ~ np.sqrt(mu)\", data = mu_cpg, weights=1/sem(mu_cpg[\"obs\"],mu_cpg[\"pos\"])).fit()\n",
    "model.summary(slim=True)"
   ]
  },
  {
   "cell_type": "markdown",
   "id": "2a05f0cd-77ce-4676-9faa-bf84291e0494",
   "metadata": {},
   "source": [
    "### No weighting"
   ]
  },
  {
   "cell_type": "code",
   "execution_count": 11,
   "id": "74f74631-56e8-4d85-9b6a-57c81d9ad159",
   "metadata": {},
   "outputs": [
    {
     "data": {
      "text/html": [
       "<table class=\"simpletable\">\n",
       "<caption>WLS Regression Results</caption>\n",
       "<tr>\n",
       "  <th>Dep. Variable:</th>    <td>np.log(1 - obs)</td> <th>  R-squared:         </th> <td>   0.956</td> \n",
       "</tr>\n",
       "<tr>\n",
       "  <th>Model:</th>                  <td>WLS</td>       <th>  Adj. R-squared:    </th> <td>   0.956</td> \n",
       "</tr>\n",
       "<tr>\n",
       "  <th>No. Observations:</th>     <td>   176</td>      <th>  F-statistic:       </th> <td>   3821.</td> \n",
       "</tr>\n",
       "<tr>\n",
       "  <th>Covariance Type:</th>     <td>nonrobust</td>    <th>  Prob (F-statistic):</th> <td>2.42e-120</td>\n",
       "</tr>\n",
       "</table>\n",
       "<table class=\"simpletable\">\n",
       "<tr>\n",
       "      <td></td>         <th>coef</th>     <th>std err</th>      <th>t</th>      <th>P>|t|</th>  <th>[0.025</th>    <th>0.975]</th>  \n",
       "</tr>\n",
       "<tr>\n",
       "  <th>Intercept</th> <td>   -0.0050</td> <td>    0.002</td> <td>   -2.289</td> <td> 0.023</td> <td>   -0.009</td> <td>   -0.001</td>\n",
       "</tr>\n",
       "<tr>\n",
       "  <th>mu</th>        <td> -2.96e+07</td> <td> 4.79e+05</td> <td>  -61.817</td> <td> 0.000</td> <td>-3.05e+07</td> <td>-2.87e+07</td>\n",
       "</tr>\n",
       "</table><br/><br/>Notes:<br/>[1] Standard Errors assume that the covariance matrix of the errors is correctly specified.<br/>[2] The smallest eigenvalue is 1.22e-15. This might indicate that there are<br/>strong multicollinearity problems or that the design matrix is singular."
      ],
      "text/plain": [
       "<class 'statsmodels.iolib.summary.Summary'>\n",
       "\"\"\"\n",
       "                            WLS Regression Results                            \n",
       "==============================================================================\n",
       "Dep. Variable:        np.log(1 - obs)   R-squared:                       0.956\n",
       "Model:                            WLS   Adj. R-squared:                  0.956\n",
       "No. Observations:                 176   F-statistic:                     3821.\n",
       "Covariance Type:            nonrobust   Prob (F-statistic):          2.42e-120\n",
       "==============================================================================\n",
       "                 coef    std err          t      P>|t|      [0.025      0.975]\n",
       "------------------------------------------------------------------------------\n",
       "Intercept     -0.0050      0.002     -2.289      0.023      -0.009      -0.001\n",
       "mu          -2.96e+07   4.79e+05    -61.817      0.000   -3.05e+07   -2.87e+07\n",
       "==============================================================================\n",
       "\n",
       "Notes:\n",
       "[1] Standard Errors assume that the covariance matrix of the errors is correctly specified.\n",
       "[2] The smallest eigenvalue is 1.22e-15. This might indicate that there are\n",
       "strong multicollinearity problems or that the design matrix is singular.\n",
       "\"\"\""
      ]
     },
     "execution_count": 11,
     "metadata": {},
     "output_type": "execute_result"
    }
   ],
   "source": [
    "model = smf.wls(\"np.log(1-obs) ~ mu\", data = mu_cpg).fit()\n",
    "model.summary(slim=True)"
   ]
  },
  {
   "cell_type": "markdown",
   "id": "16b6ce0d-c744-49b7-84e0-857730062b61",
   "metadata": {},
   "source": [
    "### Weight by number of possible variants"
   ]
  },
  {
   "cell_type": "code",
   "execution_count": 12,
   "id": "d47d6530-d94a-41f6-8241-4e88f41f0115",
   "metadata": {},
   "outputs": [
    {
     "data": {
      "text/html": [
       "<table class=\"simpletable\">\n",
       "<caption>WLS Regression Results</caption>\n",
       "<tr>\n",
       "  <th>Dep. Variable:</th>    <td>np.log(1 - obs)</td> <th>  R-squared:         </th> <td>   0.965</td> \n",
       "</tr>\n",
       "<tr>\n",
       "  <th>Model:</th>                  <td>WLS</td>       <th>  Adj. R-squared:    </th> <td>   0.964</td> \n",
       "</tr>\n",
       "<tr>\n",
       "  <th>No. Observations:</th>     <td>   176</td>      <th>  F-statistic:       </th> <td>   4739.</td> \n",
       "</tr>\n",
       "<tr>\n",
       "  <th>Covariance Type:</th>     <td>nonrobust</td>    <th>  Prob (F-statistic):</th> <td>3.71e-128</td>\n",
       "</tr>\n",
       "</table>\n",
       "<table class=\"simpletable\">\n",
       "<tr>\n",
       "      <td></td>         <th>coef</th>     <th>std err</th>      <th>t</th>      <th>P>|t|</th>  <th>[0.025</th>    <th>0.975]</th>  \n",
       "</tr>\n",
       "<tr>\n",
       "  <th>Intercept</th> <td>   -0.0055</td> <td>    0.002</td> <td>   -2.419</td> <td> 0.017</td> <td>   -0.010</td> <td>   -0.001</td>\n",
       "</tr>\n",
       "<tr>\n",
       "  <th>mu</th>        <td>-3.002e+07</td> <td> 4.36e+05</td> <td>  -68.840</td> <td> 0.000</td> <td>-3.09e+07</td> <td>-2.92e+07</td>\n",
       "</tr>\n",
       "</table><br/><br/>Notes:<br/>[1] Standard Errors assume that the covariance matrix of the errors is correctly specified.<br/>[2] The condition number is large, 3.56e+08. This might indicate that there are<br/>strong multicollinearity or other numerical problems."
      ],
      "text/plain": [
       "<class 'statsmodels.iolib.summary.Summary'>\n",
       "\"\"\"\n",
       "                            WLS Regression Results                            \n",
       "==============================================================================\n",
       "Dep. Variable:        np.log(1 - obs)   R-squared:                       0.965\n",
       "Model:                            WLS   Adj. R-squared:                  0.964\n",
       "No. Observations:                 176   F-statistic:                     4739.\n",
       "Covariance Type:            nonrobust   Prob (F-statistic):          3.71e-128\n",
       "==============================================================================\n",
       "                 coef    std err          t      P>|t|      [0.025      0.975]\n",
       "------------------------------------------------------------------------------\n",
       "Intercept     -0.0055      0.002     -2.419      0.017      -0.010      -0.001\n",
       "mu         -3.002e+07   4.36e+05    -68.840      0.000   -3.09e+07   -2.92e+07\n",
       "==============================================================================\n",
       "\n",
       "Notes:\n",
       "[1] Standard Errors assume that the covariance matrix of the errors is correctly specified.\n",
       "[2] The condition number is large, 3.56e+08. This might indicate that there are\n",
       "strong multicollinearity or other numerical problems.\n",
       "\"\"\""
      ]
     },
     "execution_count": 12,
     "metadata": {},
     "output_type": "execute_result"
    }
   ],
   "source": [
    "model = smf.wls(\"np.log(1-obs) ~ mu\", data = mu_cpg, weights=mu_cpg[\"pos\"]).fit()\n",
    "model.summary(slim=True)"
   ]
  },
  {
   "cell_type": "markdown",
   "id": "70518bde-a478-4513-af03-11c4de11af3c",
   "metadata": {},
   "source": [
    "### Weight by 1 / standard error of the observed proportion"
   ]
  },
  {
   "cell_type": "code",
   "execution_count": 13,
   "id": "b713f732-3a4a-486a-b842-bc9a45b9310a",
   "metadata": {},
   "outputs": [
    {
     "data": {
      "text/html": [
       "<table class=\"simpletable\">\n",
       "<caption>WLS Regression Results</caption>\n",
       "<tr>\n",
       "  <th>Dep. Variable:</th>    <td>np.log(1 - obs)</td> <th>  R-squared:         </th> <td>   0.963</td> \n",
       "</tr>\n",
       "<tr>\n",
       "  <th>Model:</th>                  <td>WLS</td>       <th>  Adj. R-squared:    </th> <td>   0.963</td> \n",
       "</tr>\n",
       "<tr>\n",
       "  <th>No. Observations:</th>     <td>   176</td>      <th>  F-statistic:       </th> <td>   4539.</td> \n",
       "</tr>\n",
       "<tr>\n",
       "  <th>Covariance Type:</th>     <td>nonrobust</td>    <th>  Prob (F-statistic):</th> <td>1.39e-126</td>\n",
       "</tr>\n",
       "</table>\n",
       "<table class=\"simpletable\">\n",
       "<tr>\n",
       "      <td></td>         <th>coef</th>     <th>std err</th>      <th>t</th>      <th>P>|t|</th>  <th>[0.025</th>    <th>0.975]</th>  \n",
       "</tr>\n",
       "<tr>\n",
       "  <th>Intercept</th> <td>   -0.0027</td> <td>    0.002</td> <td>   -1.445</td> <td> 0.150</td> <td>   -0.006</td> <td>    0.001</td>\n",
       "</tr>\n",
       "<tr>\n",
       "  <th>mu</th>        <td>-3.018e+07</td> <td> 4.48e+05</td> <td>  -67.370</td> <td> 0.000</td> <td>-3.11e+07</td> <td>-2.93e+07</td>\n",
       "</tr>\n",
       "</table><br/><br/>Notes:<br/>[1] Standard Errors assume that the covariance matrix of the errors is correctly specified.<br/>[2] The smallest eigenvalue is 1.35e-12. This might indicate that there are<br/>strong multicollinearity problems or that the design matrix is singular."
      ],
      "text/plain": [
       "<class 'statsmodels.iolib.summary.Summary'>\n",
       "\"\"\"\n",
       "                            WLS Regression Results                            \n",
       "==============================================================================\n",
       "Dep. Variable:        np.log(1 - obs)   R-squared:                       0.963\n",
       "Model:                            WLS   Adj. R-squared:                  0.963\n",
       "No. Observations:                 176   F-statistic:                     4539.\n",
       "Covariance Type:            nonrobust   Prob (F-statistic):          1.39e-126\n",
       "==============================================================================\n",
       "                 coef    std err          t      P>|t|      [0.025      0.975]\n",
       "------------------------------------------------------------------------------\n",
       "Intercept     -0.0027      0.002     -1.445      0.150      -0.006       0.001\n",
       "mu         -3.018e+07   4.48e+05    -67.370      0.000   -3.11e+07   -2.93e+07\n",
       "==============================================================================\n",
       "\n",
       "Notes:\n",
       "[1] Standard Errors assume that the covariance matrix of the errors is correctly specified.\n",
       "[2] The smallest eigenvalue is 1.35e-12. This might indicate that there are\n",
       "strong multicollinearity problems or that the design matrix is singular.\n",
       "\"\"\""
      ]
     },
     "execution_count": 13,
     "metadata": {},
     "output_type": "execute_result"
    }
   ],
   "source": [
    "model = smf.wls(\"np.log(1-obs) ~ mu\", data = mu_cpg, weights=1/sem(mu_cpg[\"obs\"], mu_cpg[\"pos\"])).fit()\n",
    "model.summary(slim=True)"
   ]
  },
  {
   "cell_type": "markdown",
   "id": "28a28f5e-6573-4c8a-aaad-6ad7ec2699ac",
   "metadata": {
    "tags": []
   },
   "source": [
    "## Calculate expected variants per transcript, context, and NMD annotation"
   ]
  },
  {
   "cell_type": "code",
   "execution_count": 14,
   "id": "4d29afdd",
   "metadata": {},
   "outputs": [],
   "source": [
    "def get_expected(df, x):\n",
    "    \"\"\" \n",
    "    Get the expected proportion of variants per transcript and consequence. \n",
    "    x is a lambda function used to predict the expected value.\n",
    "    \"\"\"\n",
    "    df = (df.assign(\n",
    "            prop_obs=lambda x: x[\"n_obs\"] / x[\"n_pos\"],\n",
    "            prop_exp=x,\n",
    "            n_exp=lambda x: np.round(x[\"n_pos\"] * x[\"prop_exp\"], 2),\n",
    "            oe=lambda x: x[\"n_obs\"] / x[\"n_exp\"],\n",
    "    )\n",
    "        .set_index([\"enst\",\"csq\",\"nmd\"])\n",
    "        .unstack(fill_value=0).stack().reset_index()\n",
    "    )\n",
    "    # Z scores and p-values\n",
    "    df[\"z\"] = df.apply(\n",
    "        lambda x: (\n",
    "            proportions_ztest(\n",
    "                x[\"n_obs\"],\n",
    "                x[\"n_pos\"],\n",
    "                x[\"prop_exp\"],\n",
    "                alternative=\"smaller\",\n",
    "                prop_var=x[\"prop_exp\"],\n",
    "            )[0]\n",
    "        ),\n",
    "        axis=1,\n",
    "    )\n",
    "    df[\"p\"] = df.apply(\n",
    "        lambda x: proportions_ztest(\n",
    "            x[\"n_obs\"],\n",
    "            x[\"n_pos\"],\n",
    "            x[\"prop_exp\"],\n",
    "            alternative=\"smaller\",\n",
    "            prop_var=x[\"prop_exp\"],\n",
    "        )[1],\n",
    "        axis=1,\n",
    "    )\n",
    "    return df"
   ]
  },
  {
   "cell_type": "markdown",
   "id": "a0d9b094-b4de-49da-8bf5-98f8185fc6c3",
   "metadata": {},
   "source": [
    "### Choose expectation model"
   ]
  },
  {
   "cell_type": "code",
   "execution_count": 15,
   "id": "565bfc70-65fa-4e1d-bf1e-83ffc0059ead",
   "metadata": {},
   "outputs": [],
   "source": [
    "# Linear model\n",
    "fit = np.polyfit(mu_cpg[\"mu\"], mu_cpg[\"obs\"], 1, w = mu_cpg[\"pos\"])\n",
    "lm_p = np.poly1d(fit)"
   ]
  },
  {
   "cell_type": "markdown",
   "id": "6d2e3312-cd7e-4caf-a74b-5c529c30eced",
   "metadata": {},
   "source": [
    "### Get the summary data of possible and observed variants"
   ]
  },
  {
   "cell_type": "code",
   "execution_count": 16,
   "id": "e94de165-0de7-429e-ad9c-52f82dfceab0",
   "metadata": {},
   "outputs": [],
   "source": [
    "# No CpG variants\n",
    "df_cpg = pd.read_csv(\"../outputs/observed_variants_stats_no_cpg_nmd.tsv\", sep=\"\\t\")"
   ]
  },
  {
   "cell_type": "markdown",
   "id": "08fbc0e4-99e9-460b-982f-6871751ea118",
   "metadata": {},
   "source": [
    "### Calculate the number of expected variants using each model"
   ]
  },
  {
   "cell_type": "code",
   "execution_count": 17,
   "id": "bc57f877-822c-4fa9-a8d2-0b578e56a087",
   "metadata": {},
   "outputs": [
    {
     "name": "stderr",
     "output_type": "stream",
     "text": [
      "/opt/conda/lib/python3.8/site-packages/statsmodels/stats/proportion.py:846: RuntimeWarning: invalid value encountered in double_scalars\n",
      "  prop = count * 1. / nobs\n",
      "/opt/conda/lib/python3.8/site-packages/statsmodels/stats/proportion.py:860: RuntimeWarning: invalid value encountered in double_scalars\n",
      "  p_pooled = np.sum(count) * 1. / np.sum(nobs)\n",
      "/opt/conda/lib/python3.8/site-packages/statsmodels/stats/proportion.py:862: RuntimeWarning: divide by zero encountered in double_scalars\n",
      "  nobs_fact = np.sum(1. / nobs)\n",
      "/opt/conda/lib/python3.8/site-packages/statsmodels/stats/proportion.py:846: RuntimeWarning: invalid value encountered in double_scalars\n",
      "  prop = count * 1. / nobs\n",
      "/opt/conda/lib/python3.8/site-packages/statsmodels/stats/proportion.py:860: RuntimeWarning: invalid value encountered in double_scalars\n",
      "  p_pooled = np.sum(count) * 1. / np.sum(nobs)\n",
      "/opt/conda/lib/python3.8/site-packages/statsmodels/stats/proportion.py:862: RuntimeWarning: divide by zero encountered in double_scalars\n",
      "  nobs_fact = np.sum(1. / nobs)\n"
     ]
    }
   ],
   "source": [
    "# No CpGs\n",
    "df_cpg_lm = get_expected(df=df_cpg, x=lambda x: lm_p(x[\"mu\"])) # Linear model"
   ]
  },
  {
   "cell_type": "markdown",
   "id": "dc4aa317-02bb-4b26-8cb0-a3a852bd435c",
   "metadata": {},
   "source": [
    "## Save expected variants to output\n",
    "On the basis of the figures above, the **best model** for predicting the expected number of variants (excluding CpG transitions) is a **simple linear model of obs vs mu**, weighted by the number of possible variants per context. The output of this expectation model is saved below."
   ]
  },
  {
   "cell_type": "code",
   "execution_count": 18,
   "id": "4428046a",
   "metadata": {},
   "outputs": [],
   "source": [
    "# Save to output\n",
    "df_cpg_lm.to_csv(\"../outputs/expected_variants_stats_no_cpg_nmd.tsv\", sep=\"\\t\", index=False)\n",
    "\n",
    "# Load from output\n",
    "dfg = pd.read_csv(\"../outputs/expected_variants_stats_no_cpg_nmd.tsv\", sep=\"\\t\")"
   ]
  }
 ],
 "metadata": {
  "kernelspec": {
   "display_name": "Python 3 (ipykernel)",
   "language": "python",
   "name": "python3"
  },
  "language_info": {
   "codemirror_mode": {
    "name": "ipython",
    "version": 3
   },
   "file_extension": ".py",
   "mimetype": "text/x-python",
   "name": "python",
   "nbconvert_exporter": "python",
   "pygments_lexer": "ipython3",
   "version": "3.8.16"
  }
 },
 "nbformat": 4,
 "nbformat_minor": 5
}
