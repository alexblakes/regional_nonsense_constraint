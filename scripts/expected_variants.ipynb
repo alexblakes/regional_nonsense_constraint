{
 "cells": [
  {
   "cell_type": "markdown",
   "id": "49c2677e",
   "metadata": {},
   "source": [
    "# Expected variants\n",
    "This script determines the expected number of variants for a given region. \n",
    "It calculates this for:\n",
    "- Transcripts\n",
    "- NMD regions"
   ]
  },
  {
   "cell_type": "markdown",
   "id": "1b3db4ee",
   "metadata": {},
   "source": [
    "## Import modules"
   ]
  },
  {
   "cell_type": "code",
   "execution_count": 10,
   "id": "777f5c59",
   "metadata": {
    "tags": []
   },
   "outputs": [],
   "source": [
    "import numpy as np\n",
    "import pandas as pd\n",
    "from collections import defaultdict\n",
    "import matplotlib.pyplot as plt\n",
    "import seaborn as sns\n",
    "import statsmodels.formula.api as smf\n",
    "from statsmodels.stats.proportion import proportions_ztest\n",
    "from statsmodels.stats.multitest import fdrcorrection as fdr\n",
    "from sklearn.metrics import r2_score\n",
    "from scipy import stats as _stats\n",
    "\n",
    "sns.set_context(\"talk\")"
   ]
  },
  {
   "cell_type": "markdown",
   "id": "8f8bff75",
   "metadata": {
    "tags": []
   },
   "source": [
    "## Load data"
   ]
  },
  {
   "cell_type": "markdown",
   "id": "4b68f55e-0319-41d6-b482-79ff25a8984d",
   "metadata": {},
   "source": [
    "### Rare synonymous variants are the basis for the model"
   ]
  },
  {
   "cell_type": "code",
   "execution_count": 2,
   "id": "6c324070-e288-4316-ae4f-07286a82cb61",
   "metadata": {
    "tags": []
   },
   "outputs": [],
   "source": [
    "# Rare synonymous variants per variant context\n",
    "syn = pd.read_csv(\"../outputs/observed_variants_stats_synonymous.tsv\", sep=\"\\t\")\n",
    "\n",
    "# Get proportion of variants observed\n",
    "syn[\"prop_obs\"] = syn[\"obs\"] / syn[\"pos\"]\n",
    "\n",
    "# Exclude CpG transitions\n",
    "syn_cpg = syn[syn[\"variant_type\"] != \"CpG\"].copy()"
   ]
  },
  {
   "cell_type": "markdown",
   "id": "50eb0d12-9db7-4340-bcef-ffb1759d094f",
   "metadata": {},
   "source": [
    "### Transcripts and NMD regions"
   ]
  },
  {
   "cell_type": "code",
   "execution_count": 3,
   "id": "e94de165-0de7-429e-ad9c-52f82dfceab0",
   "metadata": {
    "tags": []
   },
   "outputs": [],
   "source": [
    "# Variants observed per transcript\n",
    "enst = pd.read_csv(\"../outputs/observed_variants_stats_transcript_no_cpg.tsv\", sep=\"\\t\")"
   ]
  },
  {
   "cell_type": "code",
   "execution_count": 4,
   "id": "8cadd15a-bd0e-471a-9a85-1da81a9a82ce",
   "metadata": {
    "tags": []
   },
   "outputs": [],
   "source": [
    "# Variants observed per NMD region\n",
    "nmd = pd.read_csv(\"../outputs/observed_variants_stats_nmd_no_cpg.tsv\", sep=\"\\t\")"
   ]
  },
  {
   "cell_type": "code",
   "execution_count": 5,
   "id": "ac79e0b6-2a46-4db4-88d0-b95c09055564",
   "metadata": {
    "tags": []
   },
   "outputs": [],
   "source": [
    "# Concatenate the transcript-level and region-level data\n",
    "enst = enst.assign(region=\"transcript\")\n",
    "nmd = nmd.rename(columns={\"nmd\": \"region\"})\n",
    "\n",
    "df = pd.concat([nmd, enst]).sort_values([\"region\", \"enst\", \"csq\"])"
   ]
  },
  {
   "cell_type": "markdown",
   "id": "08fbc0e4-99e9-460b-982f-6871751ea118",
   "metadata": {},
   "source": [
    "## Linear model for expected proportion of variants"
   ]
  },
  {
   "cell_type": "markdown",
   "id": "dc4aa317-02bb-4b26-8cb0-a3a852bd435c",
   "metadata": {},
   "source": [
    "From expecation_model_choices.ipynb, it seems the best model for predicting the expected number of variants (excluding CpG transitions) is a simple linear model of obs vs mu, weighted by the number of possible variants per context. "
   ]
  },
  {
   "cell_type": "code",
   "execution_count": 6,
   "id": "bc57f877-822c-4fa9-a8d2-0b578e56a087",
   "metadata": {
    "tags": []
   },
   "outputs": [],
   "source": [
    "# Linear model\n",
    "fit = np.polyfit(syn_cpg[\"mu\"], syn_cpg[\"prop_obs\"], 1, w=syn_cpg[\"pos\"])\n",
    "lm_p = np.poly1d(fit)"
   ]
  },
  {
   "cell_type": "markdown",
   "id": "28a28f5e-6573-4c8a-aaad-6ad7ec2699ac",
   "metadata": {},
   "source": [
    "## Calculate expected variants per transcript and context"
   ]
  },
  {
   "cell_type": "code",
   "execution_count": 7,
   "id": "4d29afdd",
   "metadata": {
    "tags": []
   },
   "outputs": [],
   "source": [
    "def get_expected(df, prediction):\n",
    "    \"\"\"\n",
    "    Get the expected proportion of variants per transcript and consequence.\n",
    "    prediction is a lambda function used to predict the expected value.\n",
    "    \"\"\"\n",
    "    df = (\n",
    "        df.assign(\n",
    "            prop_obs=lambda x: x[\"n_obs\"] / x[\"n_pos\"],\n",
    "            prop_exp=prediction,\n",
    "            n_exp=lambda x: np.round(x[\"n_pos\"] * x[\"prop_exp\"], 2),\n",
    "            oe=lambda x: x[\"n_obs\"] / x[\"n_exp\"],\n",
    "        )\n",
    "        .set_index([\"region\", \"enst\", \"csq\"])\n",
    "        .unstack(fill_value=0)\n",
    "        .stack()\n",
    "        .reset_index()[\n",
    "            [\n",
    "                \"region\",\n",
    "                \"enst\",\n",
    "                \"csq\",\n",
    "                \"mu\",\n",
    "                \"n_pos\",\n",
    "                \"n_obs\",\n",
    "                \"n_exp\",\n",
    "                \"oe\",\n",
    "                \"prop_obs\",\n",
    "                \"prop_exp\",\n",
    "            ]\n",
    "        ]\n",
    "    )\n",
    "    # Z scores and p-values\n",
    "    df[\"z\"] = df.apply(\n",
    "        lambda x: (\n",
    "            proportions_ztest(\n",
    "                x[\"n_obs\"],\n",
    "                x[\"n_pos\"],\n",
    "                x[\"prop_exp\"],\n",
    "                alternative=\"smaller\",\n",
    "                prop_var=x[\"prop_exp\"],\n",
    "            )[0]\n",
    "        ),\n",
    "        axis=1,\n",
    "    )\n",
    "    df[\"p\"] = df.apply(\n",
    "        lambda x: proportions_ztest(\n",
    "            x[\"n_obs\"],\n",
    "            x[\"n_pos\"],\n",
    "            x[\"prop_exp\"],\n",
    "            alternative=\"smaller\",\n",
    "            prop_var=x[\"prop_exp\"],\n",
    "        )[1],\n",
    "        axis=1,\n",
    "    )\n",
    "    return df"
   ]
  },
  {
   "cell_type": "code",
   "execution_count": 8,
   "id": "63b1a0ab-b1cb-46c2-89e7-6921924596f0",
   "metadata": {},
   "outputs": [],
   "source": [
    "%%capture\n",
    "# Ignore divide by 0 errors for regions with no variants\n",
    "\n",
    "df = get_expected(df=df, prediction=lambda x: lm_p(x[\"mu\"]))"
   ]
  },
  {
   "cell_type": "markdown",
   "id": "67259304-ca05-4a0a-b20a-2601cf01d15d",
   "metadata": {},
   "source": [
    "## Write to output"
   ]
  },
  {
   "cell_type": "code",
   "execution_count": 9,
   "id": "4428046a",
   "metadata": {},
   "outputs": [],
   "source": [
    "df.to_csv(\n",
    "    \"../outputs/expected_variants_stats_all_regions_no_cpg.tsv\", sep=\"\\t\", index=False\n",
    ")"
   ]
  },
  {
   "cell_type": "code",
   "execution_count": 22,
   "id": "8638f25d-bd1c-484c-a43e-debe98599642",
   "metadata": {
    "tags": []
   },
   "outputs": [],
   "source": [
    "dfa = df.copy()\n",
    "\n",
    "for r in dfa[\"region\"].unique():\n",
    "    p = dfa.loc[(df.region == r), [\"p\"]].dropna()\n",
    "    p[\"fdr_p\"] = fdr(pvals=p[\"p\"])[1]"
   ]
  },
  {
   "cell_type": "code",
   "execution_count": 23,
   "id": "5b205052-e7a3-470d-8190-d940ddb9fc8a",
   "metadata": {
    "tags": []
   },
   "outputs": [
    {
     "data": {
      "text/html": [
       "<div>\n",
       "<style scoped>\n",
       "    .dataframe tbody tr th:only-of-type {\n",
       "        vertical-align: middle;\n",
       "    }\n",
       "\n",
       "    .dataframe tbody tr th {\n",
       "        vertical-align: top;\n",
       "    }\n",
       "\n",
       "    .dataframe thead th {\n",
       "        text-align: right;\n",
       "    }\n",
       "</style>\n",
       "<table border=\"1\" class=\"dataframe\">\n",
       "  <thead>\n",
       "    <tr style=\"text-align: right;\">\n",
       "      <th></th>\n",
       "      <th>p</th>\n",
       "      <th>fdr_p</th>\n",
       "    </tr>\n",
       "  </thead>\n",
       "  <tbody>\n",
       "    <tr>\n",
       "      <th>175938</th>\n",
       "      <td>3.530689e-10</td>\n",
       "      <td>4.701698e-09</td>\n",
       "    </tr>\n",
       "    <tr>\n",
       "      <th>175939</th>\n",
       "      <td>9.561315e-03</td>\n",
       "      <td>3.172886e-02</td>\n",
       "    </tr>\n",
       "    <tr>\n",
       "      <th>175940</th>\n",
       "      <td>2.404568e-01</td>\n",
       "      <td>4.242680e-01</td>\n",
       "    </tr>\n",
       "    <tr>\n",
       "      <th>175941</th>\n",
       "      <td>1.389407e-01</td>\n",
       "      <td>2.796119e-01</td>\n",
       "    </tr>\n",
       "    <tr>\n",
       "      <th>175942</th>\n",
       "      <td>5.067710e-03</td>\n",
       "      <td>1.850705e-02</td>\n",
       "    </tr>\n",
       "  </tbody>\n",
       "</table>\n",
       "</div>"
      ],
      "text/plain": [
       "                   p         fdr_p\n",
       "175938  3.530689e-10  4.701698e-09\n",
       "175939  9.561315e-03  3.172886e-02\n",
       "175940  2.404568e-01  4.242680e-01\n",
       "175941  1.389407e-01  2.796119e-01\n",
       "175942  5.067710e-03  1.850705e-02"
      ]
     },
     "execution_count": 23,
     "metadata": {},
     "output_type": "execute_result"
    }
   ],
   "source": [
    "p.head()"
   ]
  },
  {
   "cell_type": "code",
   "execution_count": null,
   "id": "0ee5d73d-2a55-4b3b-a3b9-911b13689037",
   "metadata": {},
   "outputs": [],
   "source": []
  }
 ],
 "metadata": {
  "kernelspec": {
   "display_name": "Python [conda env:ukb]",
   "language": "python",
   "name": "conda-env-ukb-py"
  },
  "language_info": {
   "codemirror_mode": {
    "name": "ipython",
    "version": 3
   },
   "file_extension": ".py",
   "mimetype": "text/x-python",
   "name": "python",
   "nbconvert_exporter": "python",
   "pygments_lexer": "ipython3",
   "version": "3.8.16"
  }
 },
 "nbformat": 4,
 "nbformat_minor": 5
}
