{
 "cells": [
  {
   "cell_type": "markdown",
   "id": "49c2677e",
   "metadata": {},
   "source": [
    "# Expected variants\n",
    "This script determines the expected number of variants for a given region. \n",
    "It calculates this for:\n",
    "- Transcripts\n",
    "- NMD regions"
   ]
  },
  {
   "cell_type": "markdown",
   "id": "1b3db4ee",
   "metadata": {},
   "source": [
    "## Import modules"
   ]
  },
  {
   "cell_type": "code",
   "execution_count": 1,
   "id": "777f5c59",
   "metadata": {
    "tags": []
   },
   "outputs": [],
   "source": [
    "import numpy as np\n",
    "import pandas as pd\n",
    "import statsmodels.api as sm\n",
    "from collections import defaultdict"
   ]
  },
  {
   "cell_type": "markdown",
   "id": "8f8bff75",
   "metadata": {
    "tags": []
   },
   "source": [
    "## Load data"
   ]
  },
  {
   "cell_type": "markdown",
   "id": "4b68f55e-0319-41d6-b482-79ff25a8984d",
   "metadata": {},
   "source": [
    "### Synonymous variants observed in UKB\n",
    "Rare synonymous variants are the basis for the model. We drop synonymous variants arising from CpG transitions."
   ]
  },
  {
   "cell_type": "code",
   "execution_count": 2,
   "id": "6c324070-e288-4316-ae4f-07286a82cb61",
   "metadata": {
    "tags": []
   },
   "outputs": [],
   "source": [
    "# Rare synonymous variants per variant context\n",
    "syn = pd.read_csv(\"../outputs/observed_variants_stats_synonymous.tsv\", sep=\"\\t\")\n",
    "\n",
    "# Get proportion of variants observed\n",
    "syn[\"prop_obs\"] = syn[\"obs\"] / syn[\"pos\"]\n",
    "\n",
    "# Split CpG and non-CpG variants\n",
    "syn_non = syn[syn[\"variant_type\"] != \"CpG\"].copy()\n",
    "syn_cpg = syn[syn[\"variant_type\"] == \"CpG\"].copy()"
   ]
  },
  {
   "cell_type": "markdown",
   "id": "50eb0d12-9db7-4340-bcef-ffb1759d094f",
   "metadata": {},
   "source": [
    "### Variants observed in UKB, per transcript and NMD region\n",
    "Expected numbers of variants will be predicted for these regions."
   ]
  },
  {
   "cell_type": "code",
   "execution_count": 13,
   "id": "e94de165-0de7-429e-ad9c-52f82dfceab0",
   "metadata": {
    "tags": []
   },
   "outputs": [],
   "source": [
    "# Variants observed per transcript\n",
    "enst = pd.read_csv(\"../outputs/observed_variants_stats_transcript.tsv\", sep=\"\\t\")"
   ]
  },
  {
   "cell_type": "code",
   "execution_count": 14,
   "id": "8cadd15a-bd0e-471a-9a85-1da81a9a82ce",
   "metadata": {
    "tags": []
   },
   "outputs": [],
   "source": [
    "# Variants observed per NMD region\n",
    "nmd = pd.read_csv(\"../outputs/observed_variants_stats_nmd.tsv\", sep=\"\\t\")"
   ]
  },
  {
   "cell_type": "code",
   "execution_count": 15,
   "id": "ac79e0b6-2a46-4db4-88d0-b95c09055564",
   "metadata": {
    "tags": []
   },
   "outputs": [
    {
     "data": {
      "text/html": [
       "<div>\n",
       "<style scoped>\n",
       "    .dataframe tbody tr th:only-of-type {\n",
       "        vertical-align: middle;\n",
       "    }\n",
       "\n",
       "    .dataframe tbody tr th {\n",
       "        vertical-align: top;\n",
       "    }\n",
       "\n",
       "    .dataframe thead th {\n",
       "        text-align: right;\n",
       "    }\n",
       "</style>\n",
       "<table border=\"1\" class=\"dataframe\">\n",
       "  <thead>\n",
       "    <tr style=\"text-align: right;\">\n",
       "      <th></th>\n",
       "      <th>enst</th>\n",
       "      <th>csq</th>\n",
       "      <th>variant_type</th>\n",
       "      <th>region</th>\n",
       "      <th>n_pos</th>\n",
       "      <th>n_obs</th>\n",
       "      <th>mu</th>\n",
       "    </tr>\n",
       "  </thead>\n",
       "  <tbody>\n",
       "    <tr>\n",
       "      <th>0</th>\n",
       "      <td>ENST00000000233</td>\n",
       "      <td>missense</td>\n",
       "      <td>CpG</td>\n",
       "      <td>distal_nmd</td>\n",
       "      <td>10</td>\n",
       "      <td>9</td>\n",
       "      <td>1.135200e-07</td>\n",
       "    </tr>\n",
       "    <tr>\n",
       "      <th>3</th>\n",
       "      <td>ENST00000000233</td>\n",
       "      <td>missense</td>\n",
       "      <td>non-CpG</td>\n",
       "      <td>distal_nmd</td>\n",
       "      <td>271</td>\n",
       "      <td>19</td>\n",
       "      <td>3.376155e-09</td>\n",
       "    </tr>\n",
       "    <tr>\n",
       "      <th>6</th>\n",
       "      <td>ENST00000000233</td>\n",
       "      <td>nonsense</td>\n",
       "      <td>non-CpG</td>\n",
       "      <td>distal_nmd</td>\n",
       "      <td>20</td>\n",
       "      <td>0</td>\n",
       "      <td>4.540700e-09</td>\n",
       "    </tr>\n",
       "  </tbody>\n",
       "</table>\n",
       "</div>"
      ],
      "text/plain": [
       "              enst       csq variant_type      region  n_pos  n_obs  \\\n",
       "0  ENST00000000233  missense          CpG  distal_nmd     10      9   \n",
       "3  ENST00000000233  missense      non-CpG  distal_nmd    271     19   \n",
       "6  ENST00000000233  nonsense      non-CpG  distal_nmd     20      0   \n",
       "\n",
       "             mu  \n",
       "0  1.135200e-07  \n",
       "3  3.376155e-09  \n",
       "6  4.540700e-09  "
      ]
     },
     "execution_count": 15,
     "metadata": {},
     "output_type": "execute_result"
    }
   ],
   "source": [
    "# Concatenate the transcript-level and region-level data\n",
    "enst = enst.assign(region=\"transcript\")\n",
    "nmd = nmd.rename(columns={\"nmd\": \"region\"})\n",
    "\n",
    "df = pd.concat([nmd, enst]).sort_values([\"region\", \"enst\", \"csq\"])\n",
    "df.head(3)"
   ]
  },
  {
   "cell_type": "code",
   "execution_count": 16,
   "id": "6462dbb4-1437-42e0-8b4d-999efe983c5b",
   "metadata": {
    "tags": []
   },
   "outputs": [
    {
     "data": {
      "text/html": [
       "<div>\n",
       "<style scoped>\n",
       "    .dataframe tbody tr th:only-of-type {\n",
       "        vertical-align: middle;\n",
       "    }\n",
       "\n",
       "    .dataframe tbody tr th {\n",
       "        vertical-align: top;\n",
       "    }\n",
       "\n",
       "    .dataframe thead th {\n",
       "        text-align: right;\n",
       "    }\n",
       "</style>\n",
       "<table border=\"1\" class=\"dataframe\">\n",
       "  <thead>\n",
       "    <tr style=\"text-align: right;\">\n",
       "      <th></th>\n",
       "      <th></th>\n",
       "      <th></th>\n",
       "      <th>cpg_mu</th>\n",
       "      <th>cpg_n_obs</th>\n",
       "      <th>cpg_n_pos</th>\n",
       "      <th>non_cpg_mu</th>\n",
       "      <th>non_cpg_n_obs</th>\n",
       "      <th>non_cpg_n_pos</th>\n",
       "    </tr>\n",
       "    <tr>\n",
       "      <th>enst</th>\n",
       "      <th>csq</th>\n",
       "      <th>region</th>\n",
       "      <th></th>\n",
       "      <th></th>\n",
       "      <th></th>\n",
       "      <th></th>\n",
       "      <th></th>\n",
       "      <th></th>\n",
       "    </tr>\n",
       "  </thead>\n",
       "  <tbody>\n",
       "    <tr>\n",
       "      <th rowspan=\"3\" valign=\"top\">ENST00000000233</th>\n",
       "      <th rowspan=\"3\" valign=\"top\">missense</th>\n",
       "      <th>distal_nmd</th>\n",
       "      <td>1.135200e-07</td>\n",
       "      <td>9.0</td>\n",
       "      <td>10.0</td>\n",
       "      <td>3.376155e-09</td>\n",
       "      <td>19.0</td>\n",
       "      <td>271.0</td>\n",
       "    </tr>\n",
       "    <tr>\n",
       "      <th>nmd_target</th>\n",
       "      <td>8.845714e-08</td>\n",
       "      <td>8.0</td>\n",
       "      <td>14.0</td>\n",
       "      <td>3.258126e-09</td>\n",
       "      <td>23.0</td>\n",
       "      <td>563.0</td>\n",
       "    </tr>\n",
       "    <tr>\n",
       "      <th>start_proximal</th>\n",
       "      <td>1.650000e-08</td>\n",
       "      <td>3.0</td>\n",
       "      <td>10.0</td>\n",
       "      <td>3.529000e-09</td>\n",
       "      <td>9.0</td>\n",
       "      <td>304.0</td>\n",
       "    </tr>\n",
       "  </tbody>\n",
       "</table>\n",
       "</div>"
      ],
      "text/plain": [
       "                                               cpg_mu  cpg_n_obs  cpg_n_pos  \\\n",
       "enst            csq      region                                               \n",
       "ENST00000000233 missense distal_nmd      1.135200e-07        9.0       10.0   \n",
       "                         nmd_target      8.845714e-08        8.0       14.0   \n",
       "                         start_proximal  1.650000e-08        3.0       10.0   \n",
       "\n",
       "                                           non_cpg_mu  non_cpg_n_obs  \\\n",
       "enst            csq      region                                        \n",
       "ENST00000000233 missense distal_nmd      3.376155e-09           19.0   \n",
       "                         nmd_target      3.258126e-09           23.0   \n",
       "                         start_proximal  3.529000e-09            9.0   \n",
       "\n",
       "                                         non_cpg_n_pos  \n",
       "enst            csq      region                         \n",
       "ENST00000000233 missense distal_nmd              271.0  \n",
       "                         nmd_target              563.0  \n",
       "                         start_proximal          304.0  "
      ]
     },
     "execution_count": 16,
     "metadata": {},
     "output_type": "execute_result"
    }
   ],
   "source": [
    "# Pivot on \"variant type\" so that CpG and non-CpG variants are in different columns\n",
    "df = df.pivot(\n",
    "    index=[\"enst\", \"csq\", \"region\"],\n",
    "    columns=\"variant_type\",\n",
    "    values=[\"n_pos\", \"n_obs\", \"mu\"],\n",
    ").swaplevel(0, 1, axis=1).sort_index(axis=1, level=[0,1])\n",
    "\n",
    "# Reduce multi-index columns\n",
    "df.columns = [\"_\".join([x.lower().replace(\"-\",\"_\"),y]) for x, y in df.columns]\n",
    "df.head(3)"
   ]
  },
  {
   "cell_type": "markdown",
   "id": "08fbc0e4-99e9-460b-982f-6871751ea118",
   "metadata": {},
   "source": [
    "## Modelling expected proportion of variants"
   ]
  },
  {
   "cell_type": "markdown",
   "id": "dc4aa317-02bb-4b26-8cb0-a3a852bd435c",
   "metadata": {},
   "source": [
    "Non-CpG variants are fit to a linear model."
   ]
  },
  {
   "cell_type": "code",
   "execution_count": 17,
   "id": "bc57f877-822c-4fa9-a8d2-0b578e56a087",
   "metadata": {
    "tags": []
   },
   "outputs": [
    {
     "data": {
      "text/html": [
       "<table class=\"simpletable\">\n",
       "<caption>WLS Regression Results</caption>\n",
       "<tr>\n",
       "  <th>Dep. Variable:</th>    <td>prop_obs</td>  <th>  R-squared:         </th> <td>   0.959</td> \n",
       "</tr>\n",
       "<tr>\n",
       "  <th>Model:</th>               <td>WLS</td>    <th>  Adj. R-squared:    </th> <td>   0.959</td> \n",
       "</tr>\n",
       "<tr>\n",
       "  <th>No. Observations:</th>  <td>   176</td>   <th>  F-statistic:       </th> <td>   4083.</td> \n",
       "</tr>\n",
       "<tr>\n",
       "  <th>Covariance Type:</th>  <td>nonrobust</td> <th>  Prob (F-statistic):</th> <td>9.71e-123</td>\n",
       "</tr>\n",
       "</table>\n",
       "<table class=\"simpletable\">\n",
       "<tr>\n",
       "    <td></td>       <th>coef</th>     <th>std err</th>      <th>t</th>      <th>P>|t|</th>  <th>[0.025</th>    <th>0.975]</th>  \n",
       "</tr>\n",
       "<tr>\n",
       "  <th>const</th> <td>    0.0121</td> <td>    0.002</td> <td>    5.790</td> <td> 0.000</td> <td>    0.008</td> <td>    0.016</td>\n",
       "</tr>\n",
       "<tr>\n",
       "  <th>mu</th>    <td> 2.574e+07</td> <td> 4.03e+05</td> <td>   63.897</td> <td> 0.000</td> <td> 2.49e+07</td> <td> 2.65e+07</td>\n",
       "</tr>\n",
       "</table><br/><br/>Notes:<br/>[1] Standard Errors assume that the covariance matrix of the errors is correctly specified.<br/>[2] The condition number is large, 3.56e+08. This might indicate that there are<br/>strong multicollinearity or other numerical problems."
      ],
      "text/plain": [
       "<class 'statsmodels.iolib.summary.Summary'>\n",
       "\"\"\"\n",
       "                            WLS Regression Results                            \n",
       "==============================================================================\n",
       "Dep. Variable:               prop_obs   R-squared:                       0.959\n",
       "Model:                            WLS   Adj. R-squared:                  0.959\n",
       "No. Observations:                 176   F-statistic:                     4083.\n",
       "Covariance Type:            nonrobust   Prob (F-statistic):          9.71e-123\n",
       "==============================================================================\n",
       "                 coef    std err          t      P>|t|      [0.025      0.975]\n",
       "------------------------------------------------------------------------------\n",
       "const          0.0121      0.002      5.790      0.000       0.008       0.016\n",
       "mu          2.574e+07   4.03e+05     63.897      0.000    2.49e+07    2.65e+07\n",
       "==============================================================================\n",
       "\n",
       "Notes:\n",
       "[1] Standard Errors assume that the covariance matrix of the errors is correctly specified.\n",
       "[2] The condition number is large, 3.56e+08. This might indicate that there are\n",
       "strong multicollinearity or other numerical problems.\n",
       "\"\"\""
      ]
     },
     "execution_count": 17,
     "metadata": {},
     "output_type": "execute_result"
    }
   ],
   "source": [
    "# Linear model\n",
    "non_cpg_model = sm.WLS(\n",
    "    syn_non[\"prop_obs\"],\n",
    "    sm.tools.add_constant(syn_non[\"mu\"]),\n",
    "    weights=syn_non[\"pos\"],\n",
    ")\n",
    "non_cpg_results = non_cpg_model.fit()\n",
    "non_cpg_results.summary(slim=True)"
   ]
  },
  {
   "cell_type": "markdown",
   "id": "90672fd3-dc3a-4649-9e34-440e9c50ab4a",
   "metadata": {},
   "source": [
    "CpG variants are fit to a log-linear model."
   ]
  },
  {
   "cell_type": "code",
   "execution_count": 18,
   "id": "299346d7-57e9-405a-a1b8-0cdc4763f576",
   "metadata": {
    "tags": []
   },
   "outputs": [
    {
     "data": {
      "text/html": [
       "<table class=\"simpletable\">\n",
       "<caption>WLS Regression Results</caption>\n",
       "<tr>\n",
       "  <th>Dep. Variable:</th>    <td>prop_obs</td>  <th>  R-squared:         </th> <td>   0.930</td>\n",
       "</tr>\n",
       "<tr>\n",
       "  <th>Model:</th>               <td>WLS</td>    <th>  Adj. R-squared:    </th> <td>   0.929</td>\n",
       "</tr>\n",
       "<tr>\n",
       "  <th>No. Observations:</th>  <td>   128</td>   <th>  F-statistic:       </th> <td>   1675.</td>\n",
       "</tr>\n",
       "<tr>\n",
       "  <th>Covariance Type:</th>  <td>nonrobust</td> <th>  Prob (F-statistic):</th> <td>1.24e-74</td>\n",
       "</tr>\n",
       "</table>\n",
       "<table class=\"simpletable\">\n",
       "<tr>\n",
       "    <td></td>       <th>coef</th>     <th>std err</th>      <th>t</th>      <th>P>|t|</th>  <th>[0.025</th>    <th>0.975]</th>  \n",
       "</tr>\n",
       "<tr>\n",
       "  <th>const</th> <td>-1.785e+06</td> <td> 4.36e+04</td> <td>  -40.925</td> <td> 0.000</td> <td>-1.87e+06</td> <td> -1.7e+06</td>\n",
       "</tr>\n",
       "<tr>\n",
       "  <th>mu</th>    <td> 4.852e+06</td> <td> 1.19e+05</td> <td>   40.925</td> <td> 0.000</td> <td> 4.62e+06</td> <td> 5.09e+06</td>\n",
       "</tr>\n",
       "</table><br/><br/>Notes:<br/>[1] Standard Errors assume that the covariance matrix of the errors is correctly specified.<br/>[2] The condition number is large, 6.58e+07. This might indicate that there are<br/>strong multicollinearity or other numerical problems."
      ],
      "text/plain": [
       "<class 'statsmodels.iolib.summary.Summary'>\n",
       "\"\"\"\n",
       "                            WLS Regression Results                            \n",
       "==============================================================================\n",
       "Dep. Variable:               prop_obs   R-squared:                       0.930\n",
       "Model:                            WLS   Adj. R-squared:                  0.929\n",
       "No. Observations:                 128   F-statistic:                     1675.\n",
       "Covariance Type:            nonrobust   Prob (F-statistic):           1.24e-74\n",
       "==============================================================================\n",
       "                 coef    std err          t      P>|t|      [0.025      0.975]\n",
       "------------------------------------------------------------------------------\n",
       "const      -1.785e+06   4.36e+04    -40.925      0.000   -1.87e+06    -1.7e+06\n",
       "mu          4.852e+06   1.19e+05     40.925      0.000    4.62e+06    5.09e+06\n",
       "==============================================================================\n",
       "\n",
       "Notes:\n",
       "[1] Standard Errors assume that the covariance matrix of the errors is correctly specified.\n",
       "[2] The condition number is large, 6.58e+07. This might indicate that there are\n",
       "strong multicollinearity or other numerical problems.\n",
       "\"\"\""
      ]
     },
     "execution_count": 18,
     "metadata": {},
     "output_type": "execute_result"
    }
   ],
   "source": [
    "# Log-linear model\n",
    "cpg_model = sm.WLS(\n",
    "    syn_cpg[\"prop_obs\"],\n",
    "    np.exp(sm.tools.add_constant(syn_cpg[\"mu\"])),\n",
    "    weights=syn_cpg[\"pos\"],\n",
    ")\n",
    "cpg_results = cpg_model.fit()\n",
    "cpg_results.summary(slim=True)"
   ]
  },
  {
   "cell_type": "markdown",
   "id": "28a28f5e-6573-4c8a-aaad-6ad7ec2699ac",
   "metadata": {},
   "source": [
    "## Calculate expected variants per transcript and context"
   ]
  },
  {
   "cell_type": "code",
   "execution_count": 9,
   "id": "4d29afdd",
   "metadata": {
    "tags": []
   },
   "outputs": [],
   "source": [
    "# Non CpG\n",
    "df[\"non_cpg_prop_exp\"] = non_cpg_results.predict(sm.tools.add_constant(df[\"non_cpg_mu\"]))\n",
    "df[\"non_cpg_n_exp\"] = np.round((df[\"non_cpg_prop_exp\"] * df[\"non_cpg_n_pos\"]),3)\n",
    "\n",
    "# CpG\n",
    "df[\"cpg_prop_exp\"] = cpg_results.predict(np.exp(sm.tools.add_constant(df[\"cpg_mu\"])))\n",
    "df[\"cpg_n_exp\"] = np.round((df[\"cpg_prop_exp\"] * df[\"cpg_n_pos\"]), 3)\n",
    "\n",
    "# Combine CpG and non-CpG\n",
    "df[\"n_pos\"] = df[\"non_cpg_n_pos\"] + df[\"cpg_n_pos\"]\n",
    "df[\"n_obs\"] = df[\"non_cpg_n_obs\"] + df[\"cpg_n_obs\"]\n",
    "df[\"n_exp\"] = df[\"non_cpg_n_exp\"] + df[\"cpg_n_exp\"]\n",
    "df[\"oe\"] = df[\"n_obs\"] / df[\"n_exp\"]\n",
    "df[\"prop_obs\"] = df[\"n_obs\"] / df[\"n_pos\"]\n",
    "df[\"prop_exp\"] = df[\"n_exp\"] / df[\"n_pos\"]\n",
    "\n",
    "# By default, regions with no variants would be dropped.\n",
    "# We keep them instead.\n",
    "df = df.unstack(fill_value=0).stack().reset_index()\n",
    "\n",
    "# Keep relevant columns\n",
    "df = df[\n",
    "    [\n",
    "        \"enst\",\n",
    "        \"region\",\n",
    "        \"csq\",\n",
    "        \"n_pos\",\n",
    "        \"n_obs\",\n",
    "        \"n_exp\",\n",
    "        \"oe\",\n",
    "        \"prop_obs\",\n",
    "        \"prop_exp\",\n",
    "    ]\n",
    "]"
   ]
  },
  {
   "cell_type": "markdown",
   "id": "67259304-ca05-4a0a-b20a-2601cf01d15d",
   "metadata": {},
   "source": [
    "## Write to output"
   ]
  },
  {
   "cell_type": "code",
   "execution_count": 10,
   "id": "4428046a",
   "metadata": {},
   "outputs": [],
   "source": [
    "df.to_csv(\"../outputs/expected_variants_all_regions_no_cpg.tsv\", sep=\"\\t\", index=False)"
   ]
  }
 ],
 "metadata": {
  "kernelspec": {
   "display_name": "Python [conda env:ukb]",
   "language": "python",
   "name": "conda-env-ukb-py"
  },
  "language_info": {
   "codemirror_mode": {
    "name": "ipython",
    "version": 3
   },
   "file_extension": ".py",
   "mimetype": "text/x-python",
   "name": "python",
   "nbconvert_exporter": "python",
   "pygments_lexer": "ipython3",
   "version": "3.8.16"
  }
 },
 "nbformat": 4,
 "nbformat_minor": 5
}
