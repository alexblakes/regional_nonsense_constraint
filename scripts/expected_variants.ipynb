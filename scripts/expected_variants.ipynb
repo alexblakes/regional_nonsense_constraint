{
 "cells": [
  {
   "cell_type": "markdown",
   "id": "49c2677e",
   "metadata": {},
   "source": [
    "# Expected variants\n",
    "This script determines the expected number of variants for a given region. \n",
    "It calculates this for:\n",
    "- Transcripts\n",
    "- NMD regions"
   ]
  },
  {
   "cell_type": "markdown",
   "id": "1b3db4ee",
   "metadata": {},
   "source": [
    "## Import modules"
   ]
  },
  {
   "cell_type": "code",
   "execution_count": 1,
   "id": "777f5c59",
   "metadata": {
    "tags": []
   },
   "outputs": [],
   "source": [
    "import numpy as np\n",
    "import pandas as pd\n",
    "from collections import defaultdict"
   ]
  },
  {
   "cell_type": "markdown",
   "id": "8f8bff75",
   "metadata": {
    "tags": []
   },
   "source": [
    "## Load data"
   ]
  },
  {
   "cell_type": "markdown",
   "id": "4b68f55e-0319-41d6-b482-79ff25a8984d",
   "metadata": {},
   "source": [
    "### Synonymous variants observed in UKB\n",
    "Rare synonymous variants are the basis for the model. We drop synonymous variants arising from CpG transitions."
   ]
  },
  {
   "cell_type": "code",
   "execution_count": 2,
   "id": "6c324070-e288-4316-ae4f-07286a82cb61",
   "metadata": {
    "tags": []
   },
   "outputs": [],
   "source": [
    "# Rare synonymous variants per variant context\n",
    "syn = pd.read_csv(\"../outputs/observed_variants_stats_synonymous.tsv\", sep=\"\\t\")\n",
    "\n",
    "# Get proportion of variants observed\n",
    "syn[\"prop_obs\"] = syn[\"obs\"] / syn[\"pos\"]\n",
    "\n",
    "# Exclude CpG transitions\n",
    "syn_cpg = syn[syn[\"variant_type\"] != \"CpG\"].copy()"
   ]
  },
  {
   "cell_type": "markdown",
   "id": "50eb0d12-9db7-4340-bcef-ffb1759d094f",
   "metadata": {},
   "source": [
    "### Variants observed in UKB, per transcript and NMD region\n",
    "Expected numbers of variants will be predicted for these regions."
   ]
  },
  {
   "cell_type": "code",
   "execution_count": 3,
   "id": "e94de165-0de7-429e-ad9c-52f82dfceab0",
   "metadata": {
    "tags": []
   },
   "outputs": [],
   "source": [
    "# Variants observed per transcript\n",
    "enst = pd.read_csv(\"../outputs/observed_variants_stats_transcript_no_cpg.tsv\", sep=\"\\t\")"
   ]
  },
  {
   "cell_type": "code",
   "execution_count": 4,
   "id": "8cadd15a-bd0e-471a-9a85-1da81a9a82ce",
   "metadata": {
    "tags": []
   },
   "outputs": [],
   "source": [
    "# Variants observed per NMD region\n",
    "nmd = pd.read_csv(\"../outputs/observed_variants_stats_nmd_no_cpg.tsv\", sep=\"\\t\")"
   ]
  },
  {
   "cell_type": "code",
   "execution_count": 5,
   "id": "ac79e0b6-2a46-4db4-88d0-b95c09055564",
   "metadata": {
    "tags": []
   },
   "outputs": [],
   "source": [
    "# Concatenate the transcript-level and region-level data\n",
    "enst = enst.assign(region=\"transcript\")\n",
    "nmd = nmd.rename(columns={\"nmd\": \"region\"})\n",
    "\n",
    "df = pd.concat([nmd, enst]).sort_values([\"region\", \"enst\", \"csq\"])"
   ]
  },
  {
   "cell_type": "markdown",
   "id": "08fbc0e4-99e9-460b-982f-6871751ea118",
   "metadata": {},
   "source": [
    "## Linear model for expected proportion of variants"
   ]
  },
  {
   "cell_type": "markdown",
   "id": "dc4aa317-02bb-4b26-8cb0-a3a852bd435c",
   "metadata": {},
   "source": [
    "From expecation_model_choices.ipynb, it seems the best model for predicting the expected number of variants (excluding CpG transitions) is a simple linear model of obs vs mu, weighted by the number of possible variants per context. "
   ]
  },
  {
   "cell_type": "code",
   "execution_count": 6,
   "id": "bc57f877-822c-4fa9-a8d2-0b578e56a087",
   "metadata": {
    "tags": []
   },
   "outputs": [],
   "source": [
    "# Linear model\n",
    "fit = np.polyfit(syn_cpg[\"mu\"], syn_cpg[\"prop_obs\"], 1, w=syn_cpg[\"pos\"])\n",
    "lm_p = np.poly1d(fit)"
   ]
  },
  {
   "cell_type": "markdown",
   "id": "28a28f5e-6573-4c8a-aaad-6ad7ec2699ac",
   "metadata": {},
   "source": [
    "## Calculate expected variants per transcript and context"
   ]
  },
  {
   "cell_type": "code",
   "execution_count": 7,
   "id": "4d29afdd",
   "metadata": {
    "tags": []
   },
   "outputs": [],
   "source": [
    "# Find the expected number of variants\n",
    "df = df.assign(\n",
    "    prop_obs=lambda x: x[\"n_obs\"] / x[\"n_pos\"],\n",
    "    prop_exp=lambda x: lm_p(x[\"mu\"]),\n",
    "    n_exp=lambda x: np.round(x[\"n_pos\"] * x[\"prop_exp\"], 2),\n",
    "    oe=lambda x: x[\"n_obs\"] / x[\"n_exp\"],\n",
    ")\n",
    "\n",
    "# By default, regions with no variants would be dropped.\n",
    "# We keep them instead.\n",
    "df = df.set_index([\"region\", \"enst\", \"csq\"]).unstack(fill_value=0).stack().reset_index()\n",
    "\n",
    "# Keep relevant columns\n",
    "df = df[\n",
    "    [\n",
    "        \"region\",\n",
    "        \"enst\",\n",
    "        \"csq\",\n",
    "        \"mu\",\n",
    "        \"n_pos\",\n",
    "        \"n_obs\",\n",
    "        \"n_exp\",\n",
    "        \"oe\",\n",
    "        \"prop_obs\",\n",
    "        \"prop_exp\",\n",
    "    ]\n",
    "]"
   ]
  },
  {
   "cell_type": "markdown",
   "id": "67259304-ca05-4a0a-b20a-2601cf01d15d",
   "metadata": {},
   "source": [
    "## Write to output"
   ]
  },
  {
   "cell_type": "code",
   "execution_count": 8,
   "id": "4428046a",
   "metadata": {},
   "outputs": [],
   "source": [
    "df.to_csv(\n",
    "    \"../outputs/expected_variants_all_regions_no_cpg.tsv\", sep=\"\\t\", index=False\n",
    ")"
   ]
  }
 ],
 "metadata": {
  "kernelspec": {
   "display_name": "Python [conda env:ukb]",
   "language": "python",
   "name": "conda-env-ukb-py"
  },
  "language_info": {
   "codemirror_mode": {
    "name": "ipython",
    "version": 3
   },
   "file_extension": ".py",
   "mimetype": "text/x-python",
   "name": "python",
   "nbconvert_exporter": "python",
   "pygments_lexer": "ipython3",
   "version": "3.8.16"
  }
 },
 "nbformat": 4,
 "nbformat_minor": 5
}
