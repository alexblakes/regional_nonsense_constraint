{
 "cells": [
  {
   "cell_type": "markdown",
   "id": "9e8882d7",
   "metadata": {},
   "source": [
    "# Expected variants\n",
    "This script determines the expected number of variants per transcript"
   ]
  },
  {
   "cell_type": "markdown",
   "id": "89c9f1af",
   "metadata": {},
   "source": [
    "## Preliminaries"
   ]
  },
  {
   "cell_type": "markdown",
   "id": "16859f82",
   "metadata": {},
   "source": [
    "### Install libraries to worker"
   ]
  },
  {
   "cell_type": "code",
   "execution_count": null,
   "id": "04ffe193",
   "metadata": {},
   "outputs": [],
   "source": [
    "! conda install statsmodels -y"
   ]
  },
  {
   "cell_type": "markdown",
   "id": "6a596e5f",
   "metadata": {},
   "source": [
    "### Import modules"
   ]
  },
  {
   "cell_type": "code",
   "execution_count": 1,
   "id": "e419ae21",
   "metadata": {},
   "outputs": [],
   "source": [
    "import numpy as np\n",
    "import pandas as pd\n",
    "from collections import defaultdict\n",
    "import matplotlib.pyplot as plt\n",
    "import seaborn as sns\n",
    "from scipy import stats\n",
    "import statsmodels.formula.api as smf\n",
    "from statsmodels.stats.proportion import proportions_ztest\n",
    "\n",
    "sns.set_context(\"talk\")"
   ]
  },
  {
   "cell_type": "markdown",
   "id": "626e1d71",
   "metadata": {},
   "source": [
    "## Load datasets"
   ]
  },
  {
   "cell_type": "code",
   "execution_count": null,
   "id": "38e293c2",
   "metadata": {},
   "outputs": [],
   "source": [
    "# Define VCF headers and datatypes.\n",
    "_header = [\"chr\", \"pos\", \"id\", \"ref\", \"alt\", \"qual\", \"filter\", \"info\"]\n",
    "\n",
    "datatypes = defaultdict(lambda: \"str\")\n",
    "datatypes.update({\"pos\": np.int32, \"ac\": np.int32, \"an\": np.int32})"
   ]
  },
  {
   "cell_type": "code",
   "execution_count": null,
   "id": "14bbaede",
   "metadata": {},
   "outputs": [],
   "source": [
    "# Retreive observed variants\n",
    "obs = pd.read_csv(\n",
    "    \"../data/all_pass_snvs.txt\",\n",
    "    sep=\"\\t\",\n",
    "    header=None,\n",
    "    names=_header + [\"ac\", \"an\"],\n",
    "    usecols=[\"chr\", \"pos\", \"ref\", \"alt\", \"ac\", \"an\"],\n",
    "    dtype=datatypes,\n",
    ").assign(obs=1)\n",
    "\n",
    "# Any duplicates?"
   ]
  },
  {
   "cell_type": "code",
   "execution_count": null,
   "id": "035ec7e7",
   "metadata": {},
   "outputs": [],
   "source": [
    "# Retreive VEP annotations of all possible SNVs\n",
    "vep = pd.read_csv(\n",
    "    \"../data/vep_cds_all_possible_snvs.vcf\",\n",
    "    sep=\"\\t\",\n",
    "    comment=\"#\",\n",
    "    header=None,\n",
    "    names=_header,\n",
    "    dtype=datatypes,\n",
    "    usecols=[\"chr\", \"pos\", \"ref\", \"alt\", \"info\"],\n",
    ")"
   ]
  },
  {
   "cell_type": "code",
   "execution_count": null,
   "id": "840a07dc",
   "metadata": {},
   "outputs": [],
   "source": [
    "# Check this\n",
    "# Get enst\n",
    "vep[\"enst\"] = pd.Series([x.split(\"|\", 3)[2] for x in vep[\"info\"]])"
   ]
  },
  {
   "cell_type": "code",
   "execution_count": null,
   "id": "44e2eaa9",
   "metadata": {},
   "outputs": [],
   "source": [
    "# Get csq\n",
    "syn = pd.Series([\"synonymous\" in x for x in vep[\"info\"]])\n",
    "mis = pd.Series([\"missense\" in x for x in vep[\"info\"]])\n",
    "non = pd.Series([\"stop_gained\" in x for x in vep[\"info\"]])\n",
    "\n",
    "vep.loc[syn, \"csq\"] = \"synonymous\"\n",
    "vep.loc[mis, \"csq\"] = \"missense\"\n",
    "vep.loc[non, \"csq\"] = \"nonsense\"\n",
    "\n",
    "vep = vep.drop(\"info\", axis=1).dropna()  # Keep only syn/mis/non variants"
   ]
  },
  {
   "cell_type": "code",
   "execution_count": null,
   "id": "0115a4a4",
   "metadata": {},
   "outputs": [],
   "source": [
    "# Trinucleotide contexts\n",
    "tri = pd.read_csv(\n",
    "    \"../data/cds_trinucleotide_contexts.tsv\", sep=\"\\t\", dtype=datatypes\n",
    ")"
   ]
  },
  {
   "cell_type": "code",
   "execution_count": null,
   "id": "176ea236",
   "metadata": {},
   "outputs": [],
   "source": [
    "# gnomAD methylation data\n",
    "meth = (pd.read_csv(\"../data/grch38_cpg_methylation.tsv\", \n",
    "                    sep=\"\\t\",\n",
    "                    header=0,\n",
    "                    names=[\"ix\",\"chr\",\"pos\",\"alleles\",\"lvl\"],\n",
    "                    usecols=[\"chr\",\"pos\",\"lvl\"],\n",
    "                   )\n",
    "       )"
   ]
  },
  {
   "cell_type": "code",
   "execution_count": null,
   "id": "4d666f81",
   "metadata": {},
   "outputs": [],
   "source": [
    "# Mutation rates\n",
    "mu = pd.read_csv(\n",
    "    \"../data/gnomad_nc_mutation_rates.tsv\",\n",
    "    sep=\"\\t\",\n",
    "    names=[\"tri\", \"ref\", \"alt\", \"lvl\", \"variant_type\", \"mu\", \"pos\", \"obs\", \"po\", \"ppo\",],\n",
    "    header=0,\n",
    "    usecols=[\"tri\", \"ref\", \"alt\", \"lvl\", \"mu\", \"variant_type\"],\n",
    ")\n",
    "\n",
    "# Mutation rates are only available for 32 codons. We need to reverse-complement for the remainder.\n",
    "complement = {\"A\": \"T\", \"C\": \"G\", \"G\": \"C\", \"T\": \"A\"}\n",
    "# Replace ref and alt alleles\n",
    "_mu = mu.copy().replace(complement)\n",
    "# Reverse-complement trinucleotide contexts\n",
    "_mu[\"tri\"] = pd.Series([\"\".join([complement[y] for y in x])[::-1] for x in mu.tri])\n",
    "mu = pd.concat([mu, _mu])"
   ]
  },
  {
   "cell_type": "markdown",
   "id": "3b4e5497",
   "metadata": {},
   "source": [
    "## Merge annotations"
   ]
  },
  {
   "cell_type": "code",
   "execution_count": null,
   "id": "4948bc90",
   "metadata": {},
   "outputs": [],
   "source": [
    "# Check this\n",
    "# Merge datasets, except for the mutability data\n",
    "df = vep.merge(tri, how=\"left\")\n",
    "df = df.merge(obs, how=\"left\").fillna(0)"
   ]
  },
  {
   "cell_type": "code",
   "execution_count": null,
   "id": "8b28a308",
   "metadata": {},
   "outputs": [],
   "source": [
    "# Merge methylation and mutability annotations\n",
    "\n",
    "## Find the number of CpG sites not represented in the ENCODE data\n",
    "variant_types = mu[[\"tri\", \"ref\", \"alt\", \"variant_type\"]].drop_duplicates()\n",
    "df = df.merge(variant_types, how=\"left\")\n",
    "df = df.merge(meth, how=\"left\")\n",
    "\n",
    "## All non-CpG sites have lvl 0\n",
    "df.loc[df[\"variant_type\"] != \"CpG\", \"lvl\"] = 0\n",
    "df.lvl = df.lvl.astype(int)\n",
    "\n",
    "## Merge with mutability data\n",
    "df = df.merge(mu, how=\"left\")"
   ]
  },
  {
   "cell_type": "markdown",
   "id": "80533385",
   "metadata": {},
   "source": [
    "## Expectation model"
   ]
  },
  {
   "cell_type": "code",
   "execution_count": null,
   "id": "0b05b071",
   "metadata": {},
   "outputs": [],
   "source": [
    "# Load summary statistics\n",
    "stats = pd.read_csv(\"../outputs/mutational_model_stats.tsv\", sep=\"\\t\")\n",
    "\n",
    "# Exclude saturated contexts\n",
    "stats_nonsat = [stats[\"obs\"] != 1].copy()"
   ]
  },
  {
   "cell_type": "markdown",
   "id": "e96cb4d6",
   "metadata": {},
   "source": [
    "### Fit the model"
   ]
  },
  {
   "cell_type": "code",
   "execution_count": null,
   "id": "337e1987",
   "metadata": {},
   "outputs": [],
   "source": [
    "# A function to retrieve the standard error of a proportion\n",
    "def sem(p, n): return np.sqrt((p*(1-p))/n)"
   ]
  },
  {
   "cell_type": "code",
   "execution_count": null,
   "id": "325cb70e",
   "metadata": {},
   "outputs": [],
   "source": [
    "# Get an exponential regression equation \n",
    "# Weighted by 1 / sem(\"obs\"), as per gnomAD paper\n",
    "fit = np.polyfit(stats_nonsat[\"mu\"], np.log(1 - stats_nonsat[\"obs\"]), 1, w=(1/sem(stats_nonsat[\"obs\"], stats_nonsat[\"pos\"])))\n",
    "\n",
    "# Create a polynomial evaluator\n",
    "p = np.poly1d(fit)\n",
    "\n",
    "# \n",
    "stats_nonsat[\"fit_obs\"] = 1 - np.exp(p(stats_nonsat[\"mu\"]))\n",
    "\n",
    "# R2 for \"obs\" vs \"fit_obs\"\n",
    "print(f'R2 = {np.round(r2_score(stats_nonsat[\"obs\"], stats_nonsat[\"fit_obs\"]), 5)} for \"obs\" vs \"fit_obs\"')"
   ]
  },
  {
   "cell_type": "code",
   "execution_count": null,
   "id": "4d14b349",
   "metadata": {},
   "outputs": [],
   "source": []
  },
  {
   "cell_type": "markdown",
   "id": "4588994a",
   "metadata": {},
   "source": [
    "# Summary statistics"
   ]
  },
  {
   "cell_type": "code",
   "execution_count": null,
   "id": "e0cdc6e7",
   "metadata": {},
   "outputs": [],
   "source": [
    "# OE statistics\n",
    "dfg = (\n",
    "    df.groupby([\"csq\", \"enst\"])\n",
    "    .agg(\n",
    "        n_pos=(\"pos\", \"count\"),\n",
    "        n_obs=(\"obs\", \"sum\"),\n",
    "        sqrt_mu=(\"mu\", lambda x: np.mean(np.sqrt(x))),\n",
    "    )\n",
    "    .assign(\n",
    "        p_obs=lambda x: x[\"n_obs\"] / x[\"n_pos\"],\n",
    "        se_p_obs=lambda x: np.sqrt((x[\"p_obs\"] * (1 - x[\"p_obs\"])) / x[\"n_pos\"]),\n",
    "        p_exp=lambda x: model.predict(x[\"sqrt_mu\"]),\n",
    "        se_p_exp=lambda x: np.sqrt((x[\"p_exp\"] * (1 - x[\"p_exp\"])) / x[\"n_pos\"]),\n",
    "        n_exp=lambda x: np.round(x[\"n_pos\"] * x[\"p_exp\"], 2),\n",
    "        oe=lambda x: x[\"n_obs\"] / x[\"n_exp\"],\n",
    "        oe_ci_upper=lambda x: (x[\"p_obs\"] + stats.norm.ppf(0.975) * (x[\"se_p_obs\"]))\n",
    "        / x[\"p_exp\"],\n",
    "        ee_ci_lower=lambda x: (x[\"p_exp\"] - stats.norm.ppf(0.975) * (x[\"se_p_exp\"]))\n",
    "        / x[\"p_exp\"],\n",
    "        oe_diff=lambda x: x[\"oe\"] - x[\"ee_ci_lower\"],\n",
    "    )\n",
    "    .reset_index()\n",
    ")\n",
    "# Z scores and p-values\n",
    "dfg[\"z\"] = dfg.apply(\n",
    "    lambda x: (\n",
    "        proportions_ztest(\n",
    "            x[\"n_obs\"],\n",
    "            x[\"n_pos\"],\n",
    "            x[\"p_exp\"],\n",
    "            alternative=\"two-sided\",\n",
    "            prop_var=x[\"p_exp\"],\n",
    "        )[0]\n",
    "    ),\n",
    "    axis=1,\n",
    ")\n",
    "dfg[\"p\"] = dfg.apply(\n",
    "    lambda x: proportions_ztest(\n",
    "        x[\"n_obs\"],\n",
    "        x[\"n_pos\"],\n",
    "        x[\"p_exp\"],\n",
    "        alternative=\"two-sided\",\n",
    "        prop_var=x[\"p_exp\"],\n",
    "    )[1],\n",
    "    axis=1,\n",
    ")"
   ]
  },
  {
   "cell_type": "markdown",
   "id": "11984588",
   "metadata": {},
   "source": [
    "# Plots"
   ]
  },
  {
   "cell_type": "markdown",
   "id": "c39b1cee",
   "metadata": {},
   "source": [
    "## Expected and observed variants per transcript"
   ]
  },
  {
   "cell_type": "code",
   "execution_count": null,
   "id": "5604001e",
   "metadata": {},
   "outputs": [],
   "source": [
    "# Plot number observed vs number expected per transcript\n",
    "# Exclude TTN for visual clarity\n",
    "sns.set_context(\"talk\")\n",
    "g = sns.lmplot(\n",
    "    data=dfg[dfg.enst != \"ENST00000589042\"],\n",
    "    x=\"n_exp\",\n",
    "    y=\"n_obs\",\n",
    "    col=\"csq\",\n",
    "    col_order=[\"synonymous\", \"missense\", \"nonsense\"],\n",
    "    facet_kws={\"sharex\": False, \"sharey\": False},\n",
    "    ci=None,\n",
    "    height=4,\n",
    ")\n",
    "g.set_titles(col_template=\"{col_name}\")\n",
    "g.set_axis_labels(\"Expected\", \"Observed\")\n",
    "for ax in g.axes[0]:\n",
    "    ax.axline((0, 0), (1, 1), color=\"grey\")\n",
    "g.fig.subplots_adjust(top=0.8)\n",
    "g.fig.suptitle(\"Variants per transcript\");"
   ]
  },
  {
   "cell_type": "markdown",
   "id": "010fc14c",
   "metadata": {},
   "source": [
    "## O/E distributions"
   ]
  },
  {
   "cell_type": "code",
   "execution_count": null,
   "id": "8b951aa8",
   "metadata": {},
   "outputs": [],
   "source": [
    "# Plot distributions of O/E ratio per transcript\n",
    "g = sns.displot(\n",
    "    data=dfg,\n",
    "    kind=\"kde\",\n",
    "    x=\"oe\",\n",
    "    col=\"csq\",\n",
    "    col_order=[\"synonymous\", \"missense\", \"nonsense\"],\n",
    "    facet_kws={\"sharex\": False, \"sharey\": False},\n",
    "    height=4,\n",
    ")\n",
    "g.set_titles(col_template=\"{col_name}\")\n",
    "g.set_axis_labels(\"O/E\")\n",
    "g.set(xlim=(0, 2))\n",
    "g.fig.subplots_adjust(top=0.8)\n",
    "g.fig.suptitle(\"O/E ratio per transcript\");"
   ]
  },
  {
   "cell_type": "markdown",
   "id": "6d1a5f67",
   "metadata": {},
   "source": [
    "## O/E upper confidence interval distribution"
   ]
  },
  {
   "cell_type": "code",
   "execution_count": null,
   "id": "b946d746",
   "metadata": {},
   "outputs": [],
   "source": [
    "# Plot distributions of O/E upper confidence interval per transcript\n",
    "g = sns.displot(\n",
    "    data=dfg,\n",
    "    kind=\"kde\",\n",
    "    x=\"oe_ci_upper\",\n",
    "    col=\"csq\",\n",
    "    col_order=[\"synonymous\", \"missense\", \"nonsense\"],\n",
    "    facet_kws={\"sharex\": False, \"sharey\": False},\n",
    "    height=4,\n",
    ")\n",
    "g.set_titles(col_template=\"{col_name}\")\n",
    "g.set_axis_labels(\"O/E upper 95% CI\")\n",
    "g.set(xlim=(0, 2))\n",
    "g.fig.subplots_adjust(top=0.8)\n",
    "g.fig.suptitle(\"O/E upper 95% confidence interval per transcript\");"
   ]
  },
  {
   "cell_type": "markdown",
   "id": "2130c279",
   "metadata": {},
   "source": [
    "## O/E difference from E/E lower confidence interval"
   ]
  },
  {
   "cell_type": "code",
   "execution_count": null,
   "id": "f71dbdc1",
   "metadata": {},
   "outputs": [],
   "source": [
    "# Plot distributions of O/E difference from E/E lower 95% confidence interval per transcript\n",
    "g = sns.displot(\n",
    "    data=dfg,\n",
    "    kind=\"kde\",\n",
    "    x=\"oe_diff\",\n",
    "    col=\"csq\",\n",
    "    col_order=[\"synonymous\", \"missense\", \"nonsense\"],\n",
    "    facet_kws={\"sharex\": True, \"sharey\": False},\n",
    "    height=4,\n",
    ")\n",
    "g.set_titles(col_template=\"{col_name}\")\n",
    "g.set_axis_labels(\"O/E difference\")\n",
    "g.set(xlim=(-1, 1))\n",
    "g.fig.subplots_adjust(top=0.8)\n",
    "g.fig.suptitle(\"O/E difference from E/E lower 95% confidence interval per transcript\");"
   ]
  },
  {
   "cell_type": "markdown",
   "id": "94dc38d9",
   "metadata": {},
   "source": [
    "## N expected by consequence"
   ]
  },
  {
   "cell_type": "code",
   "execution_count": null,
   "id": "127d8eb9",
   "metadata": {},
   "outputs": [],
   "source": [
    "# Plot distributions of n_exp per transcript\n",
    "sns.set_context(\"talk\")\n",
    "g = sns.displot(\n",
    "    data=dfg,\n",
    "    kind=\"ecdf\",\n",
    "    x=\"n_exp\",\n",
    "    col=\"csq\",\n",
    "    col_order=[\"synonymous\", \"missense\", \"nonsense\"],\n",
    "    facet_kws={\"sharex\": False, \"sharey\": False},\n",
    "    height=4,\n",
    ")\n",
    "g.set_titles(col_template=\"{col_name}\")\n",
    "g.set_axis_labels(\"Expected\")\n",
    "\n",
    "# Set x-axis limits\n",
    "g.axes[0, 0].set_xlim(0, 200)\n",
    "g.axes[0, 1].set_xlim(0, 500)\n",
    "g.axes[0, 2].set_xlim(0, 20)\n",
    "g.fig.subplots_adjust(top=0.8)\n",
    "g.fig.suptitle(\"Expected variants per transcript\");"
   ]
  },
  {
   "cell_type": "markdown",
   "id": "4303925f",
   "metadata": {},
   "source": [
    "## One-sample Z score"
   ]
  },
  {
   "cell_type": "code",
   "execution_count": null,
   "id": "080a6dd2",
   "metadata": {},
   "outputs": [],
   "source": [
    "# Plot distributions of one-sample Z scores per transcript\n",
    "sns.set_context(\"talk\")\n",
    "g = sns.displot(\n",
    "    data=dfg,\n",
    "    kind=\"kde\",\n",
    "    x=\"z\",\n",
    "    col=\"csq\",\n",
    "    col_order=[\"synonymous\", \"missense\", \"nonsense\"],\n",
    "    facet_kws={\"sharex\": True, \"sharey\": False},\n",
    "    height=4,\n",
    ")\n",
    "g.set_titles(col_template=\"{col_name}\")\n",
    "g.set_axis_labels(\"Z\")\n",
    "g.set(xlim=(-10, 5))\n",
    "g.fig.subplots_adjust(top=0.8)\n",
    "g.fig.suptitle(\"One-sample Z-scores per transcript\");"
   ]
  },
  {
   "cell_type": "markdown",
   "id": "c01691bd",
   "metadata": {},
   "source": [
    "## P-values"
   ]
  },
  {
   "cell_type": "code",
   "execution_count": null,
   "id": "ef882f36",
   "metadata": {},
   "outputs": [],
   "source": [
    "# Plot distributions of p-values per transcript\n",
    "sns.set_context(\"talk\")\n",
    "g = sns.displot(\n",
    "    data=dfg,\n",
    "    kind=\"kde\",\n",
    "    x=\"p\",\n",
    "    col=\"csq\",\n",
    "    col_order=[\"synonymous\", \"missense\", \"nonsense\"],\n",
    "    facet_kws={\"sharex\": True, \"sharey\": False},\n",
    "    height=4,\n",
    ")\n",
    "g.set_titles(col_template=\"{col_name}\")\n",
    "g.set_axis_labels(\"p\")\n",
    "g.set(xscale=\"log\")\n",
    "g.set(xlim=(0, 1))\n",
    "g.fig.subplots_adjust(top=0.8)\n",
    "g.fig.suptitle(\"p-values per transcript\");"
   ]
  }
 ],
 "metadata": {
  "kernelspec": {
   "display_name": "Python 3",
   "language": "python",
   "name": "python3"
  },
  "language_info": {
   "codemirror_mode": {
    "name": "ipython",
    "version": 3
   },
   "file_extension": ".py",
   "mimetype": "text/x-python",
   "name": "python",
   "nbconvert_exporter": "python",
   "pygments_lexer": "ipython3",
   "version": "3.6.5"
  }
 },
 "nbformat": 4,
 "nbformat_minor": 5
}
