{
 "cells": [
  {
   "cell_type": "code",
   "execution_count": 1,
   "id": "d732c901-737e-4043-8539-969ed1fda606",
   "metadata": {
    "tags": []
   },
   "outputs": [],
   "source": [
    "import numpy as np\n",
    "import pandas as pd"
   ]
  },
  {
   "cell_type": "markdown",
   "id": "3714f679-a80f-46b3-b466-28a0a7228ea0",
   "metadata": {},
   "source": [
    "## Genomic footprint of NMD regions"
   ]
  },
  {
   "cell_type": "code",
   "execution_count": 2,
   "id": "530fb68b-9209-4158-967a-41ca9d11eba6",
   "metadata": {
    "tags": []
   },
   "outputs": [
    {
     "data": {
      "text/plain": [
       "region\n",
       "nmd_target        0.613358\n",
       "distal_nmd        0.219985\n",
       "start_proximal    0.087468\n",
       "long_exon         0.079188\n",
       "Name: footprint, dtype: float64"
      ]
     },
     "execution_count": 2,
     "metadata": {},
     "output_type": "execute_result"
    }
   ],
   "source": [
    "# Read NMD annotations\n",
    "nmd = pd.read_csv(\n",
    "    \"../outputs/nmd_annotations.tsv\",\n",
    "    sep=\"\\t\",\n",
    "    usecols=[\"nmd_definitive\"],\n",
    "    dtype=\"category\",\n",
    ")\n",
    "\n",
    "# Get relative CDS footprint\n",
    "footprint = nmd[\"nmd_definitive\"].value_counts(normalize=True).rename(\"footprint\")\n",
    "footprint.index.rename(\"region\", inplace=True)\n",
    "\n",
    "# Save to output\n",
    "footprint.to_csv(\n",
    "    \"../outputs/stats_nmd_footprint.tsv\",\n",
    "    sep=\"\\t\",\n",
    ")\n",
    "\n",
    "footprint"
   ]
  },
  {
   "cell_type": "markdown",
   "id": "9a39b9e2-7283-4b97-8336-7d127620ec03",
   "metadata": {},
   "source": [
    "## Variant ascertainment in ClinVar"
   ]
  },
  {
   "cell_type": "code",
   "execution_count": 3,
   "id": "f7583def-2111-4708-9f75-9a9a38c9e15e",
   "metadata": {
    "tags": []
   },
   "outputs": [
    {
     "data": {
      "text/plain": [
       "region\n",
       "distal_nmd        0.567295\n",
       "long_exon         1.406573\n",
       "nmd_target        1.153902\n",
       "start_proximal    0.640970\n",
       "Name: prop_norm, dtype: float64"
      ]
     },
     "execution_count": 3,
     "metadata": {},
     "output_type": "execute_result"
    }
   ],
   "source": [
    "cv = (\n",
    "    pd.read_csv(\n",
    "        \"../outputs/clinvar_variants_lof_with_nmd_annotation.tsv\",\n",
    "        sep=\"\\t\",\n",
    "    )\n",
    "    .replace(\n",
    "        {\n",
    "            \"nmd\": \"nmd_target\",\n",
    "            \"distal\": \"distal_nmd\",\n",
    "        }\n",
    "    )\n",
    "    .rename(columns={\"variant_region\": \"region\"})\n",
    ")\n",
    "\n",
    "# The proportion of ClinVar variants in each region (ascertainment)\n",
    "cv_asc = cv.region.value_counts(normalize=True).rename(\"proportion_variants\")\n",
    "cv_asc.index.rename(\"region\", inplace=True)\n",
    "\n",
    "# Normalize by the footprint of the region\n",
    "cv_asc_norm = (cv_asc / footprint).rename(\"prop_norm\")\n",
    "\n",
    "# Save to output\n",
    "cv_asc_norm.to_csv(\"../outputs/stats_clinvar_ascertainment.tsv\", sep=\"\\t\")\n",
    "\n",
    "cv_asc_norm"
   ]
  },
  {
   "cell_type": "markdown",
   "id": "75f5e3da-c2f8-4963-ad76-c1b2d61013c4",
   "metadata": {},
   "source": [
    "## Proportion of VUS in ClinVar by NMD region"
   ]
  },
  {
   "cell_type": "code",
   "execution_count": 4,
   "id": "3c8d5550-615d-4ca6-8eed-71256dbfd114",
   "metadata": {
    "tags": []
   },
   "outputs": [
    {
     "data": {
      "text/html": [
       "<div>\n",
       "<style scoped>\n",
       "    .dataframe tbody tr th:only-of-type {\n",
       "        vertical-align: middle;\n",
       "    }\n",
       "\n",
       "    .dataframe tbody tr th {\n",
       "        vertical-align: top;\n",
       "    }\n",
       "\n",
       "    .dataframe thead th {\n",
       "        text-align: right;\n",
       "    }\n",
       "</style>\n",
       "<table border=\"1\" class=\"dataframe\">\n",
       "  <thead>\n",
       "    <tr style=\"text-align: right;\">\n",
       "      <th></th>\n",
       "      <th>region</th>\n",
       "      <th>acmg</th>\n",
       "      <th>proportion</th>\n",
       "    </tr>\n",
       "  </thead>\n",
       "  <tbody>\n",
       "    <tr>\n",
       "      <th>0</th>\n",
       "      <td>distal_nmd</td>\n",
       "      <td>P/LP</td>\n",
       "      <td>0.667627</td>\n",
       "    </tr>\n",
       "    <tr>\n",
       "      <th>1</th>\n",
       "      <td>distal_nmd</td>\n",
       "      <td>VUS</td>\n",
       "      <td>0.310823</td>\n",
       "    </tr>\n",
       "    <tr>\n",
       "      <th>2</th>\n",
       "      <td>distal_nmd</td>\n",
       "      <td>B/LB</td>\n",
       "      <td>0.021550</td>\n",
       "    </tr>\n",
       "    <tr>\n",
       "      <th>3</th>\n",
       "      <td>long_exon</td>\n",
       "      <td>P/LP</td>\n",
       "      <td>0.941715</td>\n",
       "    </tr>\n",
       "    <tr>\n",
       "      <th>4</th>\n",
       "      <td>long_exon</td>\n",
       "      <td>VUS</td>\n",
       "      <td>0.054210</td>\n",
       "    </tr>\n",
       "    <tr>\n",
       "      <th>5</th>\n",
       "      <td>long_exon</td>\n",
       "      <td>B/LB</td>\n",
       "      <td>0.004075</td>\n",
       "    </tr>\n",
       "    <tr>\n",
       "      <th>6</th>\n",
       "      <td>nmd_target</td>\n",
       "      <td>P/LP</td>\n",
       "      <td>0.908297</td>\n",
       "    </tr>\n",
       "    <tr>\n",
       "      <th>7</th>\n",
       "      <td>nmd_target</td>\n",
       "      <td>VUS</td>\n",
       "      <td>0.087468</td>\n",
       "    </tr>\n",
       "    <tr>\n",
       "      <th>8</th>\n",
       "      <td>nmd_target</td>\n",
       "      <td>B/LB</td>\n",
       "      <td>0.004235</td>\n",
       "    </tr>\n",
       "    <tr>\n",
       "      <th>9</th>\n",
       "      <td>start_proximal</td>\n",
       "      <td>P/LP</td>\n",
       "      <td>0.864650</td>\n",
       "    </tr>\n",
       "    <tr>\n",
       "      <th>10</th>\n",
       "      <td>start_proximal</td>\n",
       "      <td>VUS</td>\n",
       "      <td>0.123434</td>\n",
       "    </tr>\n",
       "    <tr>\n",
       "      <th>11</th>\n",
       "      <td>start_proximal</td>\n",
       "      <td>B/LB</td>\n",
       "      <td>0.011916</td>\n",
       "    </tr>\n",
       "  </tbody>\n",
       "</table>\n",
       "</div>"
      ],
      "text/plain": [
       "            region  acmg  proportion\n",
       "0       distal_nmd  P/LP    0.667627\n",
       "1       distal_nmd   VUS    0.310823\n",
       "2       distal_nmd  B/LB    0.021550\n",
       "3        long_exon  P/LP    0.941715\n",
       "4        long_exon   VUS    0.054210\n",
       "5        long_exon  B/LB    0.004075\n",
       "6       nmd_target  P/LP    0.908297\n",
       "7       nmd_target   VUS    0.087468\n",
       "8       nmd_target  B/LB    0.004235\n",
       "9   start_proximal  P/LP    0.864650\n",
       "10  start_proximal   VUS    0.123434\n",
       "11  start_proximal  B/LB    0.011916"
      ]
     },
     "execution_count": 4,
     "metadata": {},
     "output_type": "execute_result"
    }
   ],
   "source": [
    "# Find the relative proportion of P/LP/VUS/LB/B variants in ClinVar by region\n",
    "cv_vus = (\n",
    "    cv.groupby(\"region\")[\"acmg\"]\n",
    "    .value_counts(normalize=True)\n",
    "    .rename(\"proportion\")\n",
    "    .reset_index()\n",
    ")\n",
    "\n",
    "# Save to output\n",
    "cv_vus.to_csv(\"../outputs/stats_clinvar_acmg_by_region.tsv\", sep=\"\\t\", index=False)\n",
    "\n",
    "cv_vus"
   ]
  }
 ],
 "metadata": {
  "kernelspec": {
   "display_name": "Python [conda env:ukb]",
   "language": "python",
   "name": "conda-env-ukb-py"
  },
  "language_info": {
   "codemirror_mode": {
    "name": "ipython",
    "version": 3
   },
   "file_extension": ".py",
   "mimetype": "text/x-python",
   "name": "python",
   "nbconvert_exporter": "python",
   "pygments_lexer": "ipython3",
   "version": "3.8.17"
  }
 },
 "nbformat": 4,
 "nbformat_minor": 5
}
