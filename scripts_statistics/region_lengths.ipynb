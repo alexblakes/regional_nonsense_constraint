{
 "cells": [
  {
   "cell_type": "markdown",
   "id": "8c52a3eb-dff8-44a0-ad69-6069d0457016",
   "metadata": {
    "tags": []
   },
   "source": [
    "# Region lengths\n",
    "This script produces summary statistics describing the length and count of NMD regions, stratified by constraint."
   ]
  },
  {
   "cell_type": "markdown",
   "id": "4d63c441-e80e-45a4-8b99-b5fc495cfeae",
   "metadata": {},
   "source": [
    "## Imports"
   ]
  },
  {
   "cell_type": "code",
   "execution_count": 1,
   "id": "9c26b499-f15e-4449-a15d-adbc0b0bdad0",
   "metadata": {
    "tags": []
   },
   "outputs": [],
   "source": [
    "import numpy as np\n",
    "import pandas as pd"
   ]
  },
  {
   "cell_type": "markdown",
   "id": "6f24eb2c-e271-4bdc-85dc-81b60872305e",
   "metadata": {},
   "source": [
    "## Read data"
   ]
  },
  {
   "cell_type": "code",
   "execution_count": 2,
   "id": "53c99412-7681-4df4-bb71-92e14b144528",
   "metadata": {
    "tags": []
   },
   "outputs": [],
   "source": [
    "# Constraint data\n",
    "constraint = pd.read_csv(\n",
    "    \"../outputs/constrained_regions_labels.tsv\", sep=\"\\t\", dtype=\"category\"\n",
    ")"
   ]
  },
  {
   "cell_type": "code",
   "execution_count": 3,
   "id": "f740f054-09bd-4637-b091-2ada75ddddbe",
   "metadata": {
    "tags": []
   },
   "outputs": [],
   "source": [
    "# NMD annotations\n",
    "nmd = pd.read_csv(\n",
    "    \"../outputs/nmd_annotations.tsv\",\n",
    "    sep=\"\\t\",\n",
    "    usecols=[\"transcript_id\", \"nmd_definitive\"],\n",
    "    dtype=\"category\",\n",
    ").set_axis([\"enst\", \"region\"], axis=1)\n",
    "\n",
    "# Get the size of each region\n",
    "nmd = nmd.groupby([\"enst\", \"region\"])[\"region\"].count().rename(\"size\").reset_index()\n",
    "\n",
    "# Drop regions with size 0\n",
    "nmd = nmd[nmd[\"size\"] != 0]\n",
    "\n",
    "# Get the size of the whole CDS\n",
    "cds = (\n",
    "    nmd.groupby(\"enst\")[\"size\"]\n",
    "    .sum()\n",
    "    .reset_index()\n",
    "    .assign(region=\"transcript\")\n",
    "    .astype({\"region\": \"category\"})\n",
    ")\n",
    "\n",
    "# Append CDS data to NMD data\n",
    "nmd = pd.concat([nmd, cds])"
   ]
  },
  {
   "cell_type": "markdown",
   "id": "880ce145-0839-4d66-bb67-82630d99a874",
   "metadata": {},
   "source": [
    "## Combine annotations"
   ]
  },
  {
   "cell_type": "code",
   "execution_count": 4,
   "id": "1fde9a8f-50cf-4a65-89ba-b221f9c8d983",
   "metadata": {
    "tags": []
   },
   "outputs": [],
   "source": [
    "# Merge NMD and constraint annotations\n",
    "df = nmd.merge(constraint, how=\"left\").astype(\n",
    "    {\"enst\": str, \"region\": str, \"constraint\": str}\n",
    ")\n",
    "\n",
    "# Fill NaN values in constraint column\n",
    "df[\"constraint\"] = df[\"constraint\"].replace(\"nan\", \"indeterminate\")"
   ]
  },
  {
   "cell_type": "markdown",
   "id": "5c2aef5b-4237-48a4-b5c2-f9ee1aba028f",
   "metadata": {
    "tags": []
   },
   "source": [
    "## Summary statistics\n",
    "Produce summary statistics and write to output"
   ]
  },
  {
   "cell_type": "markdown",
   "id": "e9c87ee5-fddc-4caa-bc6a-ad392b3a4ea5",
   "metadata": {},
   "source": [
    "### Region sizes"
   ]
  },
  {
   "cell_type": "code",
   "execution_count": 5,
   "id": "ee165bf3-1b86-4d74-9726-0b3c6fee4ea6",
   "metadata": {
    "tags": []
   },
   "outputs": [
    {
     "data": {
      "text/html": [
       "<div>\n",
       "<style scoped>\n",
       "    .dataframe tbody tr th:only-of-type {\n",
       "        vertical-align: middle;\n",
       "    }\n",
       "\n",
       "    .dataframe tbody tr th {\n",
       "        vertical-align: top;\n",
       "    }\n",
       "\n",
       "    .dataframe thead th {\n",
       "        text-align: right;\n",
       "    }\n",
       "</style>\n",
       "<table border=\"1\" class=\"dataframe\">\n",
       "  <thead>\n",
       "    <tr style=\"text-align: right;\">\n",
       "      <th></th>\n",
       "      <th>enst</th>\n",
       "      <th>region</th>\n",
       "      <th>size</th>\n",
       "      <th>constraint</th>\n",
       "    </tr>\n",
       "  </thead>\n",
       "  <tbody>\n",
       "    <tr>\n",
       "      <th>31180</th>\n",
       "      <td>ENST00000642050</td>\n",
       "      <td>distal_nmd</td>\n",
       "      <td>170</td>\n",
       "      <td>unconstrained</td>\n",
       "    </tr>\n",
       "    <tr>\n",
       "      <th>14426</th>\n",
       "      <td>ENST00000412566</td>\n",
       "      <td>start_proximal</td>\n",
       "      <td>150</td>\n",
       "      <td>unconstrained</td>\n",
       "    </tr>\n",
       "    <tr>\n",
       "      <th>46710</th>\n",
       "      <td>ENST00000543494</td>\n",
       "      <td>nmd_target</td>\n",
       "      <td>18</td>\n",
       "      <td>indeterminate</td>\n",
       "    </tr>\n",
       "    <tr>\n",
       "      <th>21831</th>\n",
       "      <td>ENST00000396958</td>\n",
       "      <td>start_proximal</td>\n",
       "      <td>150</td>\n",
       "      <td>unconstrained</td>\n",
       "    </tr>\n",
       "    <tr>\n",
       "      <th>66356</th>\n",
       "      <td>ENST00000611815</td>\n",
       "      <td>transcript</td>\n",
       "      <td>2121</td>\n",
       "      <td>indeterminate</td>\n",
       "    </tr>\n",
       "  </tbody>\n",
       "</table>\n",
       "</div>"
      ],
      "text/plain": [
       "                  enst          region  size     constraint\n",
       "31180  ENST00000642050      distal_nmd   170  unconstrained\n",
       "14426  ENST00000412566  start_proximal   150  unconstrained\n",
       "46710  ENST00000543494      nmd_target    18  indeterminate\n",
       "21831  ENST00000396958  start_proximal   150  unconstrained\n",
       "66356  ENST00000611815      transcript  2121  indeterminate"
      ]
     },
     "execution_count": 5,
     "metadata": {},
     "output_type": "execute_result"
    }
   ],
   "source": [
    "region_size = df.copy()\n",
    "region_size.to_csv(\"../outputs/stats_region_size.tsv\", sep=\"\\t\", index=False)\n",
    "region_size.sample(5)"
   ]
  },
  {
   "cell_type": "markdown",
   "id": "3689e991-80a6-4597-929d-1070247b413f",
   "metadata": {},
   "source": [
    "### Overall genomic footprint"
   ]
  },
  {
   "cell_type": "code",
   "execution_count": 6,
   "id": "47bdcefd-8aa2-434d-be6c-fde1c7a2ae40",
   "metadata": {
    "tags": []
   },
   "outputs": [
    {
     "data": {
      "text/html": [
       "<div>\n",
       "<style scoped>\n",
       "    .dataframe tbody tr th:only-of-type {\n",
       "        vertical-align: middle;\n",
       "    }\n",
       "\n",
       "    .dataframe tbody tr th {\n",
       "        vertical-align: top;\n",
       "    }\n",
       "\n",
       "    .dataframe thead th {\n",
       "        text-align: right;\n",
       "    }\n",
       "</style>\n",
       "<table border=\"1\" class=\"dataframe\">\n",
       "  <thead>\n",
       "    <tr style=\"text-align: right;\">\n",
       "      <th></th>\n",
       "      <th>region</th>\n",
       "      <th>constraint</th>\n",
       "      <th>size</th>\n",
       "    </tr>\n",
       "  </thead>\n",
       "  <tbody>\n",
       "    <tr>\n",
       "      <th>0</th>\n",
       "      <td>distal_nmd</td>\n",
       "      <td>constrained</td>\n",
       "      <td>745153</td>\n",
       "    </tr>\n",
       "    <tr>\n",
       "      <th>1</th>\n",
       "      <td>distal_nmd</td>\n",
       "      <td>indeterminate</td>\n",
       "      <td>2657958</td>\n",
       "    </tr>\n",
       "    <tr>\n",
       "      <th>2</th>\n",
       "      <td>distal_nmd</td>\n",
       "      <td>unconstrained</td>\n",
       "      <td>4115545</td>\n",
       "    </tr>\n",
       "    <tr>\n",
       "      <th>3</th>\n",
       "      <td>long_exon</td>\n",
       "      <td>constrained</td>\n",
       "      <td>725644</td>\n",
       "    </tr>\n",
       "    <tr>\n",
       "      <th>4</th>\n",
       "      <td>long_exon</td>\n",
       "      <td>indeterminate</td>\n",
       "      <td>1184147</td>\n",
       "    </tr>\n",
       "    <tr>\n",
       "      <th>5</th>\n",
       "      <td>long_exon</td>\n",
       "      <td>unconstrained</td>\n",
       "      <td>796707</td>\n",
       "    </tr>\n",
       "    <tr>\n",
       "      <th>6</th>\n",
       "      <td>nmd_target</td>\n",
       "      <td>constrained</td>\n",
       "      <td>4584703</td>\n",
       "    </tr>\n",
       "    <tr>\n",
       "      <th>7</th>\n",
       "      <td>nmd_target</td>\n",
       "      <td>indeterminate</td>\n",
       "      <td>10435976</td>\n",
       "    </tr>\n",
       "    <tr>\n",
       "      <th>8</th>\n",
       "      <td>nmd_target</td>\n",
       "      <td>unconstrained</td>\n",
       "      <td>5942643</td>\n",
       "    </tr>\n",
       "    <tr>\n",
       "      <th>9</th>\n",
       "      <td>start_proximal</td>\n",
       "      <td>indeterminate</td>\n",
       "      <td>1350201</td>\n",
       "    </tr>\n",
       "    <tr>\n",
       "      <th>10</th>\n",
       "      <td>start_proximal</td>\n",
       "      <td>unconstrained</td>\n",
       "      <td>1639294</td>\n",
       "    </tr>\n",
       "    <tr>\n",
       "      <th>11</th>\n",
       "      <td>transcript</td>\n",
       "      <td>constrained</td>\n",
       "      <td>7667472</td>\n",
       "    </tr>\n",
       "    <tr>\n",
       "      <th>12</th>\n",
       "      <td>transcript</td>\n",
       "      <td>indeterminate</td>\n",
       "      <td>16168901</td>\n",
       "    </tr>\n",
       "    <tr>\n",
       "      <th>13</th>\n",
       "      <td>transcript</td>\n",
       "      <td>unconstrained</td>\n",
       "      <td>10341598</td>\n",
       "    </tr>\n",
       "  </tbody>\n",
       "</table>\n",
       "</div>"
      ],
      "text/plain": [
       "            region     constraint      size\n",
       "0       distal_nmd    constrained    745153\n",
       "1       distal_nmd  indeterminate   2657958\n",
       "2       distal_nmd  unconstrained   4115545\n",
       "3        long_exon    constrained    725644\n",
       "4        long_exon  indeterminate   1184147\n",
       "5        long_exon  unconstrained    796707\n",
       "6       nmd_target    constrained   4584703\n",
       "7       nmd_target  indeterminate  10435976\n",
       "8       nmd_target  unconstrained   5942643\n",
       "9   start_proximal  indeterminate   1350201\n",
       "10  start_proximal  unconstrained   1639294\n",
       "11      transcript    constrained   7667472\n",
       "12      transcript  indeterminate  16168901\n",
       "13      transcript  unconstrained  10341598"
      ]
     },
     "execution_count": 6,
     "metadata": {},
     "output_type": "execute_result"
    }
   ],
   "source": [
    "region_footprint = (\n",
    "    df.groupby([\"region\", \"constraint\"])[\"size\"].sum().rename(\"size\").reset_index()\n",
    ")\n",
    "region_footprint.to_csv(\"../outputs/stats_region_footprint.tsv\", sep=\"\\t\", index=False)\n",
    "region_footprint"
   ]
  },
  {
   "cell_type": "markdown",
   "id": "672cd7e0-347f-43a4-be1c-864bea45d475",
   "metadata": {},
   "source": [
    "### Region counts"
   ]
  },
  {
   "cell_type": "code",
   "execution_count": 7,
   "id": "a19eca1a-9747-410c-8696-3c94199b2313",
   "metadata": {
    "tags": []
   },
   "outputs": [
    {
     "data": {
      "text/html": [
       "<div>\n",
       "<style scoped>\n",
       "    .dataframe tbody tr th:only-of-type {\n",
       "        vertical-align: middle;\n",
       "    }\n",
       "\n",
       "    .dataframe tbody tr th {\n",
       "        vertical-align: top;\n",
       "    }\n",
       "\n",
       "    .dataframe thead th {\n",
       "        text-align: right;\n",
       "    }\n",
       "</style>\n",
       "<table border=\"1\" class=\"dataframe\">\n",
       "  <thead>\n",
       "    <tr style=\"text-align: right;\">\n",
       "      <th></th>\n",
       "      <th>region</th>\n",
       "      <th>constraint</th>\n",
       "      <th>n</th>\n",
       "    </tr>\n",
       "  </thead>\n",
       "  <tbody>\n",
       "    <tr>\n",
       "      <th>0</th>\n",
       "      <td>distal_nmd</td>\n",
       "      <td>constrained</td>\n",
       "      <td>548</td>\n",
       "    </tr>\n",
       "    <tr>\n",
       "      <th>1</th>\n",
       "      <td>distal_nmd</td>\n",
       "      <td>indeterminate</td>\n",
       "      <td>7739</td>\n",
       "    </tr>\n",
       "    <tr>\n",
       "      <th>2</th>\n",
       "      <td>distal_nmd</td>\n",
       "      <td>unconstrained</td>\n",
       "      <td>11233</td>\n",
       "    </tr>\n",
       "    <tr>\n",
       "      <th>3</th>\n",
       "      <td>long_exon</td>\n",
       "      <td>constrained</td>\n",
       "      <td>388</td>\n",
       "    </tr>\n",
       "    <tr>\n",
       "      <th>4</th>\n",
       "      <td>long_exon</td>\n",
       "      <td>indeterminate</td>\n",
       "      <td>1733</td>\n",
       "    </tr>\n",
       "    <tr>\n",
       "      <th>5</th>\n",
       "      <td>long_exon</td>\n",
       "      <td>unconstrained</td>\n",
       "      <td>1519</td>\n",
       "    </tr>\n",
       "    <tr>\n",
       "      <th>6</th>\n",
       "      <td>nmd_target</td>\n",
       "      <td>constrained</td>\n",
       "      <td>2380</td>\n",
       "    </tr>\n",
       "    <tr>\n",
       "      <th>7</th>\n",
       "      <td>nmd_target</td>\n",
       "      <td>indeterminate</td>\n",
       "      <td>7119</td>\n",
       "    </tr>\n",
       "    <tr>\n",
       "      <th>8</th>\n",
       "      <td>nmd_target</td>\n",
       "      <td>unconstrained</td>\n",
       "      <td>7300</td>\n",
       "    </tr>\n",
       "    <tr>\n",
       "      <th>9</th>\n",
       "      <td>start_proximal</td>\n",
       "      <td>indeterminate</td>\n",
       "      <td>9031</td>\n",
       "    </tr>\n",
       "    <tr>\n",
       "      <th>10</th>\n",
       "      <td>start_proximal</td>\n",
       "      <td>unconstrained</td>\n",
       "      <td>10933</td>\n",
       "    </tr>\n",
       "    <tr>\n",
       "      <th>11</th>\n",
       "      <td>transcript</td>\n",
       "      <td>constrained</td>\n",
       "      <td>3538</td>\n",
       "    </tr>\n",
       "    <tr>\n",
       "      <th>12</th>\n",
       "      <td>transcript</td>\n",
       "      <td>indeterminate</td>\n",
       "      <td>7546</td>\n",
       "    </tr>\n",
       "    <tr>\n",
       "      <th>13</th>\n",
       "      <td>transcript</td>\n",
       "      <td>unconstrained</td>\n",
       "      <td>8880</td>\n",
       "    </tr>\n",
       "  </tbody>\n",
       "</table>\n",
       "</div>"
      ],
      "text/plain": [
       "            region     constraint      n\n",
       "0       distal_nmd    constrained    548\n",
       "1       distal_nmd  indeterminate   7739\n",
       "2       distal_nmd  unconstrained  11233\n",
       "3        long_exon    constrained    388\n",
       "4        long_exon  indeterminate   1733\n",
       "5        long_exon  unconstrained   1519\n",
       "6       nmd_target    constrained   2380\n",
       "7       nmd_target  indeterminate   7119\n",
       "8       nmd_target  unconstrained   7300\n",
       "9   start_proximal  indeterminate   9031\n",
       "10  start_proximal  unconstrained  10933\n",
       "11      transcript    constrained   3538\n",
       "12      transcript  indeterminate   7546\n",
       "13      transcript  unconstrained   8880"
      ]
     },
     "execution_count": 7,
     "metadata": {},
     "output_type": "execute_result"
    }
   ],
   "source": [
    "region_count = (\n",
    "    df.groupby([\"region\", \"constraint\"])[\"size\"].count().rename(\"n\").reset_index()\n",
    ")\n",
    "region_count.to_csv(\"../outputs/stats_region_count.tsv\", sep=\"\\t\", index=False)\n",
    "region_count"
   ]
  }
 ],
 "metadata": {
  "kernelspec": {
   "display_name": "Python [conda env:ukb]",
   "language": "python",
   "name": "conda-env-ukb-py"
  },
  "language_info": {
   "codemirror_mode": {
    "name": "ipython",
    "version": 3
   },
   "file_extension": ".py",
   "mimetype": "text/x-python",
   "name": "python",
   "nbconvert_exporter": "python",
   "pygments_lexer": "ipython3",
   "version": "3.8.17"
  }
 },
 "nbformat": 4,
 "nbformat_minor": 5
}
