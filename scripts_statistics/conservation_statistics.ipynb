{
 "cells": [
  {
   "cell_type": "markdown",
   "id": "0c0f3624-9368-4a62-8121-3a1cfad690a9",
   "metadata": {},
   "source": [
    "# Conservation statistics"
   ]
  },
  {
   "cell_type": "code",
   "execution_count": 1,
   "id": "e21b5a92-0903-4af9-9382-7c0303db56f4",
   "metadata": {
    "tags": []
   },
   "outputs": [],
   "source": [
    "%%bash\n",
    "dx download -f -o ../outputs/ outputs/nmd_annotations.tsv\n",
    "dx download -f -o ../outputs/ outputs/phylop_all_sites.tsv"
   ]
  },
  {
   "cell_type": "code",
   "execution_count": 2,
   "id": "f8113d97-a229-4776-8d2a-fe1973fe6b54",
   "metadata": {
    "tags": []
   },
   "outputs": [],
   "source": [
    "import numpy as np\n",
    "import pandas as pd"
   ]
  },
  {
   "cell_type": "code",
   "execution_count": 5,
   "id": "c706439d-2c96-4c4e-934d-73be4d0e3901",
   "metadata": {
    "tags": []
   },
   "outputs": [],
   "source": [
    "nmd = pd.read_csv(\n",
    "    \"../outputs/nmd_annotations.tsv\",\n",
    "    sep=\"\\t\",\n",
    "    usecols=[\"chr\", \"pos\", \"transcript_id\", \"nmd_definitive\"],\n",
    ")"
   ]
  },
  {
   "cell_type": "code",
   "execution_count": 3,
   "id": "ba383029-a408-4cfb-9a93-aae462890492",
   "metadata": {
    "tags": []
   },
   "outputs": [],
   "source": [
    "phylop = pd.read_csv(\"../outputs/phylop_all_sites.tsv\", sep=\"\\t\")"
   ]
  },
  {
   "cell_type": "code",
   "execution_count": null,
   "id": "2e2569a1-9392-42aa-ad1b-9be4e0169f2f",
   "metadata": {},
   "outputs": [],
   "source": []
  }
 ],
 "metadata": {
  "kernelspec": {
   "display_name": "Python [conda env:ukb]",
   "language": "python",
   "name": "conda-env-ukb-py"
  },
  "language_info": {
   "codemirror_mode": {
    "name": "ipython",
    "version": 3
   },
   "file_extension": ".py",
   "mimetype": "text/x-python",
   "name": "python",
   "nbconvert_exporter": "python",
   "pygments_lexer": "ipython3",
   "version": "3.8.16"
  }
 },
 "nbformat": 4,
 "nbformat_minor": 5
}
