{
 "cells": [
  {
   "cell_type": "markdown",
   "id": "0c0f3624-9368-4a62-8121-3a1cfad690a9",
   "metadata": {},
   "source": [
    "# Conservation statistics"
   ]
  },
  {
   "cell_type": "code",
   "execution_count": 1,
   "id": "e21b5a92-0903-4af9-9382-7c0303db56f4",
   "metadata": {
    "tags": []
   },
   "outputs": [],
   "source": [
    "%%bash\n",
    "dx download -f -o ../outputs/ outputs/nmd_annotations.tsv\n",
    "dx download -f -o ../outputs/ outputs/phylop_all_sites.tsv"
   ]
  },
  {
   "cell_type": "code",
   "execution_count": 2,
   "id": "f8113d97-a229-4776-8d2a-fe1973fe6b54",
   "metadata": {
    "tags": []
   },
   "outputs": [],
   "source": [
    "import numpy as np\n",
    "import pandas as pd"
   ]
  },
  {
   "cell_type": "code",
   "execution_count": 3,
   "id": "c706439d-2c96-4c4e-934d-73be4d0e3901",
   "metadata": {
    "tags": []
   },
   "outputs": [],
   "source": [
    "nmd = pd.read_csv(\n",
    "    \"../outputs/nmd_annotations.tsv\",\n",
    "    sep=\"\\t\",\n",
    "    usecols=[\"chr\", \"pos\", \"transcript_id\", \"nmd_definitive\"],\n",
    ").rename(columns={\"nmd_definitive\": \"region\", \"transcript_id\": \"enst\"})"
   ]
  },
  {
   "cell_type": "code",
   "execution_count": 4,
   "id": "ba383029-a408-4cfb-9a93-aae462890492",
   "metadata": {
    "tags": []
   },
   "outputs": [],
   "source": [
    "phylop = pd.read_csv(\"../outputs/phylop_all_sites.tsv\", sep=\"\\t\")"
   ]
  },
  {
   "cell_type": "code",
   "execution_count": 5,
   "id": "8a165d30-e9ce-431c-b977-666867d26849",
   "metadata": {
    "tags": []
   },
   "outputs": [
    {
     "name": "stdout",
     "output_type": "stream",
     "text": [
      "Sites with an NMD annotation: 34177971\n",
      "Sites with a phyloP annotation: 33461142\n"
     ]
    }
   ],
   "source": [
    "print(f\"Sites with an NMD annotation: {len(nmd)}\")\n",
    "print(f\"Sites with a phyloP annotation: {len(phylop)}\")"
   ]
  },
  {
   "cell_type": "markdown",
   "id": "08f4b0d1-72f0-4f56-808e-18abb3b4ab94",
   "metadata": {},
   "source": [
    "## Regional conservation "
   ]
  },
  {
   "cell_type": "code",
   "execution_count": 22,
   "id": "f0fb715d-6fc7-4741-9e85-f9f7c56a21cf",
   "metadata": {
    "tags": []
   },
   "outputs": [
    {
     "name": "stdout",
     "output_type": "stream",
     "text": [
      "Sites after merging NMD and phyloP annotations: 34055400\n"
     ]
    }
   ],
   "source": [
    "df = nmd.merge(phylop, how=\"inner\")\n",
    "print(f\"Sites after merging NMD and phyloP annotations: {len(df)}\")"
   ]
  },
  {
   "cell_type": "code",
   "execution_count": 23,
   "id": "b162efdb-6afe-405d-a93b-dd3568dbe8ee",
   "metadata": {
    "tags": []
   },
   "outputs": [],
   "source": [
    "_ = df.copy().assign(region=\"transcript\")\n",
    "df = pd.concat([df, _])"
   ]
  },
  {
   "cell_type": "code",
   "execution_count": 24,
   "id": "36274699-c279-47c7-aabd-f7a0fbe03c0a",
   "metadata": {
    "tags": []
   },
   "outputs": [
    {
     "data": {
      "text/html": [
       "<div>\n",
       "<style scoped>\n",
       "    .dataframe tbody tr th:only-of-type {\n",
       "        vertical-align: middle;\n",
       "    }\n",
       "\n",
       "    .dataframe tbody tr th {\n",
       "        vertical-align: top;\n",
       "    }\n",
       "\n",
       "    .dataframe thead th {\n",
       "        text-align: right;\n",
       "    }\n",
       "</style>\n",
       "<table border=\"1\" class=\"dataframe\">\n",
       "  <thead>\n",
       "    <tr style=\"text-align: right;\">\n",
       "      <th></th>\n",
       "      <th>fracCdsCons</th>\n",
       "      <th>n</th>\n",
       "      <th>se</th>\n",
       "      <th>ci95</th>\n",
       "    </tr>\n",
       "    <tr>\n",
       "      <th>region</th>\n",
       "      <th></th>\n",
       "      <th></th>\n",
       "      <th></th>\n",
       "      <th></th>\n",
       "    </tr>\n",
       "  </thead>\n",
       "  <tbody>\n",
       "    <tr>\n",
       "      <th>distal_nmd</th>\n",
       "      <td>0.494952</td>\n",
       "      <td>7474963</td>\n",
       "      <td>0.000183</td>\n",
       "      <td>0.000358</td>\n",
       "    </tr>\n",
       "    <tr>\n",
       "      <th>long_exon</th>\n",
       "      <td>0.460485</td>\n",
       "      <td>2703867</td>\n",
       "      <td>0.000303</td>\n",
       "      <td>0.000594</td>\n",
       "    </tr>\n",
       "    <tr>\n",
       "      <th>nmd_target</th>\n",
       "      <td>0.625169</td>\n",
       "      <td>20893422</td>\n",
       "      <td>0.000106</td>\n",
       "      <td>0.000208</td>\n",
       "    </tr>\n",
       "    <tr>\n",
       "      <th>start_proximal</th>\n",
       "      <td>0.547126</td>\n",
       "      <td>2983148</td>\n",
       "      <td>0.000288</td>\n",
       "      <td>0.000565</td>\n",
       "    </tr>\n",
       "    <tr>\n",
       "      <th>transcript</th>\n",
       "      <td>0.576675</td>\n",
       "      <td>34055400</td>\n",
       "      <td>0.000085</td>\n",
       "      <td>0.000166</td>\n",
       "    </tr>\n",
       "  </tbody>\n",
       "</table>\n",
       "</div>"
      ],
      "text/plain": [
       "                fracCdsCons         n        se      ci95\n",
       "region                                                   \n",
       "distal_nmd         0.494952   7474963  0.000183  0.000358\n",
       "long_exon          0.460485   2703867  0.000303  0.000594\n",
       "nmd_target         0.625169  20893422  0.000106  0.000208\n",
       "start_proximal     0.547126   2983148  0.000288  0.000565\n",
       "transcript         0.576675  34055400  0.000085  0.000166"
      ]
     },
     "execution_count": 24,
     "metadata": {},
     "output_type": "execute_result"
    }
   ],
   "source": [
    "df[\"fracCdsCons\"] = np.where(df[\"phylop\"] >= 2.27, 1, 0)\n",
    "\n",
    "# Regional\n",
    "stats = (\n",
    "    df.groupby(\"region\")\n",
    "    .agg({\"fracCdsCons\": \"mean\", \"pos\": \"count\"})\n",
    "    .rename(columns={\"pos\": \"n\"})\n",
    ")\n",
    "\n",
    "def se(p, n):\n",
    "    \"\"\"Calculate the standard error of a propotion.\"\"\"\n",
    "    return np.sqrt((p * (1 - p))/n)\n",
    "\n",
    "stats[\"se\"] = se(stats[\"fracCdsCons\"], stats[\"n\"])\n",
    "stats[\"ci95\"] = 1.96 * stats[\"se\"]\n",
    "\n",
    "stats"
   ]
  },
  {
   "cell_type": "code",
   "execution_count": 12,
   "id": "16b3a6a6-6735-4bb0-b37f-e5c322567e47",
   "metadata": {
    "tags": []
   },
   "outputs": [],
   "source": [
    "stats.to_csv(\"../outputs/phylop_stats_region.tsv\", sep=\"\\t\", index=False)"
   ]
  },
  {
   "cell_type": "markdown",
   "id": "35528631-9d6b-4e0a-95b9-402498bb77de",
   "metadata": {},
   "source": [
    "## Regional conservation, stratified by constraint"
   ]
  },
  {
   "cell_type": "code",
   "execution_count": 14,
   "id": "ee2cb783-8374-486b-a438-7f048d335537",
   "metadata": {
    "tags": []
   },
   "outputs": [
    {
     "name": "stdout",
     "output_type": "stream",
     "text": [
      "region          constraint   \n",
      "distal_nmd      unconstrained    11233\n",
      "                constrained        548\n",
      "long_exon       unconstrained     1519\n",
      "                constrained        388\n",
      "nmd_target      unconstrained     7300\n",
      "                constrained       2380\n",
      "start_proximal  unconstrained    10933\n",
      "transcript      unconstrained     8880\n",
      "                constrained       3538\n",
      "Name: constraint, dtype: int64\n"
     ]
    },
    {
     "data": {
      "text/html": [
       "<div>\n",
       "<style scoped>\n",
       "    .dataframe tbody tr th:only-of-type {\n",
       "        vertical-align: middle;\n",
       "    }\n",
       "\n",
       "    .dataframe tbody tr th {\n",
       "        vertical-align: top;\n",
       "    }\n",
       "\n",
       "    .dataframe thead th {\n",
       "        text-align: right;\n",
       "    }\n",
       "</style>\n",
       "<table border=\"1\" class=\"dataframe\">\n",
       "  <thead>\n",
       "    <tr style=\"text-align: right;\">\n",
       "      <th></th>\n",
       "      <th>region</th>\n",
       "      <th>enst</th>\n",
       "      <th>constraint</th>\n",
       "    </tr>\n",
       "  </thead>\n",
       "  <tbody>\n",
       "    <tr>\n",
       "      <th>3</th>\n",
       "      <td>distal_nmd</td>\n",
       "      <td>ENST00000001008</td>\n",
       "      <td>unconstrained</td>\n",
       "    </tr>\n",
       "    <tr>\n",
       "      <th>5</th>\n",
       "      <td>distal_nmd</td>\n",
       "      <td>ENST00000002125</td>\n",
       "      <td>unconstrained</td>\n",
       "    </tr>\n",
       "    <tr>\n",
       "      <th>6</th>\n",
       "      <td>distal_nmd</td>\n",
       "      <td>ENST00000002165</td>\n",
       "      <td>unconstrained</td>\n",
       "    </tr>\n",
       "  </tbody>\n",
       "</table>\n",
       "</div>"
      ],
      "text/plain": [
       "       region             enst     constraint\n",
       "3  distal_nmd  ENST00000001008  unconstrained\n",
       "5  distal_nmd  ENST00000002125  unconstrained\n",
       "6  distal_nmd  ENST00000002165  unconstrained"
      ]
     },
     "execution_count": 14,
     "metadata": {},
     "output_type": "execute_result"
    }
   ],
   "source": [
    "constraint = (\n",
    "    pd.read_csv(\n",
    "        \"../outputs/expected_variants_all_regions_no_cpg_stats.tsv\",\n",
    "        sep=\"\\t\",\n",
    "        usecols=[\"region\", \"enst\", \"csq\", \"n_obs\", \"oe\", \"z\", \"p\", \"fdr_p\"],\n",
    "    )\n",
    "    .pivot(\n",
    "        index=[\"region\", \"enst\"],\n",
    "        columns=\"csq\",\n",
    "        values=[\"n_obs\", \"oe\", \"z\", \"p\", \"fdr_p\"],\n",
    "    )\n",
    "    .swaplevel(\n",
    "        axis=1,\n",
    "    )\n",
    "    .reset_index(\n",
    "        drop=False,\n",
    "    )\n",
    ")\n",
    "constraint.columns = [\"_\".join(x).strip(\"_\") for x in constraint.columns.values]\n",
    "constraint = constraint[\n",
    "    [\n",
    "        \"region\",\n",
    "        \"enst\",\n",
    "        \"nonsense_n_obs\",\n",
    "        \"nonsense_oe\",\n",
    "        \"synonymous_z\",\n",
    "        \"nonsense_p\",\n",
    "        \"nonsense_fdr_p\",\n",
    "    ]\n",
    "]\n",
    "\n",
    "m1 = constraint[\"nonsense_oe\"] < 0.35\n",
    "m2 = constraint[\"synonymous_z\"] > -1\n",
    "m3 = constraint[\"nonsense_fdr_p\"] < 0.05\n",
    "\n",
    "m4 = constraint[\"nonsense_p\"] >= 0.05\n",
    "m5 = constraint[\"nonsense_n_obs\"] >= 1\n",
    "\n",
    "constraint.loc[m1 & m2 & m3, \"constraint\"] = \"constrained\"\n",
    "constraint.loc[m4 & m5, \"constraint\"] = \"unconstrained\"\n",
    "\n",
    "constraint = constraint[[\"region\", \"enst\", \"constraint\"]].dropna()\n",
    "\n",
    "print(constraint.groupby([\"region\"])[\"constraint\"].value_counts())\n",
    "\n",
    "constraint.head(3)"
   ]
  },
  {
   "cell_type": "code",
   "execution_count": 25,
   "id": "e309ba2f-ab02-45e3-a16d-0c07cf5a3838",
   "metadata": {
    "tags": []
   },
   "outputs": [],
   "source": [
    "# Get conservation per region and transcript\n",
    "df = df.merge(constraint, how=\"inner\")"
   ]
  },
  {
   "cell_type": "code",
   "execution_count": 28,
   "id": "d6453a81-d35c-4797-a57f-044564409276",
   "metadata": {},
   "outputs": [
    {
     "data": {
      "text/html": [
       "<div>\n",
       "<style scoped>\n",
       "    .dataframe tbody tr th:only-of-type {\n",
       "        vertical-align: middle;\n",
       "    }\n",
       "\n",
       "    .dataframe tbody tr th {\n",
       "        vertical-align: top;\n",
       "    }\n",
       "\n",
       "    .dataframe thead th {\n",
       "        text-align: right;\n",
       "    }\n",
       "</style>\n",
       "<table border=\"1\" class=\"dataframe\">\n",
       "  <thead>\n",
       "    <tr style=\"text-align: right;\">\n",
       "      <th></th>\n",
       "      <th>constraint</th>\n",
       "      <th>region</th>\n",
       "      <th>fracCdsCons</th>\n",
       "      <th>n</th>\n",
       "      <th>se</th>\n",
       "      <th>ci95</th>\n",
       "    </tr>\n",
       "  </thead>\n",
       "  <tbody>\n",
       "    <tr>\n",
       "      <th>0</th>\n",
       "      <td>constrained</td>\n",
       "      <td>distal_nmd</td>\n",
       "      <td>0.617795</td>\n",
       "      <td>745153</td>\n",
       "      <td>0.000563</td>\n",
       "      <td>0.001103</td>\n",
       "    </tr>\n",
       "    <tr>\n",
       "      <th>1</th>\n",
       "      <td>constrained</td>\n",
       "      <td>long_exon</td>\n",
       "      <td>0.560887</td>\n",
       "      <td>725185</td>\n",
       "      <td>0.000583</td>\n",
       "      <td>0.001142</td>\n",
       "    </tr>\n",
       "    <tr>\n",
       "      <th>2</th>\n",
       "      <td>constrained</td>\n",
       "      <td>nmd_target</td>\n",
       "      <td>0.712081</td>\n",
       "      <td>4583708</td>\n",
       "      <td>0.000211</td>\n",
       "      <td>0.000415</td>\n",
       "    </tr>\n",
       "    <tr>\n",
       "      <th>3</th>\n",
       "      <td>constrained</td>\n",
       "      <td>transcript</td>\n",
       "      <td>0.692060</td>\n",
       "      <td>7666226</td>\n",
       "      <td>0.000167</td>\n",
       "      <td>0.000327</td>\n",
       "    </tr>\n",
       "    <tr>\n",
       "      <th>4</th>\n",
       "      <td>unconstrained</td>\n",
       "      <td>distal_nmd</td>\n",
       "      <td>0.467971</td>\n",
       "      <td>4112955</td>\n",
       "      <td>0.000246</td>\n",
       "      <td>0.000482</td>\n",
       "    </tr>\n",
       "    <tr>\n",
       "      <th>5</th>\n",
       "      <td>unconstrained</td>\n",
       "      <td>long_exon</td>\n",
       "      <td>0.415423</td>\n",
       "      <td>796455</td>\n",
       "      <td>0.000552</td>\n",
       "      <td>0.001082</td>\n",
       "    </tr>\n",
       "    <tr>\n",
       "      <th>6</th>\n",
       "      <td>unconstrained</td>\n",
       "      <td>nmd_target</td>\n",
       "      <td>0.553133</td>\n",
       "      <td>5933980</td>\n",
       "      <td>0.000204</td>\n",
       "      <td>0.000400</td>\n",
       "    </tr>\n",
       "    <tr>\n",
       "      <th>7</th>\n",
       "      <td>unconstrained</td>\n",
       "      <td>start_proximal</td>\n",
       "      <td>0.514563</td>\n",
       "      <td>1638562</td>\n",
       "      <td>0.000390</td>\n",
       "      <td>0.000765</td>\n",
       "    </tr>\n",
       "    <tr>\n",
       "      <th>8</th>\n",
       "      <td>unconstrained</td>\n",
       "      <td>transcript</td>\n",
       "      <td>0.492196</td>\n",
       "      <td>10329521</td>\n",
       "      <td>0.000156</td>\n",
       "      <td>0.000305</td>\n",
       "    </tr>\n",
       "  </tbody>\n",
       "</table>\n",
       "</div>"
      ],
      "text/plain": [
       "      constraint          region  fracCdsCons         n        se      ci95\n",
       "0    constrained      distal_nmd     0.617795    745153  0.000563  0.001103\n",
       "1    constrained       long_exon     0.560887    725185  0.000583  0.001142\n",
       "2    constrained      nmd_target     0.712081   4583708  0.000211  0.000415\n",
       "3    constrained      transcript     0.692060   7666226  0.000167  0.000327\n",
       "4  unconstrained      distal_nmd     0.467971   4112955  0.000246  0.000482\n",
       "5  unconstrained       long_exon     0.415423    796455  0.000552  0.001082\n",
       "6  unconstrained      nmd_target     0.553133   5933980  0.000204  0.000400\n",
       "7  unconstrained  start_proximal     0.514563   1638562  0.000390  0.000765\n",
       "8  unconstrained      transcript     0.492196  10329521  0.000156  0.000305"
      ]
     },
     "execution_count": 28,
     "metadata": {},
     "output_type": "execute_result"
    }
   ],
   "source": [
    "stats = df.groupby([\"constraint\",\"region\"]).agg(fracCdsCons=(\"fracCdsCons\",\"mean\"), n=(\"pos\",\"count\")).reset_index(drop=False)\n",
    "stats[\"se\"] = se(stats[\"fracCdsCons\"], stats[\"n\"])\n",
    "stats[\"ci95\"] = 1.96 * stats[\"se\"]\n",
    "\n",
    "stats"
   ]
  },
  {
   "cell_type": "code",
   "execution_count": 29,
   "id": "4d3085ab-7d7a-4536-88a5-8d8754d6e9aa",
   "metadata": {},
   "outputs": [],
   "source": [
    "stats.to_csv(\"../outputs/phylop_stats_region_constraint.tsv\", sep=\"\\t\", index=False)"
   ]
  },
  {
   "cell_type": "code",
   "execution_count": null,
   "id": "df2f4cf6-e79c-4bc8-be1e-2800a85a293b",
   "metadata": {},
   "outputs": [],
   "source": []
  }
 ],
 "metadata": {
  "kernelspec": {
   "display_name": "Python 3 (ipykernel)",
   "language": "python",
   "name": "python3"
  },
  "language_info": {
   "codemirror_mode": {
    "name": "ipython",
    "version": 3
   },
   "file_extension": ".py",
   "mimetype": "text/x-python",
   "name": "python",
   "nbconvert_exporter": "python",
   "pygments_lexer": "ipython3",
   "version": "3.8.16"
  }
 },
 "nbformat": 4,
 "nbformat_minor": 5
}
