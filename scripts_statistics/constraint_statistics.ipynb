{
 "cells": [
  {
   "cell_type": "markdown",
   "id": "bb26900f-e72b-4ef4-a139-9e013ede8751",
   "metadata": {},
   "source": [
    "# Constraint statistics\n"
   ]
  },
  {
   "cell_type": "markdown",
   "id": "b627ecff-72d9-43e3-8fbb-2aafd215adf6",
   "metadata": {},
   "source": [
    "## Preliminaries\n",
    "### Import modules"
   ]
  },
  {
   "cell_type": "code",
   "execution_count": 1,
   "id": "4ed6b10c-b2e8-4b41-aa9b-3294bbda4305",
   "metadata": {
    "tags": []
   },
   "outputs": [],
   "source": [
    "import numpy as np\n",
    "import pandas as pd\n",
    "import seaborn as sns\n",
    "import matplotlib.pyplot as plt\n",
    "import seaborn as sns\n",
    "import statsmodels.formula.api as smf\n",
    "from statsmodels.stats.proportion import proportions_ztest\n",
    "from statsmodels.stats.multitest import fdrcorrection as fdr\n",
    "from scipy import stats as _stats\n",
    "from scipy.stats import spearmanr\n",
    "\n",
    "sns.set_context(\"talk\")"
   ]
  },
  {
   "cell_type": "markdown",
   "id": "f642b708-7002-4124-97d1-86b0673b6d39",
   "metadata": {},
   "source": [
    "### Download data"
   ]
  },
  {
   "cell_type": "code",
   "execution_count": 2,
   "id": "c0f83d6f-40ab-4e3a-a7fe-b98c3864726c",
   "metadata": {
    "tags": []
   },
   "outputs": [],
   "source": [
    "%%bash\n",
    "dx download -f -o ../data/ data/supplementary_dataset_11_full_constraint_metrics.tsv"
   ]
  },
  {
   "cell_type": "markdown",
   "id": "2a78d5d9-0809-4fc0-8262-d9ee3f61d8b7",
   "metadata": {},
   "source": [
    "## Load the data"
   ]
  },
  {
   "cell_type": "code",
   "execution_count": 3,
   "id": "24a72669-c582-4881-9b81-089b702be0cf",
   "metadata": {
    "tags": []
   },
   "outputs": [
    {
     "name": "stdout",
     "output_type": "stream",
     "text": [
      "Number of distinct regions:\n",
      "transcript        19623\n",
      "start_proximal    19415\n",
      "distal_nmd        19222\n",
      "nmd_target        16444\n",
      "long_exon          3565\n",
      "Name: region, dtype: int64\n"
     ]
    }
   ],
   "source": [
    "df = pd.read_csv(\"../outputs/expected_variants_all_regions_no_cpg.tsv\", sep=\"\\t\")\n",
    "\n",
    "# Print summary data\n",
    "_ = (df.region.value_counts() / 3).astype(int)\n",
    "print(f\"Number of distinct regions:\\n{_}\")  # 3 consequences per region (syn/mis/non)"
   ]
  },
  {
   "cell_type": "markdown",
   "id": "71b00edf-4178-466f-9ad8-5b70f4c5d141",
   "metadata": {},
   "source": [
    "## Get constraint Z scores"
   ]
  },
  {
   "cell_type": "code",
   "execution_count": 4,
   "id": "d475efed-4983-49cd-891c-fb4db06905ce",
   "metadata": {},
   "outputs": [],
   "source": [
    "def per_row_ztest(row, statistic=\"z\"):\n",
    "    if statistic == \"z\":\n",
    "        i = 0\n",
    "    elif statistic == \"p\":\n",
    "        i = 1\n",
    "\n",
    "    stat = proportions_ztest(\n",
    "        count=row[\"n_obs\"],\n",
    "        nobs=row[\"n_pos\"],\n",
    "        value=row[\"prop_exp\"],\n",
    "        alternative=\"smaller\",\n",
    "        prop_var=row[\"prop_exp\"],\n",
    "    )[i]\n",
    "\n",
    "    return stat"
   ]
  },
  {
   "cell_type": "code",
   "execution_count": 5,
   "id": "1caa68cd-41d7-40ac-98bb-f1af96462b23",
   "metadata": {
    "tags": []
   },
   "outputs": [],
   "source": [
    "%%capture\n",
    "df[\"z\"] = df.apply(per_row_ztest, statistic=\"z\", axis=1)\n",
    "df[\"p\"] = df.apply(per_row_ztest, statistic=\"p\", axis=1)\n",
    "\n",
    "# Print summary data\n",
    "_ = df.groupby([\"region\", \"csq\"])[\"z\"].count()\n",
    "print(f\"Constraint statistics by region and consequence:\\n{_}\")"
   ]
  },
  {
   "cell_type": "markdown",
   "id": "64532e71-8134-439f-abb2-9f929212c264",
   "metadata": {},
   "source": [
    "## Get FDR-adjusted P-values\n",
    "For nonsense variants only. Calculate separately for whole-transcripts and constrained regions"
   ]
  },
  {
   "cell_type": "code",
   "execution_count": 6,
   "id": "49ebc5f1-933c-4b46-9cc3-f43f98e4ab55",
   "metadata": {
    "tags": []
   },
   "outputs": [],
   "source": [
    "def fdr_adjustment(df, regions=[\"transcript\"], csq=\"nonsense\"):\n",
    "    \"\"\"Get FDR-adjusted P-values for a given region and variant consequence.\"\"\"\n",
    "    # Mask regions and consequences\n",
    "    m1 = df.region.isin(regions)\n",
    "    m2 = df.csq == csq\n",
    "\n",
    "    # Filter the dataframe and drop cases without a P-value\n",
    "    p = df.loc[m1 & m2, [\"region\", \"p\"]].dropna().copy()\n",
    "\n",
    "    # FDR adjustment\n",
    "    p[\"fdr_p\"] = fdr(pvals=p[\"p\"])[1]\n",
    "\n",
    "    return p"
   ]
  },
  {
   "cell_type": "code",
   "execution_count": 7,
   "id": "ee36b208-7bd0-4807-a585-c0552c9851cd",
   "metadata": {
    "tags": []
   },
   "outputs": [],
   "source": [
    "# FDR adjustment is done separately for transcripts and NMD regions\n",
    "# and for each distinct consequence\n",
    "r1 = [\"transcript\"]\n",
    "r2 = [\"distal_nmd\", \"nmd_target\", \"long_exon\"]\n",
    "csq = [\"synonymous\", \"missense\", \"nonsense\"]\n",
    "\n",
    "fdr_p = pd.concat([fdr_adjustment(df, regions=r, csq=c) for r in [r1, r2] for c in csq])\n",
    "\n",
    "# Join FDR-adjusted p-values to the original dataframe\n",
    "df = df.join(fdr_p[\"fdr_p\"])"
   ]
  },
  {
   "cell_type": "markdown",
   "id": "4468c2fc-9a91-47fe-803b-35327a1e63e0",
   "metadata": {},
   "source": [
    "## Merge with gnomAD constraint data"
   ]
  },
  {
   "cell_type": "code",
   "execution_count": 8,
   "id": "f857ef18-4dbc-4e16-99e1-99fc26f64094",
   "metadata": {
    "tags": []
   },
   "outputs": [],
   "source": [
    "gnomad = pd.read_csv(\n",
    "    \"../data/supplementary_dataset_11_full_constraint_metrics.tsv\",\n",
    "    sep=\"\\t\",\n",
    "    usecols=[\"transcript\", \"pLI\", \"oe_lof_upper\"],\n",
    ").rename(columns={\"transcript\": \"enst\", \"pLI\": \"pli\", \"oe_lof_upper\": \"loeuf\"})\n",
    "\n",
    "df = df.merge(gnomad, how=\"left\")"
   ]
  },
  {
   "cell_type": "markdown",
   "id": "ebbe750e-3894-42e5-a6cc-fcda940a5fed",
   "metadata": {},
   "source": [
    "## Save to output"
   ]
  },
  {
   "cell_type": "code",
   "execution_count": 9,
   "id": "27f495ad-0e8f-4b07-be1a-dc01a9308b25",
   "metadata": {},
   "outputs": [],
   "source": [
    "df.to_csv(\"../outputs/expected_variants_all_regions_no_cpg_stats.tsv\", sep=\"\\t\", index=False)"
   ]
  },
  {
   "cell_type": "markdown",
   "id": "d3b14737-2b3c-4cc9-996f-2b20f1e5a8f9",
   "metadata": {},
   "source": [
    "---\n",
    "## Statistics"
   ]
  },
  {
   "cell_type": "code",
   "execution_count": 10,
   "id": "d5e4df09-1d12-4e20-a05d-d906fb5c840e",
   "metadata": {
    "tags": []
   },
   "outputs": [],
   "source": [
    "# Re-load the data\n",
    "df = pd.read_csv(\"../outputs/expected_variants_all_regions_no_cpg_stats.tsv\", sep=\"\\t\")"
   ]
  },
  {
   "cell_type": "markdown",
   "id": "71dbbbc2-6df1-4eba-9ae6-f27f3432eb87",
   "metadata": {},
   "source": [
    "### Exclude regions where the synonymous Z-score is < -1"
   ]
  },
  {
   "cell_type": "code",
   "execution_count": 11,
   "id": "22af678b-9de7-4ab4-aa79-735d7ec5c85c",
   "metadata": {
    "tags": []
   },
   "outputs": [],
   "source": [
    "m1 = df.csq == \"synonymous\"\n",
    "m2 = df.z >= -1\n",
    "m = df[m1 & m2][[\"region\", \"enst\"]]\n",
    "df2 = df.merge(m, how=\"inner\")"
   ]
  },
  {
   "cell_type": "markdown",
   "id": "4ae02c03-9e76-4ba1-84f4-92b65c1f4245",
   "metadata": {},
   "source": [
    "### Count regions in p-value bins"
   ]
  },
  {
   "cell_type": "code",
   "execution_count": 12,
   "id": "ccc1be85-3301-4eaf-8eb2-59c5e8b9c355",
   "metadata": {},
   "outputs": [],
   "source": [
    "def get_p_stats_region(df, region, csq=\"nonsense\", bins=[0, 0.001, 0.01, 0.05, 1]):\n",
    "    m1 = df.region == region\n",
    "    m2 = df.csq == csq\n",
    "\n",
    "    df = df[m1 & m2][[\"n_obs\", \"p\", \"fdr_p\"]]\n",
    "\n",
    "    for p in [\"p\", \"fdr_p\"]:\n",
    "        b = f\"{p}_bin\"\n",
    "        df[b] = pd.cut(df[p], bins=bins)\n",
    "        g = df.groupby(b)\n",
    "        stats = g.agg({f\"{p}\": \"count\"})\n",
    "        stats[\"none_observed\"] = g[\"n_obs\"].apply(lambda x: (x == 0).sum())\n",
    "        print(f\"{csq}, {region}\")\n",
    "        print(f\"{stats}\\n\")"
   ]
  },
  {
   "cell_type": "code",
   "execution_count": 13,
   "id": "0790b056-31a2-4a8b-8961-beb39a04342e",
   "metadata": {
    "tags": []
   },
   "outputs": [
    {
     "name": "stdout",
     "output_type": "stream",
     "text": [
      "nonsense, distal_nmd\n",
      "                   p  none_observed\n",
      "p_bin                              \n",
      "(0.0, 0.001]     290             59\n",
      "(0.001, 0.01]    414             82\n",
      "(0.01, 0.05]    1439            750\n",
      "(0.05, 1.0]    12837           3489\n",
      "\n",
      "nonsense, distal_nmd\n",
      "               fdr_p  none_observed\n",
      "fdr_p_bin                          \n",
      "(0.0, 0.001]      97             15\n",
      "(0.001, 0.01]    205             47\n",
      "(0.01, 0.05]     365             68\n",
      "(0.05, 1.0]    14313           4250\n",
      "\n",
      "nonsense, long_exon\n",
      "                  p  none_observed\n",
      "p_bin                             \n",
      "(0.0, 0.001]    266             56\n",
      "(0.001, 0.01]   221             71\n",
      "(0.01, 0.05]    397            156\n",
      "(0.05, 1.0]    1949            644\n",
      "\n",
      "nonsense, long_exon\n",
      "               fdr_p  none_observed\n",
      "fdr_p_bin                          \n",
      "(0.0, 0.001]     164             33\n",
      "(0.001, 0.01]    110             26\n",
      "(0.01, 0.05]     189             60\n",
      "(0.05, 1.0]     2370            808\n",
      "\n",
      "nonsense, nmd_target\n",
      "                  p  none_observed\n",
      "p_bin                             \n",
      "(0.0, 0.001]   1976            275\n",
      "(0.001, 0.01]  1309            196\n",
      "(0.01, 0.05]   1813            314\n",
      "(0.05, 1.0]    6926            962\n",
      "\n",
      "nonsense, nmd_target\n",
      "               fdr_p  none_observed\n",
      "fdr_p_bin                          \n",
      "(0.0, 0.001]    1078            142\n",
      "(0.001, 0.01]    935            142\n",
      "(0.01, 0.05]    1175            171\n",
      "(0.05, 1.0]     8836           1292\n",
      "\n",
      "nonsense, start_proximal\n",
      "                   p  none_observed\n",
      "p_bin                              \n",
      "(0.0, 0.001]       0              0\n",
      "(0.001, 0.01]      1              1\n",
      "(0.01, 0.05]     380            376\n",
      "(0.05, 1.0]    15681           6158\n",
      "\n",
      "nonsense, start_proximal\n",
      "               fdr_p  none_observed\n",
      "fdr_p_bin                          \n",
      "(0.0, 0.001]       0              0\n",
      "(0.001, 0.01]      0              0\n",
      "(0.01, 0.05]       0              0\n",
      "(0.05, 1.0]        0              0\n",
      "\n",
      "nonsense, transcript\n",
      "                  p  none_observed\n",
      "p_bin                             \n",
      "(0.0, 0.001]   2998            249\n",
      "(0.001, 0.01]  1790            127\n",
      "(0.01, 0.05]   2169            145\n",
      "(0.05, 1.0]    7635            130\n",
      "\n",
      "nonsense, transcript\n",
      "               fdr_p  none_observed\n",
      "fdr_p_bin                          \n",
      "(0.0, 0.001]    2164            191\n",
      "(0.001, 0.01]   1567            108\n",
      "(0.01, 0.05]    1967            140\n",
      "(0.05, 1.0]     8894            212\n",
      "\n"
     ]
    }
   ],
   "source": [
    "for r in df.region.unique():\n",
    "    get_p_stats_region(df2, region=r)"
   ]
  },
  {
   "cell_type": "markdown",
   "id": "0ffe4dfa-23d1-4880-b893-0cc2b05129f3",
   "metadata": {},
   "source": [
    "### Spearman rank Z vs LOEUF"
   ]
  },
  {
   "cell_type": "code",
   "execution_count": 14,
   "id": "777edc7e-a57e-497d-a5d1-ceb70f05f749",
   "metadata": {
    "tags": []
   },
   "outputs": [
    {
     "name": "stdout",
     "output_type": "stream",
     "text": [
      "SignificanceResult(statistic=0.7739073455743319, pvalue=0.0)\n",
      "\n",
      "See below for smallest possible P-value ('tiny')\n",
      "Machine parameters for float64\n",
      "---------------------------------------------------------------\n",
      "precision =  15   resolution = 1.0000000000000001e-15\n",
      "machep =    -52   eps =        2.2204460492503131e-16\n",
      "negep =     -53   epsneg =     1.1102230246251565e-16\n",
      "minexp =  -1022   tiny =       2.2250738585072014e-308\n",
      "maxexp =   1024   max =        1.7976931348623157e+308\n",
      "nexp =       11   min =        -max\n",
      "smallest_normal = 2.2250738585072014e-308   smallest_subnormal = 4.9406564584124654e-324\n",
      "---------------------------------------------------------------\n",
      "\n"
     ]
    }
   ],
   "source": [
    "m1 = df[\"region\"] == \"transcript\"\n",
    "m2 = df[\"csq\"] == \"nonsense\"\n",
    "\n",
    "z = df[m1 & m2][\"z\"]\n",
    "loeuf = df[m1 & m2][\"loeuf\"]\n",
    "\n",
    "print(spearmanr(z, loeuf, nan_policy=\"omit\", alternative=\"two-sided\"))\n",
    "print(\"\\nSee below for smallest possible P-value ('tiny')\")\n",
    "print(np.finfo(np.float64))"
   ]
  }
 ],
 "metadata": {
  "kernelspec": {
   "display_name": "Python [conda env:ukb]",
   "language": "python",
   "name": "conda-env-ukb-py"
  },
  "language_info": {
   "codemirror_mode": {
    "name": "ipython",
    "version": 3
   },
   "file_extension": ".py",
   "mimetype": "text/x-python",
   "name": "python",
   "nbconvert_exporter": "python",
   "pygments_lexer": "ipython3",
   "version": "3.8.16"
  }
 },
 "nbformat": 4,
 "nbformat_minor": 5
}
