{
 "cells": [
  {
   "cell_type": "markdown",
   "id": "f5f09d01-bd4b-4269-8bbe-5cbe286a053e",
   "metadata": {},
   "source": [
    "# MAPS calculation "
   ]
  },
  {
   "cell_type": "markdown",
   "id": "00b7a9ad-3cf0-4c03-8511-a0d3516d4dff",
   "metadata": {},
   "source": [
    "## Import modules"
   ]
  },
  {
   "cell_type": "code",
   "execution_count": 5,
   "metadata": {},
   "outputs": [
    {
     "name": "stdout",
     "output_type": "stream",
     "text": [
      "The autoreload extension is already loaded. To reload it, use:\n",
      "  %reload_ext autoreload\n"
     ]
    }
   ],
   "source": [
    "%load_ext autoreload\n",
    "%autoreload 2"
   ]
  },
  {
   "cell_type": "code",
   "execution_count": 10,
   "metadata": {},
   "outputs": [
    {
     "name": "stderr",
     "output_type": "stream",
     "text": [
      "[23-Nov-23 15:16:45] INFO <module>(): Note import of the following global variables:\n",
      "None\n"
     ]
    },
    {
     "name": "stdout",
     "output_type": "stream",
     "text": [
      "['C', 'Path', 'a', 'colorsys', 'logger', 'mc', 'namedtuple', 'plt', 'setup_logger', 'sns']\n",
      "Global variables:\n",
      " \t- C: color palette\n",
      " \t- cm: cm to inch conversion factor\n"
     ]
    }
   ],
   "source": []
  },
  {
   "cell_type": "code",
   "execution_count": 11,
   "id": "3e405d59-09e4-40d6-969a-2aaf4bfff5a0",
   "metadata": {
    "tags": []
   },
   "outputs": [],
   "source": [
    "import matplotlib.pyplot as plt\n",
    "import numpy as np\n",
    "import pandas as pd\n",
    "import statsmodels.api as sm\n",
    "\n",
    "from src.visualisation import colour_tools as cl"
   ]
  },
  {
   "cell_type": "code",
   "execution_count": 12,
   "metadata": {},
   "outputs": [
    {
     "data": {
      "text/plain": [
       "color_palette(blue='#0077bb', green='#009988', orange='#ee7733', red='#cc3311', light_blue='#33bbee', pink='#ee3377', grey='#bbbbbb', black='#000000')"
      ]
     },
     "execution_count": 12,
     "metadata": {},
     "output_type": "execute_result"
    }
   ],
   "source": [
    "# Module variables\n",
    "_P = cl.colour_palette()"
   ]
  },
  {
   "cell_type": "markdown",
   "id": "dc91e3ac-e21b-4bc4-8871-9ef77554b5d4",
   "metadata": {},
   "source": [
    "## Load data"
   ]
  },
  {
   "cell_type": "code",
   "execution_count": 2,
   "id": "3d9dd7d2-3a4e-4a20-b6cc-e06e06503f41",
   "metadata": {
    "tags": []
   },
   "outputs": [],
   "source": [
    "syn = pd.read_csv(\n",
    "    \"../outputs/proportion_singletons_synonymous_by_context.tsv\", sep=\"\\t\"\n",
    ")"
   ]
  },
  {
   "cell_type": "code",
   "execution_count": 3,
   "id": "41e29189-ce88-4312-b663-15e4af0f2f82",
   "metadata": {
    "tags": []
   },
   "outputs": [],
   "source": [
    "x = syn[\"mu\"]\n",
    "y = syn[\"ps\"]"
   ]
  },
  {
   "cell_type": "code",
   "execution_count": 4,
   "id": "6da25cb4-b403-468e-9a87-0ea608d62f92",
   "metadata": {
    "tags": []
   },
   "outputs": [
    {
     "data": {
      "text/html": [
       "<table class=\"simpletable\">\n",
       "<caption>WLS Regression Results</caption>\n",
       "<tr>\n",
       "  <th>Dep. Variable:</th>       <td>ps</td>     <th>  R-squared:         </th> <td>   0.993</td> \n",
       "</tr>\n",
       "<tr>\n",
       "  <th>Model:</th>               <td>WLS</td>    <th>  Adj. R-squared:    </th> <td>   0.993</td> \n",
       "</tr>\n",
       "<tr>\n",
       "  <th>No. Observations:</th>  <td>   282</td>   <th>  F-statistic:       </th> <td>3.850e+04</td>\n",
       "</tr>\n",
       "<tr>\n",
       "  <th>Covariance Type:</th>  <td>nonrobust</td> <th>  Prob (F-statistic):</th> <td>7.58e-302</td>\n",
       "</tr>\n",
       "</table>\n",
       "<table class=\"simpletable\">\n",
       "<tr>\n",
       "    <td></td>       <th>coef</th>     <th>std err</th>      <th>t</th>      <th>P>|t|</th>  <th>[0.025</th>    <th>0.975]</th>  \n",
       "</tr>\n",
       "<tr>\n",
       "  <th>const</th> <td>   -0.5734</td> <td>    0.004</td> <td> -127.722</td> <td> 0.000</td> <td>   -0.582</td> <td>   -0.565</td>\n",
       "</tr>\n",
       "<tr>\n",
       "  <th>mu</th>    <td>-2.096e+07</td> <td> 1.07e+05</td> <td> -196.209</td> <td> 0.000</td> <td>-2.12e+07</td> <td>-2.08e+07</td>\n",
       "</tr>\n",
       "</table><br/><br/>Notes:<br/>[1] Standard Errors assume that the covariance matrix of the errors is correctly specified.<br/>[2] The condition number is large, 2.72e+07. This might indicate that there are<br/>strong multicollinearity or other numerical problems."
      ],
      "text/latex": [
       "\\begin{center}\n",
       "\\begin{tabular}{lclc}\n",
       "\\toprule\n",
       "\\textbf{Dep. Variable:}    &       ps      & \\textbf{  R-squared:         } &     0.993   \\\\\n",
       "\\textbf{Model:}            &      WLS      & \\textbf{  Adj. R-squared:    } &     0.993   \\\\\n",
       "\\textbf{No. Observations:} &        282    & \\textbf{  F-statistic:       } & 3.850e+04   \\\\\n",
       "\\textbf{Covariance Type:}  &   nonrobust   & \\textbf{  Prob (F-statistic):} & 7.58e-302   \\\\\n",
       "\\bottomrule\n",
       "\\end{tabular}\n",
       "\\begin{tabular}{lcccccc}\n",
       "               & \\textbf{coef} & \\textbf{std err} & \\textbf{t} & \\textbf{P$> |$t$|$} & \\textbf{[0.025} & \\textbf{0.975]}  \\\\\n",
       "\\midrule\n",
       "\\textbf{const} &      -0.5734  &        0.004     &  -127.722  &         0.000        &       -0.582    &       -0.565     \\\\\n",
       "\\textbf{mu}    &   -2.096e+07  &     1.07e+05     &  -196.209  &         0.000        &    -2.12e+07    &    -2.08e+07     \\\\\n",
       "\\bottomrule\n",
       "\\end{tabular}\n",
       "%\\caption{WLS Regression Results}\n",
       "\\end{center}\n",
       "\n",
       "Notes: \\newline\n",
       " [1] Standard Errors assume that the covariance matrix of the errors is correctly specified. \\newline\n",
       " [2] The condition number is large, 2.72e+07. This might indicate that there are \\newline\n",
       " strong multicollinearity or other numerical problems."
      ],
      "text/plain": [
       "<class 'statsmodels.iolib.summary.Summary'>\n",
       "\"\"\"\n",
       "                            WLS Regression Results                            \n",
       "==============================================================================\n",
       "Dep. Variable:                     ps   R-squared:                       0.993\n",
       "Model:                            WLS   Adj. R-squared:                  0.993\n",
       "No. Observations:                 282   F-statistic:                 3.850e+04\n",
       "Covariance Type:            nonrobust   Prob (F-statistic):          7.58e-302\n",
       "==============================================================================\n",
       "                 coef    std err          t      P>|t|      [0.025      0.975]\n",
       "------------------------------------------------------------------------------\n",
       "const         -0.5734      0.004   -127.722      0.000      -0.582      -0.565\n",
       "mu         -2.096e+07   1.07e+05   -196.209      0.000   -2.12e+07   -2.08e+07\n",
       "==============================================================================\n",
       "\n",
       "Notes:\n",
       "[1] Standard Errors assume that the covariance matrix of the errors is correctly specified.\n",
       "[2] The condition number is large, 2.72e+07. This might indicate that there are\n",
       "strong multicollinearity or other numerical problems.\n",
       "\"\"\""
      ]
     },
     "execution_count": 4,
     "metadata": {},
     "output_type": "execute_result"
    }
   ],
   "source": [
    "# Drop sites with no singletons\n",
    "_syn = syn[syn[\"ps\"] != 0]\n",
    "\n",
    "#\n",
    "x1 = _syn[\"mu\"]\n",
    "X1 = sm.tools.add_constant(x1)\n",
    "y1 = _syn[\"ps\"]\n",
    "w1 = _syn[\"n_obs\"]\n",
    "\n",
    "model = sm.WLS(np.log(y1), X1, weights=w1).fit()\n",
    "model.summary(slim=True)"
   ]
  },
  {
   "cell_type": "code",
   "execution_count": 5,
   "id": "a9c25dc6-0823-4593-9e75-1513e4483d17",
   "metadata": {
    "tags": []
   },
   "outputs": [
    {
     "data": {
      "text/html": [
       "<table class=\"simpletable\">\n",
       "<caption>WLS Regression Results</caption>\n",
       "<tr>\n",
       "  <th>Dep. Variable:</th>       <td>ps</td>     <th>  R-squared:         </th> <td>   0.786</td>\n",
       "</tr>\n",
       "<tr>\n",
       "  <th>Model:</th>               <td>WLS</td>    <th>  Adj. R-squared:    </th> <td>   0.784</td>\n",
       "</tr>\n",
       "<tr>\n",
       "  <th>No. Observations:</th>  <td>   176</td>   <th>  F-statistic:       </th> <td>   637.3</td>\n",
       "</tr>\n",
       "<tr>\n",
       "  <th>Covariance Type:</th>  <td>nonrobust</td> <th>  Prob (F-statistic):</th> <td>4.59e-60</td>\n",
       "</tr>\n",
       "</table>\n",
       "<table class=\"simpletable\">\n",
       "<tr>\n",
       "    <td></td>       <th>coef</th>     <th>std err</th>      <th>t</th>      <th>P>|t|</th>  <th>[0.025</th>    <th>0.975]</th>  \n",
       "</tr>\n",
       "<tr>\n",
       "  <th>const</th> <td>   -0.5830</td> <td>    0.005</td> <td> -112.447</td> <td> 0.000</td> <td>   -0.593</td> <td>   -0.573</td>\n",
       "</tr>\n",
       "<tr>\n",
       "  <th>mu</th>    <td>-1.987e+07</td> <td> 7.87e+05</td> <td>  -25.245</td> <td> 0.000</td> <td>-2.14e+07</td> <td>-1.83e+07</td>\n",
       "</tr>\n",
       "</table><br/><br/>Notes:<br/>[1] Standard Errors assume that the covariance matrix of the errors is correctly specified.<br/>[2] The smallest eigenvalue is 2.12e-11. This might indicate that there are<br/>strong multicollinearity problems or that the design matrix is singular."
      ],
      "text/latex": [
       "\\begin{center}\n",
       "\\begin{tabular}{lclc}\n",
       "\\toprule\n",
       "\\textbf{Dep. Variable:}    &       ps      & \\textbf{  R-squared:         } &     0.786   \\\\\n",
       "\\textbf{Model:}            &      WLS      & \\textbf{  Adj. R-squared:    } &     0.784   \\\\\n",
       "\\textbf{No. Observations:} &        176    & \\textbf{  F-statistic:       } &     637.3   \\\\\n",
       "\\textbf{Covariance Type:}  &   nonrobust   & \\textbf{  Prob (F-statistic):} &  4.59e-60   \\\\\n",
       "\\bottomrule\n",
       "\\end{tabular}\n",
       "\\begin{tabular}{lcccccc}\n",
       "               & \\textbf{coef} & \\textbf{std err} & \\textbf{t} & \\textbf{P$> |$t$|$} & \\textbf{[0.025} & \\textbf{0.975]}  \\\\\n",
       "\\midrule\n",
       "\\textbf{const} &      -0.5830  &        0.005     &  -112.447  &         0.000        &       -0.593    &       -0.573     \\\\\n",
       "\\textbf{mu}    &   -1.987e+07  &     7.87e+05     &   -25.245  &         0.000        &    -2.14e+07    &    -1.83e+07     \\\\\n",
       "\\bottomrule\n",
       "\\end{tabular}\n",
       "%\\caption{WLS Regression Results}\n",
       "\\end{center}\n",
       "\n",
       "Notes: \\newline\n",
       " [1] Standard Errors assume that the covariance matrix of the errors is correctly specified. \\newline\n",
       " [2] The smallest eigenvalue is 2.12e-11. This might indicate that there are \\newline\n",
       " strong multicollinearity problems or that the design matrix is singular."
      ],
      "text/plain": [
       "<class 'statsmodels.iolib.summary.Summary'>\n",
       "\"\"\"\n",
       "                            WLS Regression Results                            \n",
       "==============================================================================\n",
       "Dep. Variable:                     ps   R-squared:                       0.786\n",
       "Model:                            WLS   Adj. R-squared:                  0.784\n",
       "No. Observations:                 176   F-statistic:                     637.3\n",
       "Covariance Type:            nonrobust   Prob (F-statistic):           4.59e-60\n",
       "==============================================================================\n",
       "                 coef    std err          t      P>|t|      [0.025      0.975]\n",
       "------------------------------------------------------------------------------\n",
       "const         -0.5830      0.005   -112.447      0.000      -0.593      -0.573\n",
       "mu         -1.987e+07   7.87e+05    -25.245      0.000   -2.14e+07   -1.83e+07\n",
       "==============================================================================\n",
       "\n",
       "Notes:\n",
       "[1] Standard Errors assume that the covariance matrix of the errors is correctly specified.\n",
       "[2] The smallest eigenvalue is 2.12e-11. This might indicate that there are\n",
       "strong multicollinearity problems or that the design matrix is singular.\n",
       "\"\"\""
      ]
     },
     "execution_count": 5,
     "metadata": {},
     "output_type": "execute_result"
    }
   ],
   "source": [
    "non_cpg = _syn[_syn[\"variant_type\"] != \"CpG\"]\n",
    "\n",
    "x2 = non_cpg[\"mu\"]\n",
    "X2 = sm.tools.add_constant(x2)\n",
    "y2 = non_cpg[\"ps\"]\n",
    "w2 = non_cpg[\"n_obs\"]\n",
    "\n",
    "model2 = sm.WLS(np.log(y2), X2, weights=w2).fit()\n",
    "model2.summary(slim=True)"
   ]
  },
  {
   "cell_type": "markdown",
   "id": "46e24906-a7b0-4969-aaa7-ecdf75450213",
   "metadata": {},
   "source": [
    "## Plot proportion of singletons vs mutability"
   ]
  },
  {
   "cell_type": "code",
   "execution_count": 9,
   "id": "3247ba98-ce3f-4896-ad4c-0617c730cd42",
   "metadata": {
    "tags": []
   },
   "outputs": [],
   "source": [
    "def plot_ps_vs_mu(ax, x, y, ylabel=\"Proportion singletons\", xlabel=\"Mutability\", title=\"All contexts\"):\n",
    "\n",
    "    ax.scatter(x, y, alpha=0.3, linewidths=0)\n",
    "    ax.set_xlabel(xlabel)\n",
    "    ax.set_ylabel(ylabel)\n",
    "    ax.set_title(title)\n",
    "\n",
    "    return None"
   ]
  },
  {
   "cell_type": "code",
   "execution_count": 10,
   "id": "aa9035b6-5829-48cb-b559-b363404da361",
   "metadata": {
    "tags": []
   },
   "outputs": [],
   "source": [
    "def plot_ps_vs_mu_regression(ax, x, y, model, **kwargs):\n",
    "    \n",
    "    plot_ps_vs_mu(ax, x, y, **kwargs)\n",
    "\n",
    "    Y = model.predict(sm.add_constant(x))\n",
    "    ax.plot(x, Y)\n",
    "\n",
    "    fig.text(x=1, y=0.9, s=rf\"$R^2$ = {model.rsquared:.3f}\", transform=ax.transAxes, ha=\"right\", va=\"top\")"
   ]
  },
  {
   "cell_type": "code",
   "execution_count": 11,
   "id": "c9ea8360-42ea-49f9-9206-1fa43a07ac19",
   "metadata": {
    "tags": []
   },
   "outputs": [
    {
     "data": {
      "image/png": "[encoded data removed]",
      "text/plain": [
       "<Figure size 472.441x157.48 with 3 Axes>"
      ]
     },
     "metadata": {},
     "output_type": "display_data"
    }
   ],
   "source": [
    "fig, axs = plt.subplots(1,3, figsize=(12*cm,4*cm), layout=\"constrained\")\n",
    "\n",
    "plot_ps_vs_mu(axs[0], x, y)\n",
    "plot_ps_vs_mu_regression(axs[1], x1, np.log(y1), model, ylabel=\"Proportion\\nsingletons (log)\")\n",
    "plot_ps_vs_mu_regression(axs[2], x2, np.log(y2), model2, ylabel=\"Proportion\\nsingletons (log)\", title=\"Non-CpG contexts\")\n",
    "\n",
    "for a, s in zip(axs, list(\"ABC\")):\n",
    "    panel_label(a,s)\n",
    "    \n",
    "plt.savefig(\"../plots/maps_model.svg\", format=\"svg\")\n",
    "plt.savefig(\"../plots/maps_model.png\", format=\"png\", dpi=1000)"
   ]
  },
  {
   "cell_type": "code",
   "execution_count": null,
   "id": "051661b1-3b6e-4f84-9b12-489cdf6dffc0",
   "metadata": {},
   "outputs": [],
   "source": []
  }
 ],
 "metadata": {
  "kernelspec": {
   "display_name": "ukb",
   "language": "python",
   "name": "python3"
  },
  "language_info": {
   "codemirror_mode": {
    "name": "ipython",
    "version": 3
   },
   "file_extension": ".py",
   "mimetype": "text/x-python",
   "name": "python",
   "nbconvert_exporter": "python",
   "pygments_lexer": "ipython3",
   "version": "3.8.17"
  }
 },
 "nbformat": 4,
 "nbformat_minor": 5
}
