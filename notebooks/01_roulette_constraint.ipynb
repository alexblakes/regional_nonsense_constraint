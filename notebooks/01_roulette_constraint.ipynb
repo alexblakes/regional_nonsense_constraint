{
 "cells": [
  {
   "cell_type": "markdown",
   "metadata": {},
   "source": [
    "# Roulette constraint\n",
    "Examine Roulette scaled mutation rates"
   ]
  },
  {
   "cell_type": "code",
   "execution_count": 1,
   "metadata": {},
   "outputs": [],
   "source": [
    "import pandas as pd\n",
    "import matplotlib.pyplot as plt\n",
    "import seaborn as sns\n",
    "from scipy import stats\n",
    "from src import constants as C"
   ]
  },
  {
   "cell_type": "code",
   "execution_count": 2,
   "metadata": {},
   "outputs": [],
   "source": [
    "_FILE_IN = \"data/interim/observed_variants_counts_regions_cov_20.tsv\""
   ]
  },
  {
   "cell_type": "code",
   "execution_count": 3,
   "metadata": {},
   "outputs": [],
   "source": [
    "plt.style.use(C.STYLE_DEFAULT)\n",
    "plt.style.use(C.COLOR_REGIONS)"
   ]
  },
  {
   "cell_type": "code",
   "execution_count": 4,
   "metadata": {},
   "outputs": [],
   "source": [
    "# Read all constraint data\n",
    "df = pd.read_csv(_FILE_IN, sep=\"\\t\").assign(\n",
    "    n_exp = lambda x: x[\"pos\"] * x[\"mu_roulette_scaled\"],\n",
    "    oe = lambda x: x[\"obs\"] / x[\"n_exp\"]\n",
    ")"
   ]
  },
  {
   "cell_type": "code",
   "execution_count": 5,
   "metadata": {},
   "outputs": [
    {
     "data": {
      "text/html": [
       "<div>\n",
       "<style scoped>\n",
       "    .dataframe tbody tr th:only-of-type {\n",
       "        vertical-align: middle;\n",
       "    }\n",
       "\n",
       "    .dataframe tbody tr th {\n",
       "        vertical-align: top;\n",
       "    }\n",
       "\n",
       "    .dataframe thead th {\n",
       "        text-align: right;\n",
       "    }\n",
       "</style>\n",
       "<table border=\"1\" class=\"dataframe\">\n",
       "  <thead>\n",
       "    <tr style=\"text-align: right;\">\n",
       "      <th></th>\n",
       "      <th>enst</th>\n",
       "      <th>csq</th>\n",
       "      <th>region</th>\n",
       "      <th>obs</th>\n",
       "      <th>pos</th>\n",
       "      <th>mu_roulette_scaled</th>\n",
       "      <th>n_exp</th>\n",
       "      <th>oe</th>\n",
       "    </tr>\n",
       "  </thead>\n",
       "  <tbody>\n",
       "    <tr>\n",
       "      <th>161347</th>\n",
       "      <td>ENST00000641515</td>\n",
       "      <td>missense_variant</td>\n",
       "      <td>transcript</td>\n",
       "      <td>36</td>\n",
       "      <td>416</td>\n",
       "      <td>0.209275</td>\n",
       "      <td>87.058342</td>\n",
       "      <td>0.413516</td>\n",
       "    </tr>\n",
       "    <tr>\n",
       "      <th>161348</th>\n",
       "      <td>ENST00000641515</td>\n",
       "      <td>synonymous_variant</td>\n",
       "      <td>transcript</td>\n",
       "      <td>12</td>\n",
       "      <td>117</td>\n",
       "      <td>0.279478</td>\n",
       "      <td>32.698949</td>\n",
       "      <td>0.366984</td>\n",
       "    </tr>\n",
       "    <tr>\n",
       "      <th>161349</th>\n",
       "      <td>ENST00000641515</td>\n",
       "      <td>stop_gained</td>\n",
       "      <td>transcript</td>\n",
       "      <td>1</td>\n",
       "      <td>19</td>\n",
       "      <td>0.098936</td>\n",
       "      <td>1.879783</td>\n",
       "      <td>0.531976</td>\n",
       "    </tr>\n",
       "    <tr>\n",
       "      <th>161350</th>\n",
       "      <td>ENST00000616016</td>\n",
       "      <td>missense_variant</td>\n",
       "      <td>transcript</td>\n",
       "      <td>1377</td>\n",
       "      <td>4181</td>\n",
       "      <td>0.262766</td>\n",
       "      <td>1098.623392</td>\n",
       "      <td>1.253387</td>\n",
       "    </tr>\n",
       "    <tr>\n",
       "      <th>161351</th>\n",
       "      <td>ENST00000616016</td>\n",
       "      <td>synonymous_variant</td>\n",
       "      <td>transcript</td>\n",
       "      <td>676</td>\n",
       "      <td>1584</td>\n",
       "      <td>0.342809</td>\n",
       "      <td>543.009868</td>\n",
       "      <td>1.244913</td>\n",
       "    </tr>\n",
       "  </tbody>\n",
       "</table>\n",
       "</div>"
      ],
      "text/plain": [
       "                   enst                 csq      region   obs   pos  \\\n",
       "161347  ENST00000641515    missense_variant  transcript    36   416   \n",
       "161348  ENST00000641515  synonymous_variant  transcript    12   117   \n",
       "161349  ENST00000641515         stop_gained  transcript     1    19   \n",
       "161350  ENST00000616016    missense_variant  transcript  1377  4181   \n",
       "161351  ENST00000616016  synonymous_variant  transcript   676  1584   \n",
       "\n",
       "        mu_roulette_scaled        n_exp        oe  \n",
       "161347            0.209275    87.058342  0.413516  \n",
       "161348            0.279478    32.698949  0.366984  \n",
       "161349            0.098936     1.879783  0.531976  \n",
       "161350            0.262766  1098.623392  1.253387  \n",
       "161351            0.342809   543.009868  1.244913  "
      ]
     },
     "execution_count": 5,
     "metadata": {},
     "output_type": "execute_result"
    }
   ],
   "source": [
    "# Subset to transcript-level data\n",
    "transcript = df[df.region == \"transcript\"].copy()\n",
    "transcript.head()"
   ]
  },
  {
   "cell_type": "code",
   "execution_count": 6,
   "metadata": {},
   "outputs": [
    {
     "data": {
      "image/png": "[encoded data removed]",
      "text/plain": [
       "<Figure size 472.441x157.48 with 3 Axes>"
      ]
     },
     "metadata": {},
     "output_type": "display_data"
    }
   ],
   "source": [
    "# Plot O/E distributions per transcript\n",
    "\n",
    "fig, axs = plt.subplots(1, 3, figsize=(12 * C.CM, 4 * C.CM), layout=\"constrained\")\n",
    "\n",
    "axs = axs.flatten()\n",
    "csqs = [\"synonymous_variant\", \"missense_variant\", \"stop_gained\"]\n",
    "labels = [\"Synonymous\", \"Missense\", \"Nonsense\"]\n",
    "\n",
    "for ax, csq, label in zip(axs, csqs, labels):\n",
    "    x = transcript[transcript.csq == csq][\"oe\"]\n",
    "    sns.kdeplot(ax=ax, x=x, cut=0, fill=True, gridsize=500)\n",
    "    ax.set_xlim((0, 2))\n",
    "    ax.set_xlabel(\"OE\")\n",
    "    ax.set_title(label)\n",
    "    ax.label_outer()"
   ]
  },
  {
   "cell_type": "code",
   "execution_count": 7,
   "metadata": {},
   "outputs": [
    {
     "data": {
      "image/png": "[encoded data removed]",
      "text/plain": [
       "<Figure size 472.441x157.48 with 3 Axes>"
      ]
     },
     "metadata": {},
     "output_type": "display_data"
    }
   ],
   "source": [
    "# Plot observed versus expected variant counts\n",
    "\n",
    "fig, axs = plt.subplots(1, 3, figsize=(12 * C.CM, 4 * C.CM), layout=\"constrained\")\n",
    "\n",
    "axs = axs.flatten()\n",
    "csqs = [\"synonymous_variant\", \"missense_variant\", \"stop_gained\"]\n",
    "labels = [\"Synonymous\", \"Missense\", \"Nonsense\"]\n",
    "\n",
    "for ax, csq, label in zip(axs, csqs, labels):\n",
    "    x = transcript[transcript.csq == csq][\"n_exp\"]\n",
    "    y = transcript[transcript.csq == csq][\"obs\"]\n",
    "    ax.scatter(x=x, y=y, alpha=0.2)\n",
    "    # ax.set_box_aspect(1)\n",
    "    # ax.set_aspect(\"equal\", adjustable=\"datalim\", anchor=\"SW\")\n",
    "    ax.axis(\"square\")\n",
    "    ax.axline((0,0), slope=1)\n",
    "    ax.set_xlabel(\"Expected\")\n",
    "    ax.set_ylabel(\"Observed\")\n",
    "    ax.set_title(label)"
   ]
  },
  {
   "cell_type": "code",
   "execution_count": 8,
   "metadata": {},
   "outputs": [
    {
     "data": {
      "text/plain": [
       "LinregressResult(slope=0.979087041437498, intercept=7.697839166192921, rvalue=0.9924519651154521, pvalue=0.0, stderr=0.0009019761085308126, intercept_stderr=0.3647904086520356)"
      ]
     },
     "execution_count": 8,
     "metadata": {},
     "output_type": "execute_result"
    }
   ],
   "source": [
    "# Test the correlation between observed and expected counts of synonymous variants\n",
    "\n",
    "synonymous = transcript[transcript.csq == \"synonymous_variant\"]\n",
    "\n",
    "x = synonymous.obs\n",
    "y = synonymous.n_exp\n",
    "\n",
    "stats.linregress(x,y)"
   ]
  },
  {
   "cell_type": "markdown",
   "metadata": {},
   "source": [
    "The R**2 value is substantially greater than with the gnomAD mutational models."
   ]
  }
 ],
 "metadata": {
  "kernelspec": {
   "display_name": "ukb",
   "language": "python",
   "name": "python3"
  },
  "language_info": {
   "codemirror_mode": {
    "name": "ipython",
    "version": 3
   },
   "file_extension": ".py",
   "mimetype": "text/x-python",
   "name": "python",
   "nbconvert_exporter": "python",
   "pygments_lexer": "ipython3",
   "version": "3.8.17"
  }
 },
 "nbformat": 4,
 "nbformat_minor": 2
}
