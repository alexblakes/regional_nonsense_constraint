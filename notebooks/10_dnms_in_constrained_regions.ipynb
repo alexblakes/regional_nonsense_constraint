{
 "cells": [
  {
   "cell_type": "markdown",
   "metadata": {},
   "source": [
    "# DNMs in constrained regions."
   ]
  },
  {
   "cell_type": "code",
   "execution_count": 19,
   "metadata": {},
   "outputs": [],
   "source": [
    "# Imports\n",
    "import pandas as pd\n",
    "import numpy as np\n",
    "\n",
    "from src import constants as C"
   ]
  },
  {
   "cell_type": "code",
   "execution_count": 20,
   "metadata": {},
   "outputs": [],
   "source": [
    "# Module constants\n",
    "_N_DNMS = 3"
   ]
  },
  {
   "cell_type": "code",
   "execution_count": 21,
   "metadata": {},
   "outputs": [
    {
     "data": {
      "text/plain": [
       "(55996, 13)"
      ]
     },
     "execution_count": 21,
     "metadata": {},
     "output_type": "execute_result"
    }
   ],
   "source": [
    "# Load data\n",
    "df = pd.read_csv(C.DNMS_ANNOTATED, sep=\"\\t\")\n",
    "\n",
    "# Sort by source\n",
    "df[\"source\"] = pd.Categorical(df[\"source\"], [\"gel\",\"ddd\",\"genedx\",\"rumc\"])\n",
    "df = df.sort_values(\"source\")\n",
    "\n",
    "#! Drop duplicated DNMs\n",
    "df = df.drop_duplicates([\"chr\",\"pos\",\"ref\",\"alt\",\"enst\"])\n",
    "\n",
    "df.shape"
   ]
  },
  {
   "cell_type": "markdown",
   "metadata": {},
   "source": [
    "How many transcripts have three or more DNMs in a constrained region?"
   ]
  },
  {
   "cell_type": "code",
   "execution_count": 22,
   "metadata": {},
   "outputs": [
    {
     "data": {
      "text/plain": [
       "131"
      ]
     },
     "execution_count": 22,
     "metadata": {},
     "output_type": "execute_result"
    }
   ],
   "source": [
    "# Keep only truncating DNMs in constrained regions\n",
    "m1 = df[\"csq\"] == \"stop_gained\"\n",
    "m2 = df[\"csq\"] == \"frameshift\"\n",
    "m3 = df[\"constraint\"] == \"constrained\"\n",
    "\n",
    "trunc = df[(m1 | m2) & m3].copy()\n",
    "\n",
    "# Count truncating variants\n",
    "trunc[\"n_truncating\"] = trunc.groupby([\"enst\", \"region\"]).pos.transform(\"count\")\n",
    "\n",
    "# Transcripts with >= 3 truncating DNMs in a constrained region.\n",
    "trunc[trunc[\"n_truncating\"] >= _N_DNMS].enst.nunique()"
   ]
  },
  {
   "cell_type": "markdown",
   "metadata": {},
   "source": [
    "How many transcripts with >=3 truncating DNMs have no disease association in OMIM? "
   ]
  },
  {
   "cell_type": "code",
   "execution_count": 23,
   "metadata": {},
   "outputs": [
    {
     "data": {
      "text/plain": [
       "29"
      ]
     },
     "execution_count": 23,
     "metadata": {},
     "output_type": "execute_result"
    }
   ],
   "source": [
    "trunc[(trunc[\"n_truncating\"] >= _N_DNMS) & (trunc[\"phenotype\"].isna())].enst.nunique()"
   ]
  },
  {
   "cell_type": "code",
   "execution_count": 25,
   "metadata": {},
   "outputs": [
    {
     "data": {
      "text/html": [
       "<div>\n",
       "<style scoped>\n",
       "    .dataframe tbody tr th:only-of-type {\n",
       "        vertical-align: middle;\n",
       "    }\n",
       "\n",
       "    .dataframe tbody tr th {\n",
       "        vertical-align: top;\n",
       "    }\n",
       "\n",
       "    .dataframe thead th {\n",
       "        text-align: right;\n",
       "    }\n",
       "</style>\n",
       "<table border=\"1\" class=\"dataframe\">\n",
       "  <thead>\n",
       "    <tr style=\"text-align: right;\">\n",
       "      <th></th>\n",
       "      <th>ensg</th>\n",
       "      <th>enst</th>\n",
       "      <th>chr</th>\n",
       "      <th>pos</th>\n",
       "      <th>ref</th>\n",
       "      <th>alt</th>\n",
       "      <th>symbol</th>\n",
       "      <th>csq</th>\n",
       "      <th>region</th>\n",
       "      <th>source</th>\n",
       "      <th>phenotype</th>\n",
       "      <th>inheritance</th>\n",
       "      <th>constraint</th>\n",
       "      <th>n_truncating</th>\n",
       "    </tr>\n",
       "  </thead>\n",
       "  <tbody>\n",
       "    <tr>\n",
       "      <th>53674</th>\n",
       "      <td>ENSG00000091656</td>\n",
       "      <td>ENST00000651372</td>\n",
       "      <td>chr8</td>\n",
       "      <td>76851476</td>\n",
       "      <td>CGG</td>\n",
       "      <td>CG</td>\n",
       "      <td>ZFHX4</td>\n",
       "      <td>frameshift</td>\n",
       "      <td>long_exon</td>\n",
       "      <td>ddd</td>\n",
       "      <td>NaN</td>\n",
       "      <td>NaN</td>\n",
       "      <td>constrained</td>\n",
       "      <td>6</td>\n",
       "    </tr>\n",
       "    <tr>\n",
       "      <th>30151</th>\n",
       "      <td>ENSG00000161681</td>\n",
       "      <td>ENST00000293441</td>\n",
       "      <td>chr19</td>\n",
       "      <td>50667460</td>\n",
       "      <td>GGGCTGGC</td>\n",
       "      <td>GGGC</td>\n",
       "      <td>SHANK1</td>\n",
       "      <td>frameshift</td>\n",
       "      <td>long_exon</td>\n",
       "      <td>ddd</td>\n",
       "      <td>NaN</td>\n",
       "      <td>NaN</td>\n",
       "      <td>constrained</td>\n",
       "      <td>3</td>\n",
       "    </tr>\n",
       "    <tr>\n",
       "      <th>26705</th>\n",
       "      <td>ENSG00000256463</td>\n",
       "      <td>ENST00000537592</td>\n",
       "      <td>chr18</td>\n",
       "      <td>78992997</td>\n",
       "      <td>C</td>\n",
       "      <td>T</td>\n",
       "      <td>SALL3</td>\n",
       "      <td>stop_gained</td>\n",
       "      <td>long_exon</td>\n",
       "      <td>gel</td>\n",
       "      <td>NaN</td>\n",
       "      <td>NaN</td>\n",
       "      <td>constrained</td>\n",
       "      <td>4</td>\n",
       "    </tr>\n",
       "    <tr>\n",
       "      <th>53681</th>\n",
       "      <td>ENSG00000091656</td>\n",
       "      <td>ENST00000651372</td>\n",
       "      <td>chr8</td>\n",
       "      <td>76853736</td>\n",
       "      <td>TATGGTTC</td>\n",
       "      <td>T</td>\n",
       "      <td>ZFHX4</td>\n",
       "      <td>frameshift</td>\n",
       "      <td>long_exon</td>\n",
       "      <td>ddd</td>\n",
       "      <td>NaN</td>\n",
       "      <td>NaN</td>\n",
       "      <td>constrained</td>\n",
       "      <td>6</td>\n",
       "    </tr>\n",
       "    <tr>\n",
       "      <th>12716</th>\n",
       "      <td>ENSG00000197111</td>\n",
       "      <td>ENST00000546463</td>\n",
       "      <td>chr12</td>\n",
       "      <td>53462493</td>\n",
       "      <td>T</td>\n",
       "      <td>TC</td>\n",
       "      <td>PCBP2</td>\n",
       "      <td>frameshift</td>\n",
       "      <td>nmd_target</td>\n",
       "      <td>genedx</td>\n",
       "      <td>NaN</td>\n",
       "      <td>NaN</td>\n",
       "      <td>constrained</td>\n",
       "      <td>3</td>\n",
       "    </tr>\n",
       "    <tr>\n",
       "      <th>54772</th>\n",
       "      <td>ENSG00000153707</td>\n",
       "      <td>ENST00000381196</td>\n",
       "      <td>chr9</td>\n",
       "      <td>8504405</td>\n",
       "      <td>G</td>\n",
       "      <td>A</td>\n",
       "      <td>PTPRD</td>\n",
       "      <td>stop_gained</td>\n",
       "      <td>nmd_target</td>\n",
       "      <td>genedx</td>\n",
       "      <td>NaN</td>\n",
       "      <td>NaN</td>\n",
       "      <td>constrained</td>\n",
       "      <td>4</td>\n",
       "    </tr>\n",
       "    <tr>\n",
       "      <th>40755</th>\n",
       "      <td>ENSG00000285708</td>\n",
       "      <td>ENST00000647725</td>\n",
       "      <td>chr3</td>\n",
       "      <td>70977013</td>\n",
       "      <td>T</td>\n",
       "      <td>TA</td>\n",
       "      <td>ENSG00000285708</td>\n",
       "      <td>frameshift</td>\n",
       "      <td>nmd_target</td>\n",
       "      <td>gel</td>\n",
       "      <td>NaN</td>\n",
       "      <td>NaN</td>\n",
       "      <td>constrained</td>\n",
       "      <td>21</td>\n",
       "    </tr>\n",
       "    <tr>\n",
       "      <th>40747</th>\n",
       "      <td>ENSG00000285708</td>\n",
       "      <td>ENST00000647725</td>\n",
       "      <td>chr3</td>\n",
       "      <td>70976964</td>\n",
       "      <td>G</td>\n",
       "      <td>A</td>\n",
       "      <td>ENSG00000285708</td>\n",
       "      <td>stop_gained</td>\n",
       "      <td>nmd_target</td>\n",
       "      <td>gel</td>\n",
       "      <td>NaN</td>\n",
       "      <td>NaN</td>\n",
       "      <td>constrained</td>\n",
       "      <td>21</td>\n",
       "    </tr>\n",
       "    <tr>\n",
       "      <th>32981</th>\n",
       "      <td>ENSG00000168702</td>\n",
       "      <td>ENST00000389484</td>\n",
       "      <td>chr2</td>\n",
       "      <td>140868127</td>\n",
       "      <td>C</td>\n",
       "      <td>A</td>\n",
       "      <td>LRP1B</td>\n",
       "      <td>stop_gained</td>\n",
       "      <td>nmd_target</td>\n",
       "      <td>ddd</td>\n",
       "      <td>NaN</td>\n",
       "      <td>NaN</td>\n",
       "      <td>constrained</td>\n",
       "      <td>4</td>\n",
       "    </tr>\n",
       "    <tr>\n",
       "      <th>20694</th>\n",
       "      <td>ENSG00000282034</td>\n",
       "      <td>ENST00000380361</td>\n",
       "      <td>chr16</td>\n",
       "      <td>30737733</td>\n",
       "      <td>G</td>\n",
       "      <td>T</td>\n",
       "      <td>ENSG00000282034</td>\n",
       "      <td>stop_gained</td>\n",
       "      <td>long_exon</td>\n",
       "      <td>ddd</td>\n",
       "      <td>NaN</td>\n",
       "      <td>NaN</td>\n",
       "      <td>constrained</td>\n",
       "      <td>10</td>\n",
       "    </tr>\n",
       "  </tbody>\n",
       "</table>\n",
       "</div>"
      ],
      "text/plain": [
       "                  ensg             enst    chr        pos       ref   alt  \\\n",
       "53674  ENSG00000091656  ENST00000651372   chr8   76851476       CGG    CG   \n",
       "30151  ENSG00000161681  ENST00000293441  chr19   50667460  GGGCTGGC  GGGC   \n",
       "26705  ENSG00000256463  ENST00000537592  chr18   78992997         C     T   \n",
       "53681  ENSG00000091656  ENST00000651372   chr8   76853736  TATGGTTC     T   \n",
       "12716  ENSG00000197111  ENST00000546463  chr12   53462493         T    TC   \n",
       "54772  ENSG00000153707  ENST00000381196   chr9    8504405         G     A   \n",
       "40755  ENSG00000285708  ENST00000647725   chr3   70977013         T    TA   \n",
       "40747  ENSG00000285708  ENST00000647725   chr3   70976964         G     A   \n",
       "32981  ENSG00000168702  ENST00000389484   chr2  140868127         C     A   \n",
       "20694  ENSG00000282034  ENST00000380361  chr16   30737733         G     T   \n",
       "\n",
       "                symbol          csq      region  source phenotype inheritance  \\\n",
       "53674            ZFHX4   frameshift   long_exon     ddd       NaN         NaN   \n",
       "30151           SHANK1   frameshift   long_exon     ddd       NaN         NaN   \n",
       "26705            SALL3  stop_gained   long_exon     gel       NaN         NaN   \n",
       "53681            ZFHX4   frameshift   long_exon     ddd       NaN         NaN   \n",
       "12716            PCBP2   frameshift  nmd_target  genedx       NaN         NaN   \n",
       "54772            PTPRD  stop_gained  nmd_target  genedx       NaN         NaN   \n",
       "40755  ENSG00000285708   frameshift  nmd_target     gel       NaN         NaN   \n",
       "40747  ENSG00000285708  stop_gained  nmd_target     gel       NaN         NaN   \n",
       "32981            LRP1B  stop_gained  nmd_target     ddd       NaN         NaN   \n",
       "20694  ENSG00000282034  stop_gained   long_exon     ddd       NaN         NaN   \n",
       "\n",
       "        constraint  n_truncating  \n",
       "53674  constrained             6  \n",
       "30151  constrained             3  \n",
       "26705  constrained             4  \n",
       "53681  constrained             6  \n",
       "12716  constrained             3  \n",
       "54772  constrained             4  \n",
       "40755  constrained            21  \n",
       "40747  constrained            21  \n",
       "32981  constrained             4  \n",
       "20694  constrained            10  "
      ]
     },
     "execution_count": 25,
     "metadata": {},
     "output_type": "execute_result"
    }
   ],
   "source": [
    "trunc[(trunc[\"n_truncating\"] >= _N_DNMS) & (trunc[\"phenotype\"].isna())].sample(10)"
   ]
  }
 ],
 "metadata": {
  "kernelspec": {
   "display_name": "ukb",
   "language": "python",
   "name": "python3"
  },
  "language_info": {
   "codemirror_mode": {
    "name": "ipython",
    "version": 3
   },
   "file_extension": ".py",
   "mimetype": "text/x-python",
   "name": "python",
   "nbconvert_exporter": "python",
   "pygments_lexer": "ipython3",
   "version": "3.8.17"
  }
 },
 "nbformat": 4,
 "nbformat_minor": 2
}
