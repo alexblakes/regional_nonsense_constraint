{
 "cells": [
  {
   "cell_type": "markdown",
   "metadata": {},
   "source": [
    "# Regional constraint vs gnomAD constraint\n",
    "Exploratory data analysis comparing regional constraint annotations with gnomAD constraint data."
   ]
  },
  {
   "cell_type": "code",
   "execution_count": 1,
   "metadata": {},
   "outputs": [],
   "source": [
    "import pandas as pd\n",
    "import numpy as np\n",
    "from src import constants as C"
   ]
  },
  {
   "cell_type": "markdown",
   "metadata": {},
   "source": [
    "Get the constraint summary data."
   ]
  },
  {
   "cell_type": "code",
   "execution_count": 2,
   "metadata": {},
   "outputs": [
    {
     "data": {
      "text/html": [
       "<div>\n",
       "<style scoped>\n",
       "    .dataframe tbody tr th:only-of-type {\n",
       "        vertical-align: middle;\n",
       "    }\n",
       "\n",
       "    .dataframe tbody tr th {\n",
       "        vertical-align: top;\n",
       "    }\n",
       "\n",
       "    .dataframe thead th {\n",
       "        text-align: right;\n",
       "    }\n",
       "</style>\n",
       "<table border=\"1\" class=\"dataframe\">\n",
       "  <thead>\n",
       "    <tr style=\"text-align: right;\">\n",
       "      <th></th>\n",
       "      <th>enst</th>\n",
       "      <th>region</th>\n",
       "      <th>csq</th>\n",
       "      <th>n_pos</th>\n",
       "      <th>n_obs</th>\n",
       "      <th>n_exp</th>\n",
       "      <th>oe</th>\n",
       "      <th>prop_obs</th>\n",
       "      <th>prop_exp</th>\n",
       "      <th>mu</th>\n",
       "      <th>chi2</th>\n",
       "      <th>z</th>\n",
       "      <th>p</th>\n",
       "      <th>fdr_p</th>\n",
       "      <th>pli</th>\n",
       "      <th>loeuf</th>\n",
       "      <th>gnomad_flags</th>\n",
       "      <th>syn_z</th>\n",
       "      <th>constraint</th>\n",
       "    </tr>\n",
       "  </thead>\n",
       "  <tbody>\n",
       "    <tr>\n",
       "      <th>12888</th>\n",
       "      <td>ENST00000393409</td>\n",
       "      <td>distal_nmd</td>\n",
       "      <td>stop_gained</td>\n",
       "      <td>19.0</td>\n",
       "      <td>2.0</td>\n",
       "      <td>3.182</td>\n",
       "      <td>0.628536</td>\n",
       "      <td>0.105263</td>\n",
       "      <td>0.167474</td>\n",
       "      <td>5.488922e-08</td>\n",
       "      <td>NaN</td>\n",
       "      <td>NaN</td>\n",
       "      <td>NaN</td>\n",
       "      <td>NaN</td>\n",
       "      <td>0.60692</td>\n",
       "      <td>0.486</td>\n",
       "      <td>[]</td>\n",
       "      <td>-0.699559</td>\n",
       "      <td>NaN</td>\n",
       "    </tr>\n",
       "    <tr>\n",
       "      <th>40551</th>\n",
       "      <td>ENST00000262238</td>\n",
       "      <td>nmd_target</td>\n",
       "      <td>stop_gained</td>\n",
       "      <td>93.0</td>\n",
       "      <td>1.0</td>\n",
       "      <td>16.213</td>\n",
       "      <td>0.061679</td>\n",
       "      <td>0.010753</td>\n",
       "      <td>0.174333</td>\n",
       "      <td>2.819781e-07</td>\n",
       "      <td>17.28867</td>\n",
       "      <td>-4.157965</td>\n",
       "      <td>0.000032</td>\n",
       "      <td>0.000215</td>\n",
       "      <td>1.00000</td>\n",
       "      <td>0.200</td>\n",
       "      <td>[]</td>\n",
       "      <td>0.343072</td>\n",
       "      <td>constrained</td>\n",
       "    </tr>\n",
       "    <tr>\n",
       "      <th>44582</th>\n",
       "      <td>ENST00000319098</td>\n",
       "      <td>nmd_target</td>\n",
       "      <td>stop_gained</td>\n",
       "      <td>0.0</td>\n",
       "      <td>0.0</td>\n",
       "      <td>0.000</td>\n",
       "      <td>NaN</td>\n",
       "      <td>NaN</td>\n",
       "      <td>NaN</td>\n",
       "      <td>NaN</td>\n",
       "      <td>NaN</td>\n",
       "      <td>NaN</td>\n",
       "      <td>NaN</td>\n",
       "      <td>NaN</td>\n",
       "      <td>NaN</td>\n",
       "      <td>NaN</td>\n",
       "      <td>[\"no_exp_lof\"]</td>\n",
       "      <td>NaN</td>\n",
       "      <td>NaN</td>\n",
       "    </tr>\n",
       "  </tbody>\n",
       "</table>\n",
       "</div>"
      ],
      "text/plain": [
       "                  enst      region          csq  n_pos  n_obs   n_exp  \\\n",
       "12888  ENST00000393409  distal_nmd  stop_gained   19.0    2.0   3.182   \n",
       "40551  ENST00000262238  nmd_target  stop_gained   93.0    1.0  16.213   \n",
       "44582  ENST00000319098  nmd_target  stop_gained    0.0    0.0   0.000   \n",
       "\n",
       "             oe  prop_obs  prop_exp            mu      chi2         z  \\\n",
       "12888  0.628536  0.105263  0.167474  5.488922e-08       NaN       NaN   \n",
       "40551  0.061679  0.010753  0.174333  2.819781e-07  17.28867 -4.157965   \n",
       "44582       NaN       NaN       NaN           NaN       NaN       NaN   \n",
       "\n",
       "              p     fdr_p      pli  loeuf    gnomad_flags     syn_z  \\\n",
       "12888       NaN       NaN  0.60692  0.486              [] -0.699559   \n",
       "40551  0.000032  0.000215  1.00000  0.200              []  0.343072   \n",
       "44582       NaN       NaN      NaN    NaN  [\"no_exp_lof\"]       NaN   \n",
       "\n",
       "        constraint  \n",
       "12888          NaN  \n",
       "40551  constrained  \n",
       "44582          NaN  "
      ]
     },
     "execution_count": 2,
     "metadata": {},
     "output_type": "execute_result"
    }
   ],
   "source": [
    "df = pd.read_csv(C.REGIONAL_NONSENSE_CONSTRAINT, sep=\"\\t\")\n",
    "df.sample(3)"
   ]
  },
  {
   "cell_type": "markdown",
   "metadata": {},
   "source": [
    "## Genes which are not constrained in gnomAD, but are constrained at the transcript level in our analysis."
   ]
  },
  {
   "cell_type": "code",
   "execution_count": 3,
   "metadata": {},
   "outputs": [
    {
     "data": {
      "text/plain": [
       "(364, 19)"
      ]
     },
     "execution_count": 3,
     "metadata": {},
     "output_type": "execute_result"
    }
   ],
   "source": [
    "# Masks\n",
    "m1 = df[\"region\"] == \"transcript\"\n",
    "m2 = df[\"constraint\"] == \"constrained\"\n",
    "m3 = df[\"pli\"] < 0.9\n",
    "m4 = df[\"pli\"].isna()\n",
    "m5 = df[\"loeuf\"] > 0.6\n",
    "m6 = df[\"loeuf\"].isna()\n",
    "\n",
    "new = df[m1 & m2 & (m3 | m4) & (m5 | m6)].copy()\n",
    "new.shape"
   ]
  },
  {
   "cell_type": "markdown",
   "metadata": {},
   "source": [
    "There are 364 \"newly-constrained\" transcripts from our analysis.\n",
    "\n",
    "Why might they be constrained for nonsense variants, but not constrained in gnomAD?\n",
    "\n",
    "- **Splicing variants** pLI and LOEUF are calculated using pLoF SNVs. These include both nonsense and canonical splice site SNVs. Our metric is calculated only for nonsense variants. Splicing variants are perhaps less likely to cause true LoF than nonsense variants. E.g. ENST00000005260.\n",
    "- **Noncoding transcripts** E.g. ENST00000683988. We have constraint annotations for non-coding transcripts. For example, this is the canonical transcript for a non-coding gene (NMD) which overlaps KMT2D. This appears to be the most common reason for the \"no_exp_lof\" flag.\n",
    "- **LOEUF may be more conservative** The error margin around the LOEUF score makes it a more conservative measure. E.g. ENST00000693108 has LOEUF 0.61, but O/E (in gnomAD) 0.38, and O/E (here) 0.31.\n",
    "- **Missing in gnomAD** e.g. ENST00000683779. No constraint statistics are available for this transcript in gnomAD, and the reasons for this have not been flagged. It appears to have quite poor coverage.\n",
    "- **Flagged in gnomAD**  Constraint scores have not been calculated in gnomAD because the transcript has been flagged. e.g. ENST00000248071. This is an interesting example. The transcript is marked with the \"outlier_syn\" flag in gnomAD. But in our analysis the transcript-level synonymous Z score is 1.98. This difference may be due to different coverage cutoffs. The gnomAD constraint work is done on sites with median coverage >30. Ours is on sites with median coverage >30. Furthermore, we only use a synonymous Z score cutoff, and then only for lower-than-expected synonymous values (Z < -1) \n",
    "- **Other** There may be other important factors I have not considered. Those mentioned above are apparent from a skim of the data."
   ]
  },
  {
   "cell_type": "markdown",
   "metadata": {},
   "source": [
    "Let's limit this list to protein-coding transcripts."
   ]
  },
  {
   "cell_type": "code",
   "execution_count": 4,
   "metadata": {},
   "outputs": [
    {
     "data": {
      "text/plain": [
       "(364, 19)"
      ]
     },
     "execution_count": 4,
     "metadata": {},
     "output_type": "execute_result"
    }
   ],
   "source": [
    "gene_list = pd.read_csv(C.CANONICAL_CDS_GENE_IDS, sep=\"\\t\")\n",
    "\n",
    "new_coding = new[new.enst.isin(gene_list.transcript_id)].copy()\n",
    "new_coding.shape"
   ]
  },
  {
   "cell_type": "markdown",
   "metadata": {},
   "source": [
    "All of the transcripts are found in the canonical gene list. This is problematic and suggests an error in transcript curation. \n",
    "\n",
    "I am currently filtering for transcripts in which the \"gene_type\" is \"protein_coding\". However, a \"protein_coding\" gene_type does not equate to a protein coding canonical transcript. Many genes are potentially protein coding, but their canonical transcripts are subject to NMD and lack a protein-coding tag.\n",
    "\n",
    "I should switch to filtering for transcripts in which the \"transcript_type\" is protein coding. This will involve rerunning most of my pipeline."
   ]
  },
  {
   "cell_type": "markdown",
   "metadata": {},
   "source": [
    "A similar approach is to exclude transcripts with the \"no_exp_lof\" flag in gnomAD."
   ]
  },
  {
   "cell_type": "code",
   "execution_count": 5,
   "metadata": {},
   "outputs": [
    {
     "data": {
      "text/plain": [
       "(343, 19)"
      ]
     },
     "execution_count": 5,
     "metadata": {},
     "output_type": "execute_result"
    }
   ],
   "source": [
    "m7 = new.gnomad_flags.fillna(\"\").str.contains(\"no_exp_lof\")\n",
    "\n",
    "new_coding = new[~m7].copy()\n",
    "new_coding.shape"
   ]
  },
  {
   "cell_type": "markdown",
   "metadata": {},
   "source": [
    "We drop 21 transcripts with the \"no_exp_lof\" flag.\n",
    "\n",
    "We should also drop those transcripts which are missing constraint annotations in gnomAD. Possibly this is due to limited coverage."
   ]
  },
  {
   "cell_type": "code",
   "execution_count": 6,
   "metadata": {},
   "outputs": [
    {
     "data": {
      "text/plain": [
       "(338, 19)"
      ]
     },
     "execution_count": 6,
     "metadata": {},
     "output_type": "execute_result"
    }
   ],
   "source": [
    "new_coding = new_coding.dropna()\n",
    "new_coding.shape"
   ]
  },
  {
   "cell_type": "markdown",
   "metadata": {},
   "source": [
    "A further five transcripts are dropped."
   ]
  },
  {
   "cell_type": "code",
   "execution_count": 7,
   "metadata": {},
   "outputs": [
    {
     "data": {
      "text/plain": [
       "[]                               325\n",
       "[\"outlier_syn\"]                    7\n",
       "[\"outlier_mis\",\"outlier_syn\"]      5\n",
       "[\"outlier_mis\"]                    1\n",
       "Name: gnomad_flags, dtype: int64"
      ]
     },
     "execution_count": 7,
     "metadata": {},
     "output_type": "execute_result"
    }
   ],
   "source": [
    "new_coding.gnomad_flags.value_counts()"
   ]
  },
  {
   "cell_type": "markdown",
   "metadata": {},
   "source": [
    "Thirteen of the transcripts are outliers for synonymous / missense variants in gnomAD. \n",
    "\n",
    "In total, we find 325 \"newly-constrained\" transcripts.\n",
    "\n",
    "These are likely to be accounted for by:\n",
    "1) The inclusion of splicing variants in gnomAD constraint.\n",
    "2) The more conservative nature of LOEUF."
   ]
  },
  {
   "cell_type": "markdown",
   "metadata": {},
   "source": [
    "## Genes which are not constrained in gnomAD, but which have regional nonsense constraint.\n",
    "How many genes are not constrained in gnomAD, but have regional nonsense constraint?"
   ]
  },
  {
   "cell_type": "code",
   "execution_count": 8,
   "metadata": {},
   "outputs": [
    {
     "data": {
      "text/plain": [
       "605"
      ]
     },
     "execution_count": 8,
     "metadata": {},
     "output_type": "execute_result"
    }
   ],
   "source": [
    "m8 = df[\"region\"] != \"transcript\"\n",
    "\n",
    "new_regional = df[m8 & m2 & m3 & m5].copy() # Drops NaN values in pli & loeuf columns\n",
    "new_regional.enst.nunique()"
   ]
  },
  {
   "cell_type": "code",
   "execution_count": 9,
   "metadata": {},
   "outputs": [
    {
     "data": {
      "text/plain": [
       "nmd_target        307\n",
       "distal_nmd        244\n",
       "long_exon          58\n",
       "start_proximal     24\n",
       "Name: region, dtype: int64"
      ]
     },
     "execution_count": 9,
     "metadata": {},
     "output_type": "execute_result"
    }
   ],
   "source": [
    "new_regional.region.value_counts()"
   ]
  },
  {
   "cell_type": "code",
   "execution_count": 10,
   "metadata": {},
   "outputs": [
    {
     "data": {
      "text/plain": [
       "[]                               612\n",
       "[\"outlier_mis\",\"outlier_syn\"]     11\n",
       "[\"outlier_syn\"]                   10\n",
       "Name: gnomad_flags, dtype: int64"
      ]
     },
     "execution_count": 10,
     "metadata": {},
     "output_type": "execute_result"
    }
   ],
   "source": [
    "new_regional.gnomad_flags.value_counts()"
   ]
  },
  {
   "cell_type": "markdown",
   "metadata": {},
   "source": [
    "21 are flagged as outliers for missense / synonymous variants in gnomAD."
   ]
  },
  {
   "cell_type": "markdown",
   "metadata": {},
   "source": [
    "## Number of genes with regional nonsense constraint"
   ]
  },
  {
   "cell_type": "markdown",
   "metadata": {},
   "source": [
    "How many transcripts have a regional nonsense constraint annotation?"
   ]
  },
  {
   "cell_type": "code",
   "execution_count": 11,
   "metadata": {},
   "outputs": [
    {
     "data": {
      "text/plain": [
       "1967"
      ]
     },
     "execution_count": 11,
     "metadata": {},
     "output_type": "execute_result"
    }
   ],
   "source": [
    "m11 = df.constraint == \"constrained\"\n",
    "m12 = df.region.isin([\"distal\", \"nmd_target\", \"long_exon\", \"start_proximal\"])\n",
    "\n",
    "df[m11 & m12].enst.nunique()"
   ]
  },
  {
   "cell_type": "markdown",
   "metadata": {},
   "source": [
    "How many transcripts are *specifically* constrained in NMD escape regions? (I.e. not constrained in NMD target regions.)"
   ]
  },
  {
   "cell_type": "code",
   "execution_count": 12,
   "metadata": {},
   "outputs": [
    {
     "data": {
      "text/plain": [
       "320"
      ]
     },
     "execution_count": 12,
     "metadata": {},
     "output_type": "execute_result"
    }
   ],
   "source": [
    "constrained_nmd_target = df[(df.region == \"nmd_target\") & m11].enst\n",
    "# constrained_transcripts = df[(df.region == \"transcript\") & m11].enst\n",
    "\n",
    "m13 = df.enst.isin(constrained_nmd_target)\n",
    "# m14 = df.enst.isin(constrained_transcripts)\n",
    "\n",
    "df[m11 & m12 & ~m13].enst.nunique()"
   ]
  },
  {
   "cell_type": "code",
   "execution_count": null,
   "metadata": {},
   "outputs": [],
   "source": []
  }
 ],
 "metadata": {
  "kernelspec": {
   "display_name": "ukb",
   "language": "python",
   "name": "python3"
  },
  "language_info": {
   "codemirror_mode": {
    "name": "ipython",
    "version": 3
   },
   "file_extension": ".py",
   "mimetype": "text/x-python",
   "name": "python",
   "nbconvert_exporter": "python",
   "pygments_lexer": "ipython3",
   "version": "3.8.17"
  }
 },
 "nbformat": 4,
 "nbformat_minor": 2
}
