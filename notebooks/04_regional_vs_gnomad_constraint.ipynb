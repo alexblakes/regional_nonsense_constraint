{
 "cells": [
  {
   "cell_type": "markdown",
   "metadata": {},
   "source": [
    "# Regional constraint vs gnomAD constraint\n",
    "Exploratory data analysis comparing regional constraint annotations with gnomAD constraint data."
   ]
  },
  {
   "cell_type": "code",
   "execution_count": 1,
   "metadata": {},
   "outputs": [],
   "source": [
    "# Imports\n",
    "import pandas as pd\n",
    "from src import constants as C"
   ]
  },
  {
   "cell_type": "code",
   "execution_count": 2,
   "metadata": {},
   "outputs": [],
   "source": [
    "# Load the constraint data\n",
    "df = pd.read_csv(C.REGIONAL_NONSENSE_CONSTRAINT, sep=\"\\t\")"
   ]
  },
  {
   "cell_type": "markdown",
   "metadata": {},
   "source": [
    "## Comparing transcript-level constraint here and in gnomAD."
   ]
  },
  {
   "cell_type": "code",
   "execution_count": 3,
   "metadata": {},
   "outputs": [],
   "source": [
    "# Masks\n",
    "m1 = df[\"region\"] == \"transcript\"\n",
    "m2 = df[\"constraint\"] == \"constrained\"\n",
    "m3 = df[\"pli\"] < 0.9\n",
    "m4 = df[\"pli\"].isna()\n",
    "m5 = df[\"loeuf\"] > 0.6\n",
    "m6 = df[\"loeuf\"].isna()"
   ]
  },
  {
   "cell_type": "markdown",
   "metadata": {},
   "source": [
    " How many transcripts are constrained?"
   ]
  },
  {
   "cell_type": "code",
   "execution_count": 4,
   "metadata": {},
   "outputs": [
    {
     "name": "stdout",
     "output_type": "stream",
     "text": [
      "Constrained transcripts: 1852\n"
     ]
    }
   ],
   "source": [
    "_ = df[m1 & m2]\n",
    "print(f\"Constrained transcripts: {len(df[m1 & m2])}\")"
   ]
  },
  {
   "cell_type": "markdown",
   "metadata": {},
   "source": [
    "How many transcripts are not constrained in gnomAD, but show transcript-level constraint in our analysis?"
   ]
  },
  {
   "cell_type": "code",
   "execution_count": 5,
   "metadata": {},
   "outputs": [
    {
     "name": "stdout",
     "output_type": "stream",
     "text": [
      "Newly constrained transcripts: 347\n"
     ]
    }
   ],
   "source": [
    "new = df[m1 & m2 & (m3 | m4) & (m5 | m6)].copy()\n",
    "print(f\"Newly constrained transcripts: {len(new)}\")"
   ]
  },
  {
   "cell_type": "markdown",
   "metadata": {},
   "source": [
    "Why might these transcripts be constrained in our analysis, but not in gnomAD?\n",
    "\n",
    "- **Splicing variants** pLI and LOEUF are calculated using pLoF SNVs. These include both nonsense and canonical splice site SNVs. Our metric is calculated only for nonsense variants. Splicing variants are perhaps less likely to cause true LoF than nonsense variants. E.g. ENST00000005260.\n",
    "- **LOEUF may be more conservative** The error margin around the LOEUF score makes it a more conservative measure. E.g. ENST00000693108 has LOEUF 0.61, but O/E (in gnomAD) is 0.38, and O/E (here) is 0.31.\n",
    "- **Missing in gnomAD** e.g. ENST00000683779. No constraint statistics are available for this transcript in gnomAD, and the reasons for this have not been flagged. It appears to have quite poor coverage.\n",
    "- **Flagged in gnomAD**  Constraint scores have not been calculated in gnomAD because the transcript has been flagged. e.g. ENST00000248071. This is an interesting example. The transcript is marked with the \"outlier_syn\" flag in gnomAD. But in our analysis the transcript-level synonymous Z score is 1.98. This difference may be due to different coverage cutoffs. The gnomAD constraint work is done on sites with median coverage >30. Ours is on sites with median coverage >20. Furthermore, we only use a synonymous Z score cutoff, and then only for lower-than-expected synonymous values (Z < -1) \n",
    "- **Other** There may be other important factors I have not considered. Those mentioned above are apparent from a skim of the data."
   ]
  },
  {
   "cell_type": "markdown",
   "metadata": {},
   "source": [
    "### The \"no_exp_lof\" flag\n",
    "This is a common flag in the gnomAD constraint data, flagging transcripts in which no pLoF variants are expected.\n",
    "\n",
    "Do we see any constrained transcripts with this flag?"
   ]
  },
  {
   "cell_type": "code",
   "execution_count": 6,
   "metadata": {},
   "outputs": [
    {
     "data": {
      "text/html": [
       "<div>\n",
       "<style scoped>\n",
       "    .dataframe tbody tr th:only-of-type {\n",
       "        vertical-align: middle;\n",
       "    }\n",
       "\n",
       "    .dataframe tbody tr th {\n",
       "        vertical-align: top;\n",
       "    }\n",
       "\n",
       "    .dataframe thead th {\n",
       "        text-align: right;\n",
       "    }\n",
       "</style>\n",
       "<table border=\"1\" class=\"dataframe\">\n",
       "  <thead>\n",
       "    <tr style=\"text-align: right;\">\n",
       "      <th></th>\n",
       "      <th>enst</th>\n",
       "      <th>region</th>\n",
       "      <th>csq</th>\n",
       "      <th>n_pos</th>\n",
       "      <th>n_obs</th>\n",
       "      <th>n_exp</th>\n",
       "      <th>oe</th>\n",
       "      <th>prop_obs</th>\n",
       "      <th>prop_exp</th>\n",
       "      <th>mu</th>\n",
       "      <th>chi2</th>\n",
       "      <th>z</th>\n",
       "      <th>p</th>\n",
       "      <th>fdr_p</th>\n",
       "      <th>pli</th>\n",
       "      <th>loeuf</th>\n",
       "      <th>gnomad_flags</th>\n",
       "      <th>syn_z</th>\n",
       "      <th>constraint</th>\n",
       "    </tr>\n",
       "  </thead>\n",
       "  <tbody>\n",
       "    <tr>\n",
       "      <th>86891</th>\n",
       "      <td>ENST00000377741</td>\n",
       "      <td>transcript</td>\n",
       "      <td>stop_gained</td>\n",
       "      <td>66.0</td>\n",
       "      <td>5.0</td>\n",
       "      <td>15.887</td>\n",
       "      <td>0.314723</td>\n",
       "      <td>0.075758</td>\n",
       "      <td>0.240712</td>\n",
       "      <td>3.879214e-07</td>\n",
       "      <td>9.825804</td>\n",
       "      <td>-3.134614</td>\n",
       "      <td>1.720805e-03</td>\n",
       "      <td>4.624145e-03</td>\n",
       "      <td>NaN</td>\n",
       "      <td>NaN</td>\n",
       "      <td>[\"no_exp_lof\"]</td>\n",
       "      <td>-0.533593</td>\n",
       "      <td>constrained</td>\n",
       "    </tr>\n",
       "    <tr>\n",
       "      <th>93210</th>\n",
       "      <td>ENST00000650528</td>\n",
       "      <td>transcript</td>\n",
       "      <td>stop_gained</td>\n",
       "      <td>356.0</td>\n",
       "      <td>21.0</td>\n",
       "      <td>89.020</td>\n",
       "      <td>0.235902</td>\n",
       "      <td>0.058989</td>\n",
       "      <td>0.250056</td>\n",
       "      <td>1.969831e-06</td>\n",
       "      <td>69.303782</td>\n",
       "      <td>-8.324889</td>\n",
       "      <td>8.440758e-17</td>\n",
       "      <td>2.351972e-15</td>\n",
       "      <td>NaN</td>\n",
       "      <td>NaN</td>\n",
       "      <td>[\"no_exp_lof\"]</td>\n",
       "      <td>1.935121</td>\n",
       "      <td>constrained</td>\n",
       "    </tr>\n",
       "  </tbody>\n",
       "</table>\n",
       "</div>"
      ],
      "text/plain": [
       "                  enst      region          csq  n_pos  n_obs   n_exp  \\\n",
       "86891  ENST00000377741  transcript  stop_gained   66.0    5.0  15.887   \n",
       "93210  ENST00000650528  transcript  stop_gained  356.0   21.0  89.020   \n",
       "\n",
       "             oe  prop_obs  prop_exp            mu       chi2         z  \\\n",
       "86891  0.314723  0.075758  0.240712  3.879214e-07   9.825804 -3.134614   \n",
       "93210  0.235902  0.058989  0.250056  1.969831e-06  69.303782 -8.324889   \n",
       "\n",
       "                  p         fdr_p  pli  loeuf    gnomad_flags     syn_z  \\\n",
       "86891  1.720805e-03  4.624145e-03  NaN    NaN  [\"no_exp_lof\"] -0.533593   \n",
       "93210  8.440758e-17  2.351972e-15  NaN    NaN  [\"no_exp_lof\"]  1.935121   \n",
       "\n",
       "        constraint  \n",
       "86891  constrained  \n",
       "93210  constrained  "
      ]
     },
     "execution_count": 6,
     "metadata": {},
     "output_type": "execute_result"
    }
   ],
   "source": [
    "m7 = new.gnomad_flags.fillna(\"\").str.contains(\"no_exp_lof\")\n",
    "\n",
    "new[m7]"
   ]
  },
  {
   "cell_type": "markdown",
   "metadata": {},
   "source": [
    "**ENST00000377741** has a single coding exon, plus a 5' UTR exon. All pLoFs in gnomAD are flagged as low-confidence due to \"END_TRUNC\" - end truncation. In our analysis it is constrained for nonsense variants.\n",
    "\n",
    "**ENST00000650528** is a single exon gene. All pLoFs in gnomAD are flagged as \"END_TRUNC\", and also by LOFTEE as a single exon gene. Interestingly, it is a known morbid gene (MAGEL2), in which heterozygous pLoF variants cause an AD developmental disorder called Schaaf-Yang syndrome (MIM 615547)."
   ]
  },
  {
   "cell_type": "markdown",
   "metadata": {},
   "source": [
    "#### Noncoding transcripts\n",
    "\n",
    "Earlier in our analysis, I had mistakenly included some non-coding transcripts in our transcript curation. \n",
    "\n",
    "I had previously filtered for transcripts in which the \"gene_type\" is \"protein_coding\". However, a \"protein_coding\" gene_type does not equate to a protein coding canonical transcript. Many genes are potentially protein coding, but their canonical transcripts are subject to NMD and lack a protein-coding tag.\n",
    "\n",
    "E.g. ENST00000683988 is a non-coding transcripts which appeared to be constrained. It is no longer included in our transcript set. It is the canonical transcript for a non-coding gene (NMD) which overlaps KMT2D, which explains the apparent paucity of LoF variants. This scenario appears to be the most common reason for the \"no_exp_lof\" flag.\n",
    "\n",
    "Accordingly, I have now re-run my analysis pipeline using transcripts in which the \"transcript_type\" is protein coding."
   ]
  },
  {
   "cell_type": "markdown",
   "metadata": {},
   "source": [
    "### gnomAD flags in newly constrained transcripts"
   ]
  },
  {
   "cell_type": "code",
   "execution_count": 7,
   "metadata": {},
   "outputs": [
    {
     "name": "stdout",
     "output_type": "stream",
     "text": [
      "gnomAD flag value counts:\n",
      "\n",
      "[]                               327\n",
      "[\"outlier_syn\"]                    7\n",
      "NaN                                5\n",
      "[\"outlier_mis\",\"outlier_syn\"]      5\n",
      "[\"no_exp_lof\"]                     2\n",
      "[\"outlier_mis\"]                    1\n",
      "Name: gnomad_flags, dtype: int64\n"
     ]
    }
   ],
   "source": [
    "print(f\"gnomAD flag value counts:\\n\")\n",
    "print(f\"{new.gnomad_flags.value_counts(dropna=False)}\")"
   ]
  },
  {
   "cell_type": "code",
   "execution_count": 8,
   "metadata": {},
   "outputs": [
    {
     "name": "stdout",
     "output_type": "stream",
     "text": [
      "Newly constrained transcripts with no gnomAD flags: 327\n"
     ]
    }
   ],
   "source": [
    "print(\n",
    "    f\"Newly constrained transcripts with no gnomAD flags: \"\n",
    "    f\"{(new.gnomad_flags == '[]').sum()}\"\n",
    ")"
   ]
  },
  {
   "cell_type": "markdown",
   "metadata": {},
   "source": [
    "## Regional nonsense constraint versus gnomAD constraint.\n",
    "How many genes are not constrained in gnomAD, but have regional nonsense constraint?"
   ]
  },
  {
   "cell_type": "code",
   "execution_count": 9,
   "metadata": {},
   "outputs": [
    {
     "name": "stdout",
     "output_type": "stream",
     "text": [
      "Unique transcripts with new regional constraint: 625\n"
     ]
    }
   ],
   "source": [
    "# Masks\n",
    "m1 = df[\"region\"] == \"transcript\"\n",
    "m2 = df[\"constraint\"] == \"constrained\"\n",
    "m3 = df[\"pli\"] < 0.9\n",
    "m4 = df[\"pli\"].isna()\n",
    "m5 = df[\"loeuf\"] > 0.6\n",
    "m6 = df[\"loeuf\"].isna()\n",
    "\n",
    "new_regional = df[~m1 & m2 & (m3 | m4) & (m5 | m6)].copy()\n",
    "\n",
    "print(f\"Unique transcripts with new regional constraint: {new_regional.enst.nunique()}\")"
   ]
  },
  {
   "cell_type": "code",
   "execution_count": 10,
   "metadata": {},
   "outputs": [
    {
     "name": "stdout",
     "output_type": "stream",
     "text": [
      "New constrained regions value counts:\n",
      "\n",
      "nmd_target        310\n",
      "distal_nmd        253\n",
      "long_exon          60\n",
      "start_proximal     32\n",
      "Name: region, dtype: int64\n"
     ]
    }
   ],
   "source": [
    "print(f\"New constrained regions value counts:\\n\\n{new_regional.region.value_counts()}\")"
   ]
  },
  {
   "cell_type": "code",
   "execution_count": 11,
   "metadata": {},
   "outputs": [
    {
     "name": "stdout",
     "output_type": "stream",
     "text": [
      "Value counts of gnomAD flags in transcripts with new regional constraint:\n",
      "[]                               587\n",
      "NaN                               17\n",
      "[\"outlier_syn\"]                    9\n",
      "[\"outlier_mis\",\"outlier_syn\"]      9\n",
      "[\"no_exp_lof\"]                     3\n",
      "Name: gnomad_flags, dtype: int64\n"
     ]
    }
   ],
   "source": [
    "print(\n",
    "    f\"Value counts of gnomAD flags in transcripts with new regional constraint:\\n\"\n",
    "    f\"{new_regional.drop_duplicates(subset='enst').gnomad_flags.value_counts(dropna=False)}\"\n",
    ")"
   ]
  },
  {
   "cell_type": "markdown",
   "metadata": {},
   "source": [
    "## Specific regional nonsense constraint"
   ]
  },
  {
   "cell_type": "markdown",
   "metadata": {},
   "source": [
    "How many transcripts have a regional nonsense constraint annotation?"
   ]
  },
  {
   "cell_type": "markdown",
   "metadata": {},
   "source": [
    "How many transcripts are *specifically* constrained in NMD escape regions? (I.e. not constrained in NMD target regions.)"
   ]
  },
  {
   "cell_type": "code",
   "execution_count": 12,
   "metadata": {},
   "outputs": [
    {
     "name": "stdout",
     "output_type": "stream",
     "text": [
      "Transcripts with a constrained region: 1947\n",
      "Transcripts constrained in NMD target regions: 1629\n",
      "Transcripts constrained in NMD escape regions: 548\n",
      "Transcripts constrained in NMD target regions, but not NMD escape regions: 1399\n",
      "Transcripts constrained in NMD-escape regions, but not NMD target regions: 318\n"
     ]
    }
   ],
   "source": [
    "m1 = df.constraint == \"constrained\"\n",
    "m2 = df.region.isin([\"distal\", \"nmd_target\", \"long_exon\", \"start_proximal\"])\n",
    "m3 = df.region == \"nmd_target\"\n",
    "m4 = df.region.isin([\"distal\", \"long_exon\", \"start_proximal\"])\n",
    "\n",
    "constrained_nmd_target = df[m1 & m3].enst\n",
    "constrained_nmd_escape = df[m1 & m4].enst\n",
    "\n",
    "m5 = df.enst.isin(constrained_nmd_target)\n",
    "m6 = df.enst.isin(constrained_nmd_escape)\n",
    "\n",
    "print(f\"Transcripts with a constrained region: {df[m1 & m2].enst.nunique()}\")\n",
    "print(\n",
    "    f\"Transcripts constrained in NMD target regions: \"\n",
    "    f\"{constrained_nmd_target.nunique()}\"\n",
    ")\n",
    "print(\n",
    "    f\"Transcripts constrained in NMD escape regions: \"\n",
    "    f\"{constrained_nmd_escape.nunique()}\"\n",
    ")\n",
    "print(\n",
    "    f\"Transcripts constrained in NMD target regions, but not NMD escape regions: \"\n",
    "    f\"{df[m1 & m3 & ~m6].enst.nunique()}\"\n",
    ")\n",
    "print(\n",
    "    f\"Transcripts constrained in NMD-escape regions, but not NMD target regions: \"\n",
    "    f\"{df[m1 & m4 & ~m5].enst.nunique()}\"\n",
    ")"
   ]
  },
  {
   "cell_type": "markdown",
   "metadata": {},
   "source": [
    "How many transcripts are constrained in >1 region?"
   ]
  },
  {
   "cell_type": "code",
   "execution_count": 25,
   "metadata": {},
   "outputs": [
    {
     "name": "stdout",
     "output_type": "stream",
     "text": [
      "Transcripts by number of constrained regions:\n",
      "1    1715\n",
      "2     228\n",
      "3       4\n",
      "Name: enst, dtype: int64\n"
     ]
    }
   ],
   "source": [
    "occurrence_counts = df[m1 & m2][\"enst\"].value_counts().value_counts()\n",
    "print(f\"Transcripts by number of constrained regions:\\n{occurrence_counts}\")"
   ]
  },
  {
   "cell_type": "markdown",
   "metadata": {},
   "source": [
    "How many transcripts with regional nonsense constraint are constrained at the transcript level?"
   ]
  },
  {
   "cell_type": "code",
   "execution_count": 30,
   "metadata": {},
   "outputs": [
    {
     "name": "stdout",
     "output_type": "stream",
     "text": [
      "Transcripts with regional constraint: 1947\n",
      "Transcripts with regional and transcript-level constraint: 1206\n"
     ]
    }
   ],
   "source": [
    "_region = df[m1 & m2].enst.drop_duplicates()\n",
    "_transcript = df[m1 & (df.region == \"transcript\")].enst.drop_duplicates()\n",
    "_rt = _region[_region.isin(_transcript)]\n",
    "\n",
    "print(f\"Transcripts with regional constraint: {len(_region)}\")\n",
    "print(f\"Transcripts with regional and transcript-level constraint: {len(_rt)}\")"
   ]
  }
 ],
 "metadata": {
  "kernelspec": {
   "display_name": "ukb",
   "language": "python",
   "name": "python3"
  },
  "language_info": {
   "codemirror_mode": {
    "name": "ipython",
    "version": 3
   },
   "file_extension": ".py",
   "mimetype": "text/x-python",
   "name": "python",
   "nbconvert_exporter": "python",
   "pygments_lexer": "ipython3",
   "version": "3.8.17"
  }
 },
 "nbformat": 4,
 "nbformat_minor": 2
}
