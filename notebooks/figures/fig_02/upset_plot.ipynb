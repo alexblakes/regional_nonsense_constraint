{
 "cells": [
  {
   "cell_type": "markdown",
   "id": "92cb07d8-3c82-4d27-b0a6-74921fba714d",
   "metadata": {},
   "source": [
    "# Constraint upset plot\n",
    "Plot the intersection of constrained transcripts and regions"
   ]
  },
  {
   "cell_type": "code",
   "execution_count": 4,
   "id": "9945c54c",
   "metadata": {},
   "outputs": [],
   "source": [
    "%load_ext autoreload\n",
    "%autoreload 2"
   ]
  },
  {
   "cell_type": "code",
   "execution_count": 5,
   "id": "c0e3c186-cc8e-45c3-b0ae-b1fc7345ab5f",
   "metadata": {
    "tags": []
   },
   "outputs": [],
   "source": [
    "# Imports\n",
    "import matplotlib.pyplot as plt\n",
    "import pandas as pd\n",
    "import upsetplot\n",
    "\n",
    "from src import constants as C\n",
    "from src import visualisation as vis"
   ]
  },
  {
   "cell_type": "code",
   "execution_count": 7,
   "id": "9d53bf32",
   "metadata": {},
   "outputs": [],
   "source": [
    "# Style and colors\n",
    "plt.style.use(C.STYLE_DEFAULT)\n",
    "palette = vis.color_palette(\"regions\")"
   ]
  },
  {
   "cell_type": "code",
   "execution_count": 8,
   "id": "e86f0e57",
   "metadata": {},
   "outputs": [],
   "source": [
    "# Read data\n",
    "df = pd.read_csv(C.STATS_UPSET_CONSTRAINT, sep=\"\\t\", index_col=\"enst\")"
   ]
  },
  {
   "cell_type": "code",
   "execution_count": 10,
   "id": "5a82cb98-ed97-4c94-9fd7-385614bafdea",
   "metadata": {
    "tags": []
   },
   "outputs": [],
   "source": [
    "# Reformat prior to plotting\n",
    "upset_data = upsetplot.from_indicators(C.REGION_LABELS, data=df)"
   ]
  },
  {
   "cell_type": "code",
   "execution_count": 23,
   "id": "65a5dcce-d7be-42ee-b881-796b2650a72e",
   "metadata": {
    "tags": []
   },
   "outputs": [
    {
     "ename": "AttributeError",
     "evalue": "'UpSet' object has no attribute 'style_categories'",
     "output_type": "error",
     "traceback": [
      "\u001b[0;31m---------------------------------------------------------------------------\u001b[0m",
      "\u001b[0;31mAttributeError\u001b[0m                            Traceback (most recent call last)",
      "Cell \u001b[0;32mIn[23], line 13\u001b[0m\n\u001b[1;32m      1\u001b[0m \u001b[38;5;66;03m# Visualise the plot\u001b[39;00m\n\u001b[1;32m      2\u001b[0m u \u001b[38;5;241m=\u001b[39m upsetplot\u001b[38;5;241m.\u001b[39mUpSet(\n\u001b[1;32m      3\u001b[0m     upset_data,\n\u001b[1;32m      4\u001b[0m     sort_categories_by\u001b[38;5;241m=\u001b[39m\u001b[38;5;124m\"\u001b[39m\u001b[38;5;124m-input\u001b[39m\u001b[38;5;124m\"\u001b[39m,\n\u001b[0;32m   (...)\u001b[0m\n\u001b[1;32m     10\u001b[0m     facecolor\u001b[38;5;241m=\u001b[39m\u001b[38;5;124m\"\u001b[39m\u001b[38;5;124mBlack\u001b[39m\u001b[38;5;124m\"\u001b[39m,\n\u001b[1;32m     11\u001b[0m )\n\u001b[0;32m---> 13\u001b[0m \u001b[43mu\u001b[49m\u001b[38;5;241;43m.\u001b[39;49m\u001b[43mstyle_categories\u001b[49m(\u001b[38;5;124m\"\u001b[39m\u001b[38;5;124mWhole transcript\u001b[39m\u001b[38;5;124m\"\u001b[39m, shading_facecolor\u001b[38;5;241m=\u001b[39m\u001b[38;5;124m\"\u001b[39m\u001b[38;5;124mBlue\u001b[39m\u001b[38;5;124m\"\u001b[39m)\n",
      "\u001b[0;31mAttributeError\u001b[0m: 'UpSet' object has no attribute 'style_categories'"
     ]
    }
   ],
   "source": [
    "# Visualise the plot\n",
    "u = upsetplot.UpSet(\n",
    "    upset_data,\n",
    "    sort_categories_by=\"-input\",\n",
    "    max_subset_size=2500,\n",
    "    show_counts=True,\n",
    "    element_size=20,\n",
    "    intersection_plot_elements=3,\n",
    "    totals_plot_elements=3,\n",
    "    facecolor=\"Black\",\n",
    ")\n",
    "\n",
    "u.style_categories(\"Whole transcript\", shading_facecolor=\"Blue\")\n",
    "\n"
   ]
  },
  {
   "cell_type": "code",
   "execution_count": null,
   "id": "9d074217",
   "metadata": {},
   "outputs": [],
   "source": [
    "# # Customise category colors\n",
    "# for i, label in enumerate(C.REGION_LABELS):\n",
    "#     u.style_categories(label, shading_facecolor=palette[i])\n",
    "\n",
    "# Customise the \"totals\" Axes\n",
    "u[\"totals\"].grid(False)\n",
    "u[\"totals\"].set_xticks([])\n",
    "u[\"totals\"].spines[\"bottom\"].set_visible(False)\n",
    "u[\"totals\"].set_title(\"Total constrained\", loc=\"right\", ha=\"right\")\n",
    "\n",
    "# Customise the \"intersection\" Axes\n",
    "u[\"intersections\"].set_ylabel(\"Intersecting\\nconstrained\", va=\"bottom\", loc=\"bottom\")\n",
    "u[\"intersections\"].grid(False)\n",
    "u[\"intersections\"].set_yticks([])\n",
    "u[\"intersections\"].spines[\"left\"].set_visible(False)\n",
    "\n",
    "\n",
    "# plt.savefig(\"../plots/constraint_in_regions_upset_plot.svg\")\n",
    "# plt.savefig(\"../plots/constraint_in_regions_upset_plot.png\", dpi=1000) # PNG also\n",
    "\n",
    "plt.show()"
   ]
  },
  {
   "cell_type": "code",
   "execution_count": null,
   "id": "0a1bded8",
   "metadata": {},
   "outputs": [],
   "source": []
  }
 ],
 "metadata": {
  "kernelspec": {
   "display_name": "ukb",
   "language": "python",
   "name": "python3"
  },
  "language_info": {
   "codemirror_mode": {
    "name": "ipython",
    "version": 3
   },
   "file_extension": ".py",
   "mimetype": "text/x-python",
   "name": "python",
   "nbconvert_exporter": "python",
   "pygments_lexer": "ipython3",
   "version": "3.8.17"
  }
 },
 "nbformat": 4,
 "nbformat_minor": 5
}
