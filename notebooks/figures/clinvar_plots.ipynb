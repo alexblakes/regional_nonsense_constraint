{
 "cells": [
  {
   "cell_type": "markdown",
   "id": "a47ad381-faf9-49ac-b0d4-12f06f105be2",
   "metadata": {},
   "source": [
    "# Clinvar plots"
   ]
  },
  {
   "cell_type": "markdown",
   "id": "6320e7bd-c375-417a-8246-bb89206b0a35",
   "metadata": {},
   "source": [
    "## Preliminaries"
   ]
  },
  {
   "cell_type": "markdown",
   "id": "f2b0c0d2-ba5f-4e45-bc2a-d65183f140ea",
   "metadata": {},
   "source": [
    "### Import modules"
   ]
  },
  {
   "cell_type": "code",
   "execution_count": 1,
   "id": "3d5049b4-530c-4fa1-9fc9-2a23e7e4c583",
   "metadata": {
    "tags": []
   },
   "outputs": [
    {
     "name": "stdout",
     "output_type": "stream",
     "text": [
      "Global variables:\n",
      " \t- C: color palette\n",
      " \t- cm: cm to inch conversion factor\n"
     ]
    }
   ],
   "source": [
    "import matplotlib.pyplot as plt\n",
    "import numpy as np\n",
    "import pandas as pd\n",
    "import seaborn as sns\n",
    "\n",
    "%run _color_tools.ipynb"
   ]
  },
  {
   "cell_type": "markdown",
   "id": "153c10f1-59f4-4f05-90f3-e06b5780c766",
   "metadata": {},
   "source": [
    "### Load data"
   ]
  },
  {
   "cell_type": "code",
   "execution_count": 2,
   "id": "e18825a4-ee30-45b2-bd1f-7c4013249fd8",
   "metadata": {
    "tags": []
   },
   "outputs": [],
   "source": [
    "df = pd.read_csv(\"../outputs/clinvar_variants_lof_with_nmd_annotation.tsv\", sep=\"\\t\")"
   ]
  },
  {
   "cell_type": "markdown",
   "id": "5fdcfb2c-e41e-45aa-9f7e-854d52e7aadf",
   "metadata": {},
   "source": [
    "## Plot the proportion of VUS by NMD annotation"
   ]
  },
  {
   "cell_type": "code",
   "execution_count": 3,
   "id": "a4facf91-f430-4c79-93d2-2838291d8bd3",
   "metadata": {
    "tags": []
   },
   "outputs": [],
   "source": [
    "# Data\n",
    "region_order = [\"nmd\", \"start_proximal\", \"long_exon\", \"distal\"]\n",
    "region_labels = [\"NMD target\", \"Start-proximal\", \"Long exon\", \"Distal\"]\n",
    "\n",
    "## Data for Axes 1\n",
    "data = df.groupby(\"variant_region\")[\"acmg\"].value_counts(normalize=True)\n",
    "\n",
    "p = data.xs(\"P/LP\", level=\"acmg\")[region_order]\n",
    "v = data.xs(\"VUS\", level=\"acmg\")[region_order]\n",
    "b = data.xs(\"B/LB\", level=\"acmg\")[region_order]\n",
    "\n",
    "## Data for Axes 2\n",
    "exp = [0.613, 0.088, 0.087, 0.232]  # Genomic footprint of NMD regions\n",
    "obs = df[\"variant_region\"].value_counts(normalize=True)[region_order]"
   ]
  },
  {
   "cell_type": "code",
   "execution_count": 4,
   "id": "003861ca-757f-49a0-a10b-ac0ffb64529a",
   "metadata": {
    "tags": []
   },
   "outputs": [
    {
     "data": {
      "image/png": "[encoded data removed]",
      "text/plain": [
       "<Figure size 472.441x236.22 with 2 Axes>"
      ]
     },
     "metadata": {},
     "output_type": "display_data"
    }
   ],
   "source": [
    "# Figure and colour scheme\n",
    "fig, (ax1, ax2) = plt.subplots(\n",
    "    1,\n",
    "    2,\n",
    "    figsize=(12 * cm, 6 * cm),\n",
    "    layout=\"constrained\",\n",
    ")\n",
    "\n",
    "# Axes 1\n",
    "ticks = np.arange(len(p))\n",
    "width = 0.25\n",
    "\n",
    "ax1.bar(x=ticks, height=p, width=width, color=C[3], label=\"P/LP\")\n",
    "ax1.bar(x=ticks + width, height=v, width=width, color=C[-2], label=\"VUS\")\n",
    "ax1.bar(x=(ticks + 2 * width), height=b, width=width, color=C[0], label=\"B/LB\")\n",
    "\n",
    "ax1.set_xlabel(None)\n",
    "ax1.set_ylabel(\"Proportion of\\ntruncating variants\")\n",
    "ax1.set_xticks(\n",
    "    ticks=(ticks + width),\n",
    "    labels=[\"NMD target\", \"Start-proximal\", \"Long exon\", \"Distal\"],\n",
    "    rotation=45,\n",
    "    ha=\"right\",\n",
    "    rotation_mode=\"anchor\",\n",
    ")\n",
    "ax1.set_yticks(ticks=[0, 0.25, 0.5, 0.75, 1])\n",
    "ax1.set_ylim(0, 1)\n",
    "ax1.legend(title=None, loc=\"upper right\", bbox_to_anchor=(1, 1))\n",
    "\n",
    "# Axes 2\n",
    "ticks = np.arange(len(exp))\n",
    "width = 0.3\n",
    "\n",
    "ax2.bar(x=ticks, height=exp, width=width, color=C[-2], label=\"Genomic footprint\")\n",
    "ax2.bar(\n",
    "    x=ticks + width, height=obs, width=width, color=C[4], label=\"Variants in ClinVar\"\n",
    ")\n",
    "\n",
    "ax2.set_xticks(\n",
    "    ticks=(ticks + width / 2),\n",
    "    labels=region_labels,\n",
    "    rotation=45,\n",
    "    ha=\"right\",\n",
    "    rotation_mode=\"anchor\",\n",
    ")\n",
    "ax2.set_yticks(ticks=[0, 0.25, 0.5, 0.75, 1])\n",
    "ax2.set_ylabel(\"Relative proportion\")\n",
    "\n",
    "ax2.legend(loc=\"upper right\", bbox_to_anchor=(1.3, 1.1))\n",
    "\n",
    "plt.savefig(\"../plots/clinvar_variants_by_region.svg\", format=\"svg\")"
   ]
  },
  {
   "cell_type": "markdown",
   "id": "48f6096a-6770-466c-bcce-f1a7ca2e3f5f",
   "metadata": {},
   "source": [
    "## Reformat the data to long-form"
   ]
  },
  {
   "cell_type": "code",
   "execution_count": 5,
   "id": "eb05210e-bab8-413c-b331-42b5b79e626b",
   "metadata": {
    "tags": []
   },
   "outputs": [],
   "source": [
    "dfa = df.melt(\n",
    "    id_vars=[\"enst\", \"variant_region\", \"acmg\"],\n",
    "    value_vars=[\"gnomad\", \"nmd\", \"distal\", \"long_exon\"],\n",
    "    var_name=\"constraint_region\",\n",
    "    value_name=\"constraint\",\n",
    ")"
   ]
  },
  {
   "cell_type": "markdown",
   "id": "cea4f5d7-5b82-4593-985a-0ab609b2e566",
   "metadata": {},
   "source": [
    "### Filter ClinVar variants \n",
    "Keep those which:\n",
    "- Fall in a transcript with a gnomAD constraint annotation\n",
    "- Are in a region with a constraint annotation"
   ]
  },
  {
   "cell_type": "code",
   "execution_count": 6,
   "id": "4b7e2104-295b-41ea-9b65-804c2de0dc76",
   "metadata": {},
   "outputs": [],
   "source": [
    "m1 = dfa.constraint_region == \"gnomad\"\n",
    "m2 = dfa.variant_region == dfa.constraint_region\n",
    "\n",
    "dfa = dfa[m1 | m2].dropna()"
   ]
  },
  {
   "cell_type": "markdown",
   "id": "b6090ce5-66e2-451f-ac55-66d9c2b98265",
   "metadata": {},
   "source": [
    "### What proportion of variants are pathogenic / benign / VUS? "
   ]
  },
  {
   "cell_type": "code",
   "execution_count": 7,
   "id": "b47fdbe1-da5c-4394-9c28-d81f385d2031",
   "metadata": {
    "tags": []
   },
   "outputs": [],
   "source": [
    "prop = (\n",
    "    dfa.groupby([\"constraint_region\", \"constraint\"])[\"acmg\"]\n",
    "    .value_counts(normalize=True)\n",
    "    .reset_index(name=\"Proportion\")\n",
    "    .replace(\n",
    "        {\n",
    "            \"gnomad\": \"gnomAD\",\n",
    "            \"nmd\": \"NMD-target\",\n",
    "            \"distal\": \"Distal\",\n",
    "            \"long_exon\": \"Long exon\",\n",
    "            \"tolerant\": \"Tolerant\",\n",
    "            \"constrained\": \"Constrained\",\n",
    "        }\n",
    "    )\n",
    "    .rename(columns={\"constraint\": \"Constraint\", \"acmg\": \"ACMG\"})\n",
    ")"
   ]
  },
  {
   "cell_type": "markdown",
   "id": "c89d0845-0a17-4e74-af7b-8132f933131d",
   "metadata": {},
   "source": [
    "## Plot the data"
   ]
  },
  {
   "cell_type": "code",
   "execution_count": 8,
   "id": "4ab28ad2-47db-45b8-ab9a-2f7af05be4ed",
   "metadata": {
    "tags": []
   },
   "outputs": [
    {
     "data": {
      "image/png": "[encoded data removed]",
      "text/plain": [
       "<Figure size 708.661x177.165 with 4 Axes>"
      ]
     },
     "metadata": {},
     "output_type": "display_data"
    }
   ],
   "source": [
    "# Construct a bar plot\n",
    "g = sns.catplot(\n",
    "    kind=\"bar\",\n",
    "    data=prop,\n",
    "    x=\"Constraint\",\n",
    "    order=[\"Tolerant\", \"Constrained\"],\n",
    "    hue=\"ACMG\",\n",
    "    hue_order=[\"P/LP\", \"VUS\", \"B/LB\"],\n",
    "    col=\"constraint_region\",\n",
    "    col_order=[\"gnomAD\", \"NMD-target\", \"Distal\", \"Long exon\"],\n",
    "    y=\"Proportion\",\n",
    ")\n",
    "g.fig.set_size_inches((18 * cm, 4.5 * cm))\n",
    "g.set(xlabel=\"\", ylim=(0, 1))\n",
    "g.set_titles(template=\"{col_name}\")\n",
    "\n",
    "# Save plots to output\n",
    "plt.savefig(\"../plots/clinvar_acmg_by_constraint.svg\", format=\"svg\")\n",
    "plt.savefig(\"../plots/clinvar_acmg_by_constraint.png\", format=\"png\", dpi=1000)"
   ]
  },
  {
   "cell_type": "markdown",
   "id": "79781f7e-3a59-49d2-a893-d0b50d926e57",
   "metadata": {},
   "source": [
    "## Tabulate the data"
   ]
  },
  {
   "cell_type": "code",
   "execution_count": 9,
   "id": "4f37ede6-0678-4d35-91ad-9158621bd4d1",
   "metadata": {
    "tags": []
   },
   "outputs": [
    {
     "data": {
      "text/html": [
       "<div>\n",
       "<style scoped>\n",
       "    .dataframe tbody tr th:only-of-type {\n",
       "        vertical-align: middle;\n",
       "    }\n",
       "\n",
       "    .dataframe tbody tr th {\n",
       "        vertical-align: top;\n",
       "    }\n",
       "\n",
       "    .dataframe thead tr th {\n",
       "        text-align: left;\n",
       "    }\n",
       "\n",
       "    .dataframe thead tr:last-of-type th {\n",
       "        text-align: right;\n",
       "    }\n",
       "</style>\n",
       "<table border=\"1\" class=\"dataframe\">\n",
       "  <thead>\n",
       "    <tr>\n",
       "      <th>constraint_region</th>\n",
       "      <th colspan=\"4\" halign=\"left\">distal</th>\n",
       "      <th colspan=\"4\" halign=\"left\">gnomad</th>\n",
       "      <th colspan=\"4\" halign=\"left\">long_exon</th>\n",
       "      <th colspan=\"4\" halign=\"left\">nmd</th>\n",
       "    </tr>\n",
       "    <tr>\n",
       "      <th>constraint</th>\n",
       "      <th colspan=\"2\" halign=\"left\">constrained</th>\n",
       "      <th colspan=\"2\" halign=\"left\">tolerant</th>\n",
       "      <th colspan=\"2\" halign=\"left\">constrained</th>\n",
       "      <th colspan=\"2\" halign=\"left\">tolerant</th>\n",
       "      <th colspan=\"2\" halign=\"left\">constrained</th>\n",
       "      <th colspan=\"2\" halign=\"left\">tolerant</th>\n",
       "      <th colspan=\"2\" halign=\"left\">constrained</th>\n",
       "      <th colspan=\"2\" halign=\"left\">tolerant</th>\n",
       "    </tr>\n",
       "    <tr>\n",
       "      <th></th>\n",
       "      <th>Proportion</th>\n",
       "      <th>Variant count</th>\n",
       "      <th>Proportion</th>\n",
       "      <th>Variant count</th>\n",
       "      <th>Proportion</th>\n",
       "      <th>Variant count</th>\n",
       "      <th>Proportion</th>\n",
       "      <th>Variant count</th>\n",
       "      <th>Proportion</th>\n",
       "      <th>Variant count</th>\n",
       "      <th>Proportion</th>\n",
       "      <th>Variant count</th>\n",
       "      <th>Proportion</th>\n",
       "      <th>Variant count</th>\n",
       "      <th>Proportion</th>\n",
       "      <th>Variant count</th>\n",
       "    </tr>\n",
       "    <tr>\n",
       "      <th>acmg</th>\n",
       "      <th></th>\n",
       "      <th></th>\n",
       "      <th></th>\n",
       "      <th></th>\n",
       "      <th></th>\n",
       "      <th></th>\n",
       "      <th></th>\n",
       "      <th></th>\n",
       "      <th></th>\n",
       "      <th></th>\n",
       "      <th></th>\n",
       "      <th></th>\n",
       "      <th></th>\n",
       "      <th></th>\n",
       "      <th></th>\n",
       "      <th></th>\n",
       "    </tr>\n",
       "  </thead>\n",
       "  <tbody>\n",
       "    <tr>\n",
       "      <th>B/LB</th>\n",
       "      <td>0.003291</td>\n",
       "      <td>11.0</td>\n",
       "      <td>0.026493</td>\n",
       "      <td>244.0</td>\n",
       "      <td>0.002615</td>\n",
       "      <td>85.0</td>\n",
       "      <td>0.008368</td>\n",
       "      <td>593.0</td>\n",
       "      <td>0.006452</td>\n",
       "      <td>18.0</td>\n",
       "      <td>0.004582</td>\n",
       "      <td>30.0</td>\n",
       "      <td>0.001927</td>\n",
       "      <td>52.0</td>\n",
       "      <td>0.006918</td>\n",
       "      <td>209.0</td>\n",
       "    </tr>\n",
       "    <tr>\n",
       "      <th>P/LP</th>\n",
       "      <td>0.894973</td>\n",
       "      <td>2991.0</td>\n",
       "      <td>0.594680</td>\n",
       "      <td>5477.0</td>\n",
       "      <td>0.905388</td>\n",
       "      <td>29426.0</td>\n",
       "      <td>0.864044</td>\n",
       "      <td>61227.0</td>\n",
       "      <td>0.944803</td>\n",
       "      <td>2636.0</td>\n",
       "      <td>0.933568</td>\n",
       "      <td>6113.0</td>\n",
       "      <td>0.926790</td>\n",
       "      <td>25015.0</td>\n",
       "      <td>0.891555</td>\n",
       "      <td>26933.0</td>\n",
       "    </tr>\n",
       "    <tr>\n",
       "      <th>VUS</th>\n",
       "      <td>0.101735</td>\n",
       "      <td>340.0</td>\n",
       "      <td>0.378827</td>\n",
       "      <td>3489.0</td>\n",
       "      <td>0.091997</td>\n",
       "      <td>2990.0</td>\n",
       "      <td>0.127588</td>\n",
       "      <td>9041.0</td>\n",
       "      <td>0.048746</td>\n",
       "      <td>136.0</td>\n",
       "      <td>0.061851</td>\n",
       "      <td>405.0</td>\n",
       "      <td>0.071283</td>\n",
       "      <td>1924.0</td>\n",
       "      <td>0.101526</td>\n",
       "      <td>3067.0</td>\n",
       "    </tr>\n",
       "  </tbody>\n",
       "</table>\n",
       "</div>"
      ],
      "text/plain": [
       "constraint_region      distal                                         \\\n",
       "constraint        constrained                 tolerant                 \n",
       "                   Proportion Variant count Proportion Variant count   \n",
       "acmg                                                                   \n",
       "B/LB                 0.003291          11.0   0.026493         244.0   \n",
       "P/LP                 0.894973        2991.0   0.594680        5477.0   \n",
       "VUS                  0.101735         340.0   0.378827        3489.0   \n",
       "\n",
       "constraint_region      gnomad                                         \\\n",
       "constraint        constrained                 tolerant                 \n",
       "                   Proportion Variant count Proportion Variant count   \n",
       "acmg                                                                   \n",
       "B/LB                 0.002615          85.0   0.008368         593.0   \n",
       "P/LP                 0.905388       29426.0   0.864044       61227.0   \n",
       "VUS                  0.091997        2990.0   0.127588        9041.0   \n",
       "\n",
       "constraint_region   long_exon                                         \\\n",
       "constraint        constrained                 tolerant                 \n",
       "                   Proportion Variant count Proportion Variant count   \n",
       "acmg                                                                   \n",
       "B/LB                 0.006452          18.0   0.004582          30.0   \n",
       "P/LP                 0.944803        2636.0   0.933568        6113.0   \n",
       "VUS                  0.048746         136.0   0.061851         405.0   \n",
       "\n",
       "constraint_region         nmd                                         \n",
       "constraint        constrained                 tolerant                \n",
       "                   Proportion Variant count Proportion Variant count  \n",
       "acmg                                                                  \n",
       "B/LB                 0.001927          52.0   0.006918         209.0  \n",
       "P/LP                 0.926790       25015.0   0.891555       26933.0  \n",
       "VUS                  0.071283        1924.0   0.101526        3067.0  "
      ]
     },
     "execution_count": 9,
     "metadata": {},
     "output_type": "execute_result"
    }
   ],
   "source": [
    "a = (\n",
    "    dfa.groupby([\"constraint_region\", \"constraint\", \"acmg\"])\n",
    "    .agg({\"enst\": \"count\"})\n",
    "    .rename(columns={\"enst\": \"Variant count\"})\n",
    ")\n",
    "b = (\n",
    "    dfa.groupby([\"constraint_region\", \"constraint\"])[\"acmg\"]\n",
    "    .value_counts(normalize=True)\n",
    "    .rename(\"Proportion\")\n",
    ")\n",
    "\n",
    "stats = (\n",
    "    a.merge(b, left_index=True, right_index=True)\n",
    "    .reset_index()\n",
    "    .pivot(\n",
    "        index=\"acmg\",\n",
    "        columns=[\"constraint_region\", \"constraint\"],\n",
    "        values=[\"Variant count\", \"Proportion\"],\n",
    "    )\n",
    "    .swaplevel(0, 1, axis=1)\n",
    "    .swaplevel(1, 2, axis=1)\n",
    "    .sort_index(level=0, axis=1, sort_remaining=True)\n",
    ")\n",
    "stats"
   ]
  }
 ],
 "metadata": {
  "kernelspec": {
   "display_name": "Python [conda env:ukb]",
   "language": "python",
   "name": "conda-env-ukb-py"
  },
  "language_info": {
   "codemirror_mode": {
    "name": "ipython",
    "version": 3
   },
   "file_extension": ".py",
   "mimetype": "text/x-python",
   "name": "python",
   "nbconvert_exporter": "python",
   "pygments_lexer": "ipython3",
   "version": "3.8.17"
  }
 },
 "nbformat": 4,
 "nbformat_minor": 5
}
