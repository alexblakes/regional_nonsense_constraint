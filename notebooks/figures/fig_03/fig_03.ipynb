{
 "cells": [
  {
   "cell_type": "markdown",
   "id": "112d6514-8c9d-4f92-acfc-fe1cdc81eef4",
   "metadata": {},
   "source": [
    "# Conservation plots"
   ]
  },
  {
   "cell_type": "code",
   "execution_count": 1,
   "id": "362f0d79-fb51-43f1-a210-b38d8d07f35b",
   "metadata": {
    "tags": []
   },
   "outputs": [],
   "source": [
    "%load_ext autoreload\n",
    "%autoreload 2\n",
    "\n",
    "# Imports\n",
    "import itertools\n",
    "\n",
    "import matplotlib.pyplot as plt\n",
    "import pandas as pd\n",
    "\n",
    "from src import constants as C\n",
    "from src import visualisation as vis\n",
    "from src.visualisation import phylop_plots"
   ]
  },
  {
   "cell_type": "code",
   "execution_count": 2,
   "id": "72139e98",
   "metadata": {},
   "outputs": [],
   "source": [
    "# Module constants\n",
    "_METRICS = [\"phylop\", \"alpha_mis\", \"pext\"]\n",
    "_CONSTRAINT = [\"constrained\", \"unconstrained\"]\n",
    "_X_LABELS = [\"Mean phyloP\",\"Mean AlphaMissense\",\"Mean pext\"]"
   ]
  },
  {
   "cell_type": "code",
   "execution_count": 3,
   "metadata": {},
   "outputs": [],
   "source": [
    "# Style and palettes\n",
    "plt.style.use(C.STYLE_DEFAULT)\n",
    "PALETTE = vis.color_palette(\"regions\")[::-1] # Bars are in reverse order"
   ]
  },
  {
   "cell_type": "markdown",
   "id": "6c9289f0-1ea6-4be3-aa2c-c82fc9fa9815",
   "metadata": {},
   "source": [
    "## Load and clean data"
   ]
  },
  {
   "cell_type": "code",
   "execution_count": 4,
   "metadata": {},
   "outputs": [],
   "source": [
    "# Read the data\n",
    "df = pd.read_csv(C.STATS_PHYLOP_MISSENSE_PEXT, sep=\"\\t\", index_col=\"region\")"
   ]
  },
  {
   "cell_type": "code",
   "execution_count": 5,
   "id": "83290936-9867-476b-a197-2f88e8323389",
   "metadata": {
    "tags": []
   },
   "outputs": [
    {
     "data": {
      "image/png": "[encoded data removed]",
      "text/plain": [
       "<Figure size 472.441x196.85 with 6 Axes>"
      ]
     },
     "metadata": {},
     "output_type": "display_data"
    }
   ],
   "source": [
    "# Instantiate the figure\n",
    "fig, axs = plt.subplots(\n",
    "    len(_CONSTRAINT),\n",
    "    len(_METRICS),\n",
    "    figsize=(4 * len(_METRICS) * C.CM, 2.5 * len(_CONSTRAINT) * C.CM),\n",
    "    layout=\"constrained\",\n",
    "    gridspec_kw={\"hspace\": 0.1, \"wspace\": 0.05},\n",
    "    sharey=True,\n",
    "    sharex=\"col\",\n",
    ")\n",
    "axs = axs.flatten()\n",
    "\n",
    "# Data subsets\n",
    "subset_combinations = itertools.product(_CONSTRAINT, _METRICS)\n",
    "\n",
    "# Plots\n",
    "for ax, (constraint, metric) in zip(axs, subset_combinations):\n",
    "    subset = df[(df[\"constraint\"] == constraint) & (df[\"metric\"] == metric)]\n",
    "\n",
    "    phylop_plots.horizontal_bars(\n",
    "        subset[\"mean\"],\n",
    "        ax=ax,\n",
    "        xerr=subset[\"ci_95\"],\n",
    "    )\n",
    "\n",
    "# X axis labels in lowest Axes\n",
    "for ax, label in zip(axs[-len(_METRICS) :], _X_LABELS):\n",
    "    ax.set_xlabel(label)\n",
    "\n",
    "# Constraint annotations\n",
    "for ax, title in zip(axs, [x.capitalize() for x in sorted(_CONSTRAINT * len(_METRICS))]):\n",
    "    ax.set_title(title)\n",
    "\n",
    "# Save figure\n",
    "plt.savefig(\"data/plots/figures/fig_03.svg\")\n",
    "plt.savefig(\"data/plots/figures/fig_03.png\", dpi = 1000)"
   ]
  }
 ],
 "metadata": {
  "kernelspec": {
   "display_name": "ukb",
   "language": "python",
   "name": "python3"
  },
  "language_info": {
   "codemirror_mode": {
    "name": "ipython",
    "version": 3
   },
   "file_extension": ".py",
   "mimetype": "text/x-python",
   "name": "python",
   "nbconvert_exporter": "python",
   "pygments_lexer": "ipython3",
   "version": "3.8.0"
  }
 },
 "nbformat": 4,
 "nbformat_minor": 5
}
