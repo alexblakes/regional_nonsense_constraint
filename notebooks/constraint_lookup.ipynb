{
 "cells": [
  {
   "cell_type": "code",
   "execution_count": 29,
   "metadata": {
    "tags": []
   },
   "outputs": [],
   "source": [
    "_GENE_NAME = \"IRF2BP2\""
   ]
  },
  {
   "cell_type": "code",
   "execution_count": 30,
   "metadata": {},
   "outputs": [],
   "source": [
    "import pandas as pd"
   ]
  },
  {
   "cell_type": "code",
   "execution_count": 31,
   "metadata": {},
   "outputs": [],
   "source": [
    "_IDS = \"data/interim/gene_ids.tsv\"\n",
    "_CONSTRAINT = \"data/final/regional_nonsense_constraint.tsv\"\n",
    "_IX = \"transcript nmd_target start_proximal long_exon distal_nmd\".split()"
   ]
  },
  {
   "cell_type": "code",
   "execution_count": 32,
   "metadata": {},
   "outputs": [],
   "source": [
    "# Find the canonical transcript ID for the gene name\n",
    "ids = pd.read_csv(_IDS, sep=\"\\t\")\n",
    "enst = ids[ids[\"gene_name\"] == _GENE_NAME][\"transcript_id\"].values[0]"
   ]
  },
  {
   "cell_type": "code",
   "execution_count": 33,
   "metadata": {},
   "outputs": [],
   "source": [
    "# Set a categorical index for later sorting\n",
    "ix = pd.Categorical(_IX, categories=_IX, ordered=True)"
   ]
  },
  {
   "cell_type": "code",
   "execution_count": 34,
   "metadata": {},
   "outputs": [
    {
     "data": {
      "text/html": [
       "<div>\n",
       "<style scoped>\n",
       "    .dataframe tbody tr th:only-of-type {\n",
       "        vertical-align: middle;\n",
       "    }\n",
       "\n",
       "    .dataframe tbody tr th {\n",
       "        vertical-align: top;\n",
       "    }\n",
       "\n",
       "    .dataframe thead th {\n",
       "        text-align: right;\n",
       "    }\n",
       "</style>\n",
       "<table border=\"1\" class=\"dataframe\">\n",
       "  <thead>\n",
       "    <tr style=\"text-align: right;\">\n",
       "      <th></th>\n",
       "      <th>enst</th>\n",
       "      <th>n_obs</th>\n",
       "      <th>n_exp</th>\n",
       "      <th>oe</th>\n",
       "      <th>oe_ci_hi</th>\n",
       "      <th>fdr_p</th>\n",
       "      <th>pli</th>\n",
       "      <th>loeuf</th>\n",
       "      <th>constraint</th>\n",
       "    </tr>\n",
       "    <tr>\n",
       "      <th>region</th>\n",
       "      <th></th>\n",
       "      <th></th>\n",
       "      <th></th>\n",
       "      <th></th>\n",
       "      <th></th>\n",
       "      <th></th>\n",
       "      <th></th>\n",
       "      <th></th>\n",
       "      <th></th>\n",
       "    </tr>\n",
       "  </thead>\n",
       "  <tbody>\n",
       "    <tr>\n",
       "      <th>transcript</th>\n",
       "      <td>ENST00000366609</td>\n",
       "      <td>8</td>\n",
       "      <td>27.855334</td>\n",
       "      <td>0.287198</td>\n",
       "      <td>0.507183</td>\n",
       "      <td>0.000013</td>\n",
       "      <td>0.41099</td>\n",
       "      <td>0.71</td>\n",
       "      <td>constrained</td>\n",
       "    </tr>\n",
       "    <tr>\n",
       "      <th>nmd_target</th>\n",
       "      <td>ENST00000366609</td>\n",
       "      <td>1</td>\n",
       "      <td>5.242072</td>\n",
       "      <td>0.190764</td>\n",
       "      <td>0.846650</td>\n",
       "      <td>0.128700</td>\n",
       "      <td>0.41099</td>\n",
       "      <td>0.71</td>\n",
       "      <td>NaN</td>\n",
       "    </tr>\n",
       "    <tr>\n",
       "      <th>start_proximal</th>\n",
       "      <td>ENST00000366609</td>\n",
       "      <td>3</td>\n",
       "      <td>4.542075</td>\n",
       "      <td>0.660491</td>\n",
       "      <td>1.480800</td>\n",
       "      <td>0.607918</td>\n",
       "      <td>0.41099</td>\n",
       "      <td>0.71</td>\n",
       "      <td>unconstrained</td>\n",
       "    </tr>\n",
       "    <tr>\n",
       "      <th>long_exon</th>\n",
       "      <td>ENST00000366609</td>\n",
       "      <td>4</td>\n",
       "      <td>6.881914</td>\n",
       "      <td>0.581234</td>\n",
       "      <td>1.225690</td>\n",
       "      <td>0.433487</td>\n",
       "      <td>0.41099</td>\n",
       "      <td>0.71</td>\n",
       "      <td>unconstrained</td>\n",
       "    </tr>\n",
       "    <tr>\n",
       "      <th>distal_nmd</th>\n",
       "      <td>ENST00000366609</td>\n",
       "      <td>0</td>\n",
       "      <td>11.189276</td>\n",
       "      <td>0.000000</td>\n",
       "      <td>0.262386</td>\n",
       "      <td>0.000101</td>\n",
       "      <td>0.41099</td>\n",
       "      <td>0.71</td>\n",
       "      <td>constrained</td>\n",
       "    </tr>\n",
       "  </tbody>\n",
       "</table>\n",
       "</div>"
      ],
      "text/plain": [
       "                           enst  n_obs      n_exp        oe  oe_ci_hi  \\\n",
       "region                                                                  \n",
       "transcript      ENST00000366609      8  27.855334  0.287198  0.507183   \n",
       "nmd_target      ENST00000366609      1   5.242072  0.190764  0.846650   \n",
       "start_proximal  ENST00000366609      3   4.542075  0.660491  1.480800   \n",
       "long_exon       ENST00000366609      4   6.881914  0.581234  1.225690   \n",
       "distal_nmd      ENST00000366609      0  11.189276  0.000000  0.262386   \n",
       "\n",
       "                   fdr_p      pli  loeuf     constraint  \n",
       "region                                                   \n",
       "transcript      0.000013  0.41099   0.71    constrained  \n",
       "nmd_target      0.128700  0.41099   0.71            NaN  \n",
       "start_proximal  0.607918  0.41099   0.71  unconstrained  \n",
       "long_exon       0.433487  0.41099   0.71  unconstrained  \n",
       "distal_nmd      0.000101  0.41099   0.71    constrained  "
      ]
     },
     "execution_count": 34,
     "metadata": {},
     "output_type": "execute_result"
    }
   ],
   "source": [
    "# Find and order key constraint statistics for the transcript\n",
    "constraint = (\n",
    "    pd.read_csv(\n",
    "        _CONSTRAINT,\n",
    "        sep=\"\\t\",\n",
    "        usecols=\"enst region n_obs n_exp oe oe_ci_hi fdr_p pli loeuf constraint\".split(),\n",
    "    )\n",
    "    .query(\"enst == @enst\")\n",
    "    .set_index(\"region\")\n",
    "    .reindex(ix)\n",
    ")\n",
    "\n",
    "constraint"
   ]
  },
  {
   "cell_type": "code",
   "execution_count": null,
   "metadata": {},
   "outputs": [],
   "source": []
  }
 ],
 "metadata": {
  "kernelspec": {
   "display_name": "ukb",
   "language": "python",
   "name": "python3"
  },
  "language_info": {
   "codemirror_mode": {
    "name": "ipython",
    "version": 3
   },
   "file_extension": ".py",
   "mimetype": "text/x-python",
   "name": "python",
   "nbconvert_exporter": "python",
   "pygments_lexer": "ipython3",
   "version": "3.8.17"
  }
 },
 "nbformat": 4,
 "nbformat_minor": 2
}
