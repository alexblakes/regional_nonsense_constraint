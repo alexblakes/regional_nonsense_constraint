{
 "cells": [
  {
   "cell_type": "markdown",
   "id": "8d1dc93c-52d9-4b5d-808c-1189ea9a84c4",
   "metadata": {},
   "source": [
    "# Z score distribution plots"
   ]
  },
  {
   "cell_type": "markdown",
   "id": "cca35c07-1db9-4569-80d6-c1f1e1cadd85",
   "metadata": {},
   "source": [
    "## Preliminaries"
   ]
  },
  {
   "cell_type": "code",
   "execution_count": 1,
   "id": "841f7942-73c3-40b7-b0e8-edb86667eec1",
   "metadata": {
    "tags": []
   },
   "outputs": [
    {
     "name": "stdout",
     "output_type": "stream",
     "text": [
      "The color palette is saved in the global variable, C\n",
      "C = color_palette(blue='#0077bb', green='#009988', orange='#ee7733', red='#cc3311', light_blue='#33bbee', pink='#ee3377', grey='#bbbbbb', black='#000000')\n"
     ]
    }
   ],
   "source": [
    "import matplotlib.pyplot as plt\n",
    "import numpy as np\n",
    "import pandas as pd\n",
    "import seaborn as sns\n",
    "from matplotlib.lines import Line2D\n",
    "from scipy.stats import norm\n",
    "\n",
    "%run _color_tools.ipynb"
   ]
  },
  {
   "cell_type": "markdown",
   "id": "16c9b176-5a0a-47a3-a0e1-35c19c82fb37",
   "metadata": {
    "tags": []
   },
   "source": [
    "## Load data"
   ]
  },
  {
   "cell_type": "code",
   "execution_count": 2,
   "id": "b516a0f0-29b8-4d2f-bdfe-f3ad254f6a41",
   "metadata": {
    "tags": []
   },
   "outputs": [],
   "source": [
    "z_dist = pd.read_csv(\"../outputs/expected_variants_all_regions_stats.tsv\", sep=\"\\t\")"
   ]
  },
  {
   "cell_type": "markdown",
   "id": "c46f3fc3-8cb1-42f3-b285-97f2df3879e2",
   "metadata": {},
   "source": [
    "## Nonsense Z score by region"
   ]
  },
  {
   "cell_type": "code",
   "execution_count": 3,
   "id": "6caabc00-6fbf-4c35-bf76-0bb6231a1a97",
   "metadata": {
    "tags": []
   },
   "outputs": [],
   "source": [
    "def plot_z_dist(\n",
    "    df,\n",
    "    ax,\n",
    "    csq=\"nonsense\",\n",
    "    region=\"nmd_target\",\n",
    "    title=\"NMD target\",\n",
    "    FDR_line=True,\n",
    "    FDR_label=False,\n",
    "):\n",
    "\n",
    "    # Subset the data\n",
    "    m1 = df[\"region\"] == region\n",
    "    m2 = df[\"csq\"] == csq\n",
    "    df = df[m1 & m2]\n",
    "\n",
    "    # Find the highest P value which remains significant after FDR correction\n",
    "    m3 = df[\"fdr_p\"] < 0.05\n",
    "    max_p = df[m3][\"p\"].max()\n",
    "    sig_thresh = norm.isf(1 - max_p)\n",
    "\n",
    "    # Create the plot\n",
    "    ax = sns.kdeplot(ax=ax, x=df[\"z\"], gridsize=1000, fill=False)\n",
    "\n",
    "    # Adjust axes\n",
    "    ax.set_xlim(-5, 5)\n",
    "    ax.set_xlabel(\"Z score\")\n",
    "    ax.set_ylabel(None)\n",
    "    ax.set_title(title)\n",
    "\n",
    "    # Extract KDE line data\n",
    "    kdeline = ax.lines[0]\n",
    "    xs = kdeline.get_xdata()\n",
    "    ys = kdeline.get_ydata()\n",
    "\n",
    "    # Add fill beneath KDE line\n",
    "    ax.fill_between(xs, 0, ys, alpha=0.2)\n",
    "\n",
    "    # Add line for FDR threshold\n",
    "    if FDR_line:\n",
    "        # Find y intercept\n",
    "        y_val = np.interp(sig_thresh, xs, ys)\n",
    "        ax.vlines(\n",
    "            x=sig_thresh,\n",
    "            ymin=0,\n",
    "            ymax=y_val,\n",
    "            color=C.black,\n",
    "            linestyle=\"--\",\n",
    "            label=\"FDR < 0.05\",\n",
    "        )\n",
    "\n",
    "    if FDR_label:\n",
    "        ax.text(\n",
    "            x=sig_thresh,\n",
    "            y=0.01,\n",
    "            ha=\"center\",\n",
    "            va=\"bottom\",\n",
    "            s=\"\\n\\nFDR < 0.05\",\n",
    "            rotation=90,\n",
    "            # transform=ax.get_xaxis_transform(),\n",
    "        )\n",
    "\n",
    "    # Count regions where a Z score can be calculated\n",
    "    N = len(df.dropna(subset=\"z\"))\n",
    "    ax.text(x=1, y=0.9, s=f\"N = {N:,}\", ha=\"right\", va=\"top\", transform=ax.transAxes)\n",
    "\n",
    "    return None"
   ]
  },
  {
   "cell_type": "code",
   "execution_count": 4,
   "id": "61dc9ec7-96f9-4acc-bb26-0147762df9e9",
   "metadata": {
    "tags": []
   },
   "outputs": [
    {
     "data": {
      "image/png": "[encoded data removed]",
      "text/plain": [
       "<Figure size 350x300 with 1 Axes>"
      ]
     },
     "metadata": {},
     "output_type": "display_data"
    }
   ],
   "source": [
    "fig, ax = plt.subplots(layout=\"constrained\")\n",
    "plot_z_dist(z_dist, ax, FDR_label=True, region=\"nmd_target\")"
   ]
  }
 ],
 "metadata": {
  "kernelspec": {
   "display_name": "Python [conda env:ukb]",
   "language": "python",
   "name": "conda-env-ukb-py"
  },
  "language_info": {
   "codemirror_mode": {
    "name": "ipython",
    "version": 3
   },
   "file_extension": ".py",
   "mimetype": "text/x-python",
   "name": "python",
   "nbconvert_exporter": "python",
   "pygments_lexer": "ipython3",
   "version": "3.8.17"
  }
 },
 "nbformat": 4,
 "nbformat_minor": 5
}
