{
 "cells": [
  {
   "cell_type": "markdown",
   "id": "cc2799ad",
   "metadata": {
    "papermill": {
     "duration": 0.014288,
     "end_time": "2023-11-17T13:12:16.327699",
     "exception": false,
     "start_time": "2023-11-17T13:12:16.313411",
     "status": "completed"
    },
    "tags": []
   },
   "source": [
    "# Constraint statistics\n",
    "Explore trends of regional nonsense constraint. "
   ]
  },
  {
   "cell_type": "code",
   "execution_count": 1,
   "id": "026839df",
   "metadata": {
    "execution": {
     "iopub.execute_input": "2023-11-17T13:12:16.440560Z",
     "iopub.status.busy": "2023-11-17T13:12:16.439963Z",
     "iopub.status.idle": "2023-11-17T13:12:18.520441Z",
     "shell.execute_reply": "2023-11-17T13:12:18.519365Z"
    },
    "papermill": {
     "duration": 2.094964,
     "end_time": "2023-11-17T13:12:18.522750",
     "exception": false,
     "start_time": "2023-11-17T13:12:16.427786",
     "status": "completed"
    },
    "tags": []
   },
   "outputs": [],
   "source": [
    "# Import modules\n",
    "from pathlib import Path\n",
    "import os\n",
    "\n",
    "import numpy as np\n",
    "import pandas as pd\n",
    "\n",
    "from src import setup_logger\n",
    "from src import constants as C"
   ]
  },
  {
   "cell_type": "code",
   "execution_count": 2,
   "metadata": {},
   "outputs": [],
   "source": [
    "# Logging\n",
    "logger = setup_logger(Path(os.path.abspath('')).stem)"
   ]
  },
  {
   "cell_type": "code",
   "execution_count": 9,
   "metadata": {},
   "outputs": [
    {
     "name": "stderr",
     "output_type": "stream",
     "text": [
      "[22-Nov-23 14:49:17] INFO <module>(): Duplicated by enst / region / csq: 0\n"
     ]
    }
   ],
   "source": []
  },
  {
   "cell_type": "markdown",
   "metadata": {},
   "source": [
    "Find regions in which nonsense variants are possible, and in which constraint statistics could be calculated."
   ]
  },
  {
   "cell_type": "markdown",
   "metadata": {},
   "source": [
    "## Constraint statistics\n",
    "Get the number of constrained regions"
   ]
  },
  {
   "cell_type": "code",
   "execution_count": 10,
   "metadata": {},
   "outputs": [],
   "source": []
  },
  {
   "cell_type": "code",
   "execution_count": 11,
   "metadata": {},
   "outputs": [
    {
     "data": {
      "text/html": [
       "<div>\n",
       "<style scoped>\n",
       "    .dataframe tbody tr th:only-of-type {\n",
       "        vertical-align: middle;\n",
       "    }\n",
       "\n",
       "    .dataframe tbody tr th {\n",
       "        vertical-align: top;\n",
       "    }\n",
       "\n",
       "    .dataframe thead th {\n",
       "        text-align: right;\n",
       "    }\n",
       "</style>\n",
       "<table border=\"1\" class=\"dataframe\">\n",
       "  <thead>\n",
       "    <tr style=\"text-align: right;\">\n",
       "      <th></th>\n",
       "      <th>enst</th>\n",
       "      <th>region</th>\n",
       "      <th>csq</th>\n",
       "      <th>n_pos</th>\n",
       "      <th>n_obs</th>\n",
       "      <th>n_exp</th>\n",
       "      <th>oe</th>\n",
       "      <th>prop_obs</th>\n",
       "      <th>prop_exp</th>\n",
       "      <th>mu</th>\n",
       "      <th>...</th>\n",
       "      <th>p</th>\n",
       "      <th>fdr_p</th>\n",
       "      <th>pli</th>\n",
       "      <th>loeuf</th>\n",
       "      <th>gnomad_flags</th>\n",
       "      <th>syn_z_1sd</th>\n",
       "      <th>pass_syn_z</th>\n",
       "      <th>pass_fdr</th>\n",
       "      <th>pass_oe</th>\n",
       "      <th>none_observed</th>\n",
       "    </tr>\n",
       "  </thead>\n",
       "  <tbody>\n",
       "    <tr>\n",
       "      <th>48307</th>\n",
       "      <td>ENST00000358465</td>\n",
       "      <td>nmd_target</td>\n",
       "      <td>stop_gained</td>\n",
       "      <td>376.0</td>\n",
       "      <td>11.0</td>\n",
       "      <td>74.275</td>\n",
       "      <td>0.148098</td>\n",
       "      <td>0.029255</td>\n",
       "      <td>0.19754</td>\n",
       "      <td>0.000002</td>\n",
       "      <td>...</td>\n",
       "      <td>2.486296e-16</td>\n",
       "      <td>1.312831e-14</td>\n",
       "      <td>1.0</td>\n",
       "      <td>0.23</td>\n",
       "      <td>[]</td>\n",
       "      <td>True</td>\n",
       "      <td>True</td>\n",
       "      <td>True</td>\n",
       "      <td>True</td>\n",
       "      <td>False</td>\n",
       "    </tr>\n",
       "  </tbody>\n",
       "</table>\n",
       "<p>1 rows × 22 columns</p>\n",
       "</div>"
      ],
      "text/plain": [
       "                  enst      region          csq  n_pos  n_obs   n_exp  \\\n",
       "48307  ENST00000358465  nmd_target  stop_gained  376.0   11.0  74.275   \n",
       "\n",
       "             oe  prop_obs  prop_exp        mu  ...             p  \\\n",
       "48307  0.148098  0.029255   0.19754  0.000002  ...  2.486296e-16   \n",
       "\n",
       "              fdr_p  pli  loeuf  gnomad_flags  syn_z_1sd pass_syn_z  pass_fdr  \\\n",
       "48307  1.312831e-14  1.0   0.23            []       True       True      True   \n",
       "\n",
       "       pass_oe  none_observed  \n",
       "48307     True          False  \n",
       "\n",
       "[1 rows x 22 columns]"
      ]
     },
     "execution_count": 11,
     "metadata": {},
     "output_type": "execute_result"
    }
   ],
   "source": [
    "# Masks for constraint criteria\n",
    "m1 = ~stop.z.isna()\n",
    "m2 = stop.syn_z_1sd == True\n",
    "m3 = stop.fdr_p < 0.05\n",
    "m4 = stop.oe < 0.35\n",
    "m5 = stop.n_obs == 0\n",
    "\n",
    "# Cumulative criteria\n",
    "ma = (m1 & m2).rename(\"pass_syn_z\")\n",
    "mb = (ma & m3).rename(\"pass_fdr\")\n",
    "mc = (mb & m4).rename(\"pass_oe\")\n",
    "md = (mc & m5).rename(\"none_observed\")\n",
    "\n",
    "stop = pd.concat([stop, ma, mb, mc, md], axis=1)\n",
    "stop.sample(1)"
   ]
  },
  {
   "cell_type": "code",
   "execution_count": 12,
   "metadata": {},
   "outputs": [
    {
     "data": {
      "text/html": [
       "<div>\n",
       "<style scoped>\n",
       "    .dataframe tbody tr th:only-of-type {\n",
       "        vertical-align: middle;\n",
       "    }\n",
       "\n",
       "    .dataframe tbody tr th {\n",
       "        vertical-align: top;\n",
       "    }\n",
       "\n",
       "    .dataframe thead th {\n",
       "        text-align: right;\n",
       "    }\n",
       "</style>\n",
       "<table border=\"1\" class=\"dataframe\">\n",
       "  <thead>\n",
       "    <tr style=\"text-align: right;\">\n",
       "      <th></th>\n",
       "      <th>transcripts</th>\n",
       "      <th>valid_regions</th>\n",
       "      <th>valid_statistics</th>\n",
       "      <th>pass_syn_z</th>\n",
       "      <th>pass_fdr</th>\n",
       "      <th>pass_oe</th>\n",
       "      <th>none_observed</th>\n",
       "    </tr>\n",
       "    <tr>\n",
       "      <th>region</th>\n",
       "      <th></th>\n",
       "      <th></th>\n",
       "      <th></th>\n",
       "      <th></th>\n",
       "      <th></th>\n",
       "      <th></th>\n",
       "      <th></th>\n",
       "    </tr>\n",
       "  </thead>\n",
       "  <tbody>\n",
       "    <tr>\n",
       "      <th>distal_nmd</th>\n",
       "      <td>19432</td>\n",
       "      <td>18762</td>\n",
       "      <td>9574</td>\n",
       "      <td>6509</td>\n",
       "      <td>1333</td>\n",
       "      <td>862</td>\n",
       "      <td>201</td>\n",
       "    </tr>\n",
       "    <tr>\n",
       "      <th>long_exon</th>\n",
       "      <td>19432</td>\n",
       "      <td>3475</td>\n",
       "      <td>2135</td>\n",
       "      <td>1417</td>\n",
       "      <td>633</td>\n",
       "      <td>439</td>\n",
       "      <td>52</td>\n",
       "    </tr>\n",
       "    <tr>\n",
       "      <th>nmd_target</th>\n",
       "      <td>19432</td>\n",
       "      <td>16423</td>\n",
       "      <td>14247</td>\n",
       "      <td>7968</td>\n",
       "      <td>3250</td>\n",
       "      <td>1681</td>\n",
       "      <td>137</td>\n",
       "    </tr>\n",
       "    <tr>\n",
       "      <th>start_proximal</th>\n",
       "      <td>19432</td>\n",
       "      <td>19161</td>\n",
       "      <td>1607</td>\n",
       "      <td>1252</td>\n",
       "      <td>134</td>\n",
       "      <td>131</td>\n",
       "      <td>96</td>\n",
       "    </tr>\n",
       "    <tr>\n",
       "      <th>transcript</th>\n",
       "      <td>19432</td>\n",
       "      <td>19419</td>\n",
       "      <td>19011</td>\n",
       "      <td>10836</td>\n",
       "      <td>4710</td>\n",
       "      <td>1913</td>\n",
       "      <td>90</td>\n",
       "    </tr>\n",
       "  </tbody>\n",
       "</table>\n",
       "</div>"
      ],
      "text/plain": [
       "                transcripts  valid_regions  valid_statistics  pass_syn_z  \\\n",
       "region                                                                     \n",
       "distal_nmd            19432          18762              9574        6509   \n",
       "long_exon             19432           3475              2135        1417   \n",
       "nmd_target            19432          16423             14247        7968   \n",
       "start_proximal        19432          19161              1607        1252   \n",
       "transcript            19432          19419             19011       10836   \n",
       "\n",
       "                pass_fdr  pass_oe  none_observed  \n",
       "region                                            \n",
       "distal_nmd          1333      862            201  \n",
       "long_exon            633      439             52  \n",
       "nmd_target          3250     1681            137  \n",
       "start_proximal       134      131             96  \n",
       "transcript          4710     1913             90  "
      ]
     },
     "execution_count": 12,
     "metadata": {},
     "output_type": "execute_result"
    }
   ],
   "source": [
    "# Regions meeting cumulative criteria\n",
    "stop_valid = stop.groupby(\"region\").agg(\n",
    "    transcripts=(\"csq\", \"count\"),\n",
    "    valid_regions=(\"oe\", \"count\"),\n",
    "    valid_statistics=(\"z\", \"count\"),\n",
    "    pass_syn_z=(\"pass_syn_z\", \"sum\"),\n",
    "    pass_fdr=(\"pass_fdr\", \"sum\"),\n",
    "    pass_oe=(\"pass_oe\", \"sum\"),\n",
    "    none_observed=(\"none_observed\", \"sum\"),\n",
    ")\n",
    "stop_valid"
   ]
  },
  {
   "cell_type": "code",
   "execution_count": null,
   "metadata": {},
   "outputs": [],
   "source": []
  },
  {
   "cell_type": "code",
   "execution_count": 6,
   "metadata": {},
   "outputs": [
    {
     "ename": "NameError",
     "evalue": "name 'df_valid' is not defined",
     "output_type": "error",
     "traceback": [
      "\u001b[0;31m---------------------------------------------------------------------------\u001b[0m",
      "\u001b[0;31mNameError\u001b[0m                                 Traceback (most recent call last)",
      "\u001b[1;32m/mnt/iusers01/bk01/m40482ab/scratch/ukb_constraint/notebooks/02_constraint_statistics.ipynb Cell 9\u001b[0m line \u001b[0;36m1\n\u001b[0;32m----> <a href='vscode-notebook-cell://ssh-remote%2Bincline256.itservices.manchester.ac.uk/mnt/iusers01/bk01/m40482ab/scratch/ukb_constraint/notebooks/02_constraint_statistics.ipynb#X12sdnNjb2RlLXJlbW90ZQ%3D%3D?line=0'>1</a>\u001b[0m pd\u001b[39m.\u001b[39mconcat([df_valid, syn_z, fdr_lt_005, oe_lt_035, obs_0], axis\u001b[39m=\u001b[39m\u001b[39m1\u001b[39m)\n",
      "\u001b[0;31mNameError\u001b[0m: name 'df_valid' is not defined"
     ]
    }
   ],
   "source": [
    "pd.concat([df_valid, syn_z, fdr_lt_005, oe_lt_035, obs_0], axis=1)"
   ]
  },
  {
   "cell_type": "code",
   "execution_count": null,
   "metadata": {},
   "outputs": [],
   "source": [
    "# # ### Spearman rank Z vs LOEUF\n",
    "\n",
    "\n",
    "# m1 = df[\"region\"] == \"transcript\"\n",
    "# m2 = df[\"csq\"] == \"nonsense\"\n",
    "\n",
    "# z = df[m1 & m2][\"z\"]\n",
    "# loeuf = df[m1 & m2][\"loeuf\"]\n",
    "\n",
    "# print(spearmanr(z, loeuf, nan_policy=\"omit\", alternative=\"two-sided\"))"
   ]
  }
 ],
 "metadata": {
  "kernelspec": {
   "display_name": "ukb",
   "language": "python",
   "name": "python3"
  },
  "language_info": {
   "codemirror_mode": {
    "name": "ipython",
    "version": 3
   },
   "file_extension": ".py",
   "mimetype": "text/x-python",
   "name": "python",
   "nbconvert_exporter": "python",
   "pygments_lexer": "ipython3",
   "version": "3.8.17"
  },
  "papermill": {
   "default_parameters": {},
   "duration": 12.880516,
   "end_time": "2023-11-17T13:12:26.982312",
   "environment_variables": {},
   "exception": null,
   "input_path": "notebooks/01_expectation_model_choices.ipynb",
   "output_path": "notebooks/01_expectation_model_choices.ipynb",
   "parameters": {
    "coverage": 30
   },
   "start_time": "2023-11-17T13:12:14.101796",
   "version": "2.4.0"
  }
 },
 "nbformat": 4,
 "nbformat_minor": 5
}
