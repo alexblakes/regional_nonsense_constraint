{
 "cells": [
  {
   "cell_type": "markdown",
   "id": "cc2799ad",
   "metadata": {
    "papermill": {
     "duration": 0.029331,
     "end_time": "2023-12-11T14:48:43.242948",
     "exception": false,
     "start_time": "2023-12-11T14:48:43.213617",
     "status": "completed"
    },
    "tags": []
   },
   "source": [
    "# Expectation model choices\n",
    "This notebook explains the rationale for our choice of expectation model."
   ]
  },
  {
   "cell_type": "markdown",
   "id": "be07d104",
   "metadata": {
    "papermill": {
     "duration": 0.017377,
     "end_time": "2023-12-11T14:48:43.282441",
     "exception": false,
     "start_time": "2023-12-11T14:48:43.265064",
     "status": "completed"
    },
    "tags": []
   },
   "source": [
    "Import modules"
   ]
  },
  {
   "cell_type": "code",
   "execution_count": 1,
   "id": "7079b44a",
   "metadata": {
    "execution": {
     "iopub.execute_input": "2023-12-11T14:48:43.318568Z",
     "iopub.status.busy": "2023-12-11T14:48:43.318132Z",
     "iopub.status.idle": "2023-12-11T14:48:43.330223Z",
     "shell.execute_reply": "2023-12-11T14:48:43.329210Z"
    },
    "papermill": {
     "duration": 0.033591,
     "end_time": "2023-12-11T14:48:43.333141",
     "exception": false,
     "start_time": "2023-12-11T14:48:43.299550",
     "status": "completed"
    },
    "tags": [
     "parameters"
    ]
   },
   "outputs": [],
   "source": [
    "# Default papermill parameters\n",
    "coverage = 0"
   ]
  },
  {
   "cell_type": "code",
   "execution_count": 2,
   "id": "add4af80",
   "metadata": {
    "execution": {
     "iopub.execute_input": "2023-12-11T14:48:43.377794Z",
     "iopub.status.busy": "2023-12-11T14:48:43.377445Z",
     "iopub.status.idle": "2023-12-11T14:48:43.381839Z",
     "shell.execute_reply": "2023-12-11T14:48:43.380879Z"
    },
    "papermill": {
     "duration": 0.024562,
     "end_time": "2023-12-11T14:48:43.384002",
     "exception": false,
     "start_time": "2023-12-11T14:48:43.359440",
     "status": "completed"
    },
    "tags": [
     "injected-parameters"
    ]
   },
   "outputs": [],
   "source": [
    "# Parameters\n",
    "coverage = 30\n"
   ]
  },
  {
   "cell_type": "code",
   "execution_count": 3,
   "id": "026839df",
   "metadata": {
    "execution": {
     "iopub.execute_input": "2023-12-11T14:48:43.419136Z",
     "iopub.status.busy": "2023-12-11T14:48:43.418769Z",
     "iopub.status.idle": "2023-12-11T14:48:47.348227Z",
     "shell.execute_reply": "2023-12-11T14:48:47.346873Z"
    },
    "papermill": {
     "duration": 3.951149,
     "end_time": "2023-12-11T14:48:47.351484",
     "exception": false,
     "start_time": "2023-12-11T14:48:43.400335",
     "status": "completed"
    },
    "tags": []
   },
   "outputs": [],
   "source": [
    "# Import modules\n",
    "from pathlib import Path\n",
    "\n",
    "import numpy as np\n",
    "import pandas as pd\n",
    "import matplotlib.pyplot as plt\n",
    "import matplotlib.colors as colors\n",
    "from matplotlib.lines import Line2D\n",
    "import seaborn as sns\n",
    "import statsmodels.api as sm\n",
    "from sklearn.metrics import r2_score\n",
    "\n",
    "from src import constants as C\n",
    "\n",
    "# Set seaborn context\n",
    "sns.set_context(\"paper\")"
   ]
  },
  {
   "cell_type": "code",
   "execution_count": 4,
   "id": "58b8b8a9",
   "metadata": {
    "execution": {
     "iopub.execute_input": "2023-12-11T14:48:47.395031Z",
     "iopub.status.busy": "2023-12-11T14:48:47.394287Z",
     "iopub.status.idle": "2023-12-11T14:48:47.400427Z",
     "shell.execute_reply": "2023-12-11T14:48:47.399072Z"
    },
    "papermill": {
     "duration": 0.03194,
     "end_time": "2023-12-11T14:48:47.403114",
     "exception": false,
     "start_time": "2023-12-11T14:48:47.371174",
     "status": "completed"
    },
    "tags": []
   },
   "outputs": [],
   "source": [
    "# Module constants\n",
    "_FILEPATH = f\"{C._OBS_COUNTS_SYN}{coverage}.tsv\""
   ]
  },
  {
   "cell_type": "markdown",
   "id": "54a9902f",
   "metadata": {
    "papermill": {
     "duration": 0.01706,
     "end_time": "2023-12-11T14:48:47.437613",
     "exception": false,
     "start_time": "2023-12-11T14:48:47.420553",
     "status": "completed"
    },
    "tags": []
   },
   "source": [
    "Load data"
   ]
  },
  {
   "cell_type": "code",
   "execution_count": 5,
   "id": "69cc1e09-f977-4e32-aae9-c0f9612b22f7",
   "metadata": {
    "execution": {
     "iopub.execute_input": "2023-12-11T14:48:47.478114Z",
     "iopub.status.busy": "2023-12-11T14:48:47.477640Z",
     "iopub.status.idle": "2023-12-11T14:48:47.500859Z",
     "shell.execute_reply": "2023-12-11T14:48:47.499775Z"
    },
    "papermill": {
     "duration": 0.04195,
     "end_time": "2023-12-11T14:48:47.503611",
     "exception": false,
     "start_time": "2023-12-11T14:48:47.461661",
     "status": "completed"
    },
    "tags": []
   },
   "outputs": [],
   "source": [
    "# Load mutational model summary statistics\n",
    "df = pd.read_csv(_FILEPATH, sep=\"\\t\")\n",
    "\n",
    "# Find the proportion of variants observed\n",
    "df[\"obs\"] = df[\"obs\"] / df[\"pos\"]"
   ]
  },
  {
   "cell_type": "markdown",
   "id": "5b9ddcec-700a-4c91-adf6-4f9cd28a740a",
   "metadata": {
    "papermill": {
     "duration": 0.024275,
     "end_time": "2023-12-11T14:48:47.548172",
     "exception": false,
     "start_time": "2023-12-11T14:48:47.523897",
     "status": "completed"
    },
    "tags": []
   },
   "source": [
    "## Inspect the data"
   ]
  },
  {
   "cell_type": "code",
   "execution_count": 6,
   "id": "4551520f-89bc-4008-b63d-89cb9268fd1a",
   "metadata": {
    "execution": {
     "iopub.execute_input": "2023-12-11T14:48:47.596358Z",
     "iopub.status.busy": "2023-12-11T14:48:47.595874Z",
     "iopub.status.idle": "2023-12-11T14:48:47.951143Z",
     "shell.execute_reply": "2023-12-11T14:48:47.950001Z"
    },
    "papermill": {
     "duration": 0.377493,
     "end_time": "2023-12-11T14:48:47.954108",
     "exception": false,
     "start_time": "2023-12-11T14:48:47.576615",
     "status": "completed"
    },
    "tags": []
   },
   "outputs": [
    {
     "data": {
      "text/plain": [
       "Text(0, 0.5, 'Proportion observed')"
      ]
     },
     "execution_count": 6,
     "metadata": {},
     "output_type": "execute_result"
    },
    {
     "data": {
      "image/png": "[encoded data removed]",
      "text/plain": [
       "<Figure size 250x250 with 1 Axes>"
      ]
     },
     "metadata": {},
     "output_type": "display_data"
    }
   ],
   "source": [
    "# Create figure\n",
    "fig, ax = plt.subplots(1, 1, figsize=(2.5, 2.5), layout=\"constrained\")\n",
    "\n",
    "# Plot proportion observed against mutability\n",
    "ax.scatter(x=df[\"mu\"], y=df[\"obs\"], alpha=0.2, marker=\".\")\n",
    "ax.set_xlabel(\"Mutability\")\n",
    "ax.set_ylabel(\"Proportion observed\")"
   ]
  },
  {
   "cell_type": "markdown",
   "id": "345da050-6f46-4d66-9f84-63b794597452",
   "metadata": {
    "papermill": {
     "duration": 0.022209,
     "end_time": "2023-12-11T14:48:47.999182",
     "exception": false,
     "start_time": "2023-12-11T14:48:47.976973",
     "status": "completed"
    },
    "tags": []
   },
   "source": [
    "There is a log-linear relationship between the proportion of synonymous variants and the mutability of each constext. Below we linearise the data with a log transform of the dependent variable."
   ]
  },
  {
   "cell_type": "code",
   "execution_count": 7,
   "id": "1483cb0e-f84e-49eb-a232-406e2b9fa065",
   "metadata": {
    "execution": {
     "iopub.execute_input": "2023-12-11T14:48:48.043451Z",
     "iopub.status.busy": "2023-12-11T14:48:48.042971Z",
     "iopub.status.idle": "2023-12-11T14:48:48.297500Z",
     "shell.execute_reply": "2023-12-11T14:48:48.296597Z"
    },
    "papermill": {
     "duration": 0.28216,
     "end_time": "2023-12-11T14:48:48.300650",
     "exception": false,
     "start_time": "2023-12-11T14:48:48.018490",
     "status": "completed"
    },
    "tags": []
   },
   "outputs": [
    {
     "name": "stderr",
     "output_type": "stream",
     "text": [
      "/mnt/iusers01/bk01/m40482ab/miniforge3/envs/ukb/lib/python3.8/site-packages/pandas/core/arraylike.py:402: RuntimeWarning: divide by zero encountered in log\n",
      "  result = getattr(ufunc, method)(*inputs, **kwargs)\n"
     ]
    },
    {
     "data": {
      "text/plain": [
       "Text(0, 0.5, 'Proportion observed')"
      ]
     },
     "execution_count": 7,
     "metadata": {},
     "output_type": "execute_result"
    },
    {
     "data": {
      "image/png": "[encoded data removed]",
      "text/plain": [
       "<Figure size 250x250 with 1 Axes>"
      ]
     },
     "metadata": {},
     "output_type": "display_data"
    }
   ],
   "source": [
    "# Create figure\n",
    "fig, ax = plt.subplots(1, 1, figsize=(2.5, 2.5), layout=\"constrained\")\n",
    "\n",
    "# Plot proportion observed against mutability\n",
    "ax.scatter(x=df[\"mu\"], y=np.log(1 - df[\"obs\"]), alpha=0.2, marker=\".\")\n",
    "ax.set_xlabel(\"Mutability\")\n",
    "ax.set_ylabel(\"Proportion observed\")"
   ]
  },
  {
   "cell_type": "markdown",
   "id": "adb25d88",
   "metadata": {
    "papermill": {
     "duration": 0.020237,
     "end_time": "2023-12-11T14:48:48.343945",
     "exception": false,
     "start_time": "2023-12-11T14:48:48.323708",
     "status": "completed"
    },
    "tags": []
   },
   "source": [
    "After log transformation of the dependent variable, there is a nearly linear relationship.\n",
    "\n",
    "### Drop saturated contexts\n",
    "The error above is because some contexts are saturated (i.e. the proportion observed == 1). For these contexts, there is an error when we try to calculate np.log(0). It's best to drop any saturated contexts."
   ]
  },
  {
   "cell_type": "code",
   "execution_count": 8,
   "id": "d6959dca",
   "metadata": {
    "execution": {
     "iopub.execute_input": "2023-12-11T14:48:48.385969Z",
     "iopub.status.busy": "2023-12-11T14:48:48.385500Z",
     "iopub.status.idle": "2023-12-11T14:48:48.395689Z",
     "shell.execute_reply": "2023-12-11T14:48:48.394429Z"
    },
    "papermill": {
     "duration": 0.034049,
     "end_time": "2023-12-11T14:48:48.398140",
     "exception": false,
     "start_time": "2023-12-11T14:48:48.364091",
     "status": "completed"
    },
    "tags": []
   },
   "outputs": [
    {
     "name": "stdout",
     "output_type": "stream",
     "text": [
      "Contexts: 304\n",
      "There are 9 observations for which the proportion observed == 1. Drop them.\n",
      "Contexts remaining: 295\n"
     ]
    }
   ],
   "source": [
    "print(f\"Contexts: {len(df)}\")\n",
    "print(\n",
    "    f'There are {(df[\"obs\"]==1).sum()} observations for which the proportion observed == 1. Drop them.'\n",
    ")\n",
    "\n",
    "# Drop saturated contexts\n",
    "nonsat = df[df[\"obs\"] != 1].copy()\n",
    "print(f\"Contexts remaining: {len(nonsat)}\")"
   ]
  },
  {
   "cell_type": "markdown",
   "id": "d36fc467-babc-4252-bf3b-7a65bc35b45d",
   "metadata": {
    "papermill": {
     "duration": 0.017874,
     "end_time": "2023-12-11T14:48:48.435631",
     "exception": false,
     "start_time": "2023-12-11T14:48:48.417757",
     "status": "completed"
    },
    "tags": []
   },
   "source": [
    "### Visualise CpGs and non-CpGs\n",
    "CpGs are more mutable and should have a higher proportion of synonymous variants observed."
   ]
  },
  {
   "cell_type": "code",
   "execution_count": 9,
   "id": "dede2b47-a5ae-46e9-bdff-b2d305e5bef2",
   "metadata": {
    "execution": {
     "iopub.execute_input": "2023-12-11T14:48:48.476788Z",
     "iopub.status.busy": "2023-12-11T14:48:48.476198Z",
     "iopub.status.idle": "2023-12-11T14:48:48.486148Z",
     "shell.execute_reply": "2023-12-11T14:48:48.484771Z"
    },
    "papermill": {
     "duration": 0.032199,
     "end_time": "2023-12-11T14:48:48.488426",
     "exception": false,
     "start_time": "2023-12-11T14:48:48.456227",
     "status": "completed"
    },
    "tags": []
   },
   "outputs": [],
   "source": [
    "# Treat CpG transitions separately\n",
    "ncg = nonsat[nonsat[\"variant_type\"] != \"CpG\"].copy()\n",
    "cpg = nonsat[nonsat[\"variant_type\"] == \"CpG\"].copy()"
   ]
  },
  {
   "cell_type": "code",
   "execution_count": 10,
   "id": "c69c2f0a-e4cc-4293-8db0-0df19efb885e",
   "metadata": {
    "execution": {
     "iopub.execute_input": "2023-12-11T14:48:48.532845Z",
     "iopub.status.busy": "2023-12-11T14:48:48.532262Z",
     "iopub.status.idle": "2023-12-11T14:48:49.243163Z",
     "shell.execute_reply": "2023-12-11T14:48:49.242307Z"
    },
    "papermill": {
     "duration": 0.730981,
     "end_time": "2023-12-11T14:48:49.246632",
     "exception": false,
     "start_time": "2023-12-11T14:48:48.515651",
     "status": "completed"
    },
    "tags": []
   },
   "outputs": [
    {
     "data": {
      "image/png": "[encoded data removed]",
      "text/plain": [
       "<Figure size 500x250 with 2 Axes>"
      ]
     },
     "metadata": {},
     "output_type": "display_data"
    }
   ],
   "source": [
    "def plot_cpgs():\n",
    "    # Create figure\n",
    "    fig, axs = plt.subplots(1, 2, figsize=(5, 2.5), sharey=False, layout=\"constrained\")\n",
    "\n",
    "    # Plot CpG sites\n",
    "    axs[0].scatter(\n",
    "        x=ncg[\"mu\"],\n",
    "        y=np.log(1 - ncg[\"obs\"]),\n",
    "        alpha=1,\n",
    "        marker=\"o\",\n",
    "        s=10,\n",
    "        label=\"Non-CpG\",\n",
    "    )\n",
    "    axs[0].scatter(\n",
    "        x=cpg[\"mu\"],\n",
    "        y=np.log(1 - cpg[\"obs\"]),\n",
    "        alpha=1,\n",
    "        marker=\"^\",\n",
    "        s=10,\n",
    "        label=\"CpG\",\n",
    "        color=\"lightsteelblue\",\n",
    "    )\n",
    "    axs[0].set_title(\"All contexts\")\n",
    "    axs[0].set_ylabel(\"log(1 - proportion observed)\")\n",
    "    axs[0].legend(\n",
    "        title=\"Variant type\",\n",
    "        frameon=False,\n",
    "        labelcolor=\"linecolor\",\n",
    "        handletextpad=-0.5,\n",
    "        labelspacing=0.1,\n",
    "        alignment=\"left\",\n",
    "    )\n",
    "\n",
    "    # Plot non-CpG sites\n",
    "    axs[1].scatter(x=ncg[\"mu\"], y=np.log(1 - ncg[\"obs\"]), alpha=1, marker=\"o\", s=10)\n",
    "    axs[1].set_title(\"Non-CpG\")\n",
    "\n",
    "    for ax in axs:\n",
    "        ax.set_xlabel(\"Mutability\")\n",
    "\n",
    "\n",
    "plot_cpgs()"
   ]
  },
  {
   "cell_type": "markdown",
   "id": "34d7a286-0d65-45f6-8c44-f2c4bd279699",
   "metadata": {
    "papermill": {
     "duration": 0.02056,
     "end_time": "2023-12-11T14:48:49.309367",
     "exception": false,
     "start_time": "2023-12-11T14:48:49.288807",
     "status": "completed"
    },
    "tags": []
   },
   "source": [
    "### Number of possible variants\n",
    "The number of possible variants in each context is likely to be an important factor in building a model."
   ]
  },
  {
   "cell_type": "code",
   "execution_count": 11,
   "id": "ccebdab1-4f9b-47b6-95e1-2a70abb2580b",
   "metadata": {
    "execution": {
     "iopub.execute_input": "2023-12-11T14:48:49.351659Z",
     "iopub.status.busy": "2023-12-11T14:48:49.351179Z",
     "iopub.status.idle": "2023-12-11T14:48:50.209159Z",
     "shell.execute_reply": "2023-12-11T14:48:50.208355Z"
    },
    "papermill": {
     "duration": 0.884383,
     "end_time": "2023-12-11T14:48:50.213247",
     "exception": false,
     "start_time": "2023-12-11T14:48:49.328864",
     "status": "completed"
    },
    "tags": []
   },
   "outputs": [
    {
     "data": {
      "image/png": "[encoded data removed]",
      "text/plain": [
       "<Figure size 500x250 with 2 Axes>"
      ]
     },
     "metadata": {},
     "output_type": "display_data"
    }
   ],
   "source": [
    "def plot_n_pos():\n",
    "    # Create figure\n",
    "    fig, axs = plt.subplots(1, 2, figsize=(5, 2.5), sharey=False, layout=\"constrained\")\n",
    "\n",
    "    # Create colour map\n",
    "    col_norm = colors.LogNorm(vmin=cpg[\"pos\"].min(), vmax=ncg[\"pos\"].max())\n",
    "\n",
    "    # Create colour map legend\n",
    "    cmap = plt.cm.Blues\n",
    "    legend_elements = [\n",
    "        Line2D(\n",
    "            [0], [0], marker=\"o\", color=\"w\", markerfacecolor=cmap(0.2), label=\"$10^1$\"\n",
    "        ),\n",
    "        Line2D(\n",
    "            [0], [0], marker=\"o\", color=\"w\", markerfacecolor=cmap(0.4), label=\"$10^2$\"\n",
    "        ),\n",
    "        Line2D(\n",
    "            [0], [0], marker=\"o\", color=\"w\", markerfacecolor=cmap(0.6), label=\"$10^3$\"\n",
    "        ),\n",
    "        Line2D(\n",
    "            [0], [0], marker=\"o\", color=\"w\", markerfacecolor=cmap(0.8), label=\"$10^4$\"\n",
    "        ),\n",
    "        Line2D(\n",
    "            [0], [0], marker=\"o\", color=\"w\", markerfacecolor=cmap(0.99), label=\"$10^5$\"\n",
    "        ),\n",
    "    ]\n",
    "\n",
    "    # Plot CpG sites\n",
    "    axs[0].scatter(\n",
    "        x=ncg[\"mu\"],\n",
    "        y=np.log(1 - ncg[\"obs\"]),\n",
    "        alpha=1,\n",
    "        marker=\"o\",\n",
    "        s=10,\n",
    "        label=\"Non-CpG\",\n",
    "        c=ncg[\"pos\"],\n",
    "        norm=col_norm,\n",
    "        cmap=\"Blues\",\n",
    "    )\n",
    "    axs[0].scatter(\n",
    "        x=cpg[\"mu\"],\n",
    "        y=np.log(1 - cpg[\"obs\"]),\n",
    "        alpha=1,\n",
    "        marker=\"^\",\n",
    "        s=10,\n",
    "        label=\"CpG\",\n",
    "        c=cpg[\"pos\"],\n",
    "        norm=col_norm,\n",
    "        cmap=\"Blues\",\n",
    "    )\n",
    "    axs[0].set_title(\"All contexts\")\n",
    "    axs[0].set_ylabel(\"log(1 - proportion observed)\")\n",
    "    axs[0].legend(\n",
    "        title=\"Variant type\",\n",
    "        frameon=False,\n",
    "        labelcolor=\"linecolor\",\n",
    "        handletextpad=-0.5,\n",
    "        labelspacing=0.1,\n",
    "        alignment=\"left\",\n",
    "    )\n",
    "\n",
    "    # Plot non-CpG sites\n",
    "    axs[1].scatter(\n",
    "        x=ncg[\"mu\"],\n",
    "        y=np.log(1 - ncg[\"obs\"]),\n",
    "        alpha=1,\n",
    "        marker=\"o\",\n",
    "        s=10,\n",
    "        c=ncg[\"pos\"],\n",
    "        norm=col_norm,\n",
    "        cmap=\"Blues\",\n",
    "    )\n",
    "    axs[1].set_title(\"Non-CpG\")\n",
    "\n",
    "    # Colormap legend\n",
    "    axs[1].legend(\n",
    "        title=\"N possible\",\n",
    "        handles=legend_elements[::-1],\n",
    "        frameon=False,\n",
    "        alignment=\"right\",\n",
    "        labelspacing=-0.1,\n",
    "        handletextpad=-0.5,\n",
    "        # title_fontsize=20,\n",
    "        # fontsize=16,\n",
    "        loc=\"upper right\",\n",
    "    )\n",
    "\n",
    "    for ax in axs:\n",
    "        ax.set_xlabel(\"Mutability\")\n",
    "\n",
    "\n",
    "plot_n_pos()"
   ]
  },
  {
   "cell_type": "markdown",
   "id": "67169bcb-08fd-4677-954d-ec240a7f475c",
   "metadata": {
    "papermill": {
     "duration": 0.045382,
     "end_time": "2023-12-11T14:48:50.331003",
     "exception": false,
     "start_time": "2023-12-11T14:48:50.285621",
     "status": "completed"
    },
    "tags": []
   },
   "source": [
    "Highly mutable CpG positions generally have fewer possible variants. This probably explains the heteroskedasticity in the proportion of variants observed."
   ]
  },
  {
   "cell_type": "markdown",
   "id": "0be4d04e",
   "metadata": {
    "papermill": {
     "duration": 0.026451,
     "end_time": "2023-12-11T14:48:50.383807",
     "exception": false,
     "start_time": "2023-12-11T14:48:50.357356",
     "status": "completed"
    },
    "tags": []
   },
   "source": [
    "## Modelling CpG and non-CpG variants together"
   ]
  },
  {
   "cell_type": "markdown",
   "id": "1246d112",
   "metadata": {
    "papermill": {
     "duration": 0.06003,
     "end_time": "2023-12-11T14:48:50.486160",
     "exception": false,
     "start_time": "2023-12-11T14:48:50.426130",
     "status": "completed"
    },
    "tags": []
   },
   "source": [
    "### OLS model"
   ]
  },
  {
   "cell_type": "code",
   "execution_count": 12,
   "id": "28295c19-0c76-4c93-8811-d72e839d5be0",
   "metadata": {
    "execution": {
     "iopub.execute_input": "2023-12-11T14:48:50.538812Z",
     "iopub.status.busy": "2023-12-11T14:48:50.538273Z",
     "iopub.status.idle": "2023-12-11T14:48:50.575429Z",
     "shell.execute_reply": "2023-12-11T14:48:50.574489Z"
    },
    "papermill": {
     "duration": 0.065585,
     "end_time": "2023-12-11T14:48:50.578459",
     "exception": false,
     "start_time": "2023-12-11T14:48:50.512874",
     "status": "completed"
    },
    "tags": []
   },
   "outputs": [
    {
     "data": {
      "text/html": [
       "<table class=\"simpletable\">\n",
       "<caption>WLS Regression Results</caption>\n",
       "<tr>\n",
       "  <th>Dep. Variable:</th>       <td>obs</td>    <th>  R-squared:         </th> <td>   0.791</td> \n",
       "</tr>\n",
       "<tr>\n",
       "  <th>Model:</th>               <td>WLS</td>    <th>  Adj. R-squared:    </th> <td>   0.790</td> \n",
       "</tr>\n",
       "<tr>\n",
       "  <th>No. Observations:</th>  <td>   295</td>   <th>  F-statistic:       </th> <td>   1109.</td> \n",
       "</tr>\n",
       "<tr>\n",
       "  <th>Covariance Type:</th>  <td>nonrobust</td> <th>  Prob (F-statistic):</th> <td>1.26e-101</td>\n",
       "</tr>\n",
       "</table>\n",
       "<table class=\"simpletable\">\n",
       "<tr>\n",
       "    <td></td>       <th>coef</th>     <th>std err</th>      <th>t</th>      <th>P>|t|</th>  <th>[0.025</th>    <th>0.975]</th>  \n",
       "</tr>\n",
       "<tr>\n",
       "  <th>const</th> <td>   -0.3802</td> <td>    0.056</td> <td>   -6.805</td> <td> 0.000</td> <td>   -0.490</td> <td>   -0.270</td>\n",
       "</tr>\n",
       "<tr>\n",
       "  <th>mu</th>    <td>-2.127e+07</td> <td> 6.38e+05</td> <td>  -33.307</td> <td> 0.000</td> <td>-2.25e+07</td> <td>   -2e+07</td>\n",
       "</tr>\n",
       "</table><br/><br/>Notes:<br/>[1] Standard Errors assume that the covariance matrix of the errors is correctly specified.<br/>[2] The smallest eigenvalue is 1.47e-12. This might indicate that there are<br/>strong multicollinearity problems or that the design matrix is singular."
      ],
      "text/latex": [
       "\\begin{center}\n",
       "\\begin{tabular}{lclc}\n",
       "\\toprule\n",
       "\\textbf{Dep. Variable:}    &      obs      & \\textbf{  R-squared:         } &     0.791   \\\\\n",
       "\\textbf{Model:}            &      WLS      & \\textbf{  Adj. R-squared:    } &     0.790   \\\\\n",
       "\\textbf{No. Observations:} &        295    & \\textbf{  F-statistic:       } &     1109.   \\\\\n",
       "\\textbf{Covariance Type:}  &   nonrobust   & \\textbf{  Prob (F-statistic):} & 1.26e-101   \\\\\n",
       "\\bottomrule\n",
       "\\end{tabular}\n",
       "\\begin{tabular}{lcccccc}\n",
       "               & \\textbf{coef} & \\textbf{std err} & \\textbf{t} & \\textbf{P$> |$t$|$} & \\textbf{[0.025} & \\textbf{0.975]}  \\\\\n",
       "\\midrule\n",
       "\\textbf{const} &      -0.3802  &        0.056     &    -6.805  &         0.000        &       -0.490    &       -0.270     \\\\\n",
       "\\textbf{mu}    &   -2.127e+07  &     6.38e+05     &   -33.307  &         0.000        &    -2.25e+07    &       -2e+07     \\\\\n",
       "\\bottomrule\n",
       "\\end{tabular}\n",
       "%\\caption{WLS Regression Results}\n",
       "\\end{center}\n",
       "\n",
       "Notes: \\newline\n",
       " [1] Standard Errors assume that the covariance matrix of the errors is correctly specified. \\newline\n",
       " [2] The smallest eigenvalue is 1.47e-12. This might indicate that there are \\newline\n",
       " strong multicollinearity problems or that the design matrix is singular."
      ],
      "text/plain": [
       "<class 'statsmodels.iolib.summary.Summary'>\n",
       "\"\"\"\n",
       "                            WLS Regression Results                            \n",
       "==============================================================================\n",
       "Dep. Variable:                    obs   R-squared:                       0.791\n",
       "Model:                            WLS   Adj. R-squared:                  0.790\n",
       "No. Observations:                 295   F-statistic:                     1109.\n",
       "Covariance Type:            nonrobust   Prob (F-statistic):          1.26e-101\n",
       "==============================================================================\n",
       "                 coef    std err          t      P>|t|      [0.025      0.975]\n",
       "------------------------------------------------------------------------------\n",
       "const         -0.3802      0.056     -6.805      0.000      -0.490      -0.270\n",
       "mu         -2.127e+07   6.38e+05    -33.307      0.000   -2.25e+07      -2e+07\n",
       "==============================================================================\n",
       "\n",
       "Notes:\n",
       "[1] Standard Errors assume that the covariance matrix of the errors is correctly specified.\n",
       "[2] The smallest eigenvalue is 1.47e-12. This might indicate that there are\n",
       "strong multicollinearity problems or that the design matrix is singular.\n",
       "\"\"\""
      ]
     },
     "execution_count": 12,
     "metadata": {},
     "output_type": "execute_result"
    }
   ],
   "source": [
    "# Define the variables\n",
    "# Use non-saturated contexts\n",
    "y = np.log(1 - nonsat[\"obs\"])  # Transformed dependent variable\n",
    "X = sm.tools.add_constant(nonsat[\"mu\"])\n",
    "w = 1  # No weights\n",
    "\n",
    "# Build the model\n",
    "model = sm.WLS(\n",
    "    y,\n",
    "    X,\n",
    "    weights=w,\n",
    ")\n",
    "results = model.fit()\n",
    "results.summary(slim=True)"
   ]
  },
  {
   "cell_type": "markdown",
   "id": "ba0b6a8e-89e5-48b1-917a-e1dd6c166af1",
   "metadata": {
    "papermill": {
     "duration": 0.02727,
     "end_time": "2023-12-11T14:48:50.674725",
     "exception": false,
     "start_time": "2023-12-11T14:48:50.647455",
     "status": "completed"
    },
    "tags": []
   },
   "source": [
    "A simple OLS model performs well. Below, we try weighting the model by the number of possible variants."
   ]
  },
  {
   "cell_type": "markdown",
   "id": "c4e17ccd-daa7-4a55-9188-1ca1e230b45e",
   "metadata": {
    "papermill": {
     "duration": 0.028943,
     "end_time": "2023-12-11T14:48:50.763172",
     "exception": false,
     "start_time": "2023-12-11T14:48:50.734229",
     "status": "completed"
    },
    "tags": []
   },
   "source": [
    "### WLS model"
   ]
  },
  {
   "cell_type": "code",
   "execution_count": 13,
   "id": "3306c53e-26bc-4c2a-bf4f-03d25e205361",
   "metadata": {
    "execution": {
     "iopub.execute_input": "2023-12-11T14:48:50.866826Z",
     "iopub.status.busy": "2023-12-11T14:48:50.866311Z",
     "iopub.status.idle": "2023-12-11T14:48:50.901891Z",
     "shell.execute_reply": "2023-12-11T14:48:50.900935Z"
    },
    "papermill": {
     "duration": 0.079759,
     "end_time": "2023-12-11T14:48:50.904279",
     "exception": false,
     "start_time": "2023-12-11T14:48:50.824520",
     "status": "completed"
    },
    "tags": []
   },
   "outputs": [
    {
     "data": {
      "text/html": [
       "<table class=\"simpletable\">\n",
       "<caption>WLS Regression Results</caption>\n",
       "<tr>\n",
       "  <th>Dep. Variable:</th>       <td>obs</td>    <th>  R-squared:         </th> <td>   0.964</td> \n",
       "</tr>\n",
       "<tr>\n",
       "  <th>Model:</th>               <td>WLS</td>    <th>  Adj. R-squared:    </th> <td>   0.964</td> \n",
       "</tr>\n",
       "<tr>\n",
       "  <th>No. Observations:</th>  <td>   295</td>   <th>  F-statistic:       </th> <td>   7915.</td> \n",
       "</tr>\n",
       "<tr>\n",
       "  <th>Covariance Type:</th>  <td>nonrobust</td> <th>  Prob (F-statistic):</th> <td>4.34e-214</td>\n",
       "</tr>\n",
       "</table>\n",
       "<table class=\"simpletable\">\n",
       "<tr>\n",
       "    <td></td>       <th>coef</th>     <th>std err</th>      <th>t</th>      <th>P>|t|</th>  <th>[0.025</th>    <th>0.975]</th>  \n",
       "</tr>\n",
       "<tr>\n",
       "  <th>const</th> <td>   -0.1148</td> <td>    0.007</td> <td>  -16.148</td> <td> 0.000</td> <td>   -0.129</td> <td>   -0.101</td>\n",
       "</tr>\n",
       "<tr>\n",
       "  <th>mu</th>    <td>-3.634e+07</td> <td> 4.08e+05</td> <td>  -88.966</td> <td> 0.000</td> <td>-3.71e+07</td> <td>-3.55e+07</td>\n",
       "</tr>\n",
       "</table><br/><br/>Notes:<br/>[1] Standard Errors assume that the covariance matrix of the errors is correctly specified.<br/>[2] The condition number is large, 6.24e+07. This might indicate that there are<br/>strong multicollinearity or other numerical problems."
      ],
      "text/latex": [
       "\\begin{center}\n",
       "\\begin{tabular}{lclc}\n",
       "\\toprule\n",
       "\\textbf{Dep. Variable:}    &      obs      & \\textbf{  R-squared:         } &     0.964   \\\\\n",
       "\\textbf{Model:}            &      WLS      & \\textbf{  Adj. R-squared:    } &     0.964   \\\\\n",
       "\\textbf{No. Observations:} &        295    & \\textbf{  F-statistic:       } &     7915.   \\\\\n",
       "\\textbf{Covariance Type:}  &   nonrobust   & \\textbf{  Prob (F-statistic):} & 4.34e-214   \\\\\n",
       "\\bottomrule\n",
       "\\end{tabular}\n",
       "\\begin{tabular}{lcccccc}\n",
       "               & \\textbf{coef} & \\textbf{std err} & \\textbf{t} & \\textbf{P$> |$t$|$} & \\textbf{[0.025} & \\textbf{0.975]}  \\\\\n",
       "\\midrule\n",
       "\\textbf{const} &      -0.1148  &        0.007     &   -16.148  &         0.000        &       -0.129    &       -0.101     \\\\\n",
       "\\textbf{mu}    &   -3.634e+07  &     4.08e+05     &   -88.966  &         0.000        &    -3.71e+07    &    -3.55e+07     \\\\\n",
       "\\bottomrule\n",
       "\\end{tabular}\n",
       "%\\caption{WLS Regression Results}\n",
       "\\end{center}\n",
       "\n",
       "Notes: \\newline\n",
       " [1] Standard Errors assume that the covariance matrix of the errors is correctly specified. \\newline\n",
       " [2] The condition number is large, 6.24e+07. This might indicate that there are \\newline\n",
       " strong multicollinearity or other numerical problems."
      ],
      "text/plain": [
       "<class 'statsmodels.iolib.summary.Summary'>\n",
       "\"\"\"\n",
       "                            WLS Regression Results                            \n",
       "==============================================================================\n",
       "Dep. Variable:                    obs   R-squared:                       0.964\n",
       "Model:                            WLS   Adj. R-squared:                  0.964\n",
       "No. Observations:                 295   F-statistic:                     7915.\n",
       "Covariance Type:            nonrobust   Prob (F-statistic):          4.34e-214\n",
       "==============================================================================\n",
       "                 coef    std err          t      P>|t|      [0.025      0.975]\n",
       "------------------------------------------------------------------------------\n",
       "const         -0.1148      0.007    -16.148      0.000      -0.129      -0.101\n",
       "mu         -3.634e+07   4.08e+05    -88.966      0.000   -3.71e+07   -3.55e+07\n",
       "==============================================================================\n",
       "\n",
       "Notes:\n",
       "[1] Standard Errors assume that the covariance matrix of the errors is correctly specified.\n",
       "[2] The condition number is large, 6.24e+07. This might indicate that there are\n",
       "strong multicollinearity or other numerical problems.\n",
       "\"\"\""
      ]
     },
     "execution_count": 13,
     "metadata": {},
     "output_type": "execute_result"
    }
   ],
   "source": [
    "# Define the variables\n",
    "# Use non-saturated contexts\n",
    "y = np.log(1 - nonsat[\"obs\"])  # Transformed dependent variable\n",
    "X = sm.tools.add_constant(nonsat[\"mu\"])\n",
    "w = nonsat[\"pos\"]\n",
    "\n",
    "# Build the model\n",
    "wmodel = sm.WLS(\n",
    "    y,\n",
    "    X,\n",
    "    weights=w,\n",
    ")\n",
    "wresults = wmodel.fit()\n",
    "wresults.summary(slim=True)"
   ]
  },
  {
   "cell_type": "markdown",
   "id": "7f58f797-f353-4eef-8a9d-d29269b23214",
   "metadata": {
    "papermill": {
     "duration": 0.043876,
     "end_time": "2023-12-11T14:48:50.970981",
     "exception": false,
     "start_time": "2023-12-11T14:48:50.927105",
     "status": "completed"
    },
    "tags": []
   },
   "source": [
    "There is a substantial improvement in the R2, F statistic, and t statistic in the weighted model."
   ]
  },
  {
   "cell_type": "markdown",
   "id": "5d1b3a0a-e85b-4398-b6ef-9c4fa1ae96ad",
   "metadata": {
    "papermill": {
     "duration": 0.022463,
     "end_time": "2023-12-11T14:48:51.032486",
     "exception": false,
     "start_time": "2023-12-11T14:48:51.010023",
     "status": "completed"
    },
    "tags": []
   },
   "source": [
    "### WLS model performance on CpG and non-CpG contexts"
   ]
  },
  {
   "cell_type": "code",
   "execution_count": 14,
   "id": "74e44385-656e-441b-871e-f8c10bec41a7",
   "metadata": {
    "execution": {
     "iopub.execute_input": "2023-12-11T14:48:51.080913Z",
     "iopub.status.busy": "2023-12-11T14:48:51.080420Z",
     "iopub.status.idle": "2023-12-11T14:48:51.663284Z",
     "shell.execute_reply": "2023-12-11T14:48:51.662582Z"
    },
    "papermill": {
     "duration": 0.610285,
     "end_time": "2023-12-11T14:48:51.666781",
     "exception": false,
     "start_time": "2023-12-11T14:48:51.056496",
     "status": "completed"
    },
    "tags": []
   },
   "outputs": [
    {
     "name": "stdout",
     "output_type": "stream",
     "text": [
      "R2 for CpG contexts: 0.8516658215551226\n",
      "R2 for non-CpG contexts: 0.7820495177818401\n"
     ]
    },
    {
     "data": {
      "text/plain": [
       "<matplotlib.lines._AxLine at 0x7ff08de909d0>"
      ]
     },
     "execution_count": 14,
     "metadata": {},
     "output_type": "execute_result"
    },
    {
     "data": {
      "image/png": "[encoded data removed]",
      "text/plain": [
       "<Figure size 500x250 with 2 Axes>"
      ]
     },
     "metadata": {},
     "output_type": "display_data"
    }
   ],
   "source": [
    "# Create the figure\n",
    "fig, axs = plt.subplots(1, 2, figsize=(5, 2.5), layout=\"constrained\")\n",
    "\n",
    "# CpG contexts\n",
    "## Create the variables\n",
    "x = cpg[\"obs\"]\n",
    "y = 1 - np.exp(wresults.predict(sm.tools.add_constant(cpg[\"mu\"])))\n",
    "\n",
    "print(f\"R2 for CpG contexts: {r2_score(x,y)}\")\n",
    "\n",
    "## Scatter plot\n",
    "axs[0].scatter(x, y)\n",
    "axs[0].set_xlabel(\"Proportion observed\")\n",
    "axs[0].set_ylabel(\"Fitted proportion\\nobserved\")\n",
    "axs[0].set_title(\"CpG\")\n",
    "\n",
    "## Set axis limits\n",
    "xy_min = min((axs[0].get_xlim()[0], axs[0].get_ylim()[0]))\n",
    "xy_max = max((axs[0].get_xlim()[1], axs[0].get_ylim()[1]))\n",
    "axs[0].set_xlim(xy_min, xy_max)\n",
    "axs[0].set_ylim(xy_min, xy_max)\n",
    "\n",
    "## Add x = y line\n",
    "axs[0].axline((0, 0), slope=1, color=\"grey\", linestyle=\"--\")\n",
    "\n",
    "# Non-CpG contexts\n",
    "## Create the variables\n",
    "_x = ncg[\"obs\"]\n",
    "_y = 1 - np.exp(wresults.predict(sm.tools.add_constant(ncg[\"mu\"])))\n",
    "\n",
    "## Print R2 values\n",
    "print(f\"R2 for non-CpG contexts: {r2_score(_x,_y)}\")\n",
    "\n",
    "## Scatter plot\n",
    "axs[1].scatter(_x, _y)\n",
    "axs[1].set_xlabel(\"Proportion observed\")\n",
    "axs[1].set_title(\"Non-CpG\")\n",
    "\n",
    "## Set axis limits\n",
    "xy_min = min((axs[1].get_xlim()[0], axs[1].get_ylim()[0]))\n",
    "xy_max = max((axs[1].get_xlim()[1], axs[1].get_ylim()[1]))\n",
    "axs[1].set_xlim(xy_min, xy_max)\n",
    "axs[1].set_ylim(xy_min, xy_max)\n",
    "\n",
    "## Add x = y line\n",
    "axs[1].axline((0, 0), slope=1, color=\"grey\", linestyle=\"--\")"
   ]
  },
  {
   "cell_type": "markdown",
   "id": "bdf929be-854c-4283-9b46-df62b4f884e9",
   "metadata": {
    "papermill": {
     "duration": 0.026603,
     "end_time": "2023-12-11T14:48:51.723063",
     "exception": false,
     "start_time": "2023-12-11T14:48:51.696460",
     "status": "completed"
    },
    "tags": []
   },
   "source": [
    "The model performs reasonably well for CpG sites, but less well for non-CpG sites. There is an argument for fitting two separate models: one for CpG sites, one for non-CpG sites. What proportion of synonymous contexts are CpG sites?"
   ]
  },
  {
   "cell_type": "code",
   "execution_count": 15,
   "id": "3eebfac4-884b-4370-8c5e-c189a987b8c4",
   "metadata": {
    "execution": {
     "iopub.execute_input": "2023-12-11T14:48:51.791303Z",
     "iopub.status.busy": "2023-12-11T14:48:51.790801Z",
     "iopub.status.idle": "2023-12-11T14:48:51.803907Z",
     "shell.execute_reply": "2023-12-11T14:48:51.802862Z"
    },
    "papermill": {
     "duration": 0.050256,
     "end_time": "2023-12-11T14:48:51.806634",
     "exception": false,
     "start_time": "2023-12-11T14:48:51.756378",
     "status": "completed"
    },
    "tags": []
   },
   "outputs": [
    {
     "data": {
      "text/plain": [
       "variant_type\n",
       "CpG        0.032151\n",
       "non-CpG    0.967849\n",
       "Name: pos, dtype: float64"
      ]
     },
     "execution_count": 15,
     "metadata": {},
     "output_type": "execute_result"
    }
   ],
   "source": [
    "# Calculate the proportion of synonymous contexts which are CpG sites\n",
    "df.groupby(\"variant_type\")[\"pos\"].sum() / df[\"pos\"].sum()"
   ]
  },
  {
   "cell_type": "markdown",
   "id": "342cbf81-8f61-4947-9286-4040182ca563",
   "metadata": {
    "papermill": {
     "duration": 0.022552,
     "end_time": "2023-12-11T14:48:51.861580",
     "exception": false,
     "start_time": "2023-12-11T14:48:51.839028",
     "status": "completed"
    },
    "tags": []
   },
   "source": [
    "Only ~3% of synonymous contexts are CpG sites. It the poor performance of the model on non-CpG sites is therefore not acceptable."
   ]
  },
  {
   "cell_type": "markdown",
   "id": "ea14e99d-1a6b-44f0-8316-a48d2f4c6956",
   "metadata": {
    "papermill": {
     "duration": 0.063585,
     "end_time": "2023-12-11T14:48:51.949103",
     "exception": false,
     "start_time": "2023-12-11T14:48:51.885518",
     "status": "completed"
    },
    "tags": []
   },
   "source": [
    "## Separate models for CpG and non-CpG sites"
   ]
  },
  {
   "cell_type": "markdown",
   "id": "f427f9d7-b1da-43d0-b9b6-5d7041b9a086",
   "metadata": {
    "papermill": {
     "duration": 0.029646,
     "end_time": "2023-12-11T14:48:52.016066",
     "exception": false,
     "start_time": "2023-12-11T14:48:51.986420",
     "status": "completed"
    },
    "tags": []
   },
   "source": [
    "### CpG contexts"
   ]
  },
  {
   "cell_type": "code",
   "execution_count": 16,
   "id": "d00263e1-fd8f-4748-94a5-4384e236fb33",
   "metadata": {
    "execution": {
     "iopub.execute_input": "2023-12-11T14:48:52.075032Z",
     "iopub.status.busy": "2023-12-11T14:48:52.074520Z",
     "iopub.status.idle": "2023-12-11T14:48:52.109997Z",
     "shell.execute_reply": "2023-12-11T14:48:52.108946Z"
    },
    "papermill": {
     "duration": 0.068079,
     "end_time": "2023-12-11T14:48:52.112288",
     "exception": false,
     "start_time": "2023-12-11T14:48:52.044209",
     "status": "completed"
    },
    "tags": []
   },
   "outputs": [
    {
     "data": {
      "text/html": [
       "<table class=\"simpletable\">\n",
       "<caption>WLS Regression Results</caption>\n",
       "<tr>\n",
       "  <th>Dep. Variable:</th>       <td>obs</td>    <th>  R-squared:         </th> <td>   0.921</td>\n",
       "</tr>\n",
       "<tr>\n",
       "  <th>Model:</th>               <td>WLS</td>    <th>  Adj. R-squared:    </th> <td>   0.920</td>\n",
       "</tr>\n",
       "<tr>\n",
       "  <th>No. Observations:</th>  <td>   119</td>   <th>  F-statistic:       </th> <td>   1363.</td>\n",
       "</tr>\n",
       "<tr>\n",
       "  <th>Covariance Type:</th>  <td>nonrobust</td> <th>  Prob (F-statistic):</th> <td>2.62e-66</td>\n",
       "</tr>\n",
       "</table>\n",
       "<table class=\"simpletable\">\n",
       "<tr>\n",
       "    <td></td>       <th>coef</th>     <th>std err</th>      <th>t</th>      <th>P>|t|</th>  <th>[0.025</th>    <th>0.975]</th>  \n",
       "</tr>\n",
       "<tr>\n",
       "  <th>const</th> <td>   -0.5548</td> <td>    0.080</td> <td>   -6.965</td> <td> 0.000</td> <td>   -0.713</td> <td>   -0.397</td>\n",
       "</tr>\n",
       "<tr>\n",
       "  <th>mu</th>    <td>-3.167e+07</td> <td> 8.58e+05</td> <td>  -36.915</td> <td> 0.000</td> <td>-3.34e+07</td> <td>   -3e+07</td>\n",
       "</tr>\n",
       "</table><br/><br/>Notes:<br/>[1] Standard Errors assume that the covariance matrix of the errors is correctly specified.<br/>[2] The condition number is large, 2.13e+07. This might indicate that there are<br/>strong multicollinearity or other numerical problems."
      ],
      "text/latex": [
       "\\begin{center}\n",
       "\\begin{tabular}{lclc}\n",
       "\\toprule\n",
       "\\textbf{Dep. Variable:}    &      obs      & \\textbf{  R-squared:         } &     0.921   \\\\\n",
       "\\textbf{Model:}            &      WLS      & \\textbf{  Adj. R-squared:    } &     0.920   \\\\\n",
       "\\textbf{No. Observations:} &        119    & \\textbf{  F-statistic:       } &     1363.   \\\\\n",
       "\\textbf{Covariance Type:}  &   nonrobust   & \\textbf{  Prob (F-statistic):} &  2.62e-66   \\\\\n",
       "\\bottomrule\n",
       "\\end{tabular}\n",
       "\\begin{tabular}{lcccccc}\n",
       "               & \\textbf{coef} & \\textbf{std err} & \\textbf{t} & \\textbf{P$> |$t$|$} & \\textbf{[0.025} & \\textbf{0.975]}  \\\\\n",
       "\\midrule\n",
       "\\textbf{const} &      -0.5548  &        0.080     &    -6.965  &         0.000        &       -0.713    &       -0.397     \\\\\n",
       "\\textbf{mu}    &   -3.167e+07  &     8.58e+05     &   -36.915  &         0.000        &    -3.34e+07    &       -3e+07     \\\\\n",
       "\\bottomrule\n",
       "\\end{tabular}\n",
       "%\\caption{WLS Regression Results}\n",
       "\\end{center}\n",
       "\n",
       "Notes: \\newline\n",
       " [1] Standard Errors assume that the covariance matrix of the errors is correctly specified. \\newline\n",
       " [2] The condition number is large, 2.13e+07. This might indicate that there are \\newline\n",
       " strong multicollinearity or other numerical problems."
      ],
      "text/plain": [
       "<class 'statsmodels.iolib.summary.Summary'>\n",
       "\"\"\"\n",
       "                            WLS Regression Results                            \n",
       "==============================================================================\n",
       "Dep. Variable:                    obs   R-squared:                       0.921\n",
       "Model:                            WLS   Adj. R-squared:                  0.920\n",
       "No. Observations:                 119   F-statistic:                     1363.\n",
       "Covariance Type:            nonrobust   Prob (F-statistic):           2.62e-66\n",
       "==============================================================================\n",
       "                 coef    std err          t      P>|t|      [0.025      0.975]\n",
       "------------------------------------------------------------------------------\n",
       "const         -0.5548      0.080     -6.965      0.000      -0.713      -0.397\n",
       "mu         -3.167e+07   8.58e+05    -36.915      0.000   -3.34e+07      -3e+07\n",
       "==============================================================================\n",
       "\n",
       "Notes:\n",
       "[1] Standard Errors assume that the covariance matrix of the errors is correctly specified.\n",
       "[2] The condition number is large, 2.13e+07. This might indicate that there are\n",
       "strong multicollinearity or other numerical problems.\n",
       "\"\"\""
      ]
     },
     "execution_count": 16,
     "metadata": {},
     "output_type": "execute_result"
    }
   ],
   "source": [
    "# Define the variables\n",
    "# Use non-saturated contexts\n",
    "y = np.log(1 - cpg[\"obs\"])  # Transformed dependent variable\n",
    "X = sm.tools.add_constant(cpg[\"mu\"])\n",
    "w = cpg[\"pos\"]\n",
    "\n",
    "# Build the model\n",
    "cpg_model = sm.WLS(\n",
    "    y,\n",
    "    X,\n",
    "    weights=w,\n",
    ")\n",
    "cpg_results = cpg_model.fit()\n",
    "cpg_results.summary(slim=True)"
   ]
  },
  {
   "cell_type": "markdown",
   "id": "3e704e5a-9939-47f3-bdb3-cf66a8b02b1a",
   "metadata": {
    "papermill": {
     "duration": 0.021727,
     "end_time": "2023-12-11T14:48:52.157968",
     "exception": false,
     "start_time": "2023-12-11T14:48:52.136241",
     "status": "completed"
    },
    "tags": []
   },
   "source": [
    "The CpG model is fairly performant."
   ]
  },
  {
   "cell_type": "markdown",
   "id": "f1a92af0-ae35-432d-9494-51798c211dc6",
   "metadata": {
    "papermill": {
     "duration": 0.03483,
     "end_time": "2023-12-11T14:48:52.213239",
     "exception": false,
     "start_time": "2023-12-11T14:48:52.178409",
     "status": "completed"
    },
    "tags": []
   },
   "source": [
    "### Non-CpG contexts\n",
    "Non-CpG contexts have a more linear relationship between proportion observed and mutability. Does a log-linear model still outperform a simple linear model?"
   ]
  },
  {
   "cell_type": "markdown",
   "id": "aa7e1094-b7c1-4567-aad1-434dad4a82b6",
   "metadata": {
    "papermill": {
     "duration": 0.028756,
     "end_time": "2023-12-11T14:48:52.268167",
     "exception": false,
     "start_time": "2023-12-11T14:48:52.239411",
     "status": "completed"
    },
    "tags": []
   },
   "source": [
    "#### Linear model"
   ]
  },
  {
   "cell_type": "code",
   "execution_count": 17,
   "id": "019b557e-6fa4-47d4-aa0d-d0e729b68b8c",
   "metadata": {
    "execution": {
     "iopub.execute_input": "2023-12-11T14:48:52.335876Z",
     "iopub.status.busy": "2023-12-11T14:48:52.335351Z",
     "iopub.status.idle": "2023-12-11T14:48:52.368568Z",
     "shell.execute_reply": "2023-12-11T14:48:52.367608Z"
    },
    "papermill": {
     "duration": 0.064032,
     "end_time": "2023-12-11T14:48:52.370594",
     "exception": false,
     "start_time": "2023-12-11T14:48:52.306562",
     "status": "completed"
    },
    "tags": []
   },
   "outputs": [
    {
     "data": {
      "text/html": [
       "<table class=\"simpletable\">\n",
       "<caption>WLS Regression Results</caption>\n",
       "<tr>\n",
       "  <th>Dep. Variable:</th>       <td>obs</td>    <th>  R-squared:         </th> <td>   0.953</td> \n",
       "</tr>\n",
       "<tr>\n",
       "  <th>Model:</th>               <td>WLS</td>    <th>  Adj. R-squared:    </th> <td>   0.953</td> \n",
       "</tr>\n",
       "<tr>\n",
       "  <th>No. Observations:</th>  <td>   176</td>   <th>  F-statistic:       </th> <td>   3559.</td> \n",
       "</tr>\n",
       "<tr>\n",
       "  <th>Covariance Type:</th>  <td>nonrobust</td> <th>  Prob (F-statistic):</th> <td>8.87e-118</td>\n",
       "</tr>\n",
       "</table>\n",
       "<table class=\"simpletable\">\n",
       "<tr>\n",
       "    <td></td>       <th>coef</th>     <th>std err</th>      <th>t</th>      <th>P>|t|</th>  <th>[0.025</th>    <th>0.975]</th>  \n",
       "</tr>\n",
       "<tr>\n",
       "  <th>const</th> <td>    0.0371</td> <td>    0.004</td> <td>    9.806</td> <td> 0.000</td> <td>    0.030</td> <td>    0.045</td>\n",
       "</tr>\n",
       "<tr>\n",
       "  <th>mu</th>    <td> 4.351e+07</td> <td> 7.29e+05</td> <td>   59.659</td> <td> 0.000</td> <td> 4.21e+07</td> <td> 4.49e+07</td>\n",
       "</tr>\n",
       "</table><br/><br/>Notes:<br/>[1] Standard Errors assume that the covariance matrix of the errors is correctly specified.<br/>[2] The condition number is large, 3.57e+08. This might indicate that there are<br/>strong multicollinearity or other numerical problems."
      ],
      "text/latex": [
       "\\begin{center}\n",
       "\\begin{tabular}{lclc}\n",
       "\\toprule\n",
       "\\textbf{Dep. Variable:}    &      obs      & \\textbf{  R-squared:         } &     0.953   \\\\\n",
       "\\textbf{Model:}            &      WLS      & \\textbf{  Adj. R-squared:    } &     0.953   \\\\\n",
       "\\textbf{No. Observations:} &        176    & \\textbf{  F-statistic:       } &     3559.   \\\\\n",
       "\\textbf{Covariance Type:}  &   nonrobust   & \\textbf{  Prob (F-statistic):} & 8.87e-118   \\\\\n",
       "\\bottomrule\n",
       "\\end{tabular}\n",
       "\\begin{tabular}{lcccccc}\n",
       "               & \\textbf{coef} & \\textbf{std err} & \\textbf{t} & \\textbf{P$> |$t$|$} & \\textbf{[0.025} & \\textbf{0.975]}  \\\\\n",
       "\\midrule\n",
       "\\textbf{const} &       0.0371  &        0.004     &     9.806  &         0.000        &        0.030    &        0.045     \\\\\n",
       "\\textbf{mu}    &    4.351e+07  &     7.29e+05     &    59.659  &         0.000        &     4.21e+07    &     4.49e+07     \\\\\n",
       "\\bottomrule\n",
       "\\end{tabular}\n",
       "%\\caption{WLS Regression Results}\n",
       "\\end{center}\n",
       "\n",
       "Notes: \\newline\n",
       " [1] Standard Errors assume that the covariance matrix of the errors is correctly specified. \\newline\n",
       " [2] The condition number is large, 3.57e+08. This might indicate that there are \\newline\n",
       " strong multicollinearity or other numerical problems."
      ],
      "text/plain": [
       "<class 'statsmodels.iolib.summary.Summary'>\n",
       "\"\"\"\n",
       "                            WLS Regression Results                            \n",
       "==============================================================================\n",
       "Dep. Variable:                    obs   R-squared:                       0.953\n",
       "Model:                            WLS   Adj. R-squared:                  0.953\n",
       "No. Observations:                 176   F-statistic:                     3559.\n",
       "Covariance Type:            nonrobust   Prob (F-statistic):          8.87e-118\n",
       "==============================================================================\n",
       "                 coef    std err          t      P>|t|      [0.025      0.975]\n",
       "------------------------------------------------------------------------------\n",
       "const          0.0371      0.004      9.806      0.000       0.030       0.045\n",
       "mu          4.351e+07   7.29e+05     59.659      0.000    4.21e+07    4.49e+07\n",
       "==============================================================================\n",
       "\n",
       "Notes:\n",
       "[1] Standard Errors assume that the covariance matrix of the errors is correctly specified.\n",
       "[2] The condition number is large, 3.57e+08. This might indicate that there are\n",
       "strong multicollinearity or other numerical problems.\n",
       "\"\"\""
      ]
     },
     "execution_count": 17,
     "metadata": {},
     "output_type": "execute_result"
    }
   ],
   "source": [
    "# Define the variables\n",
    "# Use non-saturated contexts\n",
    "y = ncg[\"obs\"]  # The dependent variable is not transformed\n",
    "X = sm.tools.add_constant(ncg[\"mu\"])\n",
    "w = ncg[\"pos\"]\n",
    "\n",
    "# Build the model\n",
    "ncg_model = sm.WLS(\n",
    "    y,\n",
    "    X,\n",
    "    weights=w,\n",
    ")\n",
    "ncg_results = ncg_model.fit()\n",
    "ncg_results.summary(slim=True)"
   ]
  },
  {
   "cell_type": "markdown",
   "id": "8dd9d6d6-9493-4b97-bb1b-01bc721efd4c",
   "metadata": {
    "papermill": {
     "duration": 0.020169,
     "end_time": "2023-12-11T14:48:52.420216",
     "exception": false,
     "start_time": "2023-12-11T14:48:52.400047",
     "status": "completed"
    },
    "tags": []
   },
   "source": [
    "#### Log-linear model"
   ]
  },
  {
   "cell_type": "code",
   "execution_count": 18,
   "id": "5004bd7a-f427-45c8-b813-b37d406eb2d6",
   "metadata": {
    "execution": {
     "iopub.execute_input": "2023-12-11T14:48:52.458148Z",
     "iopub.status.busy": "2023-12-11T14:48:52.457739Z",
     "iopub.status.idle": "2023-12-11T14:48:52.491740Z",
     "shell.execute_reply": "2023-12-11T14:48:52.490646Z"
    },
    "papermill": {
     "duration": 0.055598,
     "end_time": "2023-12-11T14:48:52.493427",
     "exception": false,
     "start_time": "2023-12-11T14:48:52.437829",
     "status": "completed"
    },
    "tags": []
   },
   "outputs": [
    {
     "data": {
      "text/html": [
       "<table class=\"simpletable\">\n",
       "<caption>WLS Regression Results</caption>\n",
       "<tr>\n",
       "  <th>Dep. Variable:</th>       <td>obs</td>    <th>  R-squared:         </th> <td>   0.965</td> \n",
       "</tr>\n",
       "<tr>\n",
       "  <th>Model:</th>               <td>WLS</td>    <th>  Adj. R-squared:    </th> <td>   0.965</td> \n",
       "</tr>\n",
       "<tr>\n",
       "  <th>No. Observations:</th>  <td>   176</td>   <th>  F-statistic:       </th> <td>   4816.</td> \n",
       "</tr>\n",
       "<tr>\n",
       "  <th>Covariance Type:</th>  <td>nonrobust</td> <th>  Prob (F-statistic):</th> <td>9.51e-129</td>\n",
       "</tr>\n",
       "</table>\n",
       "<table class=\"simpletable\">\n",
       "<tr>\n",
       "    <td></td>       <th>coef</th>     <th>std err</th>      <th>t</th>      <th>P>|t|</th>  <th>[0.025</th>    <th>0.975]</th>  \n",
       "</tr>\n",
       "<tr>\n",
       "  <th>const</th> <td>   -0.0148</td> <td>    0.004</td> <td>   -3.372</td> <td> 0.001</td> <td>   -0.023</td> <td>   -0.006</td>\n",
       "</tr>\n",
       "<tr>\n",
       "  <th>mu</th>    <td>-5.872e+07</td> <td> 8.46e+05</td> <td>  -69.401</td> <td> 0.000</td> <td>-6.04e+07</td> <td>-5.71e+07</td>\n",
       "</tr>\n",
       "</table><br/><br/>Notes:<br/>[1] Standard Errors assume that the covariance matrix of the errors is correctly specified.<br/>[2] The condition number is large, 3.57e+08. This might indicate that there are<br/>strong multicollinearity or other numerical problems."
      ],
      "text/latex": [
       "\\begin{center}\n",
       "\\begin{tabular}{lclc}\n",
       "\\toprule\n",
       "\\textbf{Dep. Variable:}    &      obs      & \\textbf{  R-squared:         } &     0.965   \\\\\n",
       "\\textbf{Model:}            &      WLS      & \\textbf{  Adj. R-squared:    } &     0.965   \\\\\n",
       "\\textbf{No. Observations:} &        176    & \\textbf{  F-statistic:       } &     4816.   \\\\\n",
       "\\textbf{Covariance Type:}  &   nonrobust   & \\textbf{  Prob (F-statistic):} & 9.51e-129   \\\\\n",
       "\\bottomrule\n",
       "\\end{tabular}\n",
       "\\begin{tabular}{lcccccc}\n",
       "               & \\textbf{coef} & \\textbf{std err} & \\textbf{t} & \\textbf{P$> |$t$|$} & \\textbf{[0.025} & \\textbf{0.975]}  \\\\\n",
       "\\midrule\n",
       "\\textbf{const} &      -0.0148  &        0.004     &    -3.372  &         0.001        &       -0.023    &       -0.006     \\\\\n",
       "\\textbf{mu}    &   -5.872e+07  &     8.46e+05     &   -69.401  &         0.000        &    -6.04e+07    &    -5.71e+07     \\\\\n",
       "\\bottomrule\n",
       "\\end{tabular}\n",
       "%\\caption{WLS Regression Results}\n",
       "\\end{center}\n",
       "\n",
       "Notes: \\newline\n",
       " [1] Standard Errors assume that the covariance matrix of the errors is correctly specified. \\newline\n",
       " [2] The condition number is large, 3.57e+08. This might indicate that there are \\newline\n",
       " strong multicollinearity or other numerical problems."
      ],
      "text/plain": [
       "<class 'statsmodels.iolib.summary.Summary'>\n",
       "\"\"\"\n",
       "                            WLS Regression Results                            \n",
       "==============================================================================\n",
       "Dep. Variable:                    obs   R-squared:                       0.965\n",
       "Model:                            WLS   Adj. R-squared:                  0.965\n",
       "No. Observations:                 176   F-statistic:                     4816.\n",
       "Covariance Type:            nonrobust   Prob (F-statistic):          9.51e-129\n",
       "==============================================================================\n",
       "                 coef    std err          t      P>|t|      [0.025      0.975]\n",
       "------------------------------------------------------------------------------\n",
       "const         -0.0148      0.004     -3.372      0.001      -0.023      -0.006\n",
       "mu         -5.872e+07   8.46e+05    -69.401      0.000   -6.04e+07   -5.71e+07\n",
       "==============================================================================\n",
       "\n",
       "Notes:\n",
       "[1] Standard Errors assume that the covariance matrix of the errors is correctly specified.\n",
       "[2] The condition number is large, 3.57e+08. This might indicate that there are\n",
       "strong multicollinearity or other numerical problems.\n",
       "\"\"\""
      ]
     },
     "execution_count": 18,
     "metadata": {},
     "output_type": "execute_result"
    }
   ],
   "source": [
    "# Define the variables\n",
    "# Use non-saturated contexts\n",
    "y = np.log(1 - ncg[\"obs\"])  # Transformed dependent variable\n",
    "X = sm.tools.add_constant(ncg[\"mu\"])\n",
    "w = ncg[\"pos\"]\n",
    "\n",
    "# Build the model\n",
    "ncg_model = sm.WLS(\n",
    "    y,\n",
    "    X,\n",
    "    weights=w,\n",
    ")\n",
    "ncg_results = ncg_model.fit()\n",
    "ncg_results.summary(slim=True)"
   ]
  },
  {
   "cell_type": "markdown",
   "id": "e95d5e10-6163-41f4-a991-a542c663b228",
   "metadata": {
    "papermill": {
     "duration": 0.027044,
     "end_time": "2023-12-11T14:48:52.539068",
     "exception": false,
     "start_time": "2023-12-11T14:48:52.512024",
     "status": "completed"
    },
    "tags": []
   },
   "source": [
    "The log-linear model has higher R2, so we'll go with it."
   ]
  },
  {
   "cell_type": "markdown",
   "id": "632bde97-c9f0-45da-a115-75c4e65dc830",
   "metadata": {
    "papermill": {
     "duration": 0.018407,
     "end_time": "2023-12-11T14:48:52.575273",
     "exception": false,
     "start_time": "2023-12-11T14:48:52.556866",
     "status": "completed"
    },
    "tags": []
   },
   "source": [
    "### Separate model performance on CpG and non-CpG contexts"
   ]
  },
  {
   "cell_type": "code",
   "execution_count": 19,
   "id": "596de94b-ba4c-44f0-a2a7-a0b1db6912ce",
   "metadata": {
    "execution": {
     "iopub.execute_input": "2023-12-11T14:48:52.627166Z",
     "iopub.status.busy": "2023-12-11T14:48:52.626708Z",
     "iopub.status.idle": "2023-12-11T14:48:53.215768Z",
     "shell.execute_reply": "2023-12-11T14:48:53.214729Z"
    },
    "papermill": {
     "duration": 0.625644,
     "end_time": "2023-12-11T14:48:53.219294",
     "exception": false,
     "start_time": "2023-12-11T14:48:52.593650",
     "status": "completed"
    },
    "tags": []
   },
   "outputs": [
    {
     "name": "stdout",
     "output_type": "stream",
     "text": [
      "R2 for CpG contexts: 0.9013973997192918\n",
      "R2 for non-CpG contexts: 0.96243816565469\n"
     ]
    },
    {
     "data": {
      "text/plain": [
       "<matplotlib.lines._AxLine at 0x7ff08c9bdb80>"
      ]
     },
     "execution_count": 19,
     "metadata": {},
     "output_type": "execute_result"
    },
    {
     "data": {
      "image/png": "[encoded data removed]",
      "text/plain": [
       "<Figure size 500x250 with 2 Axes>"
      ]
     },
     "metadata": {},
     "output_type": "display_data"
    }
   ],
   "source": [
    "# Create the figure\n",
    "fig, axs = plt.subplots(1, 2, figsize=(5, 2.5), layout=\"constrained\")\n",
    "\n",
    "# CpG contexts\n",
    "## Create the variables\n",
    "x = cpg[\"obs\"]\n",
    "y = 1 - np.exp(cpg_results.predict(sm.tools.add_constant(cpg[\"mu\"])))\n",
    "\n",
    "print(f\"R2 for CpG contexts: {r2_score(x,y)}\")\n",
    "\n",
    "## Scatter plot\n",
    "axs[0].scatter(x, y)\n",
    "axs[0].set_xlabel(\"Proportion observed\")\n",
    "axs[0].set_ylabel(\"Fitted proportion\\nobserved\")\n",
    "axs[0].set_title(\"CpG\")\n",
    "\n",
    "## Set axis limits\n",
    "xy_min = min((axs[0].get_xlim()[0], axs[0].get_ylim()[0]))\n",
    "xy_max = max((axs[0].get_xlim()[1], axs[0].get_ylim()[1]))\n",
    "axs[0].set_xlim(xy_min, xy_max)\n",
    "axs[0].set_ylim(xy_min, xy_max)\n",
    "\n",
    "## Add x = y line\n",
    "axs[0].axline((0, 0), slope=1, color=\"grey\", linestyle=\"--\")\n",
    "\n",
    "# Non-CpG contexts\n",
    "## Create the variables\n",
    "_x = ncg[\"obs\"]\n",
    "_y = 1 - np.exp(ncg_results.predict(sm.tools.add_constant(ncg[\"mu\"])))\n",
    "\n",
    "## Print R2 values\n",
    "print(f\"R2 for non-CpG contexts: {r2_score(_x,_y)}\")\n",
    "\n",
    "## Scatter plot\n",
    "axs[1].scatter(_x, _y)\n",
    "axs[1].set_xlabel(\"Proportion observed\")\n",
    "axs[1].set_title(\"Non-CpG\")\n",
    "\n",
    "## Set axis limits\n",
    "xy_min = min((axs[1].get_xlim()[0], axs[1].get_ylim()[0]))\n",
    "xy_max = max((axs[1].get_xlim()[1], axs[1].get_ylim()[1]))\n",
    "axs[1].set_xlim(xy_min, xy_max)\n",
    "axs[1].set_ylim(xy_min, xy_max)\n",
    "\n",
    "## Add x = y line\n",
    "axs[1].axline((0, 0), slope=1, color=\"grey\", linestyle=\"--\")"
   ]
  },
  {
   "cell_type": "markdown",
   "id": "8cc2b0d9-78d2-4492-8713-f8e7d9ca431f",
   "metadata": {
    "papermill": {
     "duration": 0.033479,
     "end_time": "2023-12-11T14:48:53.308396",
     "exception": false,
     "start_time": "2023-12-11T14:48:53.274917",
     "status": "completed"
    },
    "tags": []
   },
   "source": [
    "The separate models are clearly superior in each context. Especially for non-CpG sites."
   ]
  },
  {
   "cell_type": "code",
   "execution_count": 20,
   "id": "567b088e",
   "metadata": {
    "execution": {
     "iopub.execute_input": "2023-12-11T14:48:53.394790Z",
     "iopub.status.busy": "2023-12-11T14:48:53.394196Z",
     "iopub.status.idle": "2023-12-11T14:48:56.951194Z",
     "shell.execute_reply": "2023-12-11T14:48:56.949601Z"
    },
    "papermill": {
     "duration": 3.605773,
     "end_time": "2023-12-11T14:48:56.954291",
     "exception": false,
     "start_time": "2023-12-11T14:48:53.348518",
     "status": "completed"
    },
    "tags": []
   },
   "outputs": [
    {
     "name": "stderr",
     "output_type": "stream",
     "text": [
      "[NbConvertApp] Converting notebook notebooks/01_expectation_model_choices.ipynb to markdown\n",
      "[NbConvertApp] Support files will be in ukb_constraint_coverage_30_files/\n",
      "[NbConvertApp] Writing 10138 bytes to data/logs/notebooks/ukb_constraint_coverage_30.md\n"
     ]
    }
   ],
   "source": [
    "%%capture\n",
    "\n",
    "# Export current notebook to markdown\n",
    "\n",
    "import os\n",
    "\n",
    "os.system(\n",
    "    f\"jupyter nbconvert \\\n",
    "        --output '{Path(os.path.abspath('')).stem}_coverage_{coverage}' \\\n",
    "        --output-dir='data/logs/notebooks' \\\n",
    "        --no-input \\\n",
    "        --to markdown \\\n",
    "        notebooks/01_expectation_model_choices.ipynb\"\n",
    ")"
   ]
  }
 ],
 "metadata": {
  "kernelspec": {
   "display_name": "ukb",
   "language": "python",
   "name": "python3"
  },
  "language_info": {
   "codemirror_mode": {
    "name": "ipython",
    "version": 3
   },
   "file_extension": ".py",
   "mimetype": "text/x-python",
   "name": "python",
   "nbconvert_exporter": "python",
   "pygments_lexer": "ipython3",
   "version": "3.8.17"
  },
  "papermill": {
   "default_parameters": {},
   "duration": 17.009331,
   "end_time": "2023-12-11T14:48:57.410517",
   "environment_variables": {},
   "exception": null,
   "input_path": "notebooks/01_expectation_model_choices.ipynb",
   "output_path": "notebooks/01_expectation_model_choices.ipynb",
   "parameters": {
    "coverage": 30
   },
   "start_time": "2023-12-11T14:48:40.401186",
   "version": "2.4.0"
  }
 },
 "nbformat": 4,
 "nbformat_minor": 5
}
