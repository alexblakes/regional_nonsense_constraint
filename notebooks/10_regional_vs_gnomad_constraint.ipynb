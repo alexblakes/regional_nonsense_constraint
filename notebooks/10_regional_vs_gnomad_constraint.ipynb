{
 "cells": [
  {
   "cell_type": "markdown",
   "metadata": {},
   "source": [
    "# Regional constraint vs gnomAD constraint\n",
    "Exploratory data analysis comparing regional constraint annotations with gnomAD constraint data."
   ]
  },
  {
   "cell_type": "code",
   "execution_count": 2,
   "metadata": {},
   "outputs": [],
   "source": [
    "import pandas as pd\n",
    "from src import constants as C"
   ]
  },
  {
   "cell_type": "markdown",
   "metadata": {},
   "source": [
    "Get the gnomAD v4 constraint data"
   ]
  },
  {
   "cell_type": "code",
   "execution_count": 11,
   "metadata": {},
   "outputs": [
    {
     "data": {
      "text/html": [
       "<div>\n",
       "<style scoped>\n",
       "    .dataframe tbody tr th:only-of-type {\n",
       "        vertical-align: middle;\n",
       "    }\n",
       "\n",
       "    .dataframe tbody tr th {\n",
       "        vertical-align: top;\n",
       "    }\n",
       "\n",
       "    .dataframe thead th {\n",
       "        text-align: right;\n",
       "    }\n",
       "</style>\n",
       "<table border=\"1\" class=\"dataframe\">\n",
       "  <thead>\n",
       "    <tr style=\"text-align: right;\">\n",
       "      <th></th>\n",
       "      <th>gene</th>\n",
       "      <th>transcript</th>\n",
       "      <th>mane_select</th>\n",
       "      <th>lof.pLI</th>\n",
       "      <th>lof.oe_ci.upper</th>\n",
       "      <th>constraint_flags</th>\n",
       "    </tr>\n",
       "  </thead>\n",
       "  <tbody>\n",
       "    <tr>\n",
       "      <th>0</th>\n",
       "      <td>A1BG</td>\n",
       "      <td>ENST00000263100</td>\n",
       "      <td>True</td>\n",
       "      <td>1.712900e-16</td>\n",
       "      <td>1.342</td>\n",
       "      <td>[]</td>\n",
       "    </tr>\n",
       "    <tr>\n",
       "      <th>1</th>\n",
       "      <td>A1BG</td>\n",
       "      <td>ENST00000600966</td>\n",
       "      <td>False</td>\n",
       "      <td>1.814400e-07</td>\n",
       "      <td>1.257</td>\n",
       "      <td>[]</td>\n",
       "    </tr>\n",
       "    <tr>\n",
       "      <th>2</th>\n",
       "      <td>A1BG</td>\n",
       "      <td>NM_130786.4</td>\n",
       "      <td>True</td>\n",
       "      <td>1.712900e-16</td>\n",
       "      <td>1.342</td>\n",
       "      <td>[]</td>\n",
       "    </tr>\n",
       "    <tr>\n",
       "      <th>3</th>\n",
       "      <td>A1CF</td>\n",
       "      <td>ENST00000282641</td>\n",
       "      <td>False</td>\n",
       "      <td>7.432800e-10</td>\n",
       "      <td>0.825</td>\n",
       "      <td>[]</td>\n",
       "    </tr>\n",
       "    <tr>\n",
       "      <th>4</th>\n",
       "      <td>A1CF</td>\n",
       "      <td>ENST00000373993</td>\n",
       "      <td>False</td>\n",
       "      <td>1.055900e-08</td>\n",
       "      <td>0.789</td>\n",
       "      <td>[]</td>\n",
       "    </tr>\n",
       "  </tbody>\n",
       "</table>\n",
       "</div>"
      ],
      "text/plain": [
       "   gene       transcript  mane_select       lof.pLI  lof.oe_ci.upper  \\\n",
       "0  A1BG  ENST00000263100         True  1.712900e-16            1.342   \n",
       "1  A1BG  ENST00000600966        False  1.814400e-07            1.257   \n",
       "2  A1BG      NM_130786.4         True  1.712900e-16            1.342   \n",
       "3  A1CF  ENST00000282641        False  7.432800e-10            0.825   \n",
       "4  A1CF  ENST00000373993        False  1.055900e-08            0.789   \n",
       "\n",
       "  constraint_flags  \n",
       "0               []  \n",
       "1               []  \n",
       "2               []  \n",
       "3               []  \n",
       "4               []  "
      ]
     },
     "execution_count": 11,
     "metadata": {},
     "output_type": "execute_result"
    }
   ],
   "source": [
    "gn = pd.read_csv(\n",
    "    C.GNOMAD_V4_CONSTRAINT,\n",
    "    sep=\"\\t\",\n",
    "    usecols=[\n",
    "        \"gene\",\n",
    "        \"transcript\",\n",
    "        \"mane_select\",\n",
    "        \"lof.pLI\",\n",
    "        \"lof.oe_ci.upper\",\n",
    "        \"constraint_flags\",\n",
    "    ],\n",
    ")\n",
    "gn.head()"
   ]
  },
  {
   "cell_type": "markdown",
   "metadata": {},
   "source": [
    "Get our regional constraint data"
   ]
  },
  {
   "cell_type": "markdown",
   "metadata": {},
   "source": [
    "reg = pd.read_csv(\"\")"
   ]
  }
 ],
 "metadata": {
  "kernelspec": {
   "display_name": "ukb",
   "language": "python",
   "name": "python3"
  },
  "language_info": {
   "codemirror_mode": {
    "name": "ipython",
    "version": 3
   },
   "file_extension": ".py",
   "mimetype": "text/x-python",
   "name": "python",
   "nbconvert_exporter": "python",
   "pygments_lexer": "ipython3",
   "version": "3.8.0"
  }
 },
 "nbformat": 4,
 "nbformat_minor": 2
}
