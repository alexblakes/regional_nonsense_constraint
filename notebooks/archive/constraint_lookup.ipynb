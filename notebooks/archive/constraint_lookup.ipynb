{
 "cells": [
  {
   "cell_type": "code",
   "execution_count": 85,
   "metadata": {
    "tags": []
   },
   "outputs": [],
   "source": [
    "_GENE_NAME = \"SLC16A9\""
   ]
  },
  {
   "cell_type": "code",
   "execution_count": 86,
   "metadata": {},
   "outputs": [],
   "source": [
    "import pandas as pd"
   ]
  },
  {
   "cell_type": "code",
   "execution_count": 87,
   "metadata": {},
   "outputs": [],
   "source": [
    "_IDS = \"data/interim/gene_ids.tsv\"\n",
    "_CONSTRAINT = \"data/final/regional_nonsense_constraint.tsv\"\n",
    "_IX = \"transcript nmd_target start_proximal long_exon distal_nmd\".split()"
   ]
  },
  {
   "cell_type": "code",
   "execution_count": 88,
   "metadata": {},
   "outputs": [],
   "source": [
    "# Find the canonical transcript ID for the gene name\n",
    "ids = pd.read_csv(_IDS, sep=\"\\t\")\n",
    "enst = ids[ids[\"gene_name\"] == _GENE_NAME][\"transcript_id\"].values[0]"
   ]
  },
  {
   "cell_type": "code",
   "execution_count": 89,
   "metadata": {},
   "outputs": [],
   "source": [
    "# Set a categorical index for later sorting\n",
    "ix = pd.Categorical(_IX, categories=_IX, ordered=True)"
   ]
  },
  {
   "cell_type": "code",
   "execution_count": 90,
   "metadata": {},
   "outputs": [
    {
     "data": {
      "text/html": [
       "<div>\n",
       "<style scoped>\n",
       "    .dataframe tbody tr th:only-of-type {\n",
       "        vertical-align: middle;\n",
       "    }\n",
       "\n",
       "    .dataframe tbody tr th {\n",
       "        vertical-align: top;\n",
       "    }\n",
       "\n",
       "    .dataframe thead th {\n",
       "        text-align: right;\n",
       "    }\n",
       "</style>\n",
       "<table border=\"1\" class=\"dataframe\">\n",
       "  <thead>\n",
       "    <tr style=\"text-align: right;\">\n",
       "      <th></th>\n",
       "      <th>gene</th>\n",
       "      <th>enst</th>\n",
       "      <th>region</th>\n",
       "      <th>constraint</th>\n",
       "      <th>oe</th>\n",
       "      <th>oe_ci_hi</th>\n",
       "      <th>pli</th>\n",
       "      <th>loeuf</th>\n",
       "      <th>n_obs</th>\n",
       "      <th>n_exp</th>\n",
       "      <th>fdr_p</th>\n",
       "    </tr>\n",
       "  </thead>\n",
       "  <tbody>\n",
       "    <tr>\n",
       "      <th>0</th>\n",
       "      <td>SLC16A9</td>\n",
       "      <td>ENST00000395348</td>\n",
       "      <td>transcript</td>\n",
       "      <td>NaN</td>\n",
       "      <td>0.535630</td>\n",
       "      <td>0.778340</td>\n",
       "      <td>0.015742</td>\n",
       "      <td>0.7</td>\n",
       "      <td>18</td>\n",
       "      <td>33.605297</td>\n",
       "      <td>0.004194</td>\n",
       "    </tr>\n",
       "    <tr>\n",
       "      <th>1</th>\n",
       "      <td>SLC16A9</td>\n",
       "      <td>ENST00000395348</td>\n",
       "      <td>nmd_target</td>\n",
       "      <td>unconstrained</td>\n",
       "      <td>0.566993</td>\n",
       "      <td>1.076963</td>\n",
       "      <td>0.015742</td>\n",
       "      <td>0.7</td>\n",
       "      <td>6</td>\n",
       "      <td>10.582141</td>\n",
       "      <td>0.303423</td>\n",
       "    </tr>\n",
       "    <tr>\n",
       "      <th>2</th>\n",
       "      <td>SLC16A9</td>\n",
       "      <td>ENST00000395348</td>\n",
       "      <td>start_proximal</td>\n",
       "      <td>constrained</td>\n",
       "      <td>0.000000</td>\n",
       "      <td>0.548186</td>\n",
       "      <td>0.015742</td>\n",
       "      <td>0.7</td>\n",
       "      <td>0</td>\n",
       "      <td>5.161728</td>\n",
       "      <td>0.027773</td>\n",
       "    </tr>\n",
       "    <tr>\n",
       "      <th>3</th>\n",
       "      <td>SLC16A9</td>\n",
       "      <td>ENST00000395348</td>\n",
       "      <td>long_exon</td>\n",
       "      <td>NaN</td>\n",
       "      <td>0.477436</td>\n",
       "      <td>0.910544</td>\n",
       "      <td>0.015742</td>\n",
       "      <td>0.7</td>\n",
       "      <td>6</td>\n",
       "      <td>12.567122</td>\n",
       "      <td>0.136231</td>\n",
       "    </tr>\n",
       "    <tr>\n",
       "      <th>4</th>\n",
       "      <td>SLC16A9</td>\n",
       "      <td>ENST00000395348</td>\n",
       "      <td>distal_nmd</td>\n",
       "      <td>unconstrained</td>\n",
       "      <td>1.133293</td>\n",
       "      <td>2.015727</td>\n",
       "      <td>0.015742</td>\n",
       "      <td>0.7</td>\n",
       "      <td>6</td>\n",
       "      <td>5.294305</td>\n",
       "      <td>0.893843</td>\n",
       "    </tr>\n",
       "  </tbody>\n",
       "</table>\n",
       "</div>"
      ],
      "text/plain": [
       "      gene             enst          region     constraint        oe  \\\n",
       "0  SLC16A9  ENST00000395348      transcript            NaN  0.535630   \n",
       "1  SLC16A9  ENST00000395348      nmd_target  unconstrained  0.566993   \n",
       "2  SLC16A9  ENST00000395348  start_proximal    constrained  0.000000   \n",
       "3  SLC16A9  ENST00000395348       long_exon            NaN  0.477436   \n",
       "4  SLC16A9  ENST00000395348      distal_nmd  unconstrained  1.133293   \n",
       "\n",
       "   oe_ci_hi       pli  loeuf  n_obs      n_exp     fdr_p  \n",
       "0  0.778340  0.015742    0.7     18  33.605297  0.004194  \n",
       "1  1.076963  0.015742    0.7      6  10.582141  0.303423  \n",
       "2  0.548186  0.015742    0.7      0   5.161728  0.027773  \n",
       "3  0.910544  0.015742    0.7      6  12.567122  0.136231  \n",
       "4  2.015727  0.015742    0.7      6   5.294305  0.893843  "
      ]
     },
     "execution_count": 90,
     "metadata": {},
     "output_type": "execute_result"
    }
   ],
   "source": [
    "# Find and order key constraint statistics for the transcript\n",
    "constraint = (\n",
    "    pd.read_csv(\n",
    "        _CONSTRAINT,\n",
    "        sep=\"\\t\",\n",
    "        usecols=\"enst region n_obs n_exp oe oe_ci_hi fdr_p pli loeuf constraint\".split(),\n",
    "    )\n",
    "    .query(\"enst == @enst\")\n",
    "    .set_index(\"region\")\n",
    "    .reindex(ix)\n",
    "    .reset_index()\n",
    "    .assign(gene=_GENE_NAME)\n",
    "    .loc[:, \"gene enst region constraint oe oe_ci_hi pli loeuf n_obs n_exp fdr_p\".split()]\n",
    ")\n",
    "\n",
    "constraint"
   ]
  },
  {
   "cell_type": "code",
   "execution_count": null,
   "metadata": {},
   "outputs": [],
   "source": []
  }
 ],
 "metadata": {
  "kernelspec": {
   "display_name": "ukb",
   "language": "python",
   "name": "python3"
  },
  "language_info": {
   "codemirror_mode": {
    "name": "ipython",
    "version": 3
   },
   "file_extension": ".py",
   "mimetype": "text/x-python",
   "name": "python",
   "nbconvert_exporter": "python",
   "pygments_lexer": "ipython3",
   "version": "3.8.17"
  }
 },
 "nbformat": 4,
 "nbformat_minor": 2
}
