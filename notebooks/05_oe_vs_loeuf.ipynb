{
 "cells": [
  {
   "cell_type": "markdown",
   "metadata": {},
   "source": [
    "# Nonsense O/E vs LOEUF\n",
    "Explore the relationship between nonsense O/E values and LOEUF scores\n"
   ]
  },
  {
   "cell_type": "code",
   "execution_count": 242,
   "metadata": {},
   "outputs": [],
   "source": [
    "import matplotlib.pyplot as plt\n",
    "import pandas as pd\n",
    "import statsmodels.api as sm\n",
    "\n",
    "from src import constants as C"
   ]
  },
  {
   "cell_type": "code",
   "execution_count": 243,
   "metadata": {},
   "outputs": [],
   "source": [
    "_FILE_IN = \"data/final/regional_nonsense_constraint.tsv\"\n",
    "OE_SVG = \"data/plots/constraint/oe_vs_loeuf.svg\"\n",
    "OE_PNG = \"data/plots/constraint/oe_vs_loeuf.png\"\n",
    "OE_CI_SVG = \"data/plots/constraint/oe_ci_hi_vs_loeuf.svg\"\n",
    "OE_CI_PNG = \"data/plots/constraint/oe_ci_hi_vs_loeuf.png\""
   ]
  },
  {
   "cell_type": "code",
   "execution_count": 244,
   "metadata": {},
   "outputs": [],
   "source": [
    "plt.style.use(C.STYLE_DEFAULT)"
   ]
  },
  {
   "cell_type": "code",
   "execution_count": 245,
   "metadata": {},
   "outputs": [],
   "source": [
    "def filter_transcripts(df):\n",
    "    return df[df[\"region\"] == \"transcript\"].copy()"
   ]
  },
  {
   "cell_type": "code",
   "execution_count": 246,
   "metadata": {},
   "outputs": [],
   "source": [
    "def get_interest_cols(df, *args):\n",
    "    interest = df[list(args)].copy().dropna()\n",
    "    print(f\"Transcripts with valid O/E and LOEUF scores: {len(interest)}\")\n",
    "    return interest"
   ]
  },
  {
   "cell_type": "code",
   "execution_count": 247,
   "metadata": {},
   "outputs": [],
   "source": [
    "def ols_results(df):\n",
    "    X = df.iloc[:,0]\n",
    "    X = sm.add_constant(X)\n",
    "    Y = df.iloc[:,1]\n",
    "\n",
    "    model = sm.OLS(Y,X, missing=\"drop\")\n",
    "    results = model.fit()\n",
    "\n",
    "    return results"
   ]
  },
  {
   "cell_type": "code",
   "execution_count": 248,
   "metadata": {},
   "outputs": [],
   "source": [
    "def hexbin_plot(df, results, xlabel, ylabel=\"LOEUF\"):\n",
    "    fig, ax = plt.subplots(1, 1, figsize=(5 * C.CM, 5 * C.CM), layout=\"constrained\")\n",
    "    ax.hexbin(df.iloc[:, 0], df.iloc[:, 1], cmap=\"Blues\")\n",
    "    # ax.axline((0,0), slope=1, ls=\"--\",c = \"grey\")\n",
    "    ax.text(\n",
    "        0.95,\n",
    "        0.05,\n",
    "        f\"$r^2$ = {results.rsquared:.2f}\",\n",
    "        transform=ax.transAxes,\n",
    "        ha=\"right\",\n",
    "        va=\"bottom\",\n",
    "    )\n",
    "    ax.set_xlabel(xlabel)\n",
    "    ax.set_ylabel(ylabel)\n",
    "    return fig, ax"
   ]
  },
  {
   "cell_type": "code",
   "execution_count": 249,
   "metadata": {},
   "outputs": [],
   "source": [
    "def plot_regression_line(results, ax=None):\n",
    "    if not ax:\n",
    "        ax = plt.gca()\n",
    "        \n",
    "    ax.axline((0, results.params[0]), slope=results.params[1], c=\"k\")\n",
    "\n",
    "    return ax"
   ]
  },
  {
   "cell_type": "markdown",
   "metadata": {},
   "source": [
    "## Read regional constraint data"
   ]
  },
  {
   "cell_type": "code",
   "execution_count": 250,
   "metadata": {},
   "outputs": [],
   "source": [
    "df = pd.read_csv(_FILE_IN, sep=\"\\t\")"
   ]
  },
  {
   "cell_type": "markdown",
   "metadata": {},
   "source": [
    "## O/E vs LOEUF"
   ]
  },
  {
   "cell_type": "code",
   "execution_count": 251,
   "metadata": {},
   "outputs": [
    {
     "name": "stdout",
     "output_type": "stream",
     "text": [
      "Transcripts with valid O/E and LOEUF scores: 18105\n"
     ]
    }
   ],
   "source": [
    "oe = filter_transcripts(df).pipe(get_interest_cols, \"oe\",\"loeuf\")"
   ]
  },
  {
   "cell_type": "code",
   "execution_count": 252,
   "metadata": {},
   "outputs": [
    {
     "data": {
      "text/html": [
       "<table class=\"simpletable\">\n",
       "<caption>OLS Regression Results</caption>\n",
       "<tr>\n",
       "  <th>Dep. Variable:</th>      <td>loeuf</td>   <th>  R-squared:         </th> <td>   0.587</td> \n",
       "</tr>\n",
       "<tr>\n",
       "  <th>Model:</th>               <td>OLS</td>    <th>  Adj. R-squared:    </th> <td>   0.587</td> \n",
       "</tr>\n",
       "<tr>\n",
       "  <th>No. Observations:</th>  <td> 18105</td>   <th>  F-statistic:       </th> <td>2.573e+04</td>\n",
       "</tr>\n",
       "<tr>\n",
       "  <th>Covariance Type:</th>  <td>nonrobust</td> <th>  Prob (F-statistic):</th>  <td>  0.00</td>  \n",
       "</tr>\n",
       "</table>\n",
       "<table class=\"simpletable\">\n",
       "<tr>\n",
       "    <td></td>       <th>coef</th>     <th>std err</th>      <th>t</th>      <th>P>|t|</th>  <th>[0.025</th>    <th>0.975]</th>  \n",
       "</tr>\n",
       "<tr>\n",
       "  <th>const</th> <td>    0.2729</td> <td>    0.005</td> <td>   54.290</td> <td> 0.000</td> <td>    0.263</td> <td>    0.283</td>\n",
       "</tr>\n",
       "<tr>\n",
       "  <th>oe</th>    <td>    1.0506</td> <td>    0.007</td> <td>  160.420</td> <td> 0.000</td> <td>    1.038</td> <td>    1.063</td>\n",
       "</tr>\n",
       "</table><br/><br/>Notes:<br/>[1] Standard Errors assume that the covariance matrix of the errors is correctly specified."
      ],
      "text/latex": [
       "\\begin{center}\n",
       "\\begin{tabular}{lclc}\n",
       "\\toprule\n",
       "\\textbf{Dep. Variable:}    &     loeuf     & \\textbf{  R-squared:         } &     0.587   \\\\\n",
       "\\textbf{Model:}            &      OLS      & \\textbf{  Adj. R-squared:    } &     0.587   \\\\\n",
       "\\textbf{No. Observations:} &      18105    & \\textbf{  F-statistic:       } & 2.573e+04   \\\\\n",
       "\\textbf{Covariance Type:}  &   nonrobust   & \\textbf{  Prob (F-statistic):} &     0.00    \\\\\n",
       "\\bottomrule\n",
       "\\end{tabular}\n",
       "\\begin{tabular}{lcccccc}\n",
       "               & \\textbf{coef} & \\textbf{std err} & \\textbf{t} & \\textbf{P$> |$t$|$} & \\textbf{[0.025} & \\textbf{0.975]}  \\\\\n",
       "\\midrule\n",
       "\\textbf{const} &       0.2729  &        0.005     &    54.290  &         0.000        &        0.263    &        0.283     \\\\\n",
       "\\textbf{oe}    &       1.0506  &        0.007     &   160.420  &         0.000        &        1.038    &        1.063     \\\\\n",
       "\\bottomrule\n",
       "\\end{tabular}\n",
       "%\\caption{OLS Regression Results}\n",
       "\\end{center}\n",
       "\n",
       "Notes: \\newline\n",
       " [1] Standard Errors assume that the covariance matrix of the errors is correctly specified."
      ],
      "text/plain": [
       "<class 'statsmodels.iolib.summary.Summary'>\n",
       "\"\"\"\n",
       "                            OLS Regression Results                            \n",
       "==============================================================================\n",
       "Dep. Variable:                  loeuf   R-squared:                       0.587\n",
       "Model:                            OLS   Adj. R-squared:                  0.587\n",
       "No. Observations:               18105   F-statistic:                 2.573e+04\n",
       "Covariance Type:            nonrobust   Prob (F-statistic):               0.00\n",
       "==============================================================================\n",
       "                 coef    std err          t      P>|t|      [0.025      0.975]\n",
       "------------------------------------------------------------------------------\n",
       "const          0.2729      0.005     54.290      0.000       0.263       0.283\n",
       "oe             1.0506      0.007    160.420      0.000       1.038       1.063\n",
       "==============================================================================\n",
       "\n",
       "Notes:\n",
       "[1] Standard Errors assume that the covariance matrix of the errors is correctly specified.\n",
       "\"\"\""
      ]
     },
     "execution_count": 252,
     "metadata": {},
     "output_type": "execute_result"
    }
   ],
   "source": [
    "results = ols_results(oe)\n",
    "results.summary(slim=True)"
   ]
  },
  {
   "cell_type": "code",
   "execution_count": 253,
   "metadata": {},
   "outputs": [
    {
     "data": {
      "image/png": "[encoded data removed]",
      "text/plain": [
       "<Figure size 196.85x196.85 with 1 Axes>"
      ]
     },
     "metadata": {},
     "output_type": "display_data"
    }
   ],
   "source": [
    "fig, ax = hexbin_plot(oe[oe[\"oe\"] <= 2], results, \"Nonsense O/E\")"
   ]
  },
  {
   "cell_type": "markdown",
   "metadata": {},
   "source": [
    "## Nonsense O/E CI upper vs LOEUF"
   ]
  },
  {
   "cell_type": "code",
   "execution_count": 254,
   "metadata": {},
   "outputs": [
    {
     "name": "stdout",
     "output_type": "stream",
     "text": [
      "Transcripts with valid O/E and LOEUF scores: 18105\n"
     ]
    }
   ],
   "source": [
    "ci = filter_transcripts(df).pipe(get_interest_cols, \"oe_ci_hi\",\"loeuf\")"
   ]
  },
  {
   "cell_type": "code",
   "execution_count": 255,
   "metadata": {},
   "outputs": [
    {
     "data": {
      "text/html": [
       "<table class=\"simpletable\">\n",
       "<caption>OLS Regression Results</caption>\n",
       "<tr>\n",
       "  <th>Dep. Variable:</th>      <td>loeuf</td>   <th>  R-squared:         </th> <td>   0.679</td> \n",
       "</tr>\n",
       "<tr>\n",
       "  <th>Model:</th>               <td>OLS</td>    <th>  Adj. R-squared:    </th> <td>   0.679</td> \n",
       "</tr>\n",
       "<tr>\n",
       "  <th>No. Observations:</th>  <td> 18105</td>   <th>  F-statistic:       </th> <td>3.823e+04</td>\n",
       "</tr>\n",
       "<tr>\n",
       "  <th>Covariance Type:</th>  <td>nonrobust</td> <th>  Prob (F-statistic):</th>  <td>  0.00</td>  \n",
       "</tr>\n",
       "</table>\n",
       "<table class=\"simpletable\">\n",
       "<tr>\n",
       "      <td></td>        <th>coef</th>     <th>std err</th>      <th>t</th>      <th>P>|t|</th>  <th>[0.025</th>    <th>0.975]</th>  \n",
       "</tr>\n",
       "<tr>\n",
       "  <th>const</th>    <td>    0.1541</td> <td>    0.005</td> <td>   32.574</td> <td> 0.000</td> <td>    0.145</td> <td>    0.163</td>\n",
       "</tr>\n",
       "<tr>\n",
       "  <th>oe_ci_hi</th> <td>    0.8238</td> <td>    0.004</td> <td>  195.516</td> <td> 0.000</td> <td>    0.816</td> <td>    0.832</td>\n",
       "</tr>\n",
       "</table><br/><br/>Notes:<br/>[1] Standard Errors assume that the covariance matrix of the errors is correctly specified."
      ],
      "text/latex": [
       "\\begin{center}\n",
       "\\begin{tabular}{lclc}\n",
       "\\toprule\n",
       "\\textbf{Dep. Variable:}    &     loeuf     & \\textbf{  R-squared:         } &     0.679   \\\\\n",
       "\\textbf{Model:}            &      OLS      & \\textbf{  Adj. R-squared:    } &     0.679   \\\\\n",
       "\\textbf{No. Observations:} &      18105    & \\textbf{  F-statistic:       } & 3.823e+04   \\\\\n",
       "\\textbf{Covariance Type:}  &   nonrobust   & \\textbf{  Prob (F-statistic):} &     0.00    \\\\\n",
       "\\bottomrule\n",
       "\\end{tabular}\n",
       "\\begin{tabular}{lcccccc}\n",
       "                    & \\textbf{coef} & \\textbf{std err} & \\textbf{t} & \\textbf{P$> |$t$|$} & \\textbf{[0.025} & \\textbf{0.975]}  \\\\\n",
       "\\midrule\n",
       "\\textbf{const}      &       0.1541  &        0.005     &    32.574  &         0.000        &        0.145    &        0.163     \\\\\n",
       "\\textbf{oe\\_ci\\_hi} &       0.8238  &        0.004     &   195.516  &         0.000        &        0.816    &        0.832     \\\\\n",
       "\\bottomrule\n",
       "\\end{tabular}\n",
       "%\\caption{OLS Regression Results}\n",
       "\\end{center}\n",
       "\n",
       "Notes: \\newline\n",
       " [1] Standard Errors assume that the covariance matrix of the errors is correctly specified."
      ],
      "text/plain": [
       "<class 'statsmodels.iolib.summary.Summary'>\n",
       "\"\"\"\n",
       "                            OLS Regression Results                            \n",
       "==============================================================================\n",
       "Dep. Variable:                  loeuf   R-squared:                       0.679\n",
       "Model:                            OLS   Adj. R-squared:                  0.679\n",
       "No. Observations:               18105   F-statistic:                 3.823e+04\n",
       "Covariance Type:            nonrobust   Prob (F-statistic):               0.00\n",
       "==============================================================================\n",
       "                 coef    std err          t      P>|t|      [0.025      0.975]\n",
       "------------------------------------------------------------------------------\n",
       "const          0.1541      0.005     32.574      0.000       0.145       0.163\n",
       "oe_ci_hi       0.8238      0.004    195.516      0.000       0.816       0.832\n",
       "==============================================================================\n",
       "\n",
       "Notes:\n",
       "[1] Standard Errors assume that the covariance matrix of the errors is correctly specified.\n",
       "\"\"\""
      ]
     },
     "execution_count": 255,
     "metadata": {},
     "output_type": "execute_result"
    }
   ],
   "source": [
    "results = ols_results(ci)\n",
    "results.summary(slim=True)"
   ]
  },
  {
   "cell_type": "code",
   "execution_count": 256,
   "metadata": {},
   "outputs": [
    {
     "data": {
      "image/png": "[encoded data removed]",
      "text/plain": [
       "<Figure size 196.85x196.85 with 1 Axes>"
      ]
     },
     "metadata": {},
     "output_type": "display_data"
    }
   ],
   "source": [
    "fig, ax = hexbin_plot(ci[ci[\"oe_ci_hi\"] <= 2], results, \"Nonsense O/E CI upper\")"
   ]
  }
 ],
 "metadata": {
  "kernelspec": {
   "display_name": "ukb",
   "language": "python",
   "name": "python3"
  },
  "language_info": {
   "codemirror_mode": {
    "name": "ipython",
    "version": 3
   },
   "file_extension": ".py",
   "mimetype": "text/x-python",
   "name": "python",
   "nbconvert_exporter": "python",
   "pygments_lexer": "ipython3",
   "version": "3.8.17"
  }
 },
 "nbformat": 4,
 "nbformat_minor": 2
}
